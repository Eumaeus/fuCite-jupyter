{
 "cells": [
  {
   "cell_type": "markdown",
   "metadata": {},
   "source": [
    "# Overview of Jupyter notebooks for numismatic data\n",
    "\n",
    "A list of Jupyter notebooks in this repository for working with data from `nomisma.org`, grouped by topic.  The notebooks accompany a series of [blog posts on digital numismatics](http://neelsmith.info/tag-coins/).\n",
    "\n",
    "The first notebooks in this repository work with data from [OCRE](http://numismatics.org/ocre/), the *Online Coins of the Roman Empire*.\n",
    "\n",
    "\n",
    "## Retreiving and constructing datasets\n",
    "\n",
    "- [Loading and parsing OCRE data](building/Reading_ocre_data.ipynb)\n",
    "- [Verifying the contents of an `Ocre` object](building/Verifying_ocre.ipynb)\n",
    "- Building a citable text corpus from OCRE\n",
    "\n",
    "## Analyzing data in OCRE\n",
    "\n",
    "- [Summarizing the contents of OCRE](ocre/Summarizing_ocre.ipynb)\n",
    "- Parsing the morphology of an OCRE text corpus\n",
    "\n",
    "## Tweeting in the Roman empire\n",
    "\n",
    "-  Tweeting?"
   ]
  }
 ],
 "metadata": {
  "kernelspec": {
   "display_name": "Scala (2.12)",
   "language": "scala",
   "name": "scala212"
  },
  "language_info": {
   "codemirror_mode": "text/x-scala",
   "file_extension": ".scala",
   "mimetype": "text/x-scala",
   "name": "scala",
   "nbconvert_exporter": "script",
   "version": "2.12.10"
  }
 },
 "nbformat": 4,
 "nbformat_minor": 2
}
