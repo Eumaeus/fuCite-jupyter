{
 "cells": [
  {
   "cell_type": "markdown",
   "metadata": {},
   "source": [
    "# Summarizing data in OCRE\n",
    "\n",
    "\n",
    "[A previous notebook](https://mybinder.org/v2/gh/neelsmith/nomisma-jupyter/master?filepath=building%2FVerifying_ocre.ipynb) showed how to get an overview of the contents of data in OCRE.  This notebook shows you how to summarize and graph distributions of different values for OCRE properties.  It uses version `1.5.0` of the `nomisma` library.\n"
   ]
  },
  {
   "cell_type": "markdown",
   "metadata": {},
   "source": [
    "\n",
    "## Configure Jupyter notebook\n",
    "\n",
    "First configure the Jupyter notebook to find the `nomisma` library.  (You could do the same thing in other environments with `sbt` or `maven`.)  In addition to the `nomisma` library, we use `plotly` for graph plots, and a `histoutils` package to simplify the working with histograms."
   ]
  },
  {
   "cell_type": "code",
   "execution_count": null,
   "metadata": {},
   "outputs": [],
   "source": [
    "// 1. Add maven repository where we can find our libraries\n",
    "val myBT = coursierapi.MavenRepository.of(\"https://dl.bintray.com/neelsmith/maven\")\n",
    "interp.repositories() ++= Seq(myBT)"
   ]
  },
  {
   "cell_type": "code",
   "execution_count": null,
   "metadata": {},
   "outputs": [],
   "source": [
    "// 2. Make libraries available with `$ivy` imports:\n",
    "import $ivy.`edu.holycross.shot::nomisma:1.5.0`\n",
    "import $ivy.`edu.holycross.shot::histoutils:2.2.0`\n",
    "import $ivy.`org.plotly-scala::plotly-almond:0.7.1`"
   ]
  },
  {
   "cell_type": "markdown",
   "metadata": {},
   "source": [
    "## Load the full OCRE data set"
   ]
  },
  {
   "cell_type": "code",
   "execution_count": null,
   "metadata": {},
   "outputs": [],
   "source": [
    "import edu.holycross.shot.nomisma._\n",
    "val ocreCex = \"https://raw.githubusercontent.com/neelsmith/nomisma/master/cex/ocre-cite-ids.cex\"\n",
    "val ocre = OcreSource.fromUrl(ocreCex)\n",
    "\n",
    "// Sanity check:\n",
    "require(ocre.size > 50000) "
   ]
  },
  {
   "cell_type": "markdown",
   "metadata": {},
   "source": [
    "## How are issues distributed?\n",
    "\n",
    "Let's start with distribution by year."
   ]
  },
  {
   "cell_type": "code",
   "execution_count": null,
   "metadata": {},
   "outputs": [],
   "source": [
    "val years = ocre.datable.issues.map(_.dateRange.get.pointAverage)\n",
    "val frequencies = years.groupBy(yr => yr).toVector.map{ case (k,v) => Frequency(k,v.size)}\n",
    "val histogram = edu.holycross.shot.histoutils.Histogram(frequencies)"
   ]
  },
  {
   "cell_type": "markdown",
   "metadata": {},
   "source": [
    "How many issues are recorded for each issuing authority?  That's a straightforward question to answer with a common Scala idiom:  \n",
    "\n",
    "1. select all the authority values (` ocre.issues.map(_.authority)`)\n",
    "2. cluster occurrences of the same authority together (`.groupBy(auth => auth)`). The result maps each authority name to a list of occurrences of that name.\n",
    "3.  map the key/value pairing to a pairing of key->count of the list's size.  For convenience we'll store the key/count pair in a `Frequency` object from the `histoutils` library.\n",
    "\n",
    "With a list of `Frequency`s, we can construct a `Histogram`.\n"
   ]
  },
  {
   "cell_type": "code",
   "execution_count": null,
   "metadata": {},
   "outputs": [],
   "source": [
    "import edu.holycross.shot.histoutils._\n",
    "\n",
    "val authorityFreqs = ocre.issues.map(_.authority).groupBy(auth => auth).map { case (k,v) => Frequency(k, v.size)}\n",
    "val authorityHistogram = edu.holycross.shot.histoutils.Histogram(authorityFreqs.toVector)"
   ]
  },
  {
   "cell_type": "markdown",
   "metadata": {},
   "source": [
    "Let's visualize the resulting histogram as a bar graph using the `plotly` library:"
   ]
  },
  {
   "cell_type": "code",
   "execution_count": null,
   "metadata": {},
   "outputs": [],
   "source": [
    "// 1. Import plotly libraries, and set display defaults suggested for use in Jupyter NBs:\n",
    "import plotly._, plotly.element._, plotly.layout._, plotly.Almond._\n",
    "repl.pprinter() = repl.pprinter().copy(defaultHeight = 3)"
   ]
  },
  {
   "cell_type": "code",
   "execution_count": null,
   "metadata": {},
   "outputs": [],
   "source": [
    "val years = ocre.datable.issues.map(_.dateRange.get.pointAverage)\n",
    "val frequencies = years.groupBy(yr => yr).toVector.map{ case (k,v) => Frequency(k,v.size)}\n",
    "\n",
    "\n",
    "val yrVals = frequencies.sortBy(_.item).map(_.item)\n",
    "val counts = frequencies.sortBy(_.item).map(_.count)\n",
    "\n",
    "val yearPlot = Seq(\n",
    "  Bar(\n",
    "   yrVals, counts\n",
    "  )\n",
    ")\n",
    "plot(yearPlot)\n",
    "     "
   ]
  },
  {
   "cell_type": "markdown",
   "metadata": {},
   "source": [
    "Sort the histogram from largest to smallest number of issues, and plot the number of issues by each authority:"
   ]
  },
  {
   "cell_type": "code",
   "execution_count": null,
   "metadata": {},
   "outputs": [],
   "source": [
    "val authNames = authorityHistogram.sorted.frequencies.map(_.item)\n",
    "val authCounts = authorityHistogram.sorted.frequencies.map(_.count)\n",
    "val authPlot = Seq(\n",
    "  Bar(\n",
    "   authNames, authCounts\n",
    "  )\n",
    ")\n",
    "plot(authPlot)\n"
   ]
  },
  {
   "cell_type": "markdown",
   "metadata": {},
   "source": [
    "Now let's view the number of issues struck by each issuing authority in chronological sequence.  The x-axis represents years:  each issuing authority is plotted at the mid point of that issuer's production. "
   ]
  },
  {
   "cell_type": "code",
   "execution_count": null,
   "metadata": {},
   "outputs": [],
   "source": [
    "val authGroups = ocre.datable.issues.groupBy(_.authority)\n",
    "val ocreMaps = authGroups.map{case (k,v) => (k, Ocre(v))}\n",
    "val chronMaps = ocreMaps.map{ case (k,ocre) => (ocre.dateRange.pointAverage, ocre)}\n",
    "val chronSorted = chronMaps.toVector.sortBy(_._1)\n",
    "\n",
    "val datePoints = chronSorted.map(_._1)\n",
    "val issueCounts = chronSorted.map(_._2.size)\n",
    "\n",
    "val nameLabels = chronSorted.map(_._2.issues.map(_.authority).distinct).flatten\n",
    "\n",
    "val issueChronPlot = Seq(\n",
    "  Bar(\n",
    "   datePoints, issueCounts, \n",
    "   name = \"Issues per authority\",\n",
    "    showlegend = true,\n",
    "      text = nameLabels\n",
    "    \n",
    "  )\n",
    ")\n",
    "plot(issueChronPlot)\n",
    "\n"
   ]
  }
 ],
 "metadata": {
  "kernelspec": {
   "display_name": "Scala 2.12",
   "language": "scala",
   "name": "scala212"
  },
  "language_info": {
   "codemirror_mode": "text/x-scala",
   "file_extension": ".scala",
   "mimetype": "text/x-scala",
   "name": "scala",
   "nbconvert_exporter": "script",
   "version": "2.12.10"
  }
 },
 "nbformat": 4,
 "nbformat_minor": 2
}
