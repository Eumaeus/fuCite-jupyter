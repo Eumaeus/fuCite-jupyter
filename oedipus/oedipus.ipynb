{
  "cells": [
    {
      "cell_type": "markdown",
      "source": [
        "# Basic CTS in Jupyter Notebooks\n",
        "\n",
        "\n"
      ],
      "metadata": {}
    },
    {
      "cell_type": "markdown",
      "source": [
        "## Configuring CITE libraries for almond kernel\n",
        "\n",
        "First, we'll make a bintray repository with CITE libraries available to your almond kernel."
      ],
      "metadata": {}
    },
    {
      "cell_type": "code",
      "source": [
        "val myBT = coursierapi.MavenRepository.of(\"https://dl.bintray.com/neelsmith/maven\")\n",
        "interp.repositories() ++= Seq(myBT)"
      ],
      "outputs": [
        {
          "output_type": "execute_result",
          "execution_count": 1,
          "data": {
            "text/plain": [
              "\u001b[36mmyBT\u001b[39m: \u001b[32mcoursierapi\u001b[39m.\u001b[32mMavenRepository\u001b[39m = MavenRepository(https://dl.bintray.com/neelsmith/maven)"
            ]
          },
          "metadata": {}
        }
      ],
      "execution_count": 1,
      "metadata": {}
    },
    {
      "cell_type": "markdown",
      "source": [
        "Next, we bring in specific libraries from the new repository using almond's `$ivy` magic:"
      ],
      "metadata": {}
    },
    {
      "cell_type": "code",
      "source": [
        "import $ivy.`edu.holycross.shot::ohco2:10.16.0`\n",
        "import $ivy.`edu.holycross.shot.cite::xcite:4.1.1`\n",
        "import $ivy.`com.github.tototoshi::scala-csv:1.3.6`"
      ],
      "outputs": [
        {
          "output_type": "stream",
          "name": "stderr",
          "text": [
            "Downloading https://repo1.maven.org/maven2/org/scala-lang/scala-library/2.12.8/scala-library-2.12.8-sources.jar\n",
            "Downloading https://repo1.maven.org/maven2/com/github/tototoshi/scala-csv_2.12/1.3.6/scala-csv_2.12-1.3.6-sources.jar\n",
            "Downloaded https://repo1.maven.org/maven2/com/github/tototoshi/scala-csv_2.12/1.3.6/scala-csv_2.12-1.3.6-sources.jar\n",
            "Downloaded https://repo1.maven.org/maven2/org/scala-lang/scala-library/2.12.8/scala-library-2.12.8-sources.jar\n"
          ]
        },
        {
          "output_type": "execute_result",
          "execution_count": 8,
          "data": {
            "text/plain": [
              "\u001b[32mimport \u001b[39m\u001b[36m$ivy.$                                  \n",
              "\u001b[39m\n",
              "\u001b[32mimport \u001b[39m\u001b[36m$ivy.$                                     \n",
              "\u001b[39m\n",
              "\u001b[32mimport \u001b[39m\u001b[36m$ivy.$                                      \u001b[39m"
            ]
          },
          "metadata": {}
        }
      ],
      "execution_count": 8,
      "metadata": {}
    },
    {
      "cell_type": "markdown",
      "source": [
        "## Imports\n",
        "\n",
        "From this point on, your notebook consists of completely generic Scala, with the CITE Libraries available to use."
      ],
      "metadata": {}
    },
    {
      "cell_type": "code",
      "source": [
        "// Import some CITE libraries\n",
        "import edu.holycross.shot.cite._\n",
        "import edu.holycross.shot.ohco2._\n",
        "// Import misc other libraries\n",
        "import scala.io.Source\n",
        "import com.github.tototoshi.csv._"
      ],
      "outputs": [
        {
          "output_type": "execute_result",
          "execution_count": 9,
          "data": {
            "text/plain": [
              "\u001b[32mimport \u001b[39m\u001b[36medu.holycross.shot.cite._\n",
              "\u001b[39m\n",
              "\u001b[32mimport \u001b[39m\u001b[36medu.holycross.shot.ohco2._\n",
              "// Import misc other libraries\n",
              "\u001b[39m\n",
              "\u001b[32mimport \u001b[39m\u001b[36mscala.io.Source\n",
              "\u001b[39m\n",
              "\u001b[32mimport \u001b[39m\u001b[36mcom.github.tototoshi.csv._\u001b[39m"
            ]
          },
          "metadata": {}
        }
      ],
      "execution_count": 9,
      "metadata": {}
    },
    {
      "cell_type": "markdown",
      "source": [
        "## Utilities & Classes"
      ],
      "metadata": {}
    },
    {
      "cell_type": "code",
      "source": [
        "def prettyPrintCorpus( corp: Corpus ): Unit = {\n",
        "    for ( n <- corp.nodes ) {\n",
        "        val psg: String = n.urn.passageComponent\n",
        "        val txt: String = n.text\n",
        "        println( s\"${psg}. ${txt}\" )\n",
        "    }\n",
        "}"
      ],
      "outputs": [
        {
          "output_type": "execute_result",
          "execution_count": 4,
          "data": {
            "text/plain": [
              "defined \u001b[32mfunction\u001b[39m \u001b[36mprettyPrintCorpus\u001b[39m"
            ]
          },
          "metadata": {}
        }
      ],
      "execution_count": 4,
      "metadata": {}
    },
    {
      "cell_type": "code",
      "source": [
        "case class OToken( \n",
        "\t\tlineNo: String, \n",
        "\t\ttokenNo: Int,\n",
        "\t\tctsUrn: CtsUrn,\n",
        "\t\tsentenceUrn: Cite2Urn,\n",
        "\t\tsentenceSeq: Int,\n",
        "\t\ttokenUrn: Cite2Urn,\n",
        "\t\ttokenSeq: Int,\n",
        "\t\theadTokenUrn: Option[Cite2Urn],\n",
        "\t\tsurfaceForm: String,\n",
        "\t\tlemma: String,\n",
        "\t\tpos: Option[Cite2Urn],\n",
        "\t\tperson: Option[Cite2Urn],\n",
        "\t\tnumber: Option[Cite2Urn],\n",
        "\t\ttense: Option[Cite2Urn],\n",
        "\t\tmood: Option[Cite2Urn],\n",
        "\t\tvoice: Option[Cite2Urn],\n",
        "\t\tgender: Option[Cite2Urn],\n",
        "\t\tgrammaticalCase: Option[Cite2Urn],\n",
        "\t\tdegree: Option[Cite2Urn],\n",
        "\t\theadTokenLemma: Option[String],\n",
        "\t\trelation: String,\n",
        "\t\twhoSaidIt: String\n",
        "\t)"
      ],
      "outputs": [
        {
          "output_type": "execute_result",
          "execution_count": 5,
          "data": {
            "text/plain": [
              "defined \u001b[32mclass\u001b[39m \u001b[36mOToken\u001b[39m"
            ]
          },
          "metadata": {}
        }
      ],
      "execution_count": 5,
      "metadata": {}
    },
    {
      "cell_type": "markdown",
      "source": [
        "## Load Data"
      ],
      "metadata": {}
    },
    {
      "cell_type": "markdown",
      "source": [
        "Get the token-data as a CSV object"
      ],
      "metadata": {}
    },
    {
      "cell_type": "code",
      "source": [
        "val reader = CSVReader.open(scala.io.Source.fromURL(\"https://raw.githubusercontent.com/Eumaeus/Oedipus_2019/master/src/resources/ot_all.csv\"))"
      ],
      "outputs": [],
      "execution_count": null,
      "metadata": {}
    },
    {
      "cell_type": "markdown",
      "source": [
        "Render that into an Vector of `OToken` objects."
      ],
      "metadata": {}
    },
    {
      "cell_type": "code",
      "source": [
        "// Get a vector of OToken\n",
        "val otvec: Vector[OToken] = reader.all.tail.map( r => {\n",
        "\t\t\tOToken(r(0), r(1).toInt, CtsUrn(r(2)), Cite2Urn(r(3)), r(4).toInt, Cite2Urn(r(5)), r(6).toInt, Some(Cite2Urn(r(7))), r(8), r(9), if (r(10) == \"null\") None else Some(Cite2Urn(r(10))), if (r(11) == \"null\") None else Some(Cite2Urn(r(11))), if (r(12) == \"null\") None else Some(Cite2Urn(r(12))), if (r(13) == \"null\") None else Some(Cite2Urn(r(13))), if (r(14) == \"null\") None else Some(Cite2Urn(r(14))), if (r(15) == \"null\") None else Some(Cite2Urn(r(15))), if (r(16) == \"null\") None else Some(Cite2Urn(r(16))), if (r(17) == \"null\") None else Some(Cite2Urn(r(17))), if (r(18) == \"null\") None else Some(Cite2Urn(r(18))), if (r(19) == \"null\") None else Some(r(19)), r(20), r(21) ) }).toVector"
      ],
      "outputs": [
        {
          "output_type": "execute_result",
          "execution_count": 11,
          "data": {
            "text/plain": [
              "\u001b[36motvec\u001b[39m: \u001b[32mVector\u001b[39m[\u001b[32mOToken\u001b[39m] = \u001b[33mVector\u001b[39m(\n",
              "  \u001b[33mOToken\u001b[39m(\n",
              "    \u001b[32m\"1\"\u001b[39m,\n",
              "    \u001b[32m1\u001b[39m,\n",
              "    \u001b[33mCtsUrn\u001b[39m(\u001b[32m\"urn:cts:greekLit:tlg0011.tlg004.fu04:1.1\"\u001b[39m),\n",
              "    \u001b[33mCite2Urn\u001b[39m(\u001b[32m\"urn:cite2:fuSyntax:0011004sentences.v1:2386546\"\u001b[39m),\n",
              "    \u001b[32m1\u001b[39m,\n",
              "    \u001b[33mCite2Urn\u001b[39m(\u001b[32m\"urn:cite2:fuSyntax:0011004tokens.v1:2386546_1\"\u001b[39m),\n",
              "    \u001b[32m1\u001b[39m,\n",
              "    \u001b[33mSome\u001b[39m(\u001b[33mCite2Urn\u001b[39m(\u001b[32m\"urn:cite2:fuSyntax:0011004tokens.v1:2386546_2\"\u001b[39m)),\n",
              "    \u001b[32m\"\\u1f66\"\u001b[39m,\n",
              "    \u001b[32m\"\\u1f661\"\u001b[39m,\n",
              "    \u001b[33mSome\u001b[39m(\u001b[33mCite2Urn\u001b[39m(\u001b[32m\"urn:cite2:fuSyntax:pos.v1:exclamation\"\u001b[39m)),\n",
              "    \u001b[32mNone\u001b[39m,\n",
              "    \u001b[32mNone\u001b[39m,\n",
              "    \u001b[32mNone\u001b[39m,\n",
              "    \u001b[32mNone\u001b[39m,\n",
              "    \u001b[32mNone\u001b[39m,\n",
              "    \u001b[32mNone\u001b[39m,\n",
              "    \u001b[32mNone\u001b[39m,\n",
              "    \u001b[32mNone\u001b[39m,\n",
              "    \u001b[33mSome\u001b[39m(\u001b[32m\"\\u03c4\\u03ad\\u03ba\\u03bd\\u03bf\\u03bd1\"\u001b[39m),\n",
              "    \u001b[32m\"AuxZ\"\u001b[39m,\n",
              "    \u001b[32m\"\\u039f\\u1f30\\u03b4\\u03af\\u03c0\\u03bf\\u03c5\\u03c2\"\u001b[39m\n",
              "  ),\n",
              "  \u001b[33mOToken\u001b[39m(\n",
              "    \u001b[32m\"1\"\u001b[39m,\n",
              "    \u001b[32m2\u001b[39m,\n",
              "    \u001b[33mCtsUrn\u001b[39m(\u001b[32m\"urn:cts:greekLit:tlg0011.tlg004.fu04:1.2\"\u001b[39m),\n",
              "    \u001b[33mCite2Urn\u001b[39m(\u001b[32m\"urn:cite2:fuSyntax:0011004sentences.v1:2386546\"\u001b[39m),\n",
              "    \u001b[32m1\u001b[39m,\n",
              "    \u001b[33mCite2Urn\u001b[39m(\u001b[32m\"urn:cite2:fuSyntax:0011004tokens.v1:2386546_2\"\u001b[39m),\n",
              "    \u001b[32m2\u001b[39m,\n",
              "    \u001b[33mSome\u001b[39m(\u001b[33mCite2Urn\u001b[39m(\u001b[32m\"urn:cite2:fuSyntax:0011004tokens.v1:2386546_3\"\u001b[39m)),\n",
              "    \u001b[32m\"\\u03c4\\u03ad\\u03ba\\u03bd\\u03b1\"\u001b[39m,\n",
              "    \u001b[32m\"\\u03c4\\u03ad\\u03ba\\u03bd\\u03bf\\u03bd1\"\u001b[39m,\n",
              "    \u001b[33mSome\u001b[39m(\u001b[33mCite2Urn\u001b[39m(\u001b[32m\"urn:cite2:fuSyntax:pos.v1:noun\"\u001b[39m)),\n",
              "    \u001b[32mNone\u001b[39m,\n",
              "    \u001b[33mSome\u001b[39m(\u001b[33mCite2Urn\u001b[39m(\u001b[32m\"urn:cite2:fuSyntax:number.v1:plural\"\u001b[39m)),\n",
              "..."
            ]
          },
          "metadata": {}
        }
      ],
      "execution_count": 11,
      "metadata": {
        "collapsed": true
      }
    },
    {
      "cell_type": "markdown",
      "source": [
        "Let's also load a CEX file with a couple of editions of the *Oedipus Tyrannos*."
      ],
      "metadata": {}
    },
    {
      "cell_type": "code",
      "source": [
        "otvec(2).ctsUrn"
      ],
      "outputs": [
        {
          "output_type": "execute_result",
          "execution_count": 12,
          "data": {
            "text/plain": [
              "\u001b[36mres11\u001b[39m: \u001b[32mCtsUrn\u001b[39m = \u001b[33mCtsUrn\u001b[39m(\u001b[32m\"urn:cts:greekLit:tlg0011.tlg004.fu04:1.3\"\u001b[39m)"
            ]
          },
          "metadata": {}
        }
      ],
      "execution_count": 12,
      "metadata": {}
    },
    {
      "cell_type": "code",
      "source": [],
      "outputs": [],
      "execution_count": null,
      "metadata": {}
    }
  ],
  "metadata": {
    "kernelspec": {
      "name": "scala",
      "language": "scala",
      "display_name": "Scala"
    },
    "language_info": {
      "name": "scala",
      "version": "2.12.10",
      "mimetype": "text/x-scala",
      "file_extension": ".scala",
      "nbconvert_exporter": "script",
      "codemirror_mode": "text/x-scala"
    },
    "kernel_info": {
      "name": "scala"
    },
    "nteract": {
      "version": "0.15.0"
    }
  },
  "nbformat": 4,
  "nbformat_minor": 2
}