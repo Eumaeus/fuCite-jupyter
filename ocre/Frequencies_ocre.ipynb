{
 "cells": [
  {
   "cell_type": "markdown",
   "metadata": {},
   "source": [
    "# Summarizing data in OCRE\n",
    "\n",
    "\n",
    "[A previous notebook](https://mybinder.org/v2/gh/neelsmith/nomisma-jupyter/master?filepath=building%2FVerifying_ocre.ipynb) showed how to get an overview of the values of data in OCRE.  This notebook shows you how to summarize and graph distributions of values for OCRE properties.  It uses version `1.6.0` of the `nomisma` library.\n"
   ]
  },
  {
   "cell_type": "markdown",
   "metadata": {},
   "source": [
    "\n",
    "## Configure Jupyter notebook\n",
    "\n",
    "First configure the Jupyter notebook. In addition to the `nomisma` library, we will use `plotly` for graph plots, and a `histoutils` package to simplify working with histograms."
   ]
  },
  {
   "cell_type": "code",
   "execution_count": null,
   "metadata": {},
   "outputs": [],
   "source": [
    "// 1. Add maven repository where we can find our libraries\n",
    "val myBT = coursierapi.MavenRepository.of(\"https://dl.bintray.com/neelsmith/maven\")\n",
    "interp.repositories() ++= Seq(myBT)"
   ]
  },
  {
   "cell_type": "code",
   "execution_count": null,
   "metadata": {},
   "outputs": [],
   "source": [
    "// 2. Make libraries available with `$ivy` imports:\n",
    "import $ivy.`edu.holycross.shot::nomisma:1.6.0`\n",
    "import $ivy.`edu.holycross.shot::histoutils:2.2.0`\n",
    "import $ivy.`org.plotly-scala::plotly-almond:0.7.1`"
   ]
  },
  {
   "cell_type": "markdown",
   "metadata": {},
   "source": [
    "## Load the full OCRE data set"
   ]
  },
  {
   "cell_type": "code",
   "execution_count": null,
   "metadata": {},
   "outputs": [],
   "source": [
    "import edu.holycross.shot.nomisma._\n",
    "val ocreCex = \"https://raw.githubusercontent.com/neelsmith/nomisma/master/cex/ocre-cite-ids.cex\"\n",
    "val ocre = OcreSource.fromUrl(ocreCex)\n",
    "\n",
    "// Sanity check:\n",
    "require(ocre.size > 50000) "
   ]
  },
  {
   "cell_type": "markdown",
   "metadata": {},
   "source": [
    "## How are denominations distributed?\n",
    "\n",
    "[A previous notebook](http://neelsmith.info/hc/2019-12-01-validating-ocre/)\n",
    "(on mybinder [here](https://mybinder.org/v2/gh/neelsmith/nomisma-jupyter/master?filepath=ocre%2FVerifying_ocre.ipynb)) showed how to check the values for properties of an `Ocre` object.  Let's review how many valid values OCRE includes for denomination.  We'll use the `hasDenomination` function to get only issues with valid data values for the denomination property, then apply the `denominationList` to that result.\n"
   ]
  },
  {
   "cell_type": "code",
   "execution_count": null,
   "metadata": {},
   "outputs": [],
   "source": [
    "println(\"Number of valid values for denomination: \" + ocre.hasDenomination.denominationList.size)"
   ]
  },
  {
   "cell_type": "markdown",
   "metadata": {},
   "source": [
    "Seventy one seems like a lot.  How often does each denomination appear?\n",
    "\n",
    "`Ocre` includes a function to create a `Histogram` object for a named property.The `Histogram` has a Vector of `Frequency`s, so if we sort the frequencies by count we can look at the first and last entries to see the most and least common values in OCRE for denomination."
   ]
  },
  {
   "cell_type": "code",
   "execution_count": null,
   "metadata": {},
   "outputs": [],
   "source": [
    "import edu.holycross.shot.histoutils._\n",
    "val denominationHisto: edu.holycross.shot.histoutils.Histogram[String] = ocre.histogram(\"denomination\").sorted\n",
    "println(\"Entries in histogram of denominations: \" + denominationHisto.size)\n",
    "println(\"Most frequent denomination:  \" + denominationHisto.frequencies.head)\n",
    "println(\"Least frequent denomination: \" + denominationHisto.frequencies.last)"
   ]
  },
  {
   "cell_type": "markdown",
   "metadata": {},
   "source": [
    "It's straightforward to visualize histograms as bar graphs using the `plotly` library."
   ]
  },
  {
   "cell_type": "code",
   "execution_count": null,
   "metadata": {},
   "outputs": [],
   "source": [
    "// 1. Import plotly libraries, and set display defaults suggested for use in Jupyter NBs:\n",
    "import plotly._, plotly.element._, plotly.layout._, plotly.Almond._\n",
    "repl.pprinter() = repl.pprinter().copy(defaultHeight = 3)"
   ]
  },
  {
   "cell_type": "markdown",
   "metadata": {},
   "source": [
    "Plotly can construct a bar graph from two parallel lists of values for x and y axis.  The `Frequency` object in our histogram has `item` and `count` properties we can use for x and y respectively."
   ]
  },
  {
   "cell_type": "code",
   "execution_count": null,
   "metadata": {},
   "outputs": [],
   "source": [
    "val denominationValues = denominationHisto.frequencies.map(_.item)\n",
    "val denominationCounts = denominationHisto.frequencies.map(_.count)\n",
    "\n",
    "val denominationPlot = Seq(\n",
    "  Bar(x = denominationValues, y = denominationCounts)\n",
    ")\n",
    "plot(denominationPlot)\n",
    "     "
   ]
  },
  {
   "cell_type": "markdown",
   "metadata": {},
   "source": [
    "## Geographic regions\n",
    "\n",
    "Let's take a second example:  how frequently are issues struck in different geographic regions over the five centuries of data in OCRE?"
   ]
  },
  {
   "cell_type": "code",
   "execution_count": null,
   "metadata": {},
   "outputs": [],
   "source": [
    "val regionHisto: edu.holycross.shot.histoutils.Histogram[String] = ocre.histogram(\"region\").sorted\n",
    "\n",
    "val regionValues = regionHisto.frequencies.map(_.item)\n",
    "val regionCounts = regionHisto.frequencies.map(_.count)\n",
    "\n",
    "val regionPlot = Seq(\n",
    "  Bar(x = regionValues, y = regionCounts)\n",
    ")\n",
    "plot(regionPlot)\n"
   ]
  },
  {
   "cell_type": "markdown",
   "metadata": {},
   "source": [
    "## Geography of mints?\n",
    "\n",
    "It would be nice to look further into the uneven distribution of issues outside of Italy.  In a subsequent notebook, we'll take OCRE's information about specific mints and generate geographic maps."
   ]
  }
 ],
 "metadata": {
  "kernelspec": {
   "display_name": "Scala 2.12",
   "language": "scala",
   "name": "scala212"
  },
  "language_info": {
   "codemirror_mode": "text/x-scala",
   "file_extension": ".scala",
   "mimetype": "text/x-scala",
   "name": "scala",
   "nbconvert_exporter": "script",
   "version": "2.12.10"
  }
 },
 "nbformat": 4,
 "nbformat_minor": 2
}
