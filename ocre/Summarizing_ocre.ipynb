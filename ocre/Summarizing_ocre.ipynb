{
 "cells": [
  {
   "cell_type": "markdown",
   "metadata": {},
   "source": [
    "# Summarizing data in OCRE\n",
    "\n",
    "This notebook shows you how to load OCRE data from a CEX file over the internet, and summarize its contents.\n"
   ]
  },
  {
   "cell_type": "markdown",
   "metadata": {},
   "source": [
    "\n",
    "## Configure Jupyter notebook\n",
    "\n",
    "First configure the Jupyter notebook to find the `nomisma` library.  (You could do the same thing in other environments with `sbt` or `maven`.)"
   ]
  },
  {
   "cell_type": "code",
   "execution_count": null,
   "metadata": {},
   "outputs": [],
   "source": [
    "// 1. Add maven repository where we can find our libraries\n",
    "val myBT = coursierapi.MavenRepository.of(\"https://dl.bintray.com/neelsmith/maven\")\n",
    "interp.repositories() ++= Seq(myBT)"
   ]
  },
  {
   "cell_type": "code",
   "execution_count": null,
   "metadata": {},
   "outputs": [],
   "source": [
    "// 2. Make libraries available with `$ivy` imports:\n",
    "import $ivy.`edu.holycross.shot::nomisma:1.4.0`\n",
    "import $ivy.`edu.holycross.shot::histoutils:2.2.0`\n",
    "import $ivy.`org.plotly-scala::plotly-almond:0.7.1`"
   ]
  },
  {
   "cell_type": "markdown",
   "metadata": {},
   "source": [
    "## Load the full OCRE data set"
   ]
  },
  {
   "cell_type": "code",
   "execution_count": null,
   "metadata": {},
   "outputs": [],
   "source": [
    "import edu.holycross.shot.nomisma._\n",
    "val ocreCex = \"https://raw.githubusercontent.com/neelsmith/nomisma/master/cex/ocre-valid.cex\"\n",
    "val ocre = OcreSource.fromUrl(ocreCex)\n",
    "\n",
    "// Check results:\n",
    "require(ocre.size > 50000) "
   ]
  },
  {
   "cell_type": "markdown",
   "metadata": {},
   "source": [
    "## What's in it? Core information for every issue\n",
    "\n",
    "We'll verify that every issue has information about the issuing authority, the material, and the denomination.  "
   ]
  },
  {
   "cell_type": "code",
   "execution_count": null,
   "metadata": {},
   "outputs": [],
   "source": [
    "val authorities = ocre.issues.filter(_.authority.nonEmpty)\n",
    "require (authorities.size == ocre.issues.size)\n",
    "\n",
    "val materials = ocre.issues.filter(_.material.nonEmpty)\n",
    "require (materials.size == ocre.issues.size)\n",
    "\n",
    "val denominations = ocre.issues.filter(_.denomination.nonEmpty)\n",
    "require (denominations.size == ocre.issues.size)"
   ]
  },
  {
   "cell_type": "markdown",
   "metadata": {},
   "source": [
    "### Distinct values for core information"
   ]
  },
  {
   "cell_type": "code",
   "execution_count": null,
   "metadata": {},
   "outputs": [],
   "source": [
    "val authorityValues = authorities.map(_.authority).distinct\n",
    "val materialValues = materials.map(_.material).distinct\n",
    "val denominationValues = denominations.map(_.authority).distinct\n",
    "\n",
    "println(\"OCRE corpus includes values for:\")\n",
    "println(authorityValues.size + \" issuing authorities\")\n",
    "println(materialValues.size + \" metals\")\n",
    "println(denominationValues.size + \" denominations\")"
   ]
  },
  {
   "cell_type": "markdown",
   "metadata": {},
   "source": [
    "### How are they distributed?"
   ]
  },
  {
   "cell_type": "code",
   "execution_count": null,
   "metadata": {},
   "outputs": [],
   "source": [
    "import edu.holycross.shot.histoutils._\n",
    "\n",
    "\n",
    "val authorityFreqs = ocre.issues.map(_.authority).groupBy(d => d).map { case (k,v) => Frequency(k, v.size)}\n",
    "val authorityHistogram = edu.holycross.shot.histoutils.Histogram(authorityFreqs.toVector)\n",
    "\n"
   ]
  },
  {
   "cell_type": "markdown",
   "metadata": {},
   "source": [
    "Visual as a bar graph using the `plotly` library:"
   ]
  },
  {
   "cell_type": "code",
   "execution_count": null,
   "metadata": {},
   "outputs": [],
   "source": [
    "// Import plotly, and \n",
    "import plotly._, plotly.element._, plotly.layout._, plotly.Almond._\n",
    "repl.pprinter() = repl.pprinter().copy(defaultHeight = 3)"
   ]
  },
  {
   "cell_type": "markdown",
   "metadata": {},
   "source": [
    "Plot number of issues by each authority, sorted from largest to smallest number of issues:"
   ]
  },
  {
   "cell_type": "code",
   "execution_count": null,
   "metadata": {},
   "outputs": [],
   "source": [
    "val authNames = authorityHistogram.sorted.frequencies.map(_.item)\n",
    "val authCounts = authorityHistogram.sorted.frequencies.map(_.count)\n",
    "val authPlot = Seq(\n",
    "  Bar(\n",
    "   authNames, authCounts\n",
    "  )\n",
    ")\n",
    "plot(authPlot)\n"
   ]
  },
  {
   "cell_type": "markdown",
   "metadata": {},
   "source": [
    "## Notebook in progress.  \n",
    "\n",
    "More to come!\n",
    "\n"
   ]
  },
  {
   "cell_type": "markdown",
   "metadata": {},
   "source": [
    "\n",
    "Now view chronologically?\n",
    "\n",
    "- use ocre functions to get date ranges for authorities\n",
    "- sort histogram by minimum date for each authority\n",
    "- plot"
   ]
  },
  {
   "cell_type": "markdown",
   "metadata": {},
   "source": [
    "## Other information\n",
    "\n"
   ]
  },
  {
   "cell_type": "code",
   "execution_count": null,
   "metadata": {},
   "outputs": [],
   "source": [
    "ocre.size\n",
    "ocre.datable.size\n"
   ]
  },
  {
   "cell_type": "code",
   "execution_count": null,
   "metadata": {},
   "outputs": [],
   "source": [
    "ocre.issues.filter(_.obvLegend.nonEmpty).size\n",
    "ocre.issues.filter(_.revLegend.nonEmpty).size\n"
   ]
  },
  {
   "cell_type": "code",
   "execution_count": null,
   "metadata": {},
   "outputs": [],
   "source": [
    "ocre.issues.filter(_.obvType.nonEmpty).size\n",
    "ocre.issues.filter(_.revType.nonEmpty).size"
   ]
  },
  {
   "cell_type": "code",
   "execution_count": null,
   "metadata": {},
   "outputs": [],
   "source": [
    "val noRType = ocre.issues.filter(_.revType.isEmpty)"
   ]
  },
  {
   "cell_type": "code",
   "execution_count": null,
   "metadata": {},
   "outputs": [],
   "source": [
    "val legends = ocre.corpus"
   ]
  },
  {
   "cell_type": "code",
   "execution_count": null,
   "metadata": {},
   "outputs": [],
   "source": [
    "val obv = legends.nodes.filter(_.urn.passageComponent.contains(\"obv\"))\n",
    "val rev = legends.nodes.filter(_.urn.passageComponent.contains(\"rev\"))"
   ]
  },
  {
   "cell_type": "code",
   "execution_count": null,
   "metadata": {},
   "outputs": [],
   "source": [
    "legends.size\n",
    "obv.size\n",
    "rev.size"
   ]
  },
  {
   "cell_type": "code",
   "execution_count": null,
   "metadata": {},
   "outputs": [],
   "source": [
    "val mints = ocre.issues.filter(_.mint.nonEmpty)\n",
    "mints.size"
   ]
  },
  {
   "cell_type": "code",
   "execution_count": null,
   "metadata": {},
   "outputs": [],
   "source": [
    "\n",
    "\n"
   ]
  }
 ],
 "metadata": {
  "kernelspec": {
   "display_name": "Scala (2.12)",
   "language": "scala",
   "name": "scala212"
  },
  "language_info": {
   "codemirror_mode": "text/x-scala",
   "file_extension": ".scala",
   "mimetype": "text/x-scala",
   "name": "scala",
   "nbconvert_exporter": "script",
   "version": "2.12.10"
  }
 },
 "nbformat": 4,
 "nbformat_minor": 2
}
