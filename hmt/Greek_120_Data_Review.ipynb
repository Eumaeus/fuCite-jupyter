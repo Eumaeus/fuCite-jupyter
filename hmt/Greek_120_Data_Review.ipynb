{
 "cells": [
  {
   "cell_type": "markdown",
   "metadata": {},
   "source": [
    "# Greek 120 Visualizations"
   ]
  },
  {
   "cell_type": "markdown",
   "metadata": {},
   "source": [
    "## Configuring Libraries for the Almond Kernel\n",
    "\n",
    "First, we'll make a bintray repository with libraries available to your almond kernel."
   ]
  },
  {
   "cell_type": "code",
   "execution_count": 23,
   "metadata": {},
   "outputs": [],
   "source": [
    "val myBT = coursierapi.MavenRepository.of(\"https://dl.bintray.com/neelsmith/maven\")\n",
    "\n",
    "interp.repositories() ++= Seq(myBT)"
   ]
  },
  {
   "cell_type": "markdown",
   "metadata": {},
   "source": [
    "Next, we bring in specific libraries from the new repository using almond's `$ivy` magic:"
   ]
  },
  {
   "cell_type": "code",
   "execution_count": 24,
   "metadata": {},
   "outputs": [],
   "source": [
    "import $ivy.`org.plotly-scala::plotly-almond:0.7.1`\n",
    "import plotly._, plotly.element._, plotly.layout._, plotly.Almond._\n",
    "\n",
    "import $ivy.`com.github.tototoshi::scala-csv:1.3.6`\n",
    "import com.github.tototoshi.csv._\n",
    "\n",
    "// if you want to have the plots available without an internet connection:\n",
    "init(offline=true)\n",
    "\n",
    "// restrict the output height to avoid scrolling in output cells\n",
    "repl.pprinter() = repl.pprinter().copy(defaultHeight = 3)\n",
    "\n",
    "import $ivy.`edu.holycross.shot::ohco2:10.18.2`\n",
    "import $ivy.`edu.holycross.shot.cite::xcite:4.1.1`\n",
    "import $ivy.`edu.holycross.shot::scm:7.2.0`\n",
    "import $ivy.`edu.holycross.shot::dse:6.0.4`\n",
    "import $ivy.`edu.holycross.shot::citebinaryimage:3.1.1`\n",
    "import $ivy.`edu.holycross.shot::citeobj:7.3.4`\n",
    "import $ivy.`edu.holycross.shot::citerelations:2.5.2`\n",
    "import $ivy.`edu.holycross.shot::cex:6.3.3`\n",
    "import $ivy.`edu.holycross.shot::greek:2.3.3`"
   ]
  },
  {
   "cell_type": "markdown",
   "metadata": {},
   "source": [
    "## Imports\n",
    "\n",
    "From this point on, your notebook consists of completely generic Scala, with the CITE Libraries available to use."
   ]
  },
  {
   "cell_type": "code",
   "execution_count": 25,
   "metadata": {},
   "outputs": [],
   "source": [
    "import almond.display.UpdatableDisplay\n",
    "import almond.interpreter.api.DisplayData.ContentType\n",
    "import almond.interpreter.api.{DisplayData, OutputHandler}\n",
    "\n",
    "import java.io.File\n",
    "import java.io.PrintWriter\n",
    "\n",
    "import scala.io.Source\n",
    "\n",
    "import java.text.SimpleDateFormat\n",
    "import java.util.Date\n",
    "\n",
    "// Import some CITE libraries\n",
    "import edu.holycross.shot.cite._\n",
    "import edu.holycross.shot.ohco2._\n",
    "import edu.holycross.shot.scm._\n",
    "import edu.holycross.shot.citeobj._\n",
    "import edu.holycross.shot.citerelation._\n",
    "import edu.holycross.shot.dse._\n",
    "import edu.holycross.shot.citebinaryimage._\n",
    "import edu.holycross.shot.ohco2._\n",
    "import edu.holycross.shot.greek._\n",
    "\n",
    "\n"
   ]
  },
  {
   "cell_type": "markdown",
   "metadata": {},
   "source": [
    "## Useful Functions"
   ]
  },
  {
   "cell_type": "markdown",
   "metadata": {},
   "source": [
    "Save a string to a named file:"
   ]
  },
  {
   "cell_type": "code",
   "execution_count": 26,
   "metadata": {},
   "outputs": [],
   "source": [
    "def saveString(s:String, filePath:String = \"\", fileName:String = \"temp.txt\"):Unit = {\n",
    "\t\t val writer = new PrintWriter(new File(s\"${filePath}${fileName}\"))\n",
    "         writer.write(s)\n",
    "         writer.close()\n",
    "\t}"
   ]
  },
  {
   "cell_type": "markdown",
   "metadata": {},
   "source": [
    "Like `.split`, but preserving the character we split on:"
   ]
  },
  {
   "cell_type": "code",
   "execution_count": 27,
   "metadata": {},
   "outputs": [],
   "source": [
    "def splitWithSplitter(text: String, puncs: String): Vector[String] = {\n",
    "\t//val regexWithSplitter = s\"((?<=${puncs})|(?=${puncs}))\"\n",
    "    val regexWithSplitter = s\"((?<=${puncs}))\"\n",
    "\ttext.split(regexWithSplitter).toVector.filter(_.size > 0)\n",
    "}"
   ]
  },
  {
   "cell_type": "markdown",
   "metadata": {},
   "source": [
    "Pretty Print Things:"
   ]
  },
  {
   "cell_type": "code",
   "execution_count": 28,
   "metadata": {},
   "outputs": [],
   "source": [
    "def showMe(v:Any):Unit = {\n",
    "  v match {\n",
    "    case _:Vector[Any] => println(s\"\"\"\\n----\\n${v.asInstanceOf[Vector[Any]].mkString(\"\\n\")}\\n----\\n\"\"\")\n",
    "    case _:Iterable[Any] => println(s\"\"\"\\n----\\n${v.asInstanceOf[Iterable[Any]].mkString(\"\\n\")}\\n----\\n\"\"\")\n",
    "    case _ => println(s\"\\n-----\\n${v}\\n----\\n\")\n",
    "  }\n",
    "}"
   ]
  },
  {
   "cell_type": "markdown",
   "metadata": {},
   "source": [
    "## Classes for this Data\n",
    "\n",
    "There is a file for each day. Each file consists of rows for reporting regions. These may be provinces, countries, or regions. Each row has data-cells. \n",
    "\n",
    "We will build classes from the inside-out. We are ignoring provinces for now."
   ]
  },
  {
   "cell_type": "code",
   "execution_count": 29,
   "metadata": {},
   "outputs": [],
   "source": [
    "case class DataRow( editor: String, allenText: String, ctsUrn: CtsUrn, surfUrn: Cite2Urn, imageRoi: Option[Cite2Urn])\n",
    "\n",
    "case class IndexedDataRow( index: Int, data: DataRow)"
   ]
  },
  {
   "cell_type": "markdown",
   "metadata": {},
   "source": [
    "## Load Some Data"
   ]
  },
  {
   "cell_type": "markdown",
   "metadata": {},
   "source": [
    "Load current data from our shared Google Spreadsheet.\n",
    "\n",
    "The data is in `.csv`, and the fields included change over time, so we have to do this the hard way, with a real CSV library."
   ]
  },
  {
   "cell_type": "code",
   "execution_count": 30,
   "metadata": {},
   "outputs": [],
   "source": [
    "\n",
    "val dataUrl: String = \"https://docs.google.com/spreadsheets/d/1zDzKz99n3TYS0Uzy79tpfX6TArIyXPZ9JQI0zPq8NQU/export?format=csv\"\n",
    "\n",
    "\n",
    "def getNParse(url: String ): List[Map[String, String]] = {\n",
    "    val reader = CSVReader.open(scala.io.Source.fromURL(url))\n",
    "    reader.allWithHeaders()\n",
    "}\n",
    "\n",
    "\n",
    "def csvMapToVecDataRow( csv: List[Map[String, String]]): Vector[DataRow] = {\n",
    "     csv.map( dm => {\n",
    "        val editor: String = dm(\"Editor\")\n",
    "        val allenText: String = dm(\"allenText\")\n",
    "        val ctsUrn: CtsUrn = CtsUrn(dm(\"ctsUrn\"))\n",
    "        val surfUrn: Cite2Urn = {\n",
    "             Cite2Urn(s\"\"\"urn:cite2:hmt:msA.v1:${dm(\"surfUrn\")}\"\"\")\n",
    "         }\n",
    "        val imageRoi: Option[Cite2Urn] = {\n",
    "            if ( dm(\"imageRoi\") == \"None\" ) None\n",
    "            else Some(Cite2Urn(dm(\"imageRoi\")))\n",
    "        }\n",
    "        \n",
    "        DataRow(editor, allenText, ctsUrn, surfUrn, imageRoi)\n",
    "    }).toVector\n",
    "}\n",
    "\n",
    "\n",
    "val csv: List[Map[String, String]] = getNParse(dataUrl)\n",
    "val hmtData: Vector[IndexedDataRow] = csvMapToVecDataRow(csv).zipWithIndex.map( dr => {\n",
    "    IndexedDataRow( dr._2, dr._1)\n",
    "})\n",
    "\n"
   ]
  },
  {
   "cell_type": "markdown",
   "metadata": {},
   "source": [
    "## Functions for Building Presentations\n",
    "\n"
   ]
  },
  {
   "cell_type": "code",
   "execution_count": 31,
   "metadata": {},
   "outputs": [],
   "source": [
    "\n",
    "\n",
    "// http://beta.hpcc.uh.edu/scs/image/500/500/urn:cite2:hmt:vaimg.2017a:VA012RN_0013@0.04506,0.2196,0.1344,0.10093\n",
    "\n",
    "\n",
    "def folioOverviewHtml( imageRois: Vector[Cite2Urn]): String = {\n",
    "    val ictRoot = \"http://www.homermultitext.org/ict2/index.html?urn=\"\n",
    "    try {\n",
    "        val checkForOnlyOneImage: Boolean = {\n",
    "           imageRois.map(_.dropExtensions).distinct.size == 1\n",
    "         }\n",
    "            \n",
    "        if (checkForOnlyOneImage == false) throw new Exception(\"More than one image represented in list.\")\n",
    "    \n",
    "        val bigUrl = ictRoot + imageRois.mkString(\"&urn=\")\n",
    "\n",
    "        s\"\"\"[All Images mapped to image `${imageRois.head.dropExtensions}`.](${bigUrl})\"\"\"\n",
    "\n",
    "    } catch {\n",
    "        case e: Exception => s\"Error: ${e}\"\n",
    "    }\n",
    "}\n",
    "\n",
    "def lineHtml( idr: IndexedDataRow): String = {\n",
    "    val imgUrlBase = \"http://beta.hpcc.uh.edu/scs/image/500/500/\"\n",
    "    val ictRoot = \"http://www.homermultitext.org/ict2/index.html?urn=\"\n",
    "\n",
    "    \n",
    "   // s\"---- \\n\\n ${idr.data.allenText}\\n\\n![${idr.data.imageRoi.get}](${imgUrlBase}${idr.data.imageRoi.get})\"\n",
    "    \n",
    "    s\"\"\"---- \\n\\n `${idr.data.ctsUrn.passageComponent}`  **${idr.data.allenText}** \\n\\n <a href=\"${ictRoot}${idr.data.imageRoi.get}\"><img src=\"${imgUrlBase}${idr.data.imageRoi.get}\"/></a> \"\"\"\n",
    "}\n",
    "\n",
    "def dataByEditor( data: Vector[IndexedDataRow]): Vector[Vector[IndexedDataRow]] = {\n",
    "    val grouped: Vector[(String, Vector[IndexedDataRow])] = {\n",
    "        data.groupBy(_.data.editor).toVector\n",
    "    }\n",
    "    val sortedGrouped: Vector[Vector[IndexedDataRow]] = grouped.map( g => {\n",
    "        val v: Vector[IndexedDataRow] = g._2\n",
    "        v.sortBy(_.index)\n",
    "    })\n",
    "    sortedGrouped\n",
    "}\n",
    "\n",
    "def editorPage( ed: Vector[IndexedDataRow]): String = {\n",
    "    val edName: String = ed.head.data.editor\n",
    "    val title: String = {\n",
    "        s\"## ${edName}\\n\\n\" +\n",
    "        s\"*Iliad* ${ed.head.data.ctsUrn.passageComponent}\" +\n",
    "        \"-\" +\n",
    "        s\"${ed.last.data.ctsUrn.passageComponent}\"\n",
    "    }\n",
    "    \n",
    "    val sortedBySurface: Vector[Vector[IndexedDataRow]] = {\n",
    "        ed.groupBy(_.data.surfUrn)\n",
    "          .toVector\n",
    "          .sortBy(_._2.head.index)\n",
    "          .map( _._2 )\n",
    "          .map( v => v.sortBy(_.index) )\n",
    "    }\n",
    "        \n",
    "    \n",
    "    def oneSurface( surf: Vector[IndexedDataRow] ): String = {\n",
    "        \n",
    "        val surfHeading = s\"---\\n\\n---\\n\\n## **Folio `${surf.head.data.surfUrn}`**\\n\\n\"\n",
    "        \n",
    "        val overviewLink: String = {\n",
    "            val rois: Vector[Cite2Urn] = surf.map( _.data.imageRoi).filter( e => {\n",
    "                e match {\n",
    "                    case Some(u) => true\n",
    "                    case None => false\n",
    "                }\n",
    "            }).map(_.get)\n",
    "            folioOverviewHtml(rois)\n",
    "        }\n",
    "        \n",
    "        val iliadLines: String = {\n",
    "            surf.map( s => {\n",
    "                s.data.imageRoi match {\n",
    "                    case Some(u) => {\n",
    "                        lineHtml(s)\n",
    "                    }\n",
    "                    case None => {\n",
    "                        s\"\"\"--- \\n\\n **No line for:*** ${s.data.allenText}\"\"\"\n",
    "                    }\n",
    "                }\n",
    "            }).mkString(\"\\n\\n\")\n",
    "        }\n",
    "        \n",
    "        surfHeading + \"\\n\\n\" + overviewLink + \"\\n\\n\" + iliadLines\n",
    "        \n",
    "    }\n",
    "    \n",
    "    val surfaceStrings: String = {\n",
    "        sortedBySurface.map( sbs => {\n",
    "            oneSurface(sbs)\n",
    "        }).mkString(\"\\n\\n\")\n",
    "    }\n",
    "    \n",
    "    \n",
    "    title + \"\\n\\n\" + surfaceStrings\n",
    "}"
   ]
  },
  {
   "cell_type": "code",
   "execution_count": null,
   "metadata": {},
   "outputs": [],
   "source": []
  },
  {
   "cell_type": "markdown",
   "metadata": {},
   "source": [
    "## Assemble Reports"
   ]
  },
  {
   "cell_type": "code",
   "execution_count": 32,
   "metadata": {},
   "outputs": [],
   "source": [
    "val byEditor: Vector[Vector[IndexedDataRow]] = dataByEditor(hmtData)\n",
    "\n",
    "\n",
    "for ( v <- byEditor) {\n",
    "    val page = editorPage(v)\n",
    "    val fileIndex = f\"${v.head.index}%04d\"\n",
    "    val fileName = fileIndex + v.head.data.editor.replaceAll(\"[. ,]\",\"\") + \".md\"\n",
    "    saveString( page, \"pages/\", fileName)\n",
    "}"
   ]
  },
  {
   "cell_type": "code",
   "execution_count": null,
   "metadata": {},
   "outputs": [],
   "source": []
  },
  {
   "cell_type": "code",
   "execution_count": null,
   "metadata": {},
   "outputs": [],
   "source": []
  },
  {
   "cell_type": "code",
   "execution_count": null,
   "metadata": {},
   "outputs": [],
   "source": []
  }
 ],
 "metadata": {
  "kernel_info": {
   "name": "scala"
  },
  "kernelspec": {
   "display_name": "Scala",
   "language": "scala",
   "name": "scala"
  },
  "language_info": {
   "codemirror_mode": "text/x-scala",
   "file_extension": ".scala",
   "mimetype": "text/x-scala",
   "name": "scala",
   "nbconvert_exporter": "script",
   "version": "2.12.10"
  },
  "nteract": {
   "version": "0.15.0"
  }
 },
 "nbformat": 4,
 "nbformat_minor": 2
}
