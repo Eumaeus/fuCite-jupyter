{
 "cells": [
  {
   "cell_type": "markdown",
   "metadata": {},
   "source": [
    "# Interact with the Homer Multitext Dataset"
   ]
  },
  {
   "cell_type": "markdown",
   "metadata": {},
   "source": [
    "## Configuring CITE libraries for almond kernel\n",
    "\n",
    "First, we'll make a bintray repository with CITE libraries available to your almond kernel."
   ]
  },
  {
   "cell_type": "code",
   "execution_count": 1,
   "metadata": {
    "collapsed": true
   },
   "outputs": [
    {
     "data": {
      "text/plain": [
       "\u001b[36mmyBT\u001b[39m: \u001b[32mcoursierapi\u001b[39m.\u001b[32mMavenRepository\u001b[39m = MavenRepository(https://dl.bintray.com/neelsmith/maven)"
      ]
     },
     "execution_count": 1,
     "metadata": {},
     "output_type": "execute_result"
    }
   ],
   "source": [
    "val myBT = coursierapi.MavenRepository.of(\"https://dl.bintray.com/neelsmith/maven\")\n",
    "interp.repositories() ++= Seq(myBT)"
   ]
  },
  {
   "cell_type": "markdown",
   "metadata": {},
   "source": [
    "Next, we bring in specific libraries from the new repository using almond's `$ivy` magic:"
   ]
  },
  {
   "cell_type": "code",
   "execution_count": 2,
   "metadata": {
    "collapsed": true
   },
   "outputs": [
    {
     "data": {
      "text/plain": [
       "\u001b[32mimport \u001b[39m\u001b[36m$ivy.$                                  \n",
       "\u001b[39m\n",
       "\u001b[32mimport \u001b[39m\u001b[36m$ivy.$                                     \n",
       "\u001b[39m\n",
       "\u001b[32mimport \u001b[39m\u001b[36m$ivy.$                              \n",
       "\u001b[39m\n",
       "\u001b[32mimport \u001b[39m\u001b[36m$ivy.$                              \n",
       "\u001b[39m\n",
       "\u001b[32mimport \u001b[39m\u001b[36m$ivy.$                                          \n",
       "\u001b[39m\n",
       "\u001b[32mimport \u001b[39m\u001b[36m$ivy.$                                  \n",
       "\u001b[39m\n",
       "\u001b[32mimport \u001b[39m\u001b[36m$ivy.$                                        \n",
       "\u001b[39m\n",
       "\u001b[32mimport \u001b[39m\u001b[36m$ivy.$                              \n",
       "\u001b[39m"
      ]
     },
     "execution_count": 2,
     "metadata": {},
     "output_type": "execute_result"
    }
   ],
   "source": [
    "import $ivy.`edu.holycross.shot::ohco2:10.18.2`\n",
    "import $ivy.`edu.holycross.shot.cite::xcite:4.1.1`\n",
    "import $ivy.`edu.holycross.shot::scm:7.2.0`\n",
    "import $ivy.`edu.holycross.shot::dse:6.0.4`\n",
    "import $ivy.`edu.holycross.shot::citebinaryimage:3.1.1`\n",
    "import $ivy.`edu.holycross.shot::citeobj:7.3.4`\n",
    "import $ivy.`edu.holycross.shot::citerelations:2.5.2`\n",
    "import $ivy.`edu.holycross.shot::cex:6.3.3`\n"
   ]
  },
  {
   "cell_type": "markdown",
   "metadata": {},
   "source": [
    "## Imports\n",
    "\n",
    "From this point on, your notebook consists of completely generic Scala, with the CITE Libraries available to use."
   ]
  },
  {
   "cell_type": "code",
   "execution_count": 3,
   "metadata": {},
   "outputs": [
    {
     "data": {
      "text/plain": [
       "\u001b[32mimport \u001b[39m\u001b[36medu.holycross.shot.cite._\n",
       "\u001b[39m\n",
       "\u001b[32mimport \u001b[39m\u001b[36medu.holycross.shot.ohco2._\n",
       "\u001b[39m\n",
       "\u001b[32mimport \u001b[39m\u001b[36medu.holycross.shot.scm._\n",
       "\u001b[39m\n",
       "\u001b[32mimport \u001b[39m\u001b[36medu.holycross.shot.citeobj._\n",
       "\u001b[39m\n",
       "\u001b[32mimport \u001b[39m\u001b[36medu.holycross.shot.citerelation._\n",
       "\u001b[39m\n",
       "\u001b[32mimport \u001b[39m\u001b[36medu.holycross.shot.dse._\n",
       "\u001b[39m\n",
       "\u001b[32mimport \u001b[39m\u001b[36medu.holycross.shot.citebinaryimage._\n",
       "\u001b[39m\n",
       "\u001b[32mimport \u001b[39m\u001b[36medu.holycross.shot.ohco2._\n",
       "\n",
       "\u001b[39m\n",
       "\u001b[32mimport \u001b[39m\u001b[36malmond.display.UpdatableDisplay\n",
       "\u001b[39m\n",
       "\u001b[32mimport \u001b[39m\u001b[36malmond.interpreter.api.DisplayData.ContentType\n",
       "\u001b[39m\n",
       "\u001b[32mimport \u001b[39m\u001b[36malmond.interpreter.api.{DisplayData, OutputHandler}\u001b[39m"
      ]
     },
     "execution_count": 3,
     "metadata": {},
     "output_type": "execute_result"
    }
   ],
   "source": [
    "// Import some CITE libraries\n",
    "import edu.holycross.shot.cite._\n",
    "import edu.holycross.shot.ohco2._\n",
    "import edu.holycross.shot.scm._\n",
    "import edu.holycross.shot.citeobj._\n",
    "import edu.holycross.shot.citerelation._\n",
    "import edu.holycross.shot.dse._\n",
    "import edu.holycross.shot.citebinaryimage._\n",
    "import edu.holycross.shot.ohco2._\n",
    "\n",
    "import almond.display.UpdatableDisplay\n",
    "import almond.interpreter.api.DisplayData.ContentType\n",
    "import almond.interpreter.api.{DisplayData, OutputHandler}"
   ]
  },
  {
   "cell_type": "markdown",
   "metadata": {},
   "source": [
    "## Some Utilities"
   ]
  },
  {
   "cell_type": "code",
   "execution_count": 11,
   "metadata": {},
   "outputs": [
    {
     "data": {
      "text/plain": [
       "defined \u001b[32mfunction\u001b[39m \u001b[36mshowMe\u001b[39m"
      ]
     },
     "execution_count": 11,
     "metadata": {},
     "output_type": "execute_result"
    }
   ],
   "source": [
    "def showMe(v:Any):Unit = {\n",
    "  v match {\n",
    "    case _:StringHistogram => {\n",
    "        for ( h <- v.asInstanceOf[StringHistogram].histogram ) {\n",
    "            println(s\"${h.count}\\t${h.s}\")\n",
    "        }\n",
    "    }\n",
    "  \tcase _:Corpus => {\n",
    "  \t\tfor ( n <- v.asInstanceOf[Corpus].nodes) {\n",
    "  \t\t\tprintln(s\"${n.urn.passageComponent}\\t\\t${n.text}\")\n",
    "  \t\t}\t\n",
    "  \t}\n",
    "    case _:Vector[Any] => println(s\"\"\"\\n----\\n${v.asInstanceOf[Vector[Any]].mkString(\"\\n\")}\\n----\\n\"\"\")\n",
    "    case _:Iterable[Any] => println(s\"\"\"\\n----\\n${v.asInstanceOf[Iterable[Any]].mkString(\"\\n\")}\\n----\\n\"\"\")\n",
    "    case _ => println(s\"\\n-----\\n${v}\\n----\\n\")\n",
    "  }\n",
    "}"
   ]
  },
  {
   "cell_type": "markdown",
   "metadata": {},
   "source": [
    "## Load a CITE Library"
   ]
  },
  {
   "cell_type": "code",
   "execution_count": 15,
   "metadata": {},
   "outputs": [
    {
     "name": "stderr",
     "output_type": "stream",
     "text": [
      "\u001b[34m2020-03-31 22:47:33.616-0400\u001b[0m  \u001b[36minfo\u001b[0m [\u001b[37mCiteLibrary\u001b[0m] \u001b[36mBuilding text repo from cex ...\u001b[0m  \u001b[34m- (CiteLibrary.scala:160)\u001b[0m\n",
      "\u001b[34m2020-03-31 22:47:34.551-0400\u001b[0m  \u001b[36minfo\u001b[0m [\u001b[37mCiteLibrary\u001b[0m] \u001b[36mBuilding collection repo from cex ...\u001b[0m  \u001b[34m- (CiteLibrary.scala:163)\u001b[0m\n",
      "\u001b[34m2020-03-31 22:47:47.251-0400\u001b[0m  \u001b[36minfo\u001b[0m [\u001b[37mCiteLibrary\u001b[0m] \u001b[36mBuilding relations from cex ...\u001b[0m  \u001b[34m- (CiteLibrary.scala:166)\u001b[0m\n",
      "\u001b[34m2020-03-31 22:47:48.530-0400\u001b[0m  \u001b[36minfo\u001b[0m [\u001b[37mCiteLibrary\u001b[0m] \u001b[36mAll library components built.\u001b[0m  \u001b[34m- (CiteLibrary.scala:168)\u001b[0m\n"
     ]
    },
    {
     "data": {
      "text/plain": [
       "\u001b[36mfilePath\u001b[39m: \u001b[32mString\u001b[39m = \u001b[32m\"https://raw.githubusercontent.com/homermultitext/hmt-archive/master/releases-cex/hmt-2020f.cex\"\u001b[39m\n",
       "\u001b[36mlib\u001b[39m: \u001b[32mCiteLibrary\u001b[39m = \u001b[33mCiteLibrary\u001b[39m(\n",
       "  \u001b[32m\"Homer Multitext project, release 2020f\"\u001b[39m,\n",
       "  \u001b[33mCite2Urn\u001b[39m(\u001b[32m\"urn:cite2:hmt:publications.cex.2020f:all\"\u001b[39m),\n",
       "  \u001b[32m\"Creative Commons Attribution, Non-Commercial 4.0 License <https://creativecommons.org/licenses/by-nc/4.0/>.\"\u001b[39m,\n",
       "  \u001b[33mVector\u001b[39m(\n",
       "    \u001b[33mCiteNamespace\u001b[39m(\u001b[32m\"hmt\"\u001b[39m, http://www.homermultitext.org/citens/hmt),\n",
       "    \u001b[33mCiteNamespace\u001b[39m(\u001b[32m\"greekLit\"\u001b[39m, http://chs.harvard.edu/ctsns/greekLit)\n",
       "  ),\n",
       "  \u001b[33mSome\u001b[39m(\n",
       "    \u001b[33mTextRepository\u001b[39m(\n",
       "      \u001b[33mCorpus\u001b[39m(\n",
       "        \u001b[33mVector\u001b[39m(\n",
       "          \u001b[33mCitableNode\u001b[39m(\n",
       "            \u001b[33mCtsUrn\u001b[39m(\u001b[32m\"urn:cts:greekLit:tlg5026.msA.hmt:1.1.lemma\"\u001b[39m),\n",
       "            \u001b[32m\"\\u03bc\\u1fc6\\u03bd\\u03b9\\u03bd \\u1f04\\u03b5\\u03b9\\u03b4\\u03b5\"\u001b[39m\n",
       "          ),\n",
       "          \u001b[33mCitableNode\u001b[39m(\n",
       "            \u001b[33mCtsUrn\u001b[39m(\u001b[32m\"urn:cts:greekLit:tlg5026.msA.hmt:1.1.comment\"\u001b[39m),\n",
       "            \u001b[32m\"\\u03b6\\u03b7\\u03c4\\u03bf\\u1fe6\\u03c3\\u03b9 \\u03b4\\u03b9\\u03b1 \\u03c4\\u03af \\u1f00\\u03c0\\u1f78 \\u03c4\\u1fc6\\u03c2 \\u03bc\\u03ae\\u03bd\\u03b9\\u03b4\\u03bf\\u03c2 \\u1f24\\u03c1\\u03be\\u03b1\\u03c4\\u03bf \\u03bf\\u1f55\\u03c4\\u03c9\\u03c2 \\u03b4\\u03c5\\u03c3\\u03c6\\u03ae\\u03bc\\u03bf\\u03c5 \\u1f40\\u03bd\\u1f79\\u03bc\\u03b1\\u03c4\\u03bf\\u03c2\\u00b7 \\u03b4\\u03b9\\u03b1 \\u03b4\\u1f7b\\u03bf \\u03c4\\u03b1\\u1fe6\\u03c4\\u03b1\\u00b7 \\u03c0\\u03c1\\u1ff6\\u03c4\\u03bf\\u03bd \\u03bc\\u1f72\\u03bd \\u1f35\\u03bd' \\u1f10\\u03ba \\u03c4\\u03bf\\u1fe6 \\u03c0\\u1f71\\u03b8\\u03bf\\u03c5\\u03c2 \\u1f00\\u03c0\\u03ba\\u03b1\\u03c4\\u03b1\\u1fe5\\u03c1\\u03b5\\u1f7b\\u03c3\\u1fc3 \\u03c4\\u1f78 \\u03c4\\u03bf\\u03b9\\u03bf\\u1fe6\\u03c4\\u03bf \\u03bc\\u1f79\\u03c1\\u03b9\\u03bf\\u03bd \\u03c4\\u1fc6\\u03c2 \\u03c8\\u03c5\\u03c7\\u1fc6\\u03c2 \\u03ba\\u03b1\\u1f76 \\u03c0\\u03c1\\u03bf\\u03c3\\u03b5\\u03ba\\u03c4\\u03b9\\u03ba\\u03c9\\u03c4\\u1f73\\u03c1\\u03bf\\u03c5\\u03c2 \\u03c4\\u03bf\\u1f7a\\u03c2 \\u1f00\\u03ba\\u03c1\\u03bf\\u03b1\\u03c4\\u1f70\\u03c2 \\u1f10\\u03c0\\u03b9 \\u03c4\\u03bf\\u1fe6 \\u03bc\\u03b5\\u03b3\\u1f73\\u03b8\\u03bf\\u03c5\\u03c2 \\u03c0\\u03bf\\u03b9\\u03ae\\u03c3\\u1fc3 \\u03ba\\u03b1\\u1f76 \\u03c0\\u03c1\\u03bf\\u03c3\\u03b5\\u03b8\\u03af\\u03b6\\u1fc3 \\u03c6\\u1f73\\u03c1\\u03b5\\u03b9\\u03bd \\u03b3\\u03b5\\u03bd\\u03bd\\u03b1\\u03af\\u03c9\\u03c2 \\u1f21\\u03bc\\u1fb6\\u03c2 \\u03c4\\u1f70 \\u03c0\\u1f71\\u03b8\\u03b7 . \\u03bc\\u1f73\\u03bb\\u03bb\\u03c9\\u03bd \\u03c0\\u03bf\\u03bb\\u03bb\\u1f73\\u03bc\\u03bf\\u03c5\\u03c2 \\u1f00\\u03c0\\u03b1\\u03b3\\u03b3\\u1f73\\u03bb\\u03bb\\u03b5\\u03b9\\u03bd\\u00b7 \\u03b4\\u03b5\\u1f7b\\u03c4\\u03b5\\u03c1\\u03bf\\u03bd . \\u1f35\\u03bd\\u03b1 \\u03c4\\u1f70 \\u1f10\\u03b3\\u03ba\\u1f7d\\u03bc\\u03b9\\u03b1\u001b[39m..."
      ]
     },
     "execution_count": 15,
     "metadata": {},
     "output_type": "execute_result"
    }
   ],
   "source": [
    "val filePath = s\"https://raw.githubusercontent.com/homermultitext/hmt-archive/master/releases-cex/hmt-2020f.cex\"\n",
    "val lib: CiteLibrary = CiteLibrarySource.fromUrl(filePath)\n",
    "\n",
    "//val filePath = s\"hmt-test.cex\"\n",
    "//val lib: CiteLibrary = CiteLibrarySource.fromFile(filePath)"
   ]
  },
  {
   "cell_type": "markdown",
   "metadata": {},
   "source": [
    "Get parts of the CITE Library in convenient form:"
   ]
  },
  {
   "cell_type": "code",
   "execution_count": 16,
   "metadata": {},
   "outputs": [
    {
     "data": {
      "text/html": [
       "<div class=\"jp-RenderedText\">\n",
       "<pre><code><span style=\"color: rgb(0, 187, 187)\"><span class=\"ansi-cyan-fg\">tr</span></span>: <span style=\"color: rgb(0, 187, 0)\"><span class=\"ansi-green-fg\">TextRepository</span></span> = <span style=\"color: yellow\"><span class=\"ansi-yellow-fg\">TextRepository</span></span>(\n",
       "  <span style=\"color: yellow\"><span class=\"ansi-yellow-fg\">Corpus</span></span>(\n",
       "    <span style=\"color: yellow\"><span class=\"ansi-yellow-fg\">Vector</span></span>(\n",
       "      <span style=\"color: yellow\"><span class=\"ansi-yellow-fg\">CitableNode</span></span>(\n",
       "        <span style=\"color: yellow\"><span class=\"ansi-yellow-fg\">CtsUrn</span></span>(<span style=\"color: rgb(0, 187, 0)\"><span class=\"ansi-green-fg\">&quot;urn:cts:greekLit:tlg5026.msA.hmt:1.1.lemma&quot;</span></span>),\n",
       "        <span style=\"color: rgb(0, 187, 0)\"><span class=\"ansi-green-fg\">&quot;\\u03bc\\u1fc6\\u03bd\\u03b9\\u03bd \\u1f04\\u03b5\\u03b9\\u03b4\\u03b5&quot;</span></span>\n",
       "      ),\n",
       "      <span style=\"color: yellow\"><span class=\"ansi-yellow-fg\">CitableNode</span></span>(\n",
       "        <span style=\"color: yellow\"><span class=\"ansi-yellow-fg\">CtsUrn</span></span>(<span style=\"color: rgb(0, 187, 0)\"><span class=\"ansi-green-fg\">&quot;urn:cts:greekLit:tlg5026.msA.hmt:1.1.comment&quot;</span></span>),\n",
       "        <span style=\"color: rgb(0, 187, 0)\"><span class=\"ansi-green-fg\">&quot;\\u03b6\\u03b7\\u03c4\\u03bf\\u1fe6\\u03c3\\u03b9 \\u03b4\\u03b9\\u03b1 \\u03c4\\u03af \\u1f00\\u03c0\\u1f78 \\u03c4\\u1fc6\\u03c2 \\u03bc\\u03ae\\u03bd\\u03b9\\u03b4\\u03bf\\u03c2 \\u1f24\\u03c1\\u03be\\u03b1\\u03c4\\u03bf \\u03bf\\u1f55\\u03c4\\u03c9\\u03c2 \\u03b4\\u03c5\\u03c3\\u03c6\\u03ae\\u03bc\\u03bf\\u03c5 \\u1f40\\u03bd\\u1f79\\u03bc\\u03b1\\u03c4\\u03bf\\u03c2\\u00b7 \\u03b4\\u03b9\\u03b1 \\u03b4\\u1f7b\\u03bf \\u03c4\\u03b1\\u1fe6\\u03c4\\u03b1\\u00b7 \\u03c0\\u03c1\\u1ff6\\u03c4\\u03bf\\u03bd \\u03bc\\u1f72\\u03bd \\u1f35\\u03bd' \\u1f10\\u03ba \\u03c4\\u03bf\\u1fe6 \\u03c0\\u1f71\\u03b8\\u03bf\\u03c5\\u03c2 \\u1f00\\u03c0\\u03ba\\u03b1\\u03c4\\u03b1\\u1fe5\\u03c1\\u03b5\\u1f7b\\u03c3\\u1fc3 \\u03c4\\u1f78 \\u03c4\\u03bf\\u03b9\\u03bf\\u1fe6\\u03c4\\u03bf \\u03bc\\u1f79\\u03c1\\u03b9\\u03bf\\u03bd \\u03c4\\u1fc6\\u03c2 \\u03c8\\u03c5\\u03c7\\u1fc6\\u03c2 \\u03ba\\u03b1\\u1f76 \\u03c0\\u03c1\\u03bf\\u03c3\\u03b5\\u03ba\\u03c4\\u03b9\\u03ba\\u03c9\\u03c4\\u1f73\\u03c1\\u03bf\\u03c5\\u03c2 \\u03c4\\u03bf\\u1f7a\\u03c2 \\u1f00\\u03ba\\u03c1\\u03bf\\u03b1\\u03c4\\u1f70\\u03c2 \\u1f10\\u03c0\\u03b9 \\u03c4\\u03bf\\u1fe6 \\u03bc\\u03b5\\u03b3\\u1f73\\u03b8\\u03bf\\u03c5\\u03c2 \\u03c0\\u03bf\\u03b9\\u03ae\\u03c3\\u1fc3 \\u03ba\\u03b1\\u1f76 \\u03c0\\u03c1\\u03bf\\u03c3\\u03b5\\u03b8\\u03af\\u03b6\\u1fc3 \\u03c6\\u1f73\\u03c1\\u03b5\\u03b9\\u03bd \\u03b3\\u03b5\\u03bd\\u03bd\\u03b1\\u03af\\u03c9\\u03c2 \\u1f21\\u03bc\\u1fb6\\u03c2 \\u03c4\\u1f70 \\u03c0\\u1f71\\u03b8\\u03b7 . \\u03bc\\u1f73\\u03bb\\u03bb\\u03c9\\u03bd \\u03c0\\u03bf\\u03bb\\u03bb\\u1f73\\u03bc\\u03bf\\u03c5\\u03c2 \\u1f00\\u03c0\\u03b1\\u03b3\\u03b3\\u1f73\\u03bb\\u03bb\\u03b5\\u03b9\\u03bd\\u00b7 \\u03b4\\u03b5\\u1f7b\\u03c4\\u03b5\\u03c1\\u03bf\\u03bd . \\u1f35\\u03bd\\u03b1 \\u03c4\\u1f70 \\u1f10\\u03b3\\u03ba\\u1f7d\\u03bc\\u03b9\\u03b1 \\u03c4\\u1ff6\\u03bd \\u1f19\\u03bb\\u03bb\\u03ae\\u03bd\\u03c9\\u03bd \\u03c0\\u03b9\\u03b8\\u03b1\\u03bd\\u1f7d\\u03c4\\u03b5\\u03c1\\u03b1 \\u03c0\\u03bf\\u03b9\\u03ae\\u03c3\\u1fc3\\u00b7 \\u1f10\\u03c0\\u03b5\\u1f76 \\u03b4\\u1f72 \\u1f14\\u03bc\\u03b5\\u03bb\\u03bb\\u03b5 , \\u03bd\\u03b9\\u03ba\\u03c9\\u03bd\\u03c4\\u03b1\\u03c2 \\u1f00\\u03c0\\u03bf\\u03c6\\u03b1\\u03af\\u03bd\\u03b5\\u03b9\\u03bd \\u03c4\\u03bf\\u1f7a\\u03c2 \\u1f19\\u03bb\\u03bb\\u03b7\\u03bd\\u03b1\\u03c2 , \\u03b5\\u1f30\\u03ba\\u1f79\\u03c4\\u03c9\\u03c2 \\u03bf\\u1f50 \\u03ba\\u03b1\\u03c4\\u03b1\\u03c4\\u03c1\\u1f73\\u03c7\\u03b5\\u03b9 \\u1f00\\u03be\\u03b9\\u03bf\\u03c0\\u03b9\\u03c3\\u03c4\\u1f79\\u03c4\\u03b5\\u03c1\\u03bf\\u03bd \\u1f10\\u03ba \\u03c4\\u03bf\\u1fe6 \\u03bc\\u1f74 \\u03c0\\u03b1\\u03bd\\u03c4\\u03b1 \\u03c7\\u03b1\\u03c1\\u03af\\u03b6\\u03b5\\u03c3\\u03b8\\u03b1\\u03b9 \\u03c4\\u1ff7 \\u03b5\\u03ba\\u03b5\\u03af\\u03</span></span>...\n",
       "<span style=\"color: rgb(0, 187, 187)\"><span class=\"ansi-cyan-fg\">venetusACorpus</span></span>: <span style=\"color: rgb(0, 187, 0)\"><span class=\"ansi-green-fg\">Corpus</span></span> = <span style=\"color: yellow\"><span class=\"ansi-yellow-fg\">Corpus</span></span>(\n",
       "  <span style=\"color: yellow\"><span class=\"ansi-yellow-fg\">Vector</span></span>(\n",
       "    <span style=\"color: yellow\"><span class=\"ansi-yellow-fg\">CitableNode</span></span>(\n",
       "      <span style=\"color: yellow\"><span class=\"ansi-yellow-fg\">CtsUrn</span></span>(<span style=\"color: rgb(0, 187, 0)\"><span class=\"ansi-green-fg\">&quot;urn:cts:greekLit:tlg5026.msA.hmt:1.1.lemma&quot;</span></span>),\n",
       "      <span style=\"color: rgb(0, 187, 0)\"><span class=\"ansi-green-fg\">&quot;\\u03bc\\u1fc6\\u03bd\\u03b9\\u03bd \\u1f04\\u03b5\\u03b9\\u03b4\\u03b5&quot;</span></span>\n",
       "    ),\n",
       "    <span style=\"color: yellow\"><span class=\"ansi-yellow-fg\">CitableNode</span></span>(\n",
       "      <span style=\"color: yellow\"><span class=\"ansi-yellow-fg\">CtsUrn</span></span>(<span style=\"color: rgb(0, 187, 0)\"><span class=\"ansi-green-fg\">&quot;urn:cts:greekLit:tlg5026.msA.hmt:1.1.comment&quot;</span></span>),\n",
       "      <span style=\"color: rgb(0, 187, 0)\"><span class=\"ansi-green-fg\">&quot;\\u03b6\\u03b7\\u03c4\\u03bf\\u1fe6\\u03c3\\u03b9 \\u03b4\\u03b9\\u03b1 \\u03c4\\u03af \\u1f00\\u03c0\\u1f78 \\u03c4\\u1fc6\\u03c2 \\u03bc\\u03ae\\u03bd\\u03b9\\u03b4\\u03bf\\u03c2 \\u1f24\\u03c1\\u03be\\u03b1\\u03c4\\u03bf \\u03bf\\u1f55\\u03c4\\u03c9\\u03c2 \\u03b4\\u03c5\\u03c3\\u03c6\\u03ae\\u03bc\\u03bf\\u03c5 \\u1f40\\u03bd\\u1f79\\u03bc\\u03b1\\u03c4\\u03bf\\u03c2\\u00b7 \\u03b4\\u03b9\\u03b1 \\u03b4\\u1f7b\\u03bf \\u03c4\\u03b1\\u1fe6\\u03c4\\u03b1\\u00b7 \\u03c0\\u03c1\\u1ff6\\u03c4\\u03bf\\u03bd \\u03bc\\u1f72\\u03bd \\u1f35\\u03bd' \\u1f10\\u03ba \\u03c4\\u03bf\\u1fe6 \\u03c0\\u1f71\\u03b8\\u03bf\\u03c5\\u03c2 \\u1f00\\u03c0\\u03ba\\u03b1\\u03c4\\u03b1\\u1fe5\\u03c1\\u03b5\\u1f7b\\u03c3\\u1fc3 \\u03c4\\u1f78 \\u03c4\\u03bf\\u03b9\\u03bf\\u1fe6\\u03c4\\u03bf \\u03bc\\u1f79\\u03c1\\u03b9\\u03bf\\u03bd \\u03c4\\u1fc6\\u03c2 \\u03c8\\u03c5\\u03c7\\u1fc6\\u03c2 \\u03ba\\u03b1\\u1f76 \\u03c0\\u03c1\\u03bf\\u03c3\\u03b5\\u03ba\\u03c4\\u03b9\\u03ba\\u03c9\\u03c4\\u1f73\\u03c1\\u03bf\\u03c5\\u03c2 \\u03c4\\u03bf\\u1f7a\\u03c2 \\u1f00\\u03ba\\u03c1\\u03bf\\u03b1\\u03c4\\u1f70\\u03c2 \\u1f10\\u03c0\\u03b9 \\u03c4\\u03bf\\u1fe6 \\u03bc\\u03b5\\u03b3\\u1f73\\u03b8\\u03bf\\u03c5\\u03c2 \\u03c0\\u03bf\\u03b9\\u03ae\\u03c3\\u1fc3 \\u03ba\\u03b1\\u1f76 \\u03c0\\u03c1\\u03bf\\u03c3\\u03b5\\u03b8\\u03af\\u03b6\\u1fc3 \\u03c6\\u1f73\\u03c1\\u03b5\\u03b9\\u03bd \\u03b3\\u03b5\\u03bd\\u03bd\\u03b1\\u03af\\u03c9\\u03c2 \\u1f21\\u03bc\\u1fb6\\u03c2 \\u03c4\\u1f70 \\u03c0\\u1f71\\u03b8\\u03b7 . \\u03bc\\u1f73\\u03bb\\u03bb\\u03c9\\u03bd \\u03c0\\u03bf\\u03bb\\u03bb\\u1f73\\u03bc\\u03bf\\u03c5\\u03c2 \\u1f00\\u03c0\\u03b1\\u03b3\\u03b3\\u1f73\\u03bb\\u03bb\\u03b5\\u03b9\\u03bd\\u00b7 \\u03b4\\u03b5\\u1f7b\\u03c4\\u03b5\\u03c1\\u03bf\\u03bd . \\u1f35\\u03bd\\u03b1 \\u03c4\\u1f70 \\u1f10\\u03b3\\u03ba\\u1f7d\\u03bc\\u03b9\\u03b1 \\u03c4\\u1ff6\\u03bd \\u1f19\\u03bb\\u03bb\\u03ae\\u03bd\\u03c9\\u03bd \\u03c0\\u03b9\\u03b8\\u03b1\\u03bd\\u1f7d\\u03c4\\u03b5\\u03c1\\u03b1 \\u03c0\\u03bf\\u03b9\\u03ae\\u03c3\\u1fc3\\u00b7 \\u1f10\\u03c0\\u03b5\\u1f76 \\u03b4\\u1f72 \\u1f14\\u03bc\\u03b5\\u03bb\\u03bb\\u03b5 , \\u03bd\\u03b9\\u03ba\\u03c9\\u03bd\\u03c4\\u03b1\\u03c2 \\u1f00\\u03c0\\u03bf\\u03c6\\u03b1\\u03af\\u03bd\\u03b5\\u03b9\\u03bd \\u03c4\\u03bf\\u1f7a\\u03c2 \\u1f19\\u03bb\\u03bb\\u03b7\\u03bd\\u03b1\\u03c2 , \\u03b5\\u1f30\\u03ba\\u1f79\\u03c4\\u03c9\\u03c2 \\u03bf\\u1f50 \\u03ba\\u03b1\\u03c4\\u03b1\\u03c4\\u03c1\\u1f73\\u03c7\\u03b5\\u03b9 \\u1f00\\u03be\\u03b9\\u03bf\\u03c0\\u03b9\\u03c3\\u03c4\\u1f79\\u03c4\\u03b5\\u03c1\\u03bf\\u03bd \\u1f10\\u03ba \\u03c4\\u03bf\\u1fe6 \\u03bc\\u1f74 \\u03c0\\u03b1\\u03bd\\u03c4\\u03b1 \\u03c7\\u03b1\\u03c1\\u03af\\u03b6\\u03b5\\u03c3\\u03b8\\u03b1\\u03b9 \\u03c4\\u1ff7 \\u03b5\\u03ba\\u03b5\\u03af\\u03bd\\u03c9\\u03bd \\u1f10\\u03c0\\u03b1\\u03af\\u03bd\\u1ff3\\u00b7 \\u1f24\\u03c1\\u03be\\u03b1</span></span>...\n",
       "<span style=\"color: rgb(0, 187, 187)\"><span class=\"ansi-cyan-fg\">venetusACatalog</span></span>: <span style=\"color: rgb(0, 187, 0)\"><span class=\"ansi-green-fg\">Catalog</span></span> = <span style=\"color: yellow\"><span class=\"ansi-yellow-fg\">Catalog</span></span>(\n",
       "  <span style=\"color: yellow\"><span class=\"ansi-yellow-fg\">Vector</span></span>(\n",
       "    <span style=\"color: yellow\"><span class=\"ansi-yellow-fg\">CatalogEntry</span></span>(\n",
       "      <span style=\"color: yellow\"><span class=\"ansi-yellow-fg\">CtsUrn</span></span>(<span style=\"color: rgb(0, 187, 0)\"><span class=\"ansi-green-fg\">&quot;urn:cts:greekLit:tlg5026.msA.hmt:&quot;</span></span>),\n",
       "      <span style=\"color: rgb(0, 187, 0)\"><span class=\"ansi-green-fg\">&quot;book,scholion, section&quot;</span></span>,\n",
       "      <span style=\"color: rgb(0, 187, 0)\"><span class=\"ansi-green-fg\">&quot;grc&quot;</span></span>,\n",
       "      <span style=\"color: rgb(0, 187, 0)\"><span class=\"ansi-green-fg\">&quot;Scholia to the Iliad&quot;</span></span>,\n",
       "      <span style=\"color: rgb(0, 187, 0)\"><span class=\"ansi-green-fg\">&quot;Scholia msA in the Venetus A&quot;</span></span>,\n",
       "      <span style=\"color: yellow\"><span class=\"ansi-yellow-fg\">Some</span></span>(<span style=\"color: rgb(0, 187, 0)\"><span class=\"ansi-green-fg\">&quot;HMT project diplomatic edition&quot;</span></span>),\n",
       "      <span style=\"color: rgb(0, 187, 0)\"><span class=\"ansi-green-fg\">None</span></span>,\n",
       "      true\n",
       "    ),\n",
       "    <span style=\"color: yellow\"><span class=\"ansi-yellow-fg\">CatalogEntry</span></span>(\n",
       "      <span style=\"color: yellow\"><span class=\"ansi-yellow-fg\">CtsUrn</span></span>(<span style=\"color: rgb(0, 187, 0)\"><span class=\"ansi-green-fg\">&quot;urn:cts:greekLit:tlg5026.msAext.hmt:&quot;</span></span>),\n",
       "      <span style=\"color: rgb(0, 187, 0)\"><span class=\"ansi-green-fg\">&quot;book,scholion, section&quot;</span></span>,\n",
       "      <span style=\"color: rgb(0, 187, 0)\"><span class=\"ansi-green-fg\">&quot;grc&quot;</span></span>,\n",
       "      <span style=\"color: rgb(0, 187, 0)\"><span class=\"ansi-green-fg\">&quot;Scholia to the Iliad&quot;</span></span>,\n",
       "      <span style=\"color: rgb(0, 187, 0)\"><span class=\"ansi-green-fg\">&quot;Scholia msAext in the Venetus A&quot;</span></span>,\n",
       "      <span style=\"color: yellow\"><span class=\"ansi-yellow-fg\">Some</span></span>(<span style=\"color: rgb(0, 187, 0)\"><span class=\"ansi-green-fg\">&quot;HMT project diplomatic edition&quot;</span></span>),\n",
       "      <span style=\"color: rgb(0, 187, 0)\"><span class=\"ansi-green-fg\">None</span></span>,\n",
       "      true\n",
       "    ),\n",
       "    <span style=\"color: yellow\"><span class=\"ansi-yellow-fg\">CatalogEntry</span></span>(\n",
       "      <span style=\"color: yellow\"><span class=\"ansi-yellow-fg\">CtsUrn</span></span>(<span style=\"color: rgb(0, 187, 0)\"><span class=\"ansi-green-fg\">&quot;urn:cts:greekLit:tlg5026.msAil.hmt:&quot;</span></span>),\n",
       "      <span style=\"color: rgb(0, 187, 0)\"><span class=\"ansi-green-fg\">&quot;book,scholion, section&quot;</span></span>,\n",
       "      <span style=\"color: rgb(0, 187, 0)\"><span class=\"ansi-green-fg\">&quot;grc&quot;</span></span>,\n",
       "      <span style=\"color: rgb(0, 187, 0)\"><span class=\"ansi-green-fg\">&quot;Scholia to the Iliad&quot;</span></span>,\n",
       "      <span style=\"color: rgb(0, 187, 0)\"><span class=\"ansi-green-fg\">&quot;Scholia msAil in the Venetus A&quot;</span></span>,\n",
       "      <span style=\"color: yellow\"><span class=\"ansi-yellow-fg\">Some</span></span>(<span style=\"color: rgb(0, 187, 0)\"><span class=\"ansi-green-fg\">&quot;HMT project diplomatic edition&quot;</span></span>),\n",
       "      <span style=\"color: rgb(0, 187, 0)\"><span class=\"ansi-green-fg\">None</span></span>,\n",
       "      true\n",
       "    ),\n",
       "    <span style=\"color: yellow\"><span class=\"ansi-yellow-fg\">CatalogEntry</span></span>(\n",
       "      <span style=\"color: yellow\"><span class=\"ansi-yellow-fg\">CtsUrn</span></span>(<span style=\"color: rgb(0, 187, 0)\"><span class=\"ansi-green-fg\">&quot;urn:cts:greekLit:tlg5026.msAim.hmt:&quot;</span></span>),\n",
       "      <span style=\"color: rgb(0, 187, 0)\"><span class=\"ansi-green-fg\">&quot;book,scholion, section&quot;</span></span>,\n",
       "      <span style=\"color: rgb(0, 187, 0)\"><span class=\"ansi-green-fg\">&quot;grc&quot;</span></span>,\n",
       "      <span style=\"color: rgb(0, 187, 0)\"><span class=\"ansi-green-fg\">&quot;Scholia to the Iliad&quot;</span></span>,\n",
       "      <span style=\"color: rgb(0, 187, 0)\"><span class=\"ansi-green-fg\">&quot;Scholia msAim in the Venetus A&quot;</span></span>,\n",
       "      <span style=\"color: yellow\"><span class=\"ansi-yellow-fg\">Some</span></span>(<span style=\"color: rgb(0, 187, 0)\"><span class=\"ansi-green-fg\">&quot;HMT project diplomatic edition&quot;</span></span>),\n",
       "...\n",
       "<span style=\"color: rgb(0, 187, 187)\"><span class=\"ansi-cyan-fg\">venetusACollections</span></span>: <span style=\"color: rgb(0, 187, 0)\"><span class=\"ansi-green-fg\">CiteCollectionRepository</span></span> = <span style=\"color: yellow\"><span class=\"ansi-yellow-fg\">CiteCollectionRepository</span></span>(\n",
       "  <span style=\"color: yellow\"><span class=\"ansi-yellow-fg\">CiteCollectionData</span></span>(\n",
       "    <span style=\"color: yellow\"><span class=\"ansi-yellow-fg\">Vector</span></span>(\n",
       "      <span style=\"color: yellow\"><span class=\"ansi-yellow-fg\">CitePropertyValue</span></span>(\n",
       "        <span style=\"color: yellow\"><span class=\"ansi-yellow-fg\">Cite2Urn</span></span>(<span style=\"color: rgb(0, 187, 0)\"><span class=\"ansi-green-fg\">&quot;urn:cite2:cite:datamodels.v1.description:imagemodel&quot;</span></span>),\n",
       "        <span style=\"color: rgb(0, 187, 0)\"><span class=\"ansi-green-fg\">&quot;Model of a citable image.  See http://cite-architecture.github.io/imagemodel/.&quot;</span></span>\n",
       "      ),\n",
       "      <span style=\"color: yellow\"><span class=\"ansi-yellow-fg\">CitePropertyValue</span></span>(\n",
       "        <span style=\"color: yellow\"><span class=\"ansi-yellow-fg\">Cite2Urn</span></span>(<span style=\"color: rgb(0, 187, 0)\"><span class=\"ansi-green-fg\">&quot;urn:cite2:cite:datamodels.v1.urn:imagemodel&quot;</span></span>),\n",
       "        <span style=\"color: yellow\"><span class=\"ansi-yellow-fg\">Cite2Urn</span></span>(<span style=\"color: rgb(0, 187, 0)\"><span class=\"ansi-green-fg\">&quot;urn:cite2:cite:datamodels.v1:imagemodel&quot;</span></span>)\n",
       "      ),\n",
       "      <span style=\"color: yellow\"><span class=\"ansi-yellow-fg\">CitePropertyValue</span></span>(\n",
       "        <span style=\"color: yellow\"><span class=\"ansi-yellow-fg\">Cite2Urn</span></span>(<span style=\"color: rgb(0, 187, 0)\"><span class=\"ansi-green-fg\">&quot;urn:cite2:cite:datamodels.v1.label:imagemodel&quot;</span></span>),\n",
       "        <span style=\"color: rgb(0, 187, 0)\"><span class=\"ansi-green-fg\">&quot;Citable Image&quot;</span></span>\n",
       "      ),\n",
       "      <span style=\"color: yellow\"><span class=\"ansi-yellow-fg\">CitePropertyValue</span></span>(\n",
       "        <span style=\"color: yellow\"><span class=\"ansi-yellow-fg\">Cite2Urn</span></span>(<span style=\"color: rgb(0, 187, 0)\"><span class=\"ansi-green-fg\">&quot;urn:cite2:cite:datamodels.v1.description:binaryimg&quot;</span></span>),\n",
       "        <span style=\"color: rgb(0, 187, 0)\"><span class=\"ansi-green-fg\">&quot;Model of a binary image data associated with a citable image.  See TBA.&quot;</span></span>\n",
       "      ),\n",
       "      <span style=\"color: yellow\"><span class=\"ansi-yellow-fg\">CitePropertyValue</span></span>(\n",
       "        <span style=\"color: yellow\"><span class=\"ansi-yellow-fg\">Cite2Urn</span></span>(<span style=\"color: rgb(0, 187, 0)\"><span class=\"ansi-green-fg\">&quot;urn:cite2:cite:datamodels.v1.urn:binaryimg&quot;</span></span>),\n",
       "        <span style=\"color: yellow\"><span class=\"ansi-yellow-fg\">Cite2Urn</span></span>(<span style=\"color: rgb(0, 187, 0)\"><span class=\"ansi-green-fg\">&quot;urn:cite2:cite:datamodels.v1:binaryimg&quot;</span></span>)\n",
       "      ),\n",
       "      <span style=\"color: yellow\"><span class=\"ansi-yellow-fg\">CitePropertyValue</span></span>(\n",
       "        <span style=\"color: yellow\"><span class=\"ansi-yellow-fg\">Cite2Urn</span></span>(<span style=\"color: rgb(0, 187, 0)\"><span class=\"ansi-green-fg\">&quot;urn:cite2:cite:datamodels.v1.label:binaryimg&quot;</span></span>),\n",
       "        <span style=\"color: rgb(0, 187, 0)\"><span class=\"ansi-green-fg\">&quot;Binary image data&quot;</span></span>\n",
       "      ),\n",
       "      <span style=\"color: yellow\"><span class=\"ansi-yellow-fg\">CitePropertyValue</span></span>(\n",
       "        <span style=\"color: yellow\"><span class=\"ansi-yellow-fg\">Cite2Urn</span></span>(<span style=\"color: rgb(0, 187, 0)\"><span class=\"ansi-green-fg\">&quot;urn:cite2:cite:datamodels.v1.description:tbsmodel&quot;</span></span>),\n",
       "        <span style=\"color: rgb(0, 187, 0)\"><span class=\"ansi-green-fg\">&quot;Model of TextBearing Surfaces.  See http://cite-architecture.github.io/tbsmodel/.&quot;</span></span>\n",
       "      ),\n",
       "      <span style=\"color: yellow\"><span class=\"ansi-yellow-fg\">CitePropertyValue</span></span>(\n",
       "        <span style=\"color: yellow\"><span class=\"ansi-yellow-fg\">Cite2Urn</span></span>(<span style=\"color: rgb(0, 187, 0)\"><span class=\"ansi-green-fg\">&quot;urn:cite2:cite:datamodels.v1.urn:tbsmodel&quot;</span></span>),\n",
       "        <span style=\"color: yellow\"><span class=\"ansi-yellow-fg\">Cite2Urn</span></span>(<span style=\"color: rgb(0, 187, 0)\"><span class=\"ansi-green-fg\">&quot;urn:cite2:cite:datamodels.v1:tbsmodel&quot;</span></span>)\n",
       "      ),\n",
       "      <span style=\"color: yellow\"><span class=\"ansi-yellow-fg\">CitePropertyValue</span></span>(\n",
       "...\n",
       "<span style=\"color: rgb(0, 187, 187)\"><span class=\"ansi-cyan-fg\">venetusARelations</span></span>: <span style=\"color: rgb(0, 187, 0)\"><span class=\"ansi-green-fg\">CiteRelationSet</span></span> = <span style=\"color: yellow\"><span class=\"ansi-yellow-fg\">CiteRelationSet</span></span>(\n",
       "  <span style=\"color: yellow\"><span class=\"ansi-yellow-fg\">Set</span></span>(\n",
       "    <span style=\"color: yellow\"><span class=\"ansi-yellow-fg\">CiteTriple</span></span>(\n",
       "      <span style=\"color: yellow\"><span class=\"ansi-yellow-fg\">Cite2Urn</span></span>(<span style=\"color: rgb(0, 187, 0)\"><span class=\"ansi-green-fg\">&quot;urn:cite2:hmt:e4img.2019a:E4202v_020&quot;</span></span>),\n",
       "      <span style=\"color: yellow\"><span class=\"ansi-yellow-fg\">Cite2Urn</span></span>(<span style=\"color: rgb(0, 187, 0)\"><span class=\"ansi-green-fg\">&quot;urn:cite2:cite:verbs.v1:illustrates&quot;</span></span>),\n",
       "      <span style=\"color: yellow\"><span class=\"ansi-yellow-fg\">CtsUrn</span></span>(<span style=\"color: rgb(0, 187, 0)\"><span class=\"ansi-green-fg\">&quot;urn:cts:greekLit:tlg0012.tlg001:23.683&quot;</span></span>)\n",
       "    ),\n",
       "    <span style=\"color: yellow\"><span class=\"ansi-yellow-fg\">CiteTriple</span></span>(\n",
       "      <span style=\"color: yellow\"><span class=\"ansi-yellow-fg\">Cite2Urn</span></span>(<span style=\"color: rgb(0, 187, 0)\"><span class=\"ansi-green-fg\">&quot;urn:cite2:hmt:compimg.v1:Comparetti_326recto340&quot;</span></span>),\n",
       "      <span style=\"color: yellow\"><span class=\"ansi-yellow-fg\">Cite2Urn</span></span>(<span style=\"color: rgb(0, 187, 0)\"><span class=\"ansi-green-fg\">&quot;urn:cite2:cite:verbs.v1:illustrates&quot;</span></span>),\n",
       "      <span style=\"color: yellow\"><span class=\"ansi-yellow-fg\">Cite2Urn</span></span>(<span style=\"color: rgb(0, 187, 0)\"><span class=\"ansi-green-fg\">&quot;urn:cite2:hmt:msA.v1:326r&quot;</span></span>)\n",
       "    ),\n",
       "    <span style=\"color: yellow\"><span class=\"ansi-yellow-fg\">CiteTriple</span></span>(\n",
       "      <span style=\"color: yellow\"><span class=\"ansi-yellow-fg\">Cite2Urn</span></span>(<span style=\"color: rgb(0, 187, 0)\"><span class=\"ansi-green-fg\">&quot;urn:cite2:hmt:u4img.2019a:U4191VN_0390&quot;</span></span>),\n",
       "      <span style=\"color: yellow\"><span class=\"ansi-yellow-fg\">Cite2Urn</span></span>(<span style=\"color: rgb(0, 187, 0)\"><span class=\"ansi-green-fg\">&quot;urn:cite2:cite:verbs.v1:illustrates&quot;</span></span>),\n",
       "      <span style=\"color: yellow\"><span class=\"ansi-yellow-fg\">CtsUrn</span></span>(<span style=\"color: rgb(0, 187, 0)\"><span class=\"ansi-green-fg\">&quot;urn:cts:greekLit:tlg0012.tlg001:24.701&quot;</span></span>)\n",
       "    ),\n",
       "    <span style=\"color: yellow\"><span class=\"ansi-yellow-fg\">CiteTriple</span></span>(\n",
       "      <span style=\"color: yellow\"><span class=\"ansi-yellow-fg\">Cite2Urn</span></span>(<span style=\"color: rgb(0, 187, 0)\"><span class=\"ansi-green-fg\">&quot;urn:cite2:hmt:vaimg.2017a:VA092VN_0595&quot;</span></span>),\n",
       "      <span style=\"color: yellow\"><span class=\"ansi-yellow-fg\">Cite2Urn</span></span>(<span style=\"color: rgb(0, 187, 0)\"><span class=\"ansi-green-fg\">&quot;urn:cite2:cite:verbs.v1:illustrates&quot;</span></span>),\n",
       "      <span style=\"color: yellow\"><span class=\"ansi-yellow-fg\">Cite2Urn</span></span>(<span style=\"color: rgb(0, 187, 0)\"><span class=\"ansi-green-fg\">&quot;urn:cite2:hmt:msA.v1:92v&quot;</span></span>)\n",
       "    ),\n",
       "    <span style=\"color: yellow\"><span class=\"ansi-yellow-fg\">CiteTriple</span></span>(\n",
       "      <span style=\"color: yellow\"><span class=\"ansi-yellow-fg\">CtsUrn</span></span>(<span style=\"color: rgb(0, 187, 0)\"><span class=\"ansi-green-fg\">&quot;urn:cts:greekLit:tlg0012.tlg001:17.497&quot;</span></span>),\n",
       "      <span style=\"color: yellow\"><span class=\"ansi-yellow-fg\">Cite2Urn</span></span>(<span style=\"color: rgb(0, 187, 0)\"><span class=\"ansi-green-fg\">&quot;urn:cite2:cite:verbs.v1:appearsOn&quot;</span></span>),\n",
       "      <span style=\"color: yellow\"><span class=\"ansi-yellow-fg\">Cite2Urn</span></span>(<span style=\"color: rgb(0, 187, 0)\"><span class=\"ansi-green-fg\">&quot;urn:cite2:hmt:e4.v1:154r&quot;</span></span>)\n",
       "    ),\n",
       "    <span style=\"color: yellow\"><span class=\"ansi-yellow-fg\">CiteTriple</span></span>(\n",
       "      <span style=\"color: yellow\"><span class=\"ansi-yellow-fg\">Cite2Urn</span></span>(<span style=\"color: rgb(0, 187, 0)\"><span class=\"ansi-green-fg\">&quot;urn:cite2:hmt:e4img.2019a:E4028v_218&quot;</span></span>),\n",
       "      <span style=\"color: yellow\"><span class=\"ansi-yellow-fg\">Cite2Urn</span></span>(<span style=\"color: rgb(0, 187, 0)\"><span class=\"ansi-green-fg\">&quot;urn:cite2:cite:verbs.v1:illustrates&quot;</span></span>),\n",
       "      <span style=\"color: yellow\"><span class=\"ansi-yellow-fg\">CtsUrn</span></span>(<span style=\"color: rgb(0, 187, 0)\"><span class=\"ansi-green-fg\">&quot;urn:cts:greekLit:tlg0012.tlg001:3.137&quot;</span></span>)\n",
       "    ),\n",
       "    <span style=\"color: yellow\"><span class=\"ansi-yellow-fg\">CiteTriple</span></span>(\n",
       "      <span style=\"color: yellow\"><span class=\"ansi-yellow-fg\">Cite2Urn</span></span>(<span style=\"color: rgb(0, 187, 0)\"><span class=\"ansi-green-fg\">&quot;urn:cite2:hmt:e4img.2019a:E4064v_180&quot;</span></span>),\n",
       "      <span style=\"color: yellow\"><span class=\"ansi-yellow-fg\">Cite2Urn</span></span>(<span style=\"color: rgb(0, 187, 0)\"><span class=\"ansi-green-fg\">&quot;urn:cite2:cite:verbs.v1:illustrates&quot;</span></span>),\n",
       "      <span style=\"color: yellow\"><span class=\"ansi-yellow-fg\">CtsUrn</span></span>(<span style=\"color: rgb(0, 187, 0)\"><span class=\"ansi-green-fg\">&quot;urn:cts:greekLit:tlg0012.tlg001:7.466&quot;</span></span>)\n",
       "    ),\n",
       "    <span style=\"color: yellow\"><span class=\"ansi-yellow-fg\">CiteTriple</span></span>(\n",
       "      <span style=\"color: yellow\"><span class=\"ansi-yellow-fg\">Cite2Urn</span></span>(<span style=\"color: rgb(0, 187, 0)\"><span class=\"ansi-green-fg\">&quot;urn:cite2:hmt:u4img.2019a:U4016RN_0031&quot;</span></span>),\n",
       "...\n",
       "<span style=\"color: rgb(0, 187, 187)\"><span class=\"ansi-cyan-fg\">venetusAImageTextAssociations</span></span>: <span style=\"color: rgb(0, 187, 0)\"><span class=\"ansi-green-fg\">DseVector</span></span> = <style>@keyframes fadein { from { opacity: 0; } to { opacity: 1; } }</style><span style=\"animation: fadein 2s;\"><span style=\"color: yellow\"><span class=\"ansi-yellow-fg\">DseVector</span></span>(\n",
       "  <span style=\"color: yellow\"><span class=\"ansi-yellow-fg\">Vector</span></span>(\n",
       "    <span style=\"color: yellow\"><span class=\"ansi-yellow-fg\">DsePassage</span></span>(\n",
       "      <span style=\"color: yellow\"><span class=\"ansi-yellow-fg\">Cite2Urn</span></span>(<span style=\"color: rgb(0, 187, 0)\"><span class=\"ansi-green-fg\">&quot;urn:cite2:hmt:va_dse.v1:il2168&quot;</span></span>),\n",
       "      <span style=\"color: rgb(0, 187, 0)\"><span class=\"ansi-green-fg\">&quot;DSE record for Iliad 4.217&quot;</span></span>,\n",
       "      <span style=\"color: yellow\"><span class=\"ansi-yellow-fg\">CtsUrn</span></span>(<span style=\"color: rgb(0, 187, 0)\"><span class=\"ansi-green-fg\">&quot;urn:cts:greekLit:tlg0012.tlg001.msA:4.217&quot;</span></span>),\n",
       "      <span style=\"color: yellow\"><span class=\"ansi-yellow-fg\">Cite2Urn</span></span>(\n",
       "        <span style=\"color: rgb(0, 187, 0)\"><span class=\"ansi-green-fg\">&quot;urn:cite2:hmt:vaimg.2017a:VA055VN_0557@0.4865,0.3644,0.3954,0.0391&quot;</span></span>\n",
       "      ),\n",
       "      <span style=\"color: yellow\"><span class=\"ansi-yellow-fg\">Cite2Urn</span></span>(<span style=\"color: rgb(0, 187, 0)\"><span class=\"ansi-green-fg\">&quot;urn:cite2:hmt:msA.v1:55v&quot;</span></span>)\n",
       "    ),\n",
       "    <span style=\"color: yellow\"><span class=\"ansi-yellow-fg\">DsePassage</span></span>(\n",
       "      <span style=\"color: yellow\"><span class=\"ansi-yellow-fg\">Cite2Urn</span></span>(<span style=\"color: rgb(0, 187, 0)\"><span class=\"ansi-green-fg\">&quot;urn:cite2:hmt:va_dse.v1:il11826&quot;</span></span>),\n",
       "      <span style=\"color: rgb(0, 187, 0)\"><span class=\"ansi-green-fg\">&quot;DSE record for Iliad 18.529&quot;</span></span>,\n",
       "      <span style=\"color: yellow\"><span class=\"ansi-yellow-fg\">CtsUrn</span></span>(<span style=\"color: rgb(0, 187, 0)\"><span class=\"ansi-green-fg\">&quot;urn:cts:greekLit:tlg0012.tlg001.msA:18.529&quot;</span></span>),\n",
       "      <span style=\"color: yellow\"><span class=\"ansi-yellow-fg\">Cite2Urn</span></span>(\n",
       "        <span style=\"color: rgb(0, 187, 0)\"><span class=\"ansi-green-fg\">&quot;urn:cite2:hmt:vaimg.2017a:VA249RN_0420@0.19,0.6589,0.427,0.0331&quot;</span></span>\n",
       "      ),\n",
       "      <span style=\"color: yellow\"><span class=\"ansi-yellow-fg\">Cite2Urn</span></span>(<span style=\"color: rgb(0, 187, 0)\"><span class=\"ansi-green-fg\">&quot;urn:cite2:hmt:msA.v1:249r&quot;</span></span>)\n",
       "    ),\n",
       "    <span style=\"color: yellow\"><span class=\"ansi-yellow-fg\">DsePassage</span></span>(\n",
       "      <span style=\"color: yellow\"><span class=\"ansi-yellow-fg\">Cite2Urn</span></span>(<span style=\"color: rgb(0, 187, 0)\"><span class=\"ansi-green-fg\">&quot;urn:cite2:hmt:va_dse.v1:il6005&quot;</span></span>),\n",
       "      <span style=\"color: rgb(0, 187, 0)\"><span class=\"ansi-green-fg\">&quot;DSE record for Iliad 10.337&quot;</span></span>,\n",
       "      <span style=\"color: yellow\"><span class=\"ansi-yellow-fg\">CtsUrn</span></span>(<span style=\"color: rgb(0, 187, 0)\"><span class=\"ansi-green-fg\">&quot;urn:cts:greekLit:tlg0012.tlg001.msA:10.337&quot;</span></span>),\n",
       "      <span style=\"color: yellow\"><span class=\"ansi-yellow-fg\">Cite2Urn</span></span>(\n",
       "        <span style=\"color: rgb(0, 187, 0)\"><span class=\"ansi-green-fg\">&quot;urn:cite2:hmt:vaimg.2017a:VA132VN_0635@0.485,0.4313,0.388,0.0278&quot;</span></span>\n",
       "      ),\n",
       "      <span style=\"color: yellow\"><span class=\"ansi-yellow-fg\">Cite2Urn</span></span>(<span style=\"color: rgb(0, 187, 0)\"><span class=\"ansi-green-fg\">&quot;urn:cite2:hmt:msA.v1:132v&quot;</span></span>)\n",
       "    ),\n",
       "    <span style=\"color: yellow\"><span class=\"ansi-yellow-fg\">DsePassage</span></span>(\n",
       "      <span style=\"color: yellow\"><span class=\"ansi-yellow-fg\">Cite2Urn</span></span>(<span style=\"color: rgb(0, 187, 0)\"><span class=\"ansi-green-fg\">&quot;urn:cite2:hmt:va_dse.v1:il16223&quot;</span></span>),\n",
       "      <span style=\"color: rgb(0, 187, 0)\"><span class=\"ansi-green-fg\">&quot;DSE record for Iliad 16.32&quot;</span></span>,\n",
       "      <span style=\"color: yellow\"><span class=\"ansi-yellow-fg\">CtsUrn</span></span>(<span style=\"color: rgb(0, 187, 0)\"><span class=\"ansi-green-fg\">&quot;urn:cts:greekLit:tlg0012.tlg001.msA:16.32&quot;</span></span>),\n",
       "      <span style=\"color: yellow\"><span class=\"ansi-yellow-fg\">Cite2Urn</span></span>(\n",
       "        <span style=\"color: rgb(0, 187, 0)\"><span class=\"ansi-green-fg\">&quot;urn:cite2:hmt:vaimg.2017a:VA206VN_0708@0.507,0.3441,0.406,0.0263&quot;</span></span>\n",
       "      ),\n",
       "      <span style=\"color: yellow\"><span class=\"ansi-yellow-fg\">Cite2Urn</span></span>(<span style=\"color: rgb(0, 187, 0)\"><span class=\"ansi-green-fg\">&quot;urn:cite2:hmt:msA.v1:206v&quot;</span></span>)\n",
       "    ),\n",
       "    <span style=\"color: yellow\"><span class=\"ansi-yellow-fg\">DsePassage</span></span>(\n",
       "...</span></code></pre>\n",
       "</div>"
      ],
      "text/plain": [
       "\u001b[36mtr\u001b[39m: \u001b[32mTextRepository\u001b[39m = \u001b[33mTextRepository\u001b[39m(\n",
       "  \u001b[33mCorpus\u001b[39m(\n",
       "    \u001b[33mVector\u001b[39m(\n",
       "      \u001b[33mCitableNode\u001b[39m(\n",
       "        \u001b[33mCtsUrn\u001b[39m(\u001b[32m\"urn:cts:greekLit:tlg5026.msA.hmt:1.1.lemma\"\u001b[39m),\n",
       "        \u001b[32m\"\\u03bc\\u1fc6\\u03bd\\u03b9\\u03bd \\u1f04\\u03b5\\u03b9\\u03b4\\u03b5\"\u001b[39m\n",
       "      ),\n",
       "      \u001b[33mCitableNode\u001b[39m(\n",
       "        \u001b[33mCtsUrn\u001b[39m(\u001b[32m\"urn:cts:greekLit:tlg5026.msA.hmt:1.1.comment\"\u001b[39m),\n",
       "        \u001b[32m\"\\u03b6\\u03b7\\u03c4\\u03bf\\u1fe6\\u03c3\\u03b9 \\u03b4\\u03b9\\u03b1 \\u03c4\\u03af \\u1f00\\u03c0\\u1f78 \\u03c4\\u1fc6\\u03c2 \\u03bc\\u03ae\\u03bd\\u03b9\\u03b4\\u03bf\\u03c2 \\u1f24\\u03c1\\u03be\\u03b1\\u03c4\\u03bf \\u03bf\\u1f55\\u03c4\\u03c9\\u03c2 \\u03b4\\u03c5\\u03c3\\u03c6\\u03ae\\u03bc\\u03bf\\u03c5 \\u1f40\\u03bd\\u1f79\\u03bc\\u03b1\\u03c4\\u03bf\\u03c2\\u00b7 \\u03b4\\u03b9\\u03b1 \\u03b4\\u1f7b\\u03bf \\u03c4\\u03b1\\u1fe6\\u03c4\\u03b1\\u00b7 \\u03c0\\u03c1\\u1ff6\\u03c4\\u03bf\\u03bd \\u03bc\\u1f72\\u03bd \\u1f35\\u03bd' \\u1f10\\u03ba \\u03c4\\u03bf\\u1fe6 \\u03c0\\u1f71\\u03b8\\u03bf\\u03c5\\u03c2 \\u1f00\\u03c0\\u03ba\\u03b1\\u03c4\\u03b1\\u1fe5\\u03c1\\u03b5\\u1f7b\\u03c3\\u1fc3 \\u03c4\\u1f78 \\u03c4\\u03bf\\u03b9\\u03bf\\u1fe6\\u03c4\\u03bf \\u03bc\\u1f79\\u03c1\\u03b9\\u03bf\\u03bd \\u03c4\\u1fc6\\u03c2 \\u03c8\\u03c5\\u03c7\\u1fc6\\u03c2 \\u03ba\\u03b1\\u1f76 \\u03c0\\u03c1\\u03bf\\u03c3\\u03b5\\u03ba\\u03c4\\u03b9\\u03ba\\u03c9\\u03c4\\u1f73\\u03c1\\u03bf\\u03c5\\u03c2 \\u03c4\\u03bf\\u1f7a\\u03c2 \\u1f00\\u03ba\\u03c1\\u03bf\\u03b1\\u03c4\\u1f70\\u03c2 \\u1f10\\u03c0\\u03b9 \\u03c4\\u03bf\\u1fe6 \\u03bc\\u03b5\\u03b3\\u1f73\\u03b8\\u03bf\\u03c5\\u03c2 \\u03c0\\u03bf\\u03b9\\u03ae\\u03c3\\u1fc3 \\u03ba\\u03b1\\u1f76 \\u03c0\\u03c1\\u03bf\\u03c3\\u03b5\\u03b8\\u03af\\u03b6\\u1fc3 \\u03c6\\u1f73\\u03c1\\u03b5\\u03b9\\u03bd \\u03b3\\u03b5\\u03bd\\u03bd\\u03b1\\u03af\\u03c9\\u03c2 \\u1f21\\u03bc\\u1fb6\\u03c2 \\u03c4\\u1f70 \\u03c0\\u1f71\\u03b8\\u03b7 . \\u03bc\\u1f73\\u03bb\\u03bb\\u03c9\\u03bd \\u03c0\\u03bf\\u03bb\\u03bb\\u1f73\\u03bc\\u03bf\\u03c5\\u03c2 \\u1f00\\u03c0\\u03b1\\u03b3\\u03b3\\u1f73\\u03bb\\u03bb\\u03b5\\u03b9\\u03bd\\u00b7 \\u03b4\\u03b5\\u1f7b\\u03c4\\u03b5\\u03c1\\u03bf\\u03bd . \\u1f35\\u03bd\\u03b1 \\u03c4\\u1f70 \\u1f10\\u03b3\\u03ba\\u1f7d\\u03bc\\u03b9\\u03b1 \\u03c4\\u1ff6\\u03bd \\u1f19\\u03bb\\u03bb\\u03ae\\u03bd\\u03c9\\u03bd \\u03c0\\u03b9\\u03b8\\u03b1\\u03bd\\u1f7d\\u03c4\\u03b5\\u03c1\\u03b1 \\u03c0\\u03bf\\u03b9\\u03ae\\u03c3\\u1fc3\\u00b7 \\u1f10\\u03c0\\u03b5\\u1f76 \\u03b4\\u1f72 \\u1f14\\u03bc\\u03b5\\u03bb\\u03bb\\u03b5 , \\u03bd\\u03b9\\u03ba\\u03c9\\u03bd\\u03c4\\u03b1\\u03c2 \\u1f00\\u03c0\\u03bf\\u03c6\\u03b1\\u03af\\u03bd\\u03b5\\u03b9\\u03bd \\u03c4\\u03bf\\u1f7a\\u03c2 \\u1f19\\u03bb\\u03bb\\u03b7\\u03bd\\u03b1\\u03c2 , \\u03b5\\u1f30\\u03ba\\u1f79\\u03c4\\u03c9\\u03c2 \\u03bf\\u1f50 \\u03ba\\u03b1\\u03c4\\u03b1\\u03c4\\u03c1\\u1f73\\u03c7\\u03b5\\u03b9 \\u1f00\\u03be\\u03b9\\u03bf\\u03c0\\u03b9\\u03c3\\u03c4\\u1f79\\u03c4\\u03b5\\u03c1\\u03bf\\u03bd \\u1f10\\u03ba \\u03c4\\u03bf\\u1fe6 \\u03bc\\u1f74 \\u03c0\\u03b1\\u03bd\\u03c4\\u03b1 \\u03c7\\u03b1\\u03c1\\u03af\\u03b6\\u03b5\\u03c3\\u03b8\\u03b1\\u03b9 \\u03c4\\u1ff7 \\u03b5\\u03ba\\u03b5\\u03af\\u03\u001b[39m...\n",
       "\u001b[36mvenetusACorpus\u001b[39m: \u001b[32mCorpus\u001b[39m = \u001b[33mCorpus\u001b[39m(\n",
       "  \u001b[33mVector\u001b[39m(\n",
       "    \u001b[33mCitableNode\u001b[39m(\n",
       "      \u001b[33mCtsUrn\u001b[39m(\u001b[32m\"urn:cts:greekLit:tlg5026.msA.hmt:1.1.lemma\"\u001b[39m),\n",
       "      \u001b[32m\"\\u03bc\\u1fc6\\u03bd\\u03b9\\u03bd \\u1f04\\u03b5\\u03b9\\u03b4\\u03b5\"\u001b[39m\n",
       "    ),\n",
       "    \u001b[33mCitableNode\u001b[39m(\n",
       "      \u001b[33mCtsUrn\u001b[39m(\u001b[32m\"urn:cts:greekLit:tlg5026.msA.hmt:1.1.comment\"\u001b[39m),\n",
       "      \u001b[32m\"\\u03b6\\u03b7\\u03c4\\u03bf\\u1fe6\\u03c3\\u03b9 \\u03b4\\u03b9\\u03b1 \\u03c4\\u03af \\u1f00\\u03c0\\u1f78 \\u03c4\\u1fc6\\u03c2 \\u03bc\\u03ae\\u03bd\\u03b9\\u03b4\\u03bf\\u03c2 \\u1f24\\u03c1\\u03be\\u03b1\\u03c4\\u03bf \\u03bf\\u1f55\\u03c4\\u03c9\\u03c2 \\u03b4\\u03c5\\u03c3\\u03c6\\u03ae\\u03bc\\u03bf\\u03c5 \\u1f40\\u03bd\\u1f79\\u03bc\\u03b1\\u03c4\\u03bf\\u03c2\\u00b7 \\u03b4\\u03b9\\u03b1 \\u03b4\\u1f7b\\u03bf \\u03c4\\u03b1\\u1fe6\\u03c4\\u03b1\\u00b7 \\u03c0\\u03c1\\u1ff6\\u03c4\\u03bf\\u03bd \\u03bc\\u1f72\\u03bd \\u1f35\\u03bd' \\u1f10\\u03ba \\u03c4\\u03bf\\u1fe6 \\u03c0\\u1f71\\u03b8\\u03bf\\u03c5\\u03c2 \\u1f00\\u03c0\\u03ba\\u03b1\\u03c4\\u03b1\\u1fe5\\u03c1\\u03b5\\u1f7b\\u03c3\\u1fc3 \\u03c4\\u1f78 \\u03c4\\u03bf\\u03b9\\u03bf\\u1fe6\\u03c4\\u03bf \\u03bc\\u1f79\\u03c1\\u03b9\\u03bf\\u03bd \\u03c4\\u1fc6\\u03c2 \\u03c8\\u03c5\\u03c7\\u1fc6\\u03c2 \\u03ba\\u03b1\\u1f76 \\u03c0\\u03c1\\u03bf\\u03c3\\u03b5\\u03ba\\u03c4\\u03b9\\u03ba\\u03c9\\u03c4\\u1f73\\u03c1\\u03bf\\u03c5\\u03c2 \\u03c4\\u03bf\\u1f7a\\u03c2 \\u1f00\\u03ba\\u03c1\\u03bf\\u03b1\\u03c4\\u1f70\\u03c2 \\u1f10\\u03c0\\u03b9 \\u03c4\\u03bf\\u1fe6 \\u03bc\\u03b5\\u03b3\\u1f73\\u03b8\\u03bf\\u03c5\\u03c2 \\u03c0\\u03bf\\u03b9\\u03ae\\u03c3\\u1fc3 \\u03ba\\u03b1\\u1f76 \\u03c0\\u03c1\\u03bf\\u03c3\\u03b5\\u03b8\\u03af\\u03b6\\u1fc3 \\u03c6\\u1f73\\u03c1\\u03b5\\u03b9\\u03bd \\u03b3\\u03b5\\u03bd\\u03bd\\u03b1\\u03af\\u03c9\\u03c2 \\u1f21\\u03bc\\u1fb6\\u03c2 \\u03c4\\u1f70 \\u03c0\\u1f71\\u03b8\\u03b7 . \\u03bc\\u1f73\\u03bb\\u03bb\\u03c9\\u03bd \\u03c0\\u03bf\\u03bb\\u03bb\\u1f73\\u03bc\\u03bf\\u03c5\\u03c2 \\u1f00\\u03c0\\u03b1\\u03b3\\u03b3\\u1f73\\u03bb\\u03bb\\u03b5\\u03b9\\u03bd\\u00b7 \\u03b4\\u03b5\\u1f7b\\u03c4\\u03b5\\u03c1\\u03bf\\u03bd . \\u1f35\\u03bd\\u03b1 \\u03c4\\u1f70 \\u1f10\\u03b3\\u03ba\\u1f7d\\u03bc\\u03b9\\u03b1 \\u03c4\\u1ff6\\u03bd \\u1f19\\u03bb\\u03bb\\u03ae\\u03bd\\u03c9\\u03bd \\u03c0\\u03b9\\u03b8\\u03b1\\u03bd\\u1f7d\\u03c4\\u03b5\\u03c1\\u03b1 \\u03c0\\u03bf\\u03b9\\u03ae\\u03c3\\u1fc3\\u00b7 \\u1f10\\u03c0\\u03b5\\u1f76 \\u03b4\\u1f72 \\u1f14\\u03bc\\u03b5\\u03bb\\u03bb\\u03b5 , \\u03bd\\u03b9\\u03ba\\u03c9\\u03bd\\u03c4\\u03b1\\u03c2 \\u1f00\\u03c0\\u03bf\\u03c6\\u03b1\\u03af\\u03bd\\u03b5\\u03b9\\u03bd \\u03c4\\u03bf\\u1f7a\\u03c2 \\u1f19\\u03bb\\u03bb\\u03b7\\u03bd\\u03b1\\u03c2 , \\u03b5\\u1f30\\u03ba\\u1f79\\u03c4\\u03c9\\u03c2 \\u03bf\\u1f50 \\u03ba\\u03b1\\u03c4\\u03b1\\u03c4\\u03c1\\u1f73\\u03c7\\u03b5\\u03b9 \\u1f00\\u03be\\u03b9\\u03bf\\u03c0\\u03b9\\u03c3\\u03c4\\u1f79\\u03c4\\u03b5\\u03c1\\u03bf\\u03bd \\u1f10\\u03ba \\u03c4\\u03bf\\u1fe6 \\u03bc\\u1f74 \\u03c0\\u03b1\\u03bd\\u03c4\\u03b1 \\u03c7\\u03b1\\u03c1\\u03af\\u03b6\\u03b5\\u03c3\\u03b8\\u03b1\\u03b9 \\u03c4\\u1ff7 \\u03b5\\u03ba\\u03b5\\u03af\\u03bd\\u03c9\\u03bd \\u1f10\\u03c0\\u03b1\\u03af\\u03bd\\u1ff3\\u00b7 \\u1f24\\u03c1\\u03be\\u03b1\u001b[39m...\n",
       "\u001b[36mvenetusACatalog\u001b[39m: \u001b[32mCatalog\u001b[39m = \u001b[33mCatalog\u001b[39m(\n",
       "  \u001b[33mVector\u001b[39m(\n",
       "    \u001b[33mCatalogEntry\u001b[39m(\n",
       "      \u001b[33mCtsUrn\u001b[39m(\u001b[32m\"urn:cts:greekLit:tlg5026.msA.hmt:\"\u001b[39m),\n",
       "      \u001b[32m\"book,scholion, section\"\u001b[39m,\n",
       "      \u001b[32m\"grc\"\u001b[39m,\n",
       "      \u001b[32m\"Scholia to the Iliad\"\u001b[39m,\n",
       "      \u001b[32m\"Scholia msA in the Venetus A\"\u001b[39m,\n",
       "      \u001b[33mSome\u001b[39m(\u001b[32m\"HMT project diplomatic edition\"\u001b[39m),\n",
       "      \u001b[32mNone\u001b[39m,\n",
       "      true\n",
       "    ),\n",
       "    \u001b[33mCatalogEntry\u001b[39m(\n",
       "      \u001b[33mCtsUrn\u001b[39m(\u001b[32m\"urn:cts:greekLit:tlg5026.msAext.hmt:\"\u001b[39m),\n",
       "      \u001b[32m\"book,scholion, section\"\u001b[39m,\n",
       "      \u001b[32m\"grc\"\u001b[39m,\n",
       "      \u001b[32m\"Scholia to the Iliad\"\u001b[39m,\n",
       "      \u001b[32m\"Scholia msAext in the Venetus A\"\u001b[39m,\n",
       "      \u001b[33mSome\u001b[39m(\u001b[32m\"HMT project diplomatic edition\"\u001b[39m),\n",
       "      \u001b[32mNone\u001b[39m,\n",
       "      true\n",
       "    ),\n",
       "    \u001b[33mCatalogEntry\u001b[39m(\n",
       "      \u001b[33mCtsUrn\u001b[39m(\u001b[32m\"urn:cts:greekLit:tlg5026.msAil.hmt:\"\u001b[39m),\n",
       "      \u001b[32m\"book,scholion, section\"\u001b[39m,\n",
       "      \u001b[32m\"grc\"\u001b[39m,\n",
       "      \u001b[32m\"Scholia to the Iliad\"\u001b[39m,\n",
       "      \u001b[32m\"Scholia msAil in the Venetus A\"\u001b[39m,\n",
       "      \u001b[33mSome\u001b[39m(\u001b[32m\"HMT project diplomatic edition\"\u001b[39m),\n",
       "      \u001b[32mNone\u001b[39m,\n",
       "      true\n",
       "    ),\n",
       "    \u001b[33mCatalogEntry\u001b[39m(\n",
       "      \u001b[33mCtsUrn\u001b[39m(\u001b[32m\"urn:cts:greekLit:tlg5026.msAim.hmt:\"\u001b[39m),\n",
       "      \u001b[32m\"book,scholion, section\"\u001b[39m,\n",
       "      \u001b[32m\"grc\"\u001b[39m,\n",
       "      \u001b[32m\"Scholia to the Iliad\"\u001b[39m,\n",
       "      \u001b[32m\"Scholia msAim in the Venetus A\"\u001b[39m,\n",
       "      \u001b[33mSome\u001b[39m(\u001b[32m\"HMT project diplomatic edition\"\u001b[39m),\n",
       "...\n",
       "\u001b[36mvenetusACollections\u001b[39m: \u001b[32mCiteCollectionRepository\u001b[39m = \u001b[33mCiteCollectionRepository\u001b[39m(\n",
       "  \u001b[33mCiteCollectionData\u001b[39m(\n",
       "    \u001b[33mVector\u001b[39m(\n",
       "      \u001b[33mCitePropertyValue\u001b[39m(\n",
       "        \u001b[33mCite2Urn\u001b[39m(\u001b[32m\"urn:cite2:cite:datamodels.v1.description:imagemodel\"\u001b[39m),\n",
       "        \u001b[32m\"Model of a citable image.  See http://cite-architecture.github.io/imagemodel/.\"\u001b[39m\n",
       "      ),\n",
       "      \u001b[33mCitePropertyValue\u001b[39m(\n",
       "        \u001b[33mCite2Urn\u001b[39m(\u001b[32m\"urn:cite2:cite:datamodels.v1.urn:imagemodel\"\u001b[39m),\n",
       "        \u001b[33mCite2Urn\u001b[39m(\u001b[32m\"urn:cite2:cite:datamodels.v1:imagemodel\"\u001b[39m)\n",
       "      ),\n",
       "      \u001b[33mCitePropertyValue\u001b[39m(\n",
       "        \u001b[33mCite2Urn\u001b[39m(\u001b[32m\"urn:cite2:cite:datamodels.v1.label:imagemodel\"\u001b[39m),\n",
       "        \u001b[32m\"Citable Image\"\u001b[39m\n",
       "      ),\n",
       "      \u001b[33mCitePropertyValue\u001b[39m(\n",
       "        \u001b[33mCite2Urn\u001b[39m(\u001b[32m\"urn:cite2:cite:datamodels.v1.description:binaryimg\"\u001b[39m),\n",
       "        \u001b[32m\"Model of a binary image data associated with a citable image.  See TBA.\"\u001b[39m\n",
       "      ),\n",
       "      \u001b[33mCitePropertyValue\u001b[39m(\n",
       "        \u001b[33mCite2Urn\u001b[39m(\u001b[32m\"urn:cite2:cite:datamodels.v1.urn:binaryimg\"\u001b[39m),\n",
       "        \u001b[33mCite2Urn\u001b[39m(\u001b[32m\"urn:cite2:cite:datamodels.v1:binaryimg\"\u001b[39m)\n",
       "      ),\n",
       "      \u001b[33mCitePropertyValue\u001b[39m(\n",
       "        \u001b[33mCite2Urn\u001b[39m(\u001b[32m\"urn:cite2:cite:datamodels.v1.label:binaryimg\"\u001b[39m),\n",
       "        \u001b[32m\"Binary image data\"\u001b[39m\n",
       "      ),\n",
       "      \u001b[33mCitePropertyValue\u001b[39m(\n",
       "        \u001b[33mCite2Urn\u001b[39m(\u001b[32m\"urn:cite2:cite:datamodels.v1.description:tbsmodel\"\u001b[39m),\n",
       "        \u001b[32m\"Model of TextBearing Surfaces.  See http://cite-architecture.github.io/tbsmodel/.\"\u001b[39m\n",
       "      ),\n",
       "      \u001b[33mCitePropertyValue\u001b[39m(\n",
       "        \u001b[33mCite2Urn\u001b[39m(\u001b[32m\"urn:cite2:cite:datamodels.v1.urn:tbsmodel\"\u001b[39m),\n",
       "        \u001b[33mCite2Urn\u001b[39m(\u001b[32m\"urn:cite2:cite:datamodels.v1:tbsmodel\"\u001b[39m)\n",
       "      ),\n",
       "      \u001b[33mCitePropertyValue\u001b[39m(\n",
       "...\n",
       "\u001b[36mvenetusARelations\u001b[39m: \u001b[32mCiteRelationSet\u001b[39m = \u001b[33mCiteRelationSet\u001b[39m(\n",
       "  \u001b[33mSet\u001b[39m(\n",
       "    \u001b[33mCiteTriple\u001b[39m(\n",
       "      \u001b[33mCite2Urn\u001b[39m(\u001b[32m\"urn:cite2:hmt:e4img.2019a:E4202v_020\"\u001b[39m),\n",
       "      \u001b[33mCite2Urn\u001b[39m(\u001b[32m\"urn:cite2:cite:verbs.v1:illustrates\"\u001b[39m),\n",
       "      \u001b[33mCtsUrn\u001b[39m(\u001b[32m\"urn:cts:greekLit:tlg0012.tlg001:23.683\"\u001b[39m)\n",
       "    ),\n",
       "    \u001b[33mCiteTriple\u001b[39m(\n",
       "      \u001b[33mCite2Urn\u001b[39m(\u001b[32m\"urn:cite2:hmt:compimg.v1:Comparetti_326recto340\"\u001b[39m),\n",
       "      \u001b[33mCite2Urn\u001b[39m(\u001b[32m\"urn:cite2:cite:verbs.v1:illustrates\"\u001b[39m),\n",
       "      \u001b[33mCite2Urn\u001b[39m(\u001b[32m\"urn:cite2:hmt:msA.v1:326r\"\u001b[39m)\n",
       "    ),\n",
       "    \u001b[33mCiteTriple\u001b[39m(\n",
       "      \u001b[33mCite2Urn\u001b[39m(\u001b[32m\"urn:cite2:hmt:u4img.2019a:U4191VN_0390\"\u001b[39m),\n",
       "      \u001b[33mCite2Urn\u001b[39m(\u001b[32m\"urn:cite2:cite:verbs.v1:illustrates\"\u001b[39m),\n",
       "      \u001b[33mCtsUrn\u001b[39m(\u001b[32m\"urn:cts:greekLit:tlg0012.tlg001:24.701\"\u001b[39m)\n",
       "    ),\n",
       "    \u001b[33mCiteTriple\u001b[39m(\n",
       "      \u001b[33mCite2Urn\u001b[39m(\u001b[32m\"urn:cite2:hmt:vaimg.2017a:VA092VN_0595\"\u001b[39m),\n",
       "      \u001b[33mCite2Urn\u001b[39m(\u001b[32m\"urn:cite2:cite:verbs.v1:illustrates\"\u001b[39m),\n",
       "      \u001b[33mCite2Urn\u001b[39m(\u001b[32m\"urn:cite2:hmt:msA.v1:92v\"\u001b[39m)\n",
       "    ),\n",
       "    \u001b[33mCiteTriple\u001b[39m(\n",
       "      \u001b[33mCtsUrn\u001b[39m(\u001b[32m\"urn:cts:greekLit:tlg0012.tlg001:17.497\"\u001b[39m),\n",
       "      \u001b[33mCite2Urn\u001b[39m(\u001b[32m\"urn:cite2:cite:verbs.v1:appearsOn\"\u001b[39m),\n",
       "      \u001b[33mCite2Urn\u001b[39m(\u001b[32m\"urn:cite2:hmt:e4.v1:154r\"\u001b[39m)\n",
       "    ),\n",
       "    \u001b[33mCiteTriple\u001b[39m(\n",
       "      \u001b[33mCite2Urn\u001b[39m(\u001b[32m\"urn:cite2:hmt:e4img.2019a:E4028v_218\"\u001b[39m),\n",
       "      \u001b[33mCite2Urn\u001b[39m(\u001b[32m\"urn:cite2:cite:verbs.v1:illustrates\"\u001b[39m),\n",
       "      \u001b[33mCtsUrn\u001b[39m(\u001b[32m\"urn:cts:greekLit:tlg0012.tlg001:3.137\"\u001b[39m)\n",
       "    ),\n",
       "    \u001b[33mCiteTriple\u001b[39m(\n",
       "      \u001b[33mCite2Urn\u001b[39m(\u001b[32m\"urn:cite2:hmt:e4img.2019a:E4064v_180\"\u001b[39m),\n",
       "      \u001b[33mCite2Urn\u001b[39m(\u001b[32m\"urn:cite2:cite:verbs.v1:illustrates\"\u001b[39m),\n",
       "      \u001b[33mCtsUrn\u001b[39m(\u001b[32m\"urn:cts:greekLit:tlg0012.tlg001:7.466\"\u001b[39m)\n",
       "    ),\n",
       "    \u001b[33mCiteTriple\u001b[39m(\n",
       "      \u001b[33mCite2Urn\u001b[39m(\u001b[32m\"urn:cite2:hmt:u4img.2019a:U4016RN_0031\"\u001b[39m),\n",
       "...\n",
       "\u001b[36mvenetusAImageTextAssociations\u001b[39m: \u001b[32mDseVector\u001b[39m = \u001b[33mDseVector\u001b[39m(\n",
       "  \u001b[33mVector\u001b[39m(\n",
       "    \u001b[33mDsePassage\u001b[39m(\n",
       "      \u001b[33mCite2Urn\u001b[39m(\u001b[32m\"urn:cite2:hmt:va_dse.v1:il2168\"\u001b[39m),\n",
       "      \u001b[32m\"DSE record for Iliad 4.217\"\u001b[39m,\n",
       "      \u001b[33mCtsUrn\u001b[39m(\u001b[32m\"urn:cts:greekLit:tlg0012.tlg001.msA:4.217\"\u001b[39m),\n",
       "      \u001b[33mCite2Urn\u001b[39m(\n",
       "        \u001b[32m\"urn:cite2:hmt:vaimg.2017a:VA055VN_0557@0.4865,0.3644,0.3954,0.0391\"\u001b[39m\n",
       "      ),\n",
       "      \u001b[33mCite2Urn\u001b[39m(\u001b[32m\"urn:cite2:hmt:msA.v1:55v\"\u001b[39m)\n",
       "    ),\n",
       "    \u001b[33mDsePassage\u001b[39m(\n",
       "      \u001b[33mCite2Urn\u001b[39m(\u001b[32m\"urn:cite2:hmt:va_dse.v1:il11826\"\u001b[39m),\n",
       "      \u001b[32m\"DSE record for Iliad 18.529\"\u001b[39m,\n",
       "      \u001b[33mCtsUrn\u001b[39m(\u001b[32m\"urn:cts:greekLit:tlg0012.tlg001.msA:18.529\"\u001b[39m),\n",
       "      \u001b[33mCite2Urn\u001b[39m(\n",
       "        \u001b[32m\"urn:cite2:hmt:vaimg.2017a:VA249RN_0420@0.19,0.6589,0.427,0.0331\"\u001b[39m\n",
       "      ),\n",
       "      \u001b[33mCite2Urn\u001b[39m(\u001b[32m\"urn:cite2:hmt:msA.v1:249r\"\u001b[39m)\n",
       "    ),\n",
       "    \u001b[33mDsePassage\u001b[39m(\n",
       "      \u001b[33mCite2Urn\u001b[39m(\u001b[32m\"urn:cite2:hmt:va_dse.v1:il6005\"\u001b[39m),\n",
       "      \u001b[32m\"DSE record for Iliad 10.337\"\u001b[39m,\n",
       "      \u001b[33mCtsUrn\u001b[39m(\u001b[32m\"urn:cts:greekLit:tlg0012.tlg001.msA:10.337\"\u001b[39m),\n",
       "      \u001b[33mCite2Urn\u001b[39m(\n",
       "        \u001b[32m\"urn:cite2:hmt:vaimg.2017a:VA132VN_0635@0.485,0.4313,0.388,0.0278\"\u001b[39m\n",
       "      ),\n",
       "      \u001b[33mCite2Urn\u001b[39m(\u001b[32m\"urn:cite2:hmt:msA.v1:132v\"\u001b[39m)\n",
       "    ),\n",
       "    \u001b[33mDsePassage\u001b[39m(\n",
       "      \u001b[33mCite2Urn\u001b[39m(\u001b[32m\"urn:cite2:hmt:va_dse.v1:il16223\"\u001b[39m),\n",
       "      \u001b[32m\"DSE record for Iliad 16.32\"\u001b[39m,\n",
       "      \u001b[33mCtsUrn\u001b[39m(\u001b[32m\"urn:cts:greekLit:tlg0012.tlg001.msA:16.32\"\u001b[39m),\n",
       "      \u001b[33mCite2Urn\u001b[39m(\n",
       "        \u001b[32m\"urn:cite2:hmt:vaimg.2017a:VA206VN_0708@0.507,0.3441,0.406,0.0263\"\u001b[39m\n",
       "      ),\n",
       "      \u001b[33mCite2Urn\u001b[39m(\u001b[32m\"urn:cite2:hmt:msA.v1:206v\"\u001b[39m)\n",
       "    ),\n",
       "    \u001b[33mDsePassage\u001b[39m(\n",
       "..."
      ]
     },
     "metadata": {},
     "output_type": "display_data"
    }
   ],
   "source": [
    "lazy val tr: TextRepository = lib.textRepository.get\n",
    "lazy val venetusACorpus: Corpus = tr.corpus\n",
    "lazy val venetusACatalog: Catalog = tr.catalog\n",
    "lazy val venetusACollections: CiteCollectionRepository = lib.collectionRepository.get\n",
    "lazy val venetusARelations: CiteRelationSet = lib.relationSet.get\n",
    "lazy val venetusAImageTextAssociations: DseVector = DseVector.fromCiteLibrary(lib)"
   ]
  },
  {
   "cell_type": "markdown",
   "metadata": {},
   "source": [
    "## Some Numbers"
   ]
  },
  {
   "cell_type": "markdown",
   "metadata": {},
   "source": [
    "Getting some numbers for the Homer Multitext 2020g data release:"
   ]
  },
  {
   "cell_type": "code",
   "execution_count": 17,
   "metadata": {},
   "outputs": [
    {
     "data": {
      "text/plain": [
       "\u001b[36mnumberOfTexts\u001b[39m: \u001b[32mInt\u001b[39m = \u001b[32m6\u001b[39m\n",
       "\u001b[36mnumberOfPassages\u001b[39m: \u001b[32mInt\u001b[39m = \u001b[32m29976\u001b[39m\n",
       "\u001b[36mnumberOfObjects\u001b[39m: \u001b[32mInt\u001b[39m = \u001b[32m30331\u001b[39m\n",
       "\u001b[36mnumberOfRelations\u001b[39m: \u001b[32mInt\u001b[39m = \u001b[32m71861\u001b[39m\n",
       "\u001b[36mnumberOfImageTextAssociations\u001b[39m: \u001b[32mInt\u001b[39m = \u001b[32m22233\u001b[39m\n",
       "\u001b[36mvenAImages\u001b[39m: \u001b[32mInt\u001b[39m = \u001b[32m966\u001b[39m"
      ]
     },
     "execution_count": 17,
     "metadata": {},
     "output_type": "execute_result"
    }
   ],
   "source": [
    "val numberOfTexts = venetusACatalog.texts.size\n",
    "val numberOfPassages = venetusACorpus.size\n",
    "val numberOfObjects = venetusACollections.citableObjects.size\n",
    "val numberOfRelations = venetusARelations.size\n",
    "val numberOfImageTextAssociations = venetusAImageTextAssociations.size\n",
    "val venAImages = venetusACollections.citableObjects.filter(_.urn ~~ Cite2Urn(\"urn:cite2:hmt:vaimg.2017a:\")).size\n"
   ]
  },
  {
   "cell_type": "markdown",
   "metadata": {},
   "source": [
    "## Debugging"
   ]
  },
  {
   "cell_type": "code",
   "execution_count": 18,
   "metadata": {},
   "outputs": [
    {
     "data": {
      "text/plain": [
       "\u001b[36mu1\u001b[39m: \u001b[32mCtsUrn\u001b[39m = \u001b[33mCtsUrn\u001b[39m(\u001b[32m\"urn:cts:greekLit:tlg0012.tlg001.msA:23\"\u001b[39m)"
      ]
     },
     "execution_count": 18,
     "metadata": {},
     "output_type": "execute_result"
    }
   ],
   "source": [
    "val u1 = CtsUrn(\"urn:cts:greekLit:tlg0012.tlg001.msA:23\")"
   ]
  },
  {
   "cell_type": "code",
   "execution_count": 28,
   "metadata": {
    "collapsed": true
   },
   "outputs": [
    {
     "data": {
      "text/plain": [
       "\u001b[36mdseVec\u001b[39m: \u001b[32mDseVector\u001b[39m = \u001b[33mDseVector\u001b[39m(\n",
       "  \u001b[33mVector\u001b[39m(\n",
       "    \u001b[33mDsePassage\u001b[39m(\n",
       "      \u001b[33mCite2Urn\u001b[39m(\u001b[32m\"urn:cite2:hmt:va_dse.v1:il2168\"\u001b[39m),\n",
       "      \u001b[32m\"DSE record for Iliad 4.217\"\u001b[39m,\n",
       "      \u001b[33mCtsUrn\u001b[39m(\u001b[32m\"urn:cts:greekLit:tlg0012.tlg001.msA:4.217\"\u001b[39m),\n",
       "      \u001b[33mCite2Urn\u001b[39m(\n",
       "        \u001b[32m\"urn:cite2:hmt:vaimg.2017a:VA055VN_0557@0.4865,0.3644,0.3954,0.0391\"\u001b[39m\n",
       "      ),\n",
       "      \u001b[33mCite2Urn\u001b[39m(\u001b[32m\"urn:cite2:hmt:msA.v1:55v\"\u001b[39m)\n",
       "    ),\n",
       "    \u001b[33mDsePassage\u001b[39m(\n",
       "      \u001b[33mCite2Urn\u001b[39m(\u001b[32m\"urn:cite2:hmt:va_dse.v1:il11826\"\u001b[39m),\n",
       "      \u001b[32m\"DSE record for Iliad 18.529\"\u001b[39m,\n",
       "      \u001b[33mCtsUrn\u001b[39m(\u001b[32m\"urn:cts:greekLit:tlg0012.tlg001.msA:18.529\"\u001b[39m),\n",
       "      \u001b[33mCite2Urn\u001b[39m(\n",
       "        \u001b[32m\"urn:cite2:hmt:vaimg.2017a:VA249RN_0420@0.19,0.6589,0.427,0.0331\"\u001b[39m\n",
       "      ),\n",
       "      \u001b[33mCite2Urn\u001b[39m(\u001b[32m\"urn:cite2:hmt:msA.v1:249r\"\u001b[39m)\n",
       "    ),\n",
       "    \u001b[33mDsePassage\u001b[39m(\n",
       "      \u001b[33mCite2Urn\u001b[39m(\u001b[32m\"urn:cite2:hmt:va_dse.v1:il6005\"\u001b[39m),\n",
       "      \u001b[32m\"DSE record for Iliad 10.337\"\u001b[39m,\n",
       "      \u001b[33mCtsUrn\u001b[39m(\u001b[32m\"urn:cts:greekLit:tlg0012.tlg001.msA:10.337\"\u001b[39m),\n",
       "      \u001b[33mCite2Urn\u001b[39m(\n",
       "        \u001b[32m\"urn:cite2:hmt:vaimg.2017a:VA132VN_0635@0.485,0.4313,0.388,0.0278\"\u001b[39m\n",
       "      ),\n",
       "      \u001b[33mCite2Urn\u001b[39m(\u001b[32m\"urn:cite2:hmt:msA.v1:132v\"\u001b[39m)\n",
       "    ),\n",
       "    \u001b[33mDsePassage\u001b[39m(\n",
       "      \u001b[33mCite2Urn\u001b[39m(\u001b[32m\"urn:cite2:hmt:va_dse.v1:il16223\"\u001b[39m),\n",
       "      \u001b[32m\"DSE record for Iliad 16.32\"\u001b[39m,\n",
       "      \u001b[33mCtsUrn\u001b[39m(\u001b[32m\"urn:cts:greekLit:tlg0012.tlg001.msA:16.32\"\u001b[39m),\n",
       "      \u001b[33mCite2Urn\u001b[39m(\n",
       "        \u001b[32m\"urn:cite2:hmt:vaimg.2017a:VA206VN_0708@0.507,0.3441,0.406,0.0263\"\u001b[39m\n",
       "      ),\n",
       "      \u001b[33mCite2Urn\u001b[39m(\u001b[32m\"urn:cite2:hmt:msA.v1:206v\"\u001b[39m)\n",
       "    ),\n",
       "    \u001b[33mDsePassage\u001b[39m(\n",
       "...\n",
       "\u001b[36msurfaceUrns\u001b[39m: \u001b[32mVector\u001b[39m[\u001b[32mCite2Urn\u001b[39m] = \u001b[33mVector\u001b[39m(\n",
       "  \u001b[33mCite2Urn\u001b[39m(\u001b[32m\"urn:cite2:hmt:msA.v1:55v\"\u001b[39m),\n",
       "  \u001b[33mCite2Urn\u001b[39m(\u001b[32m\"urn:cite2:hmt:msA.v1:249r\"\u001b[39m),\n",
       "  \u001b[33mCite2Urn\u001b[39m(\u001b[32m\"urn:cite2:hmt:msA.v1:132v\"\u001b[39m),\n",
       "  \u001b[33mCite2Urn\u001b[39m(\u001b[32m\"urn:cite2:hmt:msA.v1:206v\"\u001b[39m),\n",
       "  \u001b[33mCite2Urn\u001b[39m(\u001b[32m\"urn:cite2:hmt:msA.v1:141v\"\u001b[39m),\n",
       "  \u001b[33mCite2Urn\u001b[39m(\u001b[32m\"urn:cite2:hmt:msA.v1:157r\"\u001b[39m),\n",
       "  \u001b[33mCite2Urn\u001b[39m(\u001b[32m\"urn:cite2:hmt:msA.v1:248v\"\u001b[39m),\n",
       "  \u001b[33mCite2Urn\u001b[39m(\u001b[32m\"urn:cite2:hmt:msA.v1:234r\"\u001b[39m),\n",
       "  \u001b[33mCite2Urn\u001b[39m(\u001b[32m\"urn:cite2:hmt:msA.v1:261r\"\u001b[39m),\n",
       "  \u001b[33mCite2Urn\u001b[39m(\u001b[32m\"urn:cite2:hmt:msA.v1:271v\"\u001b[39m),\n",
       "  \u001b[33mCite2Urn\u001b[39m(\u001b[32m\"urn:cite2:hmt:msA.v1:38r\"\u001b[39m),\n",
       "  \u001b[33mCite2Urn\u001b[39m(\u001b[32m\"urn:cite2:hmt:msA.v1:22r\"\u001b[39m),\n",
       "  \u001b[33mCite2Urn\u001b[39m(\u001b[32m\"urn:cite2:hmt:msA.v1:104v\"\u001b[39m),\n",
       "  \u001b[33mCite2Urn\u001b[39m(\u001b[32m\"urn:cite2:hmt:msA.v1:319v\"\u001b[39m),\n",
       "  \u001b[33mCite2Urn\u001b[39m(\u001b[32m\"urn:cite2:hmt:msA.v1:20v\"\u001b[39m),\n",
       "  \u001b[33mCite2Urn\u001b[39m(\u001b[32m\"urn:cite2:hmt:msA.v1:34r\"\u001b[39m),\n",
       "  \u001b[33mCite2Urn\u001b[39m(\u001b[32m\"urn:cite2:hmt:msA.v1:153r\"\u001b[39m),\n",
       "  \u001b[33mCite2Urn\u001b[39m(\u001b[32m\"urn:cite2:hmt:msA.v1:96r\"\u001b[39m),\n",
       "  \u001b[33mCite2Urn\u001b[39m(\u001b[32m\"urn:cite2:hmt:msA.v1:70v\"\u001b[39m),\n",
       "  \u001b[33mCite2Urn\u001b[39m(\u001b[32m\"urn:cite2:hmt:msA.v1:175v\"\u001b[39m),\n",
       "  \u001b[33mCite2Urn\u001b[39m(\u001b[32m\"urn:cite2:hmt:msA.v1:311v\"\u001b[39m),\n",
       "  \u001b[33mCite2Urn\u001b[39m(\u001b[32m\"urn:cite2:hmt:msA.v1:92r\"\u001b[39m),\n",
       "  \u001b[33mCite2Urn\u001b[39m(\u001b[32m\"urn:cite2:hmt:msA.v1:289v\"\u001b[39m),\n",
       "  \u001b[33mCite2Urn\u001b[39m(\u001b[32m\"urn:cite2:hmt:msA.v1:145r\"\u001b[39m),\n",
       "  \u001b[33mCite2Urn\u001b[39m(\u001b[32m\"urn:cite2:hmt:msA.v1:34v\"\u001b[39m),\n",
       "  \u001b[33mCite2Urn\u001b[39m(\u001b[32m\"urn:cite2:hmt:msA.v1:14r\"\u001b[39m),\n",
       "  \u001b[33mCite2Urn\u001b[39m(\u001b[32m\"urn:cite2:hmt:msA.v1:22v\"\u001b[39m),\n",
       "  \u001b[33mCite2Urn\u001b[39m(\u001b[32m\"urn:cite2:hmt:msA.v1:92v\"\u001b[39m),\n",
       "  \u001b[33mCite2Urn\u001b[39m(\u001b[32m\"urn:cite2:hmt:msA.v1:15v\"\u001b[39m),\n",
       "  \u001b[33mCite2Urn\u001b[39m(\u001b[32m\"urn:cite2:hmt:msA.v1:12r\"\u001b[39m),\n",
       "  \u001b[33mCite2Urn\u001b[39m(\u001b[32m\"urn:cite2:hmt:msA.v1:107r\"\u001b[39m),\n",
       "  \u001b[33mCite2Urn\u001b[39m(\u001b[32m\"urn:cite2:hmt:msA.v1:207v\"\u001b[39m),\n",
       "  \u001b[33mCite2Urn\u001b[39m(\u001b[32m\"urn:cite2:hmt:msA.v1:173r\"\u001b[39m),\n",
       "  \u001b[33mCite2Urn\u001b[39m(\u001b[32m\"urn:cite2:hmt:msA.v1:104r\"\u001b[39m),\n",
       "  \u001b[33mCite2Urn\u001b[39m(\u001b[32m\"urn:cite2:hmt:msA.v1:192v\"\u001b[39m),\n",
       "  \u001b[33mCite2Urn\u001b[39m(\u001b[32m\"urn:cite2:hmt:msA.v1:219r\"\u001b[39m),\n",
       "  \u001b[33mCite2Urn\u001b[39m(\u001b[32m\"urn:cite2:hmt:msA.v1:213r\"\u001b[39m),\n",
       "  \u001b[33mCite2Urn\u001b[39m(\u001b[32m\"urn:cite2:hmt:msA.v1:32v\"\u001b[39m),\n",
       "...\n",
       "\u001b[36msortedPassages\u001b[39m: \u001b[32mVector\u001b[39m[\u001b[32mCtsUrn\u001b[39m] = \u001b[33mVector\u001b[39m(\n",
       "  \u001b[33mCtsUrn\u001b[39m(\u001b[32m\"urn:cts:greekLit:tlg0012.tlg001.msA:23.1\"\u001b[39m),\n",
       "  \u001b[33mCtsUrn\u001b[39m(\u001b[32m\"urn:cts:greekLit:tlg0012.tlg001.msA:23.2\"\u001b[39m),\n",
       "  \u001b[33mCtsUrn\u001b[39m(\u001b[32m\"urn:cts:greekLit:tlg0012.tlg001.msA:23.3\"\u001b[39m),\n",
       "  \u001b[33mCtsUrn\u001b[39m(\u001b[32m\"urn:cts:greekLit:tlg0012.tlg001.msA:23.4\"\u001b[39m),\n",
       "  \u001b[33mCtsUrn\u001b[39m(\u001b[32m\"urn:cts:greekLit:tlg0012.tlg001.msA:23.5\"\u001b[39m),\n",
       "  \u001b[33mCtsUrn\u001b[39m(\u001b[32m\"urn:cts:greekLit:tlg0012.tlg001.msA:23.6\"\u001b[39m),\n",
       "  \u001b[33mCtsUrn\u001b[39m(\u001b[32m\"urn:cts:greekLit:tlg0012.tlg001.msA:23.7\"\u001b[39m),\n",
       "  \u001b[33mCtsUrn\u001b[39m(\u001b[32m\"urn:cts:greekLit:tlg0012.tlg001.msA:23.8\"\u001b[39m),\n",
       "  \u001b[33mCtsUrn\u001b[39m(\u001b[32m\"urn:cts:greekLit:tlg0012.tlg001.msA:23.9\"\u001b[39m),\n",
       "  \u001b[33mCtsUrn\u001b[39m(\u001b[32m\"urn:cts:greekLit:tlg0012.tlg001.msA:23.10\"\u001b[39m),\n",
       "  \u001b[33mCtsUrn\u001b[39m(\u001b[32m\"urn:cts:greekLit:tlg0012.tlg001.msA:23.11\"\u001b[39m),\n",
       "  \u001b[33mCtsUrn\u001b[39m(\u001b[32m\"urn:cts:greekLit:tlg0012.tlg001.msA:23.12\"\u001b[39m),\n",
       "  \u001b[33mCtsUrn\u001b[39m(\u001b[32m\"urn:cts:greekLit:tlg0012.tlg001.msA:23.13\"\u001b[39m),\n",
       "  \u001b[33mCtsUrn\u001b[39m(\u001b[32m\"urn:cts:greekLit:tlg0012.tlg001.msA:23.14\"\u001b[39m),\n",
       "  \u001b[33mCtsUrn\u001b[39m(\u001b[32m\"urn:cts:greekLit:tlg0012.tlg001.msA:23.15\"\u001b[39m),\n",
       "  \u001b[33mCtsUrn\u001b[39m(\u001b[32m\"urn:cts:greekLit:tlg0012.tlg001.msA:23.16\"\u001b[39m),\n",
       "  \u001b[33mCtsUrn\u001b[39m(\u001b[32m\"urn:cts:greekLit:tlg0012.tlg001.msA:23.17\"\u001b[39m),\n",
       "  \u001b[33mCtsUrn\u001b[39m(\u001b[32m\"urn:cts:greekLit:tlg0012.tlg001.msA:23.18\"\u001b[39m),\n",
       "  \u001b[33mCtsUrn\u001b[39m(\u001b[32m\"urn:cts:greekLit:tlg0012.tlg001.msA:23.19\"\u001b[39m),\n",
       "  \u001b[33mCtsUrn\u001b[39m(\u001b[32m\"urn:cts:greekLit:tlg0012.tlg001.msA:23.20\"\u001b[39m),\n",
       "  \u001b[33mCtsUrn\u001b[39m(\u001b[32m\"urn:cts:greekLit:tlg0012.tlg001.msA:23.21\"\u001b[39m),\n",
       "  \u001b[33mCtsUrn\u001b[39m(\u001b[32m\"urn:cts:greekLit:tlg0012.tlg001.msA:23.22\"\u001b[39m),\n",
       "  \u001b[33mCtsUrn\u001b[39m(\u001b[32m\"urn:cts:greekLit:tlg0012.tlg001.msA:23.23\"\u001b[39m),\n",
       "  \u001b[33mCtsUrn\u001b[39m(\u001b[32m\"urn:cts:greekLit:tlg0012.tlg001.msA:23.24\"\u001b[39m),\n",
       "  \u001b[33mCtsUrn\u001b[39m(\u001b[32m\"urn:cts:greekLit:tlg0012.tlg001.msA:23.25\"\u001b[39m),\n",
       "  \u001b[33mCtsUrn\u001b[39m(\u001b[32m\"urn:cts:greekLit:tlg0012.tlg001.msA:23.26\"\u001b[39m),\n",
       "  \u001b[33mCtsUrn\u001b[39m(\u001b[32m\"urn:cts:greekLit:tlg0012.tlg001.msA:23.27\"\u001b[39m),\n",
       "  \u001b[33mCtsUrn\u001b[39m(\u001b[32m\"urn:cts:greekLit:tlg0012.tlg001.msA:23.28\"\u001b[39m),\n",
       "  \u001b[33mCtsUrn\u001b[39m(\u001b[32m\"urn:cts:greekLit:tlg0012.tlg001.msA:23.29\"\u001b[39m),\n",
       "  \u001b[33mCtsUrn\u001b[39m(\u001b[32m\"urn:cts:greekLit:tlg0012.tlg001.msA:23.30\"\u001b[39m),\n",
       "  \u001b[33mCtsUrn\u001b[39m(\u001b[32m\"urn:cts:greekLit:tlg0012.tlg001.msA:23.31\"\u001b[39m),\n",
       "  \u001b[33mCtsUrn\u001b[39m(\u001b[32m\"urn:cts:greekLit:tlg0012.tlg001.msA:23.32\"\u001b[39m),\n",
       "  \u001b[33mCtsUrn\u001b[39m(\u001b[32m\"urn:cts:greekLit:tlg0012.tlg001.msA:23.33\"\u001b[39m),\n",
       "  \u001b[33mCtsUrn\u001b[39m(\u001b[32m\"urn:cts:greekLit:tlg0012.tlg001.msA:23.34\"\u001b[39m),\n",
       "  \u001b[33mCtsUrn\u001b[39m(\u001b[32m\"urn:cts:greekLit:tlg0012.tlg001.msA:23.35\"\u001b[39m),\n",
       "  \u001b[33mCtsUrn\u001b[39m(\u001b[32m\"urn:cts:greekLit:tlg0012.tlg001.msA:23.36\"\u001b[39m),\n",
       "  \u001b[33mCtsUrn\u001b[39m(\u001b[32m\"urn:cts:greekLit:tlg0012.tlg001.msA:23.37\"\u001b[39m),\n",
       "  \u001b[33mCtsUrn\u001b[39m(\u001b[32m\"urn:cts:greekLit:tlg0012.tlg001.msA:23.38\"\u001b[39m),\n",
       "..."
      ]
     },
     "execution_count": 28,
     "metadata": {},
     "output_type": "execute_result"
    }
   ],
   "source": [
    "val dseVec: DseVector = DseVector.fromCiteLibrary(lib)\n",
    "val surfaceUrns: Vector[Cite2Urn] = dseVec.passages.map(_.surface).distinct\n",
    "val sortedPassages: Vector[CtsUrn] = {\n",
    "    val unsortedPassages: Vector[CtsUrn] = dseVec.passages.map(_.passage).filter( _ ~~ u1 )\n",
    "    val reducedCorpus = venetusACorpus ~~ CtsUrn(\"urn:cts:greekLit:tlg0012.tlg001.msA:23\")\n",
    "    reducedCorpus.sortPassages(unsortedPassages)\n",
    "}\n"
   ]
  },
  {
   "cell_type": "code",
   "execution_count": 29,
   "metadata": {
    "collapsed": true
   },
   "outputs": [
    {
     "data": {
      "text/plain": [
       "\u001b[36mcorp23\u001b[39m: \u001b[32mVector\u001b[39m[\u001b[32mCtsUrn\u001b[39m] = \u001b[33mVector\u001b[39m(\n",
       "  \u001b[33mCtsUrn\u001b[39m(\u001b[32m\"urn:cts:greekLit:tlg0012.tlg001.msA:23.1\"\u001b[39m),\n",
       "  \u001b[33mCtsUrn\u001b[39m(\u001b[32m\"urn:cts:greekLit:tlg0012.tlg001.msA:23.2\"\u001b[39m),\n",
       "  \u001b[33mCtsUrn\u001b[39m(\u001b[32m\"urn:cts:greekLit:tlg0012.tlg001.msA:23.3\"\u001b[39m),\n",
       "  \u001b[33mCtsUrn\u001b[39m(\u001b[32m\"urn:cts:greekLit:tlg0012.tlg001.msA:23.4\"\u001b[39m),\n",
       "  \u001b[33mCtsUrn\u001b[39m(\u001b[32m\"urn:cts:greekLit:tlg0012.tlg001.msA:23.5\"\u001b[39m),\n",
       "  \u001b[33mCtsUrn\u001b[39m(\u001b[32m\"urn:cts:greekLit:tlg0012.tlg001.msA:23.6\"\u001b[39m),\n",
       "  \u001b[33mCtsUrn\u001b[39m(\u001b[32m\"urn:cts:greekLit:tlg0012.tlg001.msA:23.7\"\u001b[39m),\n",
       "  \u001b[33mCtsUrn\u001b[39m(\u001b[32m\"urn:cts:greekLit:tlg0012.tlg001.msA:23.8\"\u001b[39m),\n",
       "  \u001b[33mCtsUrn\u001b[39m(\u001b[32m\"urn:cts:greekLit:tlg0012.tlg001.msA:23.9\"\u001b[39m),\n",
       "  \u001b[33mCtsUrn\u001b[39m(\u001b[32m\"urn:cts:greekLit:tlg0012.tlg001.msA:23.10\"\u001b[39m),\n",
       "  \u001b[33mCtsUrn\u001b[39m(\u001b[32m\"urn:cts:greekLit:tlg0012.tlg001.msA:23.11\"\u001b[39m),\n",
       "  \u001b[33mCtsUrn\u001b[39m(\u001b[32m\"urn:cts:greekLit:tlg0012.tlg001.msA:23.12\"\u001b[39m),\n",
       "  \u001b[33mCtsUrn\u001b[39m(\u001b[32m\"urn:cts:greekLit:tlg0012.tlg001.msA:23.13\"\u001b[39m),\n",
       "  \u001b[33mCtsUrn\u001b[39m(\u001b[32m\"urn:cts:greekLit:tlg0012.tlg001.msA:23.14\"\u001b[39m),\n",
       "  \u001b[33mCtsUrn\u001b[39m(\u001b[32m\"urn:cts:greekLit:tlg0012.tlg001.msA:23.15\"\u001b[39m),\n",
       "  \u001b[33mCtsUrn\u001b[39m(\u001b[32m\"urn:cts:greekLit:tlg0012.tlg001.msA:23.16\"\u001b[39m),\n",
       "  \u001b[33mCtsUrn\u001b[39m(\u001b[32m\"urn:cts:greekLit:tlg0012.tlg001.msA:23.17\"\u001b[39m),\n",
       "  \u001b[33mCtsUrn\u001b[39m(\u001b[32m\"urn:cts:greekLit:tlg0012.tlg001.msA:23.18\"\u001b[39m),\n",
       "  \u001b[33mCtsUrn\u001b[39m(\u001b[32m\"urn:cts:greekLit:tlg0012.tlg001.msA:23.19\"\u001b[39m),\n",
       "  \u001b[33mCtsUrn\u001b[39m(\u001b[32m\"urn:cts:greekLit:tlg0012.tlg001.msA:23.20\"\u001b[39m),\n",
       "  \u001b[33mCtsUrn\u001b[39m(\u001b[32m\"urn:cts:greekLit:tlg0012.tlg001.msA:23.21\"\u001b[39m),\n",
       "  \u001b[33mCtsUrn\u001b[39m(\u001b[32m\"urn:cts:greekLit:tlg0012.tlg001.msA:23.22\"\u001b[39m),\n",
       "  \u001b[33mCtsUrn\u001b[39m(\u001b[32m\"urn:cts:greekLit:tlg0012.tlg001.msA:23.23\"\u001b[39m),\n",
       "  \u001b[33mCtsUrn\u001b[39m(\u001b[32m\"urn:cts:greekLit:tlg0012.tlg001.msA:23.24\"\u001b[39m),\n",
       "  \u001b[33mCtsUrn\u001b[39m(\u001b[32m\"urn:cts:greekLit:tlg0012.tlg001.msA:23.25\"\u001b[39m),\n",
       "  \u001b[33mCtsUrn\u001b[39m(\u001b[32m\"urn:cts:greekLit:tlg0012.tlg001.msA:23.26\"\u001b[39m),\n",
       "  \u001b[33mCtsUrn\u001b[39m(\u001b[32m\"urn:cts:greekLit:tlg0012.tlg001.msA:23.27\"\u001b[39m),\n",
       "  \u001b[33mCtsUrn\u001b[39m(\u001b[32m\"urn:cts:greekLit:tlg0012.tlg001.msA:23.28\"\u001b[39m),\n",
       "  \u001b[33mCtsUrn\u001b[39m(\u001b[32m\"urn:cts:greekLit:tlg0012.tlg001.msA:23.29\"\u001b[39m),\n",
       "  \u001b[33mCtsUrn\u001b[39m(\u001b[32m\"urn:cts:greekLit:tlg0012.tlg001.msA:23.30\"\u001b[39m),\n",
       "  \u001b[33mCtsUrn\u001b[39m(\u001b[32m\"urn:cts:greekLit:tlg0012.tlg001.msA:23.31\"\u001b[39m),\n",
       "  \u001b[33mCtsUrn\u001b[39m(\u001b[32m\"urn:cts:greekLit:tlg0012.tlg001.msA:23.32\"\u001b[39m),\n",
       "  \u001b[33mCtsUrn\u001b[39m(\u001b[32m\"urn:cts:greekLit:tlg0012.tlg001.msA:23.33\"\u001b[39m),\n",
       "  \u001b[33mCtsUrn\u001b[39m(\u001b[32m\"urn:cts:greekLit:tlg0012.tlg001.msA:23.34\"\u001b[39m),\n",
       "  \u001b[33mCtsUrn\u001b[39m(\u001b[32m\"urn:cts:greekLit:tlg0012.tlg001.msA:23.35\"\u001b[39m),\n",
       "  \u001b[33mCtsUrn\u001b[39m(\u001b[32m\"urn:cts:greekLit:tlg0012.tlg001.msA:23.36\"\u001b[39m),\n",
       "  \u001b[33mCtsUrn\u001b[39m(\u001b[32m\"urn:cts:greekLit:tlg0012.tlg001.msA:23.37\"\u001b[39m),\n",
       "  \u001b[33mCtsUrn\u001b[39m(\u001b[32m\"urn:cts:greekLit:tlg0012.tlg001.msA:23.38\"\u001b[39m),\n",
       "..."
      ]
     },
     "execution_count": 29,
     "metadata": {},
     "output_type": "execute_result"
    }
   ],
   "source": [
    "val corp23 = (venetusACorpus ~~ CtsUrn(\"urn:cts:greekLit:tlg0012.tlg001.msA:23\")).urns"
   ]
  },
  {
   "cell_type": "code",
   "execution_count": 32,
   "metadata": {},
   "outputs": [
    {
     "data": {
      "text/plain": [
       "\u001b[36mres31\u001b[39m: \u001b[32mInt\u001b[39m = \u001b[32m809\u001b[39m"
      ]
     },
     "execution_count": 32,
     "metadata": {},
     "output_type": "execute_result"
    }
   ],
   "source": [
    "corp23.diff(sortedPassages).size"
   ]
  },
  {
   "cell_type": "code",
   "execution_count": 33,
   "metadata": {},
   "outputs": [
    {
     "data": {
      "text/plain": [
       "\u001b[36mres32\u001b[39m: \u001b[32mInt\u001b[39m = \u001b[32m35\u001b[39m"
      ]
     },
     "execution_count": 33,
     "metadata": {},
     "output_type": "execute_result"
    }
   ],
   "source": [
    "809/23"
   ]
  },
  {
   "cell_type": "code",
   "execution_count": null,
   "metadata": {},
   "outputs": [],
   "source": []
  }
 ],
 "metadata": {
  "kernel_info": {
   "name": "scala"
  },
  "kernelspec": {
   "display_name": "Scala",
   "language": "scala",
   "name": "scala"
  },
  "language_info": {
   "codemirror_mode": "text/x-scala",
   "file_extension": ".scala",
   "mimetype": "text/x-scala",
   "name": "scala",
   "nbconvert_exporter": "script",
   "version": "2.12.10"
  },
  "nteract": {
   "version": "0.15.0"
  }
 },
 "nbformat": 4,
 "nbformat_minor": 2
}
