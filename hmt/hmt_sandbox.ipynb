{
 "cells": [
  {
   "cell_type": "markdown",
   "metadata": {},
   "source": [
    "# Finding Text Bearing Surfaces"
   ]
  },
  {
   "cell_type": "markdown",
   "metadata": {},
   "source": [
    "## Configuring CITE libraries for almond kernel\n",
    "\n",
    "First, we'll make a bintray repository with CITE libraries available to your almond kernel."
   ]
  },
  {
   "cell_type": "code",
   "execution_count": 1,
   "metadata": {},
   "outputs": [
    {
     "data": {
      "text/plain": [
       "\u001b[36mmyBT\u001b[39m: \u001b[32mcoursierapi\u001b[39m.\u001b[32mMavenRepository\u001b[39m = MavenRepository(https://dl.bintray.com/neelsmith/maven)"
      ]
     },
     "execution_count": 1,
     "metadata": {},
     "output_type": "execute_result"
    }
   ],
   "source": [
    "val myBT = coursierapi.MavenRepository.of(\"https://dl.bintray.com/neelsmith/maven\")\n",
    "interp.repositories() ++= Seq(myBT)"
   ]
  },
  {
   "cell_type": "markdown",
   "metadata": {},
   "source": [
    "Next, we bring in specific libraries from the new repository using almond's `$ivy` magic:"
   ]
  },
  {
   "cell_type": "code",
   "execution_count": 2,
   "metadata": {},
   "outputs": [
    {
     "data": {
      "text/plain": [
       "\u001b[32mimport \u001b[39m\u001b[36m$ivy.$                                  \n",
       "\u001b[39m\n",
       "\u001b[32mimport \u001b[39m\u001b[36m$ivy.$                                     \n",
       "\u001b[39m\n",
       "\u001b[32mimport \u001b[39m\u001b[36m$ivy.$                              \n",
       "\u001b[39m\n",
       "\u001b[32mimport \u001b[39m\u001b[36m$ivy.$                              \n",
       "\u001b[39m\n",
       "\u001b[32mimport \u001b[39m\u001b[36m$ivy.$                                          \n",
       "\u001b[39m\n",
       "\u001b[32mimport \u001b[39m\u001b[36m$ivy.$                                  \n",
       "\u001b[39m\n",
       "\u001b[32mimport \u001b[39m\u001b[36m$ivy.$                                        \n",
       "\u001b[39m\n",
       "\u001b[32mimport \u001b[39m\u001b[36m$ivy.$                              \n",
       "\u001b[39m"
      ]
     },
     "execution_count": 2,
     "metadata": {},
     "output_type": "execute_result"
    }
   ],
   "source": [
    "import $ivy.`edu.holycross.shot::ohco2:10.18.2`\n",
    "import $ivy.`edu.holycross.shot.cite::xcite:4.1.1`\n",
    "import $ivy.`edu.holycross.shot::scm:7.2.0`\n",
    "import $ivy.`edu.holycross.shot::dse:6.0.4`\n",
    "import $ivy.`edu.holycross.shot::citebinaryimage:3.1.1`\n",
    "import $ivy.`edu.holycross.shot::citeobj:7.3.4`\n",
    "import $ivy.`edu.holycross.shot::citerelations:2.5.2`\n",
    "import $ivy.`edu.holycross.shot::cex:6.3.3`\n"
   ]
  },
  {
   "cell_type": "markdown",
   "metadata": {},
   "source": [
    "## Imports\n",
    "\n",
    "From this point on, your notebook consists of completely generic Scala, with the CITE Libraries available to use."
   ]
  },
  {
   "cell_type": "code",
   "execution_count": 3,
   "metadata": {},
   "outputs": [
    {
     "data": {
      "text/plain": [
       "\u001b[32mimport \u001b[39m\u001b[36medu.holycross.shot.cite._\n",
       "\u001b[39m\n",
       "\u001b[32mimport \u001b[39m\u001b[36medu.holycross.shot.ohco2._\n",
       "\u001b[39m\n",
       "\u001b[32mimport \u001b[39m\u001b[36medu.holycross.shot.scm._\n",
       "\u001b[39m\n",
       "\u001b[32mimport \u001b[39m\u001b[36medu.holycross.shot.citeobj._\n",
       "\u001b[39m\n",
       "\u001b[32mimport \u001b[39m\u001b[36medu.holycross.shot.citerelation._\n",
       "\u001b[39m\n",
       "\u001b[32mimport \u001b[39m\u001b[36medu.holycross.shot.dse._\n",
       "\u001b[39m\n",
       "\u001b[32mimport \u001b[39m\u001b[36medu.holycross.shot.citebinaryimage._\n",
       "\u001b[39m\n",
       "\u001b[32mimport \u001b[39m\u001b[36medu.holycross.shot.ohco2._\n",
       "\n",
       "\u001b[39m\n",
       "\u001b[32mimport \u001b[39m\u001b[36malmond.display.UpdatableDisplay\n",
       "\u001b[39m\n",
       "\u001b[32mimport \u001b[39m\u001b[36malmond.interpreter.api.DisplayData.ContentType\n",
       "\u001b[39m\n",
       "\u001b[32mimport \u001b[39m\u001b[36malmond.interpreter.api.{DisplayData, OutputHandler}\u001b[39m"
      ]
     },
     "execution_count": 3,
     "metadata": {},
     "output_type": "execute_result"
    }
   ],
   "source": [
    "// Import some CITE libraries\n",
    "import edu.holycross.shot.cite._\n",
    "import edu.holycross.shot.ohco2._\n",
    "import edu.holycross.shot.scm._\n",
    "import edu.holycross.shot.citeobj._\n",
    "import edu.holycross.shot.citerelation._\n",
    "import edu.holycross.shot.dse._\n",
    "import edu.holycross.shot.citebinaryimage._\n",
    "import edu.holycross.shot.ohco2._\n",
    "\n",
    "import almond.display.UpdatableDisplay\n",
    "import almond.interpreter.api.DisplayData.ContentType\n",
    "import almond.interpreter.api.{DisplayData, OutputHandler}"
   ]
  },
  {
   "cell_type": "markdown",
   "metadata": {},
   "source": [
    "## Load a CITE Library"
   ]
  },
  {
   "cell_type": "code",
   "execution_count": 4,
   "metadata": {
    "scrolled": true
   },
   "outputs": [
    {
     "name": "stderr",
     "output_type": "stream",
     "text": [
      "Feb 10, 2020 11:11:44 AM wvlet.log.Logger log\n",
      "INFO: Building text repo from cex ...\n",
      "Feb 10, 2020 11:11:45 AM wvlet.log.Logger log\n",
      "INFO: Building collection repo from cex ...\n",
      "Feb 10, 2020 11:11:57 AM wvlet.log.Logger log\n",
      "INFO: Building relations from cex ...\n",
      "Feb 10, 2020 11:11:59 AM wvlet.log.Logger log\n",
      "INFO: All library components built.\n"
     ]
    },
    {
     "data": {
      "text/plain": [
       "\u001b[36mfilePath\u001b[39m: \u001b[32mString\u001b[39m = \u001b[32m\"hmt-test.cex\"\u001b[39m\n",
       "\u001b[36mlib\u001b[39m: \u001b[32mCiteLibrary\u001b[39m = \u001b[33mCiteLibrary\u001b[39m(\n",
       "  \u001b[32m\"Homer Multitext project, release 2020g\"\u001b[39m,\n",
       "  \u001b[33mCite2Urn\u001b[39m(\u001b[32m\"urn:cite2:hmt:publications.cex.2020g:all\"\u001b[39m),\n",
       "  \u001b[32m\"Creative Commons Attribution, Non-Commercial 4.0 License <https://creativecommons.org/licenses/by-nc/4.0/>.\"\u001b[39m,\n",
       "  \u001b[33mVector\u001b[39m(\n",
       "    \u001b[33mCiteNamespace\u001b[39m(\u001b[32m\"hmt\"\u001b[39m, http://www.homermultitext.org/citens/hmt),\n",
       "    \u001b[33mCiteNamespace\u001b[39m(\u001b[32m\"greekLit\"\u001b[39m, http://chs.harvard.edu/ctsns/greekLit)\n",
       "  ),\n",
       "  \u001b[33mSome\u001b[39m(\n",
       "    \u001b[33mTextRepository\u001b[39m(\n",
       "      \u001b[33mCorpus\u001b[39m(\n",
       "        \u001b[33mVector\u001b[39m(\n",
       "          \u001b[33mCitableNode\u001b[39m(\n",
       "            \u001b[33mCtsUrn\u001b[39m(\u001b[32m\"urn:cts:greekLit:tlg5026.msA.hmt:1.1.lemma\"\u001b[39m),\n",
       "            \u001b[32m\"\\u03bc\\u1fc6\\u03bd\\u03b9\\u03bd \\u1f04\\u03b5\\u03b9\\u03b4\\u03b5\"\u001b[39m\n",
       "          ),\n",
       "          \u001b[33mCitableNode\u001b[39m(\n",
       "            \u001b[33mCtsUrn\u001b[39m(\u001b[32m\"urn:cts:greekLit:tlg5026.msA.hmt:1.1.comment\"\u001b[39m),\n",
       "            \u001b[32m\"\\u03b6\\u03b7\\u03c4\\u03bf\\u1fe6\\u03c3\\u03b9 \\u03b4\\u03b9\\u03b1 \\u03c4\\u03af \\u1f00\\u03c0\\u1f78 \\u03c4\\u1fc6\\u03c2 \\u03bc\\u03ae\\u03bd\\u03b9\\u03b4\\u03bf\\u03c2 \\u1f24\\u03c1\\u03be\\u03b1\\u03c4\\u03bf \\u03bf\\u1f55\\u03c4\\u03c9\\u03c2 \\u03b4\\u03c5\\u03c3\\u03c6\\u03ae\\u03bc\\u03bf\\u03c5 \\u1f40\\u03bd\\u1f79\\u03bc\\u03b1\\u03c4\\u03bf\\u03c2\\u00b7 \\u03b4\\u03b9\\u03b1 \\u03b4\\u1f7b\\u03bf \\u03c4\\u03b1\\u1fe6\\u03c4\\u03b1\\u00b7 \\u03c0\\u03c1\\u1ff6\\u03c4\\u03bf\\u03bd \\u03bc\\u1f72\\u03bd \\u1f35\\u03bd' \\u1f10\\u03ba \\u03c4\\u03bf\\u1fe6 \\u03c0\\u1f71\\u03b8\\u03bf\\u03c5\\u03c2 \\u1f00\\u03c0\\u03ba\\u03b1\\u03c4\\u03b1\\u1fe5\\u03c1\\u03b5\\u1f7b\\u03c3\\u1fc3 \\u03c4\\u1f78 \\u03c4\\u03bf\\u03b9\\u03bf\\u1fe6\\u03c4\\u03bf \\u03bc\\u1f79\\u03c1\\u03b9\\u03bf\\u03bd \\u03c4\\u1fc6\\u03c2 \\u03c8\\u03c5\\u03c7\\u1fc6\\u03c2 \\u03ba\\u03b1\\u1f76 \\u03c0\\u03c1\\u03bf\\u03c3\\u03b5\\u03ba\\u03c4\\u03b9\\u03ba\\u03c9\\u03c4\\u1f73\\u03c1\\u03bf\\u03c5\\u03c2 \\u03c4\\u03bf\\u1f7a\\u03c2 \\u1f00\\u03ba\\u03c1\\u03bf\\u03b1\\u03c4\\u1f70\\u03c2 \\u1f10\\u03c0\\u03b9 \\u03c4\\u03bf\\u1fe6 \\u03bc\\u03b5\\u03b3\\u1f73\\u03b8\\u03bf\\u03c5\\u03c2 \\u03c0\\u03bf\\u03b9\\u03ae\\u03c3\\u1fc3 \\u03ba\\u03b1\\u1f76 \\u03c0\\u03c1\\u03bf\\u03c3\\u03b5\\u03b8\\u03af\\u03b6\\u1fc3 \\u03c6\\u1f73\\u03c1\\u03b5\\u03b9\\u03bd \\u03b3\\u03b5\\u03bd\\u03bd\\u03b1\\u03af\\u03c9\\u03c2 \\u1f21\\u03bc\\u1fb6\\u03c2 \\u03c4\\u1f70 \\u03c0\\u1f71\\u03b8\\u03b7 . \\u03bc\\u1f73\\u03bb\\u03bb\\u03c9\\u03bd \\u03c0\\u03bf\\u03bb\\u03bb\\u1f73\\u03bc\\u03bf\\u03c5\\u03c2 \\u1f00\\u03c0\\u03b1\\u03b3\\u03b3\\u1f73\\u03bb\\u03bb\\u03b5\\u03b9\\u03bd\\u00b7 \\u03b4\\u03b5\\u1f7b\\u03c4\\u03b5\\u03c1\\u03bf\\u03bd . \\u1f35\\u03bd\\u03b1 \\u03c4\\u1f70 \\u1f10\\u03b3\\u03ba\\u1f7d\\u03bc\\u03b9\\u03b1\u001b[39m..."
      ]
     },
     "execution_count": 4,
     "metadata": {},
     "output_type": "execute_result"
    }
   ],
   "source": [
    "//val filePath = s\"https://raw.githubusercontent.com/homermultitext/hmt-archive/master/releases-cex/hmt-2020f.cex\"\n",
    "//val lib: CiteLibrary = CiteLibrarySource.fromUrl(filePath)\n",
    "\n",
    "val filePath = s\"hmt-test.cex\"\n",
    "val lib: CiteLibrary = CiteLibrarySource.fromFile(filePath)"
   ]
  },
  {
   "cell_type": "markdown",
   "metadata": {},
   "source": [
    "Get parts of the CITE Library in convenient form:"
   ]
  },
  {
   "cell_type": "code",
   "execution_count": 5,
   "metadata": {},
   "outputs": [
    {
     "data": {
      "text/html": [
       "<div class=\"jp-RenderedText\">\n",
       "<pre><code><span style=\"color: rgb(0, 187, 187)\"><span class=\"ansi-cyan-fg\">tr</span></span>: <span style=\"color: rgb(0, 187, 0)\"><span class=\"ansi-green-fg\">TextRepository</span></span> = <span style=\"color: yellow\"><span class=\"ansi-yellow-fg\">TextRepository</span></span>(\n",
       "  <span style=\"color: yellow\"><span class=\"ansi-yellow-fg\">Corpus</span></span>(\n",
       "    <span style=\"color: yellow\"><span class=\"ansi-yellow-fg\">Vector</span></span>(\n",
       "      <span style=\"color: yellow\"><span class=\"ansi-yellow-fg\">CitableNode</span></span>(\n",
       "        <span style=\"color: yellow\"><span class=\"ansi-yellow-fg\">CtsUrn</span></span>(<span style=\"color: rgb(0, 187, 0)\"><span class=\"ansi-green-fg\">&quot;urn:cts:greekLit:tlg5026.msA.hmt:1.1.lemma&quot;</span></span>),\n",
       "        <span style=\"color: rgb(0, 187, 0)\"><span class=\"ansi-green-fg\">&quot;\\u03bc\\u1fc6\\u03bd\\u03b9\\u03bd \\u1f04\\u03b5\\u03b9\\u03b4\\u03b5&quot;</span></span>\n",
       "      ),\n",
       "      <span style=\"color: yellow\"><span class=\"ansi-yellow-fg\">CitableNode</span></span>(\n",
       "        <span style=\"color: yellow\"><span class=\"ansi-yellow-fg\">CtsUrn</span></span>(<span style=\"color: rgb(0, 187, 0)\"><span class=\"ansi-green-fg\">&quot;urn:cts:greekLit:tlg5026.msA.hmt:1.1.comment&quot;</span></span>),\n",
       "        <span style=\"color: rgb(0, 187, 0)\"><span class=\"ansi-green-fg\">&quot;\\u03b6\\u03b7\\u03c4\\u03bf\\u1fe6\\u03c3\\u03b9 \\u03b4\\u03b9\\u03b1 \\u03c4\\u03af \\u1f00\\u03c0\\u1f78 \\u03c4\\u1fc6\\u03c2 \\u03bc\\u03ae\\u03bd\\u03b9\\u03b4\\u03bf\\u03c2 \\u1f24\\u03c1\\u03be\\u03b1\\u03c4\\u03bf \\u03bf\\u1f55\\u03c4\\u03c9\\u03c2 \\u03b4\\u03c5\\u03c3\\u03c6\\u03ae\\u03bc\\u03bf\\u03c5 \\u1f40\\u03bd\\u1f79\\u03bc\\u03b1\\u03c4\\u03bf\\u03c2\\u00b7 \\u03b4\\u03b9\\u03b1 \\u03b4\\u1f7b\\u03bf \\u03c4\\u03b1\\u1fe6\\u03c4\\u03b1\\u00b7 \\u03c0\\u03c1\\u1ff6\\u03c4\\u03bf\\u03bd \\u03bc\\u1f72\\u03bd \\u1f35\\u03bd' \\u1f10\\u03ba \\u03c4\\u03bf\\u1fe6 \\u03c0\\u1f71\\u03b8\\u03bf\\u03c5\\u03c2 \\u1f00\\u03c0\\u03ba\\u03b1\\u03c4\\u03b1\\u1fe5\\u03c1\\u03b5\\u1f7b\\u03c3\\u1fc3 \\u03c4\\u1f78 \\u03c4\\u03bf\\u03b9\\u03bf\\u1fe6\\u03c4\\u03bf \\u03bc\\u1f79\\u03c1\\u03b9\\u03bf\\u03bd \\u03c4\\u1fc6\\u03c2 \\u03c8\\u03c5\\u03c7\\u1fc6\\u03c2 \\u03ba\\u03b1\\u1f76 \\u03c0\\u03c1\\u03bf\\u03c3\\u03b5\\u03ba\\u03c4\\u03b9\\u03ba\\u03c9\\u03c4\\u1f73\\u03c1\\u03bf\\u03c5\\u03c2 \\u03c4\\u03bf\\u1f7a\\u03c2 \\u1f00\\u03ba\\u03c1\\u03bf\\u03b1\\u03c4\\u1f70\\u03c2 \\u1f10\\u03c0\\u03b9 \\u03c4\\u03bf\\u1fe6 \\u03bc\\u03b5\\u03b3\\u1f73\\u03b8\\u03bf\\u03c5\\u03c2 \\u03c0\\u03bf\\u03b9\\u03ae\\u03c3\\u1fc3 \\u03ba\\u03b1\\u1f76 \\u03c0\\u03c1\\u03bf\\u03c3\\u03b5\\u03b8\\u03af\\u03b6\\u1fc3 \\u03c6\\u1f73\\u03c1\\u03b5\\u03b9\\u03bd \\u03b3\\u03b5\\u03bd\\u03bd\\u03b1\\u03af\\u03c9\\u03c2 \\u1f21\\u03bc\\u1fb6\\u03c2 \\u03c4\\u1f70 \\u03c0\\u1f71\\u03b8\\u03b7 . \\u03bc\\u1f73\\u03bb\\u03bb\\u03c9\\u03bd \\u03c0\\u03bf\\u03bb\\u03bb\\u1f73\\u03bc\\u03bf\\u03c5\\u03c2 \\u1f00\\u03c0\\u03b1\\u03b3\\u03b3\\u1f73\\u03bb\\u03bb\\u03b5\\u03b9\\u03bd\\u00b7 \\u03b4\\u03b5\\u1f7b\\u03c4\\u03b5\\u03c1\\u03bf\\u03bd . \\u1f35\\u03bd\\u03b1 \\u03c4\\u1f70 \\u1f10\\u03b3\\u03ba\\u1f7d\\u03bc\\u03b9\\u03b1 \\u03c4\\u1ff6\\u03bd \\u1f19\\u03bb\\u03bb\\u03ae\\u03bd\\u03c9\\u03bd \\u03c0\\u03b9\\u03b8\\u03b1\\u03bd\\u1f7d\\u03c4\\u03b5\\u03c1\\u03b1 \\u03c0\\u03bf\\u03b9\\u03ae\\u03c3\\u1fc3\\u00b7 \\u1f10\\u03c0\\u03b5\\u1f76 \\u03b4\\u1f72 \\u1f14\\u03bc\\u03b5\\u03bb\\u03bb\\u03b5 , \\u03bd\\u03b9\\u03ba\\u03c9\\u03bd\\u03c4\\u03b1\\u03c2 \\u1f00\\u03c0\\u03bf\\u03c6\\u03b1\\u03af\\u03bd\\u03b5\\u03b9\\u03bd \\u03c4\\u03bf\\u1f7a\\u03c2 \\u1f19\\u03bb\\u03bb\\u03b7\\u03bd\\u03b1\\u03c2 , \\u03b5\\u1f30\\u03ba\\u1f79\\u03c4\\u03c9\\u03c2 \\u03bf\\u1f50 \\u03ba\\u03b1\\u03c4\\u03b1\\u03c4\\u03c1\\u1f73\\u03c7\\u03b5\\u03b9 \\u1f00\\u03be\\u03b9\\u03bf\\u03c0\\u03b9\\u03c3\\u03c4\\u1f79\\u03c4\\u03b5\\u03c1\\u03bf\\u03bd \\u1f10\\u03ba \\u03c4\\u03bf\\u1fe6 \\u03bc\\u1f74 \\u03c0\\u03b1\\u03bd\\u03c4\\u03b1 \\u03c7\\u03b1\\u03c1\\u03af\\u03b6\\u03b5\\u03c3\\u03b8\\u03b1\\u03b9 \\u03c4\\u1ff7 \\u03b5\\u03ba\\u03b5\\u03af\\u03</span></span>...\n",
       "<span style=\"color: rgb(0, 187, 187)\"><span class=\"ansi-cyan-fg\">corp</span></span>: <span style=\"color: rgb(0, 187, 0)\"><span class=\"ansi-green-fg\">Corpus</span></span> = <span style=\"color: white\"><span class=\"ansi-white-fg\">[lazy]</span></span>\n",
       "<span style=\"color: rgb(0, 187, 187)\"><span class=\"ansi-cyan-fg\">cat</span></span>: <span style=\"color: rgb(0, 187, 0)\"><span class=\"ansi-green-fg\">Catalog</span></span> = <style>@keyframes fadein { from { opacity: 0; } to { opacity: 1; } }</style><span style=\"animation: fadein 2s;\"><span style=\"color: yellow\"><span class=\"ansi-yellow-fg\">Catalog</span></span>(\n",
       "  <span style=\"color: yellow\"><span class=\"ansi-yellow-fg\">Vector</span></span>(\n",
       "    <span style=\"color: yellow\"><span class=\"ansi-yellow-fg\">CatalogEntry</span></span>(\n",
       "      <span style=\"color: yellow\"><span class=\"ansi-yellow-fg\">CtsUrn</span></span>(<span style=\"color: rgb(0, 187, 0)\"><span class=\"ansi-green-fg\">&quot;urn:cts:greekLit:tlg5026.msA.hmt:&quot;</span></span>),\n",
       "      <span style=\"color: rgb(0, 187, 0)\"><span class=\"ansi-green-fg\">&quot;book,scholion,part&quot;</span></span>,\n",
       "      <span style=\"color: rgb(0, 187, 0)\"><span class=\"ansi-green-fg\">&quot;grc&quot;</span></span>,\n",
       "      <span style=\"color: rgb(0, 187, 0)\"><span class=\"ansi-green-fg\">&quot;Iliadic scholia&quot;</span></span>,\n",
       "      <span style=\"color: rgb(0, 187, 0)\"><span class=\"ansi-green-fg\">&quot;Main scholia of the Venetus A manuscript&quot;</span></span>,\n",
       "      <span style=\"color: yellow\"><span class=\"ansi-yellow-fg\">Some</span></span>(<span style=\"color: rgb(0, 187, 0)\"><span class=\"ansi-green-fg\">&quot;HMT project archival XML edition&quot;</span></span>),\n",
       "      <span style=\"color: rgb(0, 187, 0)\"><span class=\"ansi-green-fg\">None</span></span>,\n",
       "      true\n",
       "    ),\n",
       "    <span style=\"color: yellow\"><span class=\"ansi-yellow-fg\">CatalogEntry</span></span>(\n",
       "      <span style=\"color: yellow\"><span class=\"ansi-yellow-fg\">CtsUrn</span></span>(<span style=\"color: rgb(0, 187, 0)\"><span class=\"ansi-green-fg\">&quot;urn:cts:greekLit:tlg5026.msAext.hmt:&quot;</span></span>),\n",
       "      <span style=\"color: rgb(0, 187, 0)\"><span class=\"ansi-green-fg\">&quot;book,scholion,part&quot;</span></span>,\n",
       "      <span style=\"color: rgb(0, 187, 0)\"><span class=\"ansi-green-fg\">&quot;grc&quot;</span></span>,\n",
       "      <span style=\"color: rgb(0, 187, 0)\"><span class=\"ansi-green-fg\">&quot;Iliadic scholia&quot;</span></span>,\n",
       "      <span style=\"color: rgb(0, 187, 0)\"><span class=\"ansi-green-fg\">&quot;Exterior scholia of the Venetus A manuscript&quot;</span></span>,\n",
       "      <span style=\"color: yellow\"><span class=\"ansi-yellow-fg\">Some</span></span>(<span style=\"color: rgb(0, 187, 0)\"><span class=\"ansi-green-fg\">&quot;HMT project archival XML edition&quot;</span></span>),\n",
       "      <span style=\"color: rgb(0, 187, 0)\"><span class=\"ansi-green-fg\">None</span></span>,\n",
       "      true\n",
       "    ),\n",
       "    <span style=\"color: yellow\"><span class=\"ansi-yellow-fg\">CatalogEntry</span></span>(\n",
       "      <span style=\"color: yellow\"><span class=\"ansi-yellow-fg\">CtsUrn</span></span>(<span style=\"color: rgb(0, 187, 0)\"><span class=\"ansi-green-fg\">&quot;urn:cts:greekLit:tlg5026.msAil.hmt:&quot;</span></span>),\n",
       "      <span style=\"color: rgb(0, 187, 0)\"><span class=\"ansi-green-fg\">&quot;book,scholion,part&quot;</span></span>,\n",
       "      <span style=\"color: rgb(0, 187, 0)\"><span class=\"ansi-green-fg\">&quot;grc&quot;</span></span>,\n",
       "      <span style=\"color: rgb(0, 187, 0)\"><span class=\"ansi-green-fg\">&quot;Iliadic scholia&quot;</span></span>,\n",
       "      <span style=\"color: rgb(0, 187, 0)\"><span class=\"ansi-green-fg\">&quot;Interlinear scholia of the Venetus A manuscript&quot;</span></span>,\n",
       "      <span style=\"color: yellow\"><span class=\"ansi-yellow-fg\">Some</span></span>(<span style=\"color: rgb(0, 187, 0)\"><span class=\"ansi-green-fg\">&quot;HMT project archival XML edition&quot;</span></span>),\n",
       "      <span style=\"color: rgb(0, 187, 0)\"><span class=\"ansi-green-fg\">None</span></span>,\n",
       "      true\n",
       "    ),\n",
       "    <span style=\"color: yellow\"><span class=\"ansi-yellow-fg\">CatalogEntry</span></span>(\n",
       "      <span style=\"color: yellow\"><span class=\"ansi-yellow-fg\">CtsUrn</span></span>(<span style=\"color: rgb(0, 187, 0)\"><span class=\"ansi-green-fg\">&quot;urn:cts:greekLit:tlg5026.msAim.hmt:&quot;</span></span>),\n",
       "      <span style=\"color: rgb(0, 187, 0)\"><span class=\"ansi-green-fg\">&quot;book,scholion,part&quot;</span></span>,\n",
       "      <span style=\"color: rgb(0, 187, 0)\"><span class=\"ansi-green-fg\">&quot;grc&quot;</span></span>,\n",
       "      <span style=\"color: rgb(0, 187, 0)\"><span class=\"ansi-green-fg\">&quot;Iliadic scholia&quot;</span></span>,\n",
       "      <span style=\"color: rgb(0, 187, 0)\"><span class=\"ansi-green-fg\">&quot;Intermarginal scholia of the Venetus A manuscript&quot;</span></span>,\n",
       "      <span style=\"color: yellow\"><span class=\"ansi-yellow-fg\">Some</span></span>(<span style=\"color: rgb(0, 187, 0)\"><span class=\"ansi-green-fg\">&quot;HMT project archival XML edition&quot;</span></span>),\n",
       "...</span>\n",
       "<span style=\"color: rgb(0, 187, 187)\"><span class=\"ansi-cyan-fg\">colls</span></span>: <span style=\"color: rgb(0, 187, 0)\"><span class=\"ansi-green-fg\">CiteCollectionRepository</span></span> = <span style=\"color: white\"><span class=\"ansi-white-fg\">[lazy]</span></span>\n",
       "<span style=\"color: rgb(0, 187, 187)\"><span class=\"ansi-cyan-fg\">rels</span></span>: <span style=\"color: rgb(0, 187, 0)\"><span class=\"ansi-green-fg\">CiteRelationSet</span></span> = <span style=\"color: white\"><span class=\"ansi-white-fg\">[lazy]</span></span>\n",
       "<span style=\"color: rgb(0, 187, 187)\"><span class=\"ansi-cyan-fg\">myDseVec</span></span>: <span style=\"color: rgb(0, 187, 0)\"><span class=\"ansi-green-fg\">DseVector</span></span> = <span style=\"color: white\"><span class=\"ansi-white-fg\">[lazy]</span></span></code></pre>\n",
       "</div>"
      ],
      "text/plain": [
       "\u001b[36mtr\u001b[39m: \u001b[32mTextRepository\u001b[39m = \u001b[33mTextRepository\u001b[39m(\n",
       "  \u001b[33mCorpus\u001b[39m(\n",
       "    \u001b[33mVector\u001b[39m(\n",
       "      \u001b[33mCitableNode\u001b[39m(\n",
       "        \u001b[33mCtsUrn\u001b[39m(\u001b[32m\"urn:cts:greekLit:tlg5026.msA.hmt:1.1.lemma\"\u001b[39m),\n",
       "        \u001b[32m\"\\u03bc\\u1fc6\\u03bd\\u03b9\\u03bd \\u1f04\\u03b5\\u03b9\\u03b4\\u03b5\"\u001b[39m\n",
       "      ),\n",
       "      \u001b[33mCitableNode\u001b[39m(\n",
       "        \u001b[33mCtsUrn\u001b[39m(\u001b[32m\"urn:cts:greekLit:tlg5026.msA.hmt:1.1.comment\"\u001b[39m),\n",
       "        \u001b[32m\"\\u03b6\\u03b7\\u03c4\\u03bf\\u1fe6\\u03c3\\u03b9 \\u03b4\\u03b9\\u03b1 \\u03c4\\u03af \\u1f00\\u03c0\\u1f78 \\u03c4\\u1fc6\\u03c2 \\u03bc\\u03ae\\u03bd\\u03b9\\u03b4\\u03bf\\u03c2 \\u1f24\\u03c1\\u03be\\u03b1\\u03c4\\u03bf \\u03bf\\u1f55\\u03c4\\u03c9\\u03c2 \\u03b4\\u03c5\\u03c3\\u03c6\\u03ae\\u03bc\\u03bf\\u03c5 \\u1f40\\u03bd\\u1f79\\u03bc\\u03b1\\u03c4\\u03bf\\u03c2\\u00b7 \\u03b4\\u03b9\\u03b1 \\u03b4\\u1f7b\\u03bf \\u03c4\\u03b1\\u1fe6\\u03c4\\u03b1\\u00b7 \\u03c0\\u03c1\\u1ff6\\u03c4\\u03bf\\u03bd \\u03bc\\u1f72\\u03bd \\u1f35\\u03bd' \\u1f10\\u03ba \\u03c4\\u03bf\\u1fe6 \\u03c0\\u1f71\\u03b8\\u03bf\\u03c5\\u03c2 \\u1f00\\u03c0\\u03ba\\u03b1\\u03c4\\u03b1\\u1fe5\\u03c1\\u03b5\\u1f7b\\u03c3\\u1fc3 \\u03c4\\u1f78 \\u03c4\\u03bf\\u03b9\\u03bf\\u1fe6\\u03c4\\u03bf \\u03bc\\u1f79\\u03c1\\u03b9\\u03bf\\u03bd \\u03c4\\u1fc6\\u03c2 \\u03c8\\u03c5\\u03c7\\u1fc6\\u03c2 \\u03ba\\u03b1\\u1f76 \\u03c0\\u03c1\\u03bf\\u03c3\\u03b5\\u03ba\\u03c4\\u03b9\\u03ba\\u03c9\\u03c4\\u1f73\\u03c1\\u03bf\\u03c5\\u03c2 \\u03c4\\u03bf\\u1f7a\\u03c2 \\u1f00\\u03ba\\u03c1\\u03bf\\u03b1\\u03c4\\u1f70\\u03c2 \\u1f10\\u03c0\\u03b9 \\u03c4\\u03bf\\u1fe6 \\u03bc\\u03b5\\u03b3\\u1f73\\u03b8\\u03bf\\u03c5\\u03c2 \\u03c0\\u03bf\\u03b9\\u03ae\\u03c3\\u1fc3 \\u03ba\\u03b1\\u1f76 \\u03c0\\u03c1\\u03bf\\u03c3\\u03b5\\u03b8\\u03af\\u03b6\\u1fc3 \\u03c6\\u1f73\\u03c1\\u03b5\\u03b9\\u03bd \\u03b3\\u03b5\\u03bd\\u03bd\\u03b1\\u03af\\u03c9\\u03c2 \\u1f21\\u03bc\\u1fb6\\u03c2 \\u03c4\\u1f70 \\u03c0\\u1f71\\u03b8\\u03b7 . \\u03bc\\u1f73\\u03bb\\u03bb\\u03c9\\u03bd \\u03c0\\u03bf\\u03bb\\u03bb\\u1f73\\u03bc\\u03bf\\u03c5\\u03c2 \\u1f00\\u03c0\\u03b1\\u03b3\\u03b3\\u1f73\\u03bb\\u03bb\\u03b5\\u03b9\\u03bd\\u00b7 \\u03b4\\u03b5\\u1f7b\\u03c4\\u03b5\\u03c1\\u03bf\\u03bd . \\u1f35\\u03bd\\u03b1 \\u03c4\\u1f70 \\u1f10\\u03b3\\u03ba\\u1f7d\\u03bc\\u03b9\\u03b1 \\u03c4\\u1ff6\\u03bd \\u1f19\\u03bb\\u03bb\\u03ae\\u03bd\\u03c9\\u03bd \\u03c0\\u03b9\\u03b8\\u03b1\\u03bd\\u1f7d\\u03c4\\u03b5\\u03c1\\u03b1 \\u03c0\\u03bf\\u03b9\\u03ae\\u03c3\\u1fc3\\u00b7 \\u1f10\\u03c0\\u03b5\\u1f76 \\u03b4\\u1f72 \\u1f14\\u03bc\\u03b5\\u03bb\\u03bb\\u03b5 , \\u03bd\\u03b9\\u03ba\\u03c9\\u03bd\\u03c4\\u03b1\\u03c2 \\u1f00\\u03c0\\u03bf\\u03c6\\u03b1\\u03af\\u03bd\\u03b5\\u03b9\\u03bd \\u03c4\\u03bf\\u1f7a\\u03c2 \\u1f19\\u03bb\\u03bb\\u03b7\\u03bd\\u03b1\\u03c2 , \\u03b5\\u1f30\\u03ba\\u1f79\\u03c4\\u03c9\\u03c2 \\u03bf\\u1f50 \\u03ba\\u03b1\\u03c4\\u03b1\\u03c4\\u03c1\\u1f73\\u03c7\\u03b5\\u03b9 \\u1f00\\u03be\\u03b9\\u03bf\\u03c0\\u03b9\\u03c3\\u03c4\\u1f79\\u03c4\\u03b5\\u03c1\\u03bf\\u03bd \\u1f10\\u03ba \\u03c4\\u03bf\\u1fe6 \\u03bc\\u1f74 \\u03c0\\u03b1\\u03bd\\u03c4\\u03b1 \\u03c7\\u03b1\\u03c1\\u03af\\u03b6\\u03b5\\u03c3\\u03b8\\u03b1\\u03b9 \\u03c4\\u1ff7 \\u03b5\\u03ba\\u03b5\\u03af\\u03\u001b[39m...\n",
       "\u001b[36mcorp\u001b[39m: \u001b[32mCorpus\u001b[39m = \u001b[37m[lazy]\u001b[39m\n",
       "\u001b[36mcat\u001b[39m: \u001b[32mCatalog\u001b[39m = \u001b[33mCatalog\u001b[39m(\n",
       "  \u001b[33mVector\u001b[39m(\n",
       "    \u001b[33mCatalogEntry\u001b[39m(\n",
       "      \u001b[33mCtsUrn\u001b[39m(\u001b[32m\"urn:cts:greekLit:tlg5026.msA.hmt:\"\u001b[39m),\n",
       "      \u001b[32m\"book,scholion,part\"\u001b[39m,\n",
       "      \u001b[32m\"grc\"\u001b[39m,\n",
       "      \u001b[32m\"Iliadic scholia\"\u001b[39m,\n",
       "      \u001b[32m\"Main scholia of the Venetus A manuscript\"\u001b[39m,\n",
       "      \u001b[33mSome\u001b[39m(\u001b[32m\"HMT project archival XML edition\"\u001b[39m),\n",
       "      \u001b[32mNone\u001b[39m,\n",
       "      true\n",
       "    ),\n",
       "    \u001b[33mCatalogEntry\u001b[39m(\n",
       "      \u001b[33mCtsUrn\u001b[39m(\u001b[32m\"urn:cts:greekLit:tlg5026.msAext.hmt:\"\u001b[39m),\n",
       "      \u001b[32m\"book,scholion,part\"\u001b[39m,\n",
       "      \u001b[32m\"grc\"\u001b[39m,\n",
       "      \u001b[32m\"Iliadic scholia\"\u001b[39m,\n",
       "      \u001b[32m\"Exterior scholia of the Venetus A manuscript\"\u001b[39m,\n",
       "      \u001b[33mSome\u001b[39m(\u001b[32m\"HMT project archival XML edition\"\u001b[39m),\n",
       "      \u001b[32mNone\u001b[39m,\n",
       "      true\n",
       "    ),\n",
       "    \u001b[33mCatalogEntry\u001b[39m(\n",
       "      \u001b[33mCtsUrn\u001b[39m(\u001b[32m\"urn:cts:greekLit:tlg5026.msAil.hmt:\"\u001b[39m),\n",
       "      \u001b[32m\"book,scholion,part\"\u001b[39m,\n",
       "      \u001b[32m\"grc\"\u001b[39m,\n",
       "      \u001b[32m\"Iliadic scholia\"\u001b[39m,\n",
       "      \u001b[32m\"Interlinear scholia of the Venetus A manuscript\"\u001b[39m,\n",
       "      \u001b[33mSome\u001b[39m(\u001b[32m\"HMT project archival XML edition\"\u001b[39m),\n",
       "      \u001b[32mNone\u001b[39m,\n",
       "      true\n",
       "    ),\n",
       "    \u001b[33mCatalogEntry\u001b[39m(\n",
       "      \u001b[33mCtsUrn\u001b[39m(\u001b[32m\"urn:cts:greekLit:tlg5026.msAim.hmt:\"\u001b[39m),\n",
       "      \u001b[32m\"book,scholion,part\"\u001b[39m,\n",
       "      \u001b[32m\"grc\"\u001b[39m,\n",
       "      \u001b[32m\"Iliadic scholia\"\u001b[39m,\n",
       "      \u001b[32m\"Intermarginal scholia of the Venetus A manuscript\"\u001b[39m,\n",
       "      \u001b[33mSome\u001b[39m(\u001b[32m\"HMT project archival XML edition\"\u001b[39m),\n",
       "...\n",
       "\u001b[36mcolls\u001b[39m: \u001b[32mCiteCollectionRepository\u001b[39m = \u001b[37m[lazy]\u001b[39m\n",
       "\u001b[36mrels\u001b[39m: \u001b[32mCiteRelationSet\u001b[39m = \u001b[37m[lazy]\u001b[39m\n",
       "\u001b[36mmyDseVec\u001b[39m: \u001b[32mDseVector\u001b[39m = \u001b[37m[lazy]\u001b[39m"
      ]
     },
     "metadata": {},
     "output_type": "display_data"
    }
   ],
   "source": [
    "lazy val tr: TextRepository = lib.textRepository.get\n",
    "lazy val corp: Corpus = tr.corpus\n",
    "lazy val cat: Catalog = tr.catalog\n",
    "lazy val colls: CiteCollectionRepository = lib.collectionRepository.get\n",
    "lazy val rels: CiteRelationSet = lib.relationSet.get\n",
    "lazy val myDseVec: DseVector = DseVector.fromCiteLibrary(lib)"
   ]
  },
  {
   "cell_type": "markdown",
   "metadata": {},
   "source": [
    "## Get a Catalog Entry for a Corpus"
   ]
  },
  {
   "cell_type": "markdown",
   "metadata": {},
   "source": [
    "An example of working with the textual content of a CITE Library."
   ]
  },
  {
   "cell_type": "code",
   "execution_count": 6,
   "metadata": {},
   "outputs": [
    {
     "data": {
      "text/plain": [
       "\u001b[36msu\u001b[39m: \u001b[32mCtsUrn\u001b[39m = \u001b[33mCtsUrn\u001b[39m(\u001b[32m\"urn:cts:greekLit:tlg5026.msA.hmt:\"\u001b[39m)\n",
       "\u001b[36mentries\u001b[39m: \u001b[32mVector\u001b[39m[\u001b[32mCatalogEntry\u001b[39m] = \u001b[33mVector\u001b[39m(\n",
       "  \u001b[33mCatalogEntry\u001b[39m(\n",
       "    \u001b[33mCtsUrn\u001b[39m(\u001b[32m\"urn:cts:greekLit:tlg5026.msA.hmt:\"\u001b[39m),\n",
       "    \u001b[32m\"book,scholion,part\"\u001b[39m,\n",
       "    \u001b[32m\"grc\"\u001b[39m,\n",
       "    \u001b[32m\"Iliadic scholia\"\u001b[39m,\n",
       "    \u001b[32m\"Main scholia of the Venetus A manuscript\"\u001b[39m,\n",
       "    \u001b[33mSome\u001b[39m(\u001b[32m\"HMT project archival XML edition\"\u001b[39m),\n",
       "    \u001b[32mNone\u001b[39m,\n",
       "    true\n",
       "  )\n",
       ")"
      ]
     },
     "execution_count": 6,
     "metadata": {},
     "output_type": "execute_result"
    }
   ],
   "source": [
    "val su = CtsUrn(\"urn:cts:greekLit:tlg5026.msA.hmt:\")\n",
    "val entries = cat.entriesForUrn(su)"
   ]
  },
  {
   "cell_type": "code",
   "execution_count": 7,
   "metadata": {},
   "outputs": [
    {
     "data": {
      "text/plain": [
       "\u001b[36mnewCat\u001b[39m: \u001b[32mCatalog\u001b[39m = \u001b[33mCatalog\u001b[39m(\n",
       "  \u001b[33mVector\u001b[39m(\n",
       "    \u001b[33mCatalogEntry\u001b[39m(\n",
       "      \u001b[33mCtsUrn\u001b[39m(\u001b[32m\"urn:cts:greekLit:tlg5026.msA.hmt:\"\u001b[39m),\n",
       "      \u001b[32m\"book,scholion,part\"\u001b[39m,\n",
       "      \u001b[32m\"grc\"\u001b[39m,\n",
       "      \u001b[32m\"Iliadic scholia\"\u001b[39m,\n",
       "      \u001b[32m\"Main scholia of the Venetus A manuscript\"\u001b[39m,\n",
       "      \u001b[33mSome\u001b[39m(\u001b[32m\"HMT project archival XML edition\"\u001b[39m),\n",
       "      \u001b[32mNone\u001b[39m,\n",
       "      true\n",
       "    )\n",
       "  )\n",
       ")"
      ]
     },
     "execution_count": 7,
     "metadata": {},
     "output_type": "execute_result"
    }
   ],
   "source": [
    "val newCat = Catalog(entries)"
   ]
  },
  {
   "cell_type": "code",
   "execution_count": 8,
   "metadata": {},
   "outputs": [
    {
     "data": {
      "text/plain": [
       "\u001b[36mres7\u001b[39m: \u001b[32mString\u001b[39m = \u001b[32m\"\"\"urn#citationScheme#groupName#workTitle#versionLabel#exemplarLabel#online#lang\n",
       "urn:cts:greekLit:tlg5026.msA.hmt:#book,scholion,part#Iliadic scholia#Main scholia of the Venetus A manuscript#HMT project archival XML edition##true#grc\n",
       "\"\"\"\u001b[39m"
      ]
     },
     "execution_count": 8,
     "metadata": {},
     "output_type": "execute_result"
    }
   ],
   "source": [
    "newCat.cex(\"#\")\n"
   ]
  },
  {
   "cell_type": "code",
   "execution_count": null,
   "metadata": {},
   "outputs": [],
   "source": []
  }
 ],
 "metadata": {
  "kernel_info": {
   "name": "scala"
  },
  "kernelspec": {
   "display_name": "Scala",
   "language": "scala",
   "name": "scala"
  },
  "language_info": {
   "codemirror_mode": "text/x-scala",
   "file_extension": ".scala",
   "mimetype": "text/x-scala",
   "name": "scala",
   "nbconvert_exporter": "script",
   "version": "2.12.10"
  },
  "nteract": {
   "version": "0.15.0"
  }
 },
 "nbformat": 4,
 "nbformat_minor": 2
}
