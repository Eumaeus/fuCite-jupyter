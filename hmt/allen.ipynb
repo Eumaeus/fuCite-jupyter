{
 "cells": [
  {
   "cell_type": "markdown",
   "metadata": {},
   "source": [
    "# Finding Text Bearing Surfaces"
   ]
  },
  {
   "cell_type": "markdown",
   "metadata": {},
   "source": [
    "## Configuring CITE libraries for almond kernel\n",
    "\n",
    "First, we'll make a bintray repository with CITE libraries available to your almond kernel."
   ]
  },
  {
   "cell_type": "code",
   "execution_count": 1,
   "metadata": {},
   "outputs": [
    {
     "data": {
      "text/plain": [
       "\u001b[36mmyBT\u001b[39m: \u001b[32mcoursierapi\u001b[39m.\u001b[32mMavenRepository\u001b[39m = MavenRepository(https://dl.bintray.com/neelsmith/maven)"
      ]
     },
     "execution_count": 1,
     "metadata": {},
     "output_type": "execute_result"
    }
   ],
   "source": [
    "val myBT = coursierapi.MavenRepository.of(\"https://dl.bintray.com/neelsmith/maven\")\n",
    "interp.repositories() ++= Seq(myBT)"
   ]
  },
  {
   "cell_type": "markdown",
   "metadata": {},
   "source": [
    "Next, we bring in specific libraries from the new repository using almond's `$ivy` magic:"
   ]
  },
  {
   "cell_type": "code",
   "execution_count": 2,
   "metadata": {},
   "outputs": [
    {
     "data": {
      "text/plain": [
       "\u001b[32mimport \u001b[39m\u001b[36m$ivy.$                                  \n",
       "\u001b[39m\n",
       "\u001b[32mimport \u001b[39m\u001b[36m$ivy.$                                     \n",
       "\u001b[39m\n",
       "\u001b[32mimport \u001b[39m\u001b[36m$ivy.$                              \n",
       "\u001b[39m\n",
       "\u001b[32mimport \u001b[39m\u001b[36m$ivy.$                              \n",
       "\u001b[39m\n",
       "\u001b[32mimport \u001b[39m\u001b[36m$ivy.$                                          \n",
       "\u001b[39m\n",
       "\u001b[32mimport \u001b[39m\u001b[36m$ivy.$                                  \n",
       "\u001b[39m\n",
       "\u001b[32mimport \u001b[39m\u001b[36m$ivy.$                                        \n",
       "\u001b[39m\n",
       "\u001b[32mimport \u001b[39m\u001b[36m$ivy.$                              \n",
       "\u001b[39m\n",
       "\u001b[32mimport \u001b[39m\u001b[36m$ivy.$                                \n",
       "\u001b[39m"
      ]
     },
     "execution_count": 2,
     "metadata": {},
     "output_type": "execute_result"
    }
   ],
   "source": [
    "import $ivy.`edu.holycross.shot::ohco2:10.18.2`\n",
    "import $ivy.`edu.holycross.shot.cite::xcite:4.1.1`\n",
    "import $ivy.`edu.holycross.shot::scm:7.2.0`\n",
    "import $ivy.`edu.holycross.shot::dse:6.0.4`\n",
    "import $ivy.`edu.holycross.shot::citebinaryimage:3.1.1`\n",
    "import $ivy.`edu.holycross.shot::citeobj:7.3.4`\n",
    "import $ivy.`edu.holycross.shot::citerelations:2.5.2`\n",
    "import $ivy.`edu.holycross.shot::cex:6.3.3`\n",
    "import $ivy.`edu.holycross.shot::greek:2.3.3`\n"
   ]
  },
  {
   "cell_type": "markdown",
   "metadata": {},
   "source": [
    "## Imports\n",
    "\n",
    "From this point on, your notebook consists of completely generic Scala, with the CITE Libraries available to use."
   ]
  },
  {
   "cell_type": "code",
   "execution_count": 3,
   "metadata": {},
   "outputs": [
    {
     "data": {
      "text/plain": [
       "\u001b[32mimport \u001b[39m\u001b[36medu.holycross.shot.cite._\n",
       "\u001b[39m\n",
       "\u001b[32mimport \u001b[39m\u001b[36medu.holycross.shot.ohco2._\n",
       "\u001b[39m\n",
       "\u001b[32mimport \u001b[39m\u001b[36medu.holycross.shot.scm._\n",
       "\u001b[39m\n",
       "\u001b[32mimport \u001b[39m\u001b[36medu.holycross.shot.citeobj._\n",
       "\u001b[39m\n",
       "\u001b[32mimport \u001b[39m\u001b[36medu.holycross.shot.citerelation._\n",
       "\u001b[39m\n",
       "\u001b[32mimport \u001b[39m\u001b[36medu.holycross.shot.dse._\n",
       "\u001b[39m\n",
       "\u001b[32mimport \u001b[39m\u001b[36medu.holycross.shot.citebinaryimage._\n",
       "\u001b[39m\n",
       "\u001b[32mimport \u001b[39m\u001b[36medu.holycross.shot.ohco2._\n",
       "\u001b[39m\n",
       "\u001b[32mimport \u001b[39m\u001b[36medu.holycross.shot.greek._\n",
       "\n",
       "\u001b[39m\n",
       "\u001b[32mimport \u001b[39m\u001b[36malmond.display.UpdatableDisplay\n",
       "\u001b[39m\n",
       "\u001b[32mimport \u001b[39m\u001b[36malmond.interpreter.api.DisplayData.ContentType\n",
       "\u001b[39m\n",
       "\u001b[32mimport \u001b[39m\u001b[36malmond.interpreter.api.{DisplayData, OutputHandler}\n",
       "\u001b[39m"
      ]
     },
     "execution_count": 3,
     "metadata": {},
     "output_type": "execute_result"
    }
   ],
   "source": [
    "// Import some CITE libraries\n",
    "import edu.holycross.shot.cite._\n",
    "import edu.holycross.shot.ohco2._\n",
    "import edu.holycross.shot.scm._\n",
    "import edu.holycross.shot.citeobj._\n",
    "import edu.holycross.shot.citerelation._\n",
    "import edu.holycross.shot.dse._\n",
    "import edu.holycross.shot.citebinaryimage._\n",
    "import edu.holycross.shot.ohco2._\n",
    "import edu.holycross.shot.greek._\n",
    "\n",
    "import almond.display.UpdatableDisplay\n",
    "import almond.interpreter.api.DisplayData.ContentType\n",
    "import almond.interpreter.api.{DisplayData, OutputHandler}\n"
   ]
  },
  {
   "cell_type": "markdown",
   "metadata": {},
   "source": [
    "### Set Up Plotting"
   ]
  },
  {
   "cell_type": "code",
   "execution_count": 4,
   "metadata": {},
   "outputs": [
    {
     "data": {
      "text/plain": [
       "\u001b[32mimport \u001b[39m\u001b[36m$ivy.$                                      \n",
       "\u001b[39m\n",
       "\u001b[32mimport \u001b[39m\u001b[36mplotly._, plotly.element._, plotly.layout._, plotly.Almond._\n",
       "\n",
       "// if you want to have the plots available without an internet connection:\n",
       "// init(offline=true)\n",
       "\n",
       "// restrict the output height to avoid scrolling in output cells\n",
       "\u001b[39m"
      ]
     },
     "execution_count": 4,
     "metadata": {},
     "output_type": "execute_result"
    }
   ],
   "source": [
    "import $ivy.`org.plotly-scala::plotly-almond:0.7.1`\n",
    "import plotly._, plotly.element._, plotly.layout._, plotly.Almond._\n",
    "\n",
    "// if you want to have the plots available without an internet connection:\n",
    "// init(offline=true)\n",
    "\n",
    "// restrict the output height to avoid scrolling in output cells\n",
    "repl.pprinter() = repl.pprinter().copy(defaultHeight = 3)"
   ]
  },
  {
   "cell_type": "markdown",
   "metadata": {},
   "source": [
    "## Load a CITE Library"
   ]
  },
  {
   "cell_type": "code",
   "execution_count": 5,
   "metadata": {
    "scrolled": true
   },
   "outputs": [
    {
     "name": "stderr",
     "output_type": "stream",
     "text": [
      "Apr 12, 2020 1:18:34 PM wvlet.log.Logger log\n",
      "INFO: Building text repo from cex ...\n",
      "Apr 12, 2020 1:18:36 PM wvlet.log.Logger log\n",
      "INFO: Building collection repo from cex ...\n",
      "Apr 12, 2020 1:18:36 PM wvlet.log.Logger log\n",
      "INFO: Building relations from cex ...\n",
      "Apr 12, 2020 1:18:36 PM wvlet.log.Logger log\n",
      "INFO: All library components built.\n"
     ]
    },
    {
     "data": {
      "text/plain": [
       "\u001b[36mfilePath\u001b[39m: \u001b[32mString\u001b[39m = \u001b[32m\"allen_iliad_all.cex\"\u001b[39m\n",
       "\u001b[36mlib\u001b[39m: \u001b[32mCiteLibrary\u001b[39m = \u001b[33mCiteLibrary\u001b[39m(\n",
       "  \u001b[32m\"CEX Library created by CEXWriter\"\u001b[39m,\n",
       "..."
      ]
     },
     "execution_count": 5,
     "metadata": {},
     "output_type": "execute_result"
    }
   ],
   "source": [
    "//val filePath = s\"https://raw.githubusercontent.com/homermultitext/hmt-archive/master/releases-cex/hmt-2020f.cex\"\n",
    "//val lib: CiteLibrary = CiteLibrarySource.fromUrl(filePath)\n",
    "\n",
    "val filePath = s\"allen_iliad_all.cex\"\n",
    "val lib: CiteLibrary = CiteLibrarySource.fromFile(filePath)"
   ]
  },
  {
   "cell_type": "markdown",
   "metadata": {},
   "source": [
    "Get parts of the CITE Library in convenient form:"
   ]
  },
  {
   "cell_type": "code",
   "execution_count": 6,
   "metadata": {},
   "outputs": [
    {
     "data": {
      "text/html": [
       "<div class=\"jp-RenderedText\">\n",
       "<pre><code><span style=\"color: rgb(0, 187, 187)\"><span class=\"ansi-cyan-fg\">tr</span></span>: <span style=\"color: rgb(0, 187, 0)\"><span class=\"ansi-green-fg\">TextRepository</span></span> = <span style=\"color: yellow\"><span class=\"ansi-yellow-fg\">TextRepository</span></span>(\n",
       "  <span style=\"color: yellow\"><span class=\"ansi-yellow-fg\">Corpus</span></span>(\n",
       "...\n",
       "<span style=\"color: rgb(0, 187, 187)\"><span class=\"ansi-cyan-fg\">corp</span></span>: <span style=\"color: rgb(0, 187, 0)\"><span class=\"ansi-green-fg\">Corpus</span></span> = <style>@keyframes fadein { from { opacity: 0; } to { opacity: 1; } }</style><span style=\"animation: fadein 2s;\"><span style=\"color: yellow\"><span class=\"ansi-yellow-fg\">Corpus</span></span>(\n",
       "  <span style=\"color: yellow\"><span class=\"ansi-yellow-fg\">Vector</span></span>(\n",
       "...</span>\n",
       "<span style=\"color: rgb(0, 187, 187)\"><span class=\"ansi-cyan-fg\">cat</span></span>: <span style=\"color: rgb(0, 187, 0)\"><span class=\"ansi-green-fg\">Catalog</span></span> = <span style=\"color: white\"><span class=\"ansi-white-fg\">[lazy]</span></span>\n",
       "<span style=\"color: rgb(0, 187, 187)\"><span class=\"ansi-cyan-fg\">colls</span></span>: <span style=\"color: rgb(0, 187, 0)\"><span class=\"ansi-green-fg\">CiteCollectionRepository</span></span> = <span style=\"color: white\"><span class=\"ansi-white-fg\">[lazy]</span></span>\n",
       "<span style=\"color: rgb(0, 187, 187)\"><span class=\"ansi-cyan-fg\">rels</span></span>: <span style=\"color: rgb(0, 187, 0)\"><span class=\"ansi-green-fg\">CiteRelationSet</span></span> = <span style=\"color: white\"><span class=\"ansi-white-fg\">[lazy]</span></span>\n",
       "<span style=\"color: rgb(0, 187, 187)\"><span class=\"ansi-cyan-fg\">myDseVec</span></span>: <span style=\"color: rgb(0, 187, 0)\"><span class=\"ansi-green-fg\">DseVector</span></span> = <span style=\"color: white\"><span class=\"ansi-white-fg\">[lazy]</span></span></code></pre>\n",
       "</div>"
      ],
      "text/plain": [
       "\u001b[36mtr\u001b[39m: \u001b[32mTextRepository\u001b[39m = \u001b[33mTextRepository\u001b[39m(\n",
       "  \u001b[33mCorpus\u001b[39m(\n",
       "...\n",
       "\u001b[36mcorp\u001b[39m: \u001b[32mCorpus\u001b[39m = \u001b[33mCorpus\u001b[39m(\n",
       "  \u001b[33mVector\u001b[39m(\n",
       "...\n",
       "\u001b[36mcat\u001b[39m: \u001b[32mCatalog\u001b[39m = \u001b[37m[lazy]\u001b[39m\n",
       "\u001b[36mcolls\u001b[39m: \u001b[32mCiteCollectionRepository\u001b[39m = \u001b[37m[lazy]\u001b[39m\n",
       "\u001b[36mrels\u001b[39m: \u001b[32mCiteRelationSet\u001b[39m = \u001b[37m[lazy]\u001b[39m\n",
       "\u001b[36mmyDseVec\u001b[39m: \u001b[32mDseVector\u001b[39m = \u001b[37m[lazy]\u001b[39m"
      ]
     },
     "metadata": {},
     "output_type": "display_data"
    }
   ],
   "source": [
    "lazy val tr: TextRepository = lib.textRepository.get\n",
    "lazy val corp: Corpus = tr.corpus\n",
    "lazy val cat: Catalog = tr.catalog\n",
    "lazy val colls: CiteCollectionRepository = lib.collectionRepository.get\n",
    "lazy val rels: CiteRelationSet = lib.relationSet.get\n",
    "lazy val myDseVec: DseVector = DseVector.fromCiteLibrary(lib)"
   ]
  },
  {
   "cell_type": "markdown",
   "metadata": {},
   "source": [
    "## Count Characters!"
   ]
  },
  {
   "cell_type": "code",
   "execution_count": 7,
   "metadata": {},
   "outputs": [
    {
     "name": "stdout",
     "output_type": "stream",
     "text": [
      "mhnin aeide qea *phlhi+adew *axilhos\n",
      "mhnis aeidw qea *phlhi+adew# *axilhos\n"
     ]
    },
    {
     "data": {
      "text/plain": [
       "\u001b[36miliadUrn\u001b[39m: \u001b[32mCtsUrn\u001b[39m = \u001b[33mCtsUrn\u001b[39m(\u001b[32m\"urn:cts:greekLit:tlg0012.tlg001.allen:\"\u001b[39m)\n",
       "\u001b[36mregularCorpNodes\u001b[39m: \u001b[32mVector\u001b[39m[\u001b[32mCitableNode\u001b[39m] = \u001b[33mVector\u001b[39m(\n",
       "  \u001b[33mCitableNode\u001b[39m(\n",
       "...\n",
       "\u001b[36miliadLemmUrn\u001b[39m: \u001b[32mCtsUrn\u001b[39m = \u001b[33mCtsUrn\u001b[39m(\n",
       "  \u001b[32m\"urn:cts:greekLit:tlg0012.tlg001.allen.lemmatizedToken_merged:\"\u001b[39m\n",
       ")\n",
       "\u001b[36mlemmCorpNodes\u001b[39m: \u001b[32mVector\u001b[39m[\u001b[32mCitableNode\u001b[39m] = \u001b[33mVector\u001b[39m(\n",
       "  \u001b[33mCitableNode\u001b[39m(\n",
       "...\n",
       "\u001b[36masciiRegularIliad\u001b[39m: \u001b[32mVector\u001b[39m[\u001b[32mString\u001b[39m] = \u001b[33mVector\u001b[39m(\n",
       "  \u001b[32m\"mhnin aeide qea *phlhi+adew *axilhos\"\u001b[39m,\n",
       "...\n",
       "\u001b[36masciiLemmatizedIliad\u001b[39m: \u001b[32mVector\u001b[39m[\u001b[32mString\u001b[39m] = \u001b[33mVector\u001b[39m(\n",
       "  \u001b[32m\"mhnis aeidw qea *phlhi+adew# *axilhos\"\u001b[39m,\n",
       "..."
      ]
     },
     "execution_count": 7,
     "metadata": {},
     "output_type": "execute_result"
    }
   ],
   "source": [
    "\n",
    "val iliadUrn = CtsUrn(\"urn:cts:greekLit:tlg0012.tlg001.allen:\")\n",
    "val regularCorpNodes = corp.nodes.filter( n => {\n",
    "    n.urn.dropPassage == iliadUrn\n",
    "})\n",
    "\n",
    "val iliadLemmUrn = CtsUrn(\"urn:cts:greekLit:tlg0012.tlg001.allen.lemmatizedToken_merged:\")\n",
    "val lemmCorpNodes = corp.nodes.filter( n => {\n",
    "    n.urn.dropPassage == iliadLemmUrn\n",
    "})\n",
    "\n",
    "val asciiRegularIliad: Vector[String] = {\n",
    "    regularCorpNodes.map( n => {\n",
    "        val grkText = n.text\n",
    "        val grkObj = LiteraryGreekString(grkText)\n",
    "        grkObj.stripAccent.ascii.replaceAll(\"[)(]\",\"\")\n",
    "    })\n",
    "}\n",
    "\n",
    "println(asciiRegularIliad.head)\n",
    "\n",
    "val asciiLemmatizedIliad: Vector[String] = {\n",
    "    lemmCorpNodes.map( n => {\n",
    "        val grkText = n.text\n",
    "        val grkObj = LiteraryGreekString(grkText)\n",
    "        grkObj.stripAccent.ascii.replaceAll(\"[)(]\",\"\")\n",
    "    })\n",
    "}\n",
    "\n",
    "println(asciiLemmatizedIliad.head)\n",
    "\n",
    "\n"
   ]
  },
  {
   "cell_type": "code",
   "execution_count": 8,
   "metadata": {},
   "outputs": [
    {
     "data": {
      "text/plain": [
       "\u001b[36mbigNormString\u001b[39m: \u001b[32mString\u001b[39m = \u001b[32m\"mhninaeideqeaphlhiadewaxilhosoulomenhnhmuriaxaioisalgeeqhkepollasdifqimousyuxasaidiproiayenhrwwnautousdeelwriateuxekunessinoiwnoisitepasidiosdeteleietoboulheco\u001b[39m...\n",
       "\u001b[36mbigLemString\u001b[39m: \u001b[32mString\u001b[39m = \u001b[32m\"mhnisaeidwqeaphlhiadewaxilhosoulomenososomuriosaxaioisalgewalgostiqhmipolusdeifqimosyuxhaidiproiayenhrwsautosdeelwrionteuxwkuwnoiwnostepasispasdiosdetelewboulh\u001b[39m..."
      ]
     },
     "execution_count": 8,
     "metadata": {},
     "output_type": "execute_result"
    }
   ],
   "source": [
    "val bigNormString = asciiRegularIliad.mkString.replaceAll(\"[*#+.,; ]\",\"\").replaceAll(\"\\\\|\",\"i\")\n",
    "\n",
    "val bigLemString = asciiLemmatizedIliad.mkString.replaceAll(\"[*#+.,; ]\",\"\").replaceAll(\"\\\\|\",\"i\")"
   ]
  },
  {
   "cell_type": "code",
   "execution_count": 9,
   "metadata": {},
   "outputs": [
    {
     "data": {
      "text/plain": [
       "\u001b[36mnormGrouped\u001b[39m: \u001b[32mVector\u001b[39m[(\u001b[32mChar\u001b[39m, \u001b[32mVector\u001b[39m[\u001b[32mChar\u001b[39m])] = \u001b[33mVector\u001b[39m(\n",
       "  (\n",
       "...\n",
       "\u001b[36mlemGrouped\u001b[39m: \u001b[32mVector\u001b[39m[(\u001b[32mChar\u001b[39m, \u001b[32mVector\u001b[39m[\u001b[32mChar\u001b[39m])] = \u001b[33mVector\u001b[39m(\n",
       "  (\n",
       "..."
      ]
     },
     "execution_count": 9,
     "metadata": {},
     "output_type": "execute_result"
    }
   ],
   "source": [
    "val normGrouped: Vector[ (Char, Vector[Char])] = bigNormString.toVector.groupBy( c => c).toVector\n",
    "val lemGrouped: Vector[ (Char, Vector[Char])] = bigLemString.toVector.groupBy( c => c).toVector\n",
    "\n"
   ]
  },
  {
   "cell_type": "code",
   "execution_count": null,
   "metadata": {},
   "outputs": [],
   "source": []
  },
  {
   "cell_type": "code",
   "execution_count": 10,
   "metadata": {},
   "outputs": [
    {
     "data": {
      "text/plain": [
       "\u001b[36mnormHisto\u001b[39m: \u001b[32mVector\u001b[39m[(\u001b[32mChar\u001b[39m, \u001b[32mInt\u001b[39m)] = \u001b[33mVector\u001b[39m(\n",
       "  (\u001b[32m'y'\u001b[39m, \u001b[32m668\u001b[39m),\n",
       "...\n",
       "\u001b[36mlemHisto\u001b[39m: \u001b[32mVector\u001b[39m[(\u001b[32mChar\u001b[39m, \u001b[32mInt\u001b[39m)] = \u001b[33mVector\u001b[39m(\n",
       "  (\u001b[32m'y'\u001b[39m, \u001b[32m559\u001b[39m),\n",
       "..."
      ]
     },
     "execution_count": 10,
     "metadata": {},
     "output_type": "execute_result"
    }
   ],
   "source": [
    "val normHisto = normGrouped.map( g => {\n",
    "    val c = g._1\n",
    "    val n = g._2.size\n",
    "    (c, n)\n",
    "}).sortBy(_._2)\n",
    "\n",
    "val lemHisto = lemGrouped.map( g => {\n",
    "    val c = g._1\n",
    "    val n = g._2.size\n",
    "    (c, n)\n",
    "}).sortBy(_._2)"
   ]
  },
  {
   "cell_type": "code",
   "execution_count": 11,
   "metadata": {},
   "outputs": [
    {
     "name": "stdout",
     "output_type": "stream",
     "text": [
      "(y,559)\n",
      "(c,1706)\n",
      "(z,2583)\n",
      "(b,3111)\n",
      "(f,6356)\n",
      "(q,8383)\n",
      "(x,8843)\n",
      "(g,9843)\n",
      "(k,17382)\n",
      "(h,18379)\n",
      "(d,19364)\n",
      "(l,20293)\n",
      "(p,21895)\n",
      "(m,25410)\n",
      "(u,25575)\n",
      "(t,27079)\n",
      "(r,30076)\n",
      "(w,31874)\n",
      "(n,31992)\n",
      "(s,55958)\n",
      "(i,57899)\n",
      "(e,64259)\n",
      "(o,65226)\n",
      "(a,68502)\n"
     ]
    }
   ],
   "source": [
    "for ( h <- lemHisto ) println( h )"
   ]
  },
  {
   "cell_type": "markdown",
   "metadata": {},
   "source": [
    "### Plot the Histogram"
   ]
  },
  {
   "cell_type": "code",
   "execution_count": 12,
   "metadata": {},
   "outputs": [
    {
     "data": {
      "text/html": [
       "\n",
       "      <script type=\"text/javascript\">\n",
       "        require.config({\n",
       "  paths: {\n",
       "    d3: 'https://cdnjs.cloudflare.com/ajax/libs/d3/3.5.17/d3.min',\n",
       "    plotly: 'https://cdn.plot.ly/plotly-1.41.3.min',\n",
       "    jquery: 'https://code.jquery.com/jquery-3.3.1.min'\n",
       "  },\n",
       "\n",
       "  shim: {\n",
       "    plotly: {\n",
       "      deps: ['d3', 'jquery'],\n",
       "      exports: 'plotly'\n",
       "    }\n",
       "  }\n",
       "});\n",
       "        \n",
       "\n",
       "        require(['plotly'], function(Plotly) {\n",
       "          window.Plotly = Plotly;\n",
       "        });\n",
       "      </script>\n",
       "    "
      ]
     },
     "metadata": {},
     "output_type": "display_data"
    },
    {
     "data": {
      "application/vnd.plotly.v1+json": {
       "data": [
        {
         "type": "scatter",
         "x": [
          "y",
          "z",
          "c",
          "b",
          "f",
          "x",
          "g",
          "q",
          "w",
          "k",
          "d",
          "m",
          "l",
          "p",
          "h",
          "u",
          "r",
          "t",
          "s",
          "n",
          "o",
          "i",
          "a",
          "e"
         ],
         "y": [
          668,
          1163,
          1975,
          2845,
          5935,
          6937,
          7979,
          9244,
          15438,
          16584,
          17926,
          18445,
          18716,
          19191,
          20735,
          21576,
          24144,
          31327,
          39925,
          44588,
          51480,
          55510,
          58806,
          64837
         ]
        },
        {
         "type": "scatter",
         "x": [
          "y",
          "z",
          "c",
          "b",
          "f",
          "x",
          "g",
          "q",
          "w",
          "k",
          "d",
          "m",
          "l",
          "p",
          "h",
          "u",
          "r",
          "t",
          "s",
          "n",
          "o",
          "i",
          "a",
          "e"
         ],
         "y": [
          559,
          1706,
          2583,
          3111,
          6356,
          8383,
          8843,
          9843,
          17382,
          18379,
          19364,
          20293,
          21895,
          25410,
          25575,
          27079,
          30076,
          31874,
          31992,
          55958,
          57899,
          64259,
          65226,
          68502
         ]
        }
       ],
       "layout": {}
      },
      "text/html": [
       "<div class=\"chart\" id=\"plot-996b3b04-d63d-422c-9648-839b1031d780\"></div>\n",
       "<script>require(['plotly'], function(Plotly) {\n",
       "  (function () {\n",
       "  var data0 = {\"x\":[\"y\",\"z\",\"c\",\"b\",\"f\",\"x\",\"g\",\"q\",\"w\",\"k\",\"d\",\"m\",\"l\",\"p\",\"h\",\"u\",\"r\",\"t\",\"s\",\"n\",\"o\",\"i\",\"a\",\"e\"],\"y\":[668.0,1163.0,1975.0,2845.0,5935.0,6937.0,7979.0,9244.0,15438.0,16584.0,17926.0,18445.0,18716.0,19191.0,20735.0,21576.0,24144.0,31327.0,39925.0,44588.0,51480.0,55510.0,58806.0,64837.0],\"type\":\"scatter\"};\n",
       "  var data1 = {\"x\":[\"y\",\"z\",\"c\",\"b\",\"f\",\"x\",\"g\",\"q\",\"w\",\"k\",\"d\",\"m\",\"l\",\"p\",\"h\",\"u\",\"r\",\"t\",\"s\",\"n\",\"o\",\"i\",\"a\",\"e\"],\"y\":[559.0,1706.0,2583.0,3111.0,6356.0,8383.0,8843.0,9843.0,17382.0,18379.0,19364.0,20293.0,21895.0,25410.0,25575.0,27079.0,30076.0,31874.0,31992.0,55958.0,57899.0,64259.0,65226.0,68502.0],\"type\":\"scatter\"};\n",
       "\n",
       "  var data = [data0, data1];\n",
       "  var layout = {};\n",
       "\n",
       "  Plotly.plot('plot-996b3b04-d63d-422c-9648-839b1031d780', data, layout);\n",
       "})();\n",
       "});\n",
       "      </script>\n",
       "           "
      ]
     },
     "metadata": {},
     "output_type": "display_data"
    },
    {
     "data": {
      "text/plain": [
       "\u001b[36mnormCharSeq\u001b[39m: \u001b[32mcollection\u001b[39m.\u001b[32mimmutable\u001b[39m.\u001b[32mSeq\u001b[39m[\u001b[32mString\u001b[39m] = \u001b[33mVector\u001b[39m(\n",
       "  \u001b[32m\"y\"\u001b[39m,\n",
       "...\n",
       "\u001b[36mnormCountSeq\u001b[39m: \u001b[32mcollection\u001b[39m.\u001b[32mimmutable\u001b[39m.\u001b[32mSeq\u001b[39m[\u001b[32mInt\u001b[39m] = \u001b[33mVector\u001b[39m(\n",
       "  \u001b[32m668\u001b[39m,\n",
       "...\n",
       "\u001b[36mnormalGreek\u001b[39m: \u001b[32mScatter\u001b[39m = \u001b[33mScatter\u001b[39m(\n",
       "  \u001b[33mSome\u001b[39m(\n",
       "...\n",
       "\u001b[36mlemCharSeq\u001b[39m: \u001b[32mcollection\u001b[39m.\u001b[32mimmutable\u001b[39m.\u001b[32mSeq\u001b[39m[\u001b[32mString\u001b[39m] = \u001b[33mVector\u001b[39m(\n",
       "  \u001b[32m\"y\"\u001b[39m,\n",
       "...\n",
       "\u001b[36mlemCountSeq\u001b[39m: \u001b[32mcollection\u001b[39m.\u001b[32mimmutable\u001b[39m.\u001b[32mSeq\u001b[39m[\u001b[32mInt\u001b[39m] = \u001b[33mVector\u001b[39m(\n",
       "  \u001b[32m559\u001b[39m,\n",
       "...\n",
       "\u001b[36mlemmatizedGreek\u001b[39m: \u001b[32mScatter\u001b[39m = \u001b[33mScatter\u001b[39m(\n",
       "  \u001b[33mSome\u001b[39m(\n",
       "...\n",
       "\u001b[36mdata\u001b[39m: \u001b[32mSeq\u001b[39m[\u001b[32mScatter\u001b[39m] = \u001b[33mList\u001b[39m(\n",
       "  \u001b[33mScatter\u001b[39m(\n",
       "...\n",
       "\u001b[36mres11_7\u001b[39m: \u001b[32mString\u001b[39m = \u001b[32m\"plot-996b3b04-d63d-422c-9648-839b1031d780\"\u001b[39m"
      ]
     },
     "execution_count": 12,
     "metadata": {},
     "output_type": "execute_result"
    }
   ],
   "source": [
    "val normCharSeq = normHisto.map(_._1.toString).toSeq\n",
    "val normCountSeq = normHisto.map(_._2).toSeq\n",
    "\n",
    "val normalGreek = Scatter(\n",
    "  normCharSeq,\n",
    "  normCountSeq\n",
    ")\n",
    "\n",
    "val lemCharSeq = lemHisto.map(_._1.toString).toSeq\n",
    "val lemCountSeq = lemHisto.map(_._2).toSeq\n",
    "\n",
    "val lemmatizedGreek = Scatter(\n",
    "  normCharSeq,\n",
    "  lemCountSeq\n",
    ")\n",
    "\n",
    "//val data = Seq(lemmatizedGreek)\n",
    "//val data = Seq(normalGreek)\n",
    "//val data = Seq(lemmatizedGreek, normalGreek)\n",
    "val data = Seq(normalGreek, lemmatizedGreek)\n",
    "\n",
    "plot(data)"
   ]
  },
  {
   "cell_type": "code",
   "execution_count": null,
   "metadata": {},
   "outputs": [],
   "source": []
  },
  {
   "cell_type": "code",
   "execution_count": null,
   "metadata": {},
   "outputs": [],
   "source": []
  }
 ],
 "metadata": {
  "kernel_info": {
   "name": "scala"
  },
  "kernelspec": {
   "display_name": "Scala",
   "language": "scala",
   "name": "scala"
  },
  "language_info": {
   "codemirror_mode": "text/x-scala",
   "file_extension": ".scala",
   "mimetype": "text/x-scala",
   "name": "scala",
   "nbconvert_exporter": "script",
   "version": "2.12.10"
  },
  "nteract": {
   "version": "0.15.0"
  }
 },
 "nbformat": 4,
 "nbformat_minor": 2
}
