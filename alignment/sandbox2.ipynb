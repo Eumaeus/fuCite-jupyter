{
 "cells": [
  {
   "cell_type": "markdown",
   "metadata": {},
   "source": [
    "# Working with Alignments in CITE 2"
   ]
  },
  {
   "cell_type": "markdown",
   "metadata": {},
   "source": [
    "## Configuring CITE libraries for almond kernel\n",
    "\n",
    "First, we'll make a bintray repository with CITE libraries available to your almond kernel."
   ]
  },
  {
   "cell_type": "code",
   "execution_count": 1,
   "metadata": {},
   "outputs": [
    {
     "data": {
      "text/plain": [
       "\u001b[36mmyBT\u001b[39m: \u001b[32mcoursierapi\u001b[39m.\u001b[32mMavenRepository\u001b[39m = MavenRepository(https://dl.bintray.com/neelsmith/maven)"
      ]
     },
     "execution_count": 1,
     "metadata": {},
     "output_type": "execute_result"
    }
   ],
   "source": [
    "val myBT = coursierapi.MavenRepository.of(\"https://dl.bintray.com/neelsmith/maven\")\n",
    "interp.repositories() ++= Seq(myBT)"
   ]
  },
  {
   "cell_type": "markdown",
   "metadata": {},
   "source": [
    "Next, we bring in specific libraries from the new repository using almond's `$ivy` magic:"
   ]
  },
  {
   "cell_type": "code",
   "execution_count": 2,
   "metadata": {},
   "outputs": [
    {
     "data": {
      "text/plain": [
       "\u001b[32mimport \u001b[39m\u001b[36m$ivy.$                                  \n",
       "\u001b[39m\n",
       "\u001b[32mimport \u001b[39m\u001b[36m$ivy.$                                     \n",
       "\u001b[39m\n",
       "\u001b[32mimport \u001b[39m\u001b[36m$ivy.$                              \n",
       "\u001b[39m\n",
       "\u001b[32mimport \u001b[39m\u001b[36m$ivy.$                              \n",
       "\u001b[39m\n",
       "\u001b[32mimport \u001b[39m\u001b[36m$ivy.$                                          \n",
       "\u001b[39m\n",
       "\u001b[32mimport \u001b[39m\u001b[36m$ivy.$                                  \n",
       "\u001b[39m\n",
       "\u001b[32mimport \u001b[39m\u001b[36m$ivy.$                                        \n",
       "\u001b[39m\n",
       "\u001b[32mimport \u001b[39m\u001b[36m$ivy.$                              \n",
       "\u001b[39m\n",
       "\u001b[32mimport \u001b[39m\u001b[36m$ivy.$                                \n",
       "\u001b[39m"
      ]
     },
     "execution_count": 2,
     "metadata": {},
     "output_type": "execute_result"
    }
   ],
   "source": [
    "import $ivy.`edu.holycross.shot::ohco2:10.16.0`\n",
    "import $ivy.`edu.holycross.shot.cite::xcite:4.1.1`\n",
    "import $ivy.`edu.holycross.shot::scm:7.2.0`\n",
    "import $ivy.`edu.holycross.shot::dse:5.2.2`\n",
    "import $ivy.`edu.holycross.shot::citebinaryimage:3.1.1`\n",
    "import $ivy.`edu.holycross.shot::citeobj:7.3.4`\n",
    "import $ivy.`edu.holycross.shot::citerelations:2.5.2`\n",
    "import $ivy.`edu.holycross.shot::cex:6.3.3`\n",
    "import $ivy.`edu.holycross.shot::greek:2.3.3`\n"
   ]
  },
  {
   "cell_type": "markdown",
   "metadata": {},
   "source": [
    "## Imports\n",
    "\n",
    "From this point on, your notebook consists of completely generic Scala, with the CITE Libraries available to use."
   ]
  },
  {
   "cell_type": "code",
   "execution_count": 3,
   "metadata": {},
   "outputs": [
    {
     "data": {
      "text/plain": [
       "\u001b[32mimport \u001b[39m\u001b[36medu.holycross.shot.cite._\n",
       "\u001b[39m\n",
       "\u001b[32mimport \u001b[39m\u001b[36medu.holycross.shot.ohco2._\n",
       "\u001b[39m\n",
       "\u001b[32mimport \u001b[39m\u001b[36medu.holycross.shot.scm._\n",
       "\u001b[39m\n",
       "\u001b[32mimport \u001b[39m\u001b[36medu.holycross.shot.citeobj._\n",
       "\u001b[39m\n",
       "\u001b[32mimport \u001b[39m\u001b[36medu.holycross.shot.citerelation._\n",
       "\u001b[39m\n",
       "\u001b[32mimport \u001b[39m\u001b[36medu.holycross.shot.dse._\n",
       "\u001b[39m\n",
       "\u001b[32mimport \u001b[39m\u001b[36medu.holycross.shot.citebinaryimage._\n",
       "\u001b[39m\n",
       "\u001b[32mimport \u001b[39m\u001b[36medu.holycross.shot.ohco2._\n",
       "\u001b[39m\n",
       "\u001b[32mimport \u001b[39m\u001b[36medu.holycross.shot.greek._\n",
       "\n",
       "\u001b[39m\n",
       "\u001b[32mimport \u001b[39m\u001b[36malmond.display.UpdatableDisplay\n",
       "\u001b[39m\n",
       "\u001b[32mimport \u001b[39m\u001b[36malmond.interpreter.api.DisplayData.ContentType\n",
       "\u001b[39m\n",
       "\u001b[32mimport \u001b[39m\u001b[36malmond.interpreter.api.{DisplayData, OutputHandler}\n",
       "\n",
       "\u001b[39m\n",
       "\u001b[32mimport \u001b[39m\u001b[36mjava.io.File\n",
       "\u001b[39m\n",
       "\u001b[32mimport \u001b[39m\u001b[36mjava.io.PrintWriter\n",
       "\n",
       "\u001b[39m\n",
       "\u001b[32mimport \u001b[39m\u001b[36mscala.io.Source\n",
       "\u001b[39m"
      ]
     },
     "execution_count": 3,
     "metadata": {},
     "output_type": "execute_result"
    }
   ],
   "source": [
    "// Import some CITE libraries\n",
    "import edu.holycross.shot.cite._\n",
    "import edu.holycross.shot.ohco2._\n",
    "import edu.holycross.shot.scm._\n",
    "import edu.holycross.shot.citeobj._\n",
    "import edu.holycross.shot.citerelation._\n",
    "import edu.holycross.shot.dse._\n",
    "import edu.holycross.shot.citebinaryimage._\n",
    "import edu.holycross.shot.ohco2._\n",
    "import edu.holycross.shot.greek._\n",
    "\n",
    "import almond.display.UpdatableDisplay\n",
    "import almond.interpreter.api.DisplayData.ContentType\n",
    "import almond.interpreter.api.{DisplayData, OutputHandler}\n",
    "\n",
    "import java.io.File\n",
    "import java.io.PrintWriter\n",
    "\n",
    "import scala.io.Source\n"
   ]
  },
  {
   "cell_type": "markdown",
   "metadata": {},
   "source": [
    "## Useful Functions"
   ]
  },
  {
   "cell_type": "markdown",
   "metadata": {},
   "source": [
    "Save a string:"
   ]
  },
  {
   "cell_type": "code",
   "execution_count": 4,
   "metadata": {},
   "outputs": [
    {
     "data": {
      "text/plain": [
       "defined \u001b[32mfunction\u001b[39m \u001b[36msaveString\u001b[39m"
      ]
     },
     "execution_count": 4,
     "metadata": {},
     "output_type": "execute_result"
    }
   ],
   "source": [
    "def saveString(s:String, filePath:String = \"\", fileName:String = \"temp.txt\"):Unit = {\n",
    "\t\t val writer = new PrintWriter(new File(s\"${filePath}${fileName}\"))\n",
    "         writer.write(s)\n",
    "         writer.close()\n",
    "\t}"
   ]
  },
  {
   "cell_type": "markdown",
   "metadata": {},
   "source": [
    "Pretty Print many things:"
   ]
  },
  {
   "cell_type": "code",
   "execution_count": 5,
   "metadata": {},
   "outputs": [
    {
     "data": {
      "text/plain": [
       "defined \u001b[32mfunction\u001b[39m \u001b[36mshowMe\u001b[39m"
      ]
     },
     "execution_count": 5,
     "metadata": {},
     "output_type": "execute_result"
    }
   ],
   "source": [
    "def showMe(v:Any):Unit = {\n",
    "  v match {\n",
    "    case _:StringHistogram => {\n",
    "        for ( h <- v.asInstanceOf[StringHistogram].histogram ) {\n",
    "            println(s\"${h.count}\\t${h.s}\")\n",
    "        }\n",
    "    }\n",
    "  \tcase _:Corpus => {\n",
    "  \t\tfor ( n <- v.asInstanceOf[Corpus].nodes) {\n",
    "  \t\t\tprintln(s\"${n.urn.passageComponent}\\t\\t${n.text}\")\n",
    "  \t\t}\t\n",
    "  \t}\n",
    "    case _:Vector[Any] => {\n",
    "       for (a <- v.asInstanceOf[Vector[Any]]){\n",
    "           a match {\n",
    "               case _:Corpus => {\n",
    "                println(\"---------\")\n",
    "                  println( s\"${a.asInstanceOf[Corpus].nodes.head.urn.dropPassage}\")\n",
    "                  println(\"\")\n",
    "                  showMe(a)\n",
    "                  println(\"\")\n",
    "               }\n",
    "               case _:CtsUrn => println(s\"${a}\")\n",
    "               case _:Cite2Urn => println(s\"${a}\")\n",
    "               case _ => {\n",
    "                   println(\"-----------\")\n",
    "                   showMe(a)\n",
    "               }\n",
    "           }\n",
    "       }\n",
    "    }\n",
    "    case _:Iterable[Any] => println(s\"\"\"\\n----\\n${v.asInstanceOf[Iterable[Any]].mkString(\"\\n\")}\\n----\\n\"\"\")\n",
    "    case _ => println(s\"\\n-----\\n${v}\\n----\\n\")\n",
    "  }\n",
    "}"
   ]
  },
  {
   "cell_type": "markdown",
   "metadata": {},
   "source": [
    "## Load Library"
   ]
  },
  {
   "cell_type": "markdown",
   "metadata": {},
   "source": [
    "We will load a Version-level, bilingual file, to start:"
   ]
  },
  {
   "cell_type": "code",
   "execution_count": 6,
   "metadata": {},
   "outputs": [
    {
     "name": "stderr",
     "output_type": "stream",
     "text": [
      "Feb 27, 2020 8:00:02 AM wvlet.log.Logger log\n",
      "INFO: Building text repo from cex ...\n",
      "Feb 27, 2020 8:00:02 AM wvlet.log.Logger log\n",
      "INFO: Building collection repo from cex ...\n",
      "Feb 27, 2020 8:00:02 AM wvlet.log.Logger log\n",
      "INFO: Building relations from cex ...\n",
      "Feb 27, 2020 8:00:02 AM wvlet.log.Logger log\n",
      "INFO: All library components built.\n"
     ]
    },
    {
     "data": {
      "text/plain": [
       "\u001b[36mcexPath\u001b[39m: \u001b[32mString\u001b[39m = \u001b[32m\"cex/Catullus1-aligned.cex\"\u001b[39m\n",
       "\u001b[36mlib\u001b[39m: \u001b[32mCiteLibrary\u001b[39m = \u001b[33mCiteLibrary\u001b[39m(\n",
       "  \u001b[32m\"CITE Library generated by the Ducat application, Thu Nov 07 2019 12:30:10 GMT-0500 (EST)\"\u001b[39m,\n",
       "  \u001b[33mCite2Urn\u001b[39m(\u001b[32m\"urn:cite2:cex:ducatauto.201910:12_30_10_534\"\u001b[39m),\n",
       "  \u001b[32m\"CC Share Alike.\"\u001b[39m,\n",
       "  \u001b[33mVector\u001b[39m(),\n",
       "  \u001b[33mSome\u001b[39m(\n",
       "    \u001b[33mTextRepository\u001b[39m(\n",
       "      \u001b[33mCorpus\u001b[39m(\n",
       "        \u001b[33mVector\u001b[39m(\n",
       "          \u001b[33mCitableNode\u001b[39m(\n",
       "            \u001b[33mCtsUrn\u001b[39m(\u001b[32m\"urn:cts:latinLit:phi0472.phi001.merrill.token:1.1.0\"\u001b[39m),\n",
       "            \u001b[32m\"Cui \"\u001b[39m\n",
       "          ),\n",
       "          \u001b[33mCitableNode\u001b[39m(\n",
       "            \u001b[33mCtsUrn\u001b[39m(\u001b[32m\"urn:cts:latinLit:phi0472.phi001.merrill.token:1.1.1\"\u001b[39m),\n",
       "            \u001b[32m\"dono \"\u001b[39m\n",
       "          ),\n",
       "          \u001b[33mCitableNode\u001b[39m(\n",
       "            \u001b[33mCtsUrn\u001b[39m(\u001b[32m\"urn:cts:latinLit:phi0472.phi001.merrill.token:1.1.2\"\u001b[39m),\n",
       "            \u001b[32m\"lepidum \"\u001b[39m\n",
       "          ),\n",
       "          \u001b[33mCitableNode\u001b[39m(\n",
       "            \u001b[33mCtsUrn\u001b[39m(\u001b[32m\"urn:cts:latinLit:phi0472.phi001.merrill.token:1.1.3\"\u001b[39m),\n",
       "            \u001b[32m\"novum \"\u001b[39m\n",
       "          ),\n",
       "          \u001b[33mCitableNode\u001b[39m(\n",
       "            \u001b[33mCtsUrn\u001b[39m(\u001b[32m\"urn:cts:latinLit:phi0472.phi001.merrill.token:1.1.4\"\u001b[39m),\n",
       "            \u001b[32m\"libellum\"\u001b[39m\n",
       "          ),\n",
       "          \u001b[33mCitableNode\u001b[39m(\n",
       "            \u001b[33mCtsUrn\u001b[39m(\u001b[32m\"urn:cts:latinLit:phi0472.phi001.merrill.token:1.2.0\"\u001b[39m),\n",
       "            \u001b[32m\"arido \"\u001b[39m\n",
       "          ),\n",
       "          \u001b[33mCitableNode\u001b[39m(\n",
       "            \u001b[33mCtsUrn\u001b[39m(\u001b[32m\"urn:cts:latinLit:phi0472.phi001.merrill.token:1.2.1\"\u001b[39m),\n",
       "            \u001b[32m\"modo \"\u001b[39m\n",
       "          ),\n",
       "          \u001b[33mCitableNode\u001b[39m(\n",
       "..."
      ]
     },
     "execution_count": 6,
     "metadata": {},
     "output_type": "execute_result"
    }
   ],
   "source": [
    "val cexPath = \"cex/Catullus1-aligned.cex\"\n",
    "val lib = CiteLibrary(scala.io.Source.fromFile(cexPath).mkString)"
   ]
  },
  {
   "cell_type": "markdown",
   "metadata": {},
   "source": [
    "Get parts of the library where we can use them:"
   ]
  },
  {
   "cell_type": "code",
   "execution_count": 7,
   "metadata": {},
   "outputs": [
    {
     "data": {
      "text/html": [
       "<div class=\"jp-RenderedText\">\n",
       "<pre><code><span style=\"color: rgb(0, 187, 187)\"><span class=\"ansi-cyan-fg\">tr</span></span>: <span style=\"color: rgb(0, 187, 0)\"><span class=\"ansi-green-fg\">TextRepository</span></span> = <span style=\"color: yellow\"><span class=\"ansi-yellow-fg\">TextRepository</span></span>(\n",
       "  <span style=\"color: yellow\"><span class=\"ansi-yellow-fg\">Corpus</span></span>(\n",
       "    <span style=\"color: yellow\"><span class=\"ansi-yellow-fg\">Vector</span></span>(\n",
       "      <span style=\"color: yellow\"><span class=\"ansi-yellow-fg\">CitableNode</span></span>(\n",
       "        <span style=\"color: yellow\"><span class=\"ansi-yellow-fg\">CtsUrn</span></span>(<span style=\"color: rgb(0, 187, 0)\"><span class=\"ansi-green-fg\">&quot;urn:cts:latinLit:phi0472.phi001.merrill.token:1.1.0&quot;</span></span>),\n",
       "        <span style=\"color: rgb(0, 187, 0)\"><span class=\"ansi-green-fg\">&quot;Cui &quot;</span></span>\n",
       "      ),\n",
       "      <span style=\"color: yellow\"><span class=\"ansi-yellow-fg\">CitableNode</span></span>(\n",
       "        <span style=\"color: yellow\"><span class=\"ansi-yellow-fg\">CtsUrn</span></span>(<span style=\"color: rgb(0, 187, 0)\"><span class=\"ansi-green-fg\">&quot;urn:cts:latinLit:phi0472.phi001.merrill.token:1.1.1&quot;</span></span>),\n",
       "        <span style=\"color: rgb(0, 187, 0)\"><span class=\"ansi-green-fg\">&quot;dono &quot;</span></span>\n",
       "      ),\n",
       "      <span style=\"color: yellow\"><span class=\"ansi-yellow-fg\">CitableNode</span></span>(\n",
       "        <span style=\"color: yellow\"><span class=\"ansi-yellow-fg\">CtsUrn</span></span>(<span style=\"color: rgb(0, 187, 0)\"><span class=\"ansi-green-fg\">&quot;urn:cts:latinLit:phi0472.phi001.merrill.token:1.1.2&quot;</span></span>),\n",
       "        <span style=\"color: rgb(0, 187, 0)\"><span class=\"ansi-green-fg\">&quot;lepidum &quot;</span></span>\n",
       "      ),\n",
       "      <span style=\"color: yellow\"><span class=\"ansi-yellow-fg\">CitableNode</span></span>(\n",
       "        <span style=\"color: yellow\"><span class=\"ansi-yellow-fg\">CtsUrn</span></span>(<span style=\"color: rgb(0, 187, 0)\"><span class=\"ansi-green-fg\">&quot;urn:cts:latinLit:phi0472.phi001.merrill.token:1.1.3&quot;</span></span>),\n",
       "        <span style=\"color: rgb(0, 187, 0)\"><span class=\"ansi-green-fg\">&quot;novum &quot;</span></span>\n",
       "      ),\n",
       "      <span style=\"color: yellow\"><span class=\"ansi-yellow-fg\">CitableNode</span></span>(\n",
       "        <span style=\"color: yellow\"><span class=\"ansi-yellow-fg\">CtsUrn</span></span>(<span style=\"color: rgb(0, 187, 0)\"><span class=\"ansi-green-fg\">&quot;urn:cts:latinLit:phi0472.phi001.merrill.token:1.1.4&quot;</span></span>),\n",
       "        <span style=\"color: rgb(0, 187, 0)\"><span class=\"ansi-green-fg\">&quot;libellum&quot;</span></span>\n",
       "      ),\n",
       "      <span style=\"color: yellow\"><span class=\"ansi-yellow-fg\">CitableNode</span></span>(\n",
       "        <span style=\"color: yellow\"><span class=\"ansi-yellow-fg\">CtsUrn</span></span>(<span style=\"color: rgb(0, 187, 0)\"><span class=\"ansi-green-fg\">&quot;urn:cts:latinLit:phi0472.phi001.merrill.token:1.2.0&quot;</span></span>),\n",
       "        <span style=\"color: rgb(0, 187, 0)\"><span class=\"ansi-green-fg\">&quot;arido &quot;</span></span>\n",
       "      ),\n",
       "      <span style=\"color: yellow\"><span class=\"ansi-yellow-fg\">CitableNode</span></span>(\n",
       "        <span style=\"color: yellow\"><span class=\"ansi-yellow-fg\">CtsUrn</span></span>(<span style=\"color: rgb(0, 187, 0)\"><span class=\"ansi-green-fg\">&quot;urn:cts:latinLit:phi0472.phi001.merrill.token:1.2.1&quot;</span></span>),\n",
       "        <span style=\"color: rgb(0, 187, 0)\"><span class=\"ansi-green-fg\">&quot;modo &quot;</span></span>\n",
       "      ),\n",
       "      <span style=\"color: yellow\"><span class=\"ansi-yellow-fg\">CitableNode</span></span>(\n",
       "        <span style=\"color: yellow\"><span class=\"ansi-yellow-fg\">CtsUrn</span></span>(<span style=\"color: rgb(0, 187, 0)\"><span class=\"ansi-green-fg\">&quot;urn:cts:latinLit:phi0472.phi001.merrill.token:1.2.2&quot;</span></span>),\n",
       "        <span style=\"color: rgb(0, 187, 0)\"><span class=\"ansi-green-fg\">&quot;pumice &quot;</span></span>\n",
       "      ),\n",
       "      <span style=\"color: yellow\"><span class=\"ansi-yellow-fg\">CitableNode</span></span>(\n",
       "        <span style=\"color: yellow\"><span class=\"ansi-yellow-fg\">CtsUrn</span></span>(<span style=\"color: rgb(0, 187, 0)\"><span class=\"ansi-green-fg\">&quot;urn:cts:latinLit:phi0472.phi001.merrill.token:1.2.3&quot;</span></span>),\n",
       "        <span style=\"color: rgb(0, 187, 0)\"><span class=\"ansi-green-fg\">&quot;expolitum?&quot;</span></span>\n",
       "      ),\n",
       "...\n",
       "<span style=\"color: rgb(0, 187, 187)\"><span class=\"ansi-cyan-fg\">corp</span></span>: <span style=\"color: rgb(0, 187, 0)\"><span class=\"ansi-green-fg\">Corpus</span></span> = <style>@keyframes fadein { from { opacity: 0; } to { opacity: 1; } }</style><span style=\"animation: fadein 2s;\"><span style=\"color: yellow\"><span class=\"ansi-yellow-fg\">Corpus</span></span>(\n",
       "  <span style=\"color: yellow\"><span class=\"ansi-yellow-fg\">Vector</span></span>(\n",
       "    <span style=\"color: yellow\"><span class=\"ansi-yellow-fg\">CitableNode</span></span>(\n",
       "      <span style=\"color: yellow\"><span class=\"ansi-yellow-fg\">CtsUrn</span></span>(<span style=\"color: rgb(0, 187, 0)\"><span class=\"ansi-green-fg\">&quot;urn:cts:latinLit:phi0472.phi001.merrill.token:1.1.0&quot;</span></span>),\n",
       "      <span style=\"color: rgb(0, 187, 0)\"><span class=\"ansi-green-fg\">&quot;Cui &quot;</span></span>\n",
       "    ),\n",
       "    <span style=\"color: yellow\"><span class=\"ansi-yellow-fg\">CitableNode</span></span>(\n",
       "      <span style=\"color: yellow\"><span class=\"ansi-yellow-fg\">CtsUrn</span></span>(<span style=\"color: rgb(0, 187, 0)\"><span class=\"ansi-green-fg\">&quot;urn:cts:latinLit:phi0472.phi001.merrill.token:1.1.1&quot;</span></span>),\n",
       "      <span style=\"color: rgb(0, 187, 0)\"><span class=\"ansi-green-fg\">&quot;dono &quot;</span></span>\n",
       "    ),\n",
       "    <span style=\"color: yellow\"><span class=\"ansi-yellow-fg\">CitableNode</span></span>(\n",
       "      <span style=\"color: yellow\"><span class=\"ansi-yellow-fg\">CtsUrn</span></span>(<span style=\"color: rgb(0, 187, 0)\"><span class=\"ansi-green-fg\">&quot;urn:cts:latinLit:phi0472.phi001.merrill.token:1.1.2&quot;</span></span>),\n",
       "      <span style=\"color: rgb(0, 187, 0)\"><span class=\"ansi-green-fg\">&quot;lepidum &quot;</span></span>\n",
       "    ),\n",
       "    <span style=\"color: yellow\"><span class=\"ansi-yellow-fg\">CitableNode</span></span>(\n",
       "      <span style=\"color: yellow\"><span class=\"ansi-yellow-fg\">CtsUrn</span></span>(<span style=\"color: rgb(0, 187, 0)\"><span class=\"ansi-green-fg\">&quot;urn:cts:latinLit:phi0472.phi001.merrill.token:1.1.3&quot;</span></span>),\n",
       "      <span style=\"color: rgb(0, 187, 0)\"><span class=\"ansi-green-fg\">&quot;novum &quot;</span></span>\n",
       "    ),\n",
       "    <span style=\"color: yellow\"><span class=\"ansi-yellow-fg\">CitableNode</span></span>(\n",
       "      <span style=\"color: yellow\"><span class=\"ansi-yellow-fg\">CtsUrn</span></span>(<span style=\"color: rgb(0, 187, 0)\"><span class=\"ansi-green-fg\">&quot;urn:cts:latinLit:phi0472.phi001.merrill.token:1.1.4&quot;</span></span>),\n",
       "      <span style=\"color: rgb(0, 187, 0)\"><span class=\"ansi-green-fg\">&quot;libellum&quot;</span></span>\n",
       "    ),\n",
       "    <span style=\"color: yellow\"><span class=\"ansi-yellow-fg\">CitableNode</span></span>(\n",
       "      <span style=\"color: yellow\"><span class=\"ansi-yellow-fg\">CtsUrn</span></span>(<span style=\"color: rgb(0, 187, 0)\"><span class=\"ansi-green-fg\">&quot;urn:cts:latinLit:phi0472.phi001.merrill.token:1.2.0&quot;</span></span>),\n",
       "      <span style=\"color: rgb(0, 187, 0)\"><span class=\"ansi-green-fg\">&quot;arido &quot;</span></span>\n",
       "    ),\n",
       "    <span style=\"color: yellow\"><span class=\"ansi-yellow-fg\">CitableNode</span></span>(\n",
       "      <span style=\"color: yellow\"><span class=\"ansi-yellow-fg\">CtsUrn</span></span>(<span style=\"color: rgb(0, 187, 0)\"><span class=\"ansi-green-fg\">&quot;urn:cts:latinLit:phi0472.phi001.merrill.token:1.2.1&quot;</span></span>),\n",
       "      <span style=\"color: rgb(0, 187, 0)\"><span class=\"ansi-green-fg\">&quot;modo &quot;</span></span>\n",
       "    ),\n",
       "    <span style=\"color: yellow\"><span class=\"ansi-yellow-fg\">CitableNode</span></span>(\n",
       "      <span style=\"color: yellow\"><span class=\"ansi-yellow-fg\">CtsUrn</span></span>(<span style=\"color: rgb(0, 187, 0)\"><span class=\"ansi-green-fg\">&quot;urn:cts:latinLit:phi0472.phi001.merrill.token:1.2.2&quot;</span></span>),\n",
       "      <span style=\"color: rgb(0, 187, 0)\"><span class=\"ansi-green-fg\">&quot;pumice &quot;</span></span>\n",
       "    ),\n",
       "    <span style=\"color: yellow\"><span class=\"ansi-yellow-fg\">CitableNode</span></span>(\n",
       "      <span style=\"color: yellow\"><span class=\"ansi-yellow-fg\">CtsUrn</span></span>(<span style=\"color: rgb(0, 187, 0)\"><span class=\"ansi-green-fg\">&quot;urn:cts:latinLit:phi0472.phi001.merrill.token:1.2.3&quot;</span></span>),\n",
       "      <span style=\"color: rgb(0, 187, 0)\"><span class=\"ansi-green-fg\">&quot;expolitum?&quot;</span></span>\n",
       "    ),\n",
       "    <span style=\"color: yellow\"><span class=\"ansi-yellow-fg\">CitableNode</span></span>(\n",
       "...</span>\n",
       "<span style=\"color: rgb(0, 187, 187)\"><span class=\"ansi-cyan-fg\">cat</span></span>: <span style=\"color: rgb(0, 187, 0)\"><span class=\"ansi-green-fg\">Catalog</span></span> = <span style=\"color: white\"><span class=\"ansi-white-fg\">[lazy]</span></span></code></pre>\n",
       "</div>"
      ],
      "text/plain": [
       "\u001b[36mtr\u001b[39m: \u001b[32mTextRepository\u001b[39m = \u001b[33mTextRepository\u001b[39m(\n",
       "  \u001b[33mCorpus\u001b[39m(\n",
       "    \u001b[33mVector\u001b[39m(\n",
       "      \u001b[33mCitableNode\u001b[39m(\n",
       "        \u001b[33mCtsUrn\u001b[39m(\u001b[32m\"urn:cts:latinLit:phi0472.phi001.merrill.token:1.1.0\"\u001b[39m),\n",
       "        \u001b[32m\"Cui \"\u001b[39m\n",
       "      ),\n",
       "      \u001b[33mCitableNode\u001b[39m(\n",
       "        \u001b[33mCtsUrn\u001b[39m(\u001b[32m\"urn:cts:latinLit:phi0472.phi001.merrill.token:1.1.1\"\u001b[39m),\n",
       "        \u001b[32m\"dono \"\u001b[39m\n",
       "      ),\n",
       "      \u001b[33mCitableNode\u001b[39m(\n",
       "        \u001b[33mCtsUrn\u001b[39m(\u001b[32m\"urn:cts:latinLit:phi0472.phi001.merrill.token:1.1.2\"\u001b[39m),\n",
       "        \u001b[32m\"lepidum \"\u001b[39m\n",
       "      ),\n",
       "      \u001b[33mCitableNode\u001b[39m(\n",
       "        \u001b[33mCtsUrn\u001b[39m(\u001b[32m\"urn:cts:latinLit:phi0472.phi001.merrill.token:1.1.3\"\u001b[39m),\n",
       "        \u001b[32m\"novum \"\u001b[39m\n",
       "      ),\n",
       "      \u001b[33mCitableNode\u001b[39m(\n",
       "        \u001b[33mCtsUrn\u001b[39m(\u001b[32m\"urn:cts:latinLit:phi0472.phi001.merrill.token:1.1.4\"\u001b[39m),\n",
       "        \u001b[32m\"libellum\"\u001b[39m\n",
       "      ),\n",
       "      \u001b[33mCitableNode\u001b[39m(\n",
       "        \u001b[33mCtsUrn\u001b[39m(\u001b[32m\"urn:cts:latinLit:phi0472.phi001.merrill.token:1.2.0\"\u001b[39m),\n",
       "        \u001b[32m\"arido \"\u001b[39m\n",
       "      ),\n",
       "      \u001b[33mCitableNode\u001b[39m(\n",
       "        \u001b[33mCtsUrn\u001b[39m(\u001b[32m\"urn:cts:latinLit:phi0472.phi001.merrill.token:1.2.1\"\u001b[39m),\n",
       "        \u001b[32m\"modo \"\u001b[39m\n",
       "      ),\n",
       "      \u001b[33mCitableNode\u001b[39m(\n",
       "        \u001b[33mCtsUrn\u001b[39m(\u001b[32m\"urn:cts:latinLit:phi0472.phi001.merrill.token:1.2.2\"\u001b[39m),\n",
       "        \u001b[32m\"pumice \"\u001b[39m\n",
       "      ),\n",
       "      \u001b[33mCitableNode\u001b[39m(\n",
       "        \u001b[33mCtsUrn\u001b[39m(\u001b[32m\"urn:cts:latinLit:phi0472.phi001.merrill.token:1.2.3\"\u001b[39m),\n",
       "        \u001b[32m\"expolitum?\"\u001b[39m\n",
       "      ),\n",
       "...\n",
       "\u001b[36mcorp\u001b[39m: \u001b[32mCorpus\u001b[39m = \u001b[33mCorpus\u001b[39m(\n",
       "  \u001b[33mVector\u001b[39m(\n",
       "    \u001b[33mCitableNode\u001b[39m(\n",
       "      \u001b[33mCtsUrn\u001b[39m(\u001b[32m\"urn:cts:latinLit:phi0472.phi001.merrill.token:1.1.0\"\u001b[39m),\n",
       "      \u001b[32m\"Cui \"\u001b[39m\n",
       "    ),\n",
       "    \u001b[33mCitableNode\u001b[39m(\n",
       "      \u001b[33mCtsUrn\u001b[39m(\u001b[32m\"urn:cts:latinLit:phi0472.phi001.merrill.token:1.1.1\"\u001b[39m),\n",
       "      \u001b[32m\"dono \"\u001b[39m\n",
       "    ),\n",
       "    \u001b[33mCitableNode\u001b[39m(\n",
       "      \u001b[33mCtsUrn\u001b[39m(\u001b[32m\"urn:cts:latinLit:phi0472.phi001.merrill.token:1.1.2\"\u001b[39m),\n",
       "      \u001b[32m\"lepidum \"\u001b[39m\n",
       "    ),\n",
       "    \u001b[33mCitableNode\u001b[39m(\n",
       "      \u001b[33mCtsUrn\u001b[39m(\u001b[32m\"urn:cts:latinLit:phi0472.phi001.merrill.token:1.1.3\"\u001b[39m),\n",
       "      \u001b[32m\"novum \"\u001b[39m\n",
       "    ),\n",
       "    \u001b[33mCitableNode\u001b[39m(\n",
       "      \u001b[33mCtsUrn\u001b[39m(\u001b[32m\"urn:cts:latinLit:phi0472.phi001.merrill.token:1.1.4\"\u001b[39m),\n",
       "      \u001b[32m\"libellum\"\u001b[39m\n",
       "    ),\n",
       "    \u001b[33mCitableNode\u001b[39m(\n",
       "      \u001b[33mCtsUrn\u001b[39m(\u001b[32m\"urn:cts:latinLit:phi0472.phi001.merrill.token:1.2.0\"\u001b[39m),\n",
       "      \u001b[32m\"arido \"\u001b[39m\n",
       "    ),\n",
       "    \u001b[33mCitableNode\u001b[39m(\n",
       "      \u001b[33mCtsUrn\u001b[39m(\u001b[32m\"urn:cts:latinLit:phi0472.phi001.merrill.token:1.2.1\"\u001b[39m),\n",
       "      \u001b[32m\"modo \"\u001b[39m\n",
       "    ),\n",
       "    \u001b[33mCitableNode\u001b[39m(\n",
       "      \u001b[33mCtsUrn\u001b[39m(\u001b[32m\"urn:cts:latinLit:phi0472.phi001.merrill.token:1.2.2\"\u001b[39m),\n",
       "      \u001b[32m\"pumice \"\u001b[39m\n",
       "    ),\n",
       "    \u001b[33mCitableNode\u001b[39m(\n",
       "      \u001b[33mCtsUrn\u001b[39m(\u001b[32m\"urn:cts:latinLit:phi0472.phi001.merrill.token:1.2.3\"\u001b[39m),\n",
       "      \u001b[32m\"expolitum?\"\u001b[39m\n",
       "    ),\n",
       "    \u001b[33mCitableNode\u001b[39m(\n",
       "...\n",
       "\u001b[36mcat\u001b[39m: \u001b[32mCatalog\u001b[39m = \u001b[37m[lazy]\u001b[39m"
      ]
     },
     "metadata": {},
     "output_type": "display_data"
    }
   ],
   "source": [
    "lazy val tr: TextRepository = lib.textRepository.get\n",
    "lazy val corp: Corpus = tr.corpus\n",
    "lazy val cat: Catalog = tr.catalog"
   ]
  },
  {
   "cell_type": "markdown",
   "metadata": {},
   "source": [
    "## Alignment-Specific Setup"
   ]
  },
  {
   "cell_type": "markdown",
   "metadata": {},
   "source": [
    "Alignment collections will be recorded as belonging to this data-model:"
   ]
  },
  {
   "cell_type": "code",
   "execution_count": 8,
   "metadata": {},
   "outputs": [
    {
     "data": {
      "text/plain": [
       "\u001b[36malignModel\u001b[39m: \u001b[32mCite2Urn\u001b[39m = \u001b[33mCite2Urn\u001b[39m(\u001b[32m\"urn:cite2:cite:datamodels.v1:alignment\"\u001b[39m)"
      ]
     },
     "execution_count": 8,
     "metadata": {},
     "output_type": "execute_result"
    }
   ],
   "source": [
    "val alignModel = Cite2Urn(\"urn:cite2:cite:datamodels.v1:alignment\")"
   ]
  },
  {
   "cell_type": "markdown",
   "metadata": {},
   "source": [
    "This is the CITE Relations verb that “glues” passages to a given alignment:"
   ]
  },
  {
   "cell_type": "code",
   "execution_count": 9,
   "metadata": {},
   "outputs": [
    {
     "data": {
      "text/plain": [
       "\u001b[36malignVerb\u001b[39m: \u001b[32mCite2Urn\u001b[39m = \u001b[33mCite2Urn\u001b[39m(\u001b[32m\"urn:cite2:cite:verbs.v1:aligns\"\u001b[39m)"
      ]
     },
     "execution_count": 9,
     "metadata": {},
     "output_type": "execute_result"
    }
   ],
   "source": [
    "val alignVerb = Cite2Urn(\"urn:cite2:cite:verbs.v1:aligns\")"
   ]
  },
  {
   "cell_type": "markdown",
   "metadata": {},
   "source": [
    "We can get a Vector of Alignment-collections:"
   ]
  },
  {
   "cell_type": "code",
   "execution_count": 10,
   "metadata": {},
   "outputs": [
    {
     "data": {
      "text/plain": [
       "\u001b[36malignmentCollections\u001b[39m: \u001b[32mVector\u001b[39m[\u001b[32mCite2Urn\u001b[39m] = \u001b[33mVector\u001b[39m(\n",
       "  \u001b[33mCite2Urn\u001b[39m(\u001b[32m\"urn:cite2:ducat:alignments.temp:\"\u001b[39m)\n",
       ")"
      ]
     },
     "execution_count": 10,
     "metadata": {},
     "output_type": "execute_result"
    }
   ],
   "source": [
    "val alignmentCollections: Vector[Cite2Urn] = lib.collectionsForModel(alignModel)"
   ]
  },
  {
   "cell_type": "markdown",
   "metadata": {},
   "source": [
    "## Aligmnment-Specific Functions"
   ]
  },
  {
   "cell_type": "markdown",
   "metadata": {},
   "source": [
    "(These functions assume values defined above. They do not do elaborate checking for necessary components of a CITE Library, for example. They are not ready to be abstracted out of this notebook!)"
   ]
  },
  {
   "cell_type": "markdown",
   "metadata": {},
   "source": [
    "### `alignmentsForPassage( psg: CtsUrn ): Vector[Cite2Urn]`"
   ]
  },
  {
   "cell_type": "code",
   "execution_count": 11,
   "metadata": {},
   "outputs": [
    {
     "data": {
      "text/plain": [
       "defined \u001b[32mfunction\u001b[39m \u001b[36malignmentsForPassage\u001b[39m"
      ]
     },
     "execution_count": 11,
     "metadata": {},
     "output_type": "execute_result"
    }
   ],
   "source": [
    "def alignmentsForPassage( psg: CtsUrn ): Vector[Cite2Urn] = {\n",
    "    \n",
    "    val crs: CiteRelationSet = lib.relationSet.get.verb(alignVerb) // assumption the Option is not None!\n",
    "    // The \"psg\" might be a range or a container, so expand it\n",
    "    val allPsgs: Vector[CtsUrn] = corp.validReff(psg) :+ psg distinct\n",
    "    \n",
    "    val allRelations: Set[CiteTriple] = crs.relations.filter( t => {\n",
    "        allPsgs.contains( t.urn2.asInstanceOf[CtsUrn])\n",
    "    })\n",
    "    \n",
    "    allRelations.map(_.urn1.asInstanceOf[Cite2Urn]).toVector.distinct\n",
    "}"
   ]
  },
  {
   "cell_type": "markdown",
   "metadata": {},
   "source": [
    "Test:"
   ]
  },
  {
   "cell_type": "code",
   "execution_count": 12,
   "metadata": {},
   "outputs": [
    {
     "data": {
      "text/plain": [
       "\u001b[36mtestPsgU\u001b[39m: \u001b[32mCtsUrn\u001b[39m = \u001b[33mCtsUrn\u001b[39m(\u001b[32m\"urn:cts:latinLit:phi0472.phi001.merrill.token:1.4.1\"\u001b[39m)\n",
       "\u001b[36mtestAlignments\u001b[39m: \u001b[32mVector\u001b[39m[\u001b[32mCite2Urn\u001b[39m] = \u001b[33mVector\u001b[39m(\n",
       "  \u001b[33mCite2Urn\u001b[39m(\u001b[32m\"urn:cite2:ducat:alignments.temp:20191010_16_18_248_13\"\u001b[39m),\n",
       "  \u001b[33mCite2Urn\u001b[39m(\u001b[32m\"urn:cite2:ducat:alignments.temp:20191012_31_11_675_0\"\u001b[39m)\n",
       ")"
      ]
     },
     "execution_count": 12,
     "metadata": {},
     "output_type": "execute_result"
    }
   ],
   "source": [
    "val testPsgU = CtsUrn(\"urn:cts:latinLit:phi0472.phi001.merrill.token:1.4.1\")\n",
    "val testAlignments: Vector[Cite2Urn] = alignmentsForPassage( testPsgU )\n",
    "assert ( testAlignments.size == 2 )\n",
    "assert ( testAlignments.contains( Cite2Urn(\"urn:cite2:ducat:alignments.temp:20191012_31_11_675_0\") ))"
   ]
  },
  {
   "cell_type": "markdown",
   "metadata": {},
   "source": [
    "### `passagesForAlignment(  alignment: Cite2Urn  ): Vector[CtsUrn]`"
   ]
  },
  {
   "cell_type": "code",
   "execution_count": 13,
   "metadata": {},
   "outputs": [
    {
     "data": {
      "text/plain": [
       "defined \u001b[32mfunction\u001b[39m \u001b[36mpassagesForAlignment\u001b[39m\n",
       "defined \u001b[32mfunction\u001b[39m \u001b[36mpassagesForAlignment\u001b[39m"
      ]
     },
     "execution_count": 13,
     "metadata": {},
     "output_type": "execute_result"
    }
   ],
   "source": [
    "def passagesForAlignment(  alignment: Cite2Urn  ): Vector[CtsUrn] = {\n",
    "    val crs: CiteRelationSet = lib.relationSet.get.verb(alignVerb) // assumption the Option is not None!\n",
    "    val rels: CiteRelationSet = crs.urn1Match(alignment)\n",
    "    val unsortedUrns: Vector[CtsUrn] = rels.relations.map( r => {\n",
    "        r.urn2.asInstanceOf[CtsUrn]\n",
    "    }).toVector\n",
    "    corp.sortPassages(unsortedUrns)\n",
    "}\n",
    "\n",
    "def passagesForAlignment( alignments: Vector[Cite2Urn] ): Vector[CtsUrn] = {\n",
    "    val psgs: Vector[CtsUrn] = alignments.map( a => {\n",
    "        passagesForAlignment( a )\n",
    "    }).flatten\n",
    "    corp.sortPassages(psgs)\n",
    "}"
   ]
  },
  {
   "cell_type": "markdown",
   "metadata": {},
   "source": [
    "Test:"
   ]
  },
  {
   "cell_type": "code",
   "execution_count": 14,
   "metadata": {},
   "outputs": [
    {
     "data": {
      "text/plain": [
       "\u001b[36mtestPassages\u001b[39m: \u001b[32mVector\u001b[39m[\u001b[32mCtsUrn\u001b[39m] = \u001b[33mVector\u001b[39m(\n",
       "  \u001b[33mCtsUrn\u001b[39m(\u001b[32m\"urn:cts:latinLit:phi0472.phi001.merrill.token:1.4.1\"\u001b[39m),\n",
       "  \u001b[33mCtsUrn\u001b[39m(\u001b[32m\"urn:cts:latinLit:phi0472.phi001.ozlam.token:1.4.3\"\u001b[39m)\n",
       ")"
      ]
     },
     "execution_count": 14,
     "metadata": {},
     "output_type": "execute_result"
    }
   ],
   "source": [
    "val testPassages: Vector[CtsUrn] = passagesForAlignment( testAlignments.head )\n",
    "assert( testPassages.size == 2 )\n"
   ]
  },
  {
   "cell_type": "markdown",
   "metadata": {},
   "source": [
    "### `textsForAlignment( alignment: Cite2Urn): Vector[Corpus]`"
   ]
  },
  {
   "cell_type": "code",
   "execution_count": 15,
   "metadata": {},
   "outputs": [
    {
     "data": {
      "text/plain": [
       "defined \u001b[32mfunction\u001b[39m \u001b[36mtextsForAlignment\u001b[39m\n",
       "defined \u001b[32mfunction\u001b[39m \u001b[36mtextsForAlignment\u001b[39m"
      ]
     },
     "execution_count": 15,
     "metadata": {},
     "output_type": "execute_result"
    }
   ],
   "source": [
    "def textsForAlignment( alignment: Cite2Urn): Vector[Corpus] = {\n",
    "    val psgs: Vector[CtsUrn] = passagesForAlignment( alignment )\n",
    "    (corp ~~ psgs).chunkByText\n",
    "}\n",
    "\n",
    "def textsForAlignment( alignments: Vector[Cite2Urn] ): Vector[Corpus] = {\n",
    "    val psgs: Vector[CtsUrn] = alignments.map( a => {\n",
    "        passagesForAlignment(a)\n",
    "    }).flatten\n",
    "    (corp ~~ psgs).chunkByText\n",
    "}"
   ]
  },
  {
   "cell_type": "markdown",
   "metadata": {},
   "source": [
    "Test:"
   ]
  },
  {
   "cell_type": "code",
   "execution_count": 16,
   "metadata": {},
   "outputs": [
    {
     "name": "stdout",
     "output_type": "stream",
     "text": [
      "---------\n",
      "urn:cts:latinLit:phi0472.phi001.merrill.token:\n",
      "\n",
      "1.4.1\t\tesse \n",
      "\n",
      "---------\n",
      "urn:cts:latinLit:phi0472.phi001.ozlam.token:\n",
      "\n",
      "1.4.3\t\twere \n",
      "\n"
     ]
    },
    {
     "data": {
      "text/plain": [
       "\u001b[36mtestTexts\u001b[39m: \u001b[32mVector\u001b[39m[\u001b[32mCorpus\u001b[39m] = \u001b[33mVector\u001b[39m(\n",
       "  \u001b[33mCorpus\u001b[39m(\n",
       "    \u001b[33mVector\u001b[39m(\n",
       "      \u001b[33mCitableNode\u001b[39m(\n",
       "        \u001b[33mCtsUrn\u001b[39m(\u001b[32m\"urn:cts:latinLit:phi0472.phi001.merrill.token:1.4.1\"\u001b[39m),\n",
       "        \u001b[32m\"esse \"\u001b[39m\n",
       "      )\n",
       "    )\n",
       "  ),\n",
       "  \u001b[33mCorpus\u001b[39m(\n",
       "    \u001b[33mVector\u001b[39m(\n",
       "      \u001b[33mCitableNode\u001b[39m(\n",
       "        \u001b[33mCtsUrn\u001b[39m(\u001b[32m\"urn:cts:latinLit:phi0472.phi001.ozlam.token:1.4.3\"\u001b[39m),\n",
       "        \u001b[32m\"were \"\u001b[39m\n",
       "      )\n",
       "    )\n",
       "  )\n",
       ")"
      ]
     },
     "execution_count": 16,
     "metadata": {},
     "output_type": "execute_result"
    }
   ],
   "source": [
    "val testTexts: Vector[Corpus] = textsForAlignment( testAlignments.head )\n",
    "assert( testTexts.size == 2 )\n",
    "showMe(testTexts)"
   ]
  },
  {
   "cell_type": "markdown",
   "metadata": {},
   "source": [
    "### `alignedTexts( psg: CtsUrn ): Vector[Corpus]`"
   ]
  },
  {
   "cell_type": "code",
   "execution_count": 17,
   "metadata": {},
   "outputs": [
    {
     "data": {
      "text/plain": [
       "defined \u001b[32mfunction\u001b[39m \u001b[36malignedTexts\u001b[39m\n",
       "defined \u001b[32mfunction\u001b[39m \u001b[36malignedTexts\u001b[39m"
      ]
     },
     "execution_count": 17,
     "metadata": {},
     "output_type": "execute_result"
    }
   ],
   "source": [
    "def alignedTexts( psg: CtsUrn ): Vector[Corpus] = {\n",
    "    val alignments: Vector[Cite2Urn] = alignmentsForPassage(psg)\n",
    "    val texts: Vector[Corpus] = textsForAlignment( alignments )\n",
    "    texts\n",
    "}\n",
    "\n",
    "def alignedTexts( psgs: Vector[CtsUrn] ): Vector[Corpus] = {\n",
    "    \n",
    "    val alignments: Vector[Cite2Urn] = psgs.map ( p => {\n",
    "        alignmentsForPassage(p)\n",
    "    }).flatten\n",
    "    val texts: Vector[Corpus] = textsForAlignment( alignments )\n",
    "    texts\n",
    "}"
   ]
  },
  {
   "cell_type": "markdown",
   "metadata": {},
   "source": [
    "Test:"
   ]
  },
  {
   "cell_type": "code",
   "execution_count": 18,
   "metadata": {},
   "outputs": [
    {
     "name": "stdout",
     "output_type": "stream",
     "text": [
      "---------\n",
      "urn:cts:latinLit:phi0472.phi001.merrill.token:\n",
      "\n",
      "1.4.1\t\tesse \n",
      "\n",
      "---------\n",
      "urn:cts:latinLit:phi0472.phi001.ozlam.token:\n",
      "\n",
      "1.4.3\t\twere \n",
      "\n"
     ]
    },
    {
     "data": {
      "text/plain": [
       "\u001b[36mtestAlignedTexts1\u001b[39m: \u001b[32mVector\u001b[39m[\u001b[32mCorpus\u001b[39m] = \u001b[33mVector\u001b[39m(\n",
       "  \u001b[33mCorpus\u001b[39m(\n",
       "    \u001b[33mVector\u001b[39m(\n",
       "      \u001b[33mCitableNode\u001b[39m(\n",
       "        \u001b[33mCtsUrn\u001b[39m(\u001b[32m\"urn:cts:latinLit:phi0472.phi001.merrill.token:1.4.1\"\u001b[39m),\n",
       "        \u001b[32m\"esse \"\u001b[39m\n",
       "      )\n",
       "    )\n",
       "  ),\n",
       "  \u001b[33mCorpus\u001b[39m(\n",
       "    \u001b[33mVector\u001b[39m(\n",
       "      \u001b[33mCitableNode\u001b[39m(\n",
       "        \u001b[33mCtsUrn\u001b[39m(\u001b[32m\"urn:cts:latinLit:phi0472.phi001.ozlam.token:1.4.3\"\u001b[39m),\n",
       "        \u001b[32m\"were \"\u001b[39m\n",
       "      )\n",
       "    )\n",
       "  )\n",
       ")"
      ]
     },
     "execution_count": 18,
     "metadata": {},
     "output_type": "execute_result"
    }
   ],
   "source": [
    "val testAlignedTexts1: Vector[Corpus] = alignedTexts(testPsgU)\n",
    "assert( testAlignedTexts1.size == 2 )\n",
    "showMe(testAlignedTexts1)"
   ]
  },
  {
   "cell_type": "markdown",
   "metadata": {},
   "source": [
    "### `alignmentsForString( s: String, tokenMatch: Boolean = true ): Vector[Corpus]`"
   ]
  },
  {
   "cell_type": "code",
   "execution_count": 37,
   "metadata": {},
   "outputs": [
    {
     "data": {
      "text/plain": [
       "defined \u001b[32mfunction\u001b[39m \u001b[36malignmentsForString\u001b[39m"
      ]
     },
     "execution_count": 37,
     "metadata": {},
     "output_type": "execute_result"
    }
   ],
   "source": [
    "def alignmentsForString( s: String, tokenMatch: Boolean = true ): Vector[Cite2Urn] = {\n",
    "    val strCorpus: Corpus = {\n",
    "        if (tokenMatch) {\n",
    "            val nodes: Vector[CitableNode] = corp.nodes.filter( _.text.trim == s.trim)\n",
    "            Corpus(nodes)\n",
    "        } else {\n",
    "            corp.find(s)\n",
    "        }\n",
    "    }\n",
    "    \n",
    "    val strUrns: Vector[CtsUrn] = strCorpus.urns\n",
    "    \n",
    "    val crs: CiteRelationSet = {\n",
    "      val allCrs =  lib.relationSet.get.verb(alignVerb) // assumption the Option is not None!\n",
    "    \n",
    "      val foundSet = allCrs.relations.filter( u2 => {\n",
    "          strCorpus.urns.contains(u2.urn2.asInstanceOf[CtsUrn])\n",
    "      }).toSet\n",
    "      CiteRelationSet(foundSet)\n",
    "    }\n",
    "    val foundAlignments: Vector[Cite2Urn] = crs.relations.map( a => {\n",
    "        a.urn1.asInstanceOf[Cite2Urn]\n",
    "    }).toVector.distinct  \n",
    "    foundAlignments\n",
    "}"
   ]
  },
  {
   "cell_type": "markdown",
   "metadata": {},
   "source": [
    "Test:"
   ]
  },
  {
   "cell_type": "code",
   "execution_count": 38,
   "metadata": {},
   "outputs": [
    {
     "name": "stdout",
     "output_type": "stream",
     "text": [
      "urn:cite2:ducat:alignments.temp:20191012_31_11_675_16\n",
      "urn:cite2:ducat:alignments.temp:20191012_31_11_675_23\n",
      "urn:cite2:ducat:alignments.temp:20191012_31_11_675_17\n",
      "urn:cite2:ducat:alignments.temp:20191010_16_18_248_6\n",
      "urn:cite2:ducat:alignments.temp:20191010_16_18_248_9\n",
      "urn:cite2:ducat:alignments.temp:20191010_16_18_248_37\n",
      "urn:cite2:ducat:alignments.temp:20191012_31_11_675_36\n",
      "urn:cite2:ducat:alignments.temp:20191010_16_18_248_18\n"
     ]
    },
    {
     "data": {
      "text/plain": [
       "\u001b[36mtestString\u001b[39m: \u001b[32mString\u001b[39m = \u001b[32m\"you\"\u001b[39m\n",
       "\u001b[36mtestStringAlignments\u001b[39m: \u001b[32mVector\u001b[39m[\u001b[32mCite2Urn\u001b[39m] = \u001b[33mVector\u001b[39m(\n",
       "  \u001b[33mCite2Urn\u001b[39m(\u001b[32m\"urn:cite2:ducat:alignments.temp:20191012_31_11_675_16\"\u001b[39m),\n",
       "  \u001b[33mCite2Urn\u001b[39m(\u001b[32m\"urn:cite2:ducat:alignments.temp:20191012_31_11_675_23\"\u001b[39m),\n",
       "  \u001b[33mCite2Urn\u001b[39m(\u001b[32m\"urn:cite2:ducat:alignments.temp:20191012_31_11_675_17\"\u001b[39m),\n",
       "  \u001b[33mCite2Urn\u001b[39m(\u001b[32m\"urn:cite2:ducat:alignments.temp:20191010_16_18_248_6\"\u001b[39m),\n",
       "  \u001b[33mCite2Urn\u001b[39m(\u001b[32m\"urn:cite2:ducat:alignments.temp:20191010_16_18_248_9\"\u001b[39m),\n",
       "  \u001b[33mCite2Urn\u001b[39m(\u001b[32m\"urn:cite2:ducat:alignments.temp:20191010_16_18_248_37\"\u001b[39m),\n",
       "  \u001b[33mCite2Urn\u001b[39m(\u001b[32m\"urn:cite2:ducat:alignments.temp:20191012_31_11_675_36\"\u001b[39m),\n",
       "  \u001b[33mCite2Urn\u001b[39m(\u001b[32m\"urn:cite2:ducat:alignments.temp:20191010_16_18_248_18\"\u001b[39m)\n",
       ")"
      ]
     },
     "execution_count": 38,
     "metadata": {},
     "output_type": "execute_result"
    }
   ],
   "source": [
    "val testString = \"you\"\n",
    "val testStringAlignments: Vector[Cite2Urn] = alignmentsForString(testString)\n",
    "showMe(testStringAlignments)"
   ]
  },
  {
   "cell_type": "markdown",
   "metadata": {},
   "source": [
    "# Playground"
   ]
  },
  {
   "cell_type": "markdown",
   "metadata": {},
   "source": [
    "## Catullus-Specific Things"
   ]
  },
  {
   "cell_type": "markdown",
   "metadata": {},
   "source": [
    "Make URN work easier:"
   ]
  },
  {
   "cell_type": "code",
   "execution_count": 39,
   "metadata": {},
   "outputs": [
    {
     "data": {
      "text/plain": [
       "\u001b[36mcatullusUrn\u001b[39m: \u001b[32mCtsUrn\u001b[39m = \u001b[33mCtsUrn\u001b[39m(\u001b[32m\"urn:cts:latinLit:phi0472.phi001:\"\u001b[39m)\n",
       "\u001b[36mlatUrn\u001b[39m: \u001b[32mCtsUrn\u001b[39m = \u001b[33mCtsUrn\u001b[39m(\u001b[32m\"urn:cts:latinLit:phi0472.phi001.merrill:\"\u001b[39m)\n",
       "\u001b[36mengUrn\u001b[39m: \u001b[32mCtsUrn\u001b[39m = \u001b[33mCtsUrn\u001b[39m(\u001b[32m\"urn:cts:latinLit:phi0472.phi001.ozlam:\"\u001b[39m)"
      ]
     },
     "execution_count": 39,
     "metadata": {},
     "output_type": "execute_result"
    }
   ],
   "source": [
    "val catullusUrn = CtsUrn(\"urn:cts:latinLit:phi0472.phi001:\")\n",
    "val latUrn = CtsUrn(\"urn:cts:latinLit:phi0472.phi001.merrill:\")\n",
    "val engUrn = CtsUrn(\"urn:cts:latinLit:phi0472.phi001.ozlam:\")\n"
   ]
  },
  {
   "cell_type": "markdown",
   "metadata": {},
   "source": [
    "## See Alignments for a Passage"
   ]
  },
  {
   "cell_type": "markdown",
   "metadata": {},
   "source": [
    "**Edit This!** A passage of Catullus 1:"
   ]
  },
  {
   "cell_type": "code",
   "execution_count": 40,
   "metadata": {},
   "outputs": [
    {
     "data": {
      "text/plain": [
       "\u001b[36mmyPassage\u001b[39m: \u001b[32mString\u001b[39m = \u001b[32m\"1.1\"\u001b[39m"
      ]
     },
     "execution_count": 40,
     "metadata": {},
     "output_type": "execute_result"
    }
   ],
   "source": [
    "val myPassage = \"1.1\""
   ]
  },
  {
   "cell_type": "markdown",
   "metadata": {},
   "source": [
    "**See Alignments!**"
   ]
  },
  {
   "cell_type": "code",
   "execution_count": 41,
   "metadata": {},
   "outputs": [
    {
     "name": "stdout",
     "output_type": "stream",
     "text": [
      "---------\n",
      "urn:cts:latinLit:phi0472.phi001.merrill.token:\n",
      "\n",
      "1.1.3\t\tnovum \n",
      "1.1.4\t\tlibellum\n",
      "1.1.1\t\tdono \n",
      "1.1.0\t\tCui \n",
      "1.1.2\t\tlepidum \n",
      "\n",
      "---------\n",
      "urn:cts:latinLit:phi0472.phi001.ozlam.token:\n",
      "\n",
      "1.1.5\t\tthis \n",
      "1.1.6\t\tcharming \n",
      "1.1.7\t\tslim \n",
      "1.1.8\t\tvolume,\n",
      "1.1.2\t\tdo \n",
      "1.1.3\t\tI \n",
      "1.1.4\t\tdedicate \n",
      "1.1.0\t\tTo \n",
      "1.1.1\t\twhom \n",
      "\n"
     ]
    },
    {
     "data": {
      "text/plain": [
       "\u001b[36mmyAlignedTexts\u001b[39m: \u001b[32mVector\u001b[39m[\u001b[32mCorpus\u001b[39m] = \u001b[33mVector\u001b[39m(\n",
       "  \u001b[33mCorpus\u001b[39m(\n",
       "    \u001b[33mVector\u001b[39m(\n",
       "      \u001b[33mCitableNode\u001b[39m(\n",
       "        \u001b[33mCtsUrn\u001b[39m(\u001b[32m\"urn:cts:latinLit:phi0472.phi001.merrill.token:1.1.3\"\u001b[39m),\n",
       "        \u001b[32m\"novum \"\u001b[39m\n",
       "      ),\n",
       "      \u001b[33mCitableNode\u001b[39m(\n",
       "        \u001b[33mCtsUrn\u001b[39m(\u001b[32m\"urn:cts:latinLit:phi0472.phi001.merrill.token:1.1.4\"\u001b[39m),\n",
       "        \u001b[32m\"libellum\"\u001b[39m\n",
       "      ),\n",
       "      \u001b[33mCitableNode\u001b[39m(\n",
       "        \u001b[33mCtsUrn\u001b[39m(\u001b[32m\"urn:cts:latinLit:phi0472.phi001.merrill.token:1.1.1\"\u001b[39m),\n",
       "        \u001b[32m\"dono \"\u001b[39m\n",
       "      ),\n",
       "      \u001b[33mCitableNode\u001b[39m(\n",
       "        \u001b[33mCtsUrn\u001b[39m(\u001b[32m\"urn:cts:latinLit:phi0472.phi001.merrill.token:1.1.0\"\u001b[39m),\n",
       "        \u001b[32m\"Cui \"\u001b[39m\n",
       "      ),\n",
       "      \u001b[33mCitableNode\u001b[39m(\n",
       "        \u001b[33mCtsUrn\u001b[39m(\u001b[32m\"urn:cts:latinLit:phi0472.phi001.merrill.token:1.1.2\"\u001b[39m),\n",
       "        \u001b[32m\"lepidum \"\u001b[39m\n",
       "      )\n",
       "    )\n",
       "  ),\n",
       "  \u001b[33mCorpus\u001b[39m(\n",
       "    \u001b[33mVector\u001b[39m(\n",
       "      \u001b[33mCitableNode\u001b[39m(\n",
       "        \u001b[33mCtsUrn\u001b[39m(\u001b[32m\"urn:cts:latinLit:phi0472.phi001.ozlam.token:1.1.5\"\u001b[39m),\n",
       "        \u001b[32m\"this \"\u001b[39m\n",
       "      ),\n",
       "      \u001b[33mCitableNode\u001b[39m(\n",
       "        \u001b[33mCtsUrn\u001b[39m(\u001b[32m\"urn:cts:latinLit:phi0472.phi001.ozlam.token:1.1.6\"\u001b[39m),\n",
       "        \u001b[32m\"charming \"\u001b[39m\n",
       "      ),\n",
       "      \u001b[33mCitableNode\u001b[39m(\n",
       "        \u001b[33mCtsUrn\u001b[39m(\u001b[32m\"urn:cts:latinLit:phi0472.phi001.ozlam.token:1.1.7\"\u001b[39m),\n",
       "        \u001b[32m\"slim \"\u001b[39m\n",
       "      ),\n",
       "..."
      ]
     },
     "execution_count": 41,
     "metadata": {},
     "output_type": "execute_result"
    }
   ],
   "source": [
    "val myAlignedTexts: Vector[Corpus] = alignedTexts( catullusUrn.addPassage(myPassage))\n",
    "\n",
    "showMe(myAlignedTexts)"
   ]
  },
  {
   "cell_type": "markdown",
   "metadata": {},
   "source": [
    "**Dynamic Lexicon!** Edit your preferred word:"
   ]
  },
  {
   "cell_type": "code",
   "execution_count": 46,
   "metadata": {},
   "outputs": [
    {
     "data": {
      "text/plain": [
       "\u001b[36mmyWord\u001b[39m: \u001b[32mString\u001b[39m = \u001b[32m\"you\"\u001b[39m\n",
       "\u001b[36mtokenMatch\u001b[39m: \u001b[32mBoolean\u001b[39m = false\n",
       "\u001b[36mdynLex\u001b[39m: \u001b[32mVector\u001b[39m[\u001b[32mCite2Urn\u001b[39m] = \u001b[33mVector\u001b[39m(\n",
       "  \u001b[33mCite2Urn\u001b[39m(\u001b[32m\"urn:cite2:ducat:alignments.temp:20191012_31_11_675_16\"\u001b[39m),\n",
       "  \u001b[33mCite2Urn\u001b[39m(\u001b[32m\"urn:cite2:ducat:alignments.temp:20191012_31_11_675_23\"\u001b[39m),\n",
       "  \u001b[33mCite2Urn\u001b[39m(\u001b[32m\"urn:cite2:ducat:alignments.temp:20191012_31_11_675_38\"\u001b[39m),\n",
       "  \u001b[33mCite2Urn\u001b[39m(\u001b[32m\"urn:cite2:ducat:alignments.temp:20191012_31_11_675_17\"\u001b[39m),\n",
       "  \u001b[33mCite2Urn\u001b[39m(\u001b[32m\"urn:cite2:ducat:alignments.temp:20191010_16_18_248_6\"\u001b[39m),\n",
       "  \u001b[33mCite2Urn\u001b[39m(\u001b[32m\"urn:cite2:ducat:alignments.temp:20191010_16_18_248_9\"\u001b[39m),\n",
       "  \u001b[33mCite2Urn\u001b[39m(\u001b[32m\"urn:cite2:ducat:alignments.temp:20191010_16_18_248_37\"\u001b[39m),\n",
       "  \u001b[33mCite2Urn\u001b[39m(\u001b[32m\"urn:cite2:ducat:alignments.temp:20191012_31_11_675_36\"\u001b[39m),\n",
       "  \u001b[33mCite2Urn\u001b[39m(\u001b[32m\"urn:cite2:ducat:alignments.temp:20191010_16_18_248_18\"\u001b[39m),\n",
       "  \u001b[33mCite2Urn\u001b[39m(\u001b[32m\"urn:cite2:ducat:alignments.temp:20191010_16_18_248_31\"\u001b[39m)\n",
       ")"
      ]
     },
     "execution_count": 46,
     "metadata": {},
     "output_type": "execute_result"
    }
   ],
   "source": [
    "val myWord = \"you\"\n",
    "val tokenMatch = false\n",
    "val dynLex: Vector[Cite2Urn] = alignmentsForString( myWord, tokenMatch )"
   ]
  },
  {
   "cell_type": "markdown",
   "metadata": {},
   "source": [
    "Show the results:"
   ]
  },
  {
   "cell_type": "code",
   "execution_count": 47,
   "metadata": {},
   "outputs": [
    {
     "name": "stdout",
     "output_type": "stream",
     "text": [
      "==========\n",
      "Alignment\n",
      "\n",
      "urn:cite2:ducat:alignments.temp:20191012_31_11_675_16\n",
      "---------\n",
      "urn:cts:latinLit:phi0472.phi001.merrill.token:\n",
      "\n",
      "1.3.1\t\ttibi;\n",
      "\n",
      "---------\n",
      "urn:cts:latinLit:phi0472.phi001.ozlam.token:\n",
      "\n",
      "1.3.0\t\tFor \n",
      "1.3.1\t\tyou \n",
      "\n",
      "==========\n",
      "Alignment\n",
      "\n",
      "urn:cite2:ducat:alignments.temp:20191012_31_11_675_23\n",
      "---------\n",
      "urn:cts:latinLit:phi0472.phi001.merrill.token:\n",
      "\n",
      "1.9.0\t\tqualecumque, \n",
      "\n",
      "---------\n",
      "urn:cts:latinLit:phi0472.phi001.ozlam.token:\n",
      "\n",
      "1.9.0\t\tand \n",
      "1.9.1\t\twhatever \n",
      "1.9.2\t\tyou \n",
      "1.9.3\t\tlike, \n",
      "\n",
      "==========\n",
      "Alignment\n",
      "\n",
      "urn:cite2:ducat:alignments.temp:20191012_31_11_675_38\n",
      "---------\n",
      "urn:cts:latinLit:phi0472.phi001.merrill.token:\n",
      "\n",
      "1.8.2\t\ttibi \n",
      "\n",
      "---------\n",
      "urn:cts:latinLit:phi0472.phi001.ozlam.token:\n",
      "\n",
      "1.8.4\t\tfor \n",
      "1.8.5\t\tyourself \n",
      "\n",
      "==========\n",
      "Alignment\n",
      "\n",
      "urn:cite2:ducat:alignments.temp:20191012_31_11_675_17\n",
      "---------\n",
      "urn:cts:latinLit:phi0472.phi001.merrill.token:\n",
      "\n",
      "1.3.4\t\ttu \n",
      "\n",
      "---------\n",
      "urn:cts:latinLit:phi0472.phi001.ozlam.token:\n",
      "\n",
      "1.3.4\t\tyou \n",
      "\n",
      "==========\n",
      "Alignment\n",
      "\n",
      "urn:cite2:ducat:alignments.temp:20191010_16_18_248_6\n",
      "---------\n",
      "urn:cts:latinLit:phi0472.phi001.merrill.token:\n",
      "\n",
      "1.3.1\t\ttibi;\n",
      "\n",
      "---------\n",
      "urn:cts:latinLit:phi0472.phi001.ozlam.token:\n",
      "\n",
      "1.3.0\t\tFor \n",
      "1.3.1\t\tyou \n",
      "\n",
      "==========\n",
      "Alignment\n",
      "\n",
      "urn:cite2:ducat:alignments.temp:20191010_16_18_248_9\n",
      "---------\n",
      "urn:cts:latinLit:phi0472.phi001.merrill.token:\n",
      "\n",
      "1.3.4\t\ttu \n",
      "\n",
      "---------\n",
      "urn:cts:latinLit:phi0472.phi001.ozlam.token:\n",
      "\n",
      "1.3.4\t\tyou \n",
      "\n",
      "==========\n",
      "Alignment\n",
      "\n",
      "urn:cite2:ducat:alignments.temp:20191010_16_18_248_37\n",
      "---------\n",
      "urn:cts:latinLit:phi0472.phi001.merrill.token:\n",
      "\n",
      "1.9.0\t\tqualecumque, \n",
      "\n",
      "---------\n",
      "urn:cts:latinLit:phi0472.phi001.ozlam.token:\n",
      "\n",
      "1.9.0\t\tand \n",
      "1.9.1\t\twhatever \n",
      "1.9.2\t\tyou \n",
      "1.9.3\t\tlike, \n",
      "\n",
      "==========\n",
      "Alignment\n",
      "\n",
      "urn:cite2:ducat:alignments.temp:20191012_31_11_675_36\n",
      "---------\n",
      "urn:cts:latinLit:phi0472.phi001.merrill.token:\n",
      "\n",
      "1.5.3\t\tausus \n",
      "1.5.4\t\tes \n",
      "\n",
      "---------\n",
      "urn:cts:latinLit:phi0472.phi001.ozlam.token:\n",
      "\n",
      "1.5.6\t\tyou \n",
      "1.6.0\t\tdared \n",
      "\n",
      "==========\n",
      "Alignment\n",
      "\n",
      "urn:cite2:ducat:alignments.temp:20191010_16_18_248_18\n",
      "---------\n",
      "urn:cts:latinLit:phi0472.phi001.merrill.token:\n",
      "\n",
      "1.5.3\t\tausus \n",
      "1.5.4\t\tes \n",
      "\n",
      "---------\n",
      "urn:cts:latinLit:phi0472.phi001.ozlam.token:\n",
      "\n",
      "1.5.6\t\tyou \n",
      "1.6.0\t\tdared \n",
      "\n",
      "==========\n",
      "Alignment\n",
      "\n",
      "urn:cite2:ducat:alignments.temp:20191010_16_18_248_31\n",
      "---------\n",
      "urn:cts:latinLit:phi0472.phi001.merrill.token:\n",
      "\n",
      "1.8.2\t\ttibi \n",
      "\n",
      "---------\n",
      "urn:cts:latinLit:phi0472.phi001.ozlam.token:\n",
      "\n",
      "1.8.4\t\tfor \n",
      "1.8.5\t\tyourself \n",
      "\n"
     ]
    }
   ],
   "source": [
    "for ( dl <- dynLex) {\n",
    "    println(s\"==========\\nAlignment\\n\")\n",
    "    println(s\"${dl}\")\n",
    "    val texts: Vector[Corpus] = textsForAlignment(dl)\n",
    "    showMe(texts)\n",
    "}"
   ]
  },
  {
   "cell_type": "code",
   "execution_count": null,
   "metadata": {},
   "outputs": [],
   "source": []
  },
  {
   "cell_type": "code",
   "execution_count": null,
   "metadata": {
    "collapsed": true
   },
   "outputs": [],
   "source": []
  }
 ],
 "metadata": {
  "kernel_info": {
   "name": "scala"
  },
  "kernelspec": {
   "display_name": "Scala",
   "language": "scala",
   "name": "scala"
  },
  "language_info": {
   "codemirror_mode": "text/x-scala",
   "file_extension": ".scala",
   "mimetype": "text/x-scala",
   "name": "scala",
   "nbconvert_exporter": "script",
   "version": "2.12.10"
  },
  "nteract": {
   "version": "0.15.0"
  }
 },
 "nbformat": 4,
 "nbformat_minor": 2
}
