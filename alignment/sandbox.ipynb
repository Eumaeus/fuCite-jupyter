{
 "cells": [
  {
   "cell_type": "markdown",
   "metadata": {},
   "source": [
    "# Working with Alignments in CITE 1"
   ]
  },
  {
   "cell_type": "markdown",
   "metadata": {},
   "source": [
    "## Configuring CITE libraries for almond kernel\n",
    "\n",
    "First, we'll make a bintray repository with CITE libraries available to your almond kernel."
   ]
  },
  {
   "cell_type": "code",
   "execution_count": null,
   "metadata": {},
   "outputs": [],
   "source": [
    "val myBT = coursierapi.MavenRepository.of(\"https://dl.bintray.com/neelsmith/maven\")\n",
    "interp.repositories() ++= Seq(myBT)"
   ]
  },
  {
   "cell_type": "markdown",
   "metadata": {},
   "source": [
    "Next, we bring in specific libraries from the new repository using almond's `$ivy` magic:"
   ]
  },
  {
   "cell_type": "code",
   "execution_count": null,
   "metadata": {},
   "outputs": [],
   "source": [
    "import $ivy.`edu.holycross.shot::ohco2:10.16.0`\n",
    "import $ivy.`edu.holycross.shot.cite::xcite:4.1.1`\n",
    "import $ivy.`edu.holycross.shot::scm:7.2.0`\n",
    "import $ivy.`edu.holycross.shot::dse:5.2.2`\n",
    "import $ivy.`edu.holycross.shot::citebinaryimage:3.1.1`\n",
    "import $ivy.`edu.holycross.shot::citeobj:7.3.4`\n",
    "import $ivy.`edu.holycross.shot::citerelations:2.5.2`\n",
    "import $ivy.`edu.holycross.shot::cex:6.3.3`\n",
    "import $ivy.`edu.holycross.shot::greek:2.3.3`\n"
   ]
  },
  {
   "cell_type": "markdown",
   "metadata": {},
   "source": [
    "## Imports\n",
    "\n",
    "From this point on, your notebook consists of completely generic Scala, with the CITE Libraries available to use."
   ]
  },
  {
   "cell_type": "code",
   "execution_count": null,
   "metadata": {},
   "outputs": [],
   "source": [
    "// Import some CITE libraries\n",
    "import edu.holycross.shot.cite._\n",
    "import edu.holycross.shot.ohco2._\n",
    "import edu.holycross.shot.scm._\n",
    "import edu.holycross.shot.citeobj._\n",
    "import edu.holycross.shot.citerelation._\n",
    "import edu.holycross.shot.dse._\n",
    "import edu.holycross.shot.citebinaryimage._\n",
    "import edu.holycross.shot.ohco2._\n",
    "import edu.holycross.shot.greek._\n",
    "\n",
    "import almond.display.UpdatableDisplay\n",
    "import almond.interpreter.api.DisplayData.ContentType\n",
    "import almond.interpreter.api.{DisplayData, OutputHandler}\n",
    "\n",
    "import java.io.File\n",
    "import java.io.PrintWriter\n",
    "\n",
    "import scala.io.Source\n"
   ]
  },
  {
   "cell_type": "markdown",
   "metadata": {},
   "source": [
    "## Useful Functions"
   ]
  },
  {
   "cell_type": "markdown",
   "metadata": {},
   "source": [
    "Save a string:"
   ]
  },
  {
   "cell_type": "code",
   "execution_count": null,
   "metadata": {},
   "outputs": [],
   "source": [
    "def saveString(s:String, filePath:String = \"\", fileName:String = \"temp.txt\"):Unit = {\n",
    "\t\t val writer = new PrintWriter(new File(s\"${filePath}${fileName}\"))\n",
    "         writer.write(s)\n",
    "         writer.close()\n",
    "\t}"
   ]
  },
  {
   "cell_type": "markdown",
   "metadata": {},
   "source": [
    "Pretty Print many things:"
   ]
  },
  {
   "cell_type": "code",
   "execution_count": null,
   "metadata": {},
   "outputs": [],
   "source": [
    "def showMe(v:Any):Unit = {\n",
    "  v match {\n",
    "    case _:StringHistogram => {\n",
    "        for ( h <- v.asInstanceOf[StringHistogram].histogram ) {\n",
    "            println(s\"${h.count}\\t${h.s}\")\n",
    "        }\n",
    "    }\n",
    "  \tcase _:Corpus => {\n",
    "  \t\tfor ( n <- v.asInstanceOf[Corpus].nodes) {\n",
    "  \t\t\tprintln(s\"${n.urn.passageComponent}\\t\\t${n.text}\")\n",
    "  \t\t}\t\n",
    "  \t}\n",
    "      case _:Vector[Corpus] => {\n",
    "          for ( c <- v.asInstanceOf[Vector[Corpus]]) {\n",
    "              println(\"---------\\nCORPUS\")\n",
    "              println( s\"${c.nodes.head.urn.dropPassage}\")\n",
    "              println(\"\")\n",
    "              showMe(c)\n",
    "              println(\"\")\n",
    "          }\n",
    "      }\n",
    "    case _:Vector[Any] => println(s\"\"\"\\n----\\n${v.asInstanceOf[Vector[Any]].mkString(\"\\n\")}\\n----\\n\"\"\")\n",
    "    case _:Iterable[Any] => println(s\"\"\"\\n----\\n${v.asInstanceOf[Iterable[Any]].mkString(\"\\n\")}\\n----\\n\"\"\")\n",
    "    case _ => println(s\"\\n-----\\n${v}\\n----\\n\")\n",
    "  }\n",
    "}"
   ]
  },
  {
   "cell_type": "markdown",
   "metadata": {},
   "source": [
    "## Load Library"
   ]
  },
  {
   "cell_type": "markdown",
   "metadata": {},
   "source": [
    "We will load a Version-level, bilingual file, to start:"
   ]
  },
  {
   "cell_type": "code",
   "execution_count": null,
   "metadata": {},
   "outputs": [],
   "source": [
    "val cexPath = \"cex/alignments1_20.cex\"\n",
    "val lib = CiteLibrary(scala.io.Source.fromFile(cexPath).mkString)"
   ]
  },
  {
   "cell_type": "markdown",
   "metadata": {},
   "source": [
    "Get parts of the library where we can use them:"
   ]
  },
  {
   "cell_type": "code",
   "execution_count": null,
   "metadata": {},
   "outputs": [],
   "source": [
    "lazy val tr: TextRepository = lib.textRepository.get\n",
    "lazy val corp: Corpus = tr.corpus\n",
    "lazy val cat: Catalog = tr.catalog"
   ]
  },
  {
   "cell_type": "markdown",
   "metadata": {},
   "source": [
    "## Alignment-Specific Setup"
   ]
  },
  {
   "cell_type": "markdown",
   "metadata": {},
   "source": [
    "Alignment collections will be recorded as belonging to this data-model:"
   ]
  },
  {
   "cell_type": "code",
   "execution_count": null,
   "metadata": {},
   "outputs": [],
   "source": [
    "val alignModel = Cite2Urn(\"urn:cite2:cite:datamodels.v1:alignment\")"
   ]
  },
  {
   "cell_type": "markdown",
   "metadata": {},
   "source": [
    "This is the CITE Relations verb that “glues” passages to a given alignment:"
   ]
  },
  {
   "cell_type": "code",
   "execution_count": null,
   "metadata": {},
   "outputs": [],
   "source": [
    "val alignVerb = Cite2Urn(\"urn:cite2:cite:verbs.v1:aligns\")"
   ]
  },
  {
   "cell_type": "markdown",
   "metadata": {},
   "source": [
    "We can get a Vector of Alignment-collections:"
   ]
  },
  {
   "cell_type": "code",
   "execution_count": null,
   "metadata": {},
   "outputs": [],
   "source": [
    "val alignmentCollections: Vector[Cite2Urn] = lib.collectionsForModel(alignModel)"
   ]
  },
  {
   "cell_type": "markdown",
   "metadata": {},
   "source": [
    "## Aligmnment-Specific Functions"
   ]
  },
  {
   "cell_type": "markdown",
   "metadata": {},
   "source": [
    "(These functions assume values defined above. They do not do elaborate checking for necessary components of a CITE Library, for example. They are not ready to be abstracted out of this notebook!)"
   ]
  },
  {
   "cell_type": "markdown",
   "metadata": {},
   "source": [
    "### `alignmentsForPassage( psg: CtsUrn ): Vector[Cite2Urn]`"
   ]
  },
  {
   "cell_type": "code",
   "execution_count": null,
   "metadata": {},
   "outputs": [],
   "source": [
    "def alignmentsForPassage( psg: CtsUrn ): Vector[Cite2Urn] = {\n",
    "    \n",
    "    val crs: CiteRelationSet = lib.relationSet.get.verb(alignVerb) // assumption the Option is not None!\n",
    "    // The \"psg\" might be a range or a container, so expand it\n",
    "    val allPsgs: Vector[CtsUrn] = corp.validReff(psg) :+ psg distinct\n",
    "    \n",
    "    val allRelations: Set[CiteTriple] = crs.relations.filter( t => {\n",
    "        allPsgs.contains( t.urn2.asInstanceOf[CtsUrn])\n",
    "    })\n",
    "    \n",
    "    allRelations.map(_.urn1.asInstanceOf[Cite2Urn]).toVector.distinct\n",
    "}"
   ]
  },
  {
   "cell_type": "markdown",
   "metadata": {},
   "source": [
    "Test:"
   ]
  },
  {
   "cell_type": "code",
   "execution_count": null,
   "metadata": {},
   "outputs": [],
   "source": [
    "val testPsgU = CtsUrn(\"urn:cts:greekLit:tlg0557.tlg002.perseus-grc1:1.1\")\n",
    "val testAlignments: Vector[Cite2Urn] = alignmentsForPassage( testPsgU )\n",
    "assert ( testAlignments.size == 1 )\n",
    "assert ( testAlignments.head == Cite2Urn(\"urn:cite2:ducat:alignments.temp:2020117_5_19_518_0\") )"
   ]
  },
  {
   "cell_type": "markdown",
   "metadata": {},
   "source": [
    "### `passagesForAlignment(  alignment: Cite2Urn  ): Vector[CtsUrn]`"
   ]
  },
  {
   "cell_type": "code",
   "execution_count": null,
   "metadata": {},
   "outputs": [],
   "source": [
    "def passagesForAlignment(  alignment: Cite2Urn  ): Vector[CtsUrn] = {\n",
    "    val crs: CiteRelationSet = lib.relationSet.get.verb(alignVerb) // assumption the Option is not None!\n",
    "    val rels: CiteRelationSet = crs.urn1Match(alignment)\n",
    "    val unsortedUrns: Vector[CtsUrn] = rels.relations.map( r => {\n",
    "        r.urn2.asInstanceOf[CtsUrn]\n",
    "    }).toVector\n",
    "    corp.sortPassages(unsortedUrns)\n",
    "}\n",
    "\n",
    "def passagesForAlignment( alignments: Vector[Cite2Urn] ): Vector[CtsUrn] = {\n",
    "    val psgs: Vector[CtsUrn] = alignments.map( a => {\n",
    "        passagesForAlignment( a )\n",
    "    }).flatten\n",
    "    corp.sortPassages(psgs)\n",
    "}"
   ]
  },
  {
   "cell_type": "markdown",
   "metadata": {},
   "source": [
    "Test:"
   ]
  },
  {
   "cell_type": "code",
   "execution_count": null,
   "metadata": {},
   "outputs": [],
   "source": [
    "val testPassages: Vector[CtsUrn] = passagesForAlignment( testAlignments.head )\n",
    "assert( testPassages.size == 4 )\n"
   ]
  },
  {
   "cell_type": "markdown",
   "metadata": {},
   "source": [
    "### `textsForAlignment( alignment: Cite2Urn): Vector[Corpus]`"
   ]
  },
  {
   "cell_type": "code",
   "execution_count": null,
   "metadata": {},
   "outputs": [],
   "source": [
    "def textsForAlignment( alignment: Cite2Urn): Vector[Corpus] = {\n",
    "    val psgs: Vector[CtsUrn] = passagesForAlignment( alignment )\n",
    "    (corp ~~ psgs).chunkByText\n",
    "}\n",
    "\n",
    "def textsForAlignment( alignments: Vector[Cite2Urn] ): Vector[Corpus] = {\n",
    "    val psgs: Vector[CtsUrn] = alignments.map( a => {\n",
    "        passagesForAlignment(a)\n",
    "    }).flatten\n",
    "    (corp ~~ psgs).chunkByText\n",
    "}"
   ]
  },
  {
   "cell_type": "markdown",
   "metadata": {},
   "source": [
    "Test:"
   ]
  },
  {
   "cell_type": "code",
   "execution_count": null,
   "metadata": {},
   "outputs": [],
   "source": [
    "val testTexts: Vector[Corpus] = textsForAlignment( testAlignments.head )\n",
    "assert( testTexts.size == 2 )\n",
    "showMe(testTexts)"
   ]
  },
  {
   "cell_type": "markdown",
   "metadata": {},
   "source": [
    "### `alignedTexts( psg: CtsUrn ): Vector[Corpus]`"
   ]
  },
  {
   "cell_type": "code",
   "execution_count": null,
   "metadata": {},
   "outputs": [],
   "source": [
    "def alignedTexts( psg: CtsUrn ): Vector[Corpus] = {\n",
    "    val alignments: Vector[Cite2Urn] = alignmentsForPassage(psg)\n",
    "    val texts: Vector[Corpus] = textsForAlignment( alignments )\n",
    "    texts\n",
    "}\n",
    "\n",
    "def alignedTexts( psgs: Vector[CtsUrn] ): Vector[Corpus] = {\n",
    "    \n",
    "    val alignments: Vector[Cite2Urn] = psgs.map ( p => {\n",
    "        alignmentsForPassage(p)\n",
    "    }).flatten\n",
    "    val texts: Vector[Corpus] = textsForAlignment( alignments )\n",
    "    texts\n",
    "}"
   ]
  },
  {
   "cell_type": "markdown",
   "metadata": {},
   "source": [
    "Test:"
   ]
  },
  {
   "cell_type": "code",
   "execution_count": null,
   "metadata": {},
   "outputs": [],
   "source": [
    "val testAlignedTexts1: Vector[Corpus] = alignedTexts(testPsgU)\n",
    "assert( testAlignedTexts1.size == 2 )\n",
    "showMe(testAlignedTexts1)\n",
    "\n",
    "val testPsgsVec: Vector[CtsUrn] = {\n",
    "    Vector(\n",
    "        CtsUrn(\"urn:cts:greekLit:tlg0557.tlg002.perseus-grc1:1.1\"),\n",
    "        CtsUrn(\"urn:cts:greekLit:tlg0557.tlg002.perseus-grc1:1.2\")\n",
    "    )\n",
    "}\n",
    "val testAlignedTexts2: Vector[Corpus] = alignedTexts(testPsgsVec)\n",
    "assert( testAlignedTexts2.size == 11 )\n",
    "showMe(testAlignedTexts2)"
   ]
  },
  {
   "cell_type": "markdown",
   "metadata": {},
   "source": [
    "# Playground"
   ]
  },
  {
   "cell_type": "markdown",
   "metadata": {},
   "source": [
    "## Epictetus-Specific Things"
   ]
  },
  {
   "cell_type": "markdown",
   "metadata": {},
   "source": [
    "Make URN work easier:"
   ]
  },
  {
   "cell_type": "code",
   "execution_count": null,
   "metadata": {},
   "outputs": [],
   "source": [
    "val epictetusUrn = CtsUrn(\"urn:cts:greekLit:tlg0557:\")\n",
    "val epitomeUrn = CtsUrn(\"urn:cts:greekLit:tlg0557.tlg001.perseus-grc1:\")\n",
    "val enchUrn = CtsUrn(\"urn:cts:greekLit:tlg0557.tlg002.perseus-grc1:\")\n"
   ]
  },
  {
   "cell_type": "markdown",
   "metadata": {},
   "source": [
    "## See Alignments for a Passage"
   ]
  },
  {
   "cell_type": "markdown",
   "metadata": {},
   "source": [
    "**Edit This!** A passage of the Encheiridion:"
   ]
  },
  {
   "cell_type": "code",
   "execution_count": null,
   "metadata": {},
   "outputs": [],
   "source": [
    "val myPassage = \"17.1\""
   ]
  },
  {
   "cell_type": "markdown",
   "metadata": {},
   "source": [
    "**See Alignments!**"
   ]
  },
  {
   "cell_type": "code",
   "execution_count": null,
   "metadata": {},
   "outputs": [],
   "source": [
    "val myAlignedTexts: Vector[Corpus] = alignedTexts( enchUrn.addPassage(myPassage))\n",
    "\n",
    "showMe(myAlignedTexts)"
   ]
  },
  {
   "cell_type": "code",
   "execution_count": null,
   "metadata": {},
   "outputs": [],
   "source": []
  }
 ],
 "metadata": {
  "kernel_info": {
   "name": "scala"
  },
  "kernelspec": {
   "display_name": "Scala",
   "language": "scala",
   "name": "scala"
  },
  "language_info": {
   "codemirror_mode": "text/x-scala",
   "file_extension": ".scala",
   "mimetype": "text/x-scala",
   "name": "scala",
   "nbconvert_exporter": "script",
   "version": "2.12.10"
  },
  "nteract": {
   "version": "0.15.0"
  }
 },
 "nbformat": 4,
 "nbformat_minor": 2
}
