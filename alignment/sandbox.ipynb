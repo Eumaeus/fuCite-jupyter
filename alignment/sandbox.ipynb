{
 "cells": [
  {
   "cell_type": "markdown",
   "metadata": {},
   "source": [
    "# Working with Alignments in CITE 1"
   ]
  },
  {
   "cell_type": "markdown",
   "metadata": {},
   "source": [
    "## Configuring CITE libraries for almond kernel\n",
    "\n",
    "First, we'll make a bintray repository with CITE libraries available to your almond kernel."
   ]
  },
  {
   "cell_type": "code",
   "execution_count": 1,
   "metadata": {
    "collapsed": true
   },
   "outputs": [
    {
     "data": {
      "text/plain": [
       "\u001b[36mmyBT\u001b[39m: \u001b[32mcoursierapi\u001b[39m.\u001b[32mMavenRepository\u001b[39m = MavenRepository(https://dl.bintray.com/neelsmith/maven)"
      ]
     },
     "execution_count": 1,
     "metadata": {},
     "output_type": "execute_result"
    }
   ],
   "source": [
    "val myBT = coursierapi.MavenRepository.of(\"https://dl.bintray.com/neelsmith/maven\")\n",
    "interp.repositories() ++= Seq(myBT)"
   ]
  },
  {
   "cell_type": "markdown",
   "metadata": {},
   "source": [
    "Next, we bring in specific libraries from the new repository using almond's `$ivy` magic:"
   ]
  },
  {
   "cell_type": "code",
   "execution_count": 2,
   "metadata": {
    "collapsed": true
   },
   "outputs": [
    {
     "data": {
      "text/plain": [
       "\u001b[32mimport \u001b[39m\u001b[36m$ivy.$                                  \n",
       "\u001b[39m\n",
       "\u001b[32mimport \u001b[39m\u001b[36m$ivy.$                                     \n",
       "\u001b[39m\n",
       "\u001b[32mimport \u001b[39m\u001b[36m$ivy.$                              \n",
       "\u001b[39m\n",
       "\u001b[32mimport \u001b[39m\u001b[36m$ivy.$                              \n",
       "\u001b[39m\n",
       "\u001b[32mimport \u001b[39m\u001b[36m$ivy.$                                          \n",
       "\u001b[39m\n",
       "\u001b[32mimport \u001b[39m\u001b[36m$ivy.$                                  \n",
       "\u001b[39m\n",
       "\u001b[32mimport \u001b[39m\u001b[36m$ivy.$                                        \n",
       "\u001b[39m\n",
       "\u001b[32mimport \u001b[39m\u001b[36m$ivy.$                              \n",
       "\u001b[39m\n",
       "\u001b[32mimport \u001b[39m\u001b[36m$ivy.$                                \n",
       "\u001b[39m"
      ]
     },
     "execution_count": 2,
     "metadata": {},
     "output_type": "execute_result"
    }
   ],
   "source": [
    "import $ivy.`edu.holycross.shot::ohco2:10.16.0`\n",
    "import $ivy.`edu.holycross.shot.cite::xcite:4.1.1`\n",
    "import $ivy.`edu.holycross.shot::scm:7.2.0`\n",
    "import $ivy.`edu.holycross.shot::dse:5.2.2`\n",
    "import $ivy.`edu.holycross.shot::citebinaryimage:3.1.1`\n",
    "import $ivy.`edu.holycross.shot::citeobj:7.3.4`\n",
    "import $ivy.`edu.holycross.shot::citerelations:2.5.2`\n",
    "import $ivy.`edu.holycross.shot::cex:6.3.3`\n",
    "import $ivy.`edu.holycross.shot::greek:2.3.3`\n"
   ]
  },
  {
   "cell_type": "markdown",
   "metadata": {},
   "source": [
    "## Imports\n",
    "\n",
    "From this point on, your notebook consists of completely generic Scala, with the CITE Libraries available to use."
   ]
  },
  {
   "cell_type": "code",
   "execution_count": 3,
   "metadata": {
    "collapsed": true
   },
   "outputs": [
    {
     "data": {
      "text/plain": [
       "\u001b[32mimport \u001b[39m\u001b[36medu.holycross.shot.cite._\n",
       "\u001b[39m\n",
       "\u001b[32mimport \u001b[39m\u001b[36medu.holycross.shot.ohco2._\n",
       "\u001b[39m\n",
       "\u001b[32mimport \u001b[39m\u001b[36medu.holycross.shot.scm._\n",
       "\u001b[39m\n",
       "\u001b[32mimport \u001b[39m\u001b[36medu.holycross.shot.citeobj._\n",
       "\u001b[39m\n",
       "\u001b[32mimport \u001b[39m\u001b[36medu.holycross.shot.citerelation._\n",
       "\u001b[39m\n",
       "\u001b[32mimport \u001b[39m\u001b[36medu.holycross.shot.dse._\n",
       "\u001b[39m\n",
       "\u001b[32mimport \u001b[39m\u001b[36medu.holycross.shot.citebinaryimage._\n",
       "\u001b[39m\n",
       "\u001b[32mimport \u001b[39m\u001b[36medu.holycross.shot.ohco2._\n",
       "\u001b[39m\n",
       "\u001b[32mimport \u001b[39m\u001b[36medu.holycross.shot.greek._\n",
       "\n",
       "\u001b[39m\n",
       "\u001b[32mimport \u001b[39m\u001b[36malmond.display.UpdatableDisplay\n",
       "\u001b[39m\n",
       "\u001b[32mimport \u001b[39m\u001b[36malmond.interpreter.api.DisplayData.ContentType\n",
       "\u001b[39m\n",
       "\u001b[32mimport \u001b[39m\u001b[36malmond.interpreter.api.{DisplayData, OutputHandler}\n",
       "\n",
       "\u001b[39m\n",
       "\u001b[32mimport \u001b[39m\u001b[36mjava.io.File\n",
       "\u001b[39m\n",
       "\u001b[32mimport \u001b[39m\u001b[36mjava.io.PrintWriter\n",
       "\n",
       "\u001b[39m\n",
       "\u001b[32mimport \u001b[39m\u001b[36mscala.io.Source\n",
       "\u001b[39m"
      ]
     },
     "execution_count": 3,
     "metadata": {},
     "output_type": "execute_result"
    }
   ],
   "source": [
    "// Import some CITE libraries\n",
    "import edu.holycross.shot.cite._\n",
    "import edu.holycross.shot.ohco2._\n",
    "import edu.holycross.shot.scm._\n",
    "import edu.holycross.shot.citeobj._\n",
    "import edu.holycross.shot.citerelation._\n",
    "import edu.holycross.shot.dse._\n",
    "import edu.holycross.shot.citebinaryimage._\n",
    "import edu.holycross.shot.ohco2._\n",
    "import edu.holycross.shot.greek._\n",
    "\n",
    "import almond.display.UpdatableDisplay\n",
    "import almond.interpreter.api.DisplayData.ContentType\n",
    "import almond.interpreter.api.{DisplayData, OutputHandler}\n",
    "\n",
    "import java.io.File\n",
    "import java.io.PrintWriter\n",
    "\n",
    "import scala.io.Source\n"
   ]
  },
  {
   "cell_type": "markdown",
   "metadata": {},
   "source": [
    "## Useful Functions"
   ]
  },
  {
   "cell_type": "markdown",
   "metadata": {},
   "source": [
    "Save a string:"
   ]
  },
  {
   "cell_type": "code",
   "execution_count": 4,
   "metadata": {
    "collapsed": true
   },
   "outputs": [
    {
     "data": {
      "text/plain": [
       "defined \u001b[32mfunction\u001b[39m \u001b[36msaveString\u001b[39m"
      ]
     },
     "execution_count": 4,
     "metadata": {},
     "output_type": "execute_result"
    }
   ],
   "source": [
    "def saveString(s:String, filePath:String = \"\", fileName:String = \"temp.txt\"):Unit = {\n",
    "\t\t val writer = new PrintWriter(new File(s\"${filePath}${fileName}\"))\n",
    "         writer.write(s)\n",
    "         writer.close()\n",
    "\t}"
   ]
  },
  {
   "cell_type": "markdown",
   "metadata": {},
   "source": [
    "Pretty Print many things:"
   ]
  },
  {
   "cell_type": "code",
   "execution_count": 5,
   "metadata": {
    "collapsed": true
   },
   "outputs": [
    {
     "data": {
      "text/plain": [
       "defined \u001b[32mfunction\u001b[39m \u001b[36mshowMe\u001b[39m"
      ]
     },
     "execution_count": 5,
     "metadata": {},
     "output_type": "execute_result"
    }
   ],
   "source": [
    "def showMe(v:Any):Unit = {\n",
    "  v match {\n",
    "    case _:StringHistogram => {\n",
    "        for ( h <- v.asInstanceOf[StringHistogram].histogram ) {\n",
    "            println(s\"${h.count}\\t${h.s}\")\n",
    "        }\n",
    "    }\n",
    "  \tcase _:Corpus => {\n",
    "  \t\tfor ( n <- v.asInstanceOf[Corpus].nodes) {\n",
    "  \t\t\tprintln(s\"${n.urn.passageComponent}\\t\\t${n.text}\")\n",
    "  \t\t}\t\n",
    "  \t}\n",
    "      case _:Vector[Corpus] => {\n",
    "          for ( c <- v.asInstanceOf[Vector[Corpus]]) {\n",
    "              println(\"---------\\nCORPUS\")\n",
    "              println( s\"${c.nodes.head.urn.dropPassage}\")\n",
    "              println(\"\")\n",
    "              showMe(c)\n",
    "              println(\"\")\n",
    "          }\n",
    "      }\n",
    "    case _:Vector[Any] => println(s\"\"\"\\n----\\n${v.asInstanceOf[Vector[Any]].mkString(\"\\n\")}\\n----\\n\"\"\")\n",
    "    case _:Iterable[Any] => println(s\"\"\"\\n----\\n${v.asInstanceOf[Iterable[Any]].mkString(\"\\n\")}\\n----\\n\"\"\")\n",
    "    case _ => println(s\"\\n-----\\n${v}\\n----\\n\")\n",
    "  }\n",
    "}"
   ]
  },
  {
   "cell_type": "markdown",
   "metadata": {},
   "source": [
    "## Load Library"
   ]
  },
  {
   "cell_type": "markdown",
   "metadata": {},
   "source": [
    "We will load a Version-level, bilingual file, to start:"
   ]
  },
  {
   "cell_type": "code",
   "execution_count": 6,
   "metadata": {
    "collapsed": true
   },
   "outputs": [
    {
     "name": "stderr",
     "output_type": "stream",
     "text": [
      "Feb 27, 2020 8:17:47 AM wvlet.log.Logger log\n",
      "INFO: Building text repo from cex ...\n",
      "Feb 27, 2020 8:17:47 AM wvlet.log.Logger log\n",
      "INFO: Building collection repo from cex ...\n",
      "Feb 27, 2020 8:17:47 AM wvlet.log.Logger log\n",
      "INFO: Building relations from cex ...\n",
      "Feb 27, 2020 8:17:47 AM wvlet.log.Logger log\n",
      "INFO: All library components built.\n"
     ]
    },
    {
     "data": {
      "text/plain": [
       "\u001b[36mcexPath\u001b[39m: \u001b[32mString\u001b[39m = \u001b[32m\"cex/alignments1_20.cex\"\u001b[39m\n",
       "\u001b[36mlib\u001b[39m: \u001b[32mCiteLibrary\u001b[39m = \u001b[33mCiteLibrary\u001b[39m(\n",
       "  \u001b[32m\"CITE Library generated by the Ducat application, Mon Feb 24 2020 15:27:39 GMT-0500 (Eastern Standard Time)\"\u001b[39m,\n",
       "  \u001b[33mCite2Urn\u001b[39m(\u001b[32m\"urn:cite2:cex:ducatauto.20201:15_27_39_649\"\u001b[39m),\n",
       "  \u001b[32m\"CC Share Alike.\"\u001b[39m,\n",
       "  \u001b[33mVector\u001b[39m(),\n",
       "  \u001b[33mSome\u001b[39m(\n",
       "    \u001b[33mTextRepository\u001b[39m(\n",
       "      \u001b[33mCorpus\u001b[39m(\n",
       "        \u001b[33mVector\u001b[39m(\n",
       "          \u001b[33mCitableNode\u001b[39m(\n",
       "            \u001b[33mCtsUrn\u001b[39m(\u001b[32m\"urn:cts:greekLit:tlg0557.tlg001.perseus-grc1:0.0.0\"\u001b[39m),\n",
       "            \u001b[32m\"\\u1f08\\u03c1\\u03c1\\u03b9\\u03b1\\u03bd\\u1f78\\u03c2 \\u039b\\u03bf\\u03c5\\u03ba\\u03af\\u1ff3 \\u0393\\u03b5\\u03bb\\u03bb\\u03af\\u1ff3 \\u03c7\\u03b1\\u03af\\u03c1\\u03b5\\u03b9\\u03bd.\"\u001b[39m\n",
       "          ),\n",
       "          \u001b[33mCitableNode\u001b[39m(\n",
       "            \u001b[33mCtsUrn\u001b[39m(\u001b[32m\"urn:cts:greekLit:tlg0557.tlg001.perseus-grc1:0.0.1\"\u001b[39m),\n",
       "            \u001b[32m\"\\u03bf\\u1f54\\u03c4\\u03b5 \\u03c3\\u03c5\\u03bd\\u03ad\\u03b3\\u03c1\\u03b1\\u03c8\\u03b1 \\u1f10\\u03b3\\u1f7c \\u03c4\\u03bf\\u1f7a\\u03c2 \\u1f18\\u03c0\\u03b9\\u03ba\\u03c4\\u03ae\\u03c4\\u03bf\\u03c5 \\u03bb\\u03cc\\u03b3\\u03bf\\u03c5\\u03c2 \\u03bf\\u1f55\\u03c4\\u03c9\\u03c2 \\u1f45\\u03c0\\u03c9\\u03c2 \\u1f04\\u03bd \\u03c4\\u03b9\\u03c2 \\u03c3\\u03c5\\u03b3\\u03b3\\u03c1\\u03ac\\u03c8\\u03b5\\u03b9\\u03b5 \\u03c4\\u1f70 \\u03c4\\u03bf\\u03b9\\u03b1\\u1fe6\\u03c4\\u03b1 \\u03bf\\u1f54\\u03c4\\u03b5 \\u1f10\\u03be\\u03ae\\u03bd\\u03b5\\u03b3\\u03ba\\u03b1 \\u03b5\\u1f30\\u03c2 \\u1f00\\u03bd\\u03b8\\u03c1\\u03ce\\u03c0\\u03bf\\u03c5\\u03c2 \\u03b1\\u1f50\\u03c4\\u03cc\\u03c2, \\u1f45\\u03c2 \\u03b3\\u03b5 \\u03bf\\u1f50\\u03b4\\u1f72 \\u03c3\\u03c5\\u03b3\\u03b3\\u03c1\\u03ac\\u03c8\\u03b1\\u03b9 \\u03c6\\u03b7\\u03bc\\u03af.\"\u001b[39m\n",
       "          ),\n",
       "          \u001b[33mCitableNode\u001b[39m(\n",
       "            \u001b[33mCtsUrn\u001b[39m(\u001b[32m\"urn:cts:greekLit:tlg0557.tlg001.perseus-grc1:0.0.2\"\u001b[39m),\n",
       "            \u001b[32m\"\\u1f45\\u03c3\\u03b1 \\u03b4\\u1f72 \\u1f24\\u03ba\\u03bf\\u03c5\\u03bf\\u03bd \\u03b1\\u1f50\\u03c4\\u03bf\\u1fe6 \\u03bb\\u03ad\\u03b3\\u03bf\\u03bd\\u03c4\\u03bf\\u03c2, \\u03c4\\u03b1\\u1fe6\\u03c4\\u03b1 \\u03b1\\u1f50\\u03c4\\u1f70 \\u1f10\\u03c0\\u03b5\\u03b9\\u03c1\\u03ac\\u03b8\\u03b7\\u03bd \\u03b1\\u1f50\\u03c4\\u03bf\\u1fd6\\u03c2 \\u1f40\\u03bd\\u03cc\\u03bc\\u03b1\\u03c3\\u03b9\\u03bd \\u1f61\\u03c2 \\u03bf\\u1f37\\u03cc\\u03bd \\u03c4\\u03b5 \\u1f26\\u03bd \\u03b3\\u03c1\\u03b1\\u03c8\\u03ac\\u03bc\\u03b5\\u03bd\\u03bf\\u03c2 \\u1f51\\u03c0\\u03bf\\u03bc\\u03bd\\u03ae\\u03bc\\u03b1\\u03c4\\u03b1 \\u03b5\\u1f30\\u03c2 \\u1f55\\u03c3\\u03c4\\u03b5\\u03c1\\u03bf\\u03bd \\u1f10\\u03bc\\u03b1\\u03c5\\u03c4\\u\u001b[39m..."
      ]
     },
     "execution_count": 6,
     "metadata": {},
     "output_type": "execute_result"
    }
   ],
   "source": [
    "val cexPath = \"cex/alignments1_20.cex\"\n",
    "val lib = CiteLibrary(scala.io.Source.fromFile(cexPath).mkString)"
   ]
  },
  {
   "cell_type": "markdown",
   "metadata": {},
   "source": [
    "Get parts of the library where we can use them:"
   ]
  },
  {
   "cell_type": "code",
   "execution_count": 7,
   "metadata": {
    "collapsed": true
   },
   "outputs": [
    {
     "data": {
      "text/html": [
       "<div class=\"jp-RenderedText\">\n",
       "<pre><code><span style=\"color: rgb(0, 187, 187)\"><span class=\"ansi-cyan-fg\">tr</span></span>: <span style=\"color: rgb(0, 187, 0)\"><span class=\"ansi-green-fg\">TextRepository</span></span> = <span style=\"color: yellow\"><span class=\"ansi-yellow-fg\">TextRepository</span></span>(\n",
       "  <span style=\"color: yellow\"><span class=\"ansi-yellow-fg\">Corpus</span></span>(\n",
       "    <span style=\"color: yellow\"><span class=\"ansi-yellow-fg\">Vector</span></span>(\n",
       "      <span style=\"color: yellow\"><span class=\"ansi-yellow-fg\">CitableNode</span></span>(\n",
       "        <span style=\"color: yellow\"><span class=\"ansi-yellow-fg\">CtsUrn</span></span>(<span style=\"color: rgb(0, 187, 0)\"><span class=\"ansi-green-fg\">&quot;urn:cts:greekLit:tlg0557.tlg001.perseus-grc1:0.0.0&quot;</span></span>),\n",
       "        <span style=\"color: rgb(0, 187, 0)\"><span class=\"ansi-green-fg\">&quot;\\u1f08\\u03c1\\u03c1\\u03b9\\u03b1\\u03bd\\u1f78\\u03c2 \\u039b\\u03bf\\u03c5\\u03ba\\u03af\\u1ff3 \\u0393\\u03b5\\u03bb\\u03bb\\u03af\\u1ff3 \\u03c7\\u03b1\\u03af\\u03c1\\u03b5\\u03b9\\u03bd.&quot;</span></span>\n",
       "      ),\n",
       "      <span style=\"color: yellow\"><span class=\"ansi-yellow-fg\">CitableNode</span></span>(\n",
       "        <span style=\"color: yellow\"><span class=\"ansi-yellow-fg\">CtsUrn</span></span>(<span style=\"color: rgb(0, 187, 0)\"><span class=\"ansi-green-fg\">&quot;urn:cts:greekLit:tlg0557.tlg001.perseus-grc1:0.0.1&quot;</span></span>),\n",
       "        <span style=\"color: rgb(0, 187, 0)\"><span class=\"ansi-green-fg\">&quot;\\u03bf\\u1f54\\u03c4\\u03b5 \\u03c3\\u03c5\\u03bd\\u03ad\\u03b3\\u03c1\\u03b1\\u03c8\\u03b1 \\u1f10\\u03b3\\u1f7c \\u03c4\\u03bf\\u1f7a\\u03c2 \\u1f18\\u03c0\\u03b9\\u03ba\\u03c4\\u03ae\\u03c4\\u03bf\\u03c5 \\u03bb\\u03cc\\u03b3\\u03bf\\u03c5\\u03c2 \\u03bf\\u1f55\\u03c4\\u03c9\\u03c2 \\u1f45\\u03c0\\u03c9\\u03c2 \\u1f04\\u03bd \\u03c4\\u03b9\\u03c2 \\u03c3\\u03c5\\u03b3\\u03b3\\u03c1\\u03ac\\u03c8\\u03b5\\u03b9\\u03b5 \\u03c4\\u1f70 \\u03c4\\u03bf\\u03b9\\u03b1\\u1fe6\\u03c4\\u03b1 \\u03bf\\u1f54\\u03c4\\u03b5 \\u1f10\\u03be\\u03ae\\u03bd\\u03b5\\u03b3\\u03ba\\u03b1 \\u03b5\\u1f30\\u03c2 \\u1f00\\u03bd\\u03b8\\u03c1\\u03ce\\u03c0\\u03bf\\u03c5\\u03c2 \\u03b1\\u1f50\\u03c4\\u03cc\\u03c2, \\u1f45\\u03c2 \\u03b3\\u03b5 \\u03bf\\u1f50\\u03b4\\u1f72 \\u03c3\\u03c5\\u03b3\\u03b3\\u03c1\\u03ac\\u03c8\\u03b1\\u03b9 \\u03c6\\u03b7\\u03bc\\u03af.&quot;</span></span>\n",
       "      ),\n",
       "      <span style=\"color: yellow\"><span class=\"ansi-yellow-fg\">CitableNode</span></span>(\n",
       "        <span style=\"color: yellow\"><span class=\"ansi-yellow-fg\">CtsUrn</span></span>(<span style=\"color: rgb(0, 187, 0)\"><span class=\"ansi-green-fg\">&quot;urn:cts:greekLit:tlg0557.tlg001.perseus-grc1:0.0.2&quot;</span></span>),\n",
       "        <span style=\"color: rgb(0, 187, 0)\"><span class=\"ansi-green-fg\">&quot;\\u1f45\\u03c3\\u03b1 \\u03b4\\u1f72 \\u1f24\\u03ba\\u03bf\\u03c5\\u03bf\\u03bd \\u03b1\\u1f50\\u03c4\\u03bf\\u1fe6 \\u03bb\\u03ad\\u03b3\\u03bf\\u03bd\\u03c4\\u03bf\\u03c2, \\u03c4\\u03b1\\u1fe6\\u03c4\\u03b1 \\u03b1\\u1f50\\u03c4\\u1f70 \\u1f10\\u03c0\\u03b5\\u03b9\\u03c1\\u03ac\\u03b8\\u03b7\\u03bd \\u03b1\\u1f50\\u03c4\\u03bf\\u1fd6\\u03c2 \\u1f40\\u03bd\\u03cc\\u03bc\\u03b1\\u03c3\\u03b9\\u03bd \\u1f61\\u03c2 \\u03bf\\u1f37\\u03cc\\u03bd \\u03c4\\u03b5 \\u1f26\\u03bd \\u03b3\\u03c1\\u03b1\\u03c8\\u03ac\\u03bc\\u03b5\\u03bd\\u03bf\\u03c2 \\u1f51\\u03c0\\u03bf\\u03bc\\u03bd\\u03ae\\u03bc\\u03b1\\u03c4\\u03b1 \\u03b5\\u1f30\\u03c2 \\u1f55\\u03c3\\u03c4\\u03b5\\u03c1\\u03bf\\u03bd \\u1f10\\u03bc\\u03b1\\u03c5\\u03c4\\u1ff7 \\u03b4\\u03b9\\u03b1\\u03c6\\u03c5\\u03bb\\u03ac\\u03be\\u03b1\\u03b9 \\u03c4\\u1fc6\\u03c2 \\u1f10\\u03ba\\u03b5\\u03af\\u03bd\\u03bf\\u03c5 \\u03b4\\u03b9\\u03b1\\u03bd\\u03bf\\u03af\\u03b1\\u03c2 \\u03ba\\u03b1\\u1f76 \\u03c0\\u03b1\\u03c1\\u03c1\\u03b7\\u03c3\\u03af\\u03b1\\u03c2.&quot;</span></span>\n",
       "      ),\n",
       "      <span style=\"color: yellow\"><span class=\"ansi-yellow-fg\">CitableNode</span></span>(\n",
       "        <span style=\"color: yellow\"><span class=\"ansi-yellow-fg\">CtsUrn</span></span>(<span style=\"color: rgb(0, 187, 0)\"><span class=\"ansi-green-fg\">&quot;urn:cts:greekLit:tlg0557.tlg001.perseus-grc1:0.0.3&quot;</span></span>),\n",
       "...\n",
       "<span style=\"color: rgb(0, 187, 187)\"><span class=\"ansi-cyan-fg\">corp</span></span>: <span style=\"color: rgb(0, 187, 0)\"><span class=\"ansi-green-fg\">Corpus</span></span> = <style>@keyframes fadein { from { opacity: 0; } to { opacity: 1; } }</style><span style=\"animation: fadein 2s;\"><span style=\"color: yellow\"><span class=\"ansi-yellow-fg\">Corpus</span></span>(\n",
       "  <span style=\"color: yellow\"><span class=\"ansi-yellow-fg\">Vector</span></span>(\n",
       "    <span style=\"color: yellow\"><span class=\"ansi-yellow-fg\">CitableNode</span></span>(\n",
       "      <span style=\"color: yellow\"><span class=\"ansi-yellow-fg\">CtsUrn</span></span>(<span style=\"color: rgb(0, 187, 0)\"><span class=\"ansi-green-fg\">&quot;urn:cts:greekLit:tlg0557.tlg001.perseus-grc1:0.0.0&quot;</span></span>),\n",
       "      <span style=\"color: rgb(0, 187, 0)\"><span class=\"ansi-green-fg\">&quot;\\u1f08\\u03c1\\u03c1\\u03b9\\u03b1\\u03bd\\u1f78\\u03c2 \\u039b\\u03bf\\u03c5\\u03ba\\u03af\\u1ff3 \\u0393\\u03b5\\u03bb\\u03bb\\u03af\\u1ff3 \\u03c7\\u03b1\\u03af\\u03c1\\u03b5\\u03b9\\u03bd.&quot;</span></span>\n",
       "    ),\n",
       "    <span style=\"color: yellow\"><span class=\"ansi-yellow-fg\">CitableNode</span></span>(\n",
       "      <span style=\"color: yellow\"><span class=\"ansi-yellow-fg\">CtsUrn</span></span>(<span style=\"color: rgb(0, 187, 0)\"><span class=\"ansi-green-fg\">&quot;urn:cts:greekLit:tlg0557.tlg001.perseus-grc1:0.0.1&quot;</span></span>),\n",
       "      <span style=\"color: rgb(0, 187, 0)\"><span class=\"ansi-green-fg\">&quot;\\u03bf\\u1f54\\u03c4\\u03b5 \\u03c3\\u03c5\\u03bd\\u03ad\\u03b3\\u03c1\\u03b1\\u03c8\\u03b1 \\u1f10\\u03b3\\u1f7c \\u03c4\\u03bf\\u1f7a\\u03c2 \\u1f18\\u03c0\\u03b9\\u03ba\\u03c4\\u03ae\\u03c4\\u03bf\\u03c5 \\u03bb\\u03cc\\u03b3\\u03bf\\u03c5\\u03c2 \\u03bf\\u1f55\\u03c4\\u03c9\\u03c2 \\u1f45\\u03c0\\u03c9\\u03c2 \\u1f04\\u03bd \\u03c4\\u03b9\\u03c2 \\u03c3\\u03c5\\u03b3\\u03b3\\u03c1\\u03ac\\u03c8\\u03b5\\u03b9\\u03b5 \\u03c4\\u1f70 \\u03c4\\u03bf\\u03b9\\u03b1\\u1fe6\\u03c4\\u03b1 \\u03bf\\u1f54\\u03c4\\u03b5 \\u1f10\\u03be\\u03ae\\u03bd\\u03b5\\u03b3\\u03ba\\u03b1 \\u03b5\\u1f30\\u03c2 \\u1f00\\u03bd\\u03b8\\u03c1\\u03ce\\u03c0\\u03bf\\u03c5\\u03c2 \\u03b1\\u1f50\\u03c4\\u03cc\\u03c2, \\u1f45\\u03c2 \\u03b3\\u03b5 \\u03bf\\u1f50\\u03b4\\u1f72 \\u03c3\\u03c5\\u03b3\\u03b3\\u03c1\\u03ac\\u03c8\\u03b1\\u03b9 \\u03c6\\u03b7\\u03bc\\u03af.&quot;</span></span>\n",
       "    ),\n",
       "    <span style=\"color: yellow\"><span class=\"ansi-yellow-fg\">CitableNode</span></span>(\n",
       "      <span style=\"color: yellow\"><span class=\"ansi-yellow-fg\">CtsUrn</span></span>(<span style=\"color: rgb(0, 187, 0)\"><span class=\"ansi-green-fg\">&quot;urn:cts:greekLit:tlg0557.tlg001.perseus-grc1:0.0.2&quot;</span></span>),\n",
       "      <span style=\"color: rgb(0, 187, 0)\"><span class=\"ansi-green-fg\">&quot;\\u1f45\\u03c3\\u03b1 \\u03b4\\u1f72 \\u1f24\\u03ba\\u03bf\\u03c5\\u03bf\\u03bd \\u03b1\\u1f50\\u03c4\\u03bf\\u1fe6 \\u03bb\\u03ad\\u03b3\\u03bf\\u03bd\\u03c4\\u03bf\\u03c2, \\u03c4\\u03b1\\u1fe6\\u03c4\\u03b1 \\u03b1\\u1f50\\u03c4\\u1f70 \\u1f10\\u03c0\\u03b5\\u03b9\\u03c1\\u03ac\\u03b8\\u03b7\\u03bd \\u03b1\\u1f50\\u03c4\\u03bf\\u1fd6\\u03c2 \\u1f40\\u03bd\\u03cc\\u03bc\\u03b1\\u03c3\\u03b9\\u03bd \\u1f61\\u03c2 \\u03bf\\u1f37\\u03cc\\u03bd \\u03c4\\u03b5 \\u1f26\\u03bd \\u03b3\\u03c1\\u03b1\\u03c8\\u03ac\\u03bc\\u03b5\\u03bd\\u03bf\\u03c2 \\u1f51\\u03c0\\u03bf\\u03bc\\u03bd\\u03ae\\u03bc\\u03b1\\u03c4\\u03b1 \\u03b5\\u1f30\\u03c2 \\u1f55\\u03c3\\u03c4\\u03b5\\u03c1\\u03bf\\u03bd \\u1f10\\u03bc\\u03b1\\u03c5\\u03c4\\u1ff7 \\u03b4\\u03b9\\u03b1\\u03c6\\u03c5\\u03bb\\u03ac\\u03be\\u03b1\\u03b9 \\u03c4\\u1fc6\\u03c2 \\u1f10\\u03ba\\u03b5\\u03af\\u03bd\\u03bf\\u03c5 \\u03b4\\u03b9\\u03b1\\u03bd\\u03bf\\u03af\\u03b1\\u03c2 \\u03ba\\u03b1\\u1f76 \\u03c0\\u03b1\\u03c1\\u03c1\\u03b7\\u03c3\\u03af\\u03b1\\u03c2.&quot;</span></span>\n",
       "    ),\n",
       "    <span style=\"color: yellow\"><span class=\"ansi-yellow-fg\">CitableNode</span></span>(\n",
       "      <span style=\"color: yellow\"><span class=\"ansi-yellow-fg\">CtsUrn</span></span>(<span style=\"color: rgb(0, 187, 0)\"><span class=\"ansi-green-fg\">&quot;urn:cts:greekLit:tlg0557.tlg001.perseus-grc1:0.0.3&quot;</span></span>),\n",
       "      <span style=\"color: rgb(0, 187, 0)\"><span class=\"ansi-green-fg\">&quot;\\u1f14\\u03c3\\u03c4\\u03b9 \\u03b4\\u1f74 \\u03c4\\u03bf\\u03b9\\u03b1\\u1fe6\\u03c</span></span>...</span>\n",
       "<span style=\"color: rgb(0, 187, 187)\"><span class=\"ansi-cyan-fg\">cat</span></span>: <span style=\"color: rgb(0, 187, 0)\"><span class=\"ansi-green-fg\">Catalog</span></span> = <span style=\"color: white\"><span class=\"ansi-white-fg\">[lazy]</span></span></code></pre>\n",
       "</div>"
      ],
      "text/plain": [
       "\u001b[36mtr\u001b[39m: \u001b[32mTextRepository\u001b[39m = \u001b[33mTextRepository\u001b[39m(\n",
       "  \u001b[33mCorpus\u001b[39m(\n",
       "    \u001b[33mVector\u001b[39m(\n",
       "      \u001b[33mCitableNode\u001b[39m(\n",
       "        \u001b[33mCtsUrn\u001b[39m(\u001b[32m\"urn:cts:greekLit:tlg0557.tlg001.perseus-grc1:0.0.0\"\u001b[39m),\n",
       "        \u001b[32m\"\\u1f08\\u03c1\\u03c1\\u03b9\\u03b1\\u03bd\\u1f78\\u03c2 \\u039b\\u03bf\\u03c5\\u03ba\\u03af\\u1ff3 \\u0393\\u03b5\\u03bb\\u03bb\\u03af\\u1ff3 \\u03c7\\u03b1\\u03af\\u03c1\\u03b5\\u03b9\\u03bd.\"\u001b[39m\n",
       "      ),\n",
       "      \u001b[33mCitableNode\u001b[39m(\n",
       "        \u001b[33mCtsUrn\u001b[39m(\u001b[32m\"urn:cts:greekLit:tlg0557.tlg001.perseus-grc1:0.0.1\"\u001b[39m),\n",
       "        \u001b[32m\"\\u03bf\\u1f54\\u03c4\\u03b5 \\u03c3\\u03c5\\u03bd\\u03ad\\u03b3\\u03c1\\u03b1\\u03c8\\u03b1 \\u1f10\\u03b3\\u1f7c \\u03c4\\u03bf\\u1f7a\\u03c2 \\u1f18\\u03c0\\u03b9\\u03ba\\u03c4\\u03ae\\u03c4\\u03bf\\u03c5 \\u03bb\\u03cc\\u03b3\\u03bf\\u03c5\\u03c2 \\u03bf\\u1f55\\u03c4\\u03c9\\u03c2 \\u1f45\\u03c0\\u03c9\\u03c2 \\u1f04\\u03bd \\u03c4\\u03b9\\u03c2 \\u03c3\\u03c5\\u03b3\\u03b3\\u03c1\\u03ac\\u03c8\\u03b5\\u03b9\\u03b5 \\u03c4\\u1f70 \\u03c4\\u03bf\\u03b9\\u03b1\\u1fe6\\u03c4\\u03b1 \\u03bf\\u1f54\\u03c4\\u03b5 \\u1f10\\u03be\\u03ae\\u03bd\\u03b5\\u03b3\\u03ba\\u03b1 \\u03b5\\u1f30\\u03c2 \\u1f00\\u03bd\\u03b8\\u03c1\\u03ce\\u03c0\\u03bf\\u03c5\\u03c2 \\u03b1\\u1f50\\u03c4\\u03cc\\u03c2, \\u1f45\\u03c2 \\u03b3\\u03b5 \\u03bf\\u1f50\\u03b4\\u1f72 \\u03c3\\u03c5\\u03b3\\u03b3\\u03c1\\u03ac\\u03c8\\u03b1\\u03b9 \\u03c6\\u03b7\\u03bc\\u03af.\"\u001b[39m\n",
       "      ),\n",
       "      \u001b[33mCitableNode\u001b[39m(\n",
       "        \u001b[33mCtsUrn\u001b[39m(\u001b[32m\"urn:cts:greekLit:tlg0557.tlg001.perseus-grc1:0.0.2\"\u001b[39m),\n",
       "        \u001b[32m\"\\u1f45\\u03c3\\u03b1 \\u03b4\\u1f72 \\u1f24\\u03ba\\u03bf\\u03c5\\u03bf\\u03bd \\u03b1\\u1f50\\u03c4\\u03bf\\u1fe6 \\u03bb\\u03ad\\u03b3\\u03bf\\u03bd\\u03c4\\u03bf\\u03c2, \\u03c4\\u03b1\\u1fe6\\u03c4\\u03b1 \\u03b1\\u1f50\\u03c4\\u1f70 \\u1f10\\u03c0\\u03b5\\u03b9\\u03c1\\u03ac\\u03b8\\u03b7\\u03bd \\u03b1\\u1f50\\u03c4\\u03bf\\u1fd6\\u03c2 \\u1f40\\u03bd\\u03cc\\u03bc\\u03b1\\u03c3\\u03b9\\u03bd \\u1f61\\u03c2 \\u03bf\\u1f37\\u03cc\\u03bd \\u03c4\\u03b5 \\u1f26\\u03bd \\u03b3\\u03c1\\u03b1\\u03c8\\u03ac\\u03bc\\u03b5\\u03bd\\u03bf\\u03c2 \\u1f51\\u03c0\\u03bf\\u03bc\\u03bd\\u03ae\\u03bc\\u03b1\\u03c4\\u03b1 \\u03b5\\u1f30\\u03c2 \\u1f55\\u03c3\\u03c4\\u03b5\\u03c1\\u03bf\\u03bd \\u1f10\\u03bc\\u03b1\\u03c5\\u03c4\\u1ff7 \\u03b4\\u03b9\\u03b1\\u03c6\\u03c5\\u03bb\\u03ac\\u03be\\u03b1\\u03b9 \\u03c4\\u1fc6\\u03c2 \\u1f10\\u03ba\\u03b5\\u03af\\u03bd\\u03bf\\u03c5 \\u03b4\\u03b9\\u03b1\\u03bd\\u03bf\\u03af\\u03b1\\u03c2 \\u03ba\\u03b1\\u1f76 \\u03c0\\u03b1\\u03c1\\u03c1\\u03b7\\u03c3\\u03af\\u03b1\\u03c2.\"\u001b[39m\n",
       "      ),\n",
       "      \u001b[33mCitableNode\u001b[39m(\n",
       "        \u001b[33mCtsUrn\u001b[39m(\u001b[32m\"urn:cts:greekLit:tlg0557.tlg001.perseus-grc1:0.0.3\"\u001b[39m),\n",
       "...\n",
       "\u001b[36mcorp\u001b[39m: \u001b[32mCorpus\u001b[39m = \u001b[33mCorpus\u001b[39m(\n",
       "  \u001b[33mVector\u001b[39m(\n",
       "    \u001b[33mCitableNode\u001b[39m(\n",
       "      \u001b[33mCtsUrn\u001b[39m(\u001b[32m\"urn:cts:greekLit:tlg0557.tlg001.perseus-grc1:0.0.0\"\u001b[39m),\n",
       "      \u001b[32m\"\\u1f08\\u03c1\\u03c1\\u03b9\\u03b1\\u03bd\\u1f78\\u03c2 \\u039b\\u03bf\\u03c5\\u03ba\\u03af\\u1ff3 \\u0393\\u03b5\\u03bb\\u03bb\\u03af\\u1ff3 \\u03c7\\u03b1\\u03af\\u03c1\\u03b5\\u03b9\\u03bd.\"\u001b[39m\n",
       "    ),\n",
       "    \u001b[33mCitableNode\u001b[39m(\n",
       "      \u001b[33mCtsUrn\u001b[39m(\u001b[32m\"urn:cts:greekLit:tlg0557.tlg001.perseus-grc1:0.0.1\"\u001b[39m),\n",
       "      \u001b[32m\"\\u03bf\\u1f54\\u03c4\\u03b5 \\u03c3\\u03c5\\u03bd\\u03ad\\u03b3\\u03c1\\u03b1\\u03c8\\u03b1 \\u1f10\\u03b3\\u1f7c \\u03c4\\u03bf\\u1f7a\\u03c2 \\u1f18\\u03c0\\u03b9\\u03ba\\u03c4\\u03ae\\u03c4\\u03bf\\u03c5 \\u03bb\\u03cc\\u03b3\\u03bf\\u03c5\\u03c2 \\u03bf\\u1f55\\u03c4\\u03c9\\u03c2 \\u1f45\\u03c0\\u03c9\\u03c2 \\u1f04\\u03bd \\u03c4\\u03b9\\u03c2 \\u03c3\\u03c5\\u03b3\\u03b3\\u03c1\\u03ac\\u03c8\\u03b5\\u03b9\\u03b5 \\u03c4\\u1f70 \\u03c4\\u03bf\\u03b9\\u03b1\\u1fe6\\u03c4\\u03b1 \\u03bf\\u1f54\\u03c4\\u03b5 \\u1f10\\u03be\\u03ae\\u03bd\\u03b5\\u03b3\\u03ba\\u03b1 \\u03b5\\u1f30\\u03c2 \\u1f00\\u03bd\\u03b8\\u03c1\\u03ce\\u03c0\\u03bf\\u03c5\\u03c2 \\u03b1\\u1f50\\u03c4\\u03cc\\u03c2, \\u1f45\\u03c2 \\u03b3\\u03b5 \\u03bf\\u1f50\\u03b4\\u1f72 \\u03c3\\u03c5\\u03b3\\u03b3\\u03c1\\u03ac\\u03c8\\u03b1\\u03b9 \\u03c6\\u03b7\\u03bc\\u03af.\"\u001b[39m\n",
       "    ),\n",
       "    \u001b[33mCitableNode\u001b[39m(\n",
       "      \u001b[33mCtsUrn\u001b[39m(\u001b[32m\"urn:cts:greekLit:tlg0557.tlg001.perseus-grc1:0.0.2\"\u001b[39m),\n",
       "      \u001b[32m\"\\u1f45\\u03c3\\u03b1 \\u03b4\\u1f72 \\u1f24\\u03ba\\u03bf\\u03c5\\u03bf\\u03bd \\u03b1\\u1f50\\u03c4\\u03bf\\u1fe6 \\u03bb\\u03ad\\u03b3\\u03bf\\u03bd\\u03c4\\u03bf\\u03c2, \\u03c4\\u03b1\\u1fe6\\u03c4\\u03b1 \\u03b1\\u1f50\\u03c4\\u1f70 \\u1f10\\u03c0\\u03b5\\u03b9\\u03c1\\u03ac\\u03b8\\u03b7\\u03bd \\u03b1\\u1f50\\u03c4\\u03bf\\u1fd6\\u03c2 \\u1f40\\u03bd\\u03cc\\u03bc\\u03b1\\u03c3\\u03b9\\u03bd \\u1f61\\u03c2 \\u03bf\\u1f37\\u03cc\\u03bd \\u03c4\\u03b5 \\u1f26\\u03bd \\u03b3\\u03c1\\u03b1\\u03c8\\u03ac\\u03bc\\u03b5\\u03bd\\u03bf\\u03c2 \\u1f51\\u03c0\\u03bf\\u03bc\\u03bd\\u03ae\\u03bc\\u03b1\\u03c4\\u03b1 \\u03b5\\u1f30\\u03c2 \\u1f55\\u03c3\\u03c4\\u03b5\\u03c1\\u03bf\\u03bd \\u1f10\\u03bc\\u03b1\\u03c5\\u03c4\\u1ff7 \\u03b4\\u03b9\\u03b1\\u03c6\\u03c5\\u03bb\\u03ac\\u03be\\u03b1\\u03b9 \\u03c4\\u1fc6\\u03c2 \\u1f10\\u03ba\\u03b5\\u03af\\u03bd\\u03bf\\u03c5 \\u03b4\\u03b9\\u03b1\\u03bd\\u03bf\\u03af\\u03b1\\u03c2 \\u03ba\\u03b1\\u1f76 \\u03c0\\u03b1\\u03c1\\u03c1\\u03b7\\u03c3\\u03af\\u03b1\\u03c2.\"\u001b[39m\n",
       "    ),\n",
       "    \u001b[33mCitableNode\u001b[39m(\n",
       "      \u001b[33mCtsUrn\u001b[39m(\u001b[32m\"urn:cts:greekLit:tlg0557.tlg001.perseus-grc1:0.0.3\"\u001b[39m),\n",
       "      \u001b[32m\"\\u1f14\\u03c3\\u03c4\\u03b9 \\u03b4\\u1f74 \\u03c4\\u03bf\\u03b9\\u03b1\\u1fe6\\u03c\u001b[39m...\n",
       "\u001b[36mcat\u001b[39m: \u001b[32mCatalog\u001b[39m = \u001b[37m[lazy]\u001b[39m"
      ]
     },
     "metadata": {},
     "output_type": "display_data"
    }
   ],
   "source": [
    "lazy val tr: TextRepository = lib.textRepository.get\n",
    "lazy val corp: Corpus = tr.corpus\n",
    "lazy val cat: Catalog = tr.catalog"
   ]
  },
  {
   "cell_type": "markdown",
   "metadata": {},
   "source": [
    "## Alignment-Specific Setup"
   ]
  },
  {
   "cell_type": "markdown",
   "metadata": {},
   "source": [
    "Alignment collections will be recorded as belonging to this data-model:"
   ]
  },
  {
   "cell_type": "code",
   "execution_count": 8,
   "metadata": {
    "collapsed": true
   },
   "outputs": [
    {
     "data": {
      "text/plain": [
       "\u001b[36malignModel\u001b[39m: \u001b[32mCite2Urn\u001b[39m = \u001b[33mCite2Urn\u001b[39m(\u001b[32m\"urn:cite2:cite:datamodels.v1:alignment\"\u001b[39m)"
      ]
     },
     "execution_count": 8,
     "metadata": {},
     "output_type": "execute_result"
    }
   ],
   "source": [
    "val alignModel = Cite2Urn(\"urn:cite2:cite:datamodels.v1:alignment\")"
   ]
  },
  {
   "cell_type": "markdown",
   "metadata": {},
   "source": [
    "This is the CITE Relations verb that “glues” passages to a given alignment:"
   ]
  },
  {
   "cell_type": "code",
   "execution_count": 9,
   "metadata": {
    "collapsed": true
   },
   "outputs": [
    {
     "data": {
      "text/plain": [
       "\u001b[36malignVerb\u001b[39m: \u001b[32mCite2Urn\u001b[39m = \u001b[33mCite2Urn\u001b[39m(\u001b[32m\"urn:cite2:cite:verbs.v1:aligns\"\u001b[39m)"
      ]
     },
     "execution_count": 9,
     "metadata": {},
     "output_type": "execute_result"
    }
   ],
   "source": [
    "val alignVerb = Cite2Urn(\"urn:cite2:cite:verbs.v1:aligns\")"
   ]
  },
  {
   "cell_type": "markdown",
   "metadata": {},
   "source": [
    "We can get a Vector of Alignment-collections:"
   ]
  },
  {
   "cell_type": "code",
   "execution_count": 10,
   "metadata": {
    "collapsed": true
   },
   "outputs": [
    {
     "data": {
      "text/plain": [
       "\u001b[36malignmentCollections\u001b[39m: \u001b[32mVector\u001b[39m[\u001b[32mCite2Urn\u001b[39m] = \u001b[33mVector\u001b[39m(\n",
       "  \u001b[33mCite2Urn\u001b[39m(\u001b[32m\"urn:cite2:ducat:alignments.temp:\"\u001b[39m)\n",
       ")"
      ]
     },
     "execution_count": 10,
     "metadata": {},
     "output_type": "execute_result"
    }
   ],
   "source": [
    "val alignmentCollections: Vector[Cite2Urn] = lib.collectionsForModel(alignModel)"
   ]
  },
  {
   "cell_type": "markdown",
   "metadata": {},
   "source": [
    "## Aligmnment-Specific Functions"
   ]
  },
  {
   "cell_type": "markdown",
   "metadata": {},
   "source": [
    "(These functions assume values defined above. They do not do elaborate checking for necessary components of a CITE Library, for example. They are not ready to be abstracted out of this notebook!)"
   ]
  },
  {
   "cell_type": "markdown",
   "metadata": {},
   "source": [
    "### `alignmentsForPassage( psg: CtsUrn ): Vector[Cite2Urn]`"
   ]
  },
  {
   "cell_type": "code",
   "execution_count": 11,
   "metadata": {
    "collapsed": true
   },
   "outputs": [
    {
     "data": {
      "text/plain": [
       "defined \u001b[32mfunction\u001b[39m \u001b[36malignmentsForPassage\u001b[39m"
      ]
     },
     "execution_count": 11,
     "metadata": {},
     "output_type": "execute_result"
    }
   ],
   "source": [
    "def alignmentsForPassage( psg: CtsUrn ): Vector[Cite2Urn] = {\n",
    "    \n",
    "    val crs: CiteRelationSet = lib.relationSet.get.verb(alignVerb) // assumption the Option is not None!\n",
    "    // The \"psg\" might be a range or a container, so expand it\n",
    "    val allPsgs: Vector[CtsUrn] = corp.validReff(psg) :+ psg distinct\n",
    "    \n",
    "    val allRelations: Set[CiteTriple] = crs.relations.filter( t => {\n",
    "        allPsgs.contains( t.urn2.asInstanceOf[CtsUrn])\n",
    "    })\n",
    "    \n",
    "    allRelations.map(_.urn1.asInstanceOf[Cite2Urn]).toVector.distinct\n",
    "}"
   ]
  },
  {
   "cell_type": "markdown",
   "metadata": {},
   "source": [
    "Test:"
   ]
  },
  {
   "cell_type": "code",
   "execution_count": 12,
   "metadata": {
    "collapsed": true
   },
   "outputs": [
    {
     "data": {
      "text/plain": [
       "\u001b[36mtestPsgU\u001b[39m: \u001b[32mCtsUrn\u001b[39m = \u001b[33mCtsUrn\u001b[39m(\u001b[32m\"urn:cts:greekLit:tlg0557.tlg002.perseus-grc1:1.1\"\u001b[39m)\n",
       "\u001b[36mtestAlignments\u001b[39m: \u001b[32mVector\u001b[39m[\u001b[32mCite2Urn\u001b[39m] = \u001b[33mVector\u001b[39m(\n",
       "  \u001b[33mCite2Urn\u001b[39m(\u001b[32m\"urn:cite2:ducat:alignments.temp:2020117_5_19_518_0\"\u001b[39m)\n",
       ")"
      ]
     },
     "execution_count": 12,
     "metadata": {},
     "output_type": "execute_result"
    }
   ],
   "source": [
    "val testPsgU = CtsUrn(\"urn:cts:greekLit:tlg0557.tlg002.perseus-grc1:1.1\")\n",
    "val testAlignments: Vector[Cite2Urn] = alignmentsForPassage( testPsgU )\n",
    "assert ( testAlignments.size == 1 )\n",
    "assert ( testAlignments.head == Cite2Urn(\"urn:cite2:ducat:alignments.temp:2020117_5_19_518_0\") )"
   ]
  },
  {
   "cell_type": "markdown",
   "metadata": {},
   "source": [
    "### `passagesForAlignment(  alignment: Cite2Urn  ): Vector[CtsUrn]`"
   ]
  },
  {
   "cell_type": "code",
   "execution_count": 13,
   "metadata": {
    "collapsed": true
   },
   "outputs": [
    {
     "data": {
      "text/plain": [
       "defined \u001b[32mfunction\u001b[39m \u001b[36mpassagesForAlignment\u001b[39m\n",
       "defined \u001b[32mfunction\u001b[39m \u001b[36mpassagesForAlignment\u001b[39m"
      ]
     },
     "execution_count": 13,
     "metadata": {},
     "output_type": "execute_result"
    }
   ],
   "source": [
    "def passagesForAlignment(  alignment: Cite2Urn  ): Vector[CtsUrn] = {\n",
    "    val crs: CiteRelationSet = lib.relationSet.get.verb(alignVerb) // assumption the Option is not None!\n",
    "    val rels: CiteRelationSet = crs.urn1Match(alignment)\n",
    "    val unsortedUrns: Vector[CtsUrn] = rels.relations.map( r => {\n",
    "        r.urn2.asInstanceOf[CtsUrn]\n",
    "    }).toVector\n",
    "    corp.sortPassages(unsortedUrns)\n",
    "}\n",
    "\n",
    "def passagesForAlignment( alignments: Vector[Cite2Urn] ): Vector[CtsUrn] = {\n",
    "    val psgs: Vector[CtsUrn] = alignments.map( a => {\n",
    "        passagesForAlignment( a )\n",
    "    }).flatten\n",
    "    corp.sortPassages(psgs)\n",
    "}"
   ]
  },
  {
   "cell_type": "markdown",
   "metadata": {},
   "source": [
    "Test:"
   ]
  },
  {
   "cell_type": "code",
   "execution_count": 14,
   "metadata": {
    "collapsed": true
   },
   "outputs": [
    {
     "data": {
      "text/plain": [
       "\u001b[36mtestPassages\u001b[39m: \u001b[32mVector\u001b[39m[\u001b[32mCtsUrn\u001b[39m] = \u001b[33mVector\u001b[39m(\n",
       "  \u001b[33mCtsUrn\u001b[39m(\u001b[32m\"urn:cts:greekLit:tlg0557.tlg002.perseus-grc1:1.1\"\u001b[39m),\n",
       "  \u001b[33mCtsUrn\u001b[39m(\u001b[32m\"urn:cts:greekLit:tlg0557.tlg001.perseus-grc1:1.22.10\"\u001b[39m),\n",
       "  \u001b[33mCtsUrn\u001b[39m(\u001b[32m\"urn:cts:greekLit:tlg0557.tlg001.perseus-grc1:2.14.22\"\u001b[39m),\n",
       "  \u001b[33mCtsUrn\u001b[39m(\u001b[32m\"urn:cts:greekLit:tlg0557.tlg001.perseus-grc1:3.26.34\"\u001b[39m)\n",
       ")"
      ]
     },
     "execution_count": 14,
     "metadata": {},
     "output_type": "execute_result"
    }
   ],
   "source": [
    "val testPassages: Vector[CtsUrn] = passagesForAlignment( testAlignments.head )\n",
    "assert( testPassages.size == 4 )\n"
   ]
  },
  {
   "cell_type": "markdown",
   "metadata": {},
   "source": [
    "### `textsForAlignment( alignment: Cite2Urn): Vector[Corpus]`"
   ]
  },
  {
   "cell_type": "code",
   "execution_count": 15,
   "metadata": {
    "collapsed": true
   },
   "outputs": [
    {
     "data": {
      "text/plain": [
       "defined \u001b[32mfunction\u001b[39m \u001b[36mtextsForAlignment\u001b[39m\n",
       "defined \u001b[32mfunction\u001b[39m \u001b[36mtextsForAlignment\u001b[39m"
      ]
     },
     "execution_count": 15,
     "metadata": {},
     "output_type": "execute_result"
    }
   ],
   "source": [
    "def textsForAlignment( alignment: Cite2Urn): Vector[Corpus] = {\n",
    "    val psgs: Vector[CtsUrn] = passagesForAlignment( alignment )\n",
    "    (corp ~~ psgs).chunkByText\n",
    "}\n",
    "\n",
    "def textsForAlignment( alignments: Vector[Cite2Urn] ): Vector[Corpus] = {\n",
    "    val psgs: Vector[CtsUrn] = alignments.map( a => {\n",
    "        passagesForAlignment(a)\n",
    "    }).flatten\n",
    "    (corp ~~ psgs).chunkByText\n",
    "}"
   ]
  },
  {
   "cell_type": "markdown",
   "metadata": {},
   "source": [
    "Test:"
   ]
  },
  {
   "cell_type": "code",
   "execution_count": 16,
   "metadata": {
    "collapsed": true
   },
   "outputs": [
    {
     "name": "stdout",
     "output_type": "stream",
     "text": [
      "---------\n",
      "CORPUS\n",
      "urn:cts:greekLit:tlg0557.tlg002.perseus-grc1:\n",
      "\n",
      "1.1\t\tτῶν ὄντων τὰ μέν ἐστιν ἐφʼ ἡμῖν, τὰ δὲ οὐκ ἐφʼ ἡμῖν. ἐφʼ ἡμῖν μὲν ὑπόληψις, ὁρμή, ὄρεξις, ἔκκλισις καὶ ἑνὶ λόγῳ ὅσα ἡμέτερα ἔργα· οὐκ ἐφʼ ἡμῖν δὲ τὸ σῶμα, ἡ κτῆσις, δόξαι, ἀρχαὶ καὶ ἑνὶ λόγῳ ὅσα οὐχ ἡμέτερα ἔργα.\n",
      "\n",
      "---------\n",
      "CORPUS\n",
      "urn:cts:greekLit:tlg0557.tlg001.perseus-grc1:\n",
      "\n",
      "1.22.10\t\tὅτι τῶν ὄντων τὰ μέν ἐστιν ἐφʼ ἡμῖν, τὰ δὲ οὐκ ἐφʼ ἡμῖν· ἐφʼ ἡμῖν μὲν προαίρεσις καὶ πάντα τὰ προαιρετικὰ ἔργα, οὐκ ἐφʼ ἡμῖν δὲ τὸ σῶμα, τὰ μέρη τοῦ σώματος, κτήσεις, γονεῖς, ἀδελφοὶ, τέκνα, πατρίς, ἁπλῶς οἱ κοινωνοί.\n",
      "2.14.22\t\tἐὰν δέ τινι εἴπῃς αἱ ὀρέξεις σου φλεγμαίνουσιν, αἱ ἐκκλίσεις ταπειναί εἰσιν, αἱ ἐπιβολαὶ ἀνομολογούμεναι, αἱ ὁρμαὶ ἀσύμφωνοι τῇ φύσει, αἱ ὑπολήψεις εἰκαῖαι καὶ ἐψευσμέναι, εὐθὺς ἐξελθὼν λέγει ὕβρισέν με.\n",
      "3.26.34\t\tοὐ δόξῃ οὐδὲ χρήμασιν οὐδʼ ἀρχαῖς, ἀλλʼ ἀλκῇ τῇ ἑαυτοῦ, τοῦτʼ ἔστι δόγμασι περὶ τῶν ἐφʼ ἡμῖν καὶ οὐκ ἐφʼ ἡμῖν.\n",
      "\n"
     ]
    },
    {
     "data": {
      "text/plain": [
       "\u001b[36mtestTexts\u001b[39m: \u001b[32mVector\u001b[39m[\u001b[32mCorpus\u001b[39m] = \u001b[33mVector\u001b[39m(\n",
       "  \u001b[33mCorpus\u001b[39m(\n",
       "    \u001b[33mVector\u001b[39m(\n",
       "      \u001b[33mCitableNode\u001b[39m(\n",
       "        \u001b[33mCtsUrn\u001b[39m(\u001b[32m\"urn:cts:greekLit:tlg0557.tlg002.perseus-grc1:1.1\"\u001b[39m),\n",
       "        \u001b[32m\"\\u03c4\\u1ff6\\u03bd \\u1f44\\u03bd\\u03c4\\u03c9\\u03bd \\u03c4\\u1f70 \\u03bc\\u03ad\\u03bd \\u1f10\\u03c3\\u03c4\\u03b9\\u03bd \\u1f10\\u03c6\\u02bc \\u1f21\\u03bc\\u1fd6\\u03bd, \\u03c4\\u1f70 \\u03b4\\u1f72 \\u03bf\\u1f50\\u03ba \\u1f10\\u03c6\\u02bc \\u1f21\\u03bc\\u1fd6\\u03bd. \\u1f10\\u03c6\\u02bc \\u1f21\\u03bc\\u1fd6\\u03bd \\u03bc\\u1f72\\u03bd \\u1f51\\u03c0\\u03cc\\u03bb\\u03b7\\u03c8\\u03b9\\u03c2, \\u1f41\\u03c1\\u03bc\\u03ae, \\u1f44\\u03c1\\u03b5\\u03be\\u03b9\\u03c2, \\u1f14\\u03ba\\u03ba\\u03bb\\u03b9\\u03c3\\u03b9\\u03c2 \\u03ba\\u03b1\\u1f76 \\u1f11\\u03bd\\u1f76 \\u03bb\\u03cc\\u03b3\\u1ff3 \\u1f45\\u03c3\\u03b1 \\u1f21\\u03bc\\u03ad\\u03c4\\u03b5\\u03c1\\u03b1 \\u1f14\\u03c1\\u03b3\\u03b1\\u00b7 \\u03bf\\u1f50\\u03ba \\u1f10\\u03c6\\u02bc \\u1f21\\u03bc\\u1fd6\\u03bd \\u03b4\\u1f72 \\u03c4\\u1f78 \\u03c3\\u1ff6\\u03bc\\u03b1, \\u1f21 \\u03ba\\u03c4\\u1fc6\\u03c3\\u03b9\\u03c2, \\u03b4\\u03cc\\u03be\\u03b1\\u03b9, \\u1f00\\u03c1\\u03c7\\u03b1\\u1f76 \\u03ba\\u03b1\\u1f76 \\u1f11\\u03bd\\u1f76 \\u03bb\\u03cc\\u03b3\\u1ff3 \\u1f45\\u03c3\\u03b1 \\u03bf\\u1f50\\u03c7 \\u1f21\\u03bc\\u03ad\\u03c4\\u03b5\\u03c1\\u03b1 \\u1f14\\u03c1\\u03b3\\u03b1.\"\u001b[39m\n",
       "      )\n",
       "    )\n",
       "  ),\n",
       "  \u001b[33mCorpus\u001b[39m(\n",
       "    \u001b[33mVector\u001b[39m(\n",
       "      \u001b[33mCitableNode\u001b[39m(\n",
       "        \u001b[33mCtsUrn\u001b[39m(\u001b[32m\"urn:cts:greekLit:tlg0557.tlg001.perseus-grc1:1.22.10\"\u001b[39m),\n",
       "        \u001b[32m\"\\u1f45\\u03c4\\u03b9 \\u03c4\\u1ff6\\u03bd \\u1f44\\u03bd\\u03c4\\u03c9\\u03bd \\u03c4\\u1f70 \\u03bc\\u03ad\\u03bd \\u1f10\\u03c3\\u03c4\\u03b9\\u03bd \\u1f10\\u03c6\\u02bc \\u1f21\\u03bc\\u1fd6\\u03bd, \\u03c4\\u1f70 \\u03b4\\u1f72 \\u03bf\\u1f50\\u03ba \\u1f10\\u03c6\\u02bc \\u1f21\\u03bc\\u1fd6\\u03bd\\u00b7 \\u1f10\\u03c6\\u02bc \\u1f21\\u03bc\\u1fd6\\u03bd \\u03bc\\u1f72\\u03bd \\u03c0\\u03c1\\u03bf\\u03b1\\u03af\\u03c1\\u03b5\\u03c3\\u03b9\\u03c2 \\u03ba\\u03b1\\u1f76 \\u03c0\\u03ac\\u03bd\\u03c4\\u03b1 \\u03c4\\u1f70 \\u03c0\\u03c1\\u03bf\\u03b1\\u03b9\\u03c1\\u03b5\\u03c4\\u03b9\\u03ba\\u1f70 \\u1f14\\u03c1\\u03b3\\u03b1, \\u03bf\\u1f50\\u03ba \\u1f10\\u03c6\\u02bc \\u1f21\\u03bc\\u1fd6\\u03bd \\u03b4\\u1f72 \\u03c4\\u1f78 \\u03c3\\u1ff6\\u03bc\\u03b1, \\u03c4\\u1f70 \\u03bc\\u03ad\\u03c1\\u03b7 \\u03c4\\u03bf\\u1fe6 \\u03c3\\u03ce\\u03bc\\u03b1\\u03c4\\u03bf\\u03c2, \\u03ba\\u03c4\\u03ae\\u03c3\\u03b5\\u03b9\\u03c2, \\u03b3\\u03bf\\u03bd\\u03b5\\u1fd6\\u03c2, \\u1f00\\u03b4\\u03b5\\u03bb\\u03c6\\u03bf\\u1f76, \\u03c4\\u03ad\\u03ba\\u03bd\\u03b1, \\u03c0\\u03b1\\u03c4\\u03c1\\u03af\\u03c2, \\u1f01\\u03c0\\u03bb\\u1ff6\\u03c2 \\u03bf\\u1f31 \\u03ba\\u03bf\\u03b9\\u03bd\\u03c9\\u03bd\\u03bf\\u03af.\"\u001b[39m\n",
       "..."
      ]
     },
     "execution_count": 16,
     "metadata": {},
     "output_type": "execute_result"
    }
   ],
   "source": [
    "val testTexts: Vector[Corpus] = textsForAlignment( testAlignments.head )\n",
    "assert( testTexts.size == 2 )\n",
    "showMe(testTexts)"
   ]
  },
  {
   "cell_type": "markdown",
   "metadata": {},
   "source": [
    "### `alignedTexts( psg: CtsUrn ): Vector[Corpus]`"
   ]
  },
  {
   "cell_type": "code",
   "execution_count": 17,
   "metadata": {
    "collapsed": true
   },
   "outputs": [
    {
     "data": {
      "text/plain": [
       "defined \u001b[32mfunction\u001b[39m \u001b[36malignedTexts\u001b[39m\n",
       "defined \u001b[32mfunction\u001b[39m \u001b[36malignedTexts\u001b[39m"
      ]
     },
     "execution_count": 17,
     "metadata": {},
     "output_type": "execute_result"
    }
   ],
   "source": [
    "def alignedTexts( psg: CtsUrn ): Vector[Corpus] = {\n",
    "    val alignments: Vector[Cite2Urn] = alignmentsForPassage(psg)\n",
    "    val texts: Vector[Corpus] = textsForAlignment( alignments )\n",
    "    texts\n",
    "}\n",
    "\n",
    "def alignedTexts( psgs: Vector[CtsUrn] ): Vector[Corpus] = {\n",
    "    \n",
    "    val alignments: Vector[Cite2Urn] = psgs.map ( p => {\n",
    "        alignmentsForPassage(p)\n",
    "    }).flatten\n",
    "    val texts: Vector[Corpus] = textsForAlignment( alignments )\n",
    "    texts\n",
    "}"
   ]
  },
  {
   "cell_type": "markdown",
   "metadata": {},
   "source": [
    "Test:"
   ]
  },
  {
   "cell_type": "code",
   "execution_count": 18,
   "metadata": {
    "collapsed": true
   },
   "outputs": [
    {
     "name": "stdout",
     "output_type": "stream",
     "text": [
      "---------\n",
      "CORPUS\n",
      "urn:cts:greekLit:tlg0557.tlg002.perseus-grc1:\n",
      "\n",
      "1.1\t\tτῶν ὄντων τὰ μέν ἐστιν ἐφʼ ἡμῖν, τὰ δὲ οὐκ ἐφʼ ἡμῖν. ἐφʼ ἡμῖν μὲν ὑπόληψις, ὁρμή, ὄρεξις, ἔκκλισις καὶ ἑνὶ λόγῳ ὅσα ἡμέτερα ἔργα· οὐκ ἐφʼ ἡμῖν δὲ τὸ σῶμα, ἡ κτῆσις, δόξαι, ἀρχαὶ καὶ ἑνὶ λόγῳ ὅσα οὐχ ἡμέτερα ἔργα.\n",
      "\n",
      "---------\n",
      "CORPUS\n",
      "urn:cts:greekLit:tlg0557.tlg001.perseus-grc1:\n",
      "\n",
      "1.22.10\t\tὅτι τῶν ὄντων τὰ μέν ἐστιν ἐφʼ ἡμῖν, τὰ δὲ οὐκ ἐφʼ ἡμῖν· ἐφʼ ἡμῖν μὲν προαίρεσις καὶ πάντα τὰ προαιρετικὰ ἔργα, οὐκ ἐφʼ ἡμῖν δὲ τὸ σῶμα, τὰ μέρη τοῦ σώματος, κτήσεις, γονεῖς, ἀδελφοὶ, τέκνα, πατρίς, ἁπλῶς οἱ κοινωνοί.\n",
      "2.14.22\t\tἐὰν δέ τινι εἴπῃς αἱ ὀρέξεις σου φλεγμαίνουσιν, αἱ ἐκκλίσεις ταπειναί εἰσιν, αἱ ἐπιβολαὶ ἀνομολογούμεναι, αἱ ὁρμαὶ ἀσύμφωνοι τῇ φύσει, αἱ ὑπολήψεις εἰκαῖαι καὶ ἐψευσμέναι, εὐθὺς ἐξελθὼν λέγει ὕβρισέν με.\n",
      "3.26.34\t\tοὐ δόξῃ οὐδὲ χρήμασιν οὐδʼ ἀρχαῖς, ἀλλʼ ἀλκῇ τῇ ἑαυτοῦ, τοῦτʼ ἔστι δόγμασι περὶ τῶν ἐφʼ ἡμῖν καὶ οὐκ ἐφʼ ἡμῖν.\n",
      "\n",
      "---------\n",
      "CORPUS\n",
      "urn:cts:greekLit:tlg0557.tlg002.perseus-grc1:\n",
      "\n",
      "1.1\t\tτῶν ὄντων τὰ μέν ἐστιν ἐφʼ ἡμῖν, τὰ δὲ οὐκ ἐφʼ ἡμῖν. ἐφʼ ἡμῖν μὲν ὑπόληψις, ὁρμή, ὄρεξις, ἔκκλισις καὶ ἑνὶ λόγῳ ὅσα ἡμέτερα ἔργα· οὐκ ἐφʼ ἡμῖν δὲ τὸ σῶμα, ἡ κτῆσις, δόξαι, ἀρχαὶ καὶ ἑνὶ λόγῳ ὅσα οὐχ ἡμέτερα ἔργα.\n",
      "1.2\t\tκαὶ τὰ μὲν ἐφʼ ἡμῖν ἐστι φύσει ἐλεύθερα, ἀκώλυτα, ἀπαραπόδιστα, τὰ δὲ οὐκ ἐφʼ ἡμῖν ἀσθενῆ, δοῦλα, κωλυτά, ἀλλότρια. μέμνησο οὖν,\n",
      "\n",
      "---------\n",
      "CORPUS\n",
      "urn:cts:greekLit:tlg0557.tlg001.perseus-grc1:\n",
      "\n",
      "1.22.10\t\tὅτι τῶν ὄντων τὰ μέν ἐστιν ἐφʼ ἡμῖν, τὰ δὲ οὐκ ἐφʼ ἡμῖν· ἐφʼ ἡμῖν μὲν προαίρεσις καὶ πάντα τὰ προαιρετικὰ ἔργα, οὐκ ἐφʼ ἡμῖν δὲ τὸ σῶμα, τὰ μέρη τοῦ σώματος, κτήσεις, γονεῖς, ἀδελφοὶ, τέκνα, πατρίς, ἁπλῶς οἱ κοινωνοί.\n",
      "2.14.22\t\tἐὰν δέ τινι εἴπῃς αἱ ὀρέξεις σου φλεγμαίνουσιν, αἱ ἐκκλίσεις ταπειναί εἰσιν, αἱ ἐπιβολαὶ ἀνομολογούμεναι, αἱ ὁρμαὶ ἀσύμφωνοι τῇ φύσει, αἱ ὑπολήψεις εἰκαῖαι καὶ ἐψευσμέναι, εὐθὺς ἐξελθὼν λέγει ὕβρισέν με.\n",
      "3.26.34\t\tοὐ δόξῃ οὐδὲ χρήμασιν οὐδʼ ἀρχαῖς, ἀλλʼ ἀλκῇ τῇ ἑαυτοῦ, τοῦτʼ ἔστι δόγμασι περὶ τῶν ἐφʼ ἡμῖν καὶ οὐκ ἐφʼ ἡμῖν.\n",
      "1.25.3\t\t— ἀλλὰ ἔντειλαί μοι. — τί σοι ἐντείλωμαι; ὁ Ζεύς σοι οὐκ ἐντέταλται; οὐ δέδωκέν σοι τὰ μὲν σὰ ἀκώλυςτα καὶ ἀπαραπόδιστα, τὰ δὲ μὴ σὰ κωλυτὰ καὶ παραποδιστά;\n",
      "2.2.3\t\tτὰ γὰρ ἐπὶ σοὶ αὐτεξούσια καὶ φύσει ἐλεύθερα θέλων τηρῆσαι καὶ τούτοις ἀρκούμενος τίνος ἔτι ἐπιστρέφῃ; τίς γὰρ αὐτῶν κύριος, τίς αὐτὰ δύναται ἀφελέσθαι;\n",
      "2.15.1\t\tὅταν ἀκούσωσί τινες τούτων τῶν λόγων, ὅτι βέβαιον εἶναι δεῖ καὶ ἡ μὲν προαίρεσις ἐλεύθερον φύσει καὶ ἀνανάγκαστον, τὰ δʼ ἄλλα κωλυτά, ἀναγκαστά, δοῦλα, ἀλλότρια, φαντάζονται ὅτι δεῖ παντὶ τῷ κριθέντι ὑπʼ αὐτῶν ἀπαραβάτως ἐμμένειν.\n",
      "2.19.32\t\tοὐκ ἔστι διδακτὸν τὸ πρᾶγμα; διδακτόν. οὐκ ἔστιν οὖν ἐφʼ ἡμῖν; μόνον μὲν οὖν τῶν ἄλλων πάντων. οὔτε πλοῦτός ἐστιν ἐφʼ ἡμῖν οὔθʼ ὑγίεια οὔτε δόξα οὔτε ἄλλο τι ἁπλῶς πλὴν ὀρθὴ χρῆσις φαντασιῶν. τοῦτο ἀκώλυτον φύσει μόνον, τοῦτο ἀνεμπόδιστον.\n",
      "3.22.101\t\tμέμνηται γάρ, ὅτι τὸ χεῖρον ἀνάγκη νικᾶσθαι ὑπὸ τοῦ κρείττονος, ὅπου χεῖρόν ἐστιν, τὸ δὲ σωμάτιον τῶν πολλῶν χεῖρον, τὸ ἀσθενέστερον τῶν ἰσχυροτέρων.\n",
      "4.1.129\t\tτίς δʼ ἀκώλυτος; ὁ μηδενὸς τῶν ἀλλοτρίων ἐφιέμενος. τίνα δʼ ἀλλότρια; ἃ οὐκ ἔστιν ἐφʼ ἡμῖν οὔτʼ ἔχειν οὔτε μὴ ἔχειν οὔτε ποιὰ ἔχειν ἢ πῶς ἔχοντα.\n",
      "\n"
     ]
    },
    {
     "data": {
      "text/plain": [
       "\u001b[36mtestAlignedTexts1\u001b[39m: \u001b[32mVector\u001b[39m[\u001b[32mCorpus\u001b[39m] = \u001b[33mVector\u001b[39m(\n",
       "  \u001b[33mCorpus\u001b[39m(\n",
       "    \u001b[33mVector\u001b[39m(\n",
       "      \u001b[33mCitableNode\u001b[39m(\n",
       "        \u001b[33mCtsUrn\u001b[39m(\u001b[32m\"urn:cts:greekLit:tlg0557.tlg002.perseus-grc1:1.1\"\u001b[39m),\n",
       "        \u001b[32m\"\\u03c4\\u1ff6\\u03bd \\u1f44\\u03bd\\u03c4\\u03c9\\u03bd \\u03c4\\u1f70 \\u03bc\\u03ad\\u03bd \\u1f10\\u03c3\\u03c4\\u03b9\\u03bd \\u1f10\\u03c6\\u02bc \\u1f21\\u03bc\\u1fd6\\u03bd, \\u03c4\\u1f70 \\u03b4\\u1f72 \\u03bf\\u1f50\\u03ba \\u1f10\\u03c6\\u02bc \\u1f21\\u03bc\\u1fd6\\u03bd. \\u1f10\\u03c6\\u02bc \\u1f21\\u03bc\\u1fd6\\u03bd \\u03bc\\u1f72\\u03bd \\u1f51\\u03c0\\u03cc\\u03bb\\u03b7\\u03c8\\u03b9\\u03c2, \\u1f41\\u03c1\\u03bc\\u03ae, \\u1f44\\u03c1\\u03b5\\u03be\\u03b9\\u03c2, \\u1f14\\u03ba\\u03ba\\u03bb\\u03b9\\u03c3\\u03b9\\u03c2 \\u03ba\\u03b1\\u1f76 \\u1f11\\u03bd\\u1f76 \\u03bb\\u03cc\\u03b3\\u1ff3 \\u1f45\\u03c3\\u03b1 \\u1f21\\u03bc\\u03ad\\u03c4\\u03b5\\u03c1\\u03b1 \\u1f14\\u03c1\\u03b3\\u03b1\\u00b7 \\u03bf\\u1f50\\u03ba \\u1f10\\u03c6\\u02bc \\u1f21\\u03bc\\u1fd6\\u03bd \\u03b4\\u1f72 \\u03c4\\u1f78 \\u03c3\\u1ff6\\u03bc\\u03b1, \\u1f21 \\u03ba\\u03c4\\u1fc6\\u03c3\\u03b9\\u03c2, \\u03b4\\u03cc\\u03be\\u03b1\\u03b9, \\u1f00\\u03c1\\u03c7\\u03b1\\u1f76 \\u03ba\\u03b1\\u1f76 \\u1f11\\u03bd\\u1f76 \\u03bb\\u03cc\\u03b3\\u1ff3 \\u1f45\\u03c3\\u03b1 \\u03bf\\u1f50\\u03c7 \\u1f21\\u03bc\\u03ad\\u03c4\\u03b5\\u03c1\\u03b1 \\u1f14\\u03c1\\u03b3\\u03b1.\"\u001b[39m\n",
       "      )\n",
       "    )\n",
       "  ),\n",
       "  \u001b[33mCorpus\u001b[39m(\n",
       "    \u001b[33mVector\u001b[39m(\n",
       "      \u001b[33mCitableNode\u001b[39m(\n",
       "        \u001b[33mCtsUrn\u001b[39m(\u001b[32m\"urn:cts:greekLit:tlg0557.tlg001.perseus-grc1:1.22.10\"\u001b[39m),\n",
       "        \u001b[32m\"\\u1f45\\u03c4\\u03b9 \\u03c4\\u1ff6\\u03bd \\u1f44\\u03bd\\u03c4\\u03c9\\u03bd \\u03c4\\u1f70 \\u03bc\\u03ad\\u03bd \\u1f10\\u03c3\\u03c4\\u03b9\\u03bd \\u1f10\\u03c6\\u02bc \\u1f21\\u03bc\\u1fd6\\u03bd, \\u03c4\\u1f70 \\u03b4\\u1f72 \\u03bf\\u1f50\\u03ba \\u1f10\\u03c6\\u02bc \\u1f21\\u03bc\\u1fd6\\u03bd\\u00b7 \\u1f10\\u03c6\\u02bc \\u1f21\\u03bc\\u1fd6\\u03bd \\u03bc\\u1f72\\u03bd \\u03c0\\u03c1\\u03bf\\u03b1\\u03af\\u03c1\\u03b5\\u03c3\\u03b9\\u03c2 \\u03ba\\u03b1\\u1f76 \\u03c0\\u03ac\\u03bd\\u03c4\\u03b1 \\u03c4\\u1f70 \\u03c0\\u03c1\\u03bf\\u03b1\\u03b9\\u03c1\\u03b5\\u03c4\\u03b9\\u03ba\\u1f70 \\u1f14\\u03c1\\u03b3\\u03b1, \\u03bf\\u1f50\\u03ba \\u1f10\\u03c6\\u02bc \\u1f21\\u03bc\\u1fd6\\u03bd \\u03b4\\u1f72 \\u03c4\\u1f78 \\u03c3\\u1ff6\\u03bc\\u03b1, \\u03c4\\u1f70 \\u03bc\\u03ad\\u03c1\\u03b7 \\u03c4\\u03bf\\u1fe6 \\u03c3\\u03ce\\u03bc\\u03b1\\u03c4\\u03bf\\u03c2, \\u03ba\\u03c4\\u03ae\\u03c3\\u03b5\\u03b9\\u03c2, \\u03b3\\u03bf\\u03bd\\u03b5\\u1fd6\\u03c2, \\u1f00\\u03b4\\u03b5\\u03bb\\u03c6\\u03bf\\u1f76, \\u03c4\\u03ad\\u03ba\\u03bd\\u03b1, \\u03c0\\u03b1\\u03c4\\u03c1\\u03af\\u03c2, \\u1f01\\u03c0\\u03bb\\u1ff6\\u03c2 \\u03bf\\u1f31 \\u03ba\\u03bf\\u03b9\\u03bd\\u03c9\\u03bd\\u03bf\\u03af.\"\u001b[39m\n",
       "...\n",
       "\u001b[36mtestPsgsVec\u001b[39m: \u001b[32mVector\u001b[39m[\u001b[32mCtsUrn\u001b[39m] = \u001b[33mVector\u001b[39m(\n",
       "  \u001b[33mCtsUrn\u001b[39m(\u001b[32m\"urn:cts:greekLit:tlg0557.tlg002.perseus-grc1:1.1\"\u001b[39m),\n",
       "  \u001b[33mCtsUrn\u001b[39m(\u001b[32m\"urn:cts:greekLit:tlg0557.tlg002.perseus-grc1:1.2\"\u001b[39m)\n",
       ")\n",
       "\u001b[36mtestAlignedTexts2\u001b[39m: \u001b[32mVector\u001b[39m[\u001b[32mCorpus\u001b[39m] = \u001b[33mVector\u001b[39m(\n",
       "  \u001b[33mCorpus\u001b[39m(\n",
       "    \u001b[33mVector\u001b[39m(\n",
       "      \u001b[33mCitableNode\u001b[39m(\n",
       "        \u001b[33mCtsUrn\u001b[39m(\u001b[32m\"urn:cts:greekLit:tlg0557.tlg002.perseus-grc1:1.1\"\u001b[39m),\n",
       "        \u001b[32m\"\\u03c4\\u1ff6\\u03bd \\u1f44\\u03bd\\u03c4\\u03c9\\u03bd \\u03c4\\u1f70 \\u03bc\\u03ad\\u03bd \\u1f10\\u03c3\\u03c4\\u03b9\\u03bd \\u1f10\\u03c6\\u02bc \\u1f21\\u03bc\\u1fd6\\u03bd, \\u03c4\\u1f70 \\u03b4\\u1f72 \\u03bf\\u1f50\\u03ba \\u1f10\\u03c6\\u02bc \\u1f21\\u03bc\\u1fd6\\u03bd. \\u1f10\\u03c6\\u02bc \\u1f21\\u03bc\\u1fd6\\u03bd \\u03bc\\u1f72\\u03bd \\u1f51\\u03c0\\u03cc\\u03bb\\u03b7\\u03c8\\u03b9\\u03c2, \\u1f41\\u03c1\\u03bc\\u03ae, \\u1f44\\u03c1\\u03b5\\u03be\\u03b9\\u03c2, \\u1f14\\u03ba\\u03ba\\u03bb\\u03b9\\u03c3\\u03b9\\u03c2 \\u03ba\\u03b1\\u1f76 \\u1f11\\u03bd\\u1f76 \\u03bb\\u03cc\\u03b3\\u1ff3 \\u1f45\\u03c3\\u03b1 \\u1f21\\u03bc\\u03ad\\u03c4\\u03b5\\u03c1\\u03b1 \\u1f14\\u03c1\\u03b3\\u03b1\\u00b7 \\u03bf\\u1f50\\u03ba \\u1f10\\u03c6\\u02bc \\u1f21\\u03bc\\u1fd6\\u03bd \\u03b4\\u1f72 \\u03c4\\u1f78 \\u03c3\\u1ff6\\u03bc\\u03b1, \\u1f21 \\u03ba\\u03c4\\u1fc6\\u03c3\\u03b9\\u03c2, \\u03b4\\u03cc\\u03be\\u03b1\\u03b9, \\u1f00\\u03c1\\u03c7\\u03b1\\u1f76 \\u03ba\\u03b1\\u1f76 \\u1f11\\u03bd\\u1f76 \\u03bb\\u03cc\\u03b3\\u1ff3 \\u1f45\\u03c3\\u03b1 \\u03bf\\u1f50\\u03c7 \\u1f21\\u03bc\\u03ad\\u03c4\\u03b5\\u03c1\\u03b1 \\u1f14\\u03c1\\u03b3\\u03b1.\"\u001b[39m\n",
       "      ),\n",
       "      \u001b[33mCitableNode\u001b[39m(\n",
       "        \u001b[33mCtsUrn\u001b[39m(\u001b[32m\"urn:cts:greekLit:tlg0557.tlg002.perseus-grc1:1.2\"\u001b[39m),\n",
       "        \u001b[32m\"\\u03ba\\u03b1\\u1f76 \\u03c4\\u1f70 \\u03bc\\u1f72\\u03bd \\u1f10\\u03c6\\u02bc \\u1f21\\u03bc\\u1fd6\\u03bd \\u1f10\\u03c3\\u03c4\\u03b9 \\u03c6\\u03cd\\u03c3\\u03b5\\u03b9 \\u1f10\\u03bb\\u03b5\\u03cd\\u03b8\\u03b5\\u03c1\\u03b1, \\u1f00\\u03ba\\u03ce\\u03bb\\u03c5\\u03c4\\u03b1, \\u1f00\\u03c0\\u03b1\\u03c1\\u03b1\\u03c0\\u03cc\\u03b4\\u03b9\\u03c3\\u03c4\\u03b1, \\u03c4\\u1f70 \\u03b4\\u1f72 \\u03bf\\u1f50\\u03ba \\u1f10\\u03c6\\u02bc \\u1f21\\u03bc\\u1fd6\\u03bd \\u1f00\\u03c3\\u03b8\\u03b5\\u03bd\\u1fc6, \\u03b4\\u03bf\\u1fe6\\u03bb\\u03b1, \\u03ba\\u03c9\\u03bb\\u03c5\\u03c4\\u03ac, \\u1f00\\u03bb\\u03bb\\u03cc\\u03c4\\u03c1\\u03b9\\u03b1. \\u03bc\\u03ad\\u03bc\\u03bd\\u03b7\\u03c3\\u03bf \\u03bf\\u1f56\\u03bd,\"\u001b[39m\n",
       "      )\n",
       "    )\n",
       "  ),\n",
       "  \u001b[33mCorpus\u001b[39m(\n",
       "    \u001b[33mVector\u001b[39m(\n",
       "      \u001b[33mCitableNode\u001b[39m(\n",
       "        \u001b[33mCtsUrn\u001b[39m(\u001b[32m\"urn:cts:greekLit:tlg0557.tlg001.perseus-grc1:1.22.10\"\u001b[39m),\n",
       "        \u001b[32m\"\\u1f45\\u03c4\\u03b9 \\u03c4\\u1ff6\\u03bd \\u1f44\\u03bd\\u03c4\\u03c9\\u03bd \\u03c4\\u1f70 \\u03bc\\u03ad\\u03bd \\u1f10\\u03c3\\u03c4\\u03b9\\u03bd \\u1f10\\u03c6\\u02bc \\u1f21\\u03bc\\u1fd6\\u03bd, \\u03c4\\u1f70 \\u03b4\\u1f72 \\u03bf\\u1f50\\u03ba \\u1f10\\u0\u001b[39m..."
      ]
     },
     "execution_count": 18,
     "metadata": {},
     "output_type": "execute_result"
    }
   ],
   "source": [
    "val testAlignedTexts1: Vector[Corpus] = alignedTexts(testPsgU)\n",
    "assert( testAlignedTexts1.size == 2 )\n",
    "showMe(testAlignedTexts1)\n",
    "\n",
    "val testPsgsVec: Vector[CtsUrn] = {\n",
    "    Vector(\n",
    "        CtsUrn(\"urn:cts:greekLit:tlg0557.tlg002.perseus-grc1:1.1\"),\n",
    "        CtsUrn(\"urn:cts:greekLit:tlg0557.tlg002.perseus-grc1:1.2\")\n",
    "    )\n",
    "}\n",
    "val testAlignedTexts2: Vector[Corpus] = alignedTexts(testPsgsVec)\n",
    "assert( testAlignedTexts2.size == 2 )\n",
    "showMe(testAlignedTexts2)"
   ]
  },
  {
   "cell_type": "markdown",
   "metadata": {},
   "source": [
    "# Playground"
   ]
  },
  {
   "cell_type": "markdown",
   "metadata": {},
   "source": [
    "## Epictetus-Specific Things"
   ]
  },
  {
   "cell_type": "markdown",
   "metadata": {},
   "source": [
    "Make URN work easier:"
   ]
  },
  {
   "cell_type": "code",
   "execution_count": 19,
   "metadata": {
    "collapsed": true
   },
   "outputs": [
    {
     "data": {
      "text/plain": [
       "\u001b[36mepictetusUrn\u001b[39m: \u001b[32mCtsUrn\u001b[39m = \u001b[33mCtsUrn\u001b[39m(\u001b[32m\"urn:cts:greekLit:tlg0557:\"\u001b[39m)\n",
       "\u001b[36mepitomeUrn\u001b[39m: \u001b[32mCtsUrn\u001b[39m = \u001b[33mCtsUrn\u001b[39m(\u001b[32m\"urn:cts:greekLit:tlg0557.tlg001.perseus-grc1:\"\u001b[39m)\n",
       "\u001b[36menchUrn\u001b[39m: \u001b[32mCtsUrn\u001b[39m = \u001b[33mCtsUrn\u001b[39m(\u001b[32m\"urn:cts:greekLit:tlg0557.tlg002.perseus-grc1:\"\u001b[39m)"
      ]
     },
     "execution_count": 19,
     "metadata": {},
     "output_type": "execute_result"
    }
   ],
   "source": [
    "val epictetusUrn = CtsUrn(\"urn:cts:greekLit:tlg0557:\")\n",
    "val epitomeUrn = CtsUrn(\"urn:cts:greekLit:tlg0557.tlg001.perseus-grc1:\")\n",
    "val enchUrn = CtsUrn(\"urn:cts:greekLit:tlg0557.tlg002.perseus-grc1:\")\n"
   ]
  },
  {
   "cell_type": "markdown",
   "metadata": {},
   "source": [
    "## See Alignments for a Passage"
   ]
  },
  {
   "cell_type": "markdown",
   "metadata": {},
   "source": [
    "**Edit This!** A passage of the Encheiridion:"
   ]
  },
  {
   "cell_type": "code",
   "execution_count": 22,
   "metadata": {},
   "outputs": [
    {
     "data": {
      "text/plain": [
       "\u001b[36mmyPassage\u001b[39m: \u001b[32mString\u001b[39m = \u001b[32m\"17.1\"\u001b[39m"
      ]
     },
     "execution_count": 22,
     "metadata": {},
     "output_type": "execute_result"
    }
   ],
   "source": [
    "val myPassage = \"17.1\""
   ]
  },
  {
   "cell_type": "markdown",
   "metadata": {},
   "source": [
    "**See Alignments!**"
   ]
  },
  {
   "cell_type": "code",
   "execution_count": 23,
   "metadata": {},
   "outputs": [
    {
     "name": "stdout",
     "output_type": "stream",
     "text": [
      "---------\n",
      "CORPUS\n",
      "urn:cts:greekLit:tlg0557.tlg002.perseus-grc1:\n",
      "\n",
      "17.1\t\tμέμνησο, ὅτι ὑποκριτὴς εἶ δράματος, οἵου ἂν θέλῃ ὁ διδάσκαλος· ἂν βραχύ, βραχέος· ἂν μακρόν, μακροῦ· ἂν πτωχὸν ὑποκρίνασθαί σε θέλῃ, ἵνα καὶ τοῦτον εὐφυῶς ὑποκρίνῃ ἂν χωλόν, ἂν ἄρχοντα, ἂν ἰδιώτην. σὸν γὰρ τοῦτʼ ἔστι, τὸ δοθὲν ὑποκρίνασθαι πρόσωπον καλῶς· ἐκλέξασθαι δʼ αὐτὸ ἄλλου.\n",
      "\n",
      "---------\n",
      "CORPUS\n",
      "urn:cts:greekLit:tlg0557.tlg001.perseus-grc1:\n",
      "\n",
      "1.29.41\t\tφθέγξαι τι, ἵνα εἰδῶμεν πότερον τραγῳδὸς εἶ ἢ γελωτοποιός· κοινὰ γὰρ ἔχουσι τὰ ἄλλα ἀμφότεροι.\n",
      "4.7.13\t\tθέλεις πενίαν; φέρε καὶ γνώσῃ, τί ἐστι πενία τυχοῦσα καλοῦ ὑποκριτοῦ.\n",
      "\n"
     ]
    },
    {
     "data": {
      "text/plain": [
       "\u001b[36mmyAlignedTexts\u001b[39m: \u001b[32mVector\u001b[39m[\u001b[32mCorpus\u001b[39m] = \u001b[33mVector\u001b[39m(\n",
       "  \u001b[33mCorpus\u001b[39m(\n",
       "    \u001b[33mVector\u001b[39m(\n",
       "      \u001b[33mCitableNode\u001b[39m(\n",
       "        \u001b[33mCtsUrn\u001b[39m(\u001b[32m\"urn:cts:greekLit:tlg0557.tlg002.perseus-grc1:17.1\"\u001b[39m),\n",
       "        \u001b[32m\"\\u03bc\\u03ad\\u03bc\\u03bd\\u03b7\\u03c3\\u03bf, \\u1f45\\u03c4\\u03b9 \\u1f51\\u03c0\\u03bf\\u03ba\\u03c1\\u03b9\\u03c4\\u1f74\\u03c2 \\u03b5\\u1f36 \\u03b4\\u03c1\\u03ac\\u03bc\\u03b1\\u03c4\\u03bf\\u03c2, \\u03bf\\u1f35\\u03bf\\u03c5 \\u1f02\\u03bd \\u03b8\\u03ad\\u03bb\\u1fc3 \\u1f41 \\u03b4\\u03b9\\u03b4\\u03ac\\u03c3\\u03ba\\u03b1\\u03bb\\u03bf\\u03c2\\u00b7 \\u1f02\\u03bd \\u03b2\\u03c1\\u03b1\\u03c7\\u03cd, \\u03b2\\u03c1\\u03b1\\u03c7\\u03ad\\u03bf\\u03c2\\u00b7 \\u1f02\\u03bd \\u03bc\\u03b1\\u03ba\\u03c1\\u03cc\\u03bd, \\u03bc\\u03b1\\u03ba\\u03c1\\u03bf\\u1fe6\\u00b7 \\u1f02\\u03bd \\u03c0\\u03c4\\u03c9\\u03c7\\u1f78\\u03bd \\u1f51\\u03c0\\u03bf\\u03ba\\u03c1\\u03af\\u03bd\\u03b1\\u03c3\\u03b8\\u03b1\\u03af \\u03c3\\u03b5 \\u03b8\\u03ad\\u03bb\\u1fc3, \\u1f35\\u03bd\\u03b1 \\u03ba\\u03b1\\u1f76 \\u03c4\\u03bf\\u1fe6\\u03c4\\u03bf\\u03bd \\u03b5\\u1f50\\u03c6\\u03c5\\u1ff6\\u03c2 \\u1f51\\u03c0\\u03bf\\u03ba\\u03c1\\u03af\\u03bd\\u1fc3 \\u1f02\\u03bd \\u03c7\\u03c9\\u03bb\\u03cc\\u03bd, \\u1f02\\u03bd \\u1f04\\u03c1\\u03c7\\u03bf\\u03bd\\u03c4\\u03b1, \\u1f02\\u03bd \\u1f30\\u03b4\\u03b9\\u03ce\\u03c4\\u03b7\\u03bd. \\u03c3\\u1f78\\u03bd \\u03b3\\u1f70\\u03c1 \\u03c4\\u03bf\\u1fe6\\u03c4\\u02bc \\u1f14\\u03c3\\u03c4\\u03b9, \\u03c4\\u1f78 \\u03b4\\u03bf\\u03b8\\u1f72\\u03bd \\u1f51\\u03c0\\u03bf\\u03ba\\u03c1\\u03af\\u03bd\\u03b1\\u03c3\\u03b8\\u03b1\\u03b9 \\u03c0\\u03c1\\u03cc\\u03c3\\u03c9\\u03c0\\u03bf\\u03bd \\u03ba\\u03b1\\u03bb\\u1ff6\\u03c2\\u00b7 \\u1f10\\u03ba\\u03bb\\u03ad\\u03be\\u03b1\\u03c3\\u03b8\\u03b1\\u03b9 \\u03b4\\u02bc \\u03b1\\u1f50\\u03c4\\u1f78 \\u1f04\\u03bb\\u03bb\\u03bf\\u03c5.\"\u001b[39m\n",
       "      )\n",
       "    )\n",
       "  ),\n",
       "  \u001b[33mCorpus\u001b[39m(\n",
       "    \u001b[33mVector\u001b[39m(\n",
       "      \u001b[33mCitableNode\u001b[39m(\n",
       "        \u001b[33mCtsUrn\u001b[39m(\u001b[32m\"urn:cts:greekLit:tlg0557.tlg001.perseus-grc1:1.29.41\"\u001b[39m),\n",
       "        \u001b[32m\"\\u03c6\\u03b8\\u03ad\\u03b3\\u03be\\u03b1\\u03b9 \\u03c4\\u03b9, \\u1f35\\u03bd\\u03b1 \\u03b5\\u1f30\\u03b4\\u1ff6\\u03bc\\u03b5\\u03bd \\u03c0\\u03cc\\u03c4\\u03b5\\u03c1\\u03bf\\u03bd \\u03c4\\u03c1\\u03b1\\u03b3\\u1ff3\\u03b4\\u1f78\\u03c2 \\u03b5\\u1f36 \\u1f22 \\u03b3\\u03b5\\u03bb\\u03c9\\u03c4\\u03bf\\u03c0\\u03bf\\u03b9\\u03cc\\u03c2\\u00b7 \\u03ba\\u03bf\\u03b9\\u03bd\\u1f70 \\u03b3\\u1f70\\u03c1 \\u1f14\\u03c7\\u03bf\\u03c5\\u03c3\\u03b9 \\u03c4\\u1f70 \\u1f04\\u03bb\\u03bb\\u03b1 \\u1f00\\u03bc\\u03c6\\u03cc\\u03c4\\u03b5\\u03c1\\u03bf\\u03b9.\"\u001b[39m\n",
       "      ),\n",
       "      \u001b[33mCitableNode\u001b[39m(\n",
       "..."
      ]
     },
     "execution_count": 23,
     "metadata": {},
     "output_type": "execute_result"
    }
   ],
   "source": [
    "val myAlignedTexts: Vector[Corpus] = alignedTexts( enchUrn.addPassage(myPassage))\n",
    "\n",
    "showMe(myAlignedTexts)"
   ]
  },
  {
   "cell_type": "code",
   "execution_count": null,
   "metadata": {},
   "outputs": [],
   "source": []
  }
 ],
 "metadata": {
  "kernel_info": {
   "name": "scala"
  },
  "kernelspec": {
   "display_name": "Scala",
   "language": "scala",
   "name": "scala"
  },
  "language_info": {
   "codemirror_mode": "text/x-scala",
   "file_extension": ".scala",
   "mimetype": "text/x-scala",
   "name": "scala",
   "nbconvert_exporter": "script",
   "version": "2.12.10"
  },
  "nteract": {
   "version": "0.15.0"
  }
 },
 "nbformat": 4,
 "nbformat_minor": 2
}
