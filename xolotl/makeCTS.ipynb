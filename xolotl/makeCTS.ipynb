{
 "cells": [
  {
   "cell_type": "markdown",
   "metadata": {},
   "source": [
    "# Transforming a Text file to CEX\n",
    "\n"
   ]
  },
  {
   "cell_type": "markdown",
   "metadata": {},
   "source": [
    "## Configuring CITE libraries for almond kernel\n",
    "\n",
    "First, we'll make a bintray repository with CITE libraries available to your almond kernel."
   ]
  },
  {
   "cell_type": "code",
   "execution_count": 1,
   "metadata": {},
   "outputs": [
    {
     "data": {
      "text/plain": [
       "\u001b[36mmyBT\u001b[39m: \u001b[32mcoursierapi\u001b[39m.\u001b[32mMavenRepository\u001b[39m = MavenRepository(https://dl.bintray.com/neelsmith/maven)"
      ]
     },
     "execution_count": 1,
     "metadata": {},
     "output_type": "execute_result"
    }
   ],
   "source": [
    "val myBT = coursierapi.MavenRepository.of(\"https://dl.bintray.com/neelsmith/maven\")\n",
    "interp.repositories() ++= Seq(myBT)"
   ]
  },
  {
   "cell_type": "markdown",
   "metadata": {},
   "source": [
    "Next, we bring in specific libraries from the new repository using almond's `$ivy` magic:"
   ]
  },
  {
   "cell_type": "code",
   "execution_count": 2,
   "metadata": {},
   "outputs": [
    {
     "data": {
      "text/plain": [
       "\u001b[32mimport \u001b[39m\u001b[36m$ivy.$                                  \n",
       "\u001b[39m\n",
       "\u001b[32mimport \u001b[39m\u001b[36m$ivy.$                                     \n",
       "\u001b[39m\n",
       "\u001b[32mimport \u001b[39m\u001b[36m$ivy.$                              \n",
       "\u001b[39m\n",
       "\u001b[32mimport \u001b[39m\u001b[36m$ivy.$                              \n",
       "\u001b[39m\n",
       "\u001b[32mimport \u001b[39m\u001b[36m$ivy.$                                          \n",
       "\u001b[39m\n",
       "\u001b[32mimport \u001b[39m\u001b[36m$ivy.$                                  \n",
       "\u001b[39m\n",
       "\u001b[32mimport \u001b[39m\u001b[36m$ivy.$                                        \n",
       "\u001b[39m\n",
       "\u001b[32mimport \u001b[39m\u001b[36m$ivy.$                              \n",
       "\u001b[39m"
      ]
     },
     "execution_count": 2,
     "metadata": {},
     "output_type": "execute_result"
    }
   ],
   "source": [
    "import $ivy.`edu.holycross.shot::ohco2:10.16.0`\n",
    "import $ivy.`edu.holycross.shot.cite::xcite:4.1.1`\n",
    "import $ivy.`edu.holycross.shot::scm:7.2.0`\n",
    "import $ivy.`edu.holycross.shot::dse:5.2.2`\n",
    "import $ivy.`edu.holycross.shot::citebinaryimage:3.1.1`\n",
    "import $ivy.`edu.holycross.shot::citeobj:7.3.4`\n",
    "import $ivy.`edu.holycross.shot::citerelations:2.5.2`\n",
    "import $ivy.`edu.holycross.shot::cex:6.3.3`\n"
   ]
  },
  {
   "cell_type": "markdown",
   "metadata": {},
   "source": [
    "## Imports\n",
    "\n",
    "From this point on, your notebook consists of completely generic Scala, with the CITE Libraries available to use."
   ]
  },
  {
   "cell_type": "code",
   "execution_count": 3,
   "metadata": {},
   "outputs": [
    {
     "data": {
      "text/plain": [
       "\u001b[32mimport \u001b[39m\u001b[36medu.holycross.shot.cite._\n",
       "\u001b[39m\n",
       "\u001b[32mimport \u001b[39m\u001b[36medu.holycross.shot.ohco2._\n",
       "\u001b[39m\n",
       "\u001b[32mimport \u001b[39m\u001b[36medu.holycross.shot.scm._\n",
       "\u001b[39m\n",
       "\u001b[32mimport \u001b[39m\u001b[36medu.holycross.shot.citeobj._\n",
       "\u001b[39m\n",
       "\u001b[32mimport \u001b[39m\u001b[36medu.holycross.shot.citerelation._\n",
       "\u001b[39m\n",
       "\u001b[32mimport \u001b[39m\u001b[36medu.holycross.shot.dse._\n",
       "\u001b[39m\n",
       "\u001b[32mimport \u001b[39m\u001b[36medu.holycross.shot.citebinaryimage._\n",
       "\u001b[39m\n",
       "\u001b[32mimport \u001b[39m\u001b[36medu.holycross.shot.ohco2._\n",
       "\n",
       "\u001b[39m\n",
       "\u001b[32mimport \u001b[39m\u001b[36malmond.display.UpdatableDisplay\n",
       "\u001b[39m\n",
       "\u001b[32mimport \u001b[39m\u001b[36malmond.interpreter.api.DisplayData.ContentType\n",
       "\u001b[39m\n",
       "\u001b[32mimport \u001b[39m\u001b[36malmond.interpreter.api.{DisplayData, OutputHandler}\n",
       "\n",
       "\u001b[39m\n",
       "\u001b[32mimport \u001b[39m\u001b[36mjava.io.File\n",
       "\u001b[39m\n",
       "\u001b[32mimport \u001b[39m\u001b[36mjava.io.PrintWriter\n",
       "\n",
       "\u001b[39m\n",
       "\u001b[32mimport \u001b[39m\u001b[36mscala.io.Source\n",
       "\u001b[39m"
      ]
     },
     "execution_count": 3,
     "metadata": {},
     "output_type": "execute_result"
    }
   ],
   "source": [
    "// Import some CITE libraries\n",
    "import edu.holycross.shot.cite._\n",
    "import edu.holycross.shot.ohco2._\n",
    "import edu.holycross.shot.scm._\n",
    "import edu.holycross.shot.citeobj._\n",
    "import edu.holycross.shot.citerelation._\n",
    "import edu.holycross.shot.dse._\n",
    "import edu.holycross.shot.citebinaryimage._\n",
    "import edu.holycross.shot.ohco2._\n",
    "\n",
    "import almond.display.UpdatableDisplay\n",
    "import almond.interpreter.api.DisplayData.ContentType\n",
    "import almond.interpreter.api.{DisplayData, OutputHandler}\n",
    "\n",
    "import java.io.File\n",
    "import java.io.PrintWriter\n",
    "\n",
    "import scala.io.Source\n"
   ]
  },
  {
   "cell_type": "markdown",
   "metadata": {},
   "source": [
    "## Useful Functions"
   ]
  },
  {
   "cell_type": "markdown",
   "metadata": {},
   "source": [
    "Save a string to a names file:"
   ]
  },
  {
   "cell_type": "code",
   "execution_count": 4,
   "metadata": {},
   "outputs": [
    {
     "data": {
      "text/plain": [
       "defined \u001b[32mfunction\u001b[39m \u001b[36msaveString\u001b[39m"
      ]
     },
     "execution_count": 4,
     "metadata": {},
     "output_type": "execute_result"
    }
   ],
   "source": [
    "def saveString(s:String, filePath:String = \"\", fileName:String = \"temp.txt\"):Unit = {\n",
    "\t\t val writer = new PrintWriter(new File(s\"${filePath}${fileName}\"))\n",
    "         writer.write(s)\n",
    "         writer.close()\n",
    "\t}"
   ]
  },
  {
   "cell_type": "markdown",
   "metadata": {},
   "source": [
    "Convert a Roman Numeral to an Integer:"
   ]
  },
  {
   "cell_type": "code",
   "execution_count": 5,
   "metadata": {},
   "outputs": [
    {
     "data": {
      "text/plain": [
       "defined \u001b[32mfunction\u001b[39m \u001b[36mfromRoman\u001b[39m"
      ]
     },
     "execution_count": 5,
     "metadata": {},
     "output_type": "execute_result"
    }
   ],
   "source": [
    "def fromRoman(s: String) : Int = {\n",
    "\ttry {\n",
    "\t\tval numerals = Map('I' -> 1, 'V' -> 5, 'X' -> 10, 'L' -> 50, 'C' -> 100, 'D' -> 500, 'M' -> 1000)\n",
    "\n",
    "\t\ts.toUpperCase.map(numerals).foldLeft((0,0)) {\n",
    "\t\t  case ((sum, last), curr) =>  (sum + curr + (if (last < curr) -2*last else 0), curr) }._1\n",
    "\t} catch {\n",
    "\t\tcase e:Exception => throw new Exception(s\"\"\" \"${s}\" is not a valid Roman Numeral.\"\"\")\n",
    "\t}\n",
    "}"
   ]
  },
  {
   "cell_type": "markdown",
   "metadata": {},
   "source": [
    "## Load a Template File"
   ]
  },
  {
   "cell_type": "markdown",
   "metadata": {},
   "source": [
    "Load it into a Vector[String], filtering out any empty lines:"
   ]
  },
  {
   "cell_type": "code",
   "execution_count": 6,
   "metadata": {},
   "outputs": [
    {
     "data": {
      "text/plain": [
       "\u001b[36mfilePath\u001b[39m: \u001b[32mString\u001b[39m = \u001b[32m\"torq.txt\"\u001b[39m\n",
       "\u001b[36mlines\u001b[39m: \u001b[32mVector\u001b[39m[\u001b[32mString\u001b[39m] = \u001b[33mVector\u001b[39m(\n",
       "  \u001b[32m\"CAP\\u00cdTULO XV. De c\\u00f3mo el chichimeca Xolotl, se\\u00f1or de las provincias y reinos de Amaqueme, en el septentri\\u00f3n o partes del norte, primer poblador de esta Nueva Espa\\u00f1a despu\\u00e9s de los tultecas, viendo que las gentes que le sol\\u00edan hacer guerra ya no parec\\u00edan, se determin\\u00f3 de entrarles las tierras a buscarlos y envi\\u00f3 sus exploradores para que las recorriesen\"\u001b[39m,\n",
       "  \u001b[32m\"HACIA LAS PARTES DEL NORTE (en contra de la ciudad de Mexico y en grand\\u00edsima distancia apartadas de ella) hubo unas provincias (y puede ser que al presente las haya) cuya principal ciudad fue llamada Amaqueme y cuyos moradores en com\\u00fan y gen\\u00e9rico vocablo fueron llamados chlchlmecas, gente desnuda de ropas de lana, algod\\u00f3n, ni otra cosa que sea de pa\\u00f1o o lienzo; pero vestida de pieles de animales; feroces en el aspecto y grandes guerreros, cuyas armas son arcos y flechas. Su sustento ordinario es la caza, que siempre siguen y matan; y su habitaci\\u00f3n en lugares cavernosos, porque como el principal ejercicio de su vida es montear, no les queda tiempo para edificar casas. Tomaron nombre de chichimecas estas gentes (que as\\u00ed se nombraron) del efecto, significa su nombre; porque chichimecatl tanto quiere decir como chupador o mamador; porque chichiliztli es el acto de mamar o la mamadura; y chichinaliztli es el acto de chupar o la chupadura y asi se llama el pecho y teta de la mujer y la de cualquiera otro animal chichihualli; y porque estas gentes en sus principios se com\\u00edan las carnes de los animales que mataban crudas y les chupaban la sangre a manera del que mama, por eso se llamaron chichimecas, que quiere decir chupadores o mamadores. De este nombre techichinani, que es el chupador o el que chupa, estas gentes (seg\\u00fan se lee de ellos en sus antiguas pinturas) no alcanzaban tan artificiosa idolatr\\u00eda; pero como la condici\\u00f3n natural del hombre es inclinarse a hacer reverencia a una causa que sea superior y tenga resabio de dignidad, aunque estos b\\u00e1rbaros no alcanzaban a conocerla (como ella es) con todo, les dec\\u00eda su apetito natural que deb\\u00edan reverenciar a otra cosa que era m\\u00e1s que ellos; y as\\u00ed ignorantes del conocimiento del verdadero y proprio Dios (que se comunica y da a conocer a toda criatura que se dispone para su conocimiento) tuvieron err\\u00f3neamente que el sol era dios que vivificaba las cosas y las sustentaba en el ser de vida que tienen; y aunque b\\u00e1rbaramente ten\\u00edan este sentimiento no erraban en confesar que el sol es causa de la generaci\\u00f3n y conservaci\\u00f3n de las cosas; pues es una de las razones m\\u00e1s comunes y verdaderas que da el Fil\\u00f3sofo en las naturales, si con esto supieran conocer que es segunda y no primera, y que la virtud que tiene de vivificar y conservar las cosas vejetables que tienen ser y vida, no es propria. Sino comunicada de la primera, que es Dios; de quien todas las cosas de la \u001b[39m..."
      ]
     },
     "execution_count": 6,
     "metadata": {},
     "output_type": "execute_result"
    }
   ],
   "source": [
    "val filePath = s\"torq.txt\"\n",
    "val lines: Vector[String] = {\n",
    "    scala.io.Source.fromFile(filePath).mkString.split(\"\\n\").toVector.filter( _.size > 0 )\n",
    "}"
   ]
  },
  {
   "cell_type": "markdown",
   "metadata": {},
   "source": [
    "### We need to capture citation valus for Chapters, Paragraphs, and Sentences."
   ]
  },
  {
   "cell_type": "markdown",
   "metadata": {},
   "source": [
    "Let's attach an index-number to every line. This will be broadly useful. The result will be a Vector of Tuples: (String, Int). Since that will be confusing, we can create a Class called IndexedLine, and map to a Vector[IndexedLine]:"
   ]
  },
  {
   "cell_type": "code",
   "execution_count": 7,
   "metadata": {},
   "outputs": [
    {
     "data": {
      "text/plain": [
       "defined \u001b[32mclass\u001b[39m \u001b[36mIndexedLine\u001b[39m\n",
       "\u001b[36mindexedLines\u001b[39m: \u001b[32mVector\u001b[39m[\u001b[32mIndexedLine\u001b[39m] = \u001b[33mVector\u001b[39m(\n",
       "  \u001b[33mIndexedLine\u001b[39m(\n",
       "    \u001b[32m0\u001b[39m,\n",
       "    \u001b[32m\"CAP\\u00cdTULO XV. De c\\u00f3mo el chichimeca Xolotl, se\\u00f1or de las provincias y reinos de Amaqueme, en el septentri\\u00f3n o partes del norte, primer poblador de esta Nueva Espa\\u00f1a despu\\u00e9s de los tultecas, viendo que las gentes que le sol\\u00edan hacer guerra ya no parec\\u00edan, se determin\\u00f3 de entrarles las tierras a buscarlos y envi\\u00f3 sus exploradores para que las recorriesen\"\u001b[39m\n",
       "  ),\n",
       "  \u001b[33mIndexedLine\u001b[39m(\n",
       "    \u001b[32m1\u001b[39m,\n",
       "    \u001b[32m\"HACIA LAS PARTES DEL NORTE (en contra de la ciudad de Mexico y en grand\\u00edsima distancia apartadas de ella) hubo unas provincias (y puede ser que al presente las haya) cuya principal ciudad fue llamada Amaqueme y cuyos moradores en com\\u00fan y gen\\u00e9rico vocablo fueron llamados chlchlmecas, gente desnuda de ropas de lana, algod\\u00f3n, ni otra cosa que sea de pa\\u00f1o o lienzo; pero vestida de pieles de animales; feroces en el aspecto y grandes guerreros, cuyas armas son arcos y flechas. Su sustento ordinario es la caza, que siempre siguen y matan; y su habitaci\\u00f3n en lugares cavernosos, porque como el principal ejercicio de su vida es montear, no les queda tiempo para edificar casas. Tomaron nombre de chichimecas estas gentes (que as\\u00ed se nombraron) del efecto, significa su nombre; porque chichimecatl tanto quiere decir como chupador o mamador; porque chichiliztli es el acto de mamar o la mamadura; y chichinaliztli es el acto de chupar o la chupadura y asi se llama el pecho y teta de la mujer y la de cualquiera otro animal chichihualli; y porque estas gentes en sus principios se com\\u00edan las carnes de los animales que mataban crudas y les chupaban la sangre a manera del que mama, por eso se llamaron chichimecas, que quiere decir chupadores o mamadores. De este nombre techichinani, que es el chupador o el que chupa, estas gentes (seg\\u00fan se lee de ellos en sus antiguas pinturas) no alcanzaban tan artificiosa idolatr\\u00eda; pero como la condici\\u00f3n natural del hombre es inclinarse a hacer reverencia a una causa que sea superior y tenga resabio de dignidad, aunque estos b\\u00e1rbaros no alcanzaban a conocerla (como ella es) con todo, les dec\\u00eda su apetito natural que deb\\u00edan reverenciar a otra cosa que era m\\u00e1s que ellos; y as\\u00ed ignorantes del conocimiento del verdadero y proprio Dios (que se comunica y da a conocer a toda criatura que se dispone para su conocimiento) tuvieron err\\u00f3neamente que el sol era dios que vivificaba las cosas y las sustentaba en el ser de vida que tienen; y aunque b\\u00e1rbaramente ten\\u00edan este sentimiento no erraban en confesar que el sol es ca\u001b[39m..."
      ]
     },
     "execution_count": 7,
     "metadata": {},
     "output_type": "execute_result"
    }
   ],
   "source": [
    "case class IndexedLine( index: Int, text: String)\n",
    "val indexedLines: Vector[IndexedLine] = lines.zipWithIndex.map( l => {\n",
    "    IndexedLine( l._2, l._1 )\n",
    "})"
   ]
  },
  {
   "cell_type": "markdown",
   "metadata": {},
   "source": [
    "Let's get a separate vector of *just* chapter-headings, but keeping their index-numbers from their context in the whole text:"
   ]
  },
  {
   "cell_type": "code",
   "execution_count": 8,
   "metadata": {},
   "outputs": [
    {
     "data": {
      "text/plain": [
       "\u001b[36mchapterHeadingStrings\u001b[39m: \u001b[32mVector\u001b[39m[\u001b[32mIndexedLine\u001b[39m] = \u001b[33mVector\u001b[39m(\n",
       "  \u001b[33mIndexedLine\u001b[39m(\n",
       "    \u001b[32m0\u001b[39m,\n",
       "    \u001b[32m\"CAP\\u00cdTULO XV. De c\\u00f3mo el chichimeca Xolotl, se\\u00f1or de las provincias y reinos de Amaqueme, en el septentri\\u00f3n o partes del norte, primer poblador de esta Nueva Espa\\u00f1a despu\\u00e9s de los tultecas, viendo que las gentes que le sol\\u00edan hacer guerra ya no parec\\u00edan, se determin\\u00f3 de entrarles las tierras a buscarlos y envi\\u00f3 sus exploradores para que las recorriesen\"\u001b[39m\n",
       "  ),\n",
       "  \u001b[33mIndexedLine\u001b[39m(\n",
       "    \u001b[32m5\u001b[39m,\n",
       "    \u001b[32m\"CAP\\u00cdTULO XVI. De c\\u00f3mo el gran chichimeca Xolotl llam\\u00f3 a consejo a los grandes de su reino: y de lo que en \\u00e9l qued\\u00f3 determinado \"\u001b[39m\n",
       "  ),\n",
       "  \u001b[33mIndexedLine\u001b[39m(\n",
       "    \u001b[32m8\u001b[39m,\n",
       "    \u001b[32m\"CAP\\u00cdTULO XVII. De c\\u00f3mo el chichimeca Xolotl, habiendo llegado a estas comarcas de Mexico, despach\\u00f3 a su hijo Nopaltzin a buscar las gentes moradoras de la tierra y \\u00e9l se volvi\\u00f3 a su puesto de Xoloc\"\u001b[39m\n",
       "  ),\n",
       "  \u001b[33mIndexedLine\u001b[39m(\n",
       "    \u001b[32m10\u001b[39m,\n",
       "    \u001b[32m\"CAP\\u00cdTULO XVIII. De c\\u00f3mo volvieron Nopaltzin y los capitanes exploradores de la tierra a dar noticia de lo que hablan visto al chichimeca Xolotl; y se dice el excesivo n\\u00famero de gente que Xolotl trajo \"\u001b[39m\n",
       "  ),\n",
       "  \u001b[33mIndexedLine\u001b[39m(\n",
       "    \u001b[32m14\u001b[39m,\n",
       "    \u001b[32m\"CAP\\u00cdTULO XIX. De c\\u00f3mo despach\\u00f3 Xolotl al cacique Acatomatl con una copiosa compa\\u00f1ia de gente a descubrir todas las riberas de la laguna; y de la raz\\u00f3n con que volvi\\u00f3 \"\u001b[39m\n",
       "  ),\n",
       "  \u001b[33mIndexedLine\u001b[39m(\n",
       "    \u001b[32m18\u001b[39m,\n",
       "    \u001b[32m\"CAP\\u00cdTULO XX. De c\\u00f3mo habiendo Xolotl vivido algunos a\\u00f1os en Tenayuca se pas\\u00f3 a Tetzcuco y pobl\\u00f3 all\\u00ed de nuevo \"\u001b[39m\n",
       "  ),\n",
       "  \u001b[33mIndexedLine\u001b[39m(\n",
       "..."
      ]
     },
     "execution_count": 8,
     "metadata": {},
     "output_type": "execute_result"
    }
   ],
   "source": [
    "val chapterHeadingStrings: Vector[IndexedLine] = indexedLines.filter( l => {\n",
    "    l.text.startsWith(\"CAPÍTULO\")\n",
    "})"
   ]
  },
  {
   "cell_type": "markdown",
   "metadata": {},
   "source": [
    "Let's define a ChapterHead class, containing the important data we'll need:"
   ]
  },
  {
   "cell_type": "code",
   "execution_count": 9,
   "metadata": {},
   "outputs": [
    {
     "data": {
      "text/plain": [
       "defined \u001b[32mclass\u001b[39m \u001b[36mChapterHead\u001b[39m"
      ]
     },
     "execution_count": 9,
     "metadata": {},
     "output_type": "execute_result"
    }
   ],
   "source": [
    "case class ChapterHead(index: Int, label: String, head: String)"
   ]
  },
  {
   "cell_type": "markdown",
   "metadata": {},
   "source": [
    "And we map `chapterHeadingStrings` to this new class, by defining a Regular Expression, then applying it to each line in `chapterHeadingStrings`."
   ]
  },
  {
   "cell_type": "code",
   "execution_count": 10,
   "metadata": {},
   "outputs": [
    {
     "data": {
      "text/plain": [
       "\u001b[36mpattern\u001b[39m: \u001b[32mscala\u001b[39m.\u001b[32mutil\u001b[39m.\u001b[32mmatching\u001b[39m.\u001b[32mRegex\u001b[39m = CAPÍTULO ([XVI]+)\\. (.+)"
      ]
     },
     "execution_count": 10,
     "metadata": {},
     "output_type": "execute_result"
    }
   ],
   "source": [
    "val pattern = \"\"\"CAPÍTULO ([XVI]+)\\. (.+)\"\"\".r"
   ]
  },
  {
   "cell_type": "code",
   "execution_count": 11,
   "metadata": {},
   "outputs": [
    {
     "data": {
      "text/plain": [
       "\u001b[36mchapterHeads\u001b[39m: \u001b[32mVector\u001b[39m[\u001b[32mChapterHead\u001b[39m] = \u001b[33mVector\u001b[39m(\n",
       "  \u001b[33mChapterHead\u001b[39m(\n",
       "    \u001b[32m0\u001b[39m,\n",
       "    \u001b[32m\"15\"\u001b[39m,\n",
       "    \u001b[32m\"De c\\u00f3mo el chichimeca Xolotl, se\\u00f1or de las provincias y reinos de Amaqueme, en el septentri\\u00f3n o partes del norte, primer poblador de esta Nueva Espa\\u00f1a despu\\u00e9s de los tultecas, viendo que las gentes que le sol\\u00edan hacer guerra ya no parec\\u00edan, se determin\\u00f3 de entrarles las tierras a buscarlos y envi\\u00f3 sus exploradores para que las recorriesen\"\u001b[39m\n",
       "  ),\n",
       "  \u001b[33mChapterHead\u001b[39m(\n",
       "    \u001b[32m5\u001b[39m,\n",
       "    \u001b[32m\"16\"\u001b[39m,\n",
       "    \u001b[32m\"De c\\u00f3mo el gran chichimeca Xolotl llam\\u00f3 a consejo a los grandes de su reino: y de lo que en \\u00e9l qued\\u00f3 determinado \"\u001b[39m\n",
       "  ),\n",
       "  \u001b[33mChapterHead\u001b[39m(\n",
       "    \u001b[32m8\u001b[39m,\n",
       "    \u001b[32m\"17\"\u001b[39m,\n",
       "    \u001b[32m\"De c\\u00f3mo el chichimeca Xolotl, habiendo llegado a estas comarcas de Mexico, despach\\u00f3 a su hijo Nopaltzin a buscar las gentes moradoras de la tierra y \\u00e9l se volvi\\u00f3 a su puesto de Xoloc\"\u001b[39m\n",
       "  ),\n",
       "  \u001b[33mChapterHead\u001b[39m(\n",
       "    \u001b[32m10\u001b[39m,\n",
       "    \u001b[32m\"18\"\u001b[39m,\n",
       "    \u001b[32m\"De c\\u00f3mo volvieron Nopaltzin y los capitanes exploradores de la tierra a dar noticia de lo que hablan visto al chichimeca Xolotl; y se dice el excesivo n\\u00famero de gente que Xolotl trajo \"\u001b[39m\n",
       "  ),\n",
       "  \u001b[33mChapterHead\u001b[39m(\n",
       "    \u001b[32m14\u001b[39m,\n",
       "    \u001b[32m\"19\"\u001b[39m,\n",
       "    \u001b[32m\"De c\\u00f3mo despach\\u00f3 Xolotl al cacique Acatomatl con una copiosa compa\\u00f1ia de gente a descubrir todas las riberas de la laguna; y de la raz\\u00f3n con que volvi\\u00f3 \"\u001b[39m\n",
       "  ),\n",
       "  \u001b[33mChapterHead\u001b[39m(\n",
       "    \u001b[32m18\u001b[39m,\n",
       "..."
      ]
     },
     "execution_count": 11,
     "metadata": {},
     "output_type": "execute_result"
    }
   ],
   "source": [
    "val chapterHeads: Vector[ChapterHead] = chapterHeadingStrings.map( chs => {\n",
    "    val pattern(tempLabel, tempText) = chs.text\n",
    "\n",
    "    val label:String = fromRoman(tempLabel).toString\n",
    "    val text = tempText\n",
    "    val index = chs.index\n",
    "    ChapterHead( index, label, text)\n",
    "})\n"
   ]
  },
  {
   "cell_type": "markdown",
   "metadata": {},
   "source": [
    "Now we map each ChapterHead to a Vector of IndexedLines that go with that chapter. We can use a map of the indices where a chapter begins and ends."
   ]
  },
  {
   "cell_type": "code",
   "execution_count": 12,
   "metadata": {},
   "outputs": [
    {
     "data": {
      "text/plain": [
       "\u001b[36mchapterMap\u001b[39m: \u001b[32mVector\u001b[39m[(\u001b[32mChapterHead\u001b[39m, \u001b[32mVector\u001b[39m[\u001b[32mIndexedLine\u001b[39m])] = \u001b[33mVector\u001b[39m(\n",
       "  (\n",
       "    \u001b[33mChapterHead\u001b[39m(\n",
       "      \u001b[32m0\u001b[39m,\n",
       "      \u001b[32m\"15\"\u001b[39m,\n",
       "      \u001b[32m\"De c\\u00f3mo el chichimeca Xolotl, se\\u00f1or de las provincias y reinos de Amaqueme, en el septentri\\u00f3n o partes del norte, primer poblador de esta Nueva Espa\\u00f1a despu\\u00e9s de los tultecas, viendo que las gentes que le sol\\u00edan hacer guerra ya no parec\\u00edan, se determin\\u00f3 de entrarles las tierras a buscarlos y envi\\u00f3 sus exploradores para que las recorriesen\"\u001b[39m\n",
       "    ),\n",
       "    \u001b[33mVector\u001b[39m(\n",
       "      \u001b[33mIndexedLine\u001b[39m(\n",
       "        \u001b[32m1\u001b[39m,\n",
       "        \u001b[32m\"HACIA LAS PARTES DEL NORTE (en contra de la ciudad de Mexico y en grand\\u00edsima distancia apartadas de ella) hubo unas provincias (y puede ser que al presente las haya) cuya principal ciudad fue llamada Amaqueme y cuyos moradores en com\\u00fan y gen\\u00e9rico vocablo fueron llamados chlchlmecas, gente desnuda de ropas de lana, algod\\u00f3n, ni otra cosa que sea de pa\\u00f1o o lienzo; pero vestida de pieles de animales; feroces en el aspecto y grandes guerreros, cuyas armas son arcos y flechas. Su sustento ordinario es la caza, que siempre siguen y matan; y su habitaci\\u00f3n en lugares cavernosos, porque como el principal ejercicio de su vida es montear, no les queda tiempo para edificar casas. Tomaron nombre de chichimecas estas gentes (que as\\u00ed se nombraron) del efecto, significa su nombre; porque chichimecatl tanto quiere decir como chupador o mamador; porque chichiliztli es el acto de mamar o la mamadura; y chichinaliztli es el acto de chupar o la chupadura y asi se llama el pecho y teta de la mujer y la de cualquiera otro animal chichihualli; y porque estas gentes en sus principios se com\\u00edan las carnes de los animales que mataban crudas y les chupaban la sangre a manera del que mama, por eso se llamaron chichimecas, que quiere decir chupadores o mamadores. De este nombre techichinani, que es el chupador o el que chupa, estas gentes (seg\\u00fan se lee de ellos en sus antiguas pinturas) no alcanzaban tan artificiosa idolatr\\u00eda; pero como la condici\\u00f3n natural del hombre es inclinarse a hacer reverencia a una causa que sea superior y tenga resabio de dignidad, aunque estos b\\u00e1rbaros no alcanzaban a conocerla (como ella es) con todo, les dec\\u00eda su apetito natural que deb\\u00edan reverenciar a otra cosa que era m\\u00e1s que ellos; y as\\u00ed ignorantes del conocimiento del verdadero y proprio Dios (que se comunica y da a conocer a toda criatura que se dispone para su conocimiento) tuvieron err\\u00f3neamente que el sol era dios que\u001b[39m..."
      ]
     },
     "execution_count": 12,
     "metadata": {},
     "output_type": "execute_result"
    }
   ],
   "source": [
    "val chapterMap: Vector[(ChapterHead, Vector[IndexedLine])] = chapterHeads.map( ch => {\n",
    "    val startIndex: Int = ch.index\n",
    "    val endIndex: Int = {\n",
    "       val nextChapter: Vector[ChapterHead] = chapterHeads.filter( _.index > ch.index)\n",
    "       if ( nextChapter.size == 0 ){ \n",
    "           indexedLines.last.index + 1 // end of the whole list\n",
    "       } else {\n",
    "           nextChapter.head.index\n",
    "       }\n",
    "    }\n",
    "    val contentLines = indexedLines.filter( il => {\n",
    "        ( il.index > startIndex ) && ( il.index < endIndex )\n",
    "    })\n",
    "    (ch, contentLines )\n",
    "})"
   ]
  },
  {
   "cell_type": "markdown",
   "metadata": {},
   "source": [
    "We can now build up a CEX file…"
   ]
  },
  {
   "cell_type": "code",
   "execution_count": 13,
   "metadata": {},
   "outputs": [
    {
     "data": {
      "text/plain": [
       "\u001b[36murnBase\u001b[39m: \u001b[32mCtsUrn\u001b[39m = \u001b[33mCtsUrn\u001b[39m(\u001b[32m\"urn:cts:greekLit:torquemada.001.offner:\"\u001b[39m)"
      ]
     },
     "execution_count": 13,
     "metadata": {},
     "output_type": "execute_result"
    }
   ],
   "source": [
    "val urnBase = CtsUrn(\"urn:cts:greekLit:torquemada.001.offner:\")"
   ]
  },
  {
   "cell_type": "code",
   "execution_count": 14,
   "metadata": {},
   "outputs": [
    {
     "data": {
      "text/plain": [
       "\u001b[36msectionCexVec\u001b[39m: \u001b[32mVector\u001b[39m[\u001b[32mString\u001b[39m] = \u001b[33mVector\u001b[39m(\n",
       "  \u001b[32m\"urn:cts:greekLit:torquemada.001.offner:15.head#De c\\u00f3mo el chichimeca Xolotl, se\\u00f1or de las provincias y reinos de Amaqueme, en el septentri\\u00f3n o partes del norte, primer poblador de esta Nueva Espa\\u00f1a despu\\u00e9s de los tultecas, viendo que las gentes que le sol\\u00edan hacer guerra ya no parec\\u00edan, se determin\\u00f3 de entrarles las tierras a buscarlos y envi\\u00f3 sus exploradores para que las recorriesen\"\u001b[39m,\n",
       "  \u001b[32m\"urn:cts:greekLit:torquemada.001.offner:15.1#HACIA LAS PARTES DEL NORTE (en contra de la ciudad de Mexico y en grand\\u00edsima distancia apartadas de ella) hubo unas provincias (y puede ser que al presente las haya) cuya principal ciudad fue llamada Amaqueme y cuyos moradores en com\\u00fan y gen\\u00e9rico vocablo fueron llamados chlchlmecas, gente desnuda de ropas de lana, algod\\u00f3n, ni otra cosa que sea de pa\\u00f1o o lienzo; pero vestida de pieles de animales; feroces en el aspecto y grandes guerreros, cuyas armas son arcos y flechas. Su sustento ordinario es la caza, que siempre siguen y matan; y su habitaci\\u00f3n en lugares cavernosos, porque como el principal ejercicio de su vida es montear, no les queda tiempo para edificar casas. Tomaron nombre de chichimecas estas gentes (que as\\u00ed se nombraron) del efecto, significa su nombre; porque chichimecatl tanto quiere decir como chupador o mamador; porque chichiliztli es el acto de mamar o la mamadura; y chichinaliztli es el acto de chupar o la chupadura y asi se llama el pecho y teta de la mujer y la de cualquiera otro animal chichihualli; y porque estas gentes en sus principios se com\\u00edan las carnes de los animales que mataban crudas y les chupaban la sangre a manera del que mama, por eso se llamaron chichimecas, que quiere decir chupadores o mamadores. De este nombre techichinani, que es el chupador o el que chupa, estas gentes (seg\\u00fan se lee de ellos en sus antiguas pinturas) no alcanzaban tan artificiosa idolatr\\u00eda; pero como la condici\\u00f3n natural del hombre es inclinarse a hacer reverencia a una causa que sea superior y tenga resabio de dignidad, aunque estos b\\u00e1rbaros no alcanzaban a conocerla (como ella es) con todo, les dec\\u00eda su apetito natural que deb\\u00edan reverenciar a otra cosa que era m\\u00e1s que ellos; y as\\u00ed ignorantes del conocimiento del verdadero y proprio Dios (que se comunica y da a conocer a toda criatura que se dispone para su conocimiento) tuvieron err\\u00f3neamente que el sol era dios que vivificaba las cosas y las sustentaba en el ser de vida que tienen; y aunque b\\u00e1rbaramente ten\\u00edan este sentimiento no erraban en confesar que el sol es causa de la generaci\\u00f3n y conservaci\\u00f3n de las cosas; pues es una de las razones m\\u00e1s comunes y verdaderas que da el Fil\\u00f3sofo en las naturales, si con esto supieran conocer que es segunda y no primera, y que la virtud que tiene de vivificar y conservar las cosas vejetables que tienen ser y vida, no es propria. Sino comunicada de la primera, \u001b[39m..."
      ]
     },
     "execution_count": 14,
     "metadata": {},
     "output_type": "execute_result"
    }
   ],
   "source": [
    "val sectionCexVec: Vector[String] = chapterMap.map( cm => {\n",
    "    val chapt: String = cm._1.label\n",
    "    val headStr: String = cm._1.head\n",
    "    val firstLine: String = s\"${urnBase}${chapt}.head#${headStr}\"\n",
    "    val sections: Vector[String] = cm._2.zipWithIndex.map( ll => {\n",
    "        val secNum: String = (ll._2 + 1).toString\n",
    "        val text: String = ll._1.text\n",
    "        s\"${urnBase}${chapt}.${secNum}#${text}\"\n",
    "    })\n",
    "    firstLine +: sections\n",
    "}).flatten"
   ]
  },
  {
   "cell_type": "markdown",
   "metadata": {},
   "source": [
    "## Make Final CEX File"
   ]
  },
  {
   "cell_type": "code",
   "execution_count": 15,
   "metadata": {},
   "outputs": [
    {
     "data": {
      "text/plain": [
       "\u001b[36mcexHeaderPath\u001b[39m: \u001b[32mString\u001b[39m = \u001b[32m\"cex_header.txt\"\u001b[39m\n",
       "\u001b[36mheaderLines\u001b[39m: \u001b[32mVector\u001b[39m[\u001b[32mString\u001b[39m] = \u001b[33mVector\u001b[39m(\n",
       "  \u001b[32m\"#!cexversion\"\u001b[39m,\n",
       "  \u001b[32m\"3.0\"\u001b[39m,\n",
       "  \u001b[32m\"#!citelibrary\"\u001b[39m,\n",
       "  \u001b[32m\"name#CEX library\"\u001b[39m,\n",
       "  \u001b[32m\"urn#urn:cite2:cex:temp_xolotl.v1:temp1\"\u001b[39m,\n",
       "  \u001b[32m\"license#CC 3.0 NC-BY\"\u001b[39m,\n",
       "  \u001b[32m\"#!ctscatalog\"\u001b[39m,\n",
       "  \u001b[32m\"urn#citationScheme#groupName#workTitle#versionLabel#exemplarLabel#online#lang\"\u001b[39m,\n",
       "  \u001b[32m\"urn:cts:greekLit:torquemada.001.offner:#chapter/section/sentence#fray Juan de Torquemada#Monarqu\\u00eda indiana, 1615#Offner, etc.##true#esp\"\u001b[39m\n",
       ")\n",
       "\u001b[36mcexHeader\u001b[39m: \u001b[32mString\u001b[39m = \u001b[32m\"\"\"\n",
       "#!cexversion\n",
       "3.0\n",
       "#!citelibrary\n",
       "name#CEX library\n",
       "urn#urn:cite2:cex:temp_xolotl.v1:temp1\n",
       "license#CC 3.0 NC-BY\n",
       "#!ctscatalog\n",
       "urn#citationScheme#groupName#workTitle#versionLabel#exemplarLabel#online#lang\n",
       "urn:cts:greekLit:torquemada.001.offner:#chapter/section/sentence#fray Juan de Torquemada#Monarquía indiana, 1615#Offner, etc.##true#esp\n",
       "#!ctsdata\n",
       "\"\"\"\u001b[39m"
      ]
     },
     "execution_count": 15,
     "metadata": {},
     "output_type": "execute_result"
    }
   ],
   "source": [
    "val cexHeaderPath = s\"cex_header.txt\"\n",
    "val headerLines: Vector[String] = {\n",
    "    scala.io.Source.fromFile(cexHeaderPath).mkString.split(\"\\n\").toVector.filter( _.size > 0 )\n",
    "}\n",
    "val cexHeader: String = \"\\n\" + headerLines.mkString(\"\\n\") + \"\\n#!ctsdata\\n\""
   ]
  },
  {
   "cell_type": "markdown",
   "metadata": {},
   "source": [
    "Save it!"
   ]
  },
  {
   "cell_type": "code",
   "execution_count": 16,
   "metadata": {},
   "outputs": [
    {
     "data": {
      "text/plain": [
       "\u001b[36mfinalCex\u001b[39m: \u001b[32mString\u001b[39m = \u001b[32m\"\"\"\n",
       "#!cexversion\n",
       "3.0\n",
       "#!citelibrary\n",
       "name#CEX library\n",
       "urn#urn:cite2:cex:temp_xolotl.v1:temp1\n",
       "license#CC 3.0 NC-BY\n",
       "#!ctscatalog\n",
       "urn#citationScheme#groupName#workTitle#versionLabel#exemplarLabel#online#lang\n",
       "urn:cts:greekLit:torquemada.001.offner:#chapter/section/sentence#fray Juan de Torquemada#Monarquía indiana, 1615#Offner, etc.##true#esp\n",
       "#!ctsdata\n",
       "urn:cts:greekLit:torquemada.001.offner:15.head#De cómo el chichimeca Xolotl, señor de las provincias y reinos de Amaqueme, en el septentrión o partes del norte, primer poblador de esta Nueva España después de los tultecas, viendo que las gentes que le solían hacer guerra ya no parecían, se determinó de entrarles las tierras a buscarlos y envió sus exploradores para que las recorriesen\n",
       "urn:cts:greekLit:torquemada.001.offner:15.1#HACIA LAS PARTES DEL NORTE (en contra de la ciudad de Mexico y en grandísima distancia apartadas de ella) hubo unas provincias (y puede ser que al presente las haya) cuya principal ciudad fue llamada Amaqueme y cuyos moradores en común y genérico vocablo fueron llamados chlchlmecas, gente desnuda de ropas de lana, algodón, ni otra cosa que sea de paño o lienzo; pero vestida de pieles de animales; feroces en el aspecto y grandes guerreros, cuyas armas son arcos y flechas. Su sustento ordinario es la caza, que siempre siguen y matan; y su habitación en lugares cavernosos, porque como el principal ejercicio de su vida es montear, no les queda tiempo para edificar casas. Tomaron nombre de chichimecas estas gentes (que así se nombraron) del efecto, significa su nombre; porque chichimecatl tanto quiere decir como chupador o mamador; porque chichiliztli es el acto de mamar o la mamadura; y chichinaliztli es el acto de chupar o la chupadura y asi se llama el pecho y teta de la mujer y la de cualquiera otro animal chichihualli; y porque estas gentes en sus principios se comían las carnes de los animales que mataban crudas y les chupaban la sangre a manera del que mama, por eso se llamaron chichimecas, que quiere decir chupadores o mamadores. De este nombre techichinani, que es el chupador o el que chupa, estas gentes (según se lee de ellos en sus antiguas pinturas) no alcanzaban tan artificiosa idolatría; pero como la condición natural del hombre es inclinarse a hacer reverencia a una causa que sea superior y tenga resabio de dignidad, aunque estos bárbaros no alcanzaban a conocerla (como ella es) con todo, les decía su apetito natural que debían reverenciar a otra cosa que era más que ellos; y a\u001b[39m...\n",
       "\u001b[36mfileName\u001b[39m: \u001b[32mString\u001b[39m = \u001b[32m\"torq.cex\"\u001b[39m"
      ]
     },
     "execution_count": 16,
     "metadata": {},
     "output_type": "execute_result"
    }
   ],
   "source": [
    "val finalCex: String = cexHeader + sectionCexVec.mkString(\"\\n\")\n",
    "val fileName: String = \"torq.cex\"\n",
    "saveString( finalCex, \"\", fileName)"
   ]
  },
  {
   "cell_type": "code",
   "execution_count": null,
   "metadata": {},
   "outputs": [],
   "source": []
  }
 ],
 "metadata": {
  "kernel_info": {
   "name": "scala"
  },
  "kernelspec": {
   "display_name": "Scala",
   "language": "scala",
   "name": "scala"
  },
  "language_info": {
   "codemirror_mode": "text/x-scala",
   "file_extension": ".scala",
   "mimetype": "text/x-scala",
   "name": "scala",
   "nbconvert_exporter": "script",
   "version": "2.12.10"
  },
  "nteract": {
   "version": "0.15.0"
  }
 },
 "nbformat": 4,
 "nbformat_minor": 2
}
