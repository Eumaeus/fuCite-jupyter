{
 "cells": [
  {
   "cell_type": "markdown",
   "metadata": {},
   "source": [
    "# Loading a CITE Library\n",
    "\n"
   ]
  },
  {
   "cell_type": "markdown",
   "metadata": {},
   "source": [
    "## Configuring CITE libraries for almond kernel\n",
    "\n",
    "First, we'll make a bintray repository with CITE libraries available to your almond kernel."
   ]
  },
  {
   "cell_type": "code",
   "execution_count": 1,
   "metadata": {},
   "outputs": [
    {
     "data": {
      "text/plain": [
       "\u001b[36mmyBT\u001b[39m: \u001b[32mcoursierapi\u001b[39m.\u001b[32mMavenRepository\u001b[39m = MavenRepository(https://dl.bintray.com/neelsmith/maven)"
      ]
     },
     "execution_count": 1,
     "metadata": {},
     "output_type": "execute_result"
    }
   ],
   "source": [
    "val myBT = coursierapi.MavenRepository.of(\"https://dl.bintray.com/neelsmith/maven\")\n",
    "interp.repositories() ++= Seq(myBT)"
   ]
  },
  {
   "cell_type": "markdown",
   "metadata": {},
   "source": [
    "Next, we bring in specific libraries from the new repository using almond's `$ivy` magic:"
   ]
  },
  {
   "cell_type": "code",
   "execution_count": 2,
   "metadata": {},
   "outputs": [
    {
     "data": {
      "text/plain": [
       "\u001b[32mimport \u001b[39m\u001b[36m$ivy.$                                  \n",
       "\u001b[39m\n",
       "\u001b[32mimport \u001b[39m\u001b[36m$ivy.$                                     \n",
       "\u001b[39m\n",
       "\u001b[32mimport \u001b[39m\u001b[36m$ivy.$                              \n",
       "\u001b[39m\n",
       "\u001b[32mimport \u001b[39m\u001b[36m$ivy.$                              \n",
       "\u001b[39m\n",
       "\u001b[32mimport \u001b[39m\u001b[36m$ivy.$                                          \n",
       "\u001b[39m\n",
       "\u001b[32mimport \u001b[39m\u001b[36m$ivy.$                                  \n",
       "\u001b[39m\n",
       "\u001b[32mimport \u001b[39m\u001b[36m$ivy.$                                        \n",
       "\u001b[39m\n",
       "\u001b[32mimport \u001b[39m\u001b[36m$ivy.$                              \n",
       "\u001b[39m"
      ]
     },
     "execution_count": 2,
     "metadata": {},
     "output_type": "execute_result"
    }
   ],
   "source": [
    "import $ivy.`edu.holycross.shot::ohco2:10.16.0`\n",
    "import $ivy.`edu.holycross.shot.cite::xcite:4.1.1`\n",
    "import $ivy.`edu.holycross.shot::scm:7.2.0`\n",
    "import $ivy.`edu.holycross.shot::dse:5.2.2`\n",
    "import $ivy.`edu.holycross.shot::citebinaryimage:3.1.1`\n",
    "import $ivy.`edu.holycross.shot::citeobj:7.3.4`\n",
    "import $ivy.`edu.holycross.shot::citerelations:2.5.2`\n",
    "import $ivy.`edu.holycross.shot::cex:6.3.3`\n"
   ]
  },
  {
   "cell_type": "markdown",
   "metadata": {},
   "source": [
    "## Imports\n",
    "\n",
    "From this point on, your notebook consists of completely generic Scala, with the CITE Libraries available to use."
   ]
  },
  {
   "cell_type": "code",
   "execution_count": 3,
   "metadata": {},
   "outputs": [
    {
     "data": {
      "text/plain": [
       "\u001b[32mimport \u001b[39m\u001b[36medu.holycross.shot.cite._\n",
       "\u001b[39m\n",
       "\u001b[32mimport \u001b[39m\u001b[36medu.holycross.shot.ohco2._\n",
       "\u001b[39m\n",
       "\u001b[32mimport \u001b[39m\u001b[36medu.holycross.shot.scm._\n",
       "\u001b[39m\n",
       "\u001b[32mimport \u001b[39m\u001b[36medu.holycross.shot.citeobj._\n",
       "\u001b[39m\n",
       "\u001b[32mimport \u001b[39m\u001b[36medu.holycross.shot.citerelation._\n",
       "\u001b[39m\n",
       "\u001b[32mimport \u001b[39m\u001b[36medu.holycross.shot.dse._\n",
       "\u001b[39m\n",
       "\u001b[32mimport \u001b[39m\u001b[36medu.holycross.shot.citebinaryimage._\n",
       "\u001b[39m\n",
       "\u001b[32mimport \u001b[39m\u001b[36medu.holycross.shot.ohco2._\n",
       "\n",
       "\u001b[39m\n",
       "\u001b[32mimport \u001b[39m\u001b[36malmond.display.UpdatableDisplay\n",
       "\u001b[39m\n",
       "\u001b[32mimport \u001b[39m\u001b[36malmond.interpreter.api.DisplayData.ContentType\n",
       "\u001b[39m\n",
       "\u001b[32mimport \u001b[39m\u001b[36malmond.interpreter.api.{DisplayData, OutputHandler}\n",
       "\n",
       "\u001b[39m\n",
       "\u001b[32mimport \u001b[39m\u001b[36mjava.io.File\n",
       "\u001b[39m\n",
       "\u001b[32mimport \u001b[39m\u001b[36mjava.io.PrintWriter\n",
       "\n",
       "\u001b[39m\n",
       "\u001b[32mimport \u001b[39m\u001b[36mscala.io.Source\n",
       "\u001b[39m"
      ]
     },
     "execution_count": 3,
     "metadata": {},
     "output_type": "execute_result"
    }
   ],
   "source": [
    "// Import some CITE libraries\n",
    "import edu.holycross.shot.cite._\n",
    "import edu.holycross.shot.ohco2._\n",
    "import edu.holycross.shot.scm._\n",
    "import edu.holycross.shot.citeobj._\n",
    "import edu.holycross.shot.citerelation._\n",
    "import edu.holycross.shot.dse._\n",
    "import edu.holycross.shot.citebinaryimage._\n",
    "import edu.holycross.shot.ohco2._\n",
    "\n",
    "import almond.display.UpdatableDisplay\n",
    "import almond.interpreter.api.DisplayData.ContentType\n",
    "import almond.interpreter.api.{DisplayData, OutputHandler}\n",
    "\n",
    "import java.io.File\n",
    "import java.io.PrintWriter\n",
    "\n",
    "import scala.io.Source\n"
   ]
  },
  {
   "cell_type": "markdown",
   "metadata": {},
   "source": [
    "## Useful Functions"
   ]
  },
  {
   "cell_type": "markdown",
   "metadata": {},
   "source": [
    "Save a string to a names file:"
   ]
  },
  {
   "cell_type": "code",
   "execution_count": 4,
   "metadata": {},
   "outputs": [
    {
     "data": {
      "text/plain": [
       "defined \u001b[32mfunction\u001b[39m \u001b[36msaveString\u001b[39m"
      ]
     },
     "execution_count": 4,
     "metadata": {},
     "output_type": "execute_result"
    }
   ],
   "source": [
    "def saveString(s:String, filePath:String = \"\", fileName:String = \"temp.txt\"):Unit = {\n",
    "\t\t val writer = new PrintWriter(new File(s\"${filePath}${fileName}\"))\n",
    "         writer.write(s)\n",
    "         writer.close()\n",
    "\t}"
   ]
  },
  {
   "cell_type": "markdown",
   "metadata": {},
   "source": [
    "Convert a Roman Numeral to an Integer:"
   ]
  },
  {
   "cell_type": "code",
   "execution_count": 5,
   "metadata": {},
   "outputs": [
    {
     "data": {
      "text/plain": [
       "defined \u001b[32mfunction\u001b[39m \u001b[36mfromRoman\u001b[39m"
      ]
     },
     "execution_count": 5,
     "metadata": {},
     "output_type": "execute_result"
    }
   ],
   "source": [
    "def fromRoman(s: String) : Int = {\n",
    "\ttry {\n",
    "\t\tval numerals = Map('I' -> 1, 'V' -> 5, 'X' -> 10, 'L' -> 50, 'C' -> 100, 'D' -> 500, 'M' -> 1000)\n",
    "\n",
    "\t\ts.toUpperCase.map(numerals).foldLeft((0,0)) {\n",
    "\t\t  case ((sum, last), curr) =>  (sum + curr + (if (last < curr) -2*last else 0), curr) }._1\n",
    "\t} catch {\n",
    "\t\tcase e:Exception => throw new Exception(s\"\"\" \"${s}\" is not a valid Roman Numeral.\"\"\")\n",
    "\t}\n",
    "}"
   ]
  },
  {
   "cell_type": "markdown",
   "metadata": {},
   "source": [
    "## Assemble a Library"
   ]
  },
  {
   "cell_type": "markdown",
   "metadata": {},
   "source": [
    "Build a CITE Library by aggregating files, to incorporate ongoing editing."
   ]
  },
  {
   "cell_type": "code",
   "execution_count": null,
   "metadata": {},
   "outputs": [],
   "source": []
  },
  {
   "cell_type": "markdown",
   "metadata": {},
   "source": [
    "## Load the New Library"
   ]
  },
  {
   "cell_type": "markdown",
   "metadata": {},
   "source": [
    "Load a CITE Library…"
   ]
  },
  {
   "cell_type": "code",
   "execution_count": 23,
   "metadata": {},
   "outputs": [
    {
     "name": "stderr",
     "output_type": "stream",
     "text": [
      "Feb 04, 2020 10:25:36 PM wvlet.log.Logger log\n",
      "INFO: Building text repo from cex ...\n",
      "Feb 04, 2020 10:25:36 PM wvlet.log.Logger log\n",
      "INFO: Building collection repo from cex ...\n",
      "Feb 04, 2020 10:25:36 PM wvlet.log.Logger log\n",
      "INFO: Building relations from cex ...\n",
      "Feb 04, 2020 10:25:36 PM wvlet.log.Logger log\n",
      "INFO: All library components built.\n"
     ]
    },
    {
     "data": {
      "text/plain": [
       "\u001b[36mcexPath\u001b[39m: \u001b[32mString\u001b[39m = \u001b[32m\"https://raw.githubusercontent.com/Furman-Editions-In-Progress/xolotl/master/cex/xolotl_all.cex\"\u001b[39m\n",
       "\u001b[36mlib\u001b[39m: \u001b[32mCiteLibrary\u001b[39m = \u001b[33mCiteLibrary\u001b[39m(\n",
       "  \u001b[32m\"Codex Xolotl, Initial data release, 2020d (Contains dummy data for testing!)\"\u001b[39m,\n",
       "  \u001b[33mCite2Urn\u001b[39m(\u001b[32m\"urn:cite2:cex:temp_xolotl.v1:2020d\"\u001b[39m),\n",
       "  \u001b[32m\"CC 3.0 NC-BY\"\u001b[39m,\n",
       "  \u001b[33mVector\u001b[39m(),\n",
       "  \u001b[33mSome\u001b[39m(\n",
       "    \u001b[33mTextRepository\u001b[39m(\n",
       "      \u001b[33mCorpus\u001b[39m(\n",
       "        \u001b[33mVector\u001b[39m(\n",
       "          \u001b[33mCitableNode\u001b[39m(\n",
       "            \u001b[33mCtsUrn\u001b[39m(\u001b[32m\"urn:cts:xolotl:torquemada.001.offner.token:15.head.0\"\u001b[39m),\n",
       "            \u001b[32m\"De \"\u001b[39m\n",
       "          ),\n",
       "          \u001b[33mCitableNode\u001b[39m(\n",
       "            \u001b[33mCtsUrn\u001b[39m(\u001b[32m\"urn:cts:xolotl:torquemada.001.offner.token:15.head.1\"\u001b[39m),\n",
       "            \u001b[32m\"c\\u00f3mo \"\u001b[39m\n",
       "          ),\n",
       "          \u001b[33mCitableNode\u001b[39m(\n",
       "            \u001b[33mCtsUrn\u001b[39m(\u001b[32m\"urn:cts:xolotl:torquemada.001.offner.token:15.head.2\"\u001b[39m),\n",
       "            \u001b[32m\"el \"\u001b[39m\n",
       "          ),\n",
       "          \u001b[33mCitableNode\u001b[39m(\n",
       "            \u001b[33mCtsUrn\u001b[39m(\u001b[32m\"urn:cts:xolotl:torquemada.001.offner.token:15.head.3\"\u001b[39m),\n",
       "            \u001b[32m\"chichimeca \"\u001b[39m\n",
       "          ),\n",
       "          \u001b[33mCitableNode\u001b[39m(\n",
       "            \u001b[33mCtsUrn\u001b[39m(\u001b[32m\"urn:cts:xolotl:torquemada.001.offner.token:15.head.4\"\u001b[39m),\n",
       "            \u001b[32m\"Xolotl, \"\u001b[39m\n",
       "          ),\n",
       "          \u001b[33mCitableNode\u001b[39m(\n",
       "            \u001b[33mCtsUrn\u001b[39m(\u001b[32m\"urn:cts:xolotl:torquemada.001.offner.token:15.head.5\"\u001b[39m),\n",
       "            \u001b[32m\"se\\u00f1or \"\u001b[39m\n",
       "          ),\n",
       "          \u001b[33mCitableNode\u001b[39m(\n",
       "            \u001b[33mCtsUrn\u001b[39m(\u001b[32m\"urn:cts:xolotl:torquemada.001.offner.token:15.head.6\"\u001b[39m),\n",
       "            \u001b[32m\"de \"\u001b[39m\n",
       "          ),\n",
       "          \u001b[33mCitableNode\u001b[39m(\n",
       "..."
      ]
     },
     "execution_count": 23,
     "metadata": {},
     "output_type": "execute_result"
    }
   ],
   "source": [
    "val cexPath = \"https://raw.githubusercontent.com/Furman-Editions-In-Progress/xolotl/master/cex/xolotl_all.cex\"\n",
    "val lib = CiteLibrary(scala.io.Source.fromURL(cexPath).mkString)"
   ]
  },
  {
   "cell_type": "markdown",
   "metadata": {},
   "source": [
    "### Get the Components of the Library"
   ]
  },
  {
   "cell_type": "markdown",
   "metadata": {},
   "source": [
    "**Warning** The code below makes some assumptions about this particular CiteLibrary, namely that it has a TextRepository and a CollectionRepository. Those `.get` methods will throw an exception in the even that the loaded library has `None` as the value for `.textRepository` or `.collectionRepository`."
   ]
  },
  {
   "cell_type": "code",
   "execution_count": 16,
   "metadata": {},
   "outputs": [
    {
     "data": {
      "text/plain": [
       "\u001b[36mtr\u001b[39m: \u001b[32mTextRepository\u001b[39m = \u001b[33mTextRepository\u001b[39m(\n",
       "  \u001b[33mCorpus\u001b[39m(\n",
       "    \u001b[33mVector\u001b[39m(\n",
       "      \u001b[33mCitableNode\u001b[39m(\n",
       "        \u001b[33mCtsUrn\u001b[39m(\u001b[32m\"urn:cts:xolotl:torquemada.001.offner.token:15.head.0\"\u001b[39m),\n",
       "        \u001b[32m\"De \"\u001b[39m\n",
       "      ),\n",
       "      \u001b[33mCitableNode\u001b[39m(\n",
       "        \u001b[33mCtsUrn\u001b[39m(\u001b[32m\"urn:cts:xolotl:torquemada.001.offner.token:15.head.1\"\u001b[39m),\n",
       "        \u001b[32m\"c\\u00f3mo \"\u001b[39m\n",
       "      ),\n",
       "      \u001b[33mCitableNode\u001b[39m(\n",
       "        \u001b[33mCtsUrn\u001b[39m(\u001b[32m\"urn:cts:xolotl:torquemada.001.offner.token:15.head.2\"\u001b[39m),\n",
       "        \u001b[32m\"el \"\u001b[39m\n",
       "      ),\n",
       "      \u001b[33mCitableNode\u001b[39m(\n",
       "        \u001b[33mCtsUrn\u001b[39m(\u001b[32m\"urn:cts:xolotl:torquemada.001.offner.token:15.head.3\"\u001b[39m),\n",
       "        \u001b[32m\"chichimeca \"\u001b[39m\n",
       "      ),\n",
       "      \u001b[33mCitableNode\u001b[39m(\n",
       "        \u001b[33mCtsUrn\u001b[39m(\u001b[32m\"urn:cts:xolotl:torquemada.001.offner.token:15.head.4\"\u001b[39m),\n",
       "        \u001b[32m\"Xolotl, \"\u001b[39m\n",
       "      ),\n",
       "      \u001b[33mCitableNode\u001b[39m(\n",
       "        \u001b[33mCtsUrn\u001b[39m(\u001b[32m\"urn:cts:xolotl:torquemada.001.offner.token:15.head.5\"\u001b[39m),\n",
       "        \u001b[32m\"se\\u00f1or \"\u001b[39m\n",
       "      ),\n",
       "      \u001b[33mCitableNode\u001b[39m(\n",
       "        \u001b[33mCtsUrn\u001b[39m(\u001b[32m\"urn:cts:xolotl:torquemada.001.offner.token:15.head.6\"\u001b[39m),\n",
       "        \u001b[32m\"de \"\u001b[39m\n",
       "      ),\n",
       "      \u001b[33mCitableNode\u001b[39m(\n",
       "        \u001b[33mCtsUrn\u001b[39m(\u001b[32m\"urn:cts:xolotl:torquemada.001.offner.token:15.head.7\"\u001b[39m),\n",
       "        \u001b[32m\"las \"\u001b[39m\n",
       "      ),\n",
       "      \u001b[33mCitableNode\u001b[39m(\n",
       "        \u001b[33mCtsUrn\u001b[39m(\u001b[32m\"urn:cts:xolotl:torquemada.001.offner.token:15.head.8\"\u001b[39m),\n",
       "        \u001b[32m\"provincias \"\u001b[39m\n",
       "      ),\n",
       "...\n",
       "\u001b[36mcat\u001b[39m: \u001b[32mCatalog\u001b[39m = \u001b[33mCatalog\u001b[39m(\n",
       "  \u001b[33mVector\u001b[39m(\n",
       "    \u001b[33mCatalogEntry\u001b[39m(\n",
       "      \u001b[33mCtsUrn\u001b[39m(\u001b[32m\"urn:cts:xolotl:torquemada.001.offner:\"\u001b[39m),\n",
       "      \u001b[32m\"chapter/section/sentence\"\u001b[39m,\n",
       "      \u001b[32m\"esp\"\u001b[39m,\n",
       "      \u001b[32m\"fray Juan de Torquemada\"\u001b[39m,\n",
       "      \u001b[32m\"Monarqu\\u00eda indiana, 1615\"\u001b[39m,\n",
       "      \u001b[33mSome\u001b[39m(\u001b[32m\"Offner, etc.\"\u001b[39m),\n",
       "      \u001b[32mNone\u001b[39m,\n",
       "      true\n",
       "    ),\n",
       "    \u001b[33mCatalogEntry\u001b[39m(\n",
       "      \u001b[33mCtsUrn\u001b[39m(\u001b[32m\"urn:cts:xolotl:torquemada.001.offner.token:\"\u001b[39m),\n",
       "      \u001b[32m\"chapter/section/sentence/token\"\u001b[39m,\n",
       "      \u001b[32m\"esp\"\u001b[39m,\n",
       "      \u001b[32m\"fray Juan de Torquemada\"\u001b[39m,\n",
       "      \u001b[32m\"Monarqu\\u00eda indiana, 1615\"\u001b[39m,\n",
       "      \u001b[33mSome\u001b[39m(\u001b[32m\"Offner, etc.\"\u001b[39m),\n",
       "      \u001b[33mSome\u001b[39m(\u001b[32m\"Tokenized\"\u001b[39m),\n",
       "      true\n",
       "    )\n",
       "  )\n",
       ")\n",
       "\u001b[36mcorp\u001b[39m: \u001b[32mCorpus\u001b[39m = \u001b[33mCorpus\u001b[39m(\n",
       "  \u001b[33mVector\u001b[39m(\n",
       "    \u001b[33mCitableNode\u001b[39m(\n",
       "      \u001b[33mCtsUrn\u001b[39m(\u001b[32m\"urn:cts:xolotl:torquemada.001.offner.token:15.head.0\"\u001b[39m),\n",
       "      \u001b[32m\"De \"\u001b[39m\n",
       "    ),\n",
       "    \u001b[33mCitableNode\u001b[39m(\n",
       "      \u001b[33mCtsUrn\u001b[39m(\u001b[32m\"urn:cts:xolotl:torquemada.001.offner.token:15.head.1\"\u001b[39m),\n",
       "      \u001b[32m\"c\\u00f3mo \"\u001b[39m\n",
       "    ),\n",
       "    \u001b[33mCitableNode\u001b[39m(\n",
       "      \u001b[33mCtsUrn\u001b[39m(\u001b[32m\"urn:cts:xolotl:torquemada.001.offner.token:15.head.2\"\u001b[39m),\n",
       "      \u001b[32m\"el \"\u001b[39m\n",
       "    ),\n",
       "    \u001b[33mCitableNode\u001b[39m(\n",
       "      \u001b[33mCtsUrn\u001b[39m(\u001b[32m\"urn:cts:xolotl:torquemada.001.offner.token:15.head.3\"\u001b[39m),\n",
       "      \u001b[32m\"chichimeca \"\u001b[39m\n",
       "    ),\n",
       "    \u001b[33mCitableNode\u001b[39m(\n",
       "      \u001b[33mCtsUrn\u001b[39m(\u001b[32m\"urn:cts:xolotl:torquemada.001.offner.token:15.head.4\"\u001b[39m),\n",
       "      \u001b[32m\"Xolotl, \"\u001b[39m\n",
       "    ),\n",
       "    \u001b[33mCitableNode\u001b[39m(\n",
       "      \u001b[33mCtsUrn\u001b[39m(\u001b[32m\"urn:cts:xolotl:torquemada.001.offner.token:15.head.5\"\u001b[39m),\n",
       "      \u001b[32m\"se\\u00f1or \"\u001b[39m\n",
       "    ),\n",
       "    \u001b[33mCitableNode\u001b[39m(\n",
       "      \u001b[33mCtsUrn\u001b[39m(\u001b[32m\"urn:cts:xolotl:torquemada.001.offner.token:15.head.6\"\u001b[39m),\n",
       "      \u001b[32m\"de \"\u001b[39m\n",
       "    ),\n",
       "    \u001b[33mCitableNode\u001b[39m(\n",
       "      \u001b[33mCtsUrn\u001b[39m(\u001b[32m\"urn:cts:xolotl:torquemada.001.offner.token:15.head.7\"\u001b[39m),\n",
       "      \u001b[32m\"las \"\u001b[39m\n",
       "    ),\n",
       "    \u001b[33mCitableNode\u001b[39m(\n",
       "      \u001b[33mCtsUrn\u001b[39m(\u001b[32m\"urn:cts:xolotl:torquemada.001.offner.token:15.head.8\"\u001b[39m),\n",
       "      \u001b[32m\"provincias \"\u001b[39m\n",
       "    ),\n",
       "    \u001b[33mCitableNode\u001b[39m(\n",
       "...\n",
       "\u001b[36mcr\u001b[39m: \u001b[32mCiteCollectionRepository\u001b[39m = \u001b[33mCiteCollectionRepository\u001b[39m(\n",
       "  \u001b[33mCiteCollectionData\u001b[39m(\n",
       "    \u001b[33mVector\u001b[39m(\n",
       "      \u001b[33mCitePropertyValue\u001b[39m(\n",
       "        \u001b[33mCite2Urn\u001b[39m(\n",
       "          \u001b[32m\"urn:cite2:fufolio:extended_text_properties.v1.extendedtype:xolotl_places\"\u001b[39m\n",
       "        ),\n",
       "        \u001b[32m\"latlong\"\u001b[39m\n",
       "      ),\n",
       "      \u001b[33mCitePropertyValue\u001b[39m(\n",
       "        \u001b[33mCite2Urn\u001b[39m(\n",
       "          \u001b[32m\"urn:cite2:fufolio:extended_text_properties.v1.urn:xolotl_places\"\u001b[39m\n",
       "        ),\n",
       "        \u001b[33mCite2Urn\u001b[39m(\u001b[32m\"urn:cite2:fufolio:extended_text_properties.v1:xolotl_places\"\u001b[39m)\n",
       "      ),\n",
       "      \u001b[33mCitePropertyValue\u001b[39m(\n",
       "        \u001b[33mCite2Urn\u001b[39m(\n",
       "          \u001b[32m\"urn:cite2:fufolio:extended_text_properties.v1.propertyurn:xolotl_places\"\u001b[39m\n",
       "        ),\n",
       "        \u001b[33mCite2Urn\u001b[39m(\u001b[32m\"urn:cite2:xolotl:placeidentifications.v1.geo:\"\u001b[39m)\n",
       "      ),\n",
       "      \u001b[33mCitePropertyValue\u001b[39m(\n",
       "        \u001b[33mCite2Urn\u001b[39m(\n",
       "          \u001b[32m\"urn:cite2:fufolio:extended_text_properties.v1.label:xolotl_places\"\u001b[39m\n",
       "        ),\n",
       "        \u001b[32m\"Place identifications proposed for the CodexXolotl\"\u001b[39m\n",
       "      ),\n",
       "      \u001b[33mCitePropertyValue\u001b[39m(\n",
       "        \u001b[33mCite2Urn\u001b[39m(\n",
       "          \u001b[32m\"urn:cite2:fufolio:extended_text_properties.v1.extendedtype:xolotl_md\"\u001b[39m\n",
       "        ),\n",
       "        \u001b[32m\"markdown\"\u001b[39m\n",
       "      ),\n",
       "      \u001b[33mCitePropertyValue\u001b[39m(\n",
       "        \u001b[33mCite2Urn\u001b[39m(\u001b[32m\"urn:cite2:fufolio:extended_text_properties.v1.urn:xolotl_md\"\u001b[39m),\n",
       "        \u001b[33mCite2Urn\u001b[39m(\u001b[32m\"urn:cite2:fufolio:extended_text_properties.v1:xolotl_md\"\u001b[39m)\n",
       "      ),\n",
       "..."
      ]
     },
     "execution_count": 16,
     "metadata": {},
     "output_type": "execute_result"
    }
   ],
   "source": [
    "val tr = lib.textRepository.get\n",
    "val cat = tr.catalog\n",
    "val corp = tr.corpus\n",
    "val cr = lib.collectionRepository.get"
   ]
  },
  {
   "cell_type": "markdown",
   "metadata": {},
   "source": [
    "## Find Things in a Scene"
   ]
  },
  {
   "cell_type": "markdown",
   "metadata": {},
   "source": [
    "Get the URN for a scene we are interested in."
   ]
  },
  {
   "cell_type": "code",
   "execution_count": 17,
   "metadata": {
    "scrolled": true
   },
   "outputs": [
    {
     "data": {
      "text/plain": [
       "\u001b[36msceneComment\u001b[39m: \u001b[32mCite2Urn\u001b[39m = \u001b[33mCite2Urn\u001b[39m(\u001b[32m\"urn:cite2:xolotl:commentary.v1:1\"\u001b[39m)\n",
       "\u001b[36msceneImgProperty\u001b[39m: \u001b[32mCiteCollectionData\u001b[39m = \u001b[33mCiteCollectionData\u001b[39m(\n",
       "  \u001b[33mVector\u001b[39m(\n",
       "    \u001b[33mCitePropertyValue\u001b[39m(\n",
       "      \u001b[33mCite2Urn\u001b[39m(\u001b[32m\"urn:cite2:xolotl:commentary.v1.img:1\"\u001b[39m),\n",
       "      \u001b[33mCite2Urn\u001b[39m(\n",
       "        \u001b[32m\"urn:cite2:xolotl:codeximg.2020:27_11r_vis2@0.3374,0.1747,0.2732,0.1129\"\u001b[39m\n",
       "      )\n",
       "    )\n",
       "  )\n",
       ")\n",
       "\u001b[36msceneImg\u001b[39m: \u001b[32mAny\u001b[39m = \u001b[33mCite2Urn\u001b[39m(\n",
       "  \u001b[32m\"urn:cite2:xolotl:codeximg.2020:27_11r_vis2@0.3374,0.1747,0.2732,0.1129\"\u001b[39m\n",
       ")\n",
       "\u001b[36msceneImgROI\u001b[39m: \u001b[32mOption\u001b[39m[\u001b[32mString\u001b[39m] = \u001b[33mSome\u001b[39m(\u001b[32m\"0.3374,0.1747,0.2732,0.1129\"\u001b[39m)\n",
       "\u001b[36msceneRoi\u001b[39m: \u001b[32mImageROI\u001b[39m = \u001b[33mImageROI\u001b[39m(\u001b[32m\"0.3374,0.1747,0.2732,0.1129\"\u001b[39m)"
      ]
     },
     "execution_count": 17,
     "metadata": {},
     "output_type": "execute_result"
    }
   ],
   "source": [
    "val sceneComment = Cite2Urn(\"urn:cite2:xolotl:commentary.v1:1\")\n",
    "val sceneImgProperty = cr.data ~~ Cite2Urn(\"urn:cite2:xolotl:commentary.v1.img:1\")\n",
    "val sceneImg = sceneImgProperty.data.head.propertyValue\n",
    "val sceneImgROI = sceneImg.asInstanceOf[Cite2Urn].objectExtensionOption\n",
    "val sceneRoi = ImageROI(sceneImgROI.get)"
   ]
  },
  {
   "cell_type": "markdown",
   "metadata": {},
   "source": [
    "## Data Models"
   ]
  },
  {
   "cell_type": "code",
   "execution_count": 18,
   "metadata": {},
   "outputs": [
    {
     "data": {
      "text/plain": [
       "\u001b[36mextendedTextDM\u001b[39m: \u001b[32mCite2Urn\u001b[39m = \u001b[33mCite2Urn\u001b[39m(\n",
       "  \u001b[32m\"urn:cite2:cite:datamodels.v1:extensions_text\"\u001b[39m\n",
       ")"
      ]
     },
     "execution_count": 18,
     "metadata": {},
     "output_type": "execute_result"
    }
   ],
   "source": [
    "val extendedTextDM = Cite2Urn(\"urn:cite2:cite:datamodels.v1:extensions_text\")"
   ]
  },
  {
   "cell_type": "code",
   "execution_count": 19,
   "metadata": {},
   "outputs": [
    {
     "data": {
      "text/plain": [
       "\u001b[36mextTextColls\u001b[39m: \u001b[32mVector\u001b[39m[\u001b[32mCite2Urn\u001b[39m] = \u001b[33mVector\u001b[39m(\n",
       "  \u001b[33mCite2Urn\u001b[39m(\u001b[32m\"urn:cite2:fufolio:extended_text_properties.v1:\"\u001b[39m)\n",
       ")"
      ]
     },
     "execution_count": 19,
     "metadata": {},
     "output_type": "execute_result"
    }
   ],
   "source": [
    "\n",
    "\n",
    "val extTextColls: Vector[Cite2Urn] = {\n",
    "    lib.dataModels.getOrElse(Vector[DataModel]()).filter(_.model == extendedTextDM).map(_.collection)\n",
    "}"
   ]
  },
  {
   "cell_type": "code",
   "execution_count": 20,
   "metadata": {},
   "outputs": [
    {
     "data": {
      "text/plain": [
       "\u001b[36mextObjs\u001b[39m: \u001b[32mVector\u001b[39m[\u001b[32mCiteObject\u001b[39m] = \u001b[33mVector\u001b[39m(\n",
       "  \u001b[33mCiteObject\u001b[39m(\n",
       "    \u001b[33mCite2Urn\u001b[39m(\u001b[32m\"urn:cite2:fufolio:extended_text_properties.v1:xolotl_places\"\u001b[39m),\n",
       "    \u001b[32m\"Place identifications proposed for the CodexXolotl\"\u001b[39m,\n",
       "    \u001b[33mVector\u001b[39m(\n",
       "      \u001b[33mCitePropertyImplementation\u001b[39m(\n",
       "        \u001b[33mCite2Urn\u001b[39m(\n",
       "          \u001b[32m\"urn:cite2:fufolio:extended_text_properties.v1.extendedtype:xolotl_places\"\u001b[39m\n",
       "        ),\n",
       "        \u001b[33mCitePropertyDef\u001b[39m(\n",
       "          \u001b[33mCite2Urn\u001b[39m(\n",
       "            \u001b[32m\"urn:cite2:fufolio:extended_text_properties.v1.extendedtype:\"\u001b[39m\n",
       "          ),\n",
       "          \u001b[32m\"Extended Text Type\"\u001b[39m,\n",
       "          ControlledVocabType,\n",
       "          \u001b[33mVector\u001b[39m(\u001b[32m\"geojson\"\u001b[39m, \u001b[32m\"pleiadesuri\"\u001b[39m, \u001b[32m\"latlong\"\u001b[39m, \u001b[32m\"markdown\"\u001b[39m, \u001b[32m\"teixml\"\u001b[39m)\n",
       "        ),\n",
       "        \u001b[32m\"latlong\"\u001b[39m\n",
       "      ),\n",
       "      \u001b[33mCitePropertyImplementation\u001b[39m(\n",
       "        \u001b[33mCite2Urn\u001b[39m(\n",
       "          \u001b[32m\"urn:cite2:fufolio:extended_text_properties.v1.propertyurn:xolotl_places\"\u001b[39m\n",
       "        ),\n",
       "        \u001b[33mCitePropertyDef\u001b[39m(\n",
       "          \u001b[33mCite2Urn\u001b[39m(\u001b[32m\"urn:cite2:fufolio:extended_text_properties.v1.propertyurn:\"\u001b[39m),\n",
       "          \u001b[32m\"Property URN\"\u001b[39m,\n",
       "          Cite2UrnType,\n",
       "          \u001b[33mVector\u001b[39m()\n",
       "        ),\n",
       "        \u001b[33mCite2Urn\u001b[39m(\u001b[32m\"urn:cite2:xolotl:placeidentifications.v1.geo:\"\u001b[39m)\n",
       "      )\n",
       "    )\n",
       "  ),\n",
       "  \u001b[33mCiteObject\u001b[39m(\n",
       "    \u001b[33mCite2Urn\u001b[39m(\u001b[32m\"urn:cite2:fufolio:extended_text_properties.v1:xolotl_md\"\u001b[39m),\n",
       "    \u001b[32m\"Description field in Xolotl Places collection\"\u001b[39m,\n",
       "..."
      ]
     },
     "execution_count": 20,
     "metadata": {},
     "output_type": "execute_result"
    }
   ],
   "source": [
    "val extObjs = cr ~~ Cite2Urn(\"urn:cite2:fufolio:extended_text_properties.v1:\")"
   ]
  },
  {
   "cell_type": "code",
   "execution_count": 21,
   "metadata": {},
   "outputs": [
    {
     "data": {
      "text/plain": [
       "\u001b[36mres20\u001b[39m: \u001b[32mVector\u001b[39m[(\u001b[32mCite2Urn\u001b[39m, \u001b[32mAny\u001b[39m)] = \u001b[33mVector\u001b[39m(\n",
       "  (\n",
       "    \u001b[33mCite2Urn\u001b[39m(\n",
       "      \u001b[32m\"urn:cite2:fufolio:extended_text_properties.v1.propertyurn:xolotl_places\"\u001b[39m\n",
       "    ),\n",
       "    \u001b[32m\"latlong\"\u001b[39m\n",
       "  ),\n",
       "  (\n",
       "    \u001b[33mCite2Urn\u001b[39m(\n",
       "      \u001b[32m\"urn:cite2:fufolio:extended_text_properties.v1.propertyurn:xolotl_md\"\u001b[39m\n",
       "    ),\n",
       "    \u001b[32m\"markdown\"\u001b[39m\n",
       "  )\n",
       ")"
      ]
     },
     "execution_count": 21,
     "metadata": {},
     "output_type": "execute_result"
    }
   ],
   "source": [
    "extObjs.map( o => {\n",
    "    val pu = o.urn.addProperty(\"propertyurn\")\n",
    "    val su = o.urn.addProperty(\"extendedtype\")\n",
    "    (pu, o.propertyValue(su))\n",
    "})"
   ]
  },
  {
   "cell_type": "code",
   "execution_count": null,
   "metadata": {},
   "outputs": [],
   "source": []
  },
  {
   "cell_type": "code",
   "execution_count": null,
   "metadata": {},
   "outputs": [],
   "source": []
  },
  {
   "cell_type": "code",
   "execution_count": null,
   "metadata": {},
   "outputs": [],
   "source": []
  }
 ],
 "metadata": {
  "kernel_info": {
   "name": "scala"
  },
  "kernelspec": {
   "display_name": "Scala",
   "language": "scala",
   "name": "scala"
  },
  "language_info": {
   "codemirror_mode": "text/x-scala",
   "file_extension": ".scala",
   "mimetype": "text/x-scala",
   "name": "scala",
   "nbconvert_exporter": "script",
   "version": "2.12.10"
  },
  "nteract": {
   "version": "0.15.0"
  }
 },
 "nbformat": 4,
 "nbformat_minor": 2
}
