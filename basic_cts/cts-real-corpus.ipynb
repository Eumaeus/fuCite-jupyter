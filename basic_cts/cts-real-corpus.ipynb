{
 "cells": [
  {
   "cell_type": "markdown",
   "metadata": {},
   "source": [
    "# Basic CTS in Jupyter Notebooks\n",
    "\n",
    "\n"
   ]
  },
  {
   "cell_type": "markdown",
   "metadata": {},
   "source": [
    "## Configuring CITE libraries for almond kernel\n",
    "\n",
    "First, we'll make a bintray repository with CITE libraries available to your almond kernel."
   ]
  },
  {
   "cell_type": "code",
   "execution_count": 1,
   "metadata": {},
   "outputs": [
    {
     "data": {
      "text/plain": [
       "\u001b[36mmyBT\u001b[39m: \u001b[32mcoursierapi\u001b[39m.\u001b[32mMavenRepository\u001b[39m = MavenRepository(https://dl.bintray.com/neelsmith/maven)"
      ]
     },
     "execution_count": 1,
     "metadata": {},
     "output_type": "execute_result"
    }
   ],
   "source": [
    "val myBT = coursierapi.MavenRepository.of(\"https://dl.bintray.com/neelsmith/maven\")\n",
    "interp.repositories() ++= Seq(myBT)"
   ]
  },
  {
   "cell_type": "markdown",
   "metadata": {},
   "source": [
    "Next, we bring in specific libraries from the new repository using almond's `$ivy` magic:"
   ]
  },
  {
   "cell_type": "code",
   "execution_count": 2,
   "metadata": {},
   "outputs": [
    {
     "data": {
      "text/plain": [
       "\u001b[32mimport \u001b[39m\u001b[36m$ivy.$                                  \n",
       "\u001b[39m\n",
       "\u001b[32mimport \u001b[39m\u001b[36m$ivy.$                                     \n",
       "\u001b[39m\n",
       "\u001b[32mimport \u001b[39m\u001b[36m$ivy.$                              \n",
       "\u001b[39m\n",
       "\u001b[32mimport \u001b[39m\u001b[36m$ivy.$                              \n",
       "\u001b[39m\n",
       "\u001b[32mimport \u001b[39m\u001b[36m$ivy.$                                          \n",
       "\u001b[39m\n",
       "\u001b[32mimport \u001b[39m\u001b[36m$ivy.$                                  \n",
       "\u001b[39m\n",
       "\u001b[32mimport \u001b[39m\u001b[36m$ivy.$                                        \n",
       "\u001b[39m\n",
       "\u001b[32mimport \u001b[39m\u001b[36m$ivy.$                              \u001b[39m"
      ]
     },
     "execution_count": 2,
     "metadata": {},
     "output_type": "execute_result"
    }
   ],
   "source": [
    "import $ivy.`edu.holycross.shot::ohco2:10.16.0`\n",
    "import $ivy.`edu.holycross.shot.cite::xcite:4.1.1`\n",
    "import $ivy.`edu.holycross.shot::scm:7.2.0`\n",
    "import $ivy.`edu.holycross.shot::dse:5.2.2`\n",
    "import $ivy.`edu.holycross.shot::citebinaryimage:3.1.0`\n",
    "import $ivy.`edu.holycross.shot::citeobj:7.3.4`\n",
    "import $ivy.`edu.holycross.shot::citerelations:2.5.2`\n",
    "import $ivy.`edu.holycross.shot::cex:6.3.3`"
   ]
  },
  {
   "cell_type": "markdown",
   "metadata": {},
   "source": [
    "## Imports\n",
    "\n",
    "From this point on, your notebook consists of completely generic Scala, with the CITE Libraries available to use."
   ]
  },
  {
   "cell_type": "code",
   "execution_count": 3,
   "metadata": {},
   "outputs": [
    {
     "data": {
      "text/plain": [
       "\u001b[32mimport \u001b[39m\u001b[36medu.holycross.shot.cite._\n",
       "\u001b[39m\n",
       "\u001b[32mimport \u001b[39m\u001b[36medu.holycross.shot.ohco2._\n",
       "\u001b[39m\n",
       "\u001b[32mimport \u001b[39m\u001b[36medu.holycross.shot.scm._\n",
       "\u001b[39m\n",
       "\u001b[32mimport \u001b[39m\u001b[36medu.holycross.shot.citeobj._\n",
       "\u001b[39m\n",
       "\u001b[32mimport \u001b[39m\u001b[36medu.holycross.shot.citerelation._\n",
       "\u001b[39m\n",
       "\u001b[32mimport \u001b[39m\u001b[36medu.holycross.shot.dse._\n",
       "\u001b[39m\n",
       "\u001b[32mimport \u001b[39m\u001b[36medu.holycross.shot.ohco2._\u001b[39m"
      ]
     },
     "execution_count": 3,
     "metadata": {},
     "output_type": "execute_result"
    }
   ],
   "source": [
    "// Import some CITE libraries\n",
    "import edu.holycross.shot.cite._\n",
    "import edu.holycross.shot.ohco2._\n",
    "import edu.holycross.shot.scm._\n",
    "import edu.holycross.shot.citeobj._\n",
    "import edu.holycross.shot.citerelation._\n",
    "import edu.holycross.shot.dse._\n",
    "import edu.holycross.shot.ohco2._"
   ]
  },
  {
   "cell_type": "markdown",
   "metadata": {},
   "source": [
    "## Get a Real Corpus"
   ]
  },
  {
   "cell_type": "markdown",
   "metadata": {},
   "source": [
    "We will load a real corpus consisting of the Gospel of John in Greek and English."
   ]
  },
  {
   "cell_type": "code",
   "execution_count": 4,
   "metadata": {
    "scrolled": true
   },
   "outputs": [
    {
     "name": "stderr",
     "output_type": "stream",
     "text": [
      "Jan 15, 2020 5:07:48 PM wvlet.log.Logger log\n",
      "INFO: Building text repo from cex ...\n",
      "Jan 15, 2020 5:07:49 PM wvlet.log.Logger log\n",
      "INFO: Building collection repo from cex ...\n",
      "Jan 15, 2020 5:07:49 PM wvlet.log.Logger log\n",
      "INFO: Building relations from cex ...\n",
      "Jan 15, 2020 5:07:49 PM wvlet.log.Logger log\n",
      "INFO: All library components built.\n"
     ]
    },
    {
     "data": {
      "text/plain": [
       "\u001b[36mcexPath\u001b[39m: \u001b[32mString\u001b[39m = \u001b[32m\"https://raw.githubusercontent.com/Eumaeus/fuCiteDX/master/john_editions_all.cex\"\u001b[39m\n",
       "\u001b[36mlib\u001b[39m: \u001b[32mCiteLibrary\u001b[39m = \u001b[33mCiteLibrary\u001b[39m(\n",
       "  \u001b[32m\"john\"\u001b[39m,\n",
       "  \u001b[33mCite2Urn\u001b[39m(\u001b[32m\"urn:cite2:fufolio:fall2018_texts.v1:john\"\u001b[39m),\n",
       "  \u001b[32m\"CC Share Alike. For details, see more info.\"\u001b[39m,\n",
       "  \u001b[33mVector\u001b[39m(),\n",
       "  \u001b[33mSome\u001b[39m(\n",
       "    \u001b[33mTextRepository\u001b[39m(\n",
       "      \u001b[33mCorpus\u001b[39m(\n",
       "        \u001b[33mVector\u001b[39m(\n",
       "          \u001b[33mCitableNode\u001b[39m(\n",
       "            \u001b[33mCtsUrn\u001b[39m(\u001b[32m\"urn:cts:greekLit:tlg0031.tlg004.wh_fu:1.head\"\u001b[39m),\n",
       "            \u001b[32m\"\\u039a\\u0391\\u03a4\\u0391 \\u0399\\u03a9\\u0391\\u039d\\u039d\\u0397\\u039d \"\u001b[39m\n",
       "          ),\n",
       "          \u001b[33mCitableNode\u001b[39m(\n",
       "            \u001b[33mCtsUrn\u001b[39m(\u001b[32m\"urn:cts:greekLit:tlg0031.tlg004.wh_fu:1.1\"\u001b[39m),\n",
       "            \u001b[32m\"\\u1f18\\u03bd \\u1f00\\u03c1\\u03c7\\u1fc7 \\u1f26\\u03bd \\u1f41 \\u03bb\\u03cc\\u03b3\\u03bf\\u03c2, \\u03ba\\u03b1\\u1f76 \\u1f41 \\u03bb\\u03cc\\u03b3\\u03bf\\u03c2 \\u1f26\\u03bd \\u03c0\\u03c1\\u1f78\\u03c2 \\u03c4\\u1f78\\u03bd \\u03b8\\u03b5\\u03cc\\u03bd, \\u03ba\\u03b1\\u1f76 \\u03b8\\u03b5\\u1f78\\u03c2 \\u1f26\\u03bd \\u1f41 \\u03bb\\u03cc\\u03b3\\u03bf\\u03c2. \"\u001b[39m\n",
       "          ),\n",
       "          \u001b[33mCitableNode\u001b[39m(\n",
       "            \u001b[33mCtsUrn\u001b[39m(\u001b[32m\"urn:cts:greekLit:tlg0031.tlg004.wh_fu:1.2\"\u001b[39m),\n",
       "            \u001b[32m\"\\u03bf\\u1f57\\u03c4\\u03bf\\u03c2 \\u1f26\\u03bd \\u1f10\\u03bd \\u1f00\\u03c1\\u03c7\\u1fc7 \\u03c0\\u03c1\\u1f78\\u03c2 \\u03c4\\u1f78\\u03bd \\u03b8\\u03b5\\u03cc\\u03bd. \"\u001b[39m\n",
       "          ),\n",
       "          \u001b[33mCitableNode\u001b[39m(\n",
       "            \u001b[33mCtsUrn\u001b[39m(\u001b[32m\"urn:cts:greekLit:tlg0031.tlg004.wh_fu:1.3\"\u001b[39m),\n",
       "            \u001b[32m\"\\u03c0\\u03ac\\u03bd\\u03c4\\u03b1 \\u03b4\\u03b9\\u2019 \\u03b1\\u1f50\\u03c4\\u03bf\\u1fe6 \\u1f10\\u03b3\\u03ad\\u03bd\\u03b5\\u03c4\\u03bf, \\u03ba\\u03b1\\u1f76 \\u03c7\\u03c9\\u03c1\\u1f76\\u03c2 \\u03b1\\u1f50\\u03c4\\u03bf\\u1fe6 \\u1f10\\u03b3\\u03ad\\u03bd\\u03b5\\u03c4\\u03bf \\u03bf\\u1f50\\u03b4\\u1f72 \\u1f15\\u03bd. \\u1f43 \\u03b3\\u03ad\\u03b3\\u03bf\\u03bd\\u03b5\\u03bd\"\u001b[39m\n",
       "          ),\n",
       "          \u001b[33mCitableNode\u001b[39m(\n",
       "            \u001b[33mCtsUrn\u001b[39m(\u001b[32m\"urn:cts:greekLit:tlg0031.tlg004.wh_fu:1.4\"\u001b[39m),\n",
       "            \u001b[32m\"\\u1f10\\u03bd \\u03b1\\u1f50\\u03c4\\u1ff7 \\u03b6\\u03c9\\u1f74 \\u1f26\\u03\u001b[39m..."
      ]
     },
     "execution_count": 4,
     "metadata": {},
     "output_type": "execute_result"
    }
   ],
   "source": [
    "val cexPath = \"https://raw.githubusercontent.com/Eumaeus/fuCiteDX/master/john_editions_all.cex\"\n",
    "val lib = CiteLibrary(scala.io.Source.fromURL(cexPath).mkString)"
   ]
  },
  {
   "cell_type": "markdown",
   "metadata": {},
   "source": [
    "### Some convenience URNs, Values, and Functions"
   ]
  },
  {
   "cell_type": "markdown",
   "metadata": {},
   "source": [
    "Let's pre-define some URNs convenient for exploring the corpus:"
   ]
  },
  {
   "cell_type": "code",
   "execution_count": 7,
   "metadata": {},
   "outputs": [
    {
     "data": {
      "text/plain": [
       "\u001b[36mgrkJohn\u001b[39m: \u001b[32mCtsUrn\u001b[39m = \u001b[33mCtsUrn\u001b[39m(\u001b[32m\"urn:cts:greekLit:tlg0031.tlg004.wh_fu:\"\u001b[39m)\n",
       "\u001b[36mengJohn\u001b[39m: \u001b[32mCtsUrn\u001b[39m = \u001b[33mCtsUrn\u001b[39m(\u001b[32m\"urn:cts:greekLit:tlg0031.tlg004.kjv_fu:\"\u001b[39m)"
      ]
     },
     "execution_count": 7,
     "metadata": {},
     "output_type": "execute_result"
    }
   ],
   "source": [
    "val grkJohn = CtsUrn(\"urn:cts:greekLit:tlg0031.tlg004.wh_fu:\")\n",
    "val engJohn = CtsUrn(\"urn:cts:greekLit:tlg0031.tlg004.kjv_fu:\")"
   ]
  },
  {
   "cell_type": "markdown",
   "metadata": {},
   "source": [
    "And let's get the big Corpus out of our CITE Library"
   ]
  },
  {
   "cell_type": "code",
   "execution_count": 8,
   "metadata": {},
   "outputs": [
    {
     "data": {
      "text/plain": [
       "\u001b[36mcorp\u001b[39m: \u001b[32mCorpus\u001b[39m = \u001b[33mCorpus\u001b[39m(\n",
       "  \u001b[33mVector\u001b[39m(\n",
       "    \u001b[33mCitableNode\u001b[39m(\n",
       "      \u001b[33mCtsUrn\u001b[39m(\u001b[32m\"urn:cts:greekLit:tlg0031.tlg004.wh_fu:1.head\"\u001b[39m),\n",
       "      \u001b[32m\"\\u039a\\u0391\\u03a4\\u0391 \\u0399\\u03a9\\u0391\\u039d\\u039d\\u0397\\u039d \"\u001b[39m\n",
       "    ),\n",
       "    \u001b[33mCitableNode\u001b[39m(\n",
       "      \u001b[33mCtsUrn\u001b[39m(\u001b[32m\"urn:cts:greekLit:tlg0031.tlg004.wh_fu:1.1\"\u001b[39m),\n",
       "      \u001b[32m\"\\u1f18\\u03bd \\u1f00\\u03c1\\u03c7\\u1fc7 \\u1f26\\u03bd \\u1f41 \\u03bb\\u03cc\\u03b3\\u03bf\\u03c2, \\u03ba\\u03b1\\u1f76 \\u1f41 \\u03bb\\u03cc\\u03b3\\u03bf\\u03c2 \\u1f26\\u03bd \\u03c0\\u03c1\\u1f78\\u03c2 \\u03c4\\u1f78\\u03bd \\u03b8\\u03b5\\u03cc\\u03bd, \\u03ba\\u03b1\\u1f76 \\u03b8\\u03b5\\u1f78\\u03c2 \\u1f26\\u03bd \\u1f41 \\u03bb\\u03cc\\u03b3\\u03bf\\u03c2. \"\u001b[39m\n",
       "    ),\n",
       "    \u001b[33mCitableNode\u001b[39m(\n",
       "      \u001b[33mCtsUrn\u001b[39m(\u001b[32m\"urn:cts:greekLit:tlg0031.tlg004.wh_fu:1.2\"\u001b[39m),\n",
       "      \u001b[32m\"\\u03bf\\u1f57\\u03c4\\u03bf\\u03c2 \\u1f26\\u03bd \\u1f10\\u03bd \\u1f00\\u03c1\\u03c7\\u1fc7 \\u03c0\\u03c1\\u1f78\\u03c2 \\u03c4\\u1f78\\u03bd \\u03b8\\u03b5\\u03cc\\u03bd. \"\u001b[39m\n",
       "    ),\n",
       "    \u001b[33mCitableNode\u001b[39m(\n",
       "      \u001b[33mCtsUrn\u001b[39m(\u001b[32m\"urn:cts:greekLit:tlg0031.tlg004.wh_fu:1.3\"\u001b[39m),\n",
       "      \u001b[32m\"\\u03c0\\u03ac\\u03bd\\u03c4\\u03b1 \\u03b4\\u03b9\\u2019 \\u03b1\\u1f50\\u03c4\\u03bf\\u1fe6 \\u1f10\\u03b3\\u03ad\\u03bd\\u03b5\\u03c4\\u03bf, \\u03ba\\u03b1\\u1f76 \\u03c7\\u03c9\\u03c1\\u1f76\\u03c2 \\u03b1\\u1f50\\u03c4\\u03bf\\u1fe6 \\u1f10\\u03b3\\u03ad\\u03bd\\u03b5\\u03c4\\u03bf \\u03bf\\u1f50\\u03b4\\u1f72 \\u1f15\\u03bd. \\u1f43 \\u03b3\\u03ad\\u03b3\\u03bf\\u03bd\\u03b5\\u03bd\"\u001b[39m\n",
       "    ),\n",
       "    \u001b[33mCitableNode\u001b[39m(\n",
       "      \u001b[33mCtsUrn\u001b[39m(\u001b[32m\"urn:cts:greekLit:tlg0031.tlg004.wh_fu:1.4\"\u001b[39m),\n",
       "      \u001b[32m\"\\u1f10\\u03bd \\u03b1\\u1f50\\u03c4\\u1ff7 \\u03b6\\u03c9\\u1f74 \\u1f26\\u03bd, \\u03ba\\u03b1\\u1f76 \\u1f21 \\u03b6\\u03c9\\u1f74 \\u1f26\\u03bd \\u03c4\\u1f78 \\u03c6\\u1ff6\\u03c2 \\u03c4\\u1ff6\\u03bd \\u1f00\\u03bd\\u03b8\\u03c1\\u03ce\\u03c0\\u03c9\\u03bd\\u00b7 \"\u001b[39m\n",
       "    ),\n",
       "    \u001b[33mCitableNode\u001b[39m(\n",
       "      \u001b[33mCtsUrn\u001b[39m(\u001b[32m\"urn:cts:greekLit:tlg0031.tlg004.wh_fu:1.5\"\u001b[39m),\n",
       "      \u001b[32m\"\\u03ba\\u03b1\\u1f76 \\u03c4\\u1f78 \\u03c6\\u1ff6\\u03c2 \\u1f10\\u03bd \\u03c4\\u1fc7 \\u03c3\\u03ba\\u03bf\\u03c4\\u03af\\u1fb3 \\u03c6\\u03b1\\u03af\\u03bd\\u03b5\\u03b9, \\u03ba\\u03b1\\u1f76 \\u1f21 \\u03c3\\u03ba\\u03bf\\u03c4\\u03af\\u03b1 \\u03b1\\u1f50\\u03c4\u001b[39m..."
      ]
     },
     "execution_count": 8,
     "metadata": {},
     "output_type": "execute_result"
    }
   ],
   "source": [
    "val corp: Corpus = lib.textRepository.get.corpus"
   ]
  },
  {
   "cell_type": "markdown",
   "metadata": {},
   "source": [
    "Finally, this is a convenient function for visualizing lists and corpora:"
   ]
  },
  {
   "cell_type": "code",
   "execution_count": 13,
   "metadata": {},
   "outputs": [
    {
     "data": {
      "text/plain": [
       "defined \u001b[32mfunction\u001b[39m \u001b[36mshowMe\u001b[39m"
      ]
     },
     "execution_count": 13,
     "metadata": {},
     "output_type": "execute_result"
    }
   ],
   "source": [
    "def showMe(v:Any):Unit = {\n",
    "  v match {\n",
    "  \tcase _:Corpus => {\n",
    "  \t\tfor ( n <- v.asInstanceOf[Corpus].nodes) {\n",
    "  \t\t\tprintln(s\"${n.urn.passageComponent}\\t\\t${n.text}\")\n",
    "  \t\t}\t\n",
    "  \t}\n",
    "    case _:Vector[Any] => println(s\"\"\"\\n----\\n${v.asInstanceOf[Vector[Any]].mkString(\"\\n\")}\\n----\\n\"\"\")\n",
    "    case _:Iterable[Any] => println(s\"\"\"\\n----\\n${v.asInstanceOf[Iterable[Any]].mkString(\"\\n\")}\\n----\\n\"\"\")\n",
    "    case _ => println(s\"\\n-----\\n${v}\\n----\\n\")\n",
    "  }\n",
    "}"
   ]
  },
  {
   "cell_type": "markdown",
   "metadata": {},
   "source": [
    "# Exploring CITE"
   ]
  },
  {
   "cell_type": "markdown",
   "metadata": {},
   "source": [
    "Start using CITE and CTS below…"
   ]
  },
  {
   "cell_type": "markdown",
   "metadata": {},
   "source": [
    "We can get passages using canonical citation:"
   ]
  },
  {
   "cell_type": "code",
   "execution_count": null,
   "metadata": {},
   "outputs": [],
   "source": [
    "val weddingUrn: CtsUrn = engJohn.addPassage(\"2.1-2.11\")\n",
    "val wedding: Corpus = corp >= weddingUrn"
   ]
  },
  {
   "cell_type": "code",
   "execution_count": null,
   "metadata": {},
   "outputs": [],
   "source": [
    "showMe(wedding)"
   ]
  },
  {
   "cell_type": "code",
   "execution_count": null,
   "metadata": {},
   "outputs": [],
   "source": []
  },
  {
   "cell_type": "code",
   "execution_count": null,
   "metadata": {},
   "outputs": [],
   "source": []
  }
 ],
 "metadata": {
  "kernelspec": {
   "display_name": "Scala",
   "language": "scala",
   "name": "scala"
  },
  "language_info": {
   "codemirror_mode": "text/x-scala",
   "file_extension": ".scala",
   "mimetype": "text/x-scala",
   "name": "scala",
   "nbconvert_exporter": "script",
   "version": "2.12.10"
  }
 },
 "nbformat": 4,
 "nbformat_minor": 2
}
