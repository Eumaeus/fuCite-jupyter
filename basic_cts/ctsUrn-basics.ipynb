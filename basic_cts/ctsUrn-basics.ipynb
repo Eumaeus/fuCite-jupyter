{
 "cells": [
  {
   "cell_type": "markdown",
   "metadata": {},
   "source": [
    "# CITE in jupyter notebooks on the almond kernel\n",
    "\n",
    "## Configuring CITE libraries for almond kernel\n",
    "\n",
    "First, we'll make a bintray repository with CITE libraries available to your almond kernel.\n"
   ]
  },
  {
   "cell_type": "code",
   "execution_count": 20,
   "metadata": {},
   "outputs": [
    {
     "data": {
      "text/plain": [
       "\u001b[36mmyBT\u001b[39m: \u001b[32mcoursierapi\u001b[39m.\u001b[32mMavenRepository\u001b[39m = MavenRepository(https://dl.bintray.com/neelsmith/maven)"
      ]
     },
     "execution_count": 20,
     "metadata": {},
     "output_type": "execute_result"
    }
   ],
   "source": [
    "val myBT = coursierapi.MavenRepository.of(\"https://dl.bintray.com/neelsmith/maven\")\n",
    "interp.repositories() ++= Seq(myBT)"
   ]
  },
  {
   "cell_type": "markdown",
   "metadata": {},
   "source": [
    "Next, we bring in specific libraries from the new repository using almond's `$ivy` magic:"
   ]
  },
  {
   "cell_type": "code",
   "execution_count": 21,
   "metadata": {},
   "outputs": [
    {
     "data": {
      "text/plain": [
       "\u001b[32mimport \u001b[39m\u001b[36m$ivy.$                                  \n",
       "\u001b[39m\n",
       "\u001b[32mimport \u001b[39m\u001b[36m$ivy.$                                     \u001b[39m"
      ]
     },
     "execution_count": 21,
     "metadata": {},
     "output_type": "execute_result"
    }
   ],
   "source": [
    "import $ivy.`edu.holycross.shot::ohco2:10.16.0`\n",
    "import $ivy.`edu.holycross.shot.cite::xcite:4.1.1`"
   ]
  },
  {
   "cell_type": "markdown",
   "metadata": {},
   "source": [
    "## Imports\n",
    "\n",
    "From this point on, your notebook consists of completely generic Scala, with the CITE Libraries available to use."
   ]
  },
  {
   "cell_type": "code",
   "execution_count": 22,
   "metadata": {},
   "outputs": [
    {
     "data": {
      "text/plain": [
       "\u001b[32mimport \u001b[39m\u001b[36medu.holycross.shot.cite._\n",
       "\u001b[39m\n",
       "\u001b[32mimport \u001b[39m\u001b[36medu.holycross.shot.ohco2._\n",
       "\n",
       "\u001b[39m"
      ]
     },
     "execution_count": 22,
     "metadata": {},
     "output_type": "execute_result"
    }
   ],
   "source": [
    "// Import some CITE libraries\n",
    "import edu.holycross.shot.cite._\n",
    "import edu.holycross.shot.ohco2._\n",
    "\n"
   ]
  },
  {
   "cell_type": "markdown",
   "metadata": {},
   "source": [
    "## CTS Overview"
   ]
  },
  {
   "cell_type": "markdown",
   "metadata": {},
   "source": [
    "A CTS text is an *ordered hierarchy of citation objects*. The fundamental unit of a CTS text is (in terms of the `ohco2` library in Scala), the `CitableNode`.\n",
    "\n",
    "A `CitableNode` consists of two properties: \n",
    "\n",
    "1. A CTS-URN\n",
    "1. A passage of text"
   ]
  },
  {
   "cell_type": "markdown",
   "metadata": {},
   "source": [
    "### Create a CitableNode"
   ]
  },
  {
   "cell_type": "markdown",
   "metadata": {},
   "source": [
    "We can create a `CitableNode` by creating a CTS-URN object and attaching it to a passage:"
   ]
  },
  {
   "cell_type": "code",
   "execution_count": 23,
   "metadata": {
    "scrolled": true
   },
   "outputs": [
    {
     "data": {
      "text/plain": [
       "\u001b[36murn\u001b[39m: \u001b[32mCtsUrn\u001b[39m = \u001b[33mCtsUrn\u001b[39m(\u001b[32m\"urn:cts:greekLit:tlg0012.tlg001.msA:1.1\"\u001b[39m)\n",
       "\u001b[36mtext\u001b[39m: \u001b[32mString\u001b[39m = \u001b[32m\"\\u03bc\\u1fc6\\u03bd\\u03b9\\u03bd \\u1f04\\u03b5\\u03b9\\u03b4\\u03b5 \\u03b8\\u03b5\\u1f70, \\u03a0\\u03b7\\u03bb\\u03b7\\u03ca\\u03ac\\u03b4\\u03b5\\u03c9 \\u1f08\\u03c7\\u03b9\\u03bb\\u03bb\\u1fc6\\u03bf\\u03c2\"\u001b[39m\n",
       "\u001b[36mcn\u001b[39m: \u001b[32mCitableNode\u001b[39m = \u001b[33mCitableNode\u001b[39m(\n",
       "  \u001b[33mCtsUrn\u001b[39m(\u001b[32m\"urn:cts:greekLit:tlg0012.tlg001.msA:1.1\"\u001b[39m),\n",
       "  \u001b[32m\"\\u03bc\\u1fc6\\u03bd\\u03b9\\u03bd \\u1f04\\u03b5\\u03b9\\u03b4\\u03b5 \\u03b8\\u03b5\\u1f70, \\u03a0\\u03b7\\u03bb\\u03b7\\u03ca\\u03ac\\u03b4\\u03b5\\u03c9 \\u1f08\\u03c7\\u03b9\\u03bb\\u03bb\\u1fc6\\u03bf\\u03c2\"\u001b[39m\n",
       ")"
      ]
     },
     "execution_count": 23,
     "metadata": {},
     "output_type": "execute_result"
    }
   ],
   "source": [
    "// create a URN and an ohco2 CitableNode\n",
    "val urn = CtsUrn(\"urn:cts:greekLit:tlg0012.tlg001.msA:1.1\")\n",
    "val text = \"μῆνιν ἄειδε θεὰ, Πηληϊάδεω Ἀχιλλῆος\"\n",
    "val cn = CitableNode(urn, text)"
   ]
  },
  {
   "cell_type": "markdown",
   "metadata": {},
   "source": [
    "We can then access the properties of our `CitableNode`:"
   ]
  },
  {
   "cell_type": "code",
   "execution_count": 24,
   "metadata": {
    "scrolled": true
   },
   "outputs": [
    {
     "name": "stdout",
     "output_type": "stream",
     "text": [
      "The text content of the node named \n",
      " \t urn:cts:greekLit:tlg0012.tlg001.msA:1.1 \n",
      " is \n",
      " \t μῆνιν ἄειδε θεὰ, Πηληϊάδεω Ἀχιλλῆος\n"
     ]
    }
   ],
   "source": [
    "// Use the new objects\n",
    "println(s\"The text content of the node named \\n \\t ${cn.urn} \\n is \\n \\t ${cn.text}\")"
   ]
  },
  {
   "cell_type": "markdown",
   "metadata": {},
   "source": [
    "### Create a Corpus"
   ]
  },
  {
   "cell_type": "markdown",
   "metadata": {},
   "source": [
    "A `Corpus` object, in the `ohco2` library, is simply an ordered collection (\"vector\") of `CitableNode` objects."
   ]
  },
  {
   "cell_type": "code",
   "execution_count": 25,
   "metadata": {},
   "outputs": [
    {
     "data": {
      "text/plain": [
       "\u001b[36mcn_iliad_1\u001b[39m: \u001b[32mCitableNode\u001b[39m = \u001b[33mCitableNode\u001b[39m(\n",
       "  \u001b[33mCtsUrn\u001b[39m(\u001b[32m\"urn:cts:greekLit:tlg0012.tlg001.msA:1.1\"\u001b[39m),\n",
       "  \u001b[32m\"\\u03bc\\u1fc6\\u03bd\\u03b9\\u03bd \\u1f04\\u03b5\\u03b9\\u03b4\\u03b5 \\u03b8\\u03b5\\u1f70, \\u03a0\\u03b7\\u03bb\\u03b7\\u03ca\\u03ac\\u03b4\\u03b5\\u03c9 \\u1f08\\u03c7\\u03b9\\u03bb\\u03bb\\u1fc6\\u03bf\\u03c2\"\u001b[39m\n",
       ")\n",
       "\u001b[36mcn_iliad_2\u001b[39m: \u001b[32mCitableNode\u001b[39m = \u001b[33mCitableNode\u001b[39m(\n",
       "  \u001b[33mCtsUrn\u001b[39m(\u001b[32m\"urn:cts:greekLit:tlg0012.tlg001.msA:1.2\"\u001b[39m),\n",
       "  \u001b[32m\"\\u03bf\\u1f50\\u03bb\\u03bf\\u03bc\\u03ad\\u03bd\\u03b7\\u03bd, \\u1f23 \\u03bc\\u03c5\\u03c1\\u03af\\u02bc \\u1f08\\u03c7\\u03b1\\u03b9\\u03bf\\u1fd6\\u03c2 \\u1f04\\u03bb\\u03b3\\u03b5\\u02bc \\u1f14\\u03b8\\u03b7\\u03ba\\u03b5,\"\u001b[39m\n",
       ")\n",
       "\u001b[36mcn_iliad_3\u001b[39m: \u001b[32mCitableNode\u001b[39m = \u001b[33mCitableNode\u001b[39m(\n",
       "  \u001b[33mCtsUrn\u001b[39m(\u001b[32m\"urn:cts:greekLit:tlg0012.tlg001.msA:1.3\"\u001b[39m),\n",
       "  \u001b[32m\"\\u03c0\\u03bf\\u03bb\\u03bb\\u1f70\\u03c2 \\u03b4\\u02bc \\u1f30\\u03c6\\u03b8\\u03af\\u03bc\\u03bf\\u03c5\\u03c2 \\u03c8\\u03c5\\u03c7\\u1f70\\u03c2 \\u1f0c\\u03ca\\u03b4\\u03b9 \\u03c0\\u03c1\\u03bf\\u0390\\u03b1\\u03c8\\u03b5\\u03bd\"\u001b[39m\n",
       ")\n",
       "\u001b[36mcn_vector\u001b[39m: \u001b[32mVector\u001b[39m[\u001b[32mCitableNode\u001b[39m] = \u001b[33mVector\u001b[39m(\n",
       "  \u001b[33mCitableNode\u001b[39m(\n",
       "    \u001b[33mCtsUrn\u001b[39m(\u001b[32m\"urn:cts:greekLit:tlg0012.tlg001.msA:1.1\"\u001b[39m),\n",
       "    \u001b[32m\"\\u03bc\\u1fc6\\u03bd\\u03b9\\u03bd \\u1f04\\u03b5\\u03b9\\u03b4\\u03b5 \\u03b8\\u03b5\\u1f70, \\u03a0\\u03b7\\u03bb\\u03b7\\u03ca\\u03ac\\u03b4\\u03b5\\u03c9 \\u1f08\\u03c7\\u03b9\\u03bb\\u03bb\\u1fc6\\u03bf\\u03c2\"\u001b[39m\n",
       "  ),\n",
       "  \u001b[33mCitableNode\u001b[39m(\n",
       "    \u001b[33mCtsUrn\u001b[39m(\u001b[32m\"urn:cts:greekLit:tlg0012.tlg001.msA:1.2\"\u001b[39m),\n",
       "    \u001b[32m\"\\u03bf\\u1f50\\u03bb\\u03bf\\u03bc\\u03ad\\u03bd\\u03b7\\u03bd, \\u1f23 \\u03bc\\u03c5\\u03c1\\u03af\\u02bc \\u1f08\\u03c7\\u03b1\\u03b9\\u03bf\\u1fd6\\u03c2 \\u1f04\\u03bb\\u03b3\\u03b5\\u02bc \\u1f14\\u03b8\\u03b7\\u03ba\\u03b5,\"\u001b[39m\n",
       "  ),\n",
       "  \u001b[33mCitableNode\u001b[39m(\n",
       "    \u001b[33mCtsUrn\u001b[39m(\u001b[32m\"urn:cts:greekLit:tlg0012.tlg001.msA:1.3\"\u001b[39m),\n",
       "    \u001b[32m\"\\u03c0\\u03bf\\u03bb\\u03bb\\u1f70\\u03c2 \\u03b4\\u02bc \\u1f30\\u03c6\\u03b8\\u03af\\u03bc\\u03bf\\u03c5\\u03c2 \\u03c8\\u03c5\\u03c7\\u1f70\\u03c2 \\u1f0c\\u03ca\\u03b4\\u03b9 \\u03c0\\u03c1\\u03bf\\u0390\\u03b1\\u03c8\\u03b5\\u03bd\"\u001b[39m\n",
       "  )\n",
       ")\n",
       "\u001b[36miliad_corpus\u001b[39m: \u001b[32mCorpus\u001b[39m = \u001b[33mCorpus\u001b[39m(\n",
       "  \u001b[33mVector\u001b[39m(\n",
       "    \u001b[33mCitableNode\u001b[39m(\n",
       "      \u001b[33mCtsUrn\u001b[39m(\u001b[32m\"urn:cts:greekLit:tlg0012.tlg001.msA:1.1\"\u001b[39m),\n",
       "      \u001b[32m\"\\u03bc\\u1fc6\\u03bd\\u03b9\\u03bd \\u1f04\\u03b5\\u03b9\\u03b4\\u03b5 \\u03b8\\u03b5\\u1f70, \\u03a0\\u03b7\\u03bb\\u03b7\\u03ca\\u03ac\\u03b4\\u03b5\\u03c9 \\u1f08\\u03c7\\u03b9\\u03bb\\u03bb\\u1fc6\\u03bf\\u03c2\"\u001b[39m\n",
       "    ),\n",
       "    \u001b[33mCitableNode\u001b[39m(\n",
       "      \u001b[33mCtsUrn\u001b[39m(\u001b[32m\"urn:cts:greekLit:tlg0012.tlg001.msA:1.2\"\u001b[39m),\n",
       "      \u001b[32m\"\\u03bf\\u1f50\\u03bb\\u03bf\\u03bc\\u03ad\\u03bd\\u03b7\\u03bd, \\u1f23 \\u03bc\\u03c5\\u03c1\\u03af\\u02bc \\u1f08\\u03c7\\u03b1\\u03b9\\u03bf\\u1fd6\\u03c2 \\u1f04\\u03bb\\u03b3\\u03b5\\u02bc \\u1f14\\u03b8\\u03b7\\u03ba\\u03b5,\"\u001b[39m\n",
       "    ),\n",
       "    \u001b[33mCitableNode\u001b[39m(\n",
       "      \u001b[33mCtsUrn\u001b[39m(\u001b[32m\"urn:cts:greekLit:tlg0012.tlg001.msA:1.3\"\u001b[39m),\n",
       "      \u001b[32m\"\\u03c0\\u03bf\\u03bb\\u03bb\\u1f70\\u03c2 \\u03b4\\u02bc \\u1f30\\u03c6\\u03b8\\u03af\\u03bc\\u03bf\\u03c5\\u03c2 \\u03c8\\u03c5\\u03c7\\u1f70\\u03c2 \\u1f0c\\u03ca\\u03b4\\u03b9 \\u03c0\\u03c1\\u03bf\\u0390\\u03b1\\u03c8\\u03b5\\u03bd\"\u001b[39m\n",
       "    )\n",
       "  )\n",
       ")"
      ]
     },
     "execution_count": 25,
     "metadata": {},
     "output_type": "execute_result"
    }
   ],
   "source": [
    "val cn_iliad_1 = CitableNode( CtsUrn(\"urn:cts:greekLit:tlg0012.tlg001.msA:1.1\"),  \n",
    "                              \"μῆνιν ἄειδε θεὰ, Πηληϊάδεω Ἀχιλλῆος\")\n",
    "val cn_iliad_2 = CitableNode( CtsUrn(\"urn:cts:greekLit:tlg0012.tlg001.msA:1.2\"),  \n",
    "                              \"οὐλομένην, ἣ μυρίʼ Ἀχαιοῖς ἄλγεʼ ἔθηκε,\")\n",
    "val cn_iliad_3 = CitableNode( CtsUrn(\"urn:cts:greekLit:tlg0012.tlg001.msA:1.3\"),  \n",
    "                              \"πολλὰς δʼ ἰφθίμους ψυχὰς Ἄϊδι προΐαψεν\")\n",
    "val cn_vector: Vector[CitableNode] = Vector( cn_iliad_1, cn_iliad_2, cn_iliad_3 )\n",
    "\n",
    "val iliad_corpus = Corpus( cn_vector )\n"
   ]
  },
  {
   "cell_type": "markdown",
   "metadata": {},
   "source": [
    "### Working with a Corpus"
   ]
  },
  {
   "cell_type": "markdown",
   "metadata": {},
   "source": [
    "A `Corpus` object offers a number of methods for querying and manipulating a text:"
   ]
  },
  {
   "cell_type": "code",
   "execution_count": 26,
   "metadata": {},
   "outputs": [
    {
     "data": {
      "text/plain": [
       "\u001b[36mres25\u001b[39m: \u001b[32mVector\u001b[39m[\u001b[32mCtsUrn\u001b[39m] = \u001b[33mVector\u001b[39m(\n",
       "  \u001b[33mCtsUrn\u001b[39m(\u001b[32m\"urn:cts:greekLit:tlg0012.tlg001.msA:1.1\"\u001b[39m),\n",
       "  \u001b[33mCtsUrn\u001b[39m(\u001b[32m\"urn:cts:greekLit:tlg0012.tlg001.msA:1.2\"\u001b[39m),\n",
       "  \u001b[33mCtsUrn\u001b[39m(\u001b[32m\"urn:cts:greekLit:tlg0012.tlg001.msA:1.3\"\u001b[39m)\n",
       ")"
      ]
     },
     "execution_count": 26,
     "metadata": {},
     "output_type": "execute_result"
    }
   ],
   "source": [
    "// Get a list of all citations in a Corpus\n",
    "iliad_corpus.urns"
   ]
  },
  {
   "cell_type": "code",
   "execution_count": 27,
   "metadata": {},
   "outputs": [
    {
     "data": {
      "text/plain": [
       "\u001b[36mres26\u001b[39m: \u001b[32mCitableNode\u001b[39m = \u001b[33mCitableNode\u001b[39m(\n",
       "  \u001b[33mCtsUrn\u001b[39m(\u001b[32m\"urn:cts:greekLit:tlg0012.tlg001.msA:1.1\"\u001b[39m),\n",
       "  \u001b[32m\"\\u03bc\\u1fc6\\u03bd\\u03b9\\u03bd \\u1f04\\u03b5\\u03b9\\u03b4\\u03b5 \\u03b8\\u03b5\\u1f70, \\u03a0\\u03b7\\u03bb\\u03b7\\u03ca\\u03ac\\u03b4\\u03b5\\u03c9 \\u1f08\\u03c7\\u03b9\\u03bb\\u03bb\\u1fc6\\u03bf\\u03c2\"\u001b[39m\n",
       ")"
      ]
     },
     "execution_count": 27,
     "metadata": {},
     "output_type": "execute_result"
    }
   ],
   "source": [
    "// Get the first passage in a Corpus as a CitableNode\n",
    "iliad_corpus.first"
   ]
  },
  {
   "cell_type": "code",
   "execution_count": 28,
   "metadata": {},
   "outputs": [
    {
     "data": {
      "text/plain": [
       "\u001b[36mres27\u001b[39m: \u001b[32mInt\u001b[39m = \u001b[32m3\u001b[39m"
      ]
     },
     "execution_count": 28,
     "metadata": {},
     "output_type": "execute_result"
    }
   ],
   "source": [
    "// Get a count of the passages in a Corpus\n",
    "iliad_corpus.size"
   ]
  },
  {
   "cell_type": "code",
   "execution_count": null,
   "metadata": {},
   "outputs": [],
   "source": []
  }
 ],
 "metadata": {
  "kernelspec": {
   "display_name": "Scala 2.12",
   "language": "scala",
   "name": "scala212"
  },
  "language_info": {
   "codemirror_mode": "text/x-scala",
   "file_extension": ".scala",
   "mimetype": "text/x-scala",
   "name": "scala",
   "nbconvert_exporter": "script",
   "version": "2.12.10"
  }
 },
 "nbformat": 4,
 "nbformat_minor": 2
}
