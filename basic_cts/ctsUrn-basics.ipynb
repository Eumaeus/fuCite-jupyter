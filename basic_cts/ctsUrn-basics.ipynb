{
 "cells": [
  {
   "cell_type": "markdown",
   "metadata": {},
   "source": [
    "# CITE in jupyter notebooks on the almond kernel\n",
    "\n",
    "## Configuring CITE libraries for almond kernel\n",
    "\n",
    "First, we'll make a bintray repository with CITE libraries available to your almond kernel.\n"
   ]
  },
  {
   "cell_type": "code",
   "execution_count": 38,
   "metadata": {},
   "outputs": [
    {
     "data": {
      "text/plain": [
       "\u001b[36mmyBT\u001b[39m: \u001b[32mcoursierapi\u001b[39m.\u001b[32mMavenRepository\u001b[39m = MavenRepository(https://dl.bintray.com/neelsmith/maven)"
      ]
     },
     "execution_count": 38,
     "metadata": {},
     "output_type": "execute_result"
    }
   ],
   "source": [
    "val myBT = coursierapi.MavenRepository.of(\"https://dl.bintray.com/neelsmith/maven\")\n",
    "interp.repositories() ++= Seq(myBT)"
   ]
  },
  {
   "cell_type": "markdown",
   "metadata": {},
   "source": [
    "Next, we bring in specific libraries from the new repository using almond's `$ivy` magic:"
   ]
  },
  {
   "cell_type": "code",
   "execution_count": 39,
   "metadata": {},
   "outputs": [
    {
     "data": {
      "text/plain": [
       "\u001b[32mimport \u001b[39m\u001b[36m$ivy.$                                  \n",
       "\u001b[39m\n",
       "\u001b[32mimport \u001b[39m\u001b[36m$ivy.$                                     \u001b[39m"
      ]
     },
     "execution_count": 39,
     "metadata": {},
     "output_type": "execute_result"
    }
   ],
   "source": [
    "import $ivy.`edu.holycross.shot::ohco2:10.16.0`\n",
    "import $ivy.`edu.holycross.shot.cite::xcite:4.1.1`"
   ]
  },
  {
   "cell_type": "markdown",
   "metadata": {},
   "source": [
    "## Normal scala\n",
    "\n",
    "From this point on, your notebook consists of completely generic Scala."
   ]
  },
  {
   "cell_type": "code",
   "execution_count": 40,
   "metadata": {},
   "outputs": [
    {
     "data": {
      "text/plain": [
       "\u001b[32mimport \u001b[39m\u001b[36medu.holycross.shot.cite._\n",
       "\u001b[39m\n",
       "\u001b[32mimport \u001b[39m\u001b[36medu.holycross.shot.ohco2._\n",
       "\n",
       "\u001b[39m"
      ]
     },
     "execution_count": 40,
     "metadata": {},
     "output_type": "execute_result"
    }
   ],
   "source": [
    "// Import some CITE libraries\n",
    "import edu.holycross.shot.cite._\n",
    "import edu.holycross.shot.ohco2._\n",
    "\n"
   ]
  },
  {
   "cell_type": "code",
   "execution_count": 43,
   "metadata": {},
   "outputs": [
    {
     "data": {
      "text/plain": [
       "\u001b[36murn\u001b[39m: \u001b[32mCtsUrn\u001b[39m = \u001b[33mCtsUrn\u001b[39m(\u001b[32m\"urn:cts:greekLit:tlg0012.tlg001.msA:1.1\"\u001b[39m)\n",
       "\u001b[36mtext\u001b[39m: \u001b[32mString\u001b[39m = \u001b[32m\"\\u03bc\\u1fc6\\u03bd\\u03b9\\u03bd \\u1f04\\u03b5\\u03b9\\u03b4\\u03b5 \\u03b8\\u03b5\\u1f70, \\u03a0\\u03b7\\u03bb\\u03b7\\u03ca\\u1f71\\u03b4\\u03b5\\u03c9 \\u1f08\\u03c7\\u03b9\\u03bb\\u03bb\\u1f73\\u03c9\\u03c2\"\u001b[39m\n",
       "\u001b[36mcn\u001b[39m: \u001b[32mCitableNode\u001b[39m = \u001b[33mCitableNode\u001b[39m(\n",
       "  \u001b[33mCtsUrn\u001b[39m(\u001b[32m\"urn:cts:greekLit:tlg0012.tlg001.msA:1.1\"\u001b[39m),\n",
       "  \u001b[32m\"\\u03bc\\u1fc6\\u03bd\\u03b9\\u03bd \\u1f04\\u03b5\\u03b9\\u03b4\\u03b5 \\u03b8\\u03b5\\u1f70, \\u03a0\\u03b7\\u03bb\\u03b7\\u03ca\\u1f71\\u03b4\\u03b5\\u03c9 \\u1f08\\u03c7\\u03b9\\u03bb\\u03bb\\u1f73\\u03c9\\u03c2\"\u001b[39m\n",
       ")"
      ]
     },
     "execution_count": 43,
     "metadata": {},
     "output_type": "execute_result"
    }
   ],
   "source": [
    "// create a URN and an ohco2 CitableNode\n",
    "val urn = CtsUrn(\"urn:cts:greekLit:tlg0012.tlg001.msA:1.1\")\n",
    "val text = \"μῆνιν ἄειδε θεὰ, Πηληϊάδεω Ἀχιλλέως\"\n",
    "val  cn = CitableNode(urn, text)\n",
    "\n"
   ]
  },
  {
   "cell_type": "code",
   "execution_count": 42,
   "metadata": {},
   "outputs": [
    {
     "name": "stdout",
     "output_type": "stream",
     "text": [
      "The text content of the node named `urn:cts:greekLit:tlg0012.tlg001.msA:1.1` is 'μῆνιν ἄειδε θεὰ, Πηληΐαδεω Ἀχίλλεως'.\n"
     ]
    }
   ],
   "source": [
    "// Use the new objects\n",
    "println(s\"The text content of the node named `${urn}` is '${cn.text}'.\")"
   ]
  }
 ],
 "metadata": {
  "kernelspec": {
   "display_name": "Scala 2.12",
   "language": "scala",
   "name": "scala212"
  },
  "language_info": {
   "codemirror_mode": "text/x-scala",
   "file_extension": ".scala",
   "mimetype": "text/x-scala",
   "name": "scala",
   "nbconvert_exporter": "script",
   "version": "2.12.10"
  }
 },
 "nbformat": 4,
 "nbformat_minor": 2
}
