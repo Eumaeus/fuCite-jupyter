{
 "cells": [
  {
   "cell_type": "markdown",
   "metadata": {},
   "source": [
    "# Basic CTS in Jupyter Notebooks\n",
    "\n",
    "\n"
   ]
  },
  {
   "cell_type": "markdown",
   "metadata": {},
   "source": [
    "## Configuring CITE libraries for almond kernel\n",
    "\n",
    "This first section is configuration stuff… setting up the environment.\n",
    "\n",
    "First, we'll make a bintray repository with CITE libraries available to your almond kernel."
   ]
  },
  {
   "cell_type": "code",
   "execution_count": 21,
   "metadata": {},
   "outputs": [
    {
     "data": {
      "text/plain": [
       "\u001b[36mmyBT\u001b[39m: \u001b[32mcoursierapi\u001b[39m.\u001b[32mMavenRepository\u001b[39m = MavenRepository(https://dl.bintray.com/neelsmith/maven)"
      ]
     },
     "execution_count": 21,
     "metadata": {},
     "output_type": "execute_result"
    }
   ],
   "source": [
    "val myBT = coursierapi.MavenRepository.of(\"https://dl.bintray.com/neelsmith/maven\")\n",
    "interp.repositories() ++= Seq(myBT)"
   ]
  },
  {
   "cell_type": "markdown",
   "metadata": {},
   "source": [
    "Next, we bring in specific libraries from the new repository using almond's `$ivy` magic:"
   ]
  },
  {
   "cell_type": "code",
   "execution_count": 22,
   "metadata": {},
   "outputs": [
    {
     "data": {
      "text/plain": [
       "\u001b[32mimport \u001b[39m\u001b[36m$ivy.$                                  \n",
       "\u001b[39m\n",
       "\u001b[32mimport \u001b[39m\u001b[36m$ivy.$                                     \u001b[39m"
      ]
     },
     "execution_count": 22,
     "metadata": {},
     "output_type": "execute_result"
    }
   ],
   "source": [
    "import $ivy.`edu.holycross.shot::ohco2:10.16.0`\n",
    "import $ivy.`edu.holycross.shot.cite::xcite:4.1.1`"
   ]
  },
  {
   "cell_type": "markdown",
   "metadata": {},
   "source": [
    "## Imports\n",
    "\n",
    "From this point on, your notebook consists of completely generic Scala, with the CITE Libraries available to use."
   ]
  },
  {
   "cell_type": "code",
   "execution_count": 23,
   "metadata": {},
   "outputs": [
    {
     "data": {
      "text/plain": [
       "\u001b[32mimport \u001b[39m\u001b[36medu.holycross.shot.cite._\n",
       "\u001b[39m\n",
       "\u001b[32mimport \u001b[39m\u001b[36medu.holycross.shot.ohco2._\n",
       "\n",
       "\u001b[39m"
      ]
     },
     "execution_count": 23,
     "metadata": {},
     "output_type": "execute_result"
    }
   ],
   "source": [
    "// Import some CITE libraries\n",
    "import edu.holycross.shot.cite._\n",
    "import edu.holycross.shot.ohco2._\n",
    "\n"
   ]
  },
  {
   "cell_type": "markdown",
   "metadata": {},
   "source": [
    "## CTS Overview"
   ]
  },
  {
   "cell_type": "markdown",
   "metadata": {},
   "source": [
    "A CTS text is an *ordered hierarchy of citation objects*. The fundamental unit of a CTS text is (in terms of the `ohco2` library in Scala), the `CitableNode`.\n",
    "\n",
    "A `CitableNode` consists of two properties: \n",
    "\n",
    "1. A CTS-URN\n",
    "1. A passage of text"
   ]
  },
  {
   "cell_type": "markdown",
   "metadata": {},
   "source": [
    "### Create a CitableNode"
   ]
  },
  {
   "cell_type": "markdown",
   "metadata": {},
   "source": [
    "We can create a `CitableNode` by creating a CTS-URN object and attaching it to a passage:"
   ]
  },
  {
   "cell_type": "code",
   "execution_count": 24,
   "metadata": {
    "scrolled": true
   },
   "outputs": [
    {
     "data": {
      "text/plain": [
       "\u001b[36murn\u001b[39m: \u001b[32mCtsUrn\u001b[39m = \u001b[33mCtsUrn\u001b[39m(\u001b[32m\"urn:cts:greekLit:tlg0012.tlg001.msA:1.1\"\u001b[39m)\n",
       "\u001b[36mtext\u001b[39m: \u001b[32mString\u001b[39m = \u001b[32m\"\\u03bc\\u1fc6\\u03bd\\u03b9\\u03bd \\u1f04\\u03b5\\u03b9\\u03b4\\u03b5 \\u03b8\\u03b5\\u1f70, \\u03a0\\u03b7\\u03bb\\u03b7\\u03ca\\u03ac\\u03b4\\u03b5\\u03c9 \\u1f08\\u03c7\\u03b9\\u03bb\\u03bb\\u1fc6\\u03bf\\u03c2\"\u001b[39m\n",
       "\u001b[36mcn\u001b[39m: \u001b[32mCitableNode\u001b[39m = \u001b[33mCitableNode\u001b[39m(\n",
       "  \u001b[33mCtsUrn\u001b[39m(\u001b[32m\"urn:cts:greekLit:tlg0012.tlg001.msA:1.1\"\u001b[39m),\n",
       "  \u001b[32m\"\\u03bc\\u1fc6\\u03bd\\u03b9\\u03bd \\u1f04\\u03b5\\u03b9\\u03b4\\u03b5 \\u03b8\\u03b5\\u1f70, \\u03a0\\u03b7\\u03bb\\u03b7\\u03ca\\u03ac\\u03b4\\u03b5\\u03c9 \\u1f08\\u03c7\\u03b9\\u03bb\\u03bb\\u1fc6\\u03bf\\u03c2\"\u001b[39m\n",
       ")"
      ]
     },
     "execution_count": 24,
     "metadata": {},
     "output_type": "execute_result"
    }
   ],
   "source": [
    "// create a URN and an ohco2 CitableNode\n",
    "val urn = CtsUrn(\"urn:cts:greekLit:tlg0012.tlg001.msA:1.1\")\n",
    "val text = \"μῆνιν ἄειδε θεὰ, Πηληϊάδεω Ἀχιλλῆος\"\n",
    "val cn = CitableNode(urn, text)"
   ]
  },
  {
   "cell_type": "markdown",
   "metadata": {},
   "source": [
    "We can then access the properties of our `CitableNode`:"
   ]
  },
  {
   "cell_type": "code",
   "execution_count": 25,
   "metadata": {
    "scrolled": true
   },
   "outputs": [
    {
     "name": "stdout",
     "output_type": "stream",
     "text": [
      "The text content of the node named \"urn:cts:greekLit:tlg0012.tlg001.msA:1.1\" is \"μῆνιν ἄειδε θεὰ, Πηληϊάδεω Ἀχιλλῆος\"\n"
     ]
    }
   ],
   "source": [
    "// Use the new objects\n",
    "println(s\"\"\"The text content of the node named \"${cn.urn}\" is \"${cn.text}\"\"\"\")"
   ]
  },
  {
   "cell_type": "markdown",
   "metadata": {},
   "source": [
    "### Create a Corpus"
   ]
  },
  {
   "cell_type": "markdown",
   "metadata": {},
   "source": [
    "A `Corpus` object, in the `ohco2` library, is simply an ordered collection (\"vector\") of `CitableNode` objects."
   ]
  },
  {
   "cell_type": "markdown",
   "metadata": {},
   "source": [
    "First we make five `CitableNode` objects."
   ]
  },
  {
   "cell_type": "code",
   "execution_count": 26,
   "metadata": {},
   "outputs": [
    {
     "data": {
      "text/plain": [
       "\u001b[36mcn_iliad_1\u001b[39m: \u001b[32mCitableNode\u001b[39m = \u001b[33mCitableNode\u001b[39m(\n",
       "  \u001b[33mCtsUrn\u001b[39m(\u001b[32m\"urn:cts:greekLit:tlg0012.tlg001.msA:1.1\"\u001b[39m),\n",
       "  \u001b[32m\"\\u03bc\\u1fc6\\u03bd\\u03b9\\u03bd \\u1f04\\u03b5\\u03b9\\u03b4\\u03b5 \\u03b8\\u03b5\\u1f70, \\u03a0\\u03b7\\u03bb\\u03b7\\u03ca\\u03ac\\u03b4\\u03b5\\u03c9 \\u1f08\\u03c7\\u03b9\\u03bb\\u03bb\\u1fc6\\u03bf\\u03c2\"\u001b[39m\n",
       ")\n",
       "\u001b[36mcn_iliad_2\u001b[39m: \u001b[32mCitableNode\u001b[39m = \u001b[33mCitableNode\u001b[39m(\n",
       "  \u001b[33mCtsUrn\u001b[39m(\u001b[32m\"urn:cts:greekLit:tlg0012.tlg001.msA:1.2\"\u001b[39m),\n",
       "  \u001b[32m\"\\u03bf\\u1f50\\u03bb\\u03bf\\u03bc\\u03ad\\u03bd\\u03b7\\u03bd, \\u1f23 \\u03bc\\u03c5\\u03c1\\u03af\\u02bc \\u1f08\\u03c7\\u03b1\\u03b9\\u03bf\\u1fd6\\u03c2 \\u1f04\\u03bb\\u03b3\\u03b5\\u02bc \\u1f14\\u03b8\\u03b7\\u03ba\\u03b5,\"\u001b[39m\n",
       ")\n",
       "\u001b[36mcn_iliad_3\u001b[39m: \u001b[32mCitableNode\u001b[39m = \u001b[33mCitableNode\u001b[39m(\n",
       "  \u001b[33mCtsUrn\u001b[39m(\u001b[32m\"urn:cts:greekLit:tlg0012.tlg001.msA:1.3\"\u001b[39m),\n",
       "  \u001b[32m\"\\u03c0\\u03bf\\u03bb\\u03bb\\u1f70\\u03c2 \\u03b4\\u02bc \\u1f30\\u03c6\\u03b8\\u03af\\u03bc\\u03bf\\u03c5\\u03c2 \\u03c8\\u03c5\\u03c7\\u1f70\\u03c2 \\u1f0c\\u03ca\\u03b4\\u03b9 \\u03c0\\u03c1\\u03bf\\u0390\\u03b1\\u03c8\\u03b5\\u03bd\"\u001b[39m\n",
       ")\n",
       "\u001b[36mcn_iliad_4\u001b[39m: \u001b[32mCitableNode\u001b[39m = \u001b[33mCitableNode\u001b[39m(\n",
       "  \u001b[33mCtsUrn\u001b[39m(\u001b[32m\"urn:cts:greekLit:tlg0012.tlg001.msA:1.4\"\u001b[39m),\n",
       "  \u001b[32m\"\\u1f21\\u03c1\\u03ce\\u03c9\\u03bd, \\u03b1\\u1f50\\u03c4\\u03bf\\u1f7a\\u03c2 \\u03b4\\u1f72 \\u1f11\\u03bb\\u03ce\\u03c1\\u03b9\\u03b1 \\u03c4\\u03b5\\u1fe6\\u03c7\\u03b5 \\u03ba\\u03cd\\u03bd\\u03b5\\u03c3\\u03c3\\u03b9\\u03bd\"\u001b[39m\n",
       ")\n",
       "\u001b[36mcn_iliad_5\u001b[39m: \u001b[32mCitableNode\u001b[39m = \u001b[33mCitableNode\u001b[39m(\n",
       "  \u001b[33mCtsUrn\u001b[39m(\u001b[32m\"urn:cts:greekLit:tlg0012.tlg001.msA:1.5\"\u001b[39m),\n",
       "  \u001b[32m\"\\u03bf\\u1f30\\u03c9\\u03bd\\u03bf\\u1fd6\\u03c3\\u03af \\u03c4\\u03b5 \\u03c0\\u1fb6\\u03c3\\u03b9, \\u0394\\u03b9\\u1f78\\u03c2 \\u03b4\\u02bc \\u1f10\\u03c4\\u03b5\\u03bb\\u03b5\\u03af\\u03b5\\u03c4\\u03bf \\u03b2\\u03bf\\u03c5\\u03bb\\u03ae,\"\u001b[39m\n",
       ")"
      ]
     },
     "execution_count": 26,
     "metadata": {},
     "output_type": "execute_result"
    }
   ],
   "source": [
    "val cn_iliad_1 = CitableNode( CtsUrn(\"urn:cts:greekLit:tlg0012.tlg001.msA:1.1\"),  \n",
    "                              \"μῆνιν ἄειδε θεὰ, Πηληϊάδεω Ἀχιλλῆος\")\n",
    "val cn_iliad_2 = CitableNode( CtsUrn(\"urn:cts:greekLit:tlg0012.tlg001.msA:1.2\"),  \n",
    "                              \"οὐλομένην, ἣ μυρίʼ Ἀχαιοῖς ἄλγεʼ ἔθηκε,\")\n",
    "val cn_iliad_3 = CitableNode( CtsUrn(\"urn:cts:greekLit:tlg0012.tlg001.msA:1.3\"),  \n",
    "                              \"πολλὰς δʼ ἰφθίμους ψυχὰς Ἄϊδι προΐαψεν\")\n",
    "val cn_iliad_4 = CitableNode( CtsUrn(\"urn:cts:greekLit:tlg0012.tlg001.msA:1.4\"),  \n",
    "                              \"ἡρώων, αὐτοὺς δὲ ἑλώρια τεῦχε κύνεσσιν\")\n",
    "val cn_iliad_5 = CitableNode( CtsUrn(\"urn:cts:greekLit:tlg0012.tlg001.msA:1.5\"),  \n",
    "                              \"οἰωνοῖσί τε πᾶσι, Διὸς δʼ ἐτελείετο βουλή,\")"
   ]
  },
  {
   "cell_type": "markdown",
   "metadata": {},
   "source": [
    "Then we make a `Vector` of them, which we can turn into a `Corpus` object:"
   ]
  },
  {
   "cell_type": "code",
   "execution_count": 27,
   "metadata": {},
   "outputs": [
    {
     "data": {
      "text/plain": [
       "\u001b[36mcn_vector\u001b[39m: \u001b[32mVector\u001b[39m[\u001b[32mCitableNode\u001b[39m] = \u001b[33mVector\u001b[39m(\n",
       "  \u001b[33mCitableNode\u001b[39m(\n",
       "    \u001b[33mCtsUrn\u001b[39m(\u001b[32m\"urn:cts:greekLit:tlg0012.tlg001.msA:1.1\"\u001b[39m),\n",
       "    \u001b[32m\"\\u03bc\\u1fc6\\u03bd\\u03b9\\u03bd \\u1f04\\u03b5\\u03b9\\u03b4\\u03b5 \\u03b8\\u03b5\\u1f70, \\u03a0\\u03b7\\u03bb\\u03b7\\u03ca\\u03ac\\u03b4\\u03b5\\u03c9 \\u1f08\\u03c7\\u03b9\\u03bb\\u03bb\\u1fc6\\u03bf\\u03c2\"\u001b[39m\n",
       "  ),\n",
       "  \u001b[33mCitableNode\u001b[39m(\n",
       "    \u001b[33mCtsUrn\u001b[39m(\u001b[32m\"urn:cts:greekLit:tlg0012.tlg001.msA:1.2\"\u001b[39m),\n",
       "    \u001b[32m\"\\u03bf\\u1f50\\u03bb\\u03bf\\u03bc\\u03ad\\u03bd\\u03b7\\u03bd, \\u1f23 \\u03bc\\u03c5\\u03c1\\u03af\\u02bc \\u1f08\\u03c7\\u03b1\\u03b9\\u03bf\\u1fd6\\u03c2 \\u1f04\\u03bb\\u03b3\\u03b5\\u02bc \\u1f14\\u03b8\\u03b7\\u03ba\\u03b5,\"\u001b[39m\n",
       "  ),\n",
       "  \u001b[33mCitableNode\u001b[39m(\n",
       "    \u001b[33mCtsUrn\u001b[39m(\u001b[32m\"urn:cts:greekLit:tlg0012.tlg001.msA:1.3\"\u001b[39m),\n",
       "    \u001b[32m\"\\u03c0\\u03bf\\u03bb\\u03bb\\u1f70\\u03c2 \\u03b4\\u02bc \\u1f30\\u03c6\\u03b8\\u03af\\u03bc\\u03bf\\u03c5\\u03c2 \\u03c8\\u03c5\\u03c7\\u1f70\\u03c2 \\u1f0c\\u03ca\\u03b4\\u03b9 \\u03c0\\u03c1\\u03bf\\u0390\\u03b1\\u03c8\\u03b5\\u03bd\"\u001b[39m\n",
       "  ),\n",
       "  \u001b[33mCitableNode\u001b[39m(\n",
       "    \u001b[33mCtsUrn\u001b[39m(\u001b[32m\"urn:cts:greekLit:tlg0012.tlg001.msA:1.4\"\u001b[39m),\n",
       "    \u001b[32m\"\\u1f21\\u03c1\\u03ce\\u03c9\\u03bd, \\u03b1\\u1f50\\u03c4\\u03bf\\u1f7a\\u03c2 \\u03b4\\u1f72 \\u1f11\\u03bb\\u03ce\\u03c1\\u03b9\\u03b1 \\u03c4\\u03b5\\u1fe6\\u03c7\\u03b5 \\u03ba\\u03cd\\u03bd\\u03b5\\u03c3\\u03c3\\u03b9\\u03bd\"\u001b[39m\n",
       "  ),\n",
       "  \u001b[33mCitableNode\u001b[39m(\n",
       "    \u001b[33mCtsUrn\u001b[39m(\u001b[32m\"urn:cts:greekLit:tlg0012.tlg001.msA:1.5\"\u001b[39m),\n",
       "    \u001b[32m\"\\u03bf\\u1f30\\u03c9\\u03bd\\u03bf\\u1fd6\\u03c3\\u03af \\u03c4\\u03b5 \\u03c0\\u1fb6\\u03c3\\u03b9, \\u0394\\u03b9\\u1f78\\u03c2 \\u03b4\\u02bc \\u1f10\\u03c4\\u03b5\\u03bb\\u03b5\\u03af\\u03b5\\u03c4\\u03bf \\u03b2\\u03bf\\u03c5\\u03bb\\u03ae,\"\u001b[39m\n",
       "  )\n",
       ")\n",
       "\u001b[36miliad_corpus\u001b[39m: \u001b[32mCorpus\u001b[39m = \u001b[33mCorpus\u001b[39m(\n",
       "  \u001b[33mVector\u001b[39m(\n",
       "    \u001b[33mCitableNode\u001b[39m(\n",
       "      \u001b[33mCtsUrn\u001b[39m(\u001b[32m\"urn:cts:greekLit:tlg0012.tlg001.msA:1.1\"\u001b[39m),\n",
       "      \u001b[32m\"\\u03bc\\u1fc6\\u03bd\\u03b9\\u03bd \\u1f04\\u03b5\\u03b9\\u03b4\\u03b5 \\u03b8\\u03b5\\u1f70, \\u03a0\\u03b7\\u03bb\\u03b7\\u03ca\\u03ac\\u03b4\\u03b5\\u03c9 \\u1f08\\u03c7\\u03b9\\u03bb\\u03bb\\u1fc6\\u03bf\\u03c2\"\u001b[39m\n",
       "    ),\n",
       "    \u001b[33mCitableNode\u001b[39m(\n",
       "      \u001b[33mCtsUrn\u001b[39m(\u001b[32m\"urn:cts:greekLit:tlg0012.tlg001.msA:1.2\"\u001b[39m),\n",
       "      \u001b[32m\"\\u03bf\\u1f50\\u03bb\\u03bf\\u03bc\\u03ad\\u03bd\\u03b7\\u03bd, \\u1f23 \\u03bc\\u03c5\\u03c1\\u03af\\u02bc \\u1f08\\u03c7\\u03b1\\u03b9\\u03bf\\u1fd6\\u03c2 \\u1f04\\u03bb\\u03b3\\u03b5\\u02bc \\u1f14\\u03b8\\u03b7\\u03ba\\u03b5,\"\u001b[39m\n",
       "    ),\n",
       "    \u001b[33mCitableNode\u001b[39m(\n",
       "      \u001b[33mCtsUrn\u001b[39m(\u001b[32m\"urn:cts:greekLit:tlg0012.tlg001.msA:1.3\"\u001b[39m),\n",
       "      \u001b[32m\"\\u03c0\\u03bf\\u03bb\\u03bb\\u1f70\\u03c2 \\u03b4\\u02bc \\u1f30\\u03c6\\u03b8\\u03af\\u03bc\\u03bf\\u03c5\\u03c2 \\u03c8\\u03c5\\u03c7\\u1f70\\u03c2 \\u1f0c\\u03ca\\u03b4\\u03b9 \\u03c0\\u03c1\\u03bf\\u0390\\u03b1\\u03c8\\u03b5\\u03bd\"\u001b[39m\n",
       "    ),\n",
       "    \u001b[33mCitableNode\u001b[39m(\n",
       "      \u001b[33mCtsUrn\u001b[39m(\u001b[32m\"urn:cts:greekLit:tlg0012.tlg001.msA:1.4\"\u001b[39m),\n",
       "      \u001b[32m\"\\u1f21\\u03c1\\u03ce\\u03c9\\u03bd, \\u03b1\\u1f50\\u03c4\\u03bf\\u1f7a\\u03c2 \\u03b4\\u1f72 \\u1f11\\u03bb\\u03ce\\u03c1\\u03b9\\u03b1 \\u03c4\\u03b5\\u1fe6\\u03c7\\u03b5 \\u03ba\\u03cd\\u03bd\\u03b5\\u03c3\\u03c3\\u03b9\\u03bd\"\u001b[39m\n",
       "    ),\n",
       "    \u001b[33mCitableNode\u001b[39m(\n",
       "      \u001b[33mCtsUrn\u001b[39m(\u001b[32m\"urn:cts:greekLit:tlg0012.tlg001.msA:1.5\"\u001b[39m),\n",
       "      \u001b[32m\"\\u03bf\\u1f30\\u03c9\\u03bd\\u03bf\\u1fd6\\u03c3\\u03af \\u03c4\\u03b5 \\u03c0\\u1fb6\\u03c3\\u03b9, \\u0394\\u03b9\\u1f78\\u03c2 \\u03b4\\u02bc \\u1f10\\u03c4\\u03b5\\u03bb\\u03b5\\u03af\\u03b5\\u03c4\\u03bf \\u03b2\\u03bf\\u03c5\\u03bb\\u03ae,\"\u001b[39m\n",
       "    )\n",
       "  )\n",
       ")"
      ]
     },
     "execution_count": 27,
     "metadata": {},
     "output_type": "execute_result"
    }
   ],
   "source": [
    "val cn_vector: Vector[CitableNode] = Vector( cn_iliad_1, cn_iliad_2, cn_iliad_3, cn_iliad_4, cn_iliad_5 )\n",
    "\n",
    "val iliad_corpus = Corpus( cn_vector )"
   ]
  },
  {
   "cell_type": "markdown",
   "metadata": {},
   "source": [
    "### Working with a Corpus"
   ]
  },
  {
   "cell_type": "markdown",
   "metadata": {},
   "source": [
    "A `Corpus` object offers a number of methods for querying and manipulating a text:"
   ]
  },
  {
   "cell_type": "code",
   "execution_count": 28,
   "metadata": {},
   "outputs": [
    {
     "data": {
      "text/plain": [
       "\u001b[36mres27\u001b[39m: \u001b[32mVector\u001b[39m[\u001b[32mCtsUrn\u001b[39m] = \u001b[33mVector\u001b[39m(\n",
       "  \u001b[33mCtsUrn\u001b[39m(\u001b[32m\"urn:cts:greekLit:tlg0012.tlg001.msA:1.1\"\u001b[39m),\n",
       "  \u001b[33mCtsUrn\u001b[39m(\u001b[32m\"urn:cts:greekLit:tlg0012.tlg001.msA:1.2\"\u001b[39m),\n",
       "  \u001b[33mCtsUrn\u001b[39m(\u001b[32m\"urn:cts:greekLit:tlg0012.tlg001.msA:1.3\"\u001b[39m),\n",
       "  \u001b[33mCtsUrn\u001b[39m(\u001b[32m\"urn:cts:greekLit:tlg0012.tlg001.msA:1.4\"\u001b[39m),\n",
       "  \u001b[33mCtsUrn\u001b[39m(\u001b[32m\"urn:cts:greekLit:tlg0012.tlg001.msA:1.5\"\u001b[39m)\n",
       ")"
      ]
     },
     "execution_count": 28,
     "metadata": {},
     "output_type": "execute_result"
    }
   ],
   "source": [
    "// Get a list of all citations in a Corpus\n",
    "iliad_corpus.urns"
   ]
  },
  {
   "cell_type": "code",
   "execution_count": 29,
   "metadata": {},
   "outputs": [
    {
     "name": "stdout",
     "output_type": "stream",
     "text": [
      "CitableNode(urn:cts:greekLit:tlg0012.tlg001.msA:1.1,μῆνιν ἄειδε θεὰ, Πηληϊάδεω Ἀχιλλῆος)\n"
     ]
    }
   ],
   "source": [
    "// Get the first passage in a Corpus as a CitableNode\n",
    "println( iliad_corpus.first )"
   ]
  },
  {
   "cell_type": "code",
   "execution_count": 30,
   "metadata": {},
   "outputs": [
    {
     "data": {
      "text/plain": [
       "\u001b[36mres29\u001b[39m: \u001b[32mInt\u001b[39m = \u001b[32m5\u001b[39m"
      ]
     },
     "execution_count": 30,
     "metadata": {},
     "output_type": "execute_result"
    }
   ],
   "source": [
    "// Get a count of the passages in a Corpus\n",
    "iliad_corpus.size"
   ]
  },
  {
   "cell_type": "markdown",
   "metadata": {},
   "source": [
    "To work iteratively with passages in a `Corpus`, you can access the `.nodes` property. The following example compbines working with the citable nodes of a `Corpus` with a little URN manipulation (these are courtesy of the `xcite` Scala library)."
   ]
  },
  {
   "cell_type": "code",
   "execution_count": 31,
   "metadata": {},
   "outputs": [
    {
     "name": "stdout",
     "output_type": "stream",
     "text": [
      "1.1. μῆνιν ἄειδε θεὰ, Πηληϊάδεω Ἀχιλλῆος\n",
      "1.2. οὐλομένην, ἣ μυρίʼ Ἀχαιοῖς ἄλγεʼ ἔθηκε,\n",
      "1.3. πολλὰς δʼ ἰφθίμους ψυχὰς Ἄϊδι προΐαψεν\n",
      "1.4. ἡρώων, αὐτοὺς δὲ ἑλώρια τεῦχε κύνεσσιν\n",
      "1.5. οἰωνοῖσί τε πᾶσι, Διὸς δʼ ἐτελείετο βουλή,\n"
     ]
    },
    {
     "data": {
      "text/plain": [
       "defined \u001b[32mfunction\u001b[39m \u001b[36mprettyPrintCorpus\u001b[39m"
      ]
     },
     "execution_count": 31,
     "metadata": {},
     "output_type": "execute_result"
    }
   ],
   "source": [
    "def prettyPrintCorpus( corp: Corpus ): Unit = {\n",
    "    for ( n <- corp.nodes ) {\n",
    "        val psg: String = n.urn.passageComponent\n",
    "        val txt: String = n.text\n",
    "        println( s\"${psg}. ${txt}\" )\n",
    "    }\n",
    "}\n",
    "\n",
    "// use our new function!\n",
    "\n",
    "prettyPrintCorpus( iliad_corpus )"
   ]
  },
  {
   "cell_type": "markdown",
   "metadata": {},
   "source": [
    "#### The Twiddle\n",
    "\n",
    "But the most important way of working with a `Corpus` is by using CTS-URNs for identification and retrieval. \n",
    "\n",
    "And the most basic way of doing this is with the `~~` operator, the \"twiddle\":"
   ]
  },
  {
   "cell_type": "code",
   "execution_count": 32,
   "metadata": {},
   "outputs": [
    {
     "name": "stdout",
     "output_type": "stream",
     "text": [
      "1.2. οὐλομένην, ἣ μυρίʼ Ἀχαιοῖς ἄλγεʼ ἔθηκε,\n",
      "1.3. πολλὰς δʼ ἰφθίμους ψυχὰς Ἄϊδι προΐαψεν\n",
      "1.4. ἡρώων, αὐτοὺς δὲ ἑλώρια τεῦχε κύνεσσιν\n"
     ]
    },
    {
     "data": {
      "text/plain": [
       "\u001b[36mthreeLineRangeUrn\u001b[39m: \u001b[32mCtsUrn\u001b[39m = \u001b[33mCtsUrn\u001b[39m(\n",
       "  \u001b[32m\"urn:cts:greekLit:tlg0012.tlg001.msA:1.2-1.4\"\u001b[39m\n",
       ")\n",
       "\u001b[36mthreeLineCorpus\u001b[39m: \u001b[32mCorpus\u001b[39m = \u001b[33mCorpus\u001b[39m(\n",
       "  \u001b[33mVector\u001b[39m(\n",
       "    \u001b[33mCitableNode\u001b[39m(\n",
       "      \u001b[33mCtsUrn\u001b[39m(\u001b[32m\"urn:cts:greekLit:tlg0012.tlg001.msA:1.2\"\u001b[39m),\n",
       "      \u001b[32m\"\\u03bf\\u1f50\\u03bb\\u03bf\\u03bc\\u03ad\\u03bd\\u03b7\\u03bd, \\u1f23 \\u03bc\\u03c5\\u03c1\\u03af\\u02bc \\u1f08\\u03c7\\u03b1\\u03b9\\u03bf\\u1fd6\\u03c2 \\u1f04\\u03bb\\u03b3\\u03b5\\u02bc \\u1f14\\u03b8\\u03b7\\u03ba\\u03b5,\"\u001b[39m\n",
       "    ),\n",
       "    \u001b[33mCitableNode\u001b[39m(\n",
       "      \u001b[33mCtsUrn\u001b[39m(\u001b[32m\"urn:cts:greekLit:tlg0012.tlg001.msA:1.3\"\u001b[39m),\n",
       "      \u001b[32m\"\\u03c0\\u03bf\\u03bb\\u03bb\\u1f70\\u03c2 \\u03b4\\u02bc \\u1f30\\u03c6\\u03b8\\u03af\\u03bc\\u03bf\\u03c5\\u03c2 \\u03c8\\u03c5\\u03c7\\u1f70\\u03c2 \\u1f0c\\u03ca\\u03b4\\u03b9 \\u03c0\\u03c1\\u03bf\\u0390\\u03b1\\u03c8\\u03b5\\u03bd\"\u001b[39m\n",
       "    ),\n",
       "    \u001b[33mCitableNode\u001b[39m(\n",
       "      \u001b[33mCtsUrn\u001b[39m(\u001b[32m\"urn:cts:greekLit:tlg0012.tlg001.msA:1.4\"\u001b[39m),\n",
       "      \u001b[32m\"\\u1f21\\u03c1\\u03ce\\u03c9\\u03bd, \\u03b1\\u1f50\\u03c4\\u03bf\\u1f7a\\u03c2 \\u03b4\\u1f72 \\u1f11\\u03bb\\u03ce\\u03c1\\u03b9\\u03b1 \\u03c4\\u03b5\\u1fe6\\u03c7\\u03b5 \\u03ba\\u03cd\\u03bd\\u03b5\\u03c3\\u03c3\\u03b9\\u03bd\"\u001b[39m\n",
       "    )\n",
       "  )\n",
       ")"
      ]
     },
     "execution_count": 32,
     "metadata": {},
     "output_type": "execute_result"
    }
   ],
   "source": [
    "val threeLineRangeUrn = CtsUrn(\"urn:cts:greekLit:tlg0012.tlg001.msA:1.2-1.4\")\n",
    "val threeLineCorpus = iliad_corpus ~~ threeLineRangeUrn\n",
    "\n",
    "prettyPrintCorpus( threeLineCorpus )"
   ]
  },
  {
   "cell_type": "markdown",
   "metadata": {},
   "source": [
    "## CTS URN Methods"
   ]
  },
  {
   "cell_type": "markdown",
   "metadata": {},
   "source": [
    "You can refer to the [documentation for the `xcite` API library](https://cite-architecture.github.io/cite-api-docs/xcite/api/edu/holycross/shot/cite/index.html) for some things you can do to a CTS URN."
   ]
  },
  {
   "cell_type": "code",
   "execution_count": 33,
   "metadata": {},
   "outputs": [
    {
     "data": {
      "text/plain": [
       "\u001b[36murn\u001b[39m: \u001b[32mCtsUrn\u001b[39m = \u001b[33mCtsUrn\u001b[39m(\u001b[32m\"urn:cts:greekLit:tlg0012.tlg001.msA:1.2\"\u001b[39m)\n",
       "\u001b[36mrangeUrn\u001b[39m: \u001b[32mCtsUrn\u001b[39m = \u001b[33mCtsUrn\u001b[39m(\u001b[32m\"urn:cts:greekLit:tlg0012.tlg001.msA:1.2-1.4\"\u001b[39m)"
      ]
     },
     "execution_count": 33,
     "metadata": {},
     "output_type": "execute_result"
    }
   ],
   "source": [
    "val urn = CtsUrn(\"urn:cts:greekLit:tlg0012.tlg001.msA:1.2\")\n",
    "val rangeUrn = CtsUrn(\"urn:cts:greekLit:tlg0012.tlg001.msA:1.2-1.4\")\n"
   ]
  },
  {
   "cell_type": "markdown",
   "metadata": {},
   "source": [
    "Some examples:"
   ]
  },
  {
   "cell_type": "code",
   "execution_count": 34,
   "metadata": {},
   "outputs": [
    {
     "data": {
      "text/plain": [
       "\u001b[36mres33\u001b[39m: \u001b[32mString\u001b[39m = \u001b[32m\"1.2\"\u001b[39m"
      ]
     },
     "execution_count": 34,
     "metadata": {},
     "output_type": "execute_result"
    }
   ],
   "source": [
    "urn.passageComponent"
   ]
  },
  {
   "cell_type": "code",
   "execution_count": 35,
   "metadata": {},
   "outputs": [
    {
     "data": {
      "text/plain": [
       "\u001b[36mres34\u001b[39m: \u001b[32mBoolean\u001b[39m = false"
      ]
     },
     "execution_count": 35,
     "metadata": {},
     "output_type": "execute_result"
    }
   ],
   "source": [
    "urn.isRange"
   ]
  },
  {
   "cell_type": "code",
   "execution_count": 36,
   "metadata": {},
   "outputs": [
    {
     "data": {
      "text/plain": [
       "\u001b[36mres35\u001b[39m: \u001b[32mBoolean\u001b[39m = true"
      ]
     },
     "execution_count": 36,
     "metadata": {},
     "output_type": "execute_result"
    }
   ],
   "source": [
    "rangeUrn.isRange"
   ]
  },
  {
   "cell_type": "code",
   "execution_count": 37,
   "metadata": {},
   "outputs": [
    {
     "data": {
      "text/plain": [
       "\u001b[36mres36\u001b[39m: \u001b[32mCtsUrn\u001b[39m = \u001b[33mCtsUrn\u001b[39m(\u001b[32m\"urn:cts:greekLit:tlg0012.tlg001.msA:1\"\u001b[39m)"
      ]
     },
     "execution_count": 37,
     "metadata": {},
     "output_type": "execute_result"
    }
   ],
   "source": [
    "urn.collapsePassageTo(1)"
   ]
  },
  {
   "cell_type": "markdown",
   "metadata": {},
   "source": [
    "This last can be extremely useful!\n",
    "\n",
    "I one passage, but I want to see its context…"
   ]
  },
  {
   "cell_type": "code",
   "execution_count": 38,
   "metadata": {},
   "outputs": [
    {
     "name": "stdout",
     "output_type": "stream",
     "text": [
      "1.1. μῆνιν ἄειδε θεὰ, Πηληϊάδεω Ἀχιλλῆος\n",
      "1.2. οὐλομένην, ἣ μυρίʼ Ἀχαιοῖς ἄλγεʼ ἔθηκε,\n",
      "1.3. πολλὰς δʼ ἰφθίμους ψυχὰς Ἄϊδι προΐαψεν\n",
      "1.4. ἡρώων, αὐτοὺς δὲ ἑλώρια τεῦχε κύνεσσιν\n",
      "1.5. οἰωνοῖσί τε πᾶσι, Διὸς δʼ ἐτελείετο βουλή,\n"
     ]
    },
    {
     "data": {
      "text/plain": [
       "\u001b[36monePassageUrn\u001b[39m: \u001b[32mCtsUrn\u001b[39m = \u001b[33mCtsUrn\u001b[39m(\u001b[32m\"urn:cts:greekLit:tlg0012.tlg001.msA:1.2\"\u001b[39m)\n",
       "\u001b[36mcontextUrn\u001b[39m: \u001b[32mCtsUrn\u001b[39m = \u001b[33mCtsUrn\u001b[39m(\u001b[32m\"urn:cts:greekLit:tlg0012.tlg001.msA:1\"\u001b[39m)\n",
       "\u001b[36mcontextCorpus\u001b[39m: \u001b[32mCorpus\u001b[39m = \u001b[33mCorpus\u001b[39m(\n",
       "  \u001b[33mVector\u001b[39m(\n",
       "    \u001b[33mCitableNode\u001b[39m(\n",
       "      \u001b[33mCtsUrn\u001b[39m(\u001b[32m\"urn:cts:greekLit:tlg0012.tlg001.msA:1.1\"\u001b[39m),\n",
       "      \u001b[32m\"\\u03bc\\u1fc6\\u03bd\\u03b9\\u03bd \\u1f04\\u03b5\\u03b9\\u03b4\\u03b5 \\u03b8\\u03b5\\u1f70, \\u03a0\\u03b7\\u03bb\\u03b7\\u03ca\\u03ac\\u03b4\\u03b5\\u03c9 \\u1f08\\u03c7\\u03b9\\u03bb\\u03bb\\u1fc6\\u03bf\\u03c2\"\u001b[39m\n",
       "    ),\n",
       "    \u001b[33mCitableNode\u001b[39m(\n",
       "      \u001b[33mCtsUrn\u001b[39m(\u001b[32m\"urn:cts:greekLit:tlg0012.tlg001.msA:1.2\"\u001b[39m),\n",
       "      \u001b[32m\"\\u03bf\\u1f50\\u03bb\\u03bf\\u03bc\\u03ad\\u03bd\\u03b7\\u03bd, \\u1f23 \\u03bc\\u03c5\\u03c1\\u03af\\u02bc \\u1f08\\u03c7\\u03b1\\u03b9\\u03bf\\u1fd6\\u03c2 \\u1f04\\u03bb\\u03b3\\u03b5\\u02bc \\u1f14\\u03b8\\u03b7\\u03ba\\u03b5,\"\u001b[39m\n",
       "    ),\n",
       "    \u001b[33mCitableNode\u001b[39m(\n",
       "      \u001b[33mCtsUrn\u001b[39m(\u001b[32m\"urn:cts:greekLit:tlg0012.tlg001.msA:1.3\"\u001b[39m),\n",
       "      \u001b[32m\"\\u03c0\\u03bf\\u03bb\\u03bb\\u1f70\\u03c2 \\u03b4\\u02bc \\u1f30\\u03c6\\u03b8\\u03af\\u03bc\\u03bf\\u03c5\\u03c2 \\u03c8\\u03c5\\u03c7\\u1f70\\u03c2 \\u1f0c\\u03ca\\u03b4\\u03b9 \\u03c0\\u03c1\\u03bf\\u0390\\u03b1\\u03c8\\u03b5\\u03bd\"\u001b[39m\n",
       "    ),\n",
       "    \u001b[33mCitableNode\u001b[39m(\n",
       "      \u001b[33mCtsUrn\u001b[39m(\u001b[32m\"urn:cts:greekLit:tlg0012.tlg001.msA:1.4\"\u001b[39m),\n",
       "      \u001b[32m\"\\u1f21\\u03c1\\u03ce\\u03c9\\u03bd, \\u03b1\\u1f50\\u03c4\\u03bf\\u1f7a\\u03c2 \\u03b4\\u1f72 \\u1f11\\u03bb\\u03ce\\u03c1\\u03b9\\u03b1 \\u03c4\\u03b5\\u1fe6\\u03c7\\u03b5 \\u03ba\\u03cd\\u03bd\\u03b5\\u03c3\\u03c3\\u03b9\\u03bd\"\u001b[39m\n",
       "    ),\n",
       "    \u001b[33mCitableNode\u001b[39m(\n",
       "      \u001b[33mCtsUrn\u001b[39m(\u001b[32m\"urn:cts:greekLit:tlg0012.tlg001.msA:1.5\"\u001b[39m),\n",
       "      \u001b[32m\"\\u03bf\\u1f30\\u03c9\\u03bd\\u03bf\\u1fd6\\u03c3\\u03af \\u03c4\\u03b5 \\u03c0\\u1fb6\\u03c3\\u03b9, \\u0394\\u03b9\\u1f78\\u03c2 \\u03b4\\u02bc \\u1f10\\u03c4\\u03b5\\u03bb\\u03b5\\u03af\\u03b5\\u03c4\\u03bf \\u03b2\\u03bf\\u03c5\\u03bb\\u03ae,\"\u001b[39m\n",
       "    )\n",
       "  )\n",
       ")"
      ]
     },
     "execution_count": 38,
     "metadata": {},
     "output_type": "execute_result"
    }
   ],
   "source": [
    "val onePassageUrn = urn\n",
    "val contextUrn = urn.collapsePassageTo(1)\n",
    "val contextCorpus = iliad_corpus ~~ contextUrn\n",
    "\n",
    "prettyPrintCorpus( contextCorpus )"
   ]
  },
  {
   "cell_type": "markdown",
   "metadata": {},
   "source": [
    "## Feel free to experiment!"
   ]
  },
  {
   "cell_type": "code",
   "execution_count": null,
   "metadata": {},
   "outputs": [],
   "source": []
  }
 ],
 "metadata": {
  "kernel_info": {
   "name": "scala"
  },
  "kernelspec": {
   "display_name": "Scala",
   "language": "scala",
   "name": "scala"
  },
  "language_info": {
   "codemirror_mode": "text/x-scala",
   "file_extension": ".scala",
   "mimetype": "text/x-scala",
   "name": "scala",
   "nbconvert_exporter": "script",
   "version": "2.12.10"
  },
  "nteract": {
   "version": "0.15.0"
  }
 },
 "nbformat": 4,
 "nbformat_minor": 2
}
