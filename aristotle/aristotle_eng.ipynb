{
 "cells": [
  {
   "cell_type": "markdown",
   "metadata": {},
   "source": [
    "# Making a CEX File from a Text File\n",
    "\n",
    "\n"
   ]
  },
  {
   "cell_type": "markdown",
   "metadata": {},
   "source": [
    "## Configuring CITE libraries for almond kernel\n",
    "\n",
    "First, we'll make a bintray repository with CITE libraries available to your almond kernel."
   ]
  },
  {
   "cell_type": "code",
   "execution_count": 118,
   "metadata": {},
   "outputs": [
    {
     "data": {
      "text/plain": [
       "\u001b[36mmyBT\u001b[39m: \u001b[32mcoursierapi\u001b[39m.\u001b[32mMavenRepository\u001b[39m = MavenRepository(https://dl.bintray.com/neelsmith/maven)"
      ]
     },
     "execution_count": 118,
     "metadata": {},
     "output_type": "execute_result"
    }
   ],
   "source": [
    "val myBT = coursierapi.MavenRepository.of(\"https://dl.bintray.com/neelsmith/maven\")\n",
    "interp.repositories() ++= Seq(myBT)"
   ]
  },
  {
   "cell_type": "markdown",
   "metadata": {},
   "source": [
    "Next, we bring in specific libraries from the new repository using almond's `$ivy` magic:"
   ]
  },
  {
   "cell_type": "code",
   "execution_count": 119,
   "metadata": {},
   "outputs": [
    {
     "data": {
      "text/plain": [
       "\u001b[32mimport \u001b[39m\u001b[36m$ivy.$                                  \n",
       "\u001b[39m\n",
       "\u001b[32mimport \u001b[39m\u001b[36m$ivy.$                                     \n",
       "\u001b[39m\n",
       "\u001b[32mimport \u001b[39m\u001b[36m$ivy.$                              \n",
       "\u001b[39m\n",
       "\u001b[32mimport \u001b[39m\u001b[36m$ivy.$                              \n",
       "\u001b[39m\n",
       "\u001b[32mimport \u001b[39m\u001b[36m$ivy.$                                          \n",
       "\u001b[39m\n",
       "\u001b[32mimport \u001b[39m\u001b[36m$ivy.$                                  \n",
       "\u001b[39m\n",
       "\u001b[32mimport \u001b[39m\u001b[36m$ivy.$                                        \n",
       "\u001b[39m\n",
       "\u001b[32mimport \u001b[39m\u001b[36m$ivy.$                              \n",
       "\u001b[39m\n",
       "\u001b[32mimport \u001b[39m\u001b[36m$ivy.$                                \n",
       "\u001b[39m"
      ]
     },
     "execution_count": 119,
     "metadata": {},
     "output_type": "execute_result"
    }
   ],
   "source": [
    "import $ivy.`edu.holycross.shot::ohco2:10.16.0`\n",
    "import $ivy.`edu.holycross.shot.cite::xcite:4.1.1`\n",
    "import $ivy.`edu.holycross.shot::scm:7.2.0`\n",
    "import $ivy.`edu.holycross.shot::dse:5.2.2`\n",
    "import $ivy.`edu.holycross.shot::citebinaryimage:3.1.1`\n",
    "import $ivy.`edu.holycross.shot::citeobj:7.3.4`\n",
    "import $ivy.`edu.holycross.shot::citerelations:2.5.2`\n",
    "import $ivy.`edu.holycross.shot::cex:6.3.3`\n",
    "import $ivy.`edu.holycross.shot::greek:2.3.3`\n"
   ]
  },
  {
   "cell_type": "markdown",
   "metadata": {},
   "source": [
    "## Imports\n",
    "\n",
    "From this point on, your notebook consists of completely generic Scala, with the CITE Libraries available to use."
   ]
  },
  {
   "cell_type": "code",
   "execution_count": 120,
   "metadata": {},
   "outputs": [
    {
     "data": {
      "text/plain": [
       "\u001b[32mimport \u001b[39m\u001b[36medu.holycross.shot.cite._\n",
       "\u001b[39m\n",
       "\u001b[32mimport \u001b[39m\u001b[36medu.holycross.shot.ohco2._\n",
       "\u001b[39m\n",
       "\u001b[32mimport \u001b[39m\u001b[36medu.holycross.shot.scm._\n",
       "\u001b[39m\n",
       "\u001b[32mimport \u001b[39m\u001b[36medu.holycross.shot.citeobj._\n",
       "\u001b[39m\n",
       "\u001b[32mimport \u001b[39m\u001b[36medu.holycross.shot.citerelation._\n",
       "\u001b[39m\n",
       "\u001b[32mimport \u001b[39m\u001b[36medu.holycross.shot.dse._\n",
       "\u001b[39m\n",
       "\u001b[32mimport \u001b[39m\u001b[36medu.holycross.shot.citebinaryimage._\n",
       "\u001b[39m\n",
       "\u001b[32mimport \u001b[39m\u001b[36medu.holycross.shot.ohco2._\n",
       "\u001b[39m\n",
       "\u001b[32mimport \u001b[39m\u001b[36medu.holycross.shot.greek._\n",
       "\n",
       "\u001b[39m\n",
       "\u001b[32mimport \u001b[39m\u001b[36malmond.display.UpdatableDisplay\n",
       "\u001b[39m\n",
       "\u001b[32mimport \u001b[39m\u001b[36malmond.interpreter.api.DisplayData.ContentType\n",
       "\u001b[39m\n",
       "\u001b[32mimport \u001b[39m\u001b[36malmond.interpreter.api.{DisplayData, OutputHandler}\n",
       "\n",
       "\u001b[39m\n",
       "\u001b[32mimport \u001b[39m\u001b[36mjava.io.File\n",
       "\u001b[39m\n",
       "\u001b[32mimport \u001b[39m\u001b[36mjava.io.PrintWriter\n",
       "\n",
       "\u001b[39m\n",
       "\u001b[32mimport \u001b[39m\u001b[36mscala.io.Source\n",
       "\u001b[39m"
      ]
     },
     "execution_count": 120,
     "metadata": {},
     "output_type": "execute_result"
    }
   ],
   "source": [
    "// Import some CITE libraries\n",
    "import edu.holycross.shot.cite._\n",
    "import edu.holycross.shot.ohco2._\n",
    "import edu.holycross.shot.scm._\n",
    "import edu.holycross.shot.citeobj._\n",
    "import edu.holycross.shot.citerelation._\n",
    "import edu.holycross.shot.dse._\n",
    "import edu.holycross.shot.citebinaryimage._\n",
    "import edu.holycross.shot.ohco2._\n",
    "import edu.holycross.shot.greek._\n",
    "\n",
    "import almond.display.UpdatableDisplay\n",
    "import almond.interpreter.api.DisplayData.ContentType\n",
    "import almond.interpreter.api.{DisplayData, OutputHandler}\n",
    "\n",
    "import java.io.File\n",
    "import java.io.PrintWriter\n",
    "\n",
    "import scala.io.Source\n"
   ]
  },
  {
   "cell_type": "markdown",
   "metadata": {},
   "source": [
    "## Useful Functions"
   ]
  },
  {
   "cell_type": "markdown",
   "metadata": {},
   "source": [
    "Save a string:"
   ]
  },
  {
   "cell_type": "code",
   "execution_count": 121,
   "metadata": {},
   "outputs": [
    {
     "data": {
      "text/plain": [
       "defined \u001b[32mfunction\u001b[39m \u001b[36msaveString\u001b[39m"
      ]
     },
     "execution_count": 121,
     "metadata": {},
     "output_type": "execute_result"
    }
   ],
   "source": [
    "def saveString(s:String, filePath:String = \"\", fileName:String = \"temp.txt\"):Unit = {\n",
    "\t\t val writer = new PrintWriter(new File(s\"${filePath}${fileName}\"))\n",
    "         writer.write(s)\n",
    "         writer.close()\n",
    "\t}"
   ]
  },
  {
   "cell_type": "markdown",
   "metadata": {},
   "source": [
    "Pretty Print many things:"
   ]
  },
  {
   "cell_type": "code",
   "execution_count": 122,
   "metadata": {},
   "outputs": [
    {
     "data": {
      "text/plain": [
       "defined \u001b[32mfunction\u001b[39m \u001b[36mshowMe\u001b[39m"
      ]
     },
     "execution_count": 122,
     "metadata": {},
     "output_type": "execute_result"
    }
   ],
   "source": [
    "def showMe(v:Any):Unit = {\n",
    "  v match {\n",
    "    case _:StringHistogram => {\n",
    "        for ( h <- v.asInstanceOf[StringHistogram].histogram ) {\n",
    "            println(s\"${h.count}\\t${h.s}\")\n",
    "        }\n",
    "    }\n",
    "  \tcase _:Corpus => {\n",
    "  \t\tfor ( n <- v.asInstanceOf[Corpus].nodes) {\n",
    "  \t\t\tprintln(s\"${n.urn.passageComponent}\\t\\t${n.text}\")\n",
    "  \t\t}\t\n",
    "  \t}\n",
    "    case _:Vector[Any] => println(s\"\"\"\\n----\\n${v.asInstanceOf[Vector[Any]].mkString(\"\\n\")}\\n----\\n\"\"\")\n",
    "    case _:Iterable[Any] => println(s\"\"\"\\n----\\n${v.asInstanceOf[Iterable[Any]].mkString(\"\\n\")}\\n----\\n\"\"\")\n",
    "    case _ => println(s\"\\n-----\\n${v}\\n----\\n\")\n",
    "  }\n",
    "}"
   ]
  },
  {
   "cell_type": "markdown",
   "metadata": {},
   "source": [
    "## Load a Template File"
   ]
  },
  {
   "cell_type": "markdown",
   "metadata": {},
   "source": [
    "Make the CEX Header"
   ]
  },
  {
   "cell_type": "code",
   "execution_count": 123,
   "metadata": {},
   "outputs": [
    {
     "data": {
      "text/plain": [
       "\u001b[36mcexTop\u001b[39m: \u001b[32mString\u001b[39m = \u001b[32m\"\"\"\n",
       "#!cexversion\n",
       "3.0\n",
       "\n",
       "#!citelibrary\n",
       "name#CEX library\n",
       "urn#urn:cite2:cex:TEMPCOLL.TEMPVERSION:TEMP_ID\n",
       "license#CC 3.0 NC-BY\n",
       "\n",
       "#!ctscatalog\n",
       "urn#citationScheme#groupName#workTitle#versionLabel#exemplarLabel#online#lang\"\"\"\u001b[39m\n",
       "\u001b[36murnStr\u001b[39m: \u001b[32mString\u001b[39m = \u001b[32m\"urn:cts:greekLit:tlg0086.tlg034.fyfe_fu:\"\u001b[39m\n",
       "\u001b[36mcitationSch\u001b[39m: \u001b[32mString\u001b[39m = \u001b[32m\"section/subsection\"\u001b[39m\n",
       "\u001b[36mgroupName\u001b[39m: \u001b[32mString\u001b[39m = \u001b[32m\"Aristotle\"\u001b[39m\n",
       "\u001b[36mworkTitle\u001b[39m: \u001b[32mString\u001b[39m = \u001b[32m\"Poetics\"\u001b[39m\n",
       "\u001b[36mversionLabel\u001b[39m: \u001b[32mString\u001b[39m = \u001b[32m\"W.H. Fyfe, trans. 1932\"\u001b[39m\n",
       "\u001b[36mexemplarLabel\u001b[39m: \u001b[32mString\u001b[39m = \u001b[32m\"\"\u001b[39m\n",
       "\u001b[36monline\u001b[39m: \u001b[32mString\u001b[39m = \u001b[32m\"true\"\u001b[39m\n",
       "\u001b[36mlang\u001b[39m: \u001b[32mString\u001b[39m = \u001b[32m\"eng\"\u001b[39m\n",
       "\u001b[36mheaderLine\u001b[39m: \u001b[32mString\u001b[39m = \u001b[32m\"urn:cts:greekLit:tlg0086.tlg034.fyfe_fu:#section/subsection#Aristotle#Poetics#W.H. Fyfe, trans. 1932##true#eng\"\u001b[39m\n",
       "\u001b[36mcexHeader\u001b[39m: \u001b[32mString\u001b[39m = \u001b[32m\"\"\"\n",
       "#!cexversion\n",
       "3.0\n",
       "\n",
       "#!citelibrary\n",
       "name#CEX library\n",
       "urn#urn:cite2:cex:TEMPCOLL.TEMPVERSION:TEMP_ID\n",
       "license#CC 3.0 NC-BY\n",
       "\n",
       "#!ctscatalog\n",
       "urn#citationScheme#groupName#workTitle#versionLabel#exemplarLabel#online#lang\n",
       "urn:cts:greekLit:tlg0086.tlg034.fyfe_fu:#section/subsection#Aristotle#Poetics#W.H. Fyfe, trans. 1932##true#eng\n",
       "\n",
       "#!ctsdata\n",
       "\"\"\"\u001b[39m"
      ]
     },
     "execution_count": 123,
     "metadata": {},
     "output_type": "execute_result"
    }
   ],
   "source": [
    "val cexTop: String = \"\"\"\n",
    "#!cexversion\n",
    "3.0\n",
    "\n",
    "#!citelibrary\n",
    "name#CEX library\n",
    "urn#urn:cite2:cex:TEMPCOLL.TEMPVERSION:TEMP_ID\n",
    "license#CC 3.0 NC-BY\n",
    "\n",
    "#!ctscatalog\n",
    "urn#citationScheme#groupName#workTitle#versionLabel#exemplarLabel#online#lang\"\"\"\n",
    "\n",
    "val urnStr = \"urn:cts:greekLit:tlg0086.tlg034.fyfe_fu:\"\n",
    "val citationSch = \"section/subsection\"\n",
    "val groupName = \"Aristotle\"\n",
    "val workTitle = \"Poetics\"\n",
    "val versionLabel = \"W.H. Fyfe, trans. 1932\"\n",
    "val exemplarLabel = \"\"\n",
    "val online = \"true\"\n",
    "val lang = \"eng\"\n",
    "\n",
    "val headerLine = Vector(\n",
    "    urnStr,\n",
    "    citationSch,\n",
    "    groupName,\n",
    "    workTitle,\n",
    "    versionLabel,\n",
    "    exemplarLabel,\n",
    "    online,\n",
    "    lang\n",
    ").mkString(\"#\")\n",
    "\n",
    "val cexHeader = cexTop + \"\\n\" + headerLine + \"\\n\\n#!ctsdata\\n\""
   ]
  },
  {
   "cell_type": "markdown",
   "metadata": {},
   "source": [
    "Load it the (pre-processed) text file:"
   ]
  },
  {
   "cell_type": "code",
   "execution_count": 124,
   "metadata": {},
   "outputs": [
    {
     "data": {
      "text/plain": [
       "\u001b[36mfilePath\u001b[39m: \u001b[32mString\u001b[39m = \u001b[32m\"pre_cex_eng.txt\"\u001b[39m\n",
       "\u001b[36mlines\u001b[39m: \u001b[32mVector\u001b[39m[\u001b[32mString\u001b[39m] = \u001b[33mVector\u001b[39m(\n",
       "  \u001b[32m\"head#Poetics \"\u001b[39m,\n",
       "  \u001b[32m\"1.1# Let us here deal with Poetry, its essence and its several species, with the characteristic function of each species and the way in which plots must be constructed if the poem is to be a success; and also with the number and character of the constituent parts of a poem, and similarly with all other matters proper to this same inquiry; and let us, as nature directs, begin first with first principles.  \"\u001b[39m,\n",
       "  \u001b[32m\"1.2# Epic poetry, then, and the poetry of tragic drama, and, moreover, comedy and dithyrambic poetry, and most flute-playing and harp-playing, these, speaking generally, may all be said to be \\\"representations of life.\\\" \"\u001b[39m,\n",
       "  \u001b[32m\"1.3# But they differ one from another in three ways: either in using means generically different or in representing different objects or in representing objects not in the same way but in a different manner.  \"\u001b[39m,\n",
       "  \u001b[32m\"1.4#For just as by the use both of color and form people represent many objects, making likenesses of them\\u2014some having a knowledge of art and some working empirically\\u2014and just as others use the human voice; so is it also in the arts which we have mentioned, they all make their representations in rhythm and language and tune, using these means either separately or in combination. \"\u001b[39m,\n",
       "  \u001b[32m\"1.5# For tune and rhythm alone are employed in flute-playing and harp-playing and in any other arts which have a similar function, as, for example, pipe-playing.  \"\u001b[39m,\n",
       "  \u001b[32m\"1.6# Rhythm alone without tune is employed by dancers in their representations, for by means of rhythmical gestures they represent both character and experiences and actions.  \"\u001b[39m,\n",
       "  \u001b[32m\"1.7# But the art which employs words either in bare prose or in metres, either in one kind of metre or combining several, happens up to the present day to have no name.  \"\u001b[39m,\n",
       "  \u001b[32m\"1.8# For we can find no common term to apply to the mimes of Sophron and Xenarchus and to the Socratic dialogues:  \"\u001b[39m,\n",
       "  \u001b[32m\"1.9# nor again supposing a poet were to make his representation in iambics or elegiacs or any other such metre\\u2014except that people attach the word poet(maker)to the name of the metre and speak of elegiac poets and of others as epic poets.  \"\u001b[39m,\n",
       "  \u001b[32m\"1.10# Thus they do not call them poets in virtue of their representation but apply the name indiscriminately in virtue of the metre.  \"\u001b[39m,\n",
       "  \u001b[32m\"1.11# For if people publish medical or scientific treatises in metre the custom is to call them poets. But Homer and Empedocles have nothing in common except the metre, so that it would be proper to call the one a poet and the other not \u001b[39m..."
      ]
     },
     "execution_count": 124,
     "metadata": {},
     "output_type": "execute_result"
    }
   ],
   "source": [
    "val filePath = s\"pre_cex_eng.txt\"\n",
    "val lines: Vector[String] = {\n",
    "    scala.io.Source.fromFile(filePath).mkString.split(\"\\n\").toVector.filter( _.size > 0 )\n",
    "}"
   ]
  },
  {
   "cell_type": "markdown",
   "metadata": {},
   "source": [
    "We are looking for embedded Greek words. They will look like this: `<f>A)/GW</f>`. That is, an XML `<f>` element containing Greek in Beta-Code."
   ]
  },
  {
   "cell_type": "markdown",
   "metadata": {},
   "source": [
    "We'll start by defining a Regular Expression that will match these:"
   ]
  },
  {
   "cell_type": "code",
   "execution_count": 125,
   "metadata": {},
   "outputs": [
    {
     "data": {
      "text/plain": [
       "\u001b[36mfMatcher\u001b[39m: \u001b[32mRegex\u001b[39m = <f>([^<]+)</f>"
      ]
     },
     "execution_count": 125,
     "metadata": {},
     "output_type": "execute_result"
    }
   ],
   "source": [
    "val fMatcher = \"<f>([^<]+)</f>\".r"
   ]
  },
  {
   "cell_type": "markdown",
   "metadata": {},
   "source": [
    "We make a Function to return the contents of thos `<f>` elements, for a string:"
   ]
  },
  {
   "cell_type": "code",
   "execution_count": 126,
   "metadata": {},
   "outputs": [
    {
     "data": {
      "text/plain": [
       "defined \u001b[32mfunction\u001b[39m \u001b[36mgetGroupsInMatch\u001b[39m"
      ]
     },
     "execution_count": 126,
     "metadata": {},
     "output_type": "execute_result"
    }
   ],
   "source": [
    "def getGroupsInMatch( s: String, rx: scala.util.matching.Regex, grp: Int ): Vector[String] = {\n",
    "    val string = s\n",
    "    val pattern = rx\n",
    "    pattern.findAllIn(string).matchData.map( md => {\n",
    "        md.group(grp)\n",
    "    }).toVector\n",
    "}\n",
    "\n"
   ]
  },
  {
   "cell_type": "markdown",
   "metadata": {},
   "source": [
    "We create an overloaded function to report `true` or `false`, based on whether a string matches our regex. (There is no point doing all this to a line that has no `<f>` element!)"
   ]
  },
  {
   "cell_type": "code",
   "execution_count": 127,
   "metadata": {},
   "outputs": [
    {
     "data": {
      "text/plain": [
       "defined \u001b[32mfunction\u001b[39m \u001b[36mcontainsMatch\u001b[39m\n",
       "defined \u001b[32mfunction\u001b[39m \u001b[36mcontainsMatch\u001b[39m"
      ]
     },
     "execution_count": 127,
     "metadata": {},
     "output_type": "execute_result"
    }
   ],
   "source": [
    "def containsMatch( s: String, rx: scala.util.matching.Regex): Boolean = {\n",
    "    rx.findAllIn(s).size > 0\n",
    "}\n",
    "\n",
    "def containsMatch( s: String, rs: String): Boolean = {\n",
    "    s.contains(rs)\n",
    "}"
   ]
  },
  {
   "cell_type": "markdown",
   "metadata": {},
   "source": [
    "We make a little function to use the Greek library to convert beta-code to Unicode:"
   ]
  },
  {
   "cell_type": "code",
   "execution_count": 128,
   "metadata": {},
   "outputs": [
    {
     "data": {
      "text/plain": [
       "defined \u001b[32mfunction\u001b[39m \u001b[36mbetaToUnicode\u001b[39m"
      ]
     },
     "execution_count": 128,
     "metadata": {},
     "output_type": "execute_result"
    }
   ],
   "source": [
    "def betaToUnicode( bc: String ): String = {\n",
    "    val gs = LiteraryGreekString(bc)\n",
    "    gs.ucode\n",
    "}"
   ]
  },
  {
   "cell_type": "markdown",
   "metadata": {},
   "source": [
    "We want a Map that has the `<f>` element as they key, and the unicode text (minus the tags) as the value:"
   ]
  },
  {
   "cell_type": "code",
   "execution_count": 129,
   "metadata": {},
   "outputs": [
    {
     "data": {
      "text/plain": [
       "defined \u001b[32mfunction\u001b[39m \u001b[36mmatchesToUcodeReplacementMap\u001b[39m"
      ]
     },
     "execution_count": 129,
     "metadata": {},
     "output_type": "execute_result"
    }
   ],
   "source": [
    "def matchesToUcodeReplacementMap( v: Vector[String] ): Map[String, String] = {\n",
    "    val map: Map[String, String] = v.distinct.map( b => {\n",
    "        val beta: String = b\n",
    "        val uni: String = betaToUnicode(b.toLowerCase)\n",
    "        (s\"<f>${b}</f>\", uni)\n",
    "    }).toMap\n",
    "    map\n",
    "}"
   ]
  },
  {
   "cell_type": "markdown",
   "metadata": {},
   "source": [
    "This is the fancy, recursive way we go through a map of replacement-pairs, and replace them, while never using mutable data. \n",
    "\n",
    "> **Note** `str.replace(replVec.head._1.toCharArray, replVec.head._2.toCharArray)` is what we use here instead of `str.replaceAll(s, r)`. `.replaceAll` will treat the first parameter as a regular expression; the parenthese and other marks in Beta Code will throw errors. This is the workaround."
   ]
  },
  {
   "cell_type": "code",
   "execution_count": 130,
   "metadata": {},
   "outputs": [
    {
     "data": {
      "text/plain": [
       "defined \u001b[32mfunction\u001b[39m \u001b[36mrecursiveReplace\u001b[39m"
      ]
     },
     "execution_count": 130,
     "metadata": {},
     "output_type": "execute_result"
    }
   ],
   "source": [
    "\n",
    "def recursiveReplace( str: String, replMap: Map[String, String]): String = {\n",
    "    \n",
    "    def doIt( str: String, replVec: Vector[(String, String)]): String = {\n",
    "        if (replVec.size == 1) {\n",
    "            val newStr: String = str.replace(replVec.head._1.toCharArray, replVec.head._2.toCharArray)\n",
    "            newStr\n",
    "        } else {\n",
    "            val newStr: String = str.replace(replVec.head._1.toCharArray, replVec.head._2.toCharArray)\n",
    "            doIt( newStr, replVec.tail)\n",
    "        }\n",
    "    }\n",
    "    \n",
    "    doIt( str, replMap.toVector )\n",
    "}\n",
    "\n"
   ]
  },
  {
   "cell_type": "markdown",
   "metadata": {},
   "source": [
    "Let's test this complex setup!"
   ]
  },
  {
   "cell_type": "code",
   "execution_count": 131,
   "metadata": {},
   "outputs": [
    {
     "name": "stdout",
     "output_type": "stream",
     "text": [
      "3.6# Their name, they say, for suburb villages is κῶμαι—the Athenians call them \"Demes\"—and comedians are so called not from κωμάζειν, \"to revel,\" but because they were turned out of the towns and went strolling round the villages( κῶμαι). Their word for action, they add, is δρᾶν, whereas the Athenian word is πράττειν. So much then for the differences, their number, and their nature. \n"
     ]
    },
    {
     "data": {
      "text/plain": [
       "\u001b[36mtestStr\u001b[39m: \u001b[32mString\u001b[39m = \u001b[32m\"3.6# Their name, they say, for suburb villages is <f>KW=MAI</f>\\u2014the Athenians call them \\\"Demes\\\"\\u2014and comedians are so called not from <f>KWMA/ZEIN</f>, \\\"to revel,\\\" but because they were turned out of the towns and went strolling round the villages( <f>KW=MAI</f>). Their word for action, they add, is <f>DRA=N</f>, whereas the Athenian word is <f>PRA/TTEIN</f>. So much then for the differences, their number, and their nature. \"\u001b[39m\n",
       "\u001b[36mmatchVec\u001b[39m: \u001b[32mVector\u001b[39m[\u001b[32mString\u001b[39m] = \u001b[33mVector\u001b[39m(\n",
       "  \u001b[32m\"KW=MAI\"\u001b[39m,\n",
       "  \u001b[32m\"KWMA/ZEIN\"\u001b[39m,\n",
       "  \u001b[32m\"KW=MAI\"\u001b[39m,\n",
       "  \u001b[32m\"DRA=N\"\u001b[39m,\n",
       "  \u001b[32m\"PRA/TTEIN\"\u001b[39m\n",
       ")\n",
       "\u001b[36mreplaceMap\u001b[39m: \u001b[32mMap\u001b[39m[\u001b[32mString\u001b[39m, \u001b[32mString\u001b[39m] = \u001b[33mMap\u001b[39m(\n",
       "  \u001b[32m\"<f>KW=MAI</f>\"\u001b[39m -> \u001b[32m\"\\u03ba\\u1ff6\\u03bc\\u03b1\\u03b9\"\u001b[39m,\n",
       "  \u001b[32m\"<f>KWMA/ZEIN</f>\"\u001b[39m -> \u001b[32m\"\\u03ba\\u03c9\\u03bc\\u03ac\\u03b6\\u03b5\\u03b9\\u03bd\"\u001b[39m,\n",
       "  \u001b[32m\"<f>DRA=N</f>\"\u001b[39m -> \u001b[32m\"\\u03b4\\u03c1\\u1fb6\\u03bd\"\u001b[39m,\n",
       "  \u001b[32m\"<f>PRA/TTEIN</f>\"\u001b[39m -> \u001b[32m\"\\u03c0\\u03c1\\u03ac\\u03c4\\u03c4\\u03b5\\u03b9\\u03bd\"\u001b[39m\n",
       ")\n",
       "\u001b[36mtestRepl\u001b[39m: \u001b[32mString\u001b[39m = \u001b[32m\"3.6# Their name, they say, for suburb villages is \\u03ba\\u1ff6\\u03bc\\u03b1\\u03b9\\u2014the Athenians call them \\\"Demes\\\"\\u2014and comedians are so called not from \\u03ba\\u03c9\\u03bc\\u03ac\\u03b6\\u03b5\\u03b9\\u03bd, \\\"to revel,\\\" but because they were turned out of the towns and went strolling round the villages( \\u03ba\\u1ff6\\u03bc\\u03b1\\u03b9). Their word for action, they add, is \\u03b4\\u03c1\\u1fb6\\u03bd, whereas the Athenian word is \\u03c0\\u03c1\\u03ac\\u03c4\\u03c4\\u03b5\\u03b9\\u03bd. So much then for the differences, their number, and their nature. \"\u001b[39m"
      ]
     },
     "execution_count": 131,
     "metadata": {},
     "output_type": "execute_result"
    }
   ],
   "source": [
    "val testStr: String = \"\"\"3.6# Their name, they say, for suburb villages is <f>KW=MAI</f>—the Athenians call them \"Demes\"—and comedians are so called not from <f>KWMA/ZEIN</f>, \"to revel,\" but because they were turned out of the towns and went strolling round the villages( <f>KW=MAI</f>). Their word for action, they add, is <f>DRA=N</f>, whereas the Athenian word is <f>PRA/TTEIN</f>. So much then for the differences, their number, and their nature. \"\"\"\n",
    "\n",
    "val matchVec: Vector[String] = getGroupsInMatch(testStr, fMatcher, 1)\n",
    "val replaceMap: Map[String, String] = matchesToUcodeReplacementMap(matchVec)\n",
    "val testRepl: String = recursiveReplace( testStr, replaceMap )\n",
    "println(testRepl)"
   ]
  },
  {
   "cell_type": "markdown",
   "metadata": {},
   "source": [
    "We want to map each line of text (the Vector `lines`), looking for Greek words. When we find some, we will turn Beta-code into Unicode using the library [`edu.holycross.shot.greek`](https://neelsmith.github.io/greek/)."
   ]
  },
  {
   "cell_type": "code",
   "execution_count": 132,
   "metadata": {},
   "outputs": [
    {
     "data": {
      "text/plain": [
       "\u001b[36mgreekedLines\u001b[39m: \u001b[32mVector\u001b[39m[\u001b[32mString\u001b[39m] = \u001b[33mVector\u001b[39m(\n",
       "  \u001b[32m\"head#Poetics \"\u001b[39m,\n",
       "  \u001b[32m\"1.1# Let us here deal with Poetry, its essence and its several species, with the characteristic function of each species and the way in which plots must be constructed if the poem is to be a success; and also with the number and character of the constituent parts of a poem, and similarly with all other matters proper to this same inquiry; and let us, as nature directs, begin first with first principles.  \"\u001b[39m,\n",
       "  \u001b[32m\"1.2# Epic poetry, then, and the poetry of tragic drama, and, moreover, comedy and dithyrambic poetry, and most flute-playing and harp-playing, these, speaking generally, may all be said to be \\\"representations of life.\\\" \"\u001b[39m,\n",
       "  \u001b[32m\"1.3# But they differ one from another in three ways: either in using means generically different or in representing different objects or in representing objects not in the same way but in a different manner.  \"\u001b[39m,\n",
       "  \u001b[32m\"1.4#For just as by the use both of color and form people represent many objects, making likenesses of them\\u2014some having a knowledge of art and some working empirically\\u2014and just as others use the human voice; so is it also in the arts which we have mentioned, they all make their representations in rhythm and language and tune, using these means either separately or in combination. \"\u001b[39m,\n",
       "  \u001b[32m\"1.5# For tune and rhythm alone are employed in flute-playing and harp-playing and in any other arts which have a similar function, as, for example, pipe-playing.  \"\u001b[39m,\n",
       "  \u001b[32m\"1.6# Rhythm alone without tune is employed by dancers in their representations, for by means of rhythmical gestures they represent both character and experiences and actions.  \"\u001b[39m,\n",
       "  \u001b[32m\"1.7# But the art which employs words either in bare prose or in metres, either in one kind of metre or combining several, happens up to the present day to have no name.  \"\u001b[39m,\n",
       "  \u001b[32m\"1.8# For we can find no common term to apply to the mimes of Sophron and Xenarchus and to the Socratic dialogues:  \"\u001b[39m,\n",
       "  \u001b[32m\"1.9# nor again supposing a poet were to make his representation in iambics or elegiacs or any other such metre\\u2014except that people attach the word poet(maker)to the name of the metre and speak of elegiac poets and of others as epic poets.  \"\u001b[39m,\n",
       "  \u001b[32m\"1.10# Thus they do not call them poets in virtue of their representation but apply the name indiscriminately in virtue of the metre.  \"\u001b[39m,\n",
       "  \u001b[32m\"1.11# For if people publish medical or scientific treatises in metre the custom is to call them poets. But Homer and Empedocles have nothing in common except the metre, so that it would be proper to call the one a poet and the other not \u001b[39m..."
      ]
     },
     "execution_count": 132,
     "metadata": {},
     "output_type": "execute_result"
    }
   ],
   "source": [
    "val greekedLines: Vector[String] = {\n",
    "    lines.map( l => {\n",
    "        if ( containsMatch( l, fMatcher) ) {\n",
    "           val matchVec: Vector[String] = getGroupsInMatch(l, fMatcher, 1)\n",
    "           val replaceMap: Map[String, String] = matchesToUcodeReplacementMap(matchVec)\n",
    "           recursiveReplace( l, replaceMap )\n",
    "        } else l\n",
    "    })\n",
    "}"
   ]
  },
  {
   "cell_type": "code",
   "execution_count": 133,
   "metadata": {},
   "outputs": [
    {
     "data": {
      "text/plain": [
       "\u001b[36mres132\u001b[39m: \u001b[32mVector\u001b[39m[\u001b[32mString\u001b[39m] = \u001b[33mVector\u001b[39m()"
      ]
     },
     "execution_count": 133,
     "metadata": {},
     "output_type": "execute_result"
    }
   ],
   "source": [
    "greekedLines.filter( _.contains(\"##\"))"
   ]
  },
  {
   "cell_type": "markdown",
   "metadata": {},
   "source": [
    "## Final Assembly"
   ]
  },
  {
   "cell_type": "markdown",
   "metadata": {},
   "source": [
    "We can now map our new string vector to prepend the urn. We'll do a little space-normalization while we're at it:"
   ]
  },
  {
   "cell_type": "code",
   "execution_count": 139,
   "metadata": {},
   "outputs": [
    {
     "data": {
      "text/plain": [
       "\u001b[36mcexTextVec\u001b[39m: \u001b[32mVector\u001b[39m[\u001b[32mString\u001b[39m] = \u001b[33mVector\u001b[39m(\n",
       "  \u001b[32m\"urn:cts:greekLit:tlg0086.tlg034.fyfe_fu:head#Poetics\"\u001b[39m,\n",
       "  \u001b[32m\"urn:cts:greekLit:tlg0086.tlg034.fyfe_fu:1.1#Let us here deal with Poetry, its essence and its several species, with the characteristic function of each species and the way in which plots must be constructed if the poem is to be a success; and also with the number and character of the constituent parts of a poem, and similarly with all other matters proper to this same inquiry; and let us, as nature directs, begin first with first principles.\"\u001b[39m,\n",
       "  \u001b[32m\"urn:cts:greekLit:tlg0086.tlg034.fyfe_fu:1.2#Epic poetry, then, and the poetry of tragic drama, and, moreover, comedy and dithyrambic poetry, and most flute-playing and harp-playing, these, speaking generally, may all be said to be \\\"representations of life.\\\"\"\u001b[39m,\n",
       "  \u001b[32m\"urn:cts:greekLit:tlg0086.tlg034.fyfe_fu:1.3#But they differ one from another in three ways: either in using means generically different or in representing different objects or in representing objects not in the same way but in a different manner.\"\u001b[39m,\n",
       "  \u001b[32m\"urn:cts:greekLit:tlg0086.tlg034.fyfe_fu:1.4#For just as by the use both of color and form people represent many objects, making likenesses of them\\u2014some having a knowledge of art and some working empirically\\u2014and just as others use the human voice; so is it also in the arts which we have mentioned, they all make their representations in rhythm and language and tune, using these means either separately or in combination.\"\u001b[39m,\n",
       "  \u001b[32m\"urn:cts:greekLit:tlg0086.tlg034.fyfe_fu:1.5#For tune and rhythm alone are employed in flute-playing and harp-playing and in any other arts which have a similar function, as, for example, pipe-playing.\"\u001b[39m,\n",
       "  \u001b[32m\"urn:cts:greekLit:tlg0086.tlg034.fyfe_fu:1.6#Rhythm alone without tune is employed by dancers in their representations, for by means of rhythmical gestures they represent both character and experiences and actions.\"\u001b[39m,\n",
       "  \u001b[32m\"urn:cts:greekLit:tlg0086.tlg034.fyfe_fu:1.7#But the art which employs words either in bare prose or in metres, either in one kind of metre or combining several, happens up to the present day to have no name.\"\u001b[39m,\n",
       "  \u001b[32m\"urn:cts:greekLit:tlg0086.tlg034.fyfe_fu:1.8#For we can find no common term to apply to the mimes of Sophron and Xenarchus and to the Socratic dialogues:\"\u001b[39m,\n",
       "  \u001b[32m\"urn:cts:greekLit:tlg0086.tlg034.fyfe_fu:1.9#nor again supposing a poet were to make his representation in iambics or elegiacs or any other such metre\\u2014except that people attach the word poet(maker)to the name of the metre and speak of elegiac poets and of others as epic poets.\"\u001b[39m,\n",
       "  \u001b[32m\"urn:cts:greekLit:tlg0086.tlg034.fyfe_fu:1.10#Thus they do not call them poets in virtue of their representation but apply the name indiscriminately in virtue\u001b[39m..."
      ]
     },
     "execution_count": 139,
     "metadata": {},
     "output_type": "execute_result"
    }
   ],
   "source": [
    "val cexTextVec: Vector[String] = greekedLines.map( l => {\n",
    "    s\"${urnStr}${l.trim}\".replaceAll(\" +\",\" \")\n",
    "                         .replaceAll(\"# \",\"#\")\n",
    "                         .replaceAll(\"\"\" \" \"\"\", \"\"\" \"\"\"\")\n",
    "})"
   ]
  },
  {
   "cell_type": "markdown",
   "metadata": {},
   "source": [
    "And we make it One Big String:"
   ]
  },
  {
   "cell_type": "code",
   "execution_count": 140,
   "metadata": {},
   "outputs": [
    {
     "data": {
      "text/plain": [
       "\u001b[36mcexText\u001b[39m: \u001b[32mString\u001b[39m = \u001b[32m\"\"\"urn:cts:greekLit:tlg0086.tlg034.fyfe_fu:head#Poetics\n",
       "urn:cts:greekLit:tlg0086.tlg034.fyfe_fu:1.1#Let us here deal with Poetry, its essence and its several species, with the characteristic function of each species and the way in which plots must be constructed if the poem is to be a success; and also with the number and character of the constituent parts of a poem, and similarly with all other matters proper to this same inquiry; and let us, as nature directs, begin first with first principles.\n",
       "urn:cts:greekLit:tlg0086.tlg034.fyfe_fu:1.2#Epic poetry, then, and the poetry of tragic drama, and, moreover, comedy and dithyrambic poetry, and most flute-playing and harp-playing, these, speaking generally, may all be said to be \"representations of life.\"\n",
       "urn:cts:greekLit:tlg0086.tlg034.fyfe_fu:1.3#But they differ one from another in three ways: either in using means generically different or in representing different objects or in representing objects not in the same way but in a different manner.\n",
       "urn:cts:greekLit:tlg0086.tlg034.fyfe_fu:1.4#For just as by the use both of color and form people represent many objects, making likenesses of them—some having a knowledge of art and some working empirically—and just as others use the human voice; so is it also in the arts which we have mentioned, they all make their representations in rhythm and language and tune, using these means either separately or in combination.\n",
       "urn:cts:greekLit:tlg0086.tlg034.fyfe_fu:1.5#For tune and rhythm alone are employed in flute-playing and harp-playing and in any other arts which have a similar function, as, for example, pipe-playing.\n",
       "urn:cts:greekLit:tlg0086.tlg034.fyfe_fu:1.6#Rhythm alone without tune is employed by dancers in their representations, for by means of rhythmical gestures they represent both character and experiences and actions.\n",
       "urn:cts:greekLit:tlg0086.tlg034.fyfe_fu:1.7#But the art which employs words either in bare prose or in metres, either in one kind of metre or combining several, happens up to the present day to have no name.\n",
       "urn:cts:greekLit:tlg0086.tlg034.fyfe_fu:1.8#For we can find no common term to apply to the mimes of Sophron and Xenarchus and to the Socratic dialogues:\n",
       "urn:cts:greekLit:tlg0086.tlg034.fyfe_fu:1.9#nor again supposing a poet were to make his representation in iambics or elegiacs or any other such metre—except that people attach the word poet(maker)to the name of the metre and speak of elegiac poets and of others as epic poets.\n",
       "urn:cts:greekLit:tlg0086.tlg034.fyfe_fu:1.10#Thus they do not call them poets in virtue of their representation but apply the name indiscriminately in virtue of the metre.\n",
       "\u001b[39m...\n",
       "\u001b[36mfinalCex\u001b[39m: \u001b[32mString\u001b[39m = \u001b[32m\"\"\"\n",
       "#!cexversion\n",
       "3.0\n",
       "\n",
       "#!citelibrary\n",
       "name#CEX library\n",
       "urn#urn:cite2:cex:TEMPCOLL.TEMPVERSION:TEMP_ID\n",
       "license#CC 3.0 NC-BY\n",
       "\n",
       "#!ctscatalog\n",
       "urn#citationScheme#groupName#workTitle#versionLabel#exemplarLabel#online#lang\n",
       "urn:cts:greekLit:tlg0086.tlg034.fyfe_fu:#section/subsection#Aristotle#Poetics#W.H. Fyfe, trans. 1932##true#eng\n",
       "\n",
       "#!ctsdata\n",
       "urn:cts:greekLit:tlg0086.tlg034.fyfe_fu:head#Poetics\n",
       "urn:cts:greekLit:tlg0086.tlg034.fyfe_fu:1.1#Let us here deal with Poetry, its essence and its several species, with the characteristic function of each species and the way in which plots must be constructed if the poem is to be a success; and also with the number and character of the constituent parts of a poem, and similarly with all other matters proper to this same inquiry; and let us, as nature directs, begin first with first principles.\n",
       "urn:cts:greekLit:tlg0086.tlg034.fyfe_fu:1.2#Epic poetry, then, and the poetry of tragic drama, and, moreover, comedy and dithyrambic poetry, and most flute-playing and harp-playing, these, speaking generally, may all be said to be \"representations of life.\"\n",
       "urn:cts:greekLit:tlg0086.tlg034.fyfe_fu:1.3#But they differ one from another in three ways: either in using means generically different or in representing different objects or in representing objects not in the same way but in a different manner.\n",
       "urn:cts:greekLit:tlg0086.tlg034.fyfe_fu:1.4#For just as by the use both of color and form people represent many objects, making likenesses of them—some having a knowledge of art and some working empirically—and just as others use the human voice; so is it also in the arts which we have mentioned, they all make their representations in rhythm and language and tune, using these means either separately or in combination.\n",
       "urn:cts:greekLit:tlg0086.tlg034.fyfe_fu:1.5#For tune and rhythm alone are employed in flute-playing and harp-playing and in any other arts which have a similar function, as, for example, pipe-playing.\n",
       "\u001b[39m..."
      ]
     },
     "execution_count": 140,
     "metadata": {},
     "output_type": "execute_result"
    }
   ],
   "source": [
    "val cexText: String = cexTextVec.mkString(\"\\n\")\n",
    "val finalCex: String = cexHeader + cexText"
   ]
  },
  {
   "cell_type": "markdown",
   "metadata": {},
   "source": [
    "And we save it!"
   ]
  },
  {
   "cell_type": "code",
   "execution_count": 141,
   "metadata": {},
   "outputs": [
    {
     "data": {
      "text/plain": [
       "\u001b[36mfileName\u001b[39m: \u001b[32mString\u001b[39m = \u001b[32m\"aristot_poetics_eng.cex\"\u001b[39m"
      ]
     },
     "execution_count": 141,
     "metadata": {},
     "output_type": "execute_result"
    }
   ],
   "source": [
    "val fileName = \"aristot_poetics_eng.cex\""
   ]
  },
  {
   "cell_type": "code",
   "execution_count": 142,
   "metadata": {},
   "outputs": [],
   "source": [
    "saveString(finalCex, \"cex/\", fileName)"
   ]
  },
  {
   "cell_type": "markdown",
   "metadata": {},
   "source": [
    "## Final Validation"
   ]
  },
  {
   "cell_type": "markdown",
   "metadata": {},
   "source": [
    "We want to confirm that we can load this library!"
   ]
  },
  {
   "cell_type": "code",
   "execution_count": 143,
   "metadata": {},
   "outputs": [
    {
     "name": "stderr",
     "output_type": "stream",
     "text": [
      "Feb 12, 2020 12:23:18 AM wvlet.log.Logger log\n",
      "INFO: Building text repo from cex ...\n",
      "Feb 12, 2020 12:23:18 AM wvlet.log.Logger log\n",
      "INFO: Building collection repo from cex ...\n",
      "Feb 12, 2020 12:23:18 AM wvlet.log.Logger log\n",
      "INFO: Building relations from cex ...\n",
      "Feb 12, 2020 12:23:18 AM wvlet.log.Logger log\n",
      "INFO: All library components built.\n"
     ]
    },
    {
     "data": {
      "text/plain": [
       "\u001b[36mcexPath\u001b[39m: \u001b[32mString\u001b[39m = \u001b[32m\"cex/aristot_poetics_eng.cex\"\u001b[39m\n",
       "\u001b[36mlib\u001b[39m: \u001b[32mCiteLibrary\u001b[39m = \u001b[33mCiteLibrary\u001b[39m(\n",
       "  \u001b[32m\"CEX library\"\u001b[39m,\n",
       "  \u001b[33mCite2Urn\u001b[39m(\u001b[32m\"urn:cite2:cex:TEMPCOLL.TEMPVERSION:TEMP_ID\"\u001b[39m),\n",
       "  \u001b[32m\"CC 3.0 NC-BY\"\u001b[39m,\n",
       "  \u001b[33mVector\u001b[39m(),\n",
       "  \u001b[33mSome\u001b[39m(\n",
       "    \u001b[33mTextRepository\u001b[39m(\n",
       "      \u001b[33mCorpus\u001b[39m(\n",
       "        \u001b[33mVector\u001b[39m(\n",
       "          \u001b[33mCitableNode\u001b[39m(\n",
       "            \u001b[33mCtsUrn\u001b[39m(\u001b[32m\"urn:cts:greekLit:tlg0086.tlg034.fyfe_fu:head\"\u001b[39m),\n",
       "            \u001b[32m\"Poetics\"\u001b[39m\n",
       "          ),\n",
       "          \u001b[33mCitableNode\u001b[39m(\n",
       "            \u001b[33mCtsUrn\u001b[39m(\u001b[32m\"urn:cts:greekLit:tlg0086.tlg034.fyfe_fu:1.1\"\u001b[39m),\n",
       "            \u001b[32m\"Let us here deal with Poetry, its essence and its several species, with the characteristic function of each species and the way in which plots must be constructed if the poem is to be a success; and also with the number and character of the constituent parts of a poem, and similarly with all other matters proper to this same inquiry; and let us, as nature directs, begin first with first principles.\"\u001b[39m\n",
       "          ),\n",
       "          \u001b[33mCitableNode\u001b[39m(\n",
       "            \u001b[33mCtsUrn\u001b[39m(\u001b[32m\"urn:cts:greekLit:tlg0086.tlg034.fyfe_fu:1.2\"\u001b[39m),\n",
       "            \u001b[32m\"Epic poetry, then, and the poetry of tragic drama, and, moreover, comedy and dithyrambic poetry, and most flute-playing and harp-playing, these, speaking generally, may all be said to be \\\"representations of life.\\\"\"\u001b[39m\n",
       "          ),\n",
       "          \u001b[33mCitableNode\u001b[39m(\n",
       "            \u001b[33mCtsUrn\u001b[39m(\u001b[32m\"urn:cts:greekLit:tlg0086.tlg034.fyfe_fu:1.3\"\u001b[39m),\n",
       "            \u001b[32m\"But they differ one from another in three ways: either in using means generically different or in representing different objects or in representing objects not in the same way but in a different manner.\"\u001b[39m\n",
       "          ),\n",
       "          \u001b[33mCitableNode\u001b[39m(\n",
       "            \u001b[33mCtsUrn\u001b[39m(\u001b[32m\"urn:cts:greekLit:tlg0086.tlg034.fyfe_fu:1.4\"\u001b[39m),\n",
       "            \u001b[32m\"For just as by the use both of color and form people represent many objects, making likenesses of them\\u2014some having a knowledge of art and some working empirically\\u2014and just as others use the human voice; so is it also \u001b[39m..."
      ]
     },
     "execution_count": 143,
     "metadata": {},
     "output_type": "execute_result"
    }
   ],
   "source": [
    "val cexPath = \"cex/aristot_poetics_eng.cex\"\n",
    "val lib = CiteLibrary(scala.io.Source.fromFile(cexPath).mkString)"
   ]
  },
  {
   "cell_type": "code",
   "execution_count": null,
   "metadata": {},
   "outputs": [],
   "source": []
  }
 ],
 "metadata": {
  "kernel_info": {
   "name": "scala"
  },
  "kernelspec": {
   "display_name": "Scala",
   "language": "scala",
   "name": "scala"
  },
  "language_info": {
   "codemirror_mode": "text/x-scala",
   "file_extension": ".scala",
   "mimetype": "text/x-scala",
   "name": "scala",
   "nbconvert_exporter": "script",
   "version": "2.12.10"
  },
  "nteract": {
   "version": "0.15.0"
  }
 },
 "nbformat": 4,
 "nbformat_minor": 2
}
