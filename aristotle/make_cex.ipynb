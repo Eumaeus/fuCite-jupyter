{
 "cells": [
  {
   "cell_type": "markdown",
   "metadata": {},
   "source": [
    "# Making a CEX File from a Text File\n",
    "\n",
    "\n"
   ]
  },
  {
   "cell_type": "markdown",
   "metadata": {},
   "source": [
    "## Configuring CITE libraries for almond kernel\n",
    "\n",
    "First, we'll make a bintray repository with CITE libraries available to your almond kernel."
   ]
  },
  {
   "cell_type": "code",
   "execution_count": 2,
   "metadata": {},
   "outputs": [
    {
     "data": {
      "text/plain": [
       "\u001b[36mmyBT\u001b[39m: \u001b[32mcoursierapi\u001b[39m.\u001b[32mMavenRepository\u001b[39m = MavenRepository(https://dl.bintray.com/neelsmith/maven)"
      ]
     },
     "execution_count": 2,
     "metadata": {},
     "output_type": "execute_result"
    }
   ],
   "source": [
    "val myBT = coursierapi.MavenRepository.of(\"https://dl.bintray.com/neelsmith/maven\")\n",
    "interp.repositories() ++= Seq(myBT)"
   ]
  },
  {
   "cell_type": "markdown",
   "metadata": {},
   "source": [
    "Next, we bring in specific libraries from the new repository using almond's `$ivy` magic:"
   ]
  },
  {
   "cell_type": "code",
   "execution_count": 3,
   "metadata": {},
   "outputs": [
    {
     "data": {
      "text/plain": [
       "\u001b[32mimport \u001b[39m\u001b[36m$ivy.$                                  \n",
       "\u001b[39m\n",
       "\u001b[32mimport \u001b[39m\u001b[36m$ivy.$                                     \n",
       "\u001b[39m\n",
       "\u001b[32mimport \u001b[39m\u001b[36m$ivy.$                              \n",
       "\u001b[39m\n",
       "\u001b[32mimport \u001b[39m\u001b[36m$ivy.$                              \n",
       "\u001b[39m\n",
       "\u001b[32mimport \u001b[39m\u001b[36m$ivy.$                                          \n",
       "\u001b[39m\n",
       "\u001b[32mimport \u001b[39m\u001b[36m$ivy.$                                  \n",
       "\u001b[39m\n",
       "\u001b[32mimport \u001b[39m\u001b[36m$ivy.$                                        \n",
       "\u001b[39m\n",
       "\u001b[32mimport \u001b[39m\u001b[36m$ivy.$                              \n",
       "\u001b[39m\n",
       "\u001b[32mimport \u001b[39m\u001b[36m$ivy.$                                \n",
       "\u001b[39m"
      ]
     },
     "execution_count": 3,
     "metadata": {},
     "output_type": "execute_result"
    }
   ],
   "source": [
    "import $ivy.`edu.holycross.shot::ohco2:10.16.0`\n",
    "import $ivy.`edu.holycross.shot.cite::xcite:4.1.1`\n",
    "import $ivy.`edu.holycross.shot::scm:7.2.0`\n",
    "import $ivy.`edu.holycross.shot::dse:5.2.2`\n",
    "import $ivy.`edu.holycross.shot::citebinaryimage:3.1.1`\n",
    "import $ivy.`edu.holycross.shot::citeobj:7.3.4`\n",
    "import $ivy.`edu.holycross.shot::citerelations:2.5.2`\n",
    "import $ivy.`edu.holycross.shot::cex:6.3.3`\n",
    "import $ivy.`edu.holycross.shot::greek:2.3.3`\n"
   ]
  },
  {
   "cell_type": "markdown",
   "metadata": {},
   "source": [
    "## Imports\n",
    "\n",
    "From this point on, your notebook consists of completely generic Scala, with the CITE Libraries available to use."
   ]
  },
  {
   "cell_type": "code",
   "execution_count": 4,
   "metadata": {},
   "outputs": [
    {
     "data": {
      "text/plain": [
       "\u001b[32mimport \u001b[39m\u001b[36medu.holycross.shot.cite._\n",
       "\u001b[39m\n",
       "\u001b[32mimport \u001b[39m\u001b[36medu.holycross.shot.ohco2._\n",
       "\u001b[39m\n",
       "\u001b[32mimport \u001b[39m\u001b[36medu.holycross.shot.scm._\n",
       "\u001b[39m\n",
       "\u001b[32mimport \u001b[39m\u001b[36medu.holycross.shot.citeobj._\n",
       "\u001b[39m\n",
       "\u001b[32mimport \u001b[39m\u001b[36medu.holycross.shot.citerelation._\n",
       "\u001b[39m\n",
       "\u001b[32mimport \u001b[39m\u001b[36medu.holycross.shot.dse._\n",
       "\u001b[39m\n",
       "\u001b[32mimport \u001b[39m\u001b[36medu.holycross.shot.citebinaryimage._\n",
       "\u001b[39m\n",
       "\u001b[32mimport \u001b[39m\u001b[36medu.holycross.shot.ohco2._\n",
       "\u001b[39m\n",
       "\u001b[32mimport \u001b[39m\u001b[36medu.holycross.shot.greek._\n",
       "\n",
       "\u001b[39m\n",
       "\u001b[32mimport \u001b[39m\u001b[36malmond.display.UpdatableDisplay\n",
       "\u001b[39m\n",
       "\u001b[32mimport \u001b[39m\u001b[36malmond.interpreter.api.DisplayData.ContentType\n",
       "\u001b[39m\n",
       "\u001b[32mimport \u001b[39m\u001b[36malmond.interpreter.api.{DisplayData, OutputHandler}\n",
       "\n",
       "\u001b[39m\n",
       "\u001b[32mimport \u001b[39m\u001b[36mjava.io.File\n",
       "\u001b[39m\n",
       "\u001b[32mimport \u001b[39m\u001b[36mjava.io.PrintWriter\n",
       "\n",
       "\u001b[39m\n",
       "\u001b[32mimport \u001b[39m\u001b[36mscala.io.Source\n",
       "\u001b[39m"
      ]
     },
     "execution_count": 4,
     "metadata": {},
     "output_type": "execute_result"
    }
   ],
   "source": [
    "// Import some CITE libraries\n",
    "import edu.holycross.shot.cite._\n",
    "import edu.holycross.shot.ohco2._\n",
    "import edu.holycross.shot.scm._\n",
    "import edu.holycross.shot.citeobj._\n",
    "import edu.holycross.shot.citerelation._\n",
    "import edu.holycross.shot.dse._\n",
    "import edu.holycross.shot.citebinaryimage._\n",
    "import edu.holycross.shot.ohco2._\n",
    "import edu.holycross.shot.greek._\n",
    "\n",
    "import almond.display.UpdatableDisplay\n",
    "import almond.interpreter.api.DisplayData.ContentType\n",
    "import almond.interpreter.api.{DisplayData, OutputHandler}\n",
    "\n",
    "import java.io.File\n",
    "import java.io.PrintWriter\n",
    "\n",
    "import scala.io.Source\n"
   ]
  },
  {
   "cell_type": "markdown",
   "metadata": {},
   "source": [
    "## Useful Functions"
   ]
  },
  {
   "cell_type": "markdown",
   "metadata": {},
   "source": [
    "Save a string:"
   ]
  },
  {
   "cell_type": "code",
   "execution_count": 5,
   "metadata": {},
   "outputs": [
    {
     "data": {
      "text/plain": [
       "defined \u001b[32mfunction\u001b[39m \u001b[36msaveString\u001b[39m"
      ]
     },
     "execution_count": 5,
     "metadata": {},
     "output_type": "execute_result"
    }
   ],
   "source": [
    "def saveString(s:String, filePath:String = \"\", fileName:String = \"temp.txt\"):Unit = {\n",
    "\t\t val writer = new PrintWriter(new File(s\"${filePath}${fileName}\"))\n",
    "         writer.write(s)\n",
    "         writer.close()\n",
    "\t}"
   ]
  },
  {
   "cell_type": "markdown",
   "metadata": {},
   "source": [
    "Pretty Print many things:"
   ]
  },
  {
   "cell_type": "code",
   "execution_count": 6,
   "metadata": {},
   "outputs": [
    {
     "data": {
      "text/plain": [
       "defined \u001b[32mfunction\u001b[39m \u001b[36mshowMe\u001b[39m"
      ]
     },
     "execution_count": 6,
     "metadata": {},
     "output_type": "execute_result"
    }
   ],
   "source": [
    "def showMe(v:Any):Unit = {\n",
    "  v match {\n",
    "    case _:StringHistogram => {\n",
    "        for ( h <- v.asInstanceOf[StringHistogram].histogram ) {\n",
    "            println(s\"${h.count}\\t${h.s}\")\n",
    "        }\n",
    "    }\n",
    "  \tcase _:Corpus => {\n",
    "  \t\tfor ( n <- v.asInstanceOf[Corpus].nodes) {\n",
    "  \t\t\tprintln(s\"${n.urn.passageComponent}\\t\\t${n.text}\")\n",
    "  \t\t}\t\n",
    "  \t}\n",
    "    case _:Vector[Any] => println(s\"\"\"\\n----\\n${v.asInstanceOf[Vector[Any]].mkString(\"\\n\")}\\n----\\n\"\"\")\n",
    "    case _:Iterable[Any] => println(s\"\"\"\\n----\\n${v.asInstanceOf[Iterable[Any]].mkString(\"\\n\")}\\n----\\n\"\"\")\n",
    "    case _ => println(s\"\\n-----\\n${v}\\n----\\n\")\n",
    "  }\n",
    "}"
   ]
  },
  {
   "cell_type": "markdown",
   "metadata": {},
   "source": [
    "## Load a Template File"
   ]
  },
  {
   "cell_type": "markdown",
   "metadata": {},
   "source": [
    "Make the CEX Header"
   ]
  },
  {
   "cell_type": "code",
   "execution_count": 38,
   "metadata": {},
   "outputs": [
    {
     "name": "stdout",
     "output_type": "stream",
     "text": [
      "\n",
      "-----\n",
      "\n",
      "#!cexversion\n",
      "3.0\n",
      "\n",
      "#!citelibrary\n",
      "name#CEX library\n",
      "urn#urn:cite2:cex:TEMPCOLL.TEMPVERSION:TEMP_ID\n",
      "license#CC 3.0 NC-BY\n",
      "\n",
      "#!ctscatalog\n",
      "urn#citationScheme#groupName#workTitle#versionLabel#exemplarLabel#online#lang\n",
      "urn:cts:greekLit:tlg0086.tlg034.fyfe_fu:#section/subsection#Aristotle#Poetics#W.H. Fyfe, trans. 1932##true#eng\n",
      "urn:cts:greekLit:tlg0086.tlg034.bekker_fu:#section/subsection#Aristotle#Poetics#Bekker, 1837##true#eng\n",
      "\n",
      "#!ctsdata\n",
      "\n",
      "----\n",
      "\n"
     ]
    },
    {
     "data": {
      "text/plain": [
       "\u001b[36mcexTop\u001b[39m: \u001b[32mString\u001b[39m = \u001b[32m\"\"\"\n",
       "#!cexversion\n",
       "3.0\n",
       "\n",
       "#!citelibrary\n",
       "name#CEX library\n",
       "urn#urn:cite2:cex:TEMPCOLL.TEMPVERSION:TEMP_ID\n",
       "license#CC 3.0 NC-BY\n",
       "\n",
       "#!ctscatalog\n",
       "urn#citationScheme#groupName#workTitle#versionLabel#exemplarLabel#online#lang\"\"\"\u001b[39m\n",
       "\u001b[36murnStr\u001b[39m: \u001b[32mVector\u001b[39m[\u001b[32mString\u001b[39m] = \u001b[33mVector\u001b[39m(\n",
       "  \u001b[32m\"urn:cts:greekLit:tlg0086.tlg034.fyfe_fu:\"\u001b[39m,\n",
       "  \u001b[32m\"urn:cts:greekLit:tlg0086.tlg034.bekker_fu:\"\u001b[39m\n",
       ")\n",
       "\u001b[36mcitationSch\u001b[39m: \u001b[32mString\u001b[39m = \u001b[32m\"section/subsection\"\u001b[39m\n",
       "\u001b[36mgroupName\u001b[39m: \u001b[32mString\u001b[39m = \u001b[32m\"Aristotle\"\u001b[39m\n",
       "\u001b[36mworkTitle\u001b[39m: \u001b[32mString\u001b[39m = \u001b[32m\"Poetics\"\u001b[39m\n",
       "\u001b[36mexemplarLabel\u001b[39m: \u001b[32mString\u001b[39m = \u001b[32m\"\"\u001b[39m\n",
       "\u001b[36monline\u001b[39m: \u001b[32mString\u001b[39m = \u001b[32m\"true\"\u001b[39m\n",
       "\u001b[36mlang\u001b[39m: \u001b[32mString\u001b[39m = \u001b[32m\"eng\"\u001b[39m\n",
       "\u001b[36mversionLabels\u001b[39m: \u001b[32mVector\u001b[39m[\u001b[32mString\u001b[39m] = \u001b[33mVector\u001b[39m(\u001b[32m\"W.H. Fyfe, trans. 1932\"\u001b[39m, \u001b[32m\"Bekker, 1837\"\u001b[39m)\n",
       "\u001b[36mheaderLineVec\u001b[39m: \u001b[32mVector\u001b[39m[\u001b[32mString\u001b[39m] = \u001b[33mVector\u001b[39m(\n",
       "  \u001b[32m\"urn:cts:greekLit:tlg0086.tlg034.fyfe_fu:#section/subsection#Aristotle#Poetics#W.H. Fyfe, trans. 1932##true#eng\"\u001b[39m,\n",
       "  \u001b[32m\"urn:cts:greekLit:tlg0086.tlg034.bekker_fu:#section/subsection#Aristotle#Poetics#Bekker, 1837##true#eng\"\u001b[39m\n",
       ")\n",
       "\u001b[36mheaderLine\u001b[39m: \u001b[32mString\u001b[39m = \u001b[32m\"\"\"urn:cts:greekLit:tlg0086.tlg034.fyfe_fu:#section/subsection#Aristotle#Poetics#W.H. Fyfe, trans. 1932##true#eng\n",
       "urn:cts:greekLit:tlg0086.tlg034.bekker_fu:#section/subsection#Aristotle#Poetics#Bekker, 1837##true#eng\"\"\"\u001b[39m\n",
       "\u001b[36mcexHeader\u001b[39m: \u001b[32mString\u001b[39m = \u001b[32m\"\"\"\n",
       "#!cexversion\n",
       "3.0\n",
       "\n",
       "#!citelibrary\n",
       "name#CEX library\n",
       "urn#urn:cite2:cex:TEMPCOLL.TEMPVERSION:TEMP_ID\n",
       "license#CC 3.0 NC-BY\n",
       "\n",
       "#!ctscatalog\n",
       "urn#citationScheme#groupName#workTitle#versionLabel#exemplarLabel#online#lang\n",
       "urn:cts:greekLit:tlg0086.tlg034.fyfe_fu:#section/subsection#Aristotle#Poetics#W.H. Fyfe, trans. 1932##true#eng\n",
       "urn:cts:greekLit:tlg0086.tlg034.bekker_fu:#section/subsection#Aristotle#Poetics#Bekker, 1837##true#eng\n",
       "\n",
       "#!ctsdata\n",
       "\"\"\"\u001b[39m"
      ]
     },
     "execution_count": 38,
     "metadata": {},
     "output_type": "execute_result"
    }
   ],
   "source": [
    "val cexTop: String = \"\"\"\n",
    "#!cexversion\n",
    "3.0\n",
    "\n",
    "#!citelibrary\n",
    "name#CEX library\n",
    "urn#urn:cite2:cex:TEMPCOLL.TEMPVERSION:TEMP_ID\n",
    "license#CC 3.0 NC-BY\n",
    "\n",
    "#!ctscatalog\n",
    "urn#citationScheme#groupName#workTitle#versionLabel#exemplarLabel#online#lang\"\"\"\n",
    "\n",
    "val urnStr: Vector[String] = Vector(\"urn:cts:greekLit:tlg0086.tlg034.fyfe_fu:\", \"urn:cts:greekLit:tlg0086.tlg034.bekker_fu:\")\n",
    "val citationSch = \"section/subsection\"\n",
    "val groupName = \"Aristotle\"\n",
    "val workTitle = \"Poetics\"\n",
    "val exemplarLabel = \"\"\n",
    "val online = \"true\"\n",
    "val lang = Vector(\"eng\",\"grc\")\n",
    "\n",
    "val versionLabels: Vector[String] = Vector(\"W.H. Fyfe, trans. 1932\", \"Bekker, 1837\")\n",
    "\n",
    "val headerLineVec: Vector[String] = versionLabels.zipWithIndex.map( versionLabel => {\n",
    "    Vector(\n",
    "        urnStr(versionLabel._2),\n",
    "        citationSch,\n",
    "        groupName,\n",
    "        workTitle,\n",
    "        versionLabel._1,\n",
    "        exemplarLabel,\n",
    "        online,\n",
    "        lang(versionLabel._2)\n",
    "    ).mkString(\"#\")\n",
    "})\n",
    "\n",
    "val headerLine: String = headerLineVec.mkString(\"\\n\")\n",
    "\n",
    "val cexHeader = cexTop + \"\\n\" + headerLine + \"\\n\\n#!ctsdata\\n\"\n",
    "\n",
    "showMe(cexHeader)\n"
   ]
  },
  {
   "cell_type": "markdown",
   "metadata": {},
   "source": [
    "Load it the (pre-processed) text file:"
   ]
  },
  {
   "cell_type": "code",
   "execution_count": 39,
   "metadata": {
    "scrolled": true
   },
   "outputs": [
    {
     "data": {
      "text/plain": [
       "\u001b[36mfilePath\u001b[39m: \u001b[32mVector\u001b[39m[\u001b[32mString\u001b[39m] = \u001b[33mVector\u001b[39m(\u001b[32m\"pre_cex_eng.txt\"\u001b[39m, \u001b[32m\"pre_cex_grc.txt\"\u001b[39m)\n",
       "\u001b[36mlines\u001b[39m: \u001b[32mVector\u001b[39m[\u001b[32mString\u001b[39m] = \u001b[33mVector\u001b[39m(\n",
       "  \u001b[32m\"urn:cts:greekLit:tlg0086.tlg034.fyfe_fu:head#Poetics\"\u001b[39m,\n",
       "  \u001b[32m\"urn:cts:greekLit:tlg0086.tlg034.fyfe_fu:1.1# Let us here deal with Poetry, its essence and its several species, with the characteristic function of each species and the way in which plots must be constructed if the poem is to be a success; and also with the number and character of the constituent parts of a poem, and similarly with all other matters proper to this same inquiry; and let us, as nature directs, begin first with first principles.\"\u001b[39m,\n",
       "  \u001b[32m\"urn:cts:greekLit:tlg0086.tlg034.fyfe_fu:1.2# Epic poetry, then, and the poetry of tragic drama, and, moreover, comedy and dithyrambic poetry, and most flute-playing and harp-playing, these, speaking generally, may all be said to be \\\"representations of life.\\\"\"\u001b[39m,\n",
       "  \u001b[32m\"urn:cts:greekLit:tlg0086.tlg034.fyfe_fu:1.3# But they differ one from another in three ways: either in using means generically different or in representing different objects or in representing objects not in the same way but in a different manner.\"\u001b[39m,\n",
       "  \u001b[32m\"urn:cts:greekLit:tlg0086.tlg034.fyfe_fu:1.4#For just as by the use both of color and form people represent many objects, making likenesses of them\\u2014some having a knowledge of art and some working empirically\\u2014and just as others use the human voice; so is it also in the arts which we have mentioned, they all make their representations in rhythm and language and tune, using these means either separately or in combination.\"\u001b[39m,\n",
       "  \u001b[32m\"urn:cts:greekLit:tlg0086.tlg034.fyfe_fu:1.5# For tune and rhythm alone are employed in flute-playing and harp-playing and in any other arts which have a similar function, as, for example, pipe-playing.\"\u001b[39m,\n",
       "  \u001b[32m\"urn:cts:greekLit:tlg0086.tlg034.fyfe_fu:1.6# Rhythm alone without tune is employed by dancers in their representations, for by means of rhythmical gestures they represent both character and experiences and actions.\"\u001b[39m,\n",
       "  \u001b[32m\"urn:cts:greekLit:tlg0086.tlg034.fyfe_fu:1.7# But the art which employs words either in bare prose or in metres, either in one kind of metre or combining several, happens up to the present day to have no name.\"\u001b[39m,\n",
       "  \u001b[32m\"urn:cts:greekLit:tlg0086.tlg034.fyfe_fu:1.8# For we can find no common term to apply to the mimes of Sophron and Xenarchus and to the Socratic dialogues:\"\u001b[39m,\n",
       "  \u001b[32m\"urn:cts:greekLit:tlg0086.tlg034.fyfe_fu:1.9# nor again supposing a poet were to make his representation in iambics or elegiacs or any other such metre\\u2014except that people attach the word poet(maker)to the name of the metre and speak of elegiac poets and of others as epic poets.\"\u001b[39m,\n",
       "  \u001b[32m\"urn:cts:greekLit:tlg0086.tlg034.fyfe_fu:1.10# Thus they do not call them poets in virtue of their representation but apply the name indiscriminately in virtu\u001b[39m..."
      ]
     },
     "execution_count": 39,
     "metadata": {},
     "output_type": "execute_result"
    }
   ],
   "source": [
    "val filePath = Vector(\"pre_cex_eng.txt\", \"pre_cex_grc.txt\")\n",
    "val lines: Vector[String] = {\n",
    "    filePath.map( fp => {\n",
    "        val lines = scala.io.Source.fromFile(fp).mkString.split(\"\\n\").toVector.filter( _.size > 0 )\n",
    "        lines\n",
    "    }).flatten\n",
    "}"
   ]
  },
  {
   "cell_type": "markdown",
   "metadata": {},
   "source": [
    "## Final Assembly"
   ]
  },
  {
   "cell_type": "markdown",
   "metadata": {},
   "source": [
    "We can now map our new string vector to prepend the urn. We'll do a little space-normalization while we're at it:"
   ]
  },
  {
   "cell_type": "code",
   "execution_count": 40,
   "metadata": {},
   "outputs": [
    {
     "data": {
      "text/plain": [
       "\u001b[36mcexTextVec\u001b[39m: \u001b[32mVector\u001b[39m[\u001b[32mString\u001b[39m] = \u001b[33mVector\u001b[39m(\n",
       "  \u001b[32m\"urn:cts:greekLit:tlg0086.tlg034.fyfe_fu:head#Poetics\"\u001b[39m,\n",
       "  \u001b[32m\"urn:cts:greekLit:tlg0086.tlg034.fyfe_fu:1.1# Let us here deal with Poetry, its essence and its several species, with the characteristic function of each species and the way in which plots must be constructed if the poem is to be a success; and also with the number and character of the constituent parts of a poem, and similarly with all other matters proper to this same inquiry; and let us, as nature directs, begin first with first principles.\"\u001b[39m,\n",
       "  \u001b[32m\"urn:cts:greekLit:tlg0086.tlg034.fyfe_fu:1.2# Epic poetry, then, and the poetry of tragic drama, and, moreover, comedy and dithyrambic poetry, and most flute-playing and harp-playing, these, speaking generally, may all be said to be \\\"representations of life.\\\"\"\u001b[39m,\n",
       "  \u001b[32m\"urn:cts:greekLit:tlg0086.tlg034.fyfe_fu:1.3# But they differ one from another in three ways: either in using means generically different or in representing different objects or in representing objects not in the same way but in a different manner.\"\u001b[39m,\n",
       "  \u001b[32m\"urn:cts:greekLit:tlg0086.tlg034.fyfe_fu:1.4#For just as by the use both of color and form people represent many objects, making likenesses of them\\u2014some having a knowledge of art and some working empirically\\u2014and just as others use the human voice; so is it also in the arts which we have mentioned, they all make their representations in rhythm and language and tune, using these means either separately or in combination.\"\u001b[39m,\n",
       "  \u001b[32m\"urn:cts:greekLit:tlg0086.tlg034.fyfe_fu:1.5# For tune and rhythm alone are employed in flute-playing and harp-playing and in any other arts which have a similar function, as, for example, pipe-playing.\"\u001b[39m,\n",
       "  \u001b[32m\"urn:cts:greekLit:tlg0086.tlg034.fyfe_fu:1.6# Rhythm alone without tune is employed by dancers in their representations, for by means of rhythmical gestures they represent both character and experiences and actions.\"\u001b[39m,\n",
       "  \u001b[32m\"urn:cts:greekLit:tlg0086.tlg034.fyfe_fu:1.7# But the art which employs words either in bare prose or in metres, either in one kind of metre or combining several, happens up to the present day to have no name.\"\u001b[39m,\n",
       "  \u001b[32m\"urn:cts:greekLit:tlg0086.tlg034.fyfe_fu:1.8# For we can find no common term to apply to the mimes of Sophron and Xenarchus and to the Socratic dialogues:\"\u001b[39m,\n",
       "  \u001b[32m\"urn:cts:greekLit:tlg0086.tlg034.fyfe_fu:1.9# nor again supposing a poet were to make his representation in iambics or elegiacs or any other such metre\\u2014except that people attach the word poet(maker)to the name of the metre and speak of elegiac poets and of others as epic poets.\"\u001b[39m,\n",
       "  \u001b[32m\"urn:cts:greekLit:tlg0086.tlg034.fyfe_fu:1.10# Thus they do not call them poets in virtue of their representation but apply the name indiscriminately in virtu\u001b[39m..."
      ]
     },
     "execution_count": 40,
     "metadata": {},
     "output_type": "execute_result"
    }
   ],
   "source": [
    "val cexTextVec: Vector[String] = lines"
   ]
  },
  {
   "cell_type": "markdown",
   "metadata": {},
   "source": [
    "And we make it One Big String:"
   ]
  },
  {
   "cell_type": "code",
   "execution_count": 41,
   "metadata": {},
   "outputs": [
    {
     "data": {
      "text/plain": [
       "\u001b[36mcexText\u001b[39m: \u001b[32mString\u001b[39m = \u001b[32m\"\"\"urn:cts:greekLit:tlg0086.tlg034.fyfe_fu:head#Poetics\n",
       "urn:cts:greekLit:tlg0086.tlg034.fyfe_fu:1.1# Let us here deal with Poetry, its essence and its several species, with the characteristic function of each species and the way in which plots must be constructed if the poem is to be a success; and also with the number and character of the constituent parts of a poem, and similarly with all other matters proper to this same inquiry; and let us, as nature directs, begin first with first principles.\n",
       "urn:cts:greekLit:tlg0086.tlg034.fyfe_fu:1.2# Epic poetry, then, and the poetry of tragic drama, and, moreover, comedy and dithyrambic poetry, and most flute-playing and harp-playing, these, speaking generally, may all be said to be \"representations of life.\"\n",
       "urn:cts:greekLit:tlg0086.tlg034.fyfe_fu:1.3# But they differ one from another in three ways: either in using means generically different or in representing different objects or in representing objects not in the same way but in a different manner.\n",
       "urn:cts:greekLit:tlg0086.tlg034.fyfe_fu:1.4#For just as by the use both of color and form people represent many objects, making likenesses of them—some having a knowledge of art and some working empirically—and just as others use the human voice; so is it also in the arts which we have mentioned, they all make their representations in rhythm and language and tune, using these means either separately or in combination.\n",
       "urn:cts:greekLit:tlg0086.tlg034.fyfe_fu:1.5# For tune and rhythm alone are employed in flute-playing and harp-playing and in any other arts which have a similar function, as, for example, pipe-playing.\n",
       "urn:cts:greekLit:tlg0086.tlg034.fyfe_fu:1.6# Rhythm alone without tune is employed by dancers in their representations, for by means of rhythmical gestures they represent both character and experiences and actions.\n",
       "urn:cts:greekLit:tlg0086.tlg034.fyfe_fu:1.7# But the art which employs words either in bare prose or in metres, either in one kind of metre or combining several, happens up to the present day to have no name.\n",
       "urn:cts:greekLit:tlg0086.tlg034.fyfe_fu:1.8# For we can find no common term to apply to the mimes of Sophron and Xenarchus and to the Socratic dialogues:\n",
       "urn:cts:greekLit:tlg0086.tlg034.fyfe_fu:1.9# nor again supposing a poet were to make his representation in iambics or elegiacs or any other such metre—except that people attach the word poet(maker)to the name of the metre and speak of elegiac poets and of others as epic poets.\n",
       "urn:cts:greekLit:tlg0086.tlg034.fyfe_fu:1.10# Thus they do not call them poets in virtue of their representation but apply the name indiscriminately in virtue of the metre.\n",
       "\u001b[39m...\n",
       "\u001b[36mfinalCex\u001b[39m: \u001b[32mString\u001b[39m = \u001b[32m\"\"\"\n",
       "#!cexversion\n",
       "3.0\n",
       "\n",
       "#!citelibrary\n",
       "name#CEX library\n",
       "urn#urn:cite2:cex:TEMPCOLL.TEMPVERSION:TEMP_ID\n",
       "license#CC 3.0 NC-BY\n",
       "\n",
       "#!ctscatalog\n",
       "urn#citationScheme#groupName#workTitle#versionLabel#exemplarLabel#online#lang\n",
       "urn:cts:greekLit:tlg0086.tlg034.fyfe_fu:#section/subsection#Aristotle#Poetics#W.H. Fyfe, trans. 1932##true#eng\n",
       "urn:cts:greekLit:tlg0086.tlg034.bekker_fu:#section/subsection#Aristotle#Poetics#Bekker, 1837##true#eng\n",
       "\n",
       "#!ctsdata\n",
       "urn:cts:greekLit:tlg0086.tlg034.fyfe_fu:head#Poetics\n",
       "urn:cts:greekLit:tlg0086.tlg034.fyfe_fu:1.1# Let us here deal with Poetry, its essence and its several species, with the characteristic function of each species and the way in which plots must be constructed if the poem is to be a success; and also with the number and character of the constituent parts of a poem, and similarly with all other matters proper to this same inquiry; and let us, as nature directs, begin first with first principles.\n",
       "urn:cts:greekLit:tlg0086.tlg034.fyfe_fu:1.2# Epic poetry, then, and the poetry of tragic drama, and, moreover, comedy and dithyrambic poetry, and most flute-playing and harp-playing, these, speaking generally, may all be said to be \"representations of life.\"\n",
       "urn:cts:greekLit:tlg0086.tlg034.fyfe_fu:1.3# But they differ one from another in three ways: either in using means generically different or in representing different objects or in representing objects not in the same way but in a different manner.\n",
       "urn:cts:greekLit:tlg0086.tlg034.fyfe_fu:1.4#For just as by the use both of color and form people represent many objects, making likenesses of them—some having a knowledge of art and some working empirically—and just as others use the human voice; so is it also in the arts which we have mentioned, they all make their representations in rhythm and language and tune, using these means either separately or in combination.\n",
       "urn:cts:greekLit:tlg0086.tlg034.fyfe_fu:1.5# For tune and rhythm alone are emplo\u001b[39m..."
      ]
     },
     "execution_count": 41,
     "metadata": {},
     "output_type": "execute_result"
    }
   ],
   "source": [
    "val cexText: String = cexTextVec.mkString(\"\\n\")\n",
    "val finalCex: String = cexHeader + cexText"
   ]
  },
  {
   "cell_type": "markdown",
   "metadata": {},
   "source": [
    "And we save it!"
   ]
  },
  {
   "cell_type": "code",
   "execution_count": 42,
   "metadata": {},
   "outputs": [
    {
     "data": {
      "text/plain": [
       "\u001b[36mfileName\u001b[39m: \u001b[32mString\u001b[39m = \u001b[32m\"aristot_poetics.cex\"\u001b[39m"
      ]
     },
     "execution_count": 42,
     "metadata": {},
     "output_type": "execute_result"
    }
   ],
   "source": [
    "val fileName = \"aristot_poetics.cex\""
   ]
  },
  {
   "cell_type": "code",
   "execution_count": 43,
   "metadata": {},
   "outputs": [],
   "source": [
    "saveString(finalCex, \"cex/\", fileName)"
   ]
  },
  {
   "cell_type": "markdown",
   "metadata": {},
   "source": [
    "## Final Validation"
   ]
  },
  {
   "cell_type": "markdown",
   "metadata": {},
   "source": [
    "We want to confirm that we can load this library!"
   ]
  },
  {
   "cell_type": "code",
   "execution_count": 44,
   "metadata": {},
   "outputs": [
    {
     "name": "stderr",
     "output_type": "stream",
     "text": [
      "Feb 15, 2020 9:42:37 AM wvlet.log.Logger log\n",
      "INFO: Building text repo from cex ...\n",
      "Feb 15, 2020 9:42:37 AM wvlet.log.Logger log\n",
      "INFO: Building collection repo from cex ...\n",
      "Feb 15, 2020 9:42:37 AM wvlet.log.Logger log\n",
      "INFO: Building relations from cex ...\n",
      "Feb 15, 2020 9:42:37 AM wvlet.log.Logger log\n",
      "INFO: All library components built.\n"
     ]
    },
    {
     "data": {
      "text/plain": [
       "\u001b[36mcexPath\u001b[39m: \u001b[32mString\u001b[39m = \u001b[32m\"cex/aristot_poetics.cex\"\u001b[39m\n",
       "\u001b[36mlib\u001b[39m: \u001b[32mCiteLibrary\u001b[39m = \u001b[33mCiteLibrary\u001b[39m(\n",
       "  \u001b[32m\"CEX library\"\u001b[39m,\n",
       "  \u001b[33mCite2Urn\u001b[39m(\u001b[32m\"urn:cite2:cex:TEMPCOLL.TEMPVERSION:TEMP_ID\"\u001b[39m),\n",
       "  \u001b[32m\"CC 3.0 NC-BY\"\u001b[39m,\n",
       "  \u001b[33mVector\u001b[39m(),\n",
       "  \u001b[33mSome\u001b[39m(\n",
       "    \u001b[33mTextRepository\u001b[39m(\n",
       "      \u001b[33mCorpus\u001b[39m(\n",
       "        \u001b[33mVector\u001b[39m(\n",
       "          \u001b[33mCitableNode\u001b[39m(\n",
       "            \u001b[33mCtsUrn\u001b[39m(\u001b[32m\"urn:cts:greekLit:tlg0086.tlg034.fyfe_fu:head\"\u001b[39m),\n",
       "            \u001b[32m\"Poetics\"\u001b[39m\n",
       "          ),\n",
       "          \u001b[33mCitableNode\u001b[39m(\n",
       "            \u001b[33mCtsUrn\u001b[39m(\u001b[32m\"urn:cts:greekLit:tlg0086.tlg034.fyfe_fu:1.1\"\u001b[39m),\n",
       "            \u001b[32m\" Let us here deal with Poetry, its essence and its several species, with the characteristic function of each species and the way in which plots must be constructed if the poem is to be a success; and also with the number and character of the constituent parts of a poem, and similarly with all other matters proper to this same inquiry; and let us, as nature directs, begin first with first principles.\"\u001b[39m\n",
       "          ),\n",
       "          \u001b[33mCitableNode\u001b[39m(\n",
       "            \u001b[33mCtsUrn\u001b[39m(\u001b[32m\"urn:cts:greekLit:tlg0086.tlg034.fyfe_fu:1.2\"\u001b[39m),\n",
       "            \u001b[32m\" Epic poetry, then, and the poetry of tragic drama, and, moreover, comedy and dithyrambic poetry, and most flute-playing and harp-playing, these, speaking generally, may all be said to be \\\"representations of life.\\\"\"\u001b[39m\n",
       "          ),\n",
       "          \u001b[33mCitableNode\u001b[39m(\n",
       "            \u001b[33mCtsUrn\u001b[39m(\u001b[32m\"urn:cts:greekLit:tlg0086.tlg034.fyfe_fu:1.3\"\u001b[39m),\n",
       "            \u001b[32m\" But they differ one from another in three ways: either in using means generically different or in representing different objects or in representing objects not in the same way but in a different manner.\"\u001b[39m\n",
       "          ),\n",
       "          \u001b[33mCitableNode\u001b[39m(\n",
       "            \u001b[33mCtsUrn\u001b[39m(\u001b[32m\"urn:cts:greekLit:tlg0086.tlg034.fyfe_fu:1.4\"\u001b[39m),\n",
       "            \u001b[32m\"For just as by the use both of color and form people represent many objects, making likenesses of them\\u2014some having a knowledge of art and some working empirically\\u2014and just as others use the human voice; so is it also \u001b[39m..."
      ]
     },
     "execution_count": 44,
     "metadata": {},
     "output_type": "execute_result"
    }
   ],
   "source": [
    "val cexPath = \"cex/aristot_poetics.cex\"\n",
    "val lib = CiteLibrary(scala.io.Source.fromFile(cexPath).mkString)"
   ]
  },
  {
   "cell_type": "code",
   "execution_count": null,
   "metadata": {},
   "outputs": [],
   "source": []
  },
  {
   "cell_type": "code",
   "execution_count": null,
   "metadata": {},
   "outputs": [],
   "source": []
  }
 ],
 "metadata": {
  "kernel_info": {
   "name": "scala"
  },
  "kernelspec": {
   "display_name": "Scala",
   "language": "scala",
   "name": "scala"
  },
  "language_info": {
   "codemirror_mode": "text/x-scala",
   "file_extension": ".scala",
   "mimetype": "text/x-scala",
   "name": "scala",
   "nbconvert_exporter": "script",
   "version": "2.12.10"
  },
  "nteract": {
   "version": "0.15.0"
  }
 },
 "nbformat": 4,
 "nbformat_minor": 2
}
