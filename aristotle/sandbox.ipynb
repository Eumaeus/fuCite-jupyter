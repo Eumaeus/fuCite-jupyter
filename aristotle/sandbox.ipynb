{
 "cells": [
  {
   "cell_type": "markdown",
   "metadata": {},
   "source": [
    "# Making a CEX File from a Text File\n",
    "\n",
    "\n"
   ]
  },
  {
   "cell_type": "markdown",
   "metadata": {},
   "source": [
    "## Configuring CITE libraries for almond kernel\n",
    "\n",
    "First, we'll make a bintray repository with CITE libraries available to your almond kernel."
   ]
  },
  {
   "cell_type": "code",
   "execution_count": 1,
   "metadata": {},
   "outputs": [
    {
     "data": {
      "text/plain": [
       "\u001b[36mmyBT\u001b[39m: \u001b[32mcoursierapi\u001b[39m.\u001b[32mMavenRepository\u001b[39m = MavenRepository(https://dl.bintray.com/neelsmith/maven)"
      ]
     },
     "execution_count": 1,
     "metadata": {},
     "output_type": "execute_result"
    }
   ],
   "source": [
    "val myBT = coursierapi.MavenRepository.of(\"https://dl.bintray.com/neelsmith/maven\")\n",
    "interp.repositories() ++= Seq(myBT)"
   ]
  },
  {
   "cell_type": "markdown",
   "metadata": {},
   "source": [
    "Next, we bring in specific libraries from the new repository using almond's `$ivy` magic:"
   ]
  },
  {
   "cell_type": "code",
   "execution_count": 2,
   "metadata": {},
   "outputs": [
    {
     "data": {
      "text/plain": [
       "\u001b[32mimport \u001b[39m\u001b[36m$ivy.$                                  \n",
       "\u001b[39m\n",
       "\u001b[32mimport \u001b[39m\u001b[36m$ivy.$                                     \n",
       "\u001b[39m\n",
       "\u001b[32mimport \u001b[39m\u001b[36m$ivy.$                              \n",
       "\u001b[39m\n",
       "\u001b[32mimport \u001b[39m\u001b[36m$ivy.$                              \n",
       "\u001b[39m\n",
       "\u001b[32mimport \u001b[39m\u001b[36m$ivy.$                                          \n",
       "\u001b[39m\n",
       "\u001b[32mimport \u001b[39m\u001b[36m$ivy.$                                  \n",
       "\u001b[39m\n",
       "\u001b[32mimport \u001b[39m\u001b[36m$ivy.$                                        \n",
       "\u001b[39m\n",
       "\u001b[32mimport \u001b[39m\u001b[36m$ivy.$                              \n",
       "\u001b[39m\n",
       "\u001b[32mimport \u001b[39m\u001b[36m$ivy.$                                \n",
       "\u001b[39m"
      ]
     },
     "execution_count": 2,
     "metadata": {},
     "output_type": "execute_result"
    }
   ],
   "source": [
    "import $ivy.`edu.holycross.shot::ohco2:10.16.0`\n",
    "import $ivy.`edu.holycross.shot.cite::xcite:4.1.1`\n",
    "import $ivy.`edu.holycross.shot::scm:7.2.0`\n",
    "import $ivy.`edu.holycross.shot::dse:5.2.2`\n",
    "import $ivy.`edu.holycross.shot::citebinaryimage:3.1.1`\n",
    "import $ivy.`edu.holycross.shot::citeobj:7.3.4`\n",
    "import $ivy.`edu.holycross.shot::citerelations:2.5.2`\n",
    "import $ivy.`edu.holycross.shot::cex:6.3.3`\n",
    "import $ivy.`edu.holycross.shot::greek:2.3.3`\n"
   ]
  },
  {
   "cell_type": "markdown",
   "metadata": {},
   "source": [
    "## Imports\n",
    "\n",
    "From this point on, your notebook consists of completely generic Scala, with the CITE Libraries available to use."
   ]
  },
  {
   "cell_type": "code",
   "execution_count": 3,
   "metadata": {},
   "outputs": [
    {
     "data": {
      "text/plain": [
       "\u001b[32mimport \u001b[39m\u001b[36medu.holycross.shot.cite._\n",
       "\u001b[39m\n",
       "\u001b[32mimport \u001b[39m\u001b[36medu.holycross.shot.ohco2._\n",
       "\u001b[39m\n",
       "\u001b[32mimport \u001b[39m\u001b[36medu.holycross.shot.scm._\n",
       "\u001b[39m\n",
       "\u001b[32mimport \u001b[39m\u001b[36medu.holycross.shot.citeobj._\n",
       "\u001b[39m\n",
       "\u001b[32mimport \u001b[39m\u001b[36medu.holycross.shot.citerelation._\n",
       "\u001b[39m\n",
       "\u001b[32mimport \u001b[39m\u001b[36medu.holycross.shot.dse._\n",
       "\u001b[39m\n",
       "\u001b[32mimport \u001b[39m\u001b[36medu.holycross.shot.citebinaryimage._\n",
       "\u001b[39m\n",
       "\u001b[32mimport \u001b[39m\u001b[36medu.holycross.shot.ohco2._\n",
       "\u001b[39m\n",
       "\u001b[32mimport \u001b[39m\u001b[36medu.holycross.shot.greek._\n",
       "\n",
       "\u001b[39m\n",
       "\u001b[32mimport \u001b[39m\u001b[36malmond.display.UpdatableDisplay\n",
       "\u001b[39m\n",
       "\u001b[32mimport \u001b[39m\u001b[36malmond.interpreter.api.DisplayData.ContentType\n",
       "\u001b[39m\n",
       "\u001b[32mimport \u001b[39m\u001b[36malmond.interpreter.api.{DisplayData, OutputHandler}\n",
       "\n",
       "\u001b[39m\n",
       "\u001b[32mimport \u001b[39m\u001b[36mjava.io.File\n",
       "\u001b[39m\n",
       "\u001b[32mimport \u001b[39m\u001b[36mjava.io.PrintWriter\n",
       "\n",
       "\u001b[39m\n",
       "\u001b[32mimport \u001b[39m\u001b[36mscala.io.Source\n",
       "\u001b[39m"
      ]
     },
     "execution_count": 3,
     "metadata": {},
     "output_type": "execute_result"
    }
   ],
   "source": [
    "// Import some CITE libraries\n",
    "import edu.holycross.shot.cite._\n",
    "import edu.holycross.shot.ohco2._\n",
    "import edu.holycross.shot.scm._\n",
    "import edu.holycross.shot.citeobj._\n",
    "import edu.holycross.shot.citerelation._\n",
    "import edu.holycross.shot.dse._\n",
    "import edu.holycross.shot.citebinaryimage._\n",
    "import edu.holycross.shot.ohco2._\n",
    "import edu.holycross.shot.greek._\n",
    "\n",
    "import almond.display.UpdatableDisplay\n",
    "import almond.interpreter.api.DisplayData.ContentType\n",
    "import almond.interpreter.api.{DisplayData, OutputHandler}\n",
    "\n",
    "import java.io.File\n",
    "import java.io.PrintWriter\n",
    "\n",
    "import scala.io.Source\n"
   ]
  },
  {
   "cell_type": "markdown",
   "metadata": {},
   "source": [
    "## Useful Functions"
   ]
  },
  {
   "cell_type": "markdown",
   "metadata": {},
   "source": [
    "Save a string:"
   ]
  },
  {
   "cell_type": "code",
   "execution_count": 4,
   "metadata": {},
   "outputs": [
    {
     "data": {
      "text/plain": [
       "defined \u001b[32mfunction\u001b[39m \u001b[36msaveString\u001b[39m"
      ]
     },
     "execution_count": 4,
     "metadata": {},
     "output_type": "execute_result"
    }
   ],
   "source": [
    "def saveString(s:String, filePath:String = \"\", fileName:String = \"temp.txt\"):Unit = {\n",
    "\t\t val writer = new PrintWriter(new File(s\"${filePath}${fileName}\"))\n",
    "         writer.write(s)\n",
    "         writer.close()\n",
    "\t}"
   ]
  },
  {
   "cell_type": "markdown",
   "metadata": {},
   "source": [
    "Pretty Print many things:"
   ]
  },
  {
   "cell_type": "code",
   "execution_count": 5,
   "metadata": {},
   "outputs": [
    {
     "data": {
      "text/plain": [
       "defined \u001b[32mfunction\u001b[39m \u001b[36mshowMe\u001b[39m"
      ]
     },
     "execution_count": 5,
     "metadata": {},
     "output_type": "execute_result"
    }
   ],
   "source": [
    "def showMe(v:Any):Unit = {\n",
    "  v match {\n",
    "    case _:StringHistogram => {\n",
    "        for ( h <- v.asInstanceOf[StringHistogram].histogram ) {\n",
    "            println(s\"${h.count}\\t${h.s}\")\n",
    "        }\n",
    "    }\n",
    "  \tcase _:Corpus => {\n",
    "  \t\tfor ( n <- v.asInstanceOf[Corpus].nodes) {\n",
    "  \t\t\tprintln(s\"${n.urn.passageComponent}\\t\\t${n.text}\")\n",
    "  \t\t}\t\n",
    "  \t}\n",
    "    case _:Vector[Any] => println(s\"\"\"\\n----\\n${v.asInstanceOf[Vector[Any]].mkString(\"\\n\")}\\n----\\n\"\"\")\n",
    "    case _:Iterable[Any] => println(s\"\"\"\\n----\\n${v.asInstanceOf[Iterable[Any]].mkString(\"\\n\")}\\n----\\n\"\"\")\n",
    "    case _ => println(s\"\\n-----\\n${v}\\n----\\n\")\n",
    "  }\n",
    "}"
   ]
  },
  {
   "cell_type": "markdown",
   "metadata": {},
   "source": [
    "## Load Library"
   ]
  },
  {
   "cell_type": "markdown",
   "metadata": {},
   "source": [
    "We will load a Version-level, bilingual file, to start:"
   ]
  },
  {
   "cell_type": "code",
   "execution_count": 6,
   "metadata": {},
   "outputs": [
    {
     "name": "stderr",
     "output_type": "stream",
     "text": [
      "Feb 20, 2020 11:52:38 PM wvlet.log.Logger log\n",
      "INFO: Building text repo from cex ...\n",
      "Feb 20, 2020 11:52:38 PM wvlet.log.Logger log\n",
      "INFO: Building collection repo from cex ...\n",
      "Feb 20, 2020 11:52:38 PM wvlet.log.Logger log\n",
      "INFO: Building relations from cex ...\n",
      "Feb 20, 2020 11:52:38 PM wvlet.log.Logger log\n",
      "INFO: All library components built.\n"
     ]
    },
    {
     "data": {
      "text/plain": [
       "\u001b[36mcexPath\u001b[39m: \u001b[32mString\u001b[39m = \u001b[32m\"cex/aristot_poetics.cex\"\u001b[39m\n",
       "\u001b[36mlib\u001b[39m: \u001b[32mCiteLibrary\u001b[39m = \u001b[33mCiteLibrary\u001b[39m(\n",
       "  \u001b[32m\"CEX library\"\u001b[39m,\n",
       "  \u001b[33mCite2Urn\u001b[39m(\u001b[32m\"urn:cite2:cex:TEMPCOLL.TEMPVERSION:TEMP_ID\"\u001b[39m),\n",
       "  \u001b[32m\"CC 3.0 NC-BY\"\u001b[39m,\n",
       "  \u001b[33mVector\u001b[39m(),\n",
       "  \u001b[33mSome\u001b[39m(\n",
       "    \u001b[33mTextRepository\u001b[39m(\n",
       "      \u001b[33mCorpus\u001b[39m(\n",
       "        \u001b[33mVector\u001b[39m(\n",
       "          \u001b[33mCitableNode\u001b[39m(\n",
       "            \u001b[33mCtsUrn\u001b[39m(\u001b[32m\"urn:cts:greekLit:tlg0086.tlg034.bekker_fu:1.head\"\u001b[39m),\n",
       "            \u001b[32m\"\\u03a0\\u0395\\u03a1\\u0399 \\u03a0\\u039f\\u0399\\u0397\\u03a4\\u0399\\u039a\\u0397\\u03a3.\"\u001b[39m\n",
       "          ),\n",
       "          \u001b[33mCitableNode\u001b[39m(\n",
       "            \u001b[33mCtsUrn\u001b[39m(\u001b[32m\"urn:cts:greekLit:tlg0086.tlg034.bekker_fu:1.1\"\u001b[39m),\n",
       "            \u001b[32m\"\\u03a0\\u03b5\\u03c1\\u03b9 \\u03c0\\u03bf\\u03b9\\u03b7\\u03c4\\u03b9\\u03ba\\u1fc6\\u03c2 \\u03b1\\u1f50\\u03c4\\u1fc6\\u03c2 \\u03c4\\u03b5 \\u03ba\\u03b1\\u1f76 \\u03c4\\u1ff6\\u03bd \\u03b5\\u1f30\\u03b4\\u1ff6\\u03bd \\u03b1\\u1f50\\u03c4\\u1fc6\\u03c2, \\u1f25\\u03bd \\u03c4\\u03b9\\u03bd\\u03b1 \\u03b4\\u1f7b\\u03bd\\u03b1\\u03bc\\u03b9\\u03bd \\u1f15\\u03ba\\u03b1\\u03c3\\u03c4\\u03bf\\u03bd \\u1f14\\u03c7\\u03b5\\u03b9, \\u03ba\\u03b1\\u1f76 \\u03c0\\u1ff6\\u03c2 \\u03b4\\u03b5\\u1fd6 \\u03c3\\u03c5\\u03bd\\u1f77\\u03c3\\u03c4\\u03b1\\u03c3\\u03b8\\u03b1\\u03b9 \\u03c4\\u03bf\\u1f7a\\u03c2 \\u03bc\\u1f7b\\u03b8\\u03bf\\u03c5\\u03c2, \\u03b5\\u1f30 \\u03bc\\u1f73\\u03bb\\u03bb\\u03b5\\u03b9 \\u03ba\\u03b1\\u03bb\\u1ff6\\u03c2 \\u1f15\\u03be\\u03b5\\u03b9\\u03bd \\u1f21 \\u03c0\\u03bf\\u1f77\\u03b7\\u03c3\\u03b9\\u03c2, \\u1f14\\u03c4\\u03b9 \\u03b4\\u1f72 \\u1f10\\u03ba \\u03c0\\u1f79\\u03c3\\u03c9\\u03bd \\u03ba\\u03b1\\u1f76 \\u03c0\\u03bf\\u1f77\\u03c9\\u03bd \\u1f10\\u03c3\\u03c4\\u1f76 \\u03bc\\u03bf\\u03c1\\u1f77\\u03c9\\u03bd, \\u1f41\\u03bc\\u03bf\\u1f77\\u03c9\\u03c2 \\u03b4\\u1f72 \\u03ba\\u03b1\\u1f76 \\u03c0\\u03b5\\u03c1\\u1f76 \\u03c4\\u1ff6\\u03bd \\u1f04\\u03bb\\u03bb\\u03c9\\u03bd \\u1f45\\u03c3\\u03b1 \\u03c4\\u1fc6\\u03c2 \\u03b1\\u1f50\\u03c4\\u1fc6\\u03c2 \\u1f10\\u03c3\\u03c4\\u1f76 \\u03bc\\u03b5\\u03b8\\u1f79\\u03b4\\u03bf\\u03c5, \\u03bb\\u1f73\\u03b3\\u03c9\\u03bc\\u03b5\\u03bd, \\u1f00\\u03c1\\u03be\\u1f71\\u03bc\\u03b5\\u03bd\\u03bf\\u03b9 \\u03ba\\u03b1\\u03c4\\u1f70 \\u03c6\\u1f7b\\u03c3\\u03b9\\u03bd \\u03c0\\u03c1\\u1ff6\\u03c4\\u03bf\\u03bd \\u1f00\\u03c0\\u1f78 \\u03c4\\u1ff6\\u03bd \\u03c0\\u03c1\\u1f7d\\u03c4\\u03c9\\u03bd.\"\u001b[39m\n",
       "          ),\n",
       "          \u001b[33mCitableNode\u001b[39m(\n",
       "            \u001b[33mCtsUrn\u001b[39m(\u001b[32m\"urn:cts:greekLit:tlg0086.tlg034.bekker_fu:1.2\"\u001b[39m),\n",
       "            \u001b[32m\"\\u1f18\\u03c0\\u03bf\\u03c0\\u03bf\\u03b9\\u1f77\\u03b1 \\u03b4\\u1f74 \\u03b\u001b[39m..."
      ]
     },
     "execution_count": 6,
     "metadata": {},
     "output_type": "execute_result"
    }
   ],
   "source": [
    "val cexPath = \"cex/aristot_poetics.cex\"\n",
    "val lib = CiteLibrary(scala.io.Source.fromFile(cexPath).mkString)"
   ]
  },
  {
   "cell_type": "markdown",
   "metadata": {},
   "source": [
    "Get parts of the library where we can use them:"
   ]
  },
  {
   "cell_type": "code",
   "execution_count": 7,
   "metadata": {},
   "outputs": [
    {
     "data": {
      "text/html": [
       "<div class=\"jp-RenderedText\">\n",
       "<pre><code><span style=\"color: rgb(0, 187, 187)\"><span class=\"ansi-cyan-fg\">tr</span></span>: <span style=\"color: rgb(0, 187, 0)\"><span class=\"ansi-green-fg\">TextRepository</span></span> = <span style=\"color: yellow\"><span class=\"ansi-yellow-fg\">TextRepository</span></span>(\n",
       "  <span style=\"color: yellow\"><span class=\"ansi-yellow-fg\">Corpus</span></span>(\n",
       "    <span style=\"color: yellow\"><span class=\"ansi-yellow-fg\">Vector</span></span>(\n",
       "      <span style=\"color: yellow\"><span class=\"ansi-yellow-fg\">CitableNode</span></span>(\n",
       "        <span style=\"color: yellow\"><span class=\"ansi-yellow-fg\">CtsUrn</span></span>(<span style=\"color: rgb(0, 187, 0)\"><span class=\"ansi-green-fg\">&quot;urn:cts:greekLit:tlg0086.tlg034.bekker_fu:1.head&quot;</span></span>),\n",
       "        <span style=\"color: rgb(0, 187, 0)\"><span class=\"ansi-green-fg\">&quot;\\u03a0\\u0395\\u03a1\\u0399 \\u03a0\\u039f\\u0399\\u0397\\u03a4\\u0399\\u039a\\u0397\\u03a3.&quot;</span></span>\n",
       "      ),\n",
       "      <span style=\"color: yellow\"><span class=\"ansi-yellow-fg\">CitableNode</span></span>(\n",
       "        <span style=\"color: yellow\"><span class=\"ansi-yellow-fg\">CtsUrn</span></span>(<span style=\"color: rgb(0, 187, 0)\"><span class=\"ansi-green-fg\">&quot;urn:cts:greekLit:tlg0086.tlg034.bekker_fu:1.1&quot;</span></span>),\n",
       "        <span style=\"color: rgb(0, 187, 0)\"><span class=\"ansi-green-fg\">&quot;\\u03a0\\u03b5\\u03c1\\u03b9 \\u03c0\\u03bf\\u03b9\\u03b7\\u03c4\\u03b9\\u03ba\\u1fc6\\u03c2 \\u03b1\\u1f50\\u03c4\\u1fc6\\u03c2 \\u03c4\\u03b5 \\u03ba\\u03b1\\u1f76 \\u03c4\\u1ff6\\u03bd \\u03b5\\u1f30\\u03b4\\u1ff6\\u03bd \\u03b1\\u1f50\\u03c4\\u1fc6\\u03c2, \\u1f25\\u03bd \\u03c4\\u03b9\\u03bd\\u03b1 \\u03b4\\u1f7b\\u03bd\\u03b1\\u03bc\\u03b9\\u03bd \\u1f15\\u03ba\\u03b1\\u03c3\\u03c4\\u03bf\\u03bd \\u1f14\\u03c7\\u03b5\\u03b9, \\u03ba\\u03b1\\u1f76 \\u03c0\\u1ff6\\u03c2 \\u03b4\\u03b5\\u1fd6 \\u03c3\\u03c5\\u03bd\\u1f77\\u03c3\\u03c4\\u03b1\\u03c3\\u03b8\\u03b1\\u03b9 \\u03c4\\u03bf\\u1f7a\\u03c2 \\u03bc\\u1f7b\\u03b8\\u03bf\\u03c5\\u03c2, \\u03b5\\u1f30 \\u03bc\\u1f73\\u03bb\\u03bb\\u03b5\\u03b9 \\u03ba\\u03b1\\u03bb\\u1ff6\\u03c2 \\u1f15\\u03be\\u03b5\\u03b9\\u03bd \\u1f21 \\u03c0\\u03bf\\u1f77\\u03b7\\u03c3\\u03b9\\u03c2, \\u1f14\\u03c4\\u03b9 \\u03b4\\u1f72 \\u1f10\\u03ba \\u03c0\\u1f79\\u03c3\\u03c9\\u03bd \\u03ba\\u03b1\\u1f76 \\u03c0\\u03bf\\u1f77\\u03c9\\u03bd \\u1f10\\u03c3\\u03c4\\u1f76 \\u03bc\\u03bf\\u03c1\\u1f77\\u03c9\\u03bd, \\u1f41\\u03bc\\u03bf\\u1f77\\u03c9\\u03c2 \\u03b4\\u1f72 \\u03ba\\u03b1\\u1f76 \\u03c0\\u03b5\\u03c1\\u1f76 \\u03c4\\u1ff6\\u03bd \\u1f04\\u03bb\\u03bb\\u03c9\\u03bd \\u1f45\\u03c3\\u03b1 \\u03c4\\u1fc6\\u03c2 \\u03b1\\u1f50\\u03c4\\u1fc6\\u03c2 \\u1f10\\u03c3\\u03c4\\u1f76 \\u03bc\\u03b5\\u03b8\\u1f79\\u03b4\\u03bf\\u03c5, \\u03bb\\u1f73\\u03b3\\u03c9\\u03bc\\u03b5\\u03bd, \\u1f00\\u03c1\\u03be\\u1f71\\u03bc\\u03b5\\u03bd\\u03bf\\u03b9 \\u03ba\\u03b1\\u03c4\\u1f70 \\u03c6\\u1f7b\\u03c3\\u03b9\\u03bd \\u03c0\\u03c1\\u1ff6\\u03c4\\u03bf\\u03bd \\u1f00\\u03c0\\u1f78 \\u03c4\\u1ff6\\u03bd \\u03c0\\u03c1\\u1f7d\\u03c4\\u03c9\\u03bd.&quot;</span></span>\n",
       "      ),\n",
       "      <span style=\"color: yellow\"><span class=\"ansi-yellow-fg\">CitableNode</span></span>(\n",
       "        <span style=\"color: yellow\"><span class=\"ansi-yellow-fg\">CtsUrn</span></span>(<span style=\"color: rgb(0, 187, 0)\"><span class=\"ansi-green-fg\">&quot;urn:cts:greekLit:tlg0086.tlg034.bekker_fu:1.2&quot;</span></span>),\n",
       "        <span style=\"color: rgb(0, 187, 0)\"><span class=\"ansi-green-fg\">&quot;\\u1f18\\u03c0\\u03bf\\u03c0\\u03bf\\u03b9\\u1f77\\u03b1 \\u03b4\\u1f74 \\u03ba\\u03b1\\u1f76 \\u1f21 \\u03c4\\u1fc6\\u03c2 \\u03c4\\u03c1\\u03b1\\u03b3\\u1ff3\\u03b4\\u1f77\\u03b1\\u03c2 \\u03c0\\u03bf\\u1f77\\u03b7\\u03c3\\u03b9\\u03c2, \\u1f14\\u03c4\\u03b9 \\u03b4\\u1f72 \\u03ba\\u03c9\\u03bc\\u1ff3\\u03b4\\u1f77\\u03b1 \\u03ba\\u03b1\\u1f76 \\u1f21 \\u03b4\\u03b9\\u03b8\\u03c5\\u03c1\\u03b1\\u03bc\\u03b2\\u03bf\\u03c0\\u03bf\\u03b9\\u03b7\\u03c4\\u03b9\\u03ba\\u1f74 \\u03ba\\u03b1\\u1f76 \\u03c4\\u1fc6\\u03c2 \\u03b1\\u1f50\\u03bb\\u03b7\\u03c4\\u03b9\\u03ba\\u1fc6\\u03c2 \\u1f21 \\u03c0\\u03bb\\u03b5\\u1f77\\u03c3\\u03c4\\u03b</span></span>...\n",
       "<span style=\"color: rgb(0, 187, 187)\"><span class=\"ansi-cyan-fg\">corp</span></span>: <span style=\"color: rgb(0, 187, 0)\"><span class=\"ansi-green-fg\">Corpus</span></span> = <span style=\"color: yellow\"><span class=\"ansi-yellow-fg\">Corpus</span></span>(\n",
       "  <span style=\"color: yellow\"><span class=\"ansi-yellow-fg\">Vector</span></span>(\n",
       "    <span style=\"color: yellow\"><span class=\"ansi-yellow-fg\">CitableNode</span></span>(\n",
       "      <span style=\"color: yellow\"><span class=\"ansi-yellow-fg\">CtsUrn</span></span>(<span style=\"color: rgb(0, 187, 0)\"><span class=\"ansi-green-fg\">&quot;urn:cts:greekLit:tlg0086.tlg034.bekker_fu:1.head&quot;</span></span>),\n",
       "      <span style=\"color: rgb(0, 187, 0)\"><span class=\"ansi-green-fg\">&quot;\\u03a0\\u0395\\u03a1\\u0399 \\u03a0\\u039f\\u0399\\u0397\\u03a4\\u0399\\u039a\\u0397\\u03a3.&quot;</span></span>\n",
       "    ),\n",
       "    <span style=\"color: yellow\"><span class=\"ansi-yellow-fg\">CitableNode</span></span>(\n",
       "      <span style=\"color: yellow\"><span class=\"ansi-yellow-fg\">CtsUrn</span></span>(<span style=\"color: rgb(0, 187, 0)\"><span class=\"ansi-green-fg\">&quot;urn:cts:greekLit:tlg0086.tlg034.bekker_fu:1.1&quot;</span></span>),\n",
       "      <span style=\"color: rgb(0, 187, 0)\"><span class=\"ansi-green-fg\">&quot;\\u03a0\\u03b5\\u03c1\\u03b9 \\u03c0\\u03bf\\u03b9\\u03b7\\u03c4\\u03b9\\u03ba\\u1fc6\\u03c2 \\u03b1\\u1f50\\u03c4\\u1fc6\\u03c2 \\u03c4\\u03b5 \\u03ba\\u03b1\\u1f76 \\u03c4\\u1ff6\\u03bd \\u03b5\\u1f30\\u03b4\\u1ff6\\u03bd \\u03b1\\u1f50\\u03c4\\u1fc6\\u03c2, \\u1f25\\u03bd \\u03c4\\u03b9\\u03bd\\u03b1 \\u03b4\\u1f7b\\u03bd\\u03b1\\u03bc\\u03b9\\u03bd \\u1f15\\u03ba\\u03b1\\u03c3\\u03c4\\u03bf\\u03bd \\u1f14\\u03c7\\u03b5\\u03b9, \\u03ba\\u03b1\\u1f76 \\u03c0\\u1ff6\\u03c2 \\u03b4\\u03b5\\u1fd6 \\u03c3\\u03c5\\u03bd\\u1f77\\u03c3\\u03c4\\u03b1\\u03c3\\u03b8\\u03b1\\u03b9 \\u03c4\\u03bf\\u1f7a\\u03c2 \\u03bc\\u1f7b\\u03b8\\u03bf\\u03c5\\u03c2, \\u03b5\\u1f30 \\u03bc\\u1f73\\u03bb\\u03bb\\u03b5\\u03b9 \\u03ba\\u03b1\\u03bb\\u1ff6\\u03c2 \\u1f15\\u03be\\u03b5\\u03b9\\u03bd \\u1f21 \\u03c0\\u03bf\\u1f77\\u03b7\\u03c3\\u03b9\\u03c2, \\u1f14\\u03c4\\u03b9 \\u03b4\\u1f72 \\u1f10\\u03ba \\u03c0\\u1f79\\u03c3\\u03c9\\u03bd \\u03ba\\u03b1\\u1f76 \\u03c0\\u03bf\\u1f77\\u03c9\\u03bd \\u1f10\\u03c3\\u03c4\\u1f76 \\u03bc\\u03bf\\u03c1\\u1f77\\u03c9\\u03bd, \\u1f41\\u03bc\\u03bf\\u1f77\\u03c9\\u03c2 \\u03b4\\u1f72 \\u03ba\\u03b1\\u1f76 \\u03c0\\u03b5\\u03c1\\u1f76 \\u03c4\\u1ff6\\u03bd \\u1f04\\u03bb\\u03bb\\u03c9\\u03bd \\u1f45\\u03c3\\u03b1 \\u03c4\\u1fc6\\u03c2 \\u03b1\\u1f50\\u03c4\\u1fc6\\u03c2 \\u1f10\\u03c3\\u03c4\\u1f76 \\u03bc\\u03b5\\u03b8\\u1f79\\u03b4\\u03bf\\u03c5, \\u03bb\\u1f73\\u03b3\\u03c9\\u03bc\\u03b5\\u03bd, \\u1f00\\u03c1\\u03be\\u1f71\\u03bc\\u03b5\\u03bd\\u03bf\\u03b9 \\u03ba\\u03b1\\u03c4\\u1f70 \\u03c6\\u1f7b\\u03c3\\u03b9\\u03bd \\u03c0\\u03c1\\u1ff6\\u03c4\\u03bf\\u03bd \\u1f00\\u03c0\\u1f78 \\u03c4\\u1ff6\\u03bd \\u03c0\\u03c1\\u1f7d\\u03c4\\u03c9\\u03bd.&quot;</span></span>\n",
       "    ),\n",
       "    <span style=\"color: yellow\"><span class=\"ansi-yellow-fg\">CitableNode</span></span>(\n",
       "      <span style=\"color: yellow\"><span class=\"ansi-yellow-fg\">CtsUrn</span></span>(<span style=\"color: rgb(0, 187, 0)\"><span class=\"ansi-green-fg\">&quot;urn:cts:greekLit:tlg0086.tlg034.bekker_fu:1.2&quot;</span></span>),\n",
       "      <span style=\"color: rgb(0, 187, 0)\"><span class=\"ansi-green-fg\">&quot;\\u1f18\\u03c0\\u03bf\\u03c0\\u03bf\\u03b9\\u1f77\\u03b1 \\u03b4\\u1f74 \\u03ba\\u03b1\\u1f76 \\u1f21 \\u03c4\\u1fc6\\u03c2 \\u03c4\\u03c1\\u03b1\\u03b3\\u1ff3\\u03b4\\u1f77\\u03b1\\u03c2 \\u03c0\\u03bf\\u1f77\\u03b7\\u03c3\\u03b9\\u03c2, \\u1f14\\u03c4\\u03b9 \\u03b4\\u1f72 \\u03ba\\u03c9\\u03bc\\u1ff3\\u03b4\\u1f77\\u03b1 \\u03ba\\u03b1\\u1f76 \\u1f21 \\u03b4\\u03b9\\u03b8\\u03c5\\u03c1\\u03b1\\u03bc\\u03b2\\u03bf\\u03c0\\u03bf\\u03b9\\u03b7\\u03c4\\u03b9\\u03ba\\u1f74 \\u03ba\\u03b1\\u1f76 \\u03c4\\u1fc6\\u03c2 \\u03b1\\u1f50\\u03bb\\u03b7\\u03c4\\u03b9\\u03ba\\u1fc6\\u03c2 \\u1f21 \\u03c0\\u03bb\\u03b5\\u1f77\\u03c3\\u03c4\\u03b7 \\u03ba\\u03b1\\u1f76 \\u03ba\\u03b9\\u03b8\\u03b1\\u03c1\\u03b9\\u03c3\\u03c4\\u03b9\\u03ba\\</span></span>...\n",
       "<span style=\"color: rgb(0, 187, 187)\"><span class=\"ansi-cyan-fg\">cat</span></span>: <span style=\"color: rgb(0, 187, 0)\"><span class=\"ansi-green-fg\">Catalog</span></span> = <style>@keyframes fadein { from { opacity: 0; } to { opacity: 1; } }</style><span style=\"animation: fadein 2s;\"><span style=\"color: yellow\"><span class=\"ansi-yellow-fg\">Catalog</span></span>(\n",
       "  <span style=\"color: yellow\"><span class=\"ansi-yellow-fg\">Vector</span></span>(\n",
       "    <span style=\"color: yellow\"><span class=\"ansi-yellow-fg\">CatalogEntry</span></span>(\n",
       "      <span style=\"color: yellow\"><span class=\"ansi-yellow-fg\">CtsUrn</span></span>(<span style=\"color: rgb(0, 187, 0)\"><span class=\"ansi-green-fg\">&quot;urn:cts:greekLit:tlg0086.tlg034.fyfe_fu:&quot;</span></span>),\n",
       "      <span style=\"color: rgb(0, 187, 0)\"><span class=\"ansi-green-fg\">&quot;section/subsection&quot;</span></span>,\n",
       "      <span style=\"color: rgb(0, 187, 0)\"><span class=\"ansi-green-fg\">&quot;eng&quot;</span></span>,\n",
       "      <span style=\"color: rgb(0, 187, 0)\"><span class=\"ansi-green-fg\">&quot;Aristotle&quot;</span></span>,\n",
       "      <span style=\"color: rgb(0, 187, 0)\"><span class=\"ansi-green-fg\">&quot;Poetics&quot;</span></span>,\n",
       "      <span style=\"color: yellow\"><span class=\"ansi-yellow-fg\">Some</span></span>(<span style=\"color: rgb(0, 187, 0)\"><span class=\"ansi-green-fg\">&quot;W.H. Fyfe, trans. 1932&quot;</span></span>),\n",
       "      <span style=\"color: rgb(0, 187, 0)\"><span class=\"ansi-green-fg\">None</span></span>,\n",
       "      true\n",
       "    ),\n",
       "    <span style=\"color: yellow\"><span class=\"ansi-yellow-fg\">CatalogEntry</span></span>(\n",
       "      <span style=\"color: yellow\"><span class=\"ansi-yellow-fg\">CtsUrn</span></span>(<span style=\"color: rgb(0, 187, 0)\"><span class=\"ansi-green-fg\">&quot;urn:cts:greekLit:tlg0086.tlg034.bekker_fu:&quot;</span></span>),\n",
       "      <span style=\"color: rgb(0, 187, 0)\"><span class=\"ansi-green-fg\">&quot;section/subsection&quot;</span></span>,\n",
       "      <span style=\"color: rgb(0, 187, 0)\"><span class=\"ansi-green-fg\">&quot;grc&quot;</span></span>,\n",
       "      <span style=\"color: rgb(0, 187, 0)\"><span class=\"ansi-green-fg\">&quot;Aristotle&quot;</span></span>,\n",
       "      <span style=\"color: rgb(0, 187, 0)\"><span class=\"ansi-green-fg\">&quot;Poetics&quot;</span></span>,\n",
       "      <span style=\"color: yellow\"><span class=\"ansi-yellow-fg\">Some</span></span>(<span style=\"color: rgb(0, 187, 0)\"><span class=\"ansi-green-fg\">&quot;Bekker, 1837&quot;</span></span>),\n",
       "      <span style=\"color: rgb(0, 187, 0)\"><span class=\"ansi-green-fg\">None</span></span>,\n",
       "      true\n",
       "    )\n",
       "  )\n",
       ")</span></code></pre>\n",
       "</div>"
      ],
      "text/plain": [
       "\u001b[36mtr\u001b[39m: \u001b[32mTextRepository\u001b[39m = \u001b[33mTextRepository\u001b[39m(\n",
       "  \u001b[33mCorpus\u001b[39m(\n",
       "    \u001b[33mVector\u001b[39m(\n",
       "      \u001b[33mCitableNode\u001b[39m(\n",
       "        \u001b[33mCtsUrn\u001b[39m(\u001b[32m\"urn:cts:greekLit:tlg0086.tlg034.bekker_fu:1.head\"\u001b[39m),\n",
       "        \u001b[32m\"\\u03a0\\u0395\\u03a1\\u0399 \\u03a0\\u039f\\u0399\\u0397\\u03a4\\u0399\\u039a\\u0397\\u03a3.\"\u001b[39m\n",
       "      ),\n",
       "      \u001b[33mCitableNode\u001b[39m(\n",
       "        \u001b[33mCtsUrn\u001b[39m(\u001b[32m\"urn:cts:greekLit:tlg0086.tlg034.bekker_fu:1.1\"\u001b[39m),\n",
       "        \u001b[32m\"\\u03a0\\u03b5\\u03c1\\u03b9 \\u03c0\\u03bf\\u03b9\\u03b7\\u03c4\\u03b9\\u03ba\\u1fc6\\u03c2 \\u03b1\\u1f50\\u03c4\\u1fc6\\u03c2 \\u03c4\\u03b5 \\u03ba\\u03b1\\u1f76 \\u03c4\\u1ff6\\u03bd \\u03b5\\u1f30\\u03b4\\u1ff6\\u03bd \\u03b1\\u1f50\\u03c4\\u1fc6\\u03c2, \\u1f25\\u03bd \\u03c4\\u03b9\\u03bd\\u03b1 \\u03b4\\u1f7b\\u03bd\\u03b1\\u03bc\\u03b9\\u03bd \\u1f15\\u03ba\\u03b1\\u03c3\\u03c4\\u03bf\\u03bd \\u1f14\\u03c7\\u03b5\\u03b9, \\u03ba\\u03b1\\u1f76 \\u03c0\\u1ff6\\u03c2 \\u03b4\\u03b5\\u1fd6 \\u03c3\\u03c5\\u03bd\\u1f77\\u03c3\\u03c4\\u03b1\\u03c3\\u03b8\\u03b1\\u03b9 \\u03c4\\u03bf\\u1f7a\\u03c2 \\u03bc\\u1f7b\\u03b8\\u03bf\\u03c5\\u03c2, \\u03b5\\u1f30 \\u03bc\\u1f73\\u03bb\\u03bb\\u03b5\\u03b9 \\u03ba\\u03b1\\u03bb\\u1ff6\\u03c2 \\u1f15\\u03be\\u03b5\\u03b9\\u03bd \\u1f21 \\u03c0\\u03bf\\u1f77\\u03b7\\u03c3\\u03b9\\u03c2, \\u1f14\\u03c4\\u03b9 \\u03b4\\u1f72 \\u1f10\\u03ba \\u03c0\\u1f79\\u03c3\\u03c9\\u03bd \\u03ba\\u03b1\\u1f76 \\u03c0\\u03bf\\u1f77\\u03c9\\u03bd \\u1f10\\u03c3\\u03c4\\u1f76 \\u03bc\\u03bf\\u03c1\\u1f77\\u03c9\\u03bd, \\u1f41\\u03bc\\u03bf\\u1f77\\u03c9\\u03c2 \\u03b4\\u1f72 \\u03ba\\u03b1\\u1f76 \\u03c0\\u03b5\\u03c1\\u1f76 \\u03c4\\u1ff6\\u03bd \\u1f04\\u03bb\\u03bb\\u03c9\\u03bd \\u1f45\\u03c3\\u03b1 \\u03c4\\u1fc6\\u03c2 \\u03b1\\u1f50\\u03c4\\u1fc6\\u03c2 \\u1f10\\u03c3\\u03c4\\u1f76 \\u03bc\\u03b5\\u03b8\\u1f79\\u03b4\\u03bf\\u03c5, \\u03bb\\u1f73\\u03b3\\u03c9\\u03bc\\u03b5\\u03bd, \\u1f00\\u03c1\\u03be\\u1f71\\u03bc\\u03b5\\u03bd\\u03bf\\u03b9 \\u03ba\\u03b1\\u03c4\\u1f70 \\u03c6\\u1f7b\\u03c3\\u03b9\\u03bd \\u03c0\\u03c1\\u1ff6\\u03c4\\u03bf\\u03bd \\u1f00\\u03c0\\u1f78 \\u03c4\\u1ff6\\u03bd \\u03c0\\u03c1\\u1f7d\\u03c4\\u03c9\\u03bd.\"\u001b[39m\n",
       "      ),\n",
       "      \u001b[33mCitableNode\u001b[39m(\n",
       "        \u001b[33mCtsUrn\u001b[39m(\u001b[32m\"urn:cts:greekLit:tlg0086.tlg034.bekker_fu:1.2\"\u001b[39m),\n",
       "        \u001b[32m\"\\u1f18\\u03c0\\u03bf\\u03c0\\u03bf\\u03b9\\u1f77\\u03b1 \\u03b4\\u1f74 \\u03ba\\u03b1\\u1f76 \\u1f21 \\u03c4\\u1fc6\\u03c2 \\u03c4\\u03c1\\u03b1\\u03b3\\u1ff3\\u03b4\\u1f77\\u03b1\\u03c2 \\u03c0\\u03bf\\u1f77\\u03b7\\u03c3\\u03b9\\u03c2, \\u1f14\\u03c4\\u03b9 \\u03b4\\u1f72 \\u03ba\\u03c9\\u03bc\\u1ff3\\u03b4\\u1f77\\u03b1 \\u03ba\\u03b1\\u1f76 \\u1f21 \\u03b4\\u03b9\\u03b8\\u03c5\\u03c1\\u03b1\\u03bc\\u03b2\\u03bf\\u03c0\\u03bf\\u03b9\\u03b7\\u03c4\\u03b9\\u03ba\\u1f74 \\u03ba\\u03b1\\u1f76 \\u03c4\\u1fc6\\u03c2 \\u03b1\\u1f50\\u03bb\\u03b7\\u03c4\\u03b9\\u03ba\\u1fc6\\u03c2 \\u1f21 \\u03c0\\u03bb\\u03b5\\u1f77\\u03c3\\u03c4\\u03b\u001b[39m...\n",
       "\u001b[36mcorp\u001b[39m: \u001b[32mCorpus\u001b[39m = \u001b[33mCorpus\u001b[39m(\n",
       "  \u001b[33mVector\u001b[39m(\n",
       "    \u001b[33mCitableNode\u001b[39m(\n",
       "      \u001b[33mCtsUrn\u001b[39m(\u001b[32m\"urn:cts:greekLit:tlg0086.tlg034.bekker_fu:1.head\"\u001b[39m),\n",
       "      \u001b[32m\"\\u03a0\\u0395\\u03a1\\u0399 \\u03a0\\u039f\\u0399\\u0397\\u03a4\\u0399\\u039a\\u0397\\u03a3.\"\u001b[39m\n",
       "    ),\n",
       "    \u001b[33mCitableNode\u001b[39m(\n",
       "      \u001b[33mCtsUrn\u001b[39m(\u001b[32m\"urn:cts:greekLit:tlg0086.tlg034.bekker_fu:1.1\"\u001b[39m),\n",
       "      \u001b[32m\"\\u03a0\\u03b5\\u03c1\\u03b9 \\u03c0\\u03bf\\u03b9\\u03b7\\u03c4\\u03b9\\u03ba\\u1fc6\\u03c2 \\u03b1\\u1f50\\u03c4\\u1fc6\\u03c2 \\u03c4\\u03b5 \\u03ba\\u03b1\\u1f76 \\u03c4\\u1ff6\\u03bd \\u03b5\\u1f30\\u03b4\\u1ff6\\u03bd \\u03b1\\u1f50\\u03c4\\u1fc6\\u03c2, \\u1f25\\u03bd \\u03c4\\u03b9\\u03bd\\u03b1 \\u03b4\\u1f7b\\u03bd\\u03b1\\u03bc\\u03b9\\u03bd \\u1f15\\u03ba\\u03b1\\u03c3\\u03c4\\u03bf\\u03bd \\u1f14\\u03c7\\u03b5\\u03b9, \\u03ba\\u03b1\\u1f76 \\u03c0\\u1ff6\\u03c2 \\u03b4\\u03b5\\u1fd6 \\u03c3\\u03c5\\u03bd\\u1f77\\u03c3\\u03c4\\u03b1\\u03c3\\u03b8\\u03b1\\u03b9 \\u03c4\\u03bf\\u1f7a\\u03c2 \\u03bc\\u1f7b\\u03b8\\u03bf\\u03c5\\u03c2, \\u03b5\\u1f30 \\u03bc\\u1f73\\u03bb\\u03bb\\u03b5\\u03b9 \\u03ba\\u03b1\\u03bb\\u1ff6\\u03c2 \\u1f15\\u03be\\u03b5\\u03b9\\u03bd \\u1f21 \\u03c0\\u03bf\\u1f77\\u03b7\\u03c3\\u03b9\\u03c2, \\u1f14\\u03c4\\u03b9 \\u03b4\\u1f72 \\u1f10\\u03ba \\u03c0\\u1f79\\u03c3\\u03c9\\u03bd \\u03ba\\u03b1\\u1f76 \\u03c0\\u03bf\\u1f77\\u03c9\\u03bd \\u1f10\\u03c3\\u03c4\\u1f76 \\u03bc\\u03bf\\u03c1\\u1f77\\u03c9\\u03bd, \\u1f41\\u03bc\\u03bf\\u1f77\\u03c9\\u03c2 \\u03b4\\u1f72 \\u03ba\\u03b1\\u1f76 \\u03c0\\u03b5\\u03c1\\u1f76 \\u03c4\\u1ff6\\u03bd \\u1f04\\u03bb\\u03bb\\u03c9\\u03bd \\u1f45\\u03c3\\u03b1 \\u03c4\\u1fc6\\u03c2 \\u03b1\\u1f50\\u03c4\\u1fc6\\u03c2 \\u1f10\\u03c3\\u03c4\\u1f76 \\u03bc\\u03b5\\u03b8\\u1f79\\u03b4\\u03bf\\u03c5, \\u03bb\\u1f73\\u03b3\\u03c9\\u03bc\\u03b5\\u03bd, \\u1f00\\u03c1\\u03be\\u1f71\\u03bc\\u03b5\\u03bd\\u03bf\\u03b9 \\u03ba\\u03b1\\u03c4\\u1f70 \\u03c6\\u1f7b\\u03c3\\u03b9\\u03bd \\u03c0\\u03c1\\u1ff6\\u03c4\\u03bf\\u03bd \\u1f00\\u03c0\\u1f78 \\u03c4\\u1ff6\\u03bd \\u03c0\\u03c1\\u1f7d\\u03c4\\u03c9\\u03bd.\"\u001b[39m\n",
       "    ),\n",
       "    \u001b[33mCitableNode\u001b[39m(\n",
       "      \u001b[33mCtsUrn\u001b[39m(\u001b[32m\"urn:cts:greekLit:tlg0086.tlg034.bekker_fu:1.2\"\u001b[39m),\n",
       "      \u001b[32m\"\\u1f18\\u03c0\\u03bf\\u03c0\\u03bf\\u03b9\\u1f77\\u03b1 \\u03b4\\u1f74 \\u03ba\\u03b1\\u1f76 \\u1f21 \\u03c4\\u1fc6\\u03c2 \\u03c4\\u03c1\\u03b1\\u03b3\\u1ff3\\u03b4\\u1f77\\u03b1\\u03c2 \\u03c0\\u03bf\\u1f77\\u03b7\\u03c3\\u03b9\\u03c2, \\u1f14\\u03c4\\u03b9 \\u03b4\\u1f72 \\u03ba\\u03c9\\u03bc\\u1ff3\\u03b4\\u1f77\\u03b1 \\u03ba\\u03b1\\u1f76 \\u1f21 \\u03b4\\u03b9\\u03b8\\u03c5\\u03c1\\u03b1\\u03bc\\u03b2\\u03bf\\u03c0\\u03bf\\u03b9\\u03b7\\u03c4\\u03b9\\u03ba\\u1f74 \\u03ba\\u03b1\\u1f76 \\u03c4\\u1fc6\\u03c2 \\u03b1\\u1f50\\u03bb\\u03b7\\u03c4\\u03b9\\u03ba\\u1fc6\\u03c2 \\u1f21 \\u03c0\\u03bb\\u03b5\\u1f77\\u03c3\\u03c4\\u03b7 \\u03ba\\u03b1\\u1f76 \\u03ba\\u03b9\\u03b8\\u03b1\\u03c1\\u03b9\\u03c3\\u03c4\\u03b9\\u03ba\\\u001b[39m...\n",
       "\u001b[36mcat\u001b[39m: \u001b[32mCatalog\u001b[39m = \u001b[33mCatalog\u001b[39m(\n",
       "  \u001b[33mVector\u001b[39m(\n",
       "    \u001b[33mCatalogEntry\u001b[39m(\n",
       "      \u001b[33mCtsUrn\u001b[39m(\u001b[32m\"urn:cts:greekLit:tlg0086.tlg034.fyfe_fu:\"\u001b[39m),\n",
       "      \u001b[32m\"section/subsection\"\u001b[39m,\n",
       "      \u001b[32m\"eng\"\u001b[39m,\n",
       "      \u001b[32m\"Aristotle\"\u001b[39m,\n",
       "      \u001b[32m\"Poetics\"\u001b[39m,\n",
       "      \u001b[33mSome\u001b[39m(\u001b[32m\"W.H. Fyfe, trans. 1932\"\u001b[39m),\n",
       "      \u001b[32mNone\u001b[39m,\n",
       "      true\n",
       "    ),\n",
       "    \u001b[33mCatalogEntry\u001b[39m(\n",
       "      \u001b[33mCtsUrn\u001b[39m(\u001b[32m\"urn:cts:greekLit:tlg0086.tlg034.bekker_fu:\"\u001b[39m),\n",
       "      \u001b[32m\"section/subsection\"\u001b[39m,\n",
       "      \u001b[32m\"grc\"\u001b[39m,\n",
       "      \u001b[32m\"Aristotle\"\u001b[39m,\n",
       "      \u001b[32m\"Poetics\"\u001b[39m,\n",
       "      \u001b[33mSome\u001b[39m(\u001b[32m\"Bekker, 1837\"\u001b[39m),\n",
       "      \u001b[32mNone\u001b[39m,\n",
       "      true\n",
       "    )\n",
       "  )\n",
       ")"
      ]
     },
     "metadata": {},
     "output_type": "display_data"
    }
   ],
   "source": [
    "lazy val tr: TextRepository = lib.textRepository.get\n",
    "lazy val corp: Corpus = tr.corpus\n",
    "lazy val cat: Catalog = tr.catalog"
   ]
  },
  {
   "cell_type": "code",
   "execution_count": 8,
   "metadata": {},
   "outputs": [
    {
     "data": {
      "text/plain": [
       "\u001b[36mengUrn\u001b[39m: \u001b[32mCtsUrn\u001b[39m = \u001b[33mCtsUrn\u001b[39m(\u001b[32m\"urn:cts:greekLit:tlg0086.tlg034.fyfe_fu:\"\u001b[39m)\n",
       "\u001b[36mgrcUrn\u001b[39m: \u001b[32mCtsUrn\u001b[39m = \u001b[33mCtsUrn\u001b[39m(\u001b[32m\"urn:cts:greekLit:tlg0086.tlg034.bekker_fu:\"\u001b[39m)\n",
       "\u001b[36murn\u001b[39m: \u001b[32mCtsUrn\u001b[39m = \u001b[33mCtsUrn\u001b[39m(\u001b[32m\"urn:cts:greekLit:tlg0086.tlg034:\"\u001b[39m)\n",
       "\u001b[36mengCorp\u001b[39m: \u001b[32mCorpus\u001b[39m = \u001b[33mCorpus\u001b[39m(\n",
       "  \u001b[33mVector\u001b[39m(\n",
       "    \u001b[33mCitableNode\u001b[39m(\n",
       "      \u001b[33mCtsUrn\u001b[39m(\u001b[32m\"urn:cts:greekLit:tlg0086.tlg034.fyfe_fu:1.head\"\u001b[39m),\n",
       "      \u001b[32m\"Poetics\"\u001b[39m\n",
       "    ),\n",
       "    \u001b[33mCitableNode\u001b[39m(\n",
       "      \u001b[33mCtsUrn\u001b[39m(\u001b[32m\"urn:cts:greekLit:tlg0086.tlg034.fyfe_fu:1.1\"\u001b[39m),\n",
       "      \u001b[32m\"Let us here deal with Poetry, its essence and its several species, with the characteristic function of each species and the way in which plots must be constructed if the poem is to be a success; and also with the number and character of the constituent parts of a poem, and similarly with all other matters proper to this same inquiry; and let us, as nature directs, begin first with first principles.\"\u001b[39m\n",
       "    ),\n",
       "    \u001b[33mCitableNode\u001b[39m(\n",
       "      \u001b[33mCtsUrn\u001b[39m(\u001b[32m\"urn:cts:greekLit:tlg0086.tlg034.fyfe_fu:1.2\"\u001b[39m),\n",
       "      \u001b[32m\"Epic poetry, then, and the poetry of tragic drama, and, moreover, comedy and dithyrambic poetry, and most flute-playing and harp-playing, these, speaking generally, may all be said to be \\\"representations of life.\\\"\"\u001b[39m\n",
       "    ),\n",
       "    \u001b[33mCitableNode\u001b[39m(\n",
       "      \u001b[33mCtsUrn\u001b[39m(\u001b[32m\"urn:cts:greekLit:tlg0086.tlg034.fyfe_fu:1.3\"\u001b[39m),\n",
       "      \u001b[32m\"But they differ one from another in three ways: either in using means generically different or in representing different objects or in representing objects not in the same way but in a different manner.\"\u001b[39m\n",
       "    ),\n",
       "    \u001b[33mCitableNode\u001b[39m(\n",
       "      \u001b[33mCtsUrn\u001b[39m(\u001b[32m\"urn:cts:greekLit:tlg0086.tlg034.fyfe_fu:1.4\"\u001b[39m),\n",
       "      \u001b[32m\"For just as by the use both of color and form people represent many objects, making likenesses of them\\u2014some having a knowledge of art and some working empirically\\u2014and just as others use the human voice; so is it also in the arts which we have mentioned, they all make their representations in rhythm and language and tune, using these means either separately or in combination.\"\u001b[39m\n",
       "    ),\n",
       "    \u001b[33mCitableNode\u001b[39m(\n",
       "      \u001b[33mCtsUrn\u001b[39m(\u001b[32m\"urn:cts:greekLit:tlg0086.tlg034.fyfe_fu:1.5\"\u001b[39m),\n",
       "      \u001b[32m\"For tune and rhythm alone are employed in flute-playing and harp-playing and in any other arts which have a similar function, as, for example, pipe-playi\u001b[39m...\n",
       "\u001b[36mgrcCorp\u001b[39m: \u001b[32mCorpus\u001b[39m = \u001b[33mCorpus\u001b[39m(\n",
       "  \u001b[33mVector\u001b[39m(\n",
       "    \u001b[33mCitableNode\u001b[39m(\n",
       "      \u001b[33mCtsUrn\u001b[39m(\u001b[32m\"urn:cts:greekLit:tlg0086.tlg034.bekker_fu:1.head\"\u001b[39m),\n",
       "      \u001b[32m\"\\u03a0\\u0395\\u03a1\\u0399 \\u03a0\\u039f\\u0399\\u0397\\u03a4\\u0399\\u039a\\u0397\\u03a3.\"\u001b[39m\n",
       "    ),\n",
       "    \u001b[33mCitableNode\u001b[39m(\n",
       "      \u001b[33mCtsUrn\u001b[39m(\u001b[32m\"urn:cts:greekLit:tlg0086.tlg034.bekker_fu:1.1\"\u001b[39m),\n",
       "      \u001b[32m\"\\u03a0\\u03b5\\u03c1\\u03b9 \\u03c0\\u03bf\\u03b9\\u03b7\\u03c4\\u03b9\\u03ba\\u1fc6\\u03c2 \\u03b1\\u1f50\\u03c4\\u1fc6\\u03c2 \\u03c4\\u03b5 \\u03ba\\u03b1\\u1f76 \\u03c4\\u1ff6\\u03bd \\u03b5\\u1f30\\u03b4\\u1ff6\\u03bd \\u03b1\\u1f50\\u03c4\\u1fc6\\u03c2, \\u1f25\\u03bd \\u03c4\\u03b9\\u03bd\\u03b1 \\u03b4\\u1f7b\\u03bd\\u03b1\\u03bc\\u03b9\\u03bd \\u1f15\\u03ba\\u03b1\\u03c3\\u03c4\\u03bf\\u03bd \\u1f14\\u03c7\\u03b5\\u03b9, \\u03ba\\u03b1\\u1f76 \\u03c0\\u1ff6\\u03c2 \\u03b4\\u03b5\\u1fd6 \\u03c3\\u03c5\\u03bd\\u1f77\\u03c3\\u03c4\\u03b1\\u03c3\\u03b8\\u03b1\\u03b9 \\u03c4\\u03bf\\u1f7a\\u03c2 \\u03bc\\u1f7b\\u03b8\\u03bf\\u03c5\\u03c2, \\u03b5\\u1f30 \\u03bc\\u1f73\\u03bb\\u03bb\\u03b5\\u03b9 \\u03ba\\u03b1\\u03bb\\u1ff6\\u03c2 \\u1f15\\u03be\\u03b5\\u03b9\\u03bd \\u1f21 \\u03c0\\u03bf\\u1f77\\u03b7\\u03c3\\u03b9\\u03c2, \\u1f14\\u03c4\\u03b9 \\u03b4\\u1f72 \\u1f10\\u03ba \\u03c0\\u1f79\\u03c3\\u03c9\\u03bd \\u03ba\\u03b1\\u1f76 \\u03c0\\u03bf\\u1f77\\u03c9\\u03bd \\u1f10\\u03c3\\u03c4\\u1f76 \\u03bc\\u03bf\\u03c1\\u1f77\\u03c9\\u03bd, \\u1f41\\u03bc\\u03bf\\u1f77\\u03c9\\u03c2 \\u03b4\\u1f72 \\u03ba\\u03b1\\u1f76 \\u03c0\\u03b5\\u03c1\\u1f76 \\u03c4\\u1ff6\\u03bd \\u1f04\\u03bb\\u03bb\\u03c9\\u03bd \\u1f45\\u03c3\\u03b1 \\u03c4\\u1fc6\\u03c2 \\u03b1\\u1f50\\u03c4\\u1fc6\\u03c2 \\u1f10\\u03c3\\u03c4\\u1f76 \\u03bc\\u03b5\\u03b8\\u1f79\\u03b4\\u03bf\\u03c5, \\u03bb\\u1f73\\u03b3\\u03c9\\u03bc\\u03b5\\u03bd, \\u1f00\\u03c1\\u03be\\u1f71\\u03bc\\u03b5\\u03bd\\u03bf\\u03b9 \\u03ba\\u03b1\\u03c4\\u1f70 \\u03c6\\u1f7b\\u03c3\\u03b9\\u03bd \\u03c0\\u03c1\\u1ff6\\u03c4\\u03bf\\u03bd \\u1f00\\u03c0\\u1f78 \\u03c4\\u1ff6\\u03bd \\u03c0\\u03c1\\u1f7d\\u03c4\\u03c9\\u03bd.\"\u001b[39m\n",
       "    ),\n",
       "    \u001b[33mCitableNode\u001b[39m(\n",
       "      \u001b[33mCtsUrn\u001b[39m(\u001b[32m\"urn:cts:greekLit:tlg0086.tlg034.bekker_fu:1.2\"\u001b[39m),\n",
       "      \u001b[32m\"\\u1f18\\u03c0\\u03bf\\u03c0\\u03bf\\u03b9\\u1f77\\u03b1 \\u03b4\\u1f74 \\u03ba\\u03b1\\u1f76 \\u1f21 \\u03c4\\u1fc6\\u03c2 \\u03c4\\u03c1\\u03b1\\u03b3\\u1ff3\\u03b4\\u1f77\\u03b1\\u03c2 \\u03c0\\u03bf\\u1f77\\u03b7\\u03c3\\u03b9\\u03c2, \\u1f14\\u03c4\\u03b9 \\u03b4\\u1f72 \\u03ba\\u03c9\\u03bc\\u1ff3\\u03b4\\u1f77\\u03b1 \\u03ba\\u03b1\\u1f76 \\u1f21 \\u03b4\\u03b9\\u03b8\\u03c5\\u03c1\\u03b1\\u03bc\\u03b2\\u03bf\\u03c0\\u03bf\\u03b9\\u03b7\\u03c4\\u03b9\\u03ba\\u1f74 \\u03ba\\u03b1\\u1f76 \\u03c4\\u1fc6\\u03c2 \\u03b1\\u1f50\\u03bb\\u03b7\\u03c4\\u03b9\\u03ba\\u1fc6\\u03c2 \\u1f21 \\u03c0\\u03bb\\u03b5\\u1f77\\u03c3\\u03c4\\u03b7 \\u03ba\\u03b1\\u1f76 \\u03ba\\u03b9\\u03b8\\u03b1\\u03c1\\u03b9\\u03c3\\u03c4\\u03b9\\u03ba\\\u001b[39m..."
      ]
     },
     "execution_count": 8,
     "metadata": {},
     "output_type": "execute_result"
    }
   ],
   "source": [
    "val engUrn = CtsUrn(\"urn:cts:greekLit:tlg0086.tlg034.fyfe_fu:\")\n",
    "val grcUrn = CtsUrn(\"urn:cts:greekLit:tlg0086.tlg034.bekker_fu:\")\n",
    "val urn = CtsUrn(\"urn:cts:greekLit:tlg0086.tlg034:\")\n",
    "\n",
    "val engCorp = corp ~~ engUrn\n",
    "val grcCorp = corp ~~ grcUrn"
   ]
  },
  {
   "cell_type": "markdown",
   "metadata": {},
   "source": [
    "A little validation:"
   ]
  },
  {
   "cell_type": "code",
   "execution_count": 9,
   "metadata": {},
   "outputs": [
    {
     "data": {
      "text/plain": [
       "\u001b[36mgrcPsgs\u001b[39m: \u001b[32mVector\u001b[39m[\u001b[32mString\u001b[39m] = \u001b[33mVector\u001b[39m(\n",
       "  \u001b[32m\"1.head\"\u001b[39m,\n",
       "  \u001b[32m\"1.1\"\u001b[39m,\n",
       "  \u001b[32m\"1.2\"\u001b[39m,\n",
       "  \u001b[32m\"1.3\"\u001b[39m,\n",
       "  \u001b[32m\"1.4\"\u001b[39m,\n",
       "  \u001b[32m\"1.5\"\u001b[39m,\n",
       "  \u001b[32m\"1.6\"\u001b[39m,\n",
       "  \u001b[32m\"1.7\"\u001b[39m,\n",
       "  \u001b[32m\"1.8\"\u001b[39m,\n",
       "  \u001b[32m\"1.9\"\u001b[39m,\n",
       "  \u001b[32m\"1.10\"\u001b[39m,\n",
       "  \u001b[32m\"1.11\"\u001b[39m,\n",
       "  \u001b[32m\"1.12\"\u001b[39m,\n",
       "  \u001b[32m\"1.13\"\u001b[39m,\n",
       "  \u001b[32m\"1.14\"\u001b[39m,\n",
       "  \u001b[32m\"2.1\"\u001b[39m,\n",
       "  \u001b[32m\"2.2\"\u001b[39m,\n",
       "  \u001b[32m\"2.3\"\u001b[39m,\n",
       "  \u001b[32m\"2.4\"\u001b[39m,\n",
       "  \u001b[32m\"2.5\"\u001b[39m,\n",
       "  \u001b[32m\"2.6\"\u001b[39m,\n",
       "  \u001b[32m\"2.7\"\u001b[39m,\n",
       "  \u001b[32m\"3.1\"\u001b[39m,\n",
       "  \u001b[32m\"3.2\"\u001b[39m,\n",
       "  \u001b[32m\"3.3\"\u001b[39m,\n",
       "  \u001b[32m\"3.4\"\u001b[39m,\n",
       "  \u001b[32m\"3.5\"\u001b[39m,\n",
       "  \u001b[32m\"3.6\"\u001b[39m,\n",
       "  \u001b[32m\"3.7\"\u001b[39m,\n",
       "  \u001b[32m\"4.1\"\u001b[39m,\n",
       "  \u001b[32m\"4.2\"\u001b[39m,\n",
       "  \u001b[32m\"4.3\"\u001b[39m,\n",
       "  \u001b[32m\"4.4\"\u001b[39m,\n",
       "  \u001b[32m\"4.5\"\u001b[39m,\n",
       "  \u001b[32m\"4.6\"\u001b[39m,\n",
       "  \u001b[32m\"4.7\"\u001b[39m,\n",
       "  \u001b[32m\"4.8\"\u001b[39m,\n",
       "  \u001b[32m\"4.9\"\u001b[39m,\n",
       "...\n",
       "\u001b[36mengPsgs\u001b[39m: \u001b[32mVector\u001b[39m[\u001b[32mString\u001b[39m] = \u001b[33mVector\u001b[39m(\n",
       "  \u001b[32m\"1.head\"\u001b[39m,\n",
       "  \u001b[32m\"1.1\"\u001b[39m,\n",
       "  \u001b[32m\"1.2\"\u001b[39m,\n",
       "  \u001b[32m\"1.3\"\u001b[39m,\n",
       "  \u001b[32m\"1.4\"\u001b[39m,\n",
       "  \u001b[32m\"1.5\"\u001b[39m,\n",
       "  \u001b[32m\"1.6\"\u001b[39m,\n",
       "  \u001b[32m\"1.7\"\u001b[39m,\n",
       "  \u001b[32m\"1.8\"\u001b[39m,\n",
       "  \u001b[32m\"1.9\"\u001b[39m,\n",
       "  \u001b[32m\"1.10\"\u001b[39m,\n",
       "  \u001b[32m\"1.11\"\u001b[39m,\n",
       "  \u001b[32m\"1.12\"\u001b[39m,\n",
       "  \u001b[32m\"1.13\"\u001b[39m,\n",
       "  \u001b[32m\"1.14\"\u001b[39m,\n",
       "  \u001b[32m\"2.1\"\u001b[39m,\n",
       "  \u001b[32m\"2.2\"\u001b[39m,\n",
       "  \u001b[32m\"2.3\"\u001b[39m,\n",
       "  \u001b[32m\"2.4\"\u001b[39m,\n",
       "  \u001b[32m\"2.5\"\u001b[39m,\n",
       "  \u001b[32m\"2.6\"\u001b[39m,\n",
       "  \u001b[32m\"2.7\"\u001b[39m,\n",
       "  \u001b[32m\"3.1\"\u001b[39m,\n",
       "  \u001b[32m\"3.2\"\u001b[39m,\n",
       "  \u001b[32m\"3.3\"\u001b[39m,\n",
       "  \u001b[32m\"3.4\"\u001b[39m,\n",
       "  \u001b[32m\"3.5\"\u001b[39m,\n",
       "  \u001b[32m\"3.6\"\u001b[39m,\n",
       "  \u001b[32m\"3.7\"\u001b[39m,\n",
       "  \u001b[32m\"4.1\"\u001b[39m,\n",
       "  \u001b[32m\"4.2\"\u001b[39m,\n",
       "  \u001b[32m\"4.3\"\u001b[39m,\n",
       "  \u001b[32m\"4.4\"\u001b[39m,\n",
       "  \u001b[32m\"4.5\"\u001b[39m,\n",
       "  \u001b[32m\"4.6\"\u001b[39m,\n",
       "  \u001b[32m\"4.7\"\u001b[39m,\n",
       "  \u001b[32m\"4.8\"\u001b[39m,\n",
       "  \u001b[32m\"4.9\"\u001b[39m,\n",
       "..."
      ]
     },
     "execution_count": 9,
     "metadata": {},
     "output_type": "execute_result"
    }
   ],
   "source": [
    "val grcPsgs = grcCorp.urns.map(_.collapsePassageTo(2).passageComponent)\n",
    "val engPsgs = engCorp.urns.map(_.collapsePassageTo(2).passageComponent)"
   ]
  },
  {
   "cell_type": "code",
   "execution_count": 10,
   "metadata": {},
   "outputs": [],
   "source": [
    "assert( grcPsgs.diff(engPsgs).size == 0)\n",
    "assert(engPsgs.distinct.diff(grcPsgs).size == 0)"
   ]
  },
  {
   "cell_type": "markdown",
   "metadata": {},
   "source": [
    "## Divide Both Corpora into Chunks of Equal Size"
   ]
  },
  {
   "cell_type": "markdown",
   "metadata": {},
   "source": [
    "This is a tail-recursive function that will do that:"
   ]
  },
  {
   "cell_type": "code",
   "execution_count": 11,
   "metadata": {},
   "outputs": [
    {
     "data": {
      "text/plain": [
       "defined \u001b[32mfunction\u001b[39m \u001b[36mequalSize\u001b[39m"
      ]
     },
     "execution_count": 11,
     "metadata": {},
     "output_type": "execute_result"
    }
   ],
   "source": [
    "def equalSize( corp: Corpus, target: Int = 5000 ): Vector[Corpus] = {\n",
    "\t\t// This is the tail-recursive bit…\n",
    "\t\t// 'resultCorpusVec' is the \"accumulator\"\n",
    "\t\t// 'whatsLeft' is the unprocessed part of the original Corpus\n",
    "\t\t// 'target' is the number of chars we want to aim for\n",
    "\t\tdef recurseEqualSize( resultCorpusVec: Vector[Corpus], whatsLeft: Corpus, target: Int): Vector[Corpus] = {\n",
    "\n",
    "\t\t\t// First, we see the size of the latest Corpus in the list\n",
    "\t\t\t//\t\tWe start with an empty accumulator, so we need to check for that possibility\n",
    "\t\t\tval workingCorpusSize: Int = {\n",
    "\t\t\t\tif (resultCorpusVec.size == 0) 0\n",
    "\t\t\t\telse {\n",
    "\t\t\t\t\t// Take the last Corpus in the list; count its characters.\n",
    "\t\t\t\t\tresultCorpusVec.last.nodes.map(_.text).mkString.size\n",
    "\t\t\t\t}\n",
    "\t\t\t}\n",
    "\n",
    "\t\t\t/* Three possibilities…\n",
    "\t\t \t\t Case 1. There is only one CitableNode left in whatsLeft\n",
    "\t\t \t\t Case 2. We've just met the target\n",
    "\t\t \t\t Case 3. We haven't met the target\n",
    "\t\t\t*/\n",
    "\t\t\tif ( whatsLeft.size == 1) { \n",
    "\t\t\t\t// Case 1: Add it and recurse\n",
    "\t\t\t\tval newResultVec: Vector[Corpus] = resultCorpusVec :+ whatsLeft\n",
    "\t\t\t\tnewResultVec\n",
    "\t\t\t} else if (workingCorpusSize >= target) { \n",
    "\t\t\t\t// Case 2: Recurse with an empty final Corpus as the '.lates' in results\n",
    "\t\t\t\tval emptyNewCorpus: Corpus = Corpus(Vector[CitableNode]())\n",
    "\t\t\t\tval newResultVec: Vector[Corpus] = resultCorpusVec :+ emptyNewCorpus\n",
    "\t\t\t\trecurseEqualSize( newResultVec, whatsLeft, target)\n",
    "\t\t\t} else {\n",
    "\t\t\t\t// Case 3: Add one more node to the latest Corpus, recurse\n",
    "\t\t\t\tval workingCorpus: Corpus = {\n",
    "\t\t\t\t\t// The very first time through, we'll have an empty Corpus, so check for this\n",
    "\t\t\t\t\tif ( resultCorpusVec.size == 0 ) {\n",
    "\t\t\t\t\t\tCorpus(Vector[CitableNode]())\n",
    "\t\t\t\t\t} else {\n",
    "\t\t\t\t\t\tresultCorpusVec.last\t\n",
    "\t\t\t\t\t}\n",
    "\t\t\t\t}\n",
    "\t\t\t\t// All the untreated citable nodes…\n",
    "\t\t\t\tval poolNodes: Vector[CitableNode] = whatsLeft.nodes\n",
    "\t\t\t\t// Add the next node to our working corpus\n",
    "\t\t\t\tval expandedCorp: Corpus = workingCorpus ++ Corpus(Vector(poolNodes.head))\n",
    "\t\t\t\t// Remove that node from whatsLeft\n",
    "\t\t\t\tval newWhatsLeft: Corpus = Corpus(poolNodes.tail)\n",
    "\t\t\t\t// Add the new version of the working corpus to results\n",
    "\t\t\t\tval newResultCorpusVec: Vector[Corpus] = resultCorpusVec.dropRight(1) :+ expandedCorp\n",
    "\t\t\t\t// Recurse!\n",
    "\t\t\t\trecurseEqualSize( newResultCorpusVec, newWhatsLeft, target)\n",
    "\t\t\t}\n",
    "\t\t}\n",
    "\n",
    "\t\t// Invoke the recursive function for the first time.\n",
    "\t\tval answer: Vector[Corpus] = recurseEqualSize( Vector[Corpus](), corp, target)\n",
    "\t\tanswer\n",
    "\t}"
   ]
  },
  {
   "cell_type": "markdown",
   "metadata": {},
   "source": [
    "A function for setting up a CEX file…"
   ]
  },
  {
   "cell_type": "code",
   "execution_count": 12,
   "metadata": {},
   "outputs": [
    {
     "data": {
      "text/plain": [
       "defined \u001b[32mfunction\u001b[39m \u001b[36mmakeCexTop\u001b[39m\n",
       "defined \u001b[32mfunction\u001b[39m \u001b[36mmakeCexTop\u001b[39m"
      ]
     },
     "execution_count": 12,
     "metadata": {},
     "output_type": "execute_result"
    }
   ],
   "source": [
    "def makeCexTop( urns: Vector[CtsUrn], cat: Catalog ): String = {\n",
    "    val cexTop: String = \"\"\"\n",
    "#!cexversion\n",
    "3.0\n",
    "\n",
    "#!citelibrary\n",
    "name#CEX library\n",
    "urn#urn:cite2:cex:TEMPCOLL.TEMPVERSION:TEMP_ID\n",
    "license#CC 3.0 NC-BY\n",
    "\n",
    "#!ctscatalog\n",
    "urn#citationScheme#groupName#workTitle#versionLabel#exemplarLabel#online#lang\"\"\"\n",
    "    \n",
    "    val cexLines: String = {\n",
    "        urns.map( u => cat.entriesForUrn(u).map( _.cex(\"#\") )).flatten.mkString(\"\\n\")\n",
    "    }\n",
    "    \n",
    "    cexTop + \"\\n\" + cexLines + \"\\n\\n#!ctsdata\\n\"\n",
    "}\n",
    "\n",
    "def makeCexTop( urn: CtsUrn, cat: Catalog ): String = {\n",
    "    makeCexTop( Vector(urn), cat)\n",
    "}"
   ]
  },
  {
   "cell_type": "code",
   "execution_count": 13,
   "metadata": {},
   "outputs": [
    {
     "data": {
      "text/plain": [
       "\u001b[36mres12\u001b[39m: \u001b[32mString\u001b[39m = \u001b[32m\"\"\"\n",
       "#!cexversion\n",
       "3.0\n",
       "\n",
       "#!citelibrary\n",
       "name#CEX library\n",
       "urn#urn:cite2:cex:TEMPCOLL.TEMPVERSION:TEMP_ID\n",
       "license#CC 3.0 NC-BY\n",
       "\n",
       "#!ctscatalog\n",
       "urn#citationScheme#groupName#workTitle#versionLabel#exemplarLabel#online#lang\n",
       "urn:cts:greekLit:tlg0086.tlg034.fyfe_fu:#section/subsection#Aristotle#Poetics#W.H. Fyfe, trans. 1932##true#eng\n",
       "urn:cts:greekLit:tlg0086.tlg034.bekker_fu:#section/subsection#Aristotle#Poetics#Bekker, 1837##true#grc\n",
       "\n",
       "#!ctsdata\n",
       "\"\"\"\u001b[39m"
      ]
     },
     "execution_count": 13,
     "metadata": {},
     "output_type": "execute_result"
    }
   ],
   "source": [
    "makeCexTop(urn, cat)"
   ]
  },
  {
   "cell_type": "markdown",
   "metadata": {},
   "source": [
    "## Actual Chunking"
   ]
  },
  {
   "cell_type": "markdown",
   "metadata": {},
   "source": [
    "We'll do the Greek first, and then use that as a map to get an aligned English."
   ]
  },
  {
   "cell_type": "code",
   "execution_count": 14,
   "metadata": {},
   "outputs": [
    {
     "data": {
      "text/plain": [
       "\u001b[36mgrcChunks\u001b[39m: \u001b[32mVector\u001b[39m[\u001b[32mCorpus\u001b[39m] = \u001b[33mVector\u001b[39m(\n",
       "  \u001b[33mCorpus\u001b[39m(\n",
       "    \u001b[33mVector\u001b[39m(\n",
       "      \u001b[33mCitableNode\u001b[39m(\n",
       "        \u001b[33mCtsUrn\u001b[39m(\u001b[32m\"urn:cts:greekLit:tlg0086.tlg034.bekker_fu:1.head\"\u001b[39m),\n",
       "        \u001b[32m\"\\u03a0\\u0395\\u03a1\\u0399 \\u03a0\\u039f\\u0399\\u0397\\u03a4\\u0399\\u039a\\u0397\\u03a3.\"\u001b[39m\n",
       "      ),\n",
       "      \u001b[33mCitableNode\u001b[39m(\n",
       "        \u001b[33mCtsUrn\u001b[39m(\u001b[32m\"urn:cts:greekLit:tlg0086.tlg034.bekker_fu:1.1\"\u001b[39m),\n",
       "        \u001b[32m\"\\u03a0\\u03b5\\u03c1\\u03b9 \\u03c0\\u03bf\\u03b9\\u03b7\\u03c4\\u03b9\\u03ba\\u1fc6\\u03c2 \\u03b1\\u1f50\\u03c4\\u1fc6\\u03c2 \\u03c4\\u03b5 \\u03ba\\u03b1\\u1f76 \\u03c4\\u1ff6\\u03bd \\u03b5\\u1f30\\u03b4\\u1ff6\\u03bd \\u03b1\\u1f50\\u03c4\\u1fc6\\u03c2, \\u1f25\\u03bd \\u03c4\\u03b9\\u03bd\\u03b1 \\u03b4\\u1f7b\\u03bd\\u03b1\\u03bc\\u03b9\\u03bd \\u1f15\\u03ba\\u03b1\\u03c3\\u03c4\\u03bf\\u03bd \\u1f14\\u03c7\\u03b5\\u03b9, \\u03ba\\u03b1\\u1f76 \\u03c0\\u1ff6\\u03c2 \\u03b4\\u03b5\\u1fd6 \\u03c3\\u03c5\\u03bd\\u1f77\\u03c3\\u03c4\\u03b1\\u03c3\\u03b8\\u03b1\\u03b9 \\u03c4\\u03bf\\u1f7a\\u03c2 \\u03bc\\u1f7b\\u03b8\\u03bf\\u03c5\\u03c2, \\u03b5\\u1f30 \\u03bc\\u1f73\\u03bb\\u03bb\\u03b5\\u03b9 \\u03ba\\u03b1\\u03bb\\u1ff6\\u03c2 \\u1f15\\u03be\\u03b5\\u03b9\\u03bd \\u1f21 \\u03c0\\u03bf\\u1f77\\u03b7\\u03c3\\u03b9\\u03c2, \\u1f14\\u03c4\\u03b9 \\u03b4\\u1f72 \\u1f10\\u03ba \\u03c0\\u1f79\\u03c3\\u03c9\\u03bd \\u03ba\\u03b1\\u1f76 \\u03c0\\u03bf\\u1f77\\u03c9\\u03bd \\u1f10\\u03c3\\u03c4\\u1f76 \\u03bc\\u03bf\\u03c1\\u1f77\\u03c9\\u03bd, \\u1f41\\u03bc\\u03bf\\u1f77\\u03c9\\u03c2 \\u03b4\\u1f72 \\u03ba\\u03b1\\u1f76 \\u03c0\\u03b5\\u03c1\\u1f76 \\u03c4\\u1ff6\\u03bd \\u1f04\\u03bb\\u03bb\\u03c9\\u03bd \\u1f45\\u03c3\\u03b1 \\u03c4\\u1fc6\\u03c2 \\u03b1\\u1f50\\u03c4\\u1fc6\\u03c2 \\u1f10\\u03c3\\u03c4\\u1f76 \\u03bc\\u03b5\\u03b8\\u1f79\\u03b4\\u03bf\\u03c5, \\u03bb\\u1f73\\u03b3\\u03c9\\u03bc\\u03b5\\u03bd, \\u1f00\\u03c1\\u03be\\u1f71\\u03bc\\u03b5\\u03bd\\u03bf\\u03b9 \\u03ba\\u03b1\\u03c4\\u1f70 \\u03c6\\u1f7b\\u03c3\\u03b9\\u03bd \\u03c0\\u03c1\\u1ff6\\u03c4\\u03bf\\u03bd \\u1f00\\u03c0\\u1f78 \\u03c4\\u1ff6\\u03bd \\u03c0\\u03c1\\u1f7d\\u03c4\\u03c9\\u03bd.\"\u001b[39m\n",
       "      ),\n",
       "      \u001b[33mCitableNode\u001b[39m(\n",
       "        \u001b[33mCtsUrn\u001b[39m(\u001b[32m\"urn:cts:greekLit:tlg0086.tlg034.bekker_fu:1.2\"\u001b[39m),\n",
       "        \u001b[32m\"\\u1f18\\u03c0\\u03bf\\u03c0\\u03bf\\u03b9\\u1f77\\u03b1 \\u03b4\\u1f74 \\u03ba\\u03b1\\u1f76 \\u1f21 \\u03c4\\u1fc6\\u03c2 \\u03c4\\u03c1\\u03b1\\u03b3\\u1ff3\\u03b4\\u1f77\\u03b1\\u03c2 \\u03c0\\u03bf\\u1f77\\u03b7\\u03c3\\u03b9\\u03c2, \\u1f14\\u03c4\\u03b9 \\u03b4\\u1f72 \\u03ba\\u03c9\\u03bc\\u1ff3\\u03b4\\u1f77\\u03b1 \\u03ba\\u03b1\\u1f76 \\u1f21 \\u03b4\\u03b9\\u03b8\\u03c5\\u03c1\\u03b1\\u03bc\\u03b2\\u03bf\\u03c0\\u03bf\\u03b9\\u03b7\\u03c4\\u03b9\\u03ba\\u1f74 \\u03ba\\u03b1\\u1f76 \\u03c4\\u1fc6\\u03c2 \\u03b1\\u1f50\\u03bb\\u03b7\\u03c4\\u03b9\\u03ba\\u1fc6\\u03c2 \\u1f21 \\u03c0\\u03bb\\u03b5\\u1f77\\u03c3\\u03c4\\u03b\u001b[39m..."
      ]
     },
     "execution_count": 14,
     "metadata": {},
     "output_type": "execute_result"
    }
   ],
   "source": [
    "val grcChunks: Vector[Corpus] = equalSize(grcCorp, 5000)"
   ]
  },
  {
   "cell_type": "markdown",
   "metadata": {},
   "source": [
    "Now can can map the English corpus:"
   ]
  },
  {
   "cell_type": "code",
   "execution_count": 15,
   "metadata": {},
   "outputs": [
    {
     "data": {
      "text/plain": [
       "\u001b[36mengChunks\u001b[39m: \u001b[32mVector\u001b[39m[\u001b[32mCorpus\u001b[39m] = \u001b[33mVector\u001b[39m(\n",
       "  \u001b[33mCorpus\u001b[39m(\n",
       "    \u001b[33mVector\u001b[39m(\n",
       "      \u001b[33mCitableNode\u001b[39m(\n",
       "        \u001b[33mCtsUrn\u001b[39m(\u001b[32m\"urn:cts:greekLit:tlg0086.tlg034.fyfe_fu:1.head\"\u001b[39m),\n",
       "        \u001b[32m\"Poetics\"\u001b[39m\n",
       "      ),\n",
       "      \u001b[33mCitableNode\u001b[39m(\n",
       "        \u001b[33mCtsUrn\u001b[39m(\u001b[32m\"urn:cts:greekLit:tlg0086.tlg034.fyfe_fu:1.1\"\u001b[39m),\n",
       "        \u001b[32m\"Let us here deal with Poetry, its essence and its several species, with the characteristic function of each species and the way in which plots must be constructed if the poem is to be a success; and also with the number and character of the constituent parts of a poem, and similarly with all other matters proper to this same inquiry; and let us, as nature directs, begin first with first principles.\"\u001b[39m\n",
       "      ),\n",
       "      \u001b[33mCitableNode\u001b[39m(\n",
       "        \u001b[33mCtsUrn\u001b[39m(\u001b[32m\"urn:cts:greekLit:tlg0086.tlg034.fyfe_fu:1.2\"\u001b[39m),\n",
       "        \u001b[32m\"Epic poetry, then, and the poetry of tragic drama, and, moreover, comedy and dithyrambic poetry, and most flute-playing and harp-playing, these, speaking generally, may all be said to be \\\"representations of life.\\\"\"\u001b[39m\n",
       "      ),\n",
       "      \u001b[33mCitableNode\u001b[39m(\n",
       "        \u001b[33mCtsUrn\u001b[39m(\u001b[32m\"urn:cts:greekLit:tlg0086.tlg034.fyfe_fu:1.3\"\u001b[39m),\n",
       "        \u001b[32m\"But they differ one from another in three ways: either in using means generically different or in representing different objects or in representing objects not in the same way but in a different manner.\"\u001b[39m\n",
       "      ),\n",
       "      \u001b[33mCitableNode\u001b[39m(\n",
       "        \u001b[33mCtsUrn\u001b[39m(\u001b[32m\"urn:cts:greekLit:tlg0086.tlg034.fyfe_fu:1.4\"\u001b[39m),\n",
       "        \u001b[32m\"For just as by the use both of color and form people represent many objects, making likenesses of them\\u2014some having a knowledge of art and some working empirically\\u2014and just as others use the human voice; so is it also in the arts which we have mentioned, they all make their representations in rhythm and language and tune, using these means either separately or in combination.\"\u001b[39m\n",
       "      ),\n",
       "      \u001b[33mCitableNode\u001b[39m(\n",
       "        \u001b[33mCtsUrn\u001b[39m(\u001b[32m\"urn:cts:greekLit:tlg0086.tlg034.fyfe_fu:1.5\"\u001b[39m),\n",
       "        \u001b[32m\"For tune and rhythm alone are employed in flute-playing and harp-playin\u001b[39m..."
      ]
     },
     "execution_count": 15,
     "metadata": {},
     "output_type": "execute_result"
    }
   ],
   "source": [
    "val engChunks: Vector[Corpus] = {\n",
    "    grcChunks.map( gc => {\n",
    "        val reff = gc.compressReff(gc.urns)\n",
    "        engCorp ~~ reff.head.dropVersion\n",
    "    })\n",
    "}"
   ]
  },
  {
   "cell_type": "markdown",
   "metadata": {},
   "source": [
    "Some more validation:"
   ]
  },
  {
   "cell_type": "code",
   "execution_count": 16,
   "metadata": {},
   "outputs": [],
   "source": [
    "assert(grcChunks.size == engChunks.size)\n",
    "assert( grcChunks.head.urns.map(_.dropVersion).diff(engChunks.head.urns.map(_.dropVersion)).size == 0)"
   ]
  },
  {
   "cell_type": "markdown",
   "metadata": {},
   "source": [
    "## Construct Bilingual Corpora for Ducat"
   ]
  },
  {
   "cell_type": "markdown",
   "metadata": {},
   "source": [
    "We want to construct, from our data, a script to create DUCAT files for each chunk."
   ]
  },
  {
   "cell_type": "code",
   "execution_count": 27,
   "metadata": {},
   "outputs": [
    {
     "data": {
      "text/plain": [
       "\u001b[36mscript\u001b[39m: \u001b[32mString\u001b[39m = \u001b[32m\"\"\"\n",
       "    \n",
       "clearAll\n",
       "addText(\"v6\",\"1.head-4.3\")\n",
       "addText(\"v7\",\"1.head-4.3\")\n",
       "writeCex(\"aristotle_poetics0_1.head-4.3.cex\")\n",
       "\n",
       "\n",
       "\n",
       "    \n",
       "clearAll\n",
       "addText(\"v6\",\"4.4-6.5\")\n",
       "addText(\"v7\",\"4.4-6.5\")\n",
       "writeCex(\"aristotle_poetics1_4.4-6.5.cex\")\n",
       "\n",
       "\n",
       "\n",
       "    \n",
       "clearAll\n",
       "addText(\"v6\",\"6.6-7.12\")\n",
       "addText(\"v7\",\"6.6-7.12\")\n",
       "writeCex(\"aristotle_poetics2_6.6-7.12.cex\")\n",
       "\n",
       "\n",
       "\n",
       "    \n",
       "clearAll\n",
       "addText(\"v6\",\"8.1-11.5\")\n",
       "addText(\"v7\",\"8.1-11.5\")\n",
       "writeCex(\"aristotle_poetics3_8.1-11.5.cex\")\n",
       "\n",
       "\n",
       "\n",
       "    \n",
       "clearAll\n",
       "addText(\"v6\",\"11.6-14.5\")\n",
       "addText(\"v7\",\"11.6-14.5\")\n",
       "writeCex(\"aristotle_poetics4_11.6-14.5.cex\")\n",
       "\n",
       "\u001b[39m..."
      ]
     },
     "execution_count": 27,
     "metadata": {},
     "output_type": "execute_result"
    }
   ],
   "source": [
    "val script: String =  ( 0 until grcChunks.size ).map( c => {    val grc = grcChunks(c)\n",
    "    val eng = engChunks(c)\n",
    "    val grcPsg: String = {\n",
    "        val startPsg = grc.nodes.head.urn.passageComponent\n",
    "        val endPsg = grc.nodes.last.urn.passageComponent\n",
    "        s\"${startPsg}-${endPsg}\"\n",
    "    }\n",
    "   val engPsg: String = {\n",
    "        val startPsg = eng.nodes.head.urn.passageComponent\n",
    "        val endPsg = eng.nodes.last.urn.passageComponent\n",
    "        s\"${startPsg}-${endPsg}\"\n",
    "    }\n",
    "                                                            \n",
    "    s\"\"\"\n",
    "    \n",
    "clearAll\n",
    "addText(\"v6\",\"${grcPsg}\")\n",
    "addText(\"v7\",\"${engPsg}\")\n",
    "writeCex(\"aristotle_poetics${c}_${grcPsg}.cex\")\n",
    "\"\"\"                                                        \n",
    "    \n",
    "}).toVector.mkString(\"\\n\\n\")\n",
    "\n",
    "saveString(script,\"/Users/cblackwell/cite/scala/cexshop/\",\"aristotle_poetics.sc\")"
   ]
  },
  {
   "cell_type": "markdown",
   "metadata": {},
   "source": [
    "## Save Non-Tokenized Greek for Readers"
   ]
  },
  {
   "cell_type": "code",
   "execution_count": 28,
   "metadata": {},
   "outputs": [
    {
     "data": {
      "text/plain": [
       "\u001b[36mreaderCexTop\u001b[39m: \u001b[32mString\u001b[39m = \u001b[32m\"\"\"\n",
       "#!cexversion\n",
       "3.0\n",
       "\n",
       "#!citelibrary\n",
       "name#CEX library\n",
       "urn#urn:cite2:cex:TEMPCOLL.TEMPVERSION:TEMP_ID\n",
       "license#CC 3.0 NC-BY\n",
       "\n",
       "#!ctscatalog\n",
       "urn#citationScheme#groupName#workTitle#versionLabel#exemplarLabel#online#lang\n",
       "urn:cts:greekLit:tlg0086.tlg034.bekker_fu:#section/subsection#Aristotle#Poetics#Bekker, 1837##true#grc\n",
       "\n",
       "#!ctsdata\n",
       "\"\"\"\u001b[39m"
      ]
     },
     "execution_count": 28,
     "metadata": {},
     "output_type": "execute_result"
    }
   ],
   "source": [
    "val readerCexTop = makeCexTop(grcUrn, cat)"
   ]
  },
  {
   "cell_type": "code",
   "execution_count": 37,
   "metadata": {},
   "outputs": [
    {
     "data": {
      "text/plain": [
       "\u001b[36mparseScript\u001b[39m: \u001b[32mString\u001b[39m = \u001b[32m\"\"\"\n",
       "    \n",
       "clearAll\n",
       "addText(\"v6\",\"1.head-4.3\")\n",
       "\n",
       "writeCex(\"parsable_aristotle_poetics0.cex\")\n",
       "\n",
       "\n",
       "\n",
       "    \n",
       "clearAll\n",
       "addText(\"v6\",\"4.4-6.5\")\n",
       "\n",
       "writeCex(\"parsable_aristotle_poetics1.cex\")\n",
       "\n",
       "\n",
       "\n",
       "    \n",
       "clearAll\n",
       "addText(\"v6\",\"6.6-7.12\")\n",
       "\n",
       "writeCex(\"parsable_aristotle_poetics2.cex\")\n",
       "\n",
       "\n",
       "\n",
       "    \n",
       "clearAll\n",
       "addText(\"v6\",\"8.1-11.5\")\n",
       "\n",
       "writeCex(\"parsable_aristotle_poetics3.cex\")\n",
       "\n",
       "\n",
       "\n",
       "    \n",
       "clearAll\n",
       "addText(\"v6\",\"11.6-14.5\")\n",
       "\n",
       "writeCex(\"parsable_aristotle_poetics4.cex\")\n",
       "\n",
       "\u001b[39m..."
      ]
     },
     "execution_count": 37,
     "metadata": {},
     "output_type": "execute_result"
    }
   ],
   "source": [
    "val parseScript: String =  ( 0 until grcChunks.size ).map( c => {    val grc = grcChunks(c)\n",
    "    val grcPsg: String = {\n",
    "        val startPsg = grc.nodes.head.urn.passageComponent\n",
    "        val endPsg = grc.nodes.last.urn.passageComponent\n",
    "        s\"${startPsg}-${endPsg}\"\n",
    "    }\n",
    "                                                            \n",
    "    s\"\"\"\n",
    "    \n",
    "clearAll\n",
    "addText(\"v6\",\"${grcPsg}\")\n",
    "\n",
    "writeCex(\"parsable_aristotle_poetics${c}.cex\")\n",
    "\"\"\"                                                        \n",
    "    \n",
    "}).toVector.mkString(\"\\n\\n\")\n",
    "\n",
    "saveString(parseScript,\"/Users/cblackwell/cite/scala/cexshop/\",\"parsable_aristotle_poetics.sc\")"
   ]
  },
  {
   "cell_type": "code",
   "execution_count": 30,
   "metadata": {},
   "outputs": [
    {
     "data": {
      "text/plain": [
       "\u001b[36mres29\u001b[39m: \u001b[32mString\u001b[39m = \u001b[32m\"\"\"urn:cts:greekLit:tlg0086.tlg034.bekker_fu:1.head#ΠΕΡΙ ΠΟΙΗΤΙΚΗΣ.\n",
       "urn:cts:greekLit:tlg0086.tlg034.bekker_fu:1.1#Περι ποιητικῆς αὐτῆς τε καὶ τῶν εἰδῶν αὐτῆς, ἥν τινα δύναμιν ἕκαστον ἔχει, καὶ πῶς δεῖ συνίστασθαι τοὺς μύθους, εἰ μέλλει καλῶς ἕξειν ἡ ποίησις, ἔτι δὲ ἐκ πόσων καὶ ποίων ἐστὶ μορίων, ὁμοίως δὲ καὶ περὶ τῶν ἄλλων ὅσα τῆς αὐτῆς ἐστὶ μεθόδου, λέγωμεν, ἀρξάμενοι κατὰ φύσιν πρῶτον ἀπὸ τῶν πρώτων.\n",
       "urn:cts:greekLit:tlg0086.tlg034.bekker_fu:1.2#Ἐποποιία δὴ καὶ ἡ τῆς τραγῳδίας ποίησις, ἔτι δὲ κωμῳδία καὶ ἡ διθυραμβοποιητικὴ καὶ τῆς αὐλητικῆς ἡ πλείστη καὶ κιθαριστικῆς, πᾶσαι τυγχάνουσιν οὖσαι μιμήσεις τὸ σύνολον.\n",
       "urn:cts:greekLit:tlg0086.tlg034.bekker_fu:1.3#Διαφέρουσι δὲ ἀλλήλων τρισίν· ἢ γὰρ τῷ γένει ἑτέροις μιμεῖσθαι, ἢ τῷ ἕτερα, ἢ τῷ ἑτέρως καὶ μὴ τὸν αὐτὸν τρόπον.\n",
       "urn:cts:greekLit:tlg0086.tlg034.bekker_fu:1.4#Ὥσπερ γὰρ καὶ χρώμασι καὶ σχήμασι πολλὰ μιμοῦνταί τινες ἀπεικάζοντες, οἱ μὲν διὰ τέχνης οἱ δὲ διὰ συνηθείας, ἕτεροι δὲ διὰ τῆς φωνῆς, οὕτω κἀν ταῖς εἰρημέναις τέχναις, ἅπασαι μὲν ποιοῦνται τὴν μίμησιν ἐν ῥυθμῷ καὶ λόγῳ καὶ ἁρμονίᾳ, τούτοις δ᾿ ἢ χωρὶς ἢ μεμιγμένοις,\n",
       "urn:cts:greekLit:tlg0086.tlg034.bekker_fu:1.5#οἷον ἁρμονίᾳ μὲν καὶ ῥυθμῷ χρώμεναι μόνον ἥ τε αὐλητικὴ καὶ ἡ κιθαριστική, κἂν εἴ τινες ἕτεραι τυγχάνωσιν οὖσαι τοιαῦται τὴν δύναμιν, οἷον ἡ τῶν συρίγγων.\n",
       "urn:cts:greekLit:tlg0086.tlg034.bekker_fu:1.6#Αὐτῷ δὲ τῷ ῥυθμῷ μιμοῦνται χωρὶς ἁρμονίας οἱ τῶν ὀρχηστῶν· καὶ γὰρ οὗτοι διὰ τῶν σχηματιζομένων ῥυθμῶν μιμοῦνται καὶ ἤθη καὶ πάθη καὶ πράξεις.\n",
       "urn:cts:greekLit:tlg0086.tlg034.bekker_fu:1.7#Ἡ δὲ ἐποποιία μόνον τοῖς λόγοις ψιλοῖς ἢ τοῖς μέτροις, καὶ τούτοις εἴτε μιγνῦσα μετ᾿ ἀλλήλων, εἴθ᾿ ἑνί τινι γένει χρωμένη τῶν μέτρων τυγχάνουσα  μέχρι τοῦ νῦν.\n",
       "urn:cts:greekLit:tlg0086.tlg034.bekker_fu:1.8#Οὐδὲν γὰρ ἂν ἔχοιμεν ὀνομάσαι κοινὸν τοὺς Σώφρονος καὶ Ξενάρχου μίμους καὶ τοὺς Σωκρατικοὺς λόγους,\n",
       "urn:cts:greekLit:tlg0086.tlg034.bekker_fu:1.9#οὐδὲ εἴ τις διὰ τριμέτρων ἢ ἐλεγείων ἢ τῶν ἄλλων τινῶν τῶν τοιούτων ποιοῖτο τὴν μίμησιν·\n",
       "urn:cts:greekLit:tlg0086.tlg034.bekker_fu:1.10#πλὴν οἱ ἄνθρωποί γε συνάπτοντες τῷ μέτρῳ τὸ ποιεῖν ἐλεγειοποιοὺς τοὺς δὲ ἐποποιοὺς ὀνομάζουσιν, οὐχ ὡς τοὺς κατὰ μίμησιν ποιητὰς ἀλλὰ κοινῇ κατὰ τὸ μέτρον προσαγορεύοντες.\n",
       "urn:cts:greekLit:tlg0086.tlg034.bekker_fu:1.11#Καὶ γὰρ ἂν ἰατρικὸν ἢ μουσικόν τι διὰ τῶν μέτρων ἐκφέρωσιν, οὕτω καλεῖν εἰώθασιν. Οὐδὲν δὲ κοινόν ἐστιν Ὁμήρῳ καὶ Ἐμπεδοκλεῖ πλὴν τὸ μέτρον· διὸ τὸν μὲν ποιητὴν δίκαιον καλεῖν, τὸν δὲ φυσιολόγου μᾶλλον ἢ ποιητήν.\n",
       "urn:cts:greekLit:tlg0086.tlg034.bekker_fu:1.12#Ὁμοίως δὲ κἂν εἴ τις ἅπαντα τὰ μέτρα μιγνύων ποιοῖτο τὴν μίμησιν, καθάπερ Χαιρήμων ἐποίησε Κένταυρον μικτὴν ῥαψῳδίαν ἐξ ἁπάντων τῶν μέτρων, οὐκ ἤδη καὶ ποιητὴν προσαγορευτέον. Περὶ μὲν οὖν τούτων διωρίσθω τοῦτον τὸν τρόπον.\n",
       "\u001b[39m..."
      ]
     },
     "execution_count": 30,
     "metadata": {},
     "output_type": "execute_result"
    }
   ],
   "source": []
  },
  {
   "cell_type": "code",
   "execution_count": null,
   "metadata": {},
   "outputs": [],
   "source": []
  }
 ],
 "metadata": {
  "kernel_info": {
   "name": "scala"
  },
  "kernelspec": {
   "display_name": "Scala",
   "language": "scala",
   "name": "scala"
  },
  "language_info": {
   "codemirror_mode": "text/x-scala",
   "file_extension": ".scala",
   "mimetype": "text/x-scala",
   "name": "scala",
   "nbconvert_exporter": "script",
   "version": "2.12.10"
  },
  "nteract": {
   "version": "0.15.0"
  }
 },
 "nbformat": 4,
 "nbformat_minor": 2
}
