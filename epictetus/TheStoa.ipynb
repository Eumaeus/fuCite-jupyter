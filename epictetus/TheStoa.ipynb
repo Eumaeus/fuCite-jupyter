{
 "cells": [
  {
   "cell_type": "markdown",
   "metadata": {},
   "source": [
    "# Validate a CEX File"
   ]
  },
  {
   "cell_type": "markdown",
   "metadata": {},
   "source": [
    "## Configuring CITE libraries for almond kernel\n",
    "\n",
    "First, we'll make a bintray repository with CITE libraries available to your almond kernel."
   ]
  },
  {
   "cell_type": "code",
   "execution_count": 1,
   "metadata": {},
   "outputs": [
    {
     "data": {
      "text/plain": [
       "\u001b[36mmyBT\u001b[39m: \u001b[32mcoursierapi\u001b[39m.\u001b[32mMavenRepository\u001b[39m = MavenRepository(https://dl.bintray.com/neelsmith/maven)"
      ]
     },
     "execution_count": 1,
     "metadata": {},
     "output_type": "execute_result"
    }
   ],
   "source": [
    "val myBT = coursierapi.MavenRepository.of(\"https://dl.bintray.com/neelsmith/maven\")\n",
    "interp.repositories() ++= Seq(myBT)"
   ]
  },
  {
   "cell_type": "markdown",
   "metadata": {},
   "source": [
    "Next, we bring in specific libraries from the new repository using almond's `$ivy` magic:"
   ]
  },
  {
   "cell_type": "code",
   "execution_count": 1,
   "metadata": {},
   "outputs": [
    {
     "name": "stderr",
     "output_type": "stream",
     "text": [
      "Downloading https://repo1.maven.org/maven2/edu/holycross/shot/ohco2_2.13/10.16.0/ohco2_2.13-10.16.0.pom\n",
      "Downloaded https://repo1.maven.org/maven2/edu/holycross/shot/ohco2_2.13/10.16.0/ohco2_2.13-10.16.0.pom\n",
      "Downloading https://repo1.maven.org/maven2/edu/holycross/shot/ohco2_2.13/10.16.0/ohco2_2.13-10.16.0.pom.sha1\n",
      "Downloaded https://repo1.maven.org/maven2/edu/holycross/shot/ohco2_2.13/10.16.0/ohco2_2.13-10.16.0.pom.sha1\n",
      "Downloading https://dl.bintray.com/neelsmith/maven/edu/holycross/shot/ohco2_2.13/10.16.0/ohco2_2.13-10.16.0.pom\n",
      "Downloaded https://dl.bintray.com/neelsmith/maven/edu/holycross/shot/ohco2_2.13/10.16.0/ohco2_2.13-10.16.0.pom\n",
      "Downloading https://dl.bintray.com/neelsmith/maven/edu/holycross/shot/ohco2_2.13/10.16.0/ohco2_2.13-10.16.0.pom.sha1\n",
      "Downloaded https://dl.bintray.com/neelsmith/maven/edu/holycross/shot/ohco2_2.13/10.16.0/ohco2_2.13-10.16.0.pom.sha1\n",
      "Failed to resolve ivy dependencies:Error downloading edu.holycross.shot:ohco2_2.13:10.16.0\n",
      "  not found: /Users/cblackwell/.ivy2/local/edu.holycross.shot/ohco2_2.13/10.16.0/ivys/ivy.xml\n",
      "  not found: https://repo1.maven.org/maven2/edu/holycross/shot/ohco2_2.13/10.16.0/ohco2_2.13-10.16.0.pom\n",
      "  not found: https://dl.bintray.com/neelsmith/maven/edu/holycross/shot/ohco2_2.13/10.16.0/ohco2_2.13-10.16.0.pom"
     ]
    },
    {
     "ename": "",
     "evalue": "",
     "output_type": "error",
     "traceback": [
      "Failed to resolve ivy dependencies:Error downloading edu.holycross.shot:ohco2_2.13:10.16.0\n  not found: /Users/cblackwell/.ivy2/local/edu.holycross.shot/ohco2_2.13/10.16.0/ivys/ivy.xml\n  not found: https://repo1.maven.org/maven2/edu/holycross/shot/ohco2_2.13/10.16.0/ohco2_2.13-10.16.0.pom\n  not found: https://dl.bintray.com/neelsmith/maven/edu/holycross/shot/ohco2_2.13/10.16.0/ohco2_2.13-10.16.0.pom"
     ]
    }
   ],
   "source": [
    "import $ivy.`edu.holycross.shot::ohco2:10.16.0`\n",
    "import $ivy.`edu.holycross.shot.cite::xcite:4.1.1`\n",
    "import $ivy.`edu.holycross.shot::scm:7.2.0`\n",
    "import $ivy.`edu.holycross.shot::dse:5.2.2`\n",
    "import $ivy.`edu.holycross.shot::citebinaryimage:3.1.1`\n",
    "import $ivy.`edu.holycross.shot::citeobj:7.3.4`\n",
    "import $ivy.`edu.holycross.shot::citerelations:2.5.2`\n",
    "import $ivy.`edu.holycross.shot::cex:6.3.3`"
   ]
  },
  {
   "cell_type": "markdown",
   "metadata": {},
   "source": [
    "## Imports\n",
    "\n",
    "From this point on, your notebook consists of completely generic Scala, with the CITE Libraries available to use.\n"
   ]
  },
  {
   "cell_type": "code",
   "execution_count": null,
   "metadata": {},
   "outputs": [],
   "source": [
    "// Import some CITE libraries\n",
    "import edu.holycross.shot.cite._\n",
    "import edu.holycross.shot.ohco2._\n",
    "import edu.holycross.shot.scm._\n",
    "import edu.holycross.shot.citeobj._\n",
    "import edu.holycross.shot.citerelation._\n",
    "import edu.holycross.shot.dse._\n",
    "import edu.holycross.shot.citebinaryimage._\n",
    "import edu.holycross.shot.ohco2._\n",
    "\n",
    "import almond.display.UpdatableDisplay\n",
    "import almond.interpreter.api.DisplayData.ContentType\n",
    "import almond.interpreter.api.{DisplayData, OutputHandler}\n",
    "\n",
    "import java.io.File\n",
    "import java.io.PrintWriter\n",
    "\n",
    "import scala.io.Source\n",
    "\n"
   ]
  },
  {
   "cell_type": "markdown",
   "metadata": {},
   "source": [
    "### Useful Functions"
   ]
  },
  {
   "cell_type": "markdown",
   "metadata": {},
   "source": [
    "Easily write a String to file:"
   ]
  },
  {
   "cell_type": "code",
   "execution_count": null,
   "metadata": {},
   "outputs": [],
   "source": [
    "def saveString(s:String, filePath:String = \"\", fileName:String = \"temp.txt\"):Unit = {\n",
    "\t\t val writer = new PrintWriter(new File(s\"${filePath}${fileName}\"))\n",
    "         writer.write(s)\n",
    "         writer.close()\n",
    "\t}"
   ]
  },
  {
   "cell_type": "markdown",
   "metadata": {},
   "source": [
    "Given a path to a CEX file, return an `Option[Corpus]`. This lets us drill right down through a potentially complex CITE Library and get just the texts."
   ]
  },
  {
   "cell_type": "code",
   "execution_count": null,
   "metadata": {},
   "outputs": [],
   "source": [
    "def corpusFromCex(cexPath: String): Option[Corpus] = {\n",
    "    val lib: CiteLibrary = CiteLibrarySource.fromFile(cexPath)\n",
    "    lib.textRepository match {\n",
    "        case Some(tr) => Some(tr.corpus)\n",
    "        case None => None\n",
    "    }\n",
    "}"
   ]
  },
  {
   "cell_type": "markdown",
   "metadata": {},
   "source": [
    "A useful function for printing out collections, vectors, etc."
   ]
  },
  {
   "cell_type": "code",
   "execution_count": null,
   "metadata": {},
   "outputs": [],
   "source": [
    "def showMe(v:Any):Unit = {\n",
    "  v match {\n",
    "    case _:StringHistogram => {\n",
    "        val toStringVec: Vector[String] = v.asInstanceOf[StringHistogram].histogram.map( h => {\n",
    "            h.toString\n",
    "        })\n",
    "        println(s\"\"\"\\n----\\n${toStringVec.mkString(\"\\n\")}\\n----\\n\"\"\")\n",
    "    }\n",
    "    case _:Vector[Any] => println(s\"\"\"\\n----\\n${v.asInstanceOf[Vector[Any]].mkString(\"\\n\")}\\n----\\n\"\"\")\n",
    "    case _:Iterable[Any] => println(s\"\"\"\\n----\\n${v.asInstanceOf[Iterable[Any]].mkString(\"\\n\")}\\n----\\n\"\"\")\n",
    "    case _ => println(s\"\\n-----\\n${v}\\n----\\n\")\n",
    "  }\n",
    "}"
   ]
  },
  {
   "cell_type": "markdown",
   "metadata": {},
   "source": [
    "## Load Corpora"
   ]
  },
  {
   "cell_type": "markdown",
   "metadata": {},
   "source": [
    "We want to work with two versions of the *Encheiridion*: \n",
    "\n",
    "- The Greek text\n",
    "- A lemmatized version of the Greek text\n",
    "\n",
    "So let's load them now. We will make **three** `Corpus` objects. One for each of the versions, and one with both versions in the same Corpus"
   ]
  },
  {
   "cell_type": "code",
   "execution_count": null,
   "metadata": {},
   "outputs": [],
   "source": [
    "val epicGrkFilePath = \"epictetus_encheiridion_greek_edition.cex\"\n",
    "val epicLemFilePath = \"epictetus_encheiridion_greek_lemmatized.cex\"\n",
    "\n",
    "// Now we turn these into Corpus-objects.\n",
    "// We will assume that the CEX files are present and correct… if anything goes wrong, we'll get an exception\n",
    "\n",
    "// corpusFromCex returns an Option[Corpus], so we take a chance and `.get` the results\n",
    "\n",
    "val epicGrk: Corpus = {\n",
    "    corpusFromCex(epicGrkFilePath).get \n",
    "}\n",
    "\n",
    "val epicLem: Corpus = {\n",
    "    corpusFromCex(epicLemFilePath).get \n",
    "}\n",
    "\n",
    "\n",
    "val epicAll: Corpus = {\n",
    "    epicGrk ++ epicLem\n",
    "}\n",
    "\n",
    "/* But let's throw a little test in here */\n",
    "\n",
    "val grkSize: Int = epicGrk.size\n",
    "val lemSize: Int = epicLem.size\n",
    "val allSize: Int = epicAll.size\n",
    "\n",
    "assert( grkSize == lemSize )\n",
    "assert ( (grkSize + lemSize) == allSize )\n"
   ]
  },
  {
   "cell_type": "markdown",
   "metadata": {},
   "source": [
    "## How to find N-Grams\n",
    "\n",
    "We can use the [OHCO2](https://cite-architecture.github.io/cite-api-docs/ohco2/api/edu/holycross/shot/ohco2/index.html) library to do n-gram queries on our Corpus-objects.\n",
    "\n",
    "In the first example, we will look for N-Grams in the Greek text."
   ]
  },
  {
   "cell_type": "code",
   "execution_count": null,
   "metadata": {},
   "outputs": [],
   "source": [
    "val n: Int = 3 // number of words in a pattern\n",
    "val t: Int = 2 // occurring more than this many times in the Corpus\n",
    "\n",
    "val ngh: StringHistogram = epicGrk.ngramHisto(n, t)\n",
    "\n",
    "// Pretty-print the result\n",
    "showMe(ngh)"
   ]
  },
  {
   "cell_type": "markdown",
   "metadata": {},
   "source": [
    "The next example will show how to get a list of unique words, by frequency. We do this, simply, by using the same method but asking for \"1-grams\". We'll use a high threshold, for this example, so as not to make the list too long."
   ]
  },
  {
   "cell_type": "code",
   "execution_count": null,
   "metadata": {},
   "outputs": [],
   "source": [
    "val n: Int = 1 // number of words in a pattern\n",
    "val t: Int = 400 // occurring more than this many times in the Corpus\n",
    "\n",
    "val ngh: StringHistogram = epicGrk.ngramHisto(n, t)\n",
    "\n",
    "// Pretty-print the result\n",
    "showMe(ngh)"
   ]
  },
  {
   "cell_type": "markdown",
   "metadata": {},
   "source": [
    "Let's compare vocabulary in the first half of the *Encheiridion* with vocabulary in the second half."
   ]
  },
  {
   "cell_type": "code",
   "execution_count": null,
   "metadata": {},
   "outputs": [],
   "source": [
    "// We get two Corpuses, splitting the Greek text in half\n",
    "\n",
    "val firstHalf: Corpus = {\n",
    "    // We define the half with a citation\n",
    "    val urn: CtsUrn = CtsUrn(\"urn:cts:greekLit:tlg0557.tlg002.perseus-grc1:1-26\")\n",
    "    // We make a new Corpus by \"twiddling\" the Greek text\n",
    "    epicGrk ~~ urn\n",
    "}\n",
    "\n",
    "val secondHalf: Corpus = {\n",
    "    // We define the half with a citation\n",
    "    val urn: CtsUrn = CtsUrn(\"urn:cts:greekLit:tlg0557.tlg002.perseus-grc1:27-53\")\n",
    "    // We make a new Corpus by \"twiddling\" the Greek text\n",
    "    epicGrk ~~ urn\n",
    "}\n",
    "\n",
    "// We get full vocabulary for both\n",
    "\n",
    "val n: Int = 1 // number of words in a pattern\n",
    "val t: Int = 0 // occurring more than this many times in the Corpus\n",
    "\n",
    "val histo1: StringHistogram = firstHalf.ngramHisto(n, t)\n",
    "val histo2: StringHistogram = secondHalf.ngramHisto(n, t)\n",
    "\n",
    "// Let's map those so we just have the words. We don't need the counts right now.\n",
    "\n",
    "val vocab1: Vector[String] = histo1.histogram.map(_.s)\n",
    "val vocab2: Vector[String] = histo2.histogram.map(_.s)\n"
   ]
  },
  {
   "cell_type": "markdown",
   "metadata": {},
   "source": [
    "Now that we have that data, we can ask questions of it."
   ]
  },
  {
   "cell_type": "code",
   "execution_count": null,
   "metadata": {},
   "outputs": [],
   "source": [
    "// Comparing sizes\n",
    "\n",
    "println(s\"First Half: ${vocab1.size} unique words\")\n",
    "println(s\"Second Half: ${vocab2.size} unique words\")\n",
    "\n",
    "// Comparing the 100 most frequent words\n",
    "\n",
    "val mf1: Vector[String] = vocab1.take(100)\n",
    "val mf2: Vector[String] = vocab2.take(100)\n",
    "\n",
    "showMe(mf1.diff(mf2)) // will show words that mf1 has, but mf2 does not have\n",
    "\n",
    "showMe(mf2.diff(mf1)) // will show words that mf2 has, but mf1 does not have\n",
    "\n",
    "\n",
    "/* .diff can be confusing. Here is a very simple example. */\n",
    "\n",
    "val t1 = Vector(1,2,3,4,5,6)\n",
    "\n",
    "val t2 = Vector(4,5,6,7,8)\n",
    "\n",
    "showMe(t1.diff(t2))\n",
    "\n",
    "showMe(t2.diff(t1))\n"
   ]
  },
  {
   "cell_type": "code",
   "execution_count": null,
   "metadata": {},
   "outputs": [],
   "source": []
  }
 ],
 "metadata": {
  "kernelspec": {
   "display_name": "Scala",
   "language": "scala",
   "name": "scala"
  },
  "language_info": {
   "codemirror_mode": "text/x-scala",
   "file_extension": ".sc",
   "mimetype": "text/x-scala",
   "name": "scala",
   "nbconvert_exporter": "script",
   "version": "2.13.3"
  }
 },
 "nbformat": 4,
 "nbformat_minor": 2
}
