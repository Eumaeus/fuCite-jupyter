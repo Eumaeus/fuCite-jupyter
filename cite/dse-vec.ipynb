{
 "cells": [
  {
   "cell_type": "markdown",
   "metadata": {},
   "source": [
    "# Loading a DSE Vector\n",
    "\n",
    "\n"
   ]
  },
  {
   "cell_type": "markdown",
   "metadata": {},
   "source": [
    "## Configuring CITE libraries for almond kernel\n",
    "\n",
    "First, we'll make a bintray repository with CITE libraries available to your almond kernel."
   ]
  },
  {
   "cell_type": "code",
   "execution_count": 1,
   "metadata": {},
   "outputs": [
    {
     "data": {
      "text/plain": [
       "\u001b[36mmyBT\u001b[39m: \u001b[32mcoursierapi\u001b[39m.\u001b[32mMavenRepository\u001b[39m = MavenRepository(https://dl.bintray.com/neelsmith/maven)"
      ]
     },
     "execution_count": 1,
     "metadata": {},
     "output_type": "execute_result"
    }
   ],
   "source": [
    "val myBT = coursierapi.MavenRepository.of(\"https://dl.bintray.com/neelsmith/maven\")\n",
    "interp.repositories() ++= Seq(myBT)"
   ]
  },
  {
   "cell_type": "markdown",
   "metadata": {},
   "source": [
    "Next, we bring in specific libraries from the new repository using almond's `$ivy` magic:"
   ]
  },
  {
   "cell_type": "code",
   "execution_count": 2,
   "metadata": {},
   "outputs": [
    {
     "name": "stderr",
     "output_type": "stream",
     "text": [
      "Downloading https://dl.bintray.com/neelsmith/maven/edu/holycross/shot/citebinaryimage_2.12/3.1.0/citebinaryimage_2.12-3.1.0-sources.jar\n",
      "Downloaded https://dl.bintray.com/neelsmith/maven/edu/holycross/shot/citebinaryimage_2.12/3.1.0/citebinaryimage_2.12-3.1.0-sources.jar\n"
     ]
    },
    {
     "data": {
      "text/plain": [
       "\u001b[32mimport \u001b[39m\u001b[36m$ivy.$                                  \n",
       "\u001b[39m\n",
       "\u001b[32mimport \u001b[39m\u001b[36m$ivy.$                                     \n",
       "\u001b[39m\n",
       "\u001b[32mimport \u001b[39m\u001b[36m$ivy.$                              \n",
       "\u001b[39m\n",
       "\u001b[32mimport \u001b[39m\u001b[36m$ivy.$                              \n",
       "\u001b[39m\n",
       "\u001b[32mimport \u001b[39m\u001b[36m$ivy.$                                          \n",
       "\u001b[39m\n",
       "\u001b[32mimport \u001b[39m\u001b[36m$ivy.$                                  \n",
       "\u001b[39m\n",
       "\u001b[32mimport \u001b[39m\u001b[36m$ivy.$                                        \n",
       "\u001b[39m\n",
       "\u001b[32mimport \u001b[39m\u001b[36m$ivy.$                              \n",
       "\u001b[39m"
      ]
     },
     "execution_count": 2,
     "metadata": {},
     "output_type": "execute_result"
    }
   ],
   "source": [
    "import $ivy.`edu.holycross.shot::ohco2:10.16.0`\n",
    "import $ivy.`edu.holycross.shot.cite::xcite:4.1.1`\n",
    "import $ivy.`edu.holycross.shot::scm:7.2.0`\n",
    "import $ivy.`edu.holycross.shot::dse:5.2.2`\n",
    "import $ivy.`edu.holycross.shot::citebinaryimage:3.1.0`\n",
    "import $ivy.`edu.holycross.shot::citeobj:7.3.4`\n",
    "import $ivy.`edu.holycross.shot::citerelations:2.5.2`\n",
    "import $ivy.`edu.holycross.shot::cex:6.3.3`\n"
   ]
  },
  {
   "cell_type": "markdown",
   "metadata": {},
   "source": [
    "## Imports\n",
    "\n",
    "From this point on, your notebook consists of completely generic Scala, with the CITE Libraries available to use."
   ]
  },
  {
   "cell_type": "code",
   "execution_count": 3,
   "metadata": {},
   "outputs": [
    {
     "data": {
      "text/plain": [
       "\u001b[32mimport \u001b[39m\u001b[36medu.holycross.shot.cite._\n",
       "\u001b[39m\n",
       "\u001b[32mimport \u001b[39m\u001b[36medu.holycross.shot.ohco2._\n",
       "\u001b[39m\n",
       "\u001b[32mimport \u001b[39m\u001b[36medu.holycross.shot.scm._\n",
       "\u001b[39m\n",
       "\u001b[32mimport \u001b[39m\u001b[36medu.holycross.shot.citeobj._\n",
       "\u001b[39m\n",
       "\u001b[32mimport \u001b[39m\u001b[36medu.holycross.shot.citerelation._\n",
       "\u001b[39m\n",
       "\u001b[32mimport \u001b[39m\u001b[36medu.holycross.shot.dse._\n",
       "\u001b[39m\n",
       "\u001b[32mimport \u001b[39m\u001b[36medu.holycross.shot.ohco2._\n",
       "\n",
       "\u001b[39m"
      ]
     },
     "execution_count": 3,
     "metadata": {},
     "output_type": "execute_result"
    }
   ],
   "source": [
    "// Import some CITE libraries\n",
    "import edu.holycross.shot.cite._\n",
    "import edu.holycross.shot.ohco2._\n",
    "import edu.holycross.shot.scm._\n",
    "import edu.holycross.shot.citeobj._\n",
    "import edu.holycross.shot.citerelation._\n",
    "import edu.holycross.shot.dse._\n",
    "import edu.holycross.shot.ohco2._\n",
    "\n"
   ]
  },
  {
   "cell_type": "markdown",
   "metadata": {},
   "source": [
    "## Load a CEX File"
   ]
  },
  {
   "cell_type": "code",
   "execution_count": 5,
   "metadata": {},
   "outputs": [
    {
     "name": "stderr",
     "output_type": "stream",
     "text": [
      "Dec 22, 2019 11:21:32 AM wvlet.log.Logger log\n",
      "INFO: Building text repo from cex ...\n",
      "Dec 22, 2019 11:21:33 AM wvlet.log.Logger log\n",
      "INFO: Building collection repo from cex ...\n",
      "Dec 22, 2019 11:21:46 AM wvlet.log.Logger log\n",
      "INFO: Building relations from cex ...\n",
      "Dec 22, 2019 11:21:46 AM wvlet.log.Logger log\n",
      "INFO: All library components built.\n"
     ]
    },
    {
     "data": {
      "text/plain": [
       "\u001b[36mcexPath\u001b[39m: \u001b[32mString\u001b[39m = \u001b[32m\"https://raw.githubusercontent.com/cite-architecture/codicography/master/cex/hmt-test.cex\"\u001b[39m\n",
       "\u001b[36mlib\u001b[39m: \u001b[32mCiteLibrary\u001b[39m = \u001b[33mCiteLibrary\u001b[39m(\n",
       "  \u001b[32m\"Homer Multitext project, release 2019, 1, RC 1\"\u001b[39m,\n",
       "  \u001b[33mCite2Urn\u001b[39m(\u001b[32m\"urn:cite2:hmt:publications.cex.2018_1_rc1:all\"\u001b[39m),\n",
       "  \u001b[32m\"Creative Commons Attribution, Non-Commercial 4.0 License <https://creativecommons.org/licenses/by-nc/4.0/>.\"\u001b[39m,\n",
       "  \u001b[33mVector\u001b[39m(\n",
       "    \u001b[33mCiteNamespace\u001b[39m(\u001b[32m\"hmt\"\u001b[39m, http://www.homermultitext.org/citens/hmt),\n",
       "    \u001b[33mCiteNamespace\u001b[39m(\u001b[32m\"greekLit\"\u001b[39m, http://chs.harvard.edu/ctsns/greekLit)\n",
       "  ),\n",
       "  \u001b[33mSome\u001b[39m(\n",
       "    \u001b[33mTextRepository\u001b[39m(\n",
       "      \u001b[33mCorpus\u001b[39m(\n",
       "        \u001b[33mVector\u001b[39m(\n",
       "          \u001b[33mCitableNode\u001b[39m(\n",
       "            \u001b[33mCtsUrn\u001b[39m(\u001b[32m\"urn:cts:greekLit:tlg0012.tlg001.msA:1.1\"\u001b[39m),\n",
       "            \u001b[32m\"\\u039c\\u1fc6\\u03bd\\u03b9\\u03bd \\u1f04\\u03b5\\u03b9\\u03b4\\u03b5 \\u03b8\\u03b5\\u1f70 \\u03a0\\u03b7\\u03bb\\u03b7\\u03ca\\u1f71\\u03b4\\u03b5\\u03c9 \\t\\t\\t\\t\\t\\t\\u1f08\\u03c7\\u03b9\\u03bb\\u1fc6\\u03bf\\u03c2\"\u001b[39m\n",
       "          ),\n",
       "          \u001b[33mCitableNode\u001b[39m(\n",
       "            \u001b[33mCtsUrn\u001b[39m(\u001b[32m\"urn:cts:greekLit:tlg0012.tlg001.msA:1.2\"\u001b[39m),\n",
       "            \u001b[32m\"\\u03bf\\u1f50\\u03bb\\u03bf\\u03bc\\u1f73\\u03bd\\u03b7\\u03bd\\u00b7 \\u1f21 \\u03bc\\u03c5\\u03c1\\u03af' \\u1f08\\u03c7\\u03b1\\u03b9\\u03bf\\u1fd6\\u03c2 \\u1f04\\u03bb\\u03b3\\u03b5' \\u1f14\\u03b8\\u03b7\\u03ba\\u03b5\\u03bd\\u00b7\"\u001b[39m\n",
       "          ),\n",
       "          \u001b[33mCitableNode\u001b[39m(\n",
       "            \u001b[33mCtsUrn\u001b[39m(\u001b[32m\"urn:cts:greekLit:tlg0012.tlg001.msA:1.3\"\u001b[39m),\n",
       "            \u001b[32m\"\\u03c0\\u03bf\\u03bb\\u03bb\\u1f70\\u03c2 \\u03b4' \\u1f30\\u03c6\\u03b8\\u03af\\u03bc\\u03bf\\u03c5\\u03c2 \\u03c8\\u03c5\\u03c7\\u1f70\\u03c2 \\u1f0c\\u03ca\\u03b4\\u03b9 \\u03c0\\u03c1\\u03bf\\u0390\\u03b1\\u03c8\\u03b5\\u03bd\"\u001b[39m\n",
       "          ),\n",
       "          \u001b[33mCitableNode\u001b[39m(\n",
       "            \u001b[33mCtsUrn\u001b[39m(\u001b[32m\"urn:cts:greekLit:tlg0012.tlg001.msA:1.4\"\u001b[39m),\n",
       "            \u001b[32m\"\\u1f21\\u03c1\\u1f7d\\u03c9\\u03bd\\u00b7 \\u03b1\\u1f50\\u03c4\\u03bf\\u1f7a\\u03c2 \\u03b4\\u1f72 \\u1f11\\u03bb\\u1f7d\\u03c1\\u03b9\\u03b1 \\u03c4\\u03b5\\u1fe6\\u03c7\\u03b5 \\u03ba\\u1f7b\\u03bd\\u03b5\\u03c3\\u03c3\\u03b9\\u03bd\"\u001b[39m\n",
       "          ),\n",
       "          \u001b[33mCitableNode\u001b[39m(\n",
       "            \u001b[33mCtsUrn\u001b[39m(\u001b[32m\"urn:cts:greekLit:tlg0012.tlg001.msA:1.5\"\u001b[39m),\n",
       "..."
      ]
     },
     "execution_count": 5,
     "metadata": {},
     "output_type": "execute_result"
    }
   ],
   "source": [
    "val cexPath = \"https://raw.githubusercontent.com/cite-architecture/codicography/master/cex/hmt-test.cex\"\n",
    "val lib = CiteLibrary(scala.io.Source.fromURL(cexPath).mkString)"
   ]
  },
  {
   "cell_type": "markdown",
   "metadata": {},
   "source": [
    "Get Parts of the Library for Easy Access"
   ]
  },
  {
   "cell_type": "code",
   "execution_count": 6,
   "metadata": {},
   "outputs": [
    {
     "data": {
      "text/html": [
       "<div class=\"jp-RenderedText\">\n",
       "<pre><code><span style=\"color: rgb(0, 187, 187)\"><span class=\"ansi-cyan-fg\">tr</span></span>: <span style=\"color: rgb(0, 187, 0)\"><span class=\"ansi-green-fg\">TextRepository</span></span> = <span style=\"color: white\"><span class=\"ansi-white-fg\">[lazy]</span></span>\n",
       "<span style=\"color: rgb(0, 187, 187)\"><span class=\"ansi-cyan-fg\">corp</span></span>: <span style=\"color: rgb(0, 187, 0)\"><span class=\"ansi-green-fg\">Corpus</span></span> = <span style=\"color: white\"><span class=\"ansi-white-fg\">[lazy]</span></span>\n",
       "<span style=\"color: rgb(0, 187, 187)\"><span class=\"ansi-cyan-fg\">cat</span></span>: <span style=\"color: rgb(0, 187, 0)\"><span class=\"ansi-green-fg\">Catalog</span></span> = <span style=\"color: white\"><span class=\"ansi-white-fg\">[lazy]</span></span>\n",
       "<span style=\"color: rgb(0, 187, 187)\"><span class=\"ansi-cyan-fg\">colls</span></span>: <span style=\"color: rgb(0, 187, 0)\"><span class=\"ansi-green-fg\">CiteCollectionRepository</span></span> = <span style=\"color: white\"><span class=\"ansi-white-fg\">[lazy]</span></span>\n",
       "<span style=\"color: rgb(0, 187, 187)\"><span class=\"ansi-cyan-fg\">rels</span></span>: <span style=\"color: rgb(0, 187, 0)\"><span class=\"ansi-green-fg\">CiteRelationSet</span></span> = <span style=\"color: white\"><span class=\"ansi-white-fg\">[lazy]</span></span></code></pre>\n",
       "</div>"
      ],
      "text/plain": [
       "\u001b[36mtr\u001b[39m: \u001b[32mTextRepository\u001b[39m = \u001b[37m[lazy]\u001b[39m\n",
       "\u001b[36mcorp\u001b[39m: \u001b[32mCorpus\u001b[39m = \u001b[37m[lazy]\u001b[39m\n",
       "\u001b[36mcat\u001b[39m: \u001b[32mCatalog\u001b[39m = \u001b[37m[lazy]\u001b[39m\n",
       "\u001b[36mcolls\u001b[39m: \u001b[32mCiteCollectionRepository\u001b[39m = \u001b[37m[lazy]\u001b[39m\n",
       "\u001b[36mrels\u001b[39m: \u001b[32mCiteRelationSet\u001b[39m = \u001b[37m[lazy]\u001b[39m"
      ]
     },
     "metadata": {},
     "output_type": "display_data"
    }
   ],
   "source": [
    "lazy val tr: TextRepository = lib.textRepository.get\n",
    "lazy val corp: Corpus = tr.corpus\n",
    "lazy val cat: Catalog = tr.catalog\n",
    "lazy val colls: CiteCollectionRepository = lib.collectionRepository.get\n",
    "lazy val rels: CiteRelationSet = lib.relationSet.get"
   ]
  },
  {
   "cell_type": "markdown",
   "metadata": {},
   "source": [
    "Get a DSE Vector"
   ]
  },
  {
   "cell_type": "code",
   "execution_count": 7,
   "metadata": {},
   "outputs": [
    {
     "data": {
      "text/plain": [
       "\u001b[36mdseVec\u001b[39m: \u001b[32mDseVector\u001b[39m = \u001b[33mDseVector\u001b[39m(\n",
       "  \u001b[33mVector\u001b[39m(\n",
       "    \u001b[33mDsePassage\u001b[39m(\n",
       "      \u001b[33mCite2Urn\u001b[39m(\u001b[32m\"urn:cite2:hmt:va_dse.v1:il2168\"\u001b[39m),\n",
       "      \u001b[32m\"DSE record for Iliad 4.217\"\u001b[39m,\n",
       "      \u001b[33mCtsUrn\u001b[39m(\u001b[32m\"urn:cts:greekLit:tlg0012.tlg001.msA:4.217\"\u001b[39m),\n",
       "      \u001b[33mCite2Urn\u001b[39m(\n",
       "        \u001b[32m\"urn:cite2:hmt:vaimg.2017a:VA055VN_0557@0.4865,0.3644,0.3954,0.0391\"\u001b[39m\n",
       "      ),\n",
       "      \u001b[33mCite2Urn\u001b[39m(\u001b[32m\"urn:cite2:hmt:msA.v1:55v\"\u001b[39m)\n",
       "    ),\n",
       "    \u001b[33mDsePassage\u001b[39m(\n",
       "      \u001b[33mCite2Urn\u001b[39m(\u001b[32m\"urn:cite2:hmt:va_dse.v1:il11826\"\u001b[39m),\n",
       "      \u001b[32m\"DSE record for Iliad 18.529\"\u001b[39m,\n",
       "      \u001b[33mCtsUrn\u001b[39m(\u001b[32m\"urn:cts:greekLit:tlg0012.tlg001.msA:18.529\"\u001b[39m),\n",
       "      \u001b[33mCite2Urn\u001b[39m(\n",
       "        \u001b[32m\"urn:cite2:hmt:vaimg.2017a:VA249RN_0420@0.19,0.6589,0.427,0.0331\"\u001b[39m\n",
       "      ),\n",
       "      \u001b[33mCite2Urn\u001b[39m(\u001b[32m\"urn:cite2:hmt:msA.v1:249r\"\u001b[39m)\n",
       "    ),\n",
       "    \u001b[33mDsePassage\u001b[39m(\n",
       "      \u001b[33mCite2Urn\u001b[39m(\u001b[32m\"urn:cite2:hmt:va_dse.v1:il6005\"\u001b[39m),\n",
       "      \u001b[32m\"DSE record for Iliad 10.337\"\u001b[39m,\n",
       "      \u001b[33mCtsUrn\u001b[39m(\u001b[32m\"urn:cts:greekLit:tlg0012.tlg001.msA:10.337\"\u001b[39m),\n",
       "      \u001b[33mCite2Urn\u001b[39m(\n",
       "        \u001b[32m\"urn:cite2:hmt:vaimg.2017a:VA132VN_0635@0.485,0.4313,0.388,0.0278\"\u001b[39m\n",
       "      ),\n",
       "      \u001b[33mCite2Urn\u001b[39m(\u001b[32m\"urn:cite2:hmt:msA.v1:132v\"\u001b[39m)\n",
       "    ),\n",
       "    \u001b[33mDsePassage\u001b[39m(\n",
       "      \u001b[33mCite2Urn\u001b[39m(\u001b[32m\"urn:cite2:hmt:va_dse.v1:il16223\"\u001b[39m),\n",
       "      \u001b[32m\"DSE record for Iliad 16.32\"\u001b[39m,\n",
       "      \u001b[33mCtsUrn\u001b[39m(\u001b[32m\"urn:cts:greekLit:tlg0012.tlg001.msA:16.32\"\u001b[39m),\n",
       "      \u001b[33mCite2Urn\u001b[39m(\n",
       "        \u001b[32m\"urn:cite2:hmt:vaimg.2017a:VA206VN_0708@0.507,0.3441,0.406,0.0263\"\u001b[39m\n",
       "      ),\n",
       "      \u001b[33mCite2Urn\u001b[39m(\u001b[32m\"urn:cite2:hmt:msA.v1:206v\"\u001b[39m)\n",
       "    ),\n",
       "    \u001b[33mDsePassage\u001b[39m(\n",
       "..."
      ]
     },
     "execution_count": 7,
     "metadata": {},
     "output_type": "execute_result"
    }
   ],
   "source": [
    "val dseVec: DseVector = DseVector.fromCiteLibrary(lib)"
   ]
  },
  {
   "cell_type": "markdown",
   "metadata": {},
   "source": [
    "## Working with DSE"
   ]
  },
  {
   "cell_type": "code",
   "execution_count": 9,
   "metadata": {
    "collapsed": true
   },
   "outputs": [
    {
     "data": {
      "text/plain": [
       "\u001b[36msurfaceUrns\u001b[39m: \u001b[32mVector\u001b[39m[\u001b[32mCite2Urn\u001b[39m] = \u001b[33mVector\u001b[39m(\n",
       "  \u001b[33mCite2Urn\u001b[39m(\u001b[32m\"urn:cite2:hmt:msA.v1:55v\"\u001b[39m),\n",
       "  \u001b[33mCite2Urn\u001b[39m(\u001b[32m\"urn:cite2:hmt:msA.v1:249r\"\u001b[39m),\n",
       "  \u001b[33mCite2Urn\u001b[39m(\u001b[32m\"urn:cite2:hmt:msA.v1:132v\"\u001b[39m),\n",
       "  \u001b[33mCite2Urn\u001b[39m(\u001b[32m\"urn:cite2:hmt:msA.v1:206v\"\u001b[39m),\n",
       "  \u001b[33mCite2Urn\u001b[39m(\u001b[32m\"urn:cite2:hmt:msA.v1:141v\"\u001b[39m),\n",
       "  \u001b[33mCite2Urn\u001b[39m(\u001b[32m\"urn:cite2:hmt:msA.v1:157r\"\u001b[39m),\n",
       "  \u001b[33mCite2Urn\u001b[39m(\u001b[32m\"urn:cite2:hmt:msA.v1:248v\"\u001b[39m),\n",
       "  \u001b[33mCite2Urn\u001b[39m(\u001b[32m\"urn:cite2:hmt:msA.v1:176r\"\u001b[39m),\n",
       "  \u001b[33mCite2Urn\u001b[39m(\u001b[32m\"urn:cite2:hmt:msA.v1:234r\"\u001b[39m),\n",
       "  \u001b[33mCite2Urn\u001b[39m(\u001b[32m\"urn:cite2:hmt:msA.v1:261r\"\u001b[39m),\n",
       "  \u001b[33mCite2Urn\u001b[39m(\u001b[32m\"urn:cite2:hmt:msA.v1:271v\"\u001b[39m),\n",
       "  \u001b[33mCite2Urn\u001b[39m(\u001b[32m\"urn:cite2:hmt:msA.v1:38r\"\u001b[39m),\n",
       "  \u001b[33mCite2Urn\u001b[39m(\u001b[32m\"urn:cite2:hmt:msA.v1:22r\"\u001b[39m),\n",
       "  \u001b[33mCite2Urn\u001b[39m(\u001b[32m\"urn:cite2:hmt:msA.v1:104v\"\u001b[39m),\n",
       "  \u001b[33mCite2Urn\u001b[39m(\u001b[32m\"urn:cite2:hmt:msA.v1:319v\"\u001b[39m),\n",
       "  \u001b[33mCite2Urn\u001b[39m(\u001b[32m\"urn:cite2:hmt:msA.v1:20v\"\u001b[39m),\n",
       "  \u001b[33mCite2Urn\u001b[39m(\u001b[32m\"urn:cite2:hmt:msA.v1:34r\"\u001b[39m),\n",
       "  \u001b[33mCite2Urn\u001b[39m(\u001b[32m\"urn:cite2:hmt:msA.v1:153r\"\u001b[39m),\n",
       "  \u001b[33mCite2Urn\u001b[39m(\u001b[32m\"urn:cite2:hmt:msA.v1:168v\"\u001b[39m),\n",
       "  \u001b[33mCite2Urn\u001b[39m(\u001b[32m\"urn:cite2:hmt:msA.v1:96r\"\u001b[39m),\n",
       "  \u001b[33mCite2Urn\u001b[39m(\u001b[32m\"urn:cite2:hmt:msA.v1:70v\"\u001b[39m),\n",
       "  \u001b[33mCite2Urn\u001b[39m(\u001b[32m\"urn:cite2:hmt:msA.v1:311v\"\u001b[39m),\n",
       "  \u001b[33mCite2Urn\u001b[39m(\u001b[32m\"urn:cite2:hmt:msA.v1:92r\"\u001b[39m),\n",
       "  \u001b[33mCite2Urn\u001b[39m(\u001b[32m\"urn:cite2:hmt:msA.v1:289v\"\u001b[39m),\n",
       "  \u001b[33mCite2Urn\u001b[39m(\u001b[32m\"urn:cite2:hmt:msA.v1:145r\"\u001b[39m),\n",
       "  \u001b[33mCite2Urn\u001b[39m(\u001b[32m\"urn:cite2:hmt:msA.v1:34v\"\u001b[39m),\n",
       "  \u001b[33mCite2Urn\u001b[39m(\u001b[32m\"urn:cite2:hmt:msA.v1:14r\"\u001b[39m),\n",
       "  \u001b[33mCite2Urn\u001b[39m(\u001b[32m\"urn:cite2:hmt:msA.v1:22v\"\u001b[39m),\n",
       "  \u001b[33mCite2Urn\u001b[39m(\u001b[32m\"urn:cite2:hmt:msA.v1:92v\"\u001b[39m),\n",
       "  \u001b[33mCite2Urn\u001b[39m(\u001b[32m\"urn:cite2:hmt:msA.v1:15v\"\u001b[39m),\n",
       "  \u001b[33mCite2Urn\u001b[39m(\u001b[32m\"urn:cite2:hmt:msA.v1:116v\"\u001b[39m),\n",
       "  \u001b[33mCite2Urn\u001b[39m(\u001b[32m\"urn:cite2:hmt:msA.v1:178r\"\u001b[39m),\n",
       "  \u001b[33mCite2Urn\u001b[39m(\u001b[32m\"urn:cite2:hmt:msA.v1:12r\"\u001b[39m),\n",
       "  \u001b[33mCite2Urn\u001b[39m(\u001b[32m\"urn:cite2:hmt:msA.v1:113r\"\u001b[39m),\n",
       "  \u001b[33mCite2Urn\u001b[39m(\u001b[32m\"urn:cite2:hmt:msA.v1:107r\"\u001b[39m),\n",
       "  \u001b[33mCite2Urn\u001b[39m(\u001b[32m\"urn:cite2:hmt:msA.v1:207v\"\u001b[39m),\n",
       "  \u001b[33mCite2Urn\u001b[39m(\u001b[32m\"urn:cite2:hmt:msA.v1:104r\"\u001b[39m),\n",
       "  \u001b[33mCite2Urn\u001b[39m(\u001b[32m\"urn:cite2:hmt:msA.v1:192v\"\u001b[39m),\n",
       "..."
      ]
     },
     "execution_count": 9,
     "metadata": {},
     "output_type": "execute_result"
    }
   ],
   "source": [
    "val surfaceUrns: Vector[Cite2Urn] = dseVec.passages.map(_.surface).distinct"
   ]
  },
  {
   "cell_type": "code",
   "execution_count": null,
   "metadata": {},
   "outputs": [],
   "source": []
  }
 ],
 "metadata": {
  "kernel_info": {
   "name": "scala"
  },
  "kernelspec": {
   "display_name": "Scala",
   "language": "scala",
   "name": "scala"
  },
  "language_info": {
   "codemirror_mode": "text/x-scala",
   "file_extension": ".scala",
   "mimetype": "text/x-scala",
   "name": "scala",
   "nbconvert_exporter": "script",
   "version": "2.12.10"
  },
  "nteract": {
   "version": "0.15.0"
  }
 },
 "nbformat": 4,
 "nbformat_minor": 2
}
