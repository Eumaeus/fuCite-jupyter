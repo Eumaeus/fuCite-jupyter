{
 "cells": [
  {
   "cell_type": "markdown",
   "metadata": {},
   "source": [
    "# Loading a DSE Vector\n",
    "\n",
    "\n"
   ]
  },
  {
   "cell_type": "markdown",
   "metadata": {},
   "source": [
    "## Configuring CITE libraries for almond kernel\n",
    "\n",
    "First, we'll make a bintray repository with CITE libraries available to your almond kernel."
   ]
  },
  {
   "cell_type": "code",
   "execution_count": 51,
   "metadata": {},
   "outputs": [
    {
     "data": {
      "text/plain": [
       "\u001b[36mmyBT\u001b[39m: \u001b[32mcoursierapi\u001b[39m.\u001b[32mMavenRepository\u001b[39m = MavenRepository(https://dl.bintray.com/neelsmith/maven)"
      ]
     },
     "execution_count": 51,
     "metadata": {},
     "output_type": "execute_result"
    }
   ],
   "source": [
    "val myBT = coursierapi.MavenRepository.of(\"https://dl.bintray.com/neelsmith/maven\")\n",
    "interp.repositories() ++= Seq(myBT)"
   ]
  },
  {
   "cell_type": "markdown",
   "metadata": {},
   "source": [
    "Next, we bring in specific libraries from the new repository using almond's `$ivy` magic:"
   ]
  },
  {
   "cell_type": "code",
   "execution_count": 52,
   "metadata": {},
   "outputs": [
    {
     "data": {
      "text/plain": [
       "\u001b[32mimport \u001b[39m\u001b[36m$ivy.$                                  \n",
       "\u001b[39m\n",
       "\u001b[32mimport \u001b[39m\u001b[36m$ivy.$                                     \n",
       "\u001b[39m\n",
       "\u001b[32mimport \u001b[39m\u001b[36m$ivy.$                              \n",
       "\u001b[39m\n",
       "\u001b[32mimport \u001b[39m\u001b[36m$ivy.$                              \n",
       "\u001b[39m\n",
       "\u001b[32mimport \u001b[39m\u001b[36m$ivy.$                                          \n",
       "\u001b[39m\n",
       "\u001b[32mimport \u001b[39m\u001b[36m$ivy.$                                  \n",
       "\u001b[39m\n",
       "\u001b[32mimport \u001b[39m\u001b[36m$ivy.$                                        \n",
       "\u001b[39m\n",
       "\u001b[32mimport \u001b[39m\u001b[36m$ivy.$                              \n",
       "\u001b[39m"
      ]
     },
     "execution_count": 52,
     "metadata": {},
     "output_type": "execute_result"
    }
   ],
   "source": [
    "import $ivy.`edu.holycross.shot::ohco2:10.16.0`\n",
    "import $ivy.`edu.holycross.shot.cite::xcite:4.1.1`\n",
    "import $ivy.`edu.holycross.shot::scm:7.2.0`\n",
    "import $ivy.`edu.holycross.shot::dse:5.2.2`\n",
    "import $ivy.`edu.holycross.shot::citebinaryimage:3.1.1`\n",
    "import $ivy.`edu.holycross.shot::citeobj:7.3.4`\n",
    "import $ivy.`edu.holycross.shot::citerelations:2.5.2`\n",
    "import $ivy.`edu.holycross.shot::cex:6.3.3`\n"
   ]
  },
  {
   "cell_type": "markdown",
   "metadata": {},
   "source": [
    "## Imports\n",
    "\n",
    "From this point on, your notebook consists of completely generic Scala, with the CITE Libraries available to use."
   ]
  },
  {
   "cell_type": "code",
   "execution_count": 53,
   "metadata": {},
   "outputs": [
    {
     "data": {
      "text/plain": [
       "\u001b[32mimport \u001b[39m\u001b[36medu.holycross.shot.cite._\n",
       "\u001b[39m\n",
       "\u001b[32mimport \u001b[39m\u001b[36medu.holycross.shot.ohco2._\n",
       "\u001b[39m\n",
       "\u001b[32mimport \u001b[39m\u001b[36medu.holycross.shot.scm._\n",
       "\u001b[39m\n",
       "\u001b[32mimport \u001b[39m\u001b[36medu.holycross.shot.citeobj._\n",
       "\u001b[39m\n",
       "\u001b[32mimport \u001b[39m\u001b[36medu.holycross.shot.citerelation._\n",
       "\u001b[39m\n",
       "\u001b[32mimport \u001b[39m\u001b[36medu.holycross.shot.dse._\n",
       "\u001b[39m\n",
       "\u001b[32mimport \u001b[39m\u001b[36medu.holycross.shot.citebinaryimage._\n",
       "\u001b[39m\n",
       "\u001b[32mimport \u001b[39m\u001b[36medu.holycross.shot.ohco2._\n",
       "\n",
       "\u001b[39m\n",
       "\u001b[32mimport \u001b[39m\u001b[36malmond.display.UpdatableDisplay\n",
       "\u001b[39m\n",
       "\u001b[32mimport \u001b[39m\u001b[36malmond.interpreter.api.DisplayData.ContentType\n",
       "\u001b[39m\n",
       "\u001b[32mimport \u001b[39m\u001b[36malmond.interpreter.api.{DisplayData, OutputHandler}\n",
       "\n",
       "\u001b[39m\n",
       "\u001b[32mimport \u001b[39m\u001b[36mjava.io.File\n",
       "\u001b[39m\n",
       "\u001b[32mimport \u001b[39m\u001b[36mjava.io.PrintWriter\n",
       "\n",
       "\u001b[39m\n",
       "\u001b[32mimport \u001b[39m\u001b[36mscala.io.Source\n",
       "\u001b[39m"
      ]
     },
     "execution_count": 53,
     "metadata": {},
     "output_type": "execute_result"
    }
   ],
   "source": [
    "// Import some CITE libraries\n",
    "import edu.holycross.shot.cite._\n",
    "import edu.holycross.shot.ohco2._\n",
    "import edu.holycross.shot.scm._\n",
    "import edu.holycross.shot.citeobj._\n",
    "import edu.holycross.shot.citerelation._\n",
    "import edu.holycross.shot.dse._\n",
    "import edu.holycross.shot.citebinaryimage._\n",
    "import edu.holycross.shot.ohco2._\n",
    "\n",
    "import almond.display.UpdatableDisplay\n",
    "import almond.interpreter.api.DisplayData.ContentType\n",
    "import almond.interpreter.api.{DisplayData, OutputHandler}\n",
    "\n",
    "import java.io.File\n",
    "import java.io.PrintWriter\n",
    "\n",
    "import scala.io.Source\n"
   ]
  },
  {
   "cell_type": "markdown",
   "metadata": {},
   "source": [
    "## Useful Functions"
   ]
  },
  {
   "cell_type": "code",
   "execution_count": 54,
   "metadata": {},
   "outputs": [
    {
     "data": {
      "text/plain": [
       "defined \u001b[32mfunction\u001b[39m \u001b[36msaveString\u001b[39m"
      ]
     },
     "execution_count": 54,
     "metadata": {},
     "output_type": "execute_result"
    }
   ],
   "source": [
    "def saveString(s:String, filePath:String = \"\", fileName:String = \"temp.txt\"):Unit = {\n",
    "\t\t val writer = new PrintWriter(new File(s\"${filePath}${fileName}\"))\n",
    "         writer.write(s)\n",
    "         writer.close()\n",
    "\t}"
   ]
  },
  {
   "cell_type": "markdown",
   "metadata": {},
   "source": [
    "## Load a Template File"
   ]
  },
  {
   "cell_type": "markdown",
   "metadata": {},
   "source": [
    "Load it:"
   ]
  },
  {
   "cell_type": "code",
   "execution_count": 55,
   "metadata": {},
   "outputs": [
    {
     "data": {
      "text/plain": [
       "\u001b[36mfilePath\u001b[39m: \u001b[32mString\u001b[39m = \u001b[32m\"Odisseia_Christian.txt\"\u001b[39m\n",
       "\u001b[36mlines\u001b[39m: \u001b[32mVector\u001b[39m[\u001b[32mString\u001b[39m] = \u001b[33mVector\u001b[39m(\n",
       "  \u001b[32m\"ODISSEIA\"\u001b[39m,\n",
       "  \u001b[32m\"1\"\u001b[39m,\n",
       "  \u001b[32m\"Do var\\u00e3o me narra, Musa, do muitas-vias, que muito\"\u001b[39m,\n",
       "  \u001b[32m\"vagou ap\\u00f3s devastar a sacra cidade de Troia.\"\u001b[39m,\n",
       "  \u001b[32m\"De muitos homens viu urbes e a mente conheceu,\"\u001b[39m,\n",
       "  \u001b[32m\"e muitas afli\\u00e7\\u00f5es sofreu ele no mar, em seu \\u00e2nimo,\"\u001b[39m,\n",
       "  \u001b[32m\"5 tentando garantir sua vida e o retorno dos companheiros.\"\u001b[39m,\n",
       "  \u001b[32m\"Nem assim os companheiros socorreu, embora ansiasse:\"\u001b[39m,\n",
       "  \u001b[32m\"por iniquidade pr\\u00f3pria, a deles, pereceram,\"\u001b[39m,\n",
       "  \u001b[32m\"tolos, que as vacas de Sol Hip\\u00e9rion\"\u001b[39m,\n",
       "  \u001b[32m\"devoraram. Esse, por\\u00e9m, tirou-lhes o dia do retorno.\"\u001b[39m,\n",
       "  \u001b[32m\"10 De um ponto da\\u00ed, deusa, filha de Zeus, fala tamb\\u00e9m a n\\u00f3s.\"\u001b[39m,\n",
       "  \u001b[32m\"Os outros todos que escaparam do abrupto fim\"\u001b[39m,\n",
       "  \u001b[32m\"estavam em casa, ap\\u00f3s escapar da guerra e do mar.\"\u001b[39m,\n",
       "  \u001b[32m\"Somente a ele, do retorno privado e da mulher,\"\u001b[39m,\n",
       "  \u001b[32m\"detinha augusta ninfa, Calipso, deusa divina,\"\u001b[39m,\n",
       "  \u001b[32m\"15 em cava gruta, almejando que fosse seu esposo.\"\u001b[39m,\n",
       "  \u001b[32m\"Mas quando o ano chegou e os ciclos volveram-se,\"\u001b[39m,\n",
       "  \u001b[32m\"os deuses destinaram-lhe \\u00e0 casa retornar,\"\u001b[39m,\n",
       "  \u001b[32m\"rumo a \\u00cdtaca, e nem l\\u00e1 escapou de provas,\"\u001b[39m,\n",
       "  \u001b[32m\"e estava entre os seus. Os deuses se apiedavam, todos,\"\u001b[39m,\n",
       "  \u001b[32m\"20 salvo Pos\\u00eaidon. Incans\\u00e1vel, manteve a ira\"\u001b[39m,\n",
       "  \u001b[32m\"contra o excelso Odisseu at\\u00e9 esse em sua terra chegar.\"\u001b[39m,\n",
       "  \u001b[32m\"Por\\u00e9m aquele foi ter com et\\u00edopes, distantes moradores \\u2013\"\u001b[39m,\n",
       "  \u001b[32m\"et\\u00edopes, divididos em dois grupos, var\\u00f5es dos extremos:\"\u001b[39m,\n",
       "  \u001b[32m\"uns, onde Hip\\u00e9rion mergulha, outros, onde levanta \\u2013,\"\u001b[39m,\n",
       "  \u001b[32m\"25 para aceitar hecatombe de touros e carneiros.\"\u001b[39m,\n",
       "  \u001b[32m\"Nisso deleitava-se, sentado no banquete; e os outros,\"\u001b[39m,\n",
       "  \u001b[32m\"no pal\\u00e1cio de Zeus Ol\\u00edmpio, estavam reunidos.\"\u001b[39m,\n",
       "  \u001b[32m\"Entre eles tomou a palavra o pai de var\\u00f5es e deuses;\"\u001b[39m,\n",
       "  \u001b[32m\"lembrara-se, no \\u00e2nimo, do impec\\u00e1vel Egisto,\"\u001b[39m,\n",
       "  \u001b[32m\"30 a quem matou o filho de Agam\\u00eamnon, o afamado Orestes.\"\u001b[39m,\n",
       "  \u001b[32m\"Dele lembrou-se e entre os imortais palavras enunciou:\"\u001b[39m,\n",
       "  \u001b[32m\"\\u201cIncr\\u00edvel, n\\u00e3o \\u00e9 que os mortais responsabilizam aos deuses?\"\u001b[39m,\n",
       "  \u001b[32m\"Dizem de n\\u00f3s vir os males; mas eles tamb\\u00e9m por si mesmos,\"\u001b[39m,\n",
       "  \u001b[32m\"gra\\u00e7as a sua iniquidade, al\\u00e9m do quinh\\u00e3o t\\u00eam afli\\u00e7\\u00f5es,\"\u001b[39m,\n",
       "..."
      ]
     },
     "execution_count": 55,
     "metadata": {},
     "output_type": "execute_result"
    }
   ],
   "source": [
    "val filePath = s\"Odisseia_Christian.txt\"\n",
    "val lines: Vector[String] = {\n",
    "    scala.io.Source.fromFile(filePath).mkString.split(\"\\n\").toVector.filter( _.size > 0 )\n",
    "}"
   ]
  },
  {
   "cell_type": "markdown",
   "metadata": {},
   "source": [
    "Let's get rid of the title (the `.head` of the Vector), by asking for the `.tail` of the Vector.\n"
   ]
  },
  {
   "cell_type": "code",
   "execution_count": 56,
   "metadata": {},
   "outputs": [
    {
     "data": {
      "text/plain": [
       "\u001b[36mdropTitle\u001b[39m: \u001b[32mVector\u001b[39m[(\u001b[32mString\u001b[39m, \u001b[32mInt\u001b[39m)] = \u001b[33mVector\u001b[39m(\n",
       "  (\u001b[32m\"1\"\u001b[39m, \u001b[32m0\u001b[39m),\n",
       "  (\u001b[32m\"Do var\\u00e3o me narra, Musa, do muitas-vias, que muito\"\u001b[39m, \u001b[32m1\u001b[39m),\n",
       "  (\u001b[32m\"vagou ap\\u00f3s devastar a sacra cidade de Troia.\"\u001b[39m, \u001b[32m2\u001b[39m),\n",
       "  (\u001b[32m\"De muitos homens viu urbes e a mente conheceu,\"\u001b[39m, \u001b[32m3\u001b[39m),\n",
       "  (\u001b[32m\"e muitas afli\\u00e7\\u00f5es sofreu ele no mar, em seu \\u00e2nimo,\"\u001b[39m, \u001b[32m4\u001b[39m),\n",
       "  (\u001b[32m\"5 tentando garantir sua vida e o retorno dos companheiros.\"\u001b[39m, \u001b[32m5\u001b[39m),\n",
       "  (\u001b[32m\"Nem assim os companheiros socorreu, embora ansiasse:\"\u001b[39m, \u001b[32m6\u001b[39m),\n",
       "  (\u001b[32m\"por iniquidade pr\\u00f3pria, a deles, pereceram,\"\u001b[39m, \u001b[32m7\u001b[39m),\n",
       "  (\u001b[32m\"tolos, que as vacas de Sol Hip\\u00e9rion\"\u001b[39m, \u001b[32m8\u001b[39m),\n",
       "  (\u001b[32m\"devoraram. Esse, por\\u00e9m, tirou-lhes o dia do retorno.\"\u001b[39m, \u001b[32m9\u001b[39m),\n",
       "  (\n",
       "    \u001b[32m\"10 De um ponto da\\u00ed, deusa, filha de Zeus, fala tamb\\u00e9m a n\\u00f3s.\"\u001b[39m,\n",
       "    \u001b[32m10\u001b[39m\n",
       "  ),\n",
       "  (\u001b[32m\"Os outros todos que escaparam do abrupto fim\"\u001b[39m, \u001b[32m11\u001b[39m),\n",
       "  (\u001b[32m\"estavam em casa, ap\\u00f3s escapar da guerra e do mar.\"\u001b[39m, \u001b[32m12\u001b[39m),\n",
       "  (\u001b[32m\"Somente a ele, do retorno privado e da mulher,\"\u001b[39m, \u001b[32m13\u001b[39m),\n",
       "  (\u001b[32m\"detinha augusta ninfa, Calipso, deusa divina,\"\u001b[39m, \u001b[32m14\u001b[39m),\n",
       "  (\u001b[32m\"15 em cava gruta, almejando que fosse seu esposo.\"\u001b[39m, \u001b[32m15\u001b[39m),\n",
       "  (\u001b[32m\"Mas quando o ano chegou e os ciclos volveram-se,\"\u001b[39m, \u001b[32m16\u001b[39m),\n",
       "  (\u001b[32m\"os deuses destinaram-lhe \\u00e0 casa retornar,\"\u001b[39m, \u001b[32m17\u001b[39m),\n",
       "  (\u001b[32m\"rumo a \\u00cdtaca, e nem l\\u00e1 escapou de provas,\"\u001b[39m, \u001b[32m18\u001b[39m),\n",
       "  (\u001b[32m\"e estava entre os seus. Os deuses se apiedavam, todos,\"\u001b[39m, \u001b[32m19\u001b[39m),\n",
       "  (\u001b[32m\"20 salvo Pos\\u00eaidon. Incans\\u00e1vel, manteve a ira\"\u001b[39m, \u001b[32m20\u001b[39m),\n",
       "  (\u001b[32m\"contra o excelso Odisseu at\\u00e9 esse em sua terra chegar.\"\u001b[39m, \u001b[32m21\u001b[39m),\n",
       "  (\u001b[32m\"Por\\u00e9m aquele foi ter com et\\u00edopes, distantes moradores \\u2013\"\u001b[39m, \u001b[32m22\u001b[39m),\n",
       "  (\u001b[32m\"et\\u00edopes, divididos em dois grupos, var\\u00f5es dos extremos:\"\u001b[39m, \u001b[32m23\u001b[39m),\n",
       "  (\u001b[32m\"uns, onde Hip\\u00e9rion mergulha, outros, onde levanta \\u2013,\"\u001b[39m, \u001b[32m24\u001b[39m),\n",
       "  (\u001b[32m\"25 para aceitar hecatombe de touros e carneiros.\"\u001b[39m, \u001b[32m25\u001b[39m),\n",
       "  (\u001b[32m\"Nisso deleitava-se, sentado no banquete; e os outros,\"\u001b[39m, \u001b[32m26\u001b[39m),\n",
       "  (\u001b[32m\"no pal\\u00e1cio de Zeus Ol\\u00edmpio, estavam reunidos.\"\u001b[39m, \u001b[32m27\u001b[39m),\n",
       "  (\u001b[32m\"Entre eles tomou a palavra o pai de var\\u00f5es e deuses;\"\u001b[39m, \u001b[32m28\u001b[39m),\n",
       "  (\u001b[32m\"lembrara-se, no \\u00e2nimo, do impec\\u00e1vel Egisto,\"\u001b[39m, \u001b[32m29\u001b[39m),\n",
       "  (\u001b[32m\"30 a quem matou o filho de Agam\\u00eamnon, o afamado Orestes.\"\u001b[39m, \u001b[32m30\u001b[39m),\n",
       "  (\u001b[32m\"Dele lembrou-se e entre os imortais palavras enunciou:\"\u001b[39m, \u001b[32m31\u001b[39m),\n",
       "  (\n",
       "..."
      ]
     },
     "execution_count": 56,
     "metadata": {},
     "output_type": "execute_result"
    }
   ],
   "source": [
    "val dropTitle = lines.tail.zipWithIndex"
   ]
  },
  {
   "cell_type": "markdown",
   "metadata": {},
   "source": []
  },
  {
   "cell_type": "code",
   "execution_count": 57,
   "metadata": {},
   "outputs": [
    {
     "data": {
      "text/plain": [
       "\u001b[36mbookHeads\u001b[39m: \u001b[32mVector\u001b[39m[(\u001b[32mString\u001b[39m, \u001b[32mInt\u001b[39m)] = \u001b[33mVector\u001b[39m(\n",
       "  (\u001b[32m\"1\"\u001b[39m, \u001b[32m0\u001b[39m),\n",
       "  (\u001b[32m\"2\"\u001b[39m, \u001b[32m446\u001b[39m),\n",
       "  (\u001b[32m\"3\"\u001b[39m, \u001b[32m881\u001b[39m),\n",
       "  (\u001b[32m\"4\"\u001b[39m, \u001b[32m1379\u001b[39m),\n",
       "  (\u001b[32m\"5\"\u001b[39m, \u001b[32m2227\u001b[39m),\n",
       "  (\u001b[32m\"6\"\u001b[39m, \u001b[32m2721\u001b[39m),\n",
       "  (\u001b[32m\"7\"\u001b[39m, \u001b[32m3053\u001b[39m),\n",
       "  (\u001b[32m\"8\"\u001b[39m, \u001b[32m3401\u001b[39m),\n",
       "  (\u001b[32m\"9\"\u001b[39m, \u001b[32m3986\u001b[39m),\n",
       "  (\u001b[32m\"10\"\u001b[39m, \u001b[32m4553\u001b[39m),\n",
       "  (\u001b[32m\"11\"\u001b[39m, \u001b[32m5129\u001b[39m),\n",
       "  (\u001b[32m\"12\"\u001b[39m, \u001b[32m5772\u001b[39m),\n",
       "  (\u001b[32m\"13\"\u001b[39m, \u001b[32m6227\u001b[39m),\n",
       "  (\u001b[32m\"14\"\u001b[39m, \u001b[32m6668\u001b[39m),\n",
       "  (\u001b[32m\"15\"\u001b[39m, \u001b[32m7202\u001b[39m),\n",
       "  (\u001b[32m\"16\"\u001b[39m, \u001b[32m7760\u001b[39m),\n",
       "  (\u001b[32m\"17\"\u001b[39m, \u001b[32m8242\u001b[39m),\n",
       "  (\u001b[32m\"18\"\u001b[39m, \u001b[32m8849\u001b[39m),\n",
       "  (\u001b[32m\"19\"\u001b[39m, \u001b[32m9279\u001b[39m),\n",
       "  (\u001b[32m\"20\"\u001b[39m, \u001b[32m9884\u001b[39m),\n",
       "  (\u001b[32m\"21\"\u001b[39m, \u001b[32m10279\u001b[39m),\n",
       "  (\u001b[32m\"22\"\u001b[39m, \u001b[32m10714\u001b[39m),\n",
       "  (\u001b[32m\"23\"\u001b[39m, \u001b[32m11217\u001b[39m),\n",
       "  (\u001b[32m\"24\"\u001b[39m, \u001b[32m11590\u001b[39m)\n",
       ")"
      ]
     },
     "execution_count": 57,
     "metadata": {},
     "output_type": "execute_result"
    }
   ],
   "source": [
    "val bookHeads = dropTitle.filter(_._1.matches(\"[0-9]+\") )"
   ]
  },
  {
   "cell_type": "code",
   "execution_count": 58,
   "metadata": {},
   "outputs": [
    {
     "data": {
      "text/html": [
       "<div class=\"jp-RenderedText\">\n",
       "<pre><code><span style=\"color: rgb(0, 187, 187)\"><span class=\"ansi-cyan-fg\">pairs</span></span>: <span style=\"color: rgb(0, 187, 0)\"><span class=\"ansi-green-fg\">Vector</span></span>[<span style=\"color: rgb(0, 187, 0)\"><span class=\"ansi-green-fg\">Vector</span></span>[(<span style=\"color: rgb(0, 187, 0)\"><span class=\"ansi-green-fg\">String</span></span>, <span style=\"color: rgb(0, 187, 0)\"><span class=\"ansi-green-fg\">Int</span></span>)]] = <span style=\"color: yellow\"><span class=\"ansi-yellow-fg\">Vector</span></span>(\n",
       "  <span style=\"color: yellow\"><span class=\"ansi-yellow-fg\">Vector</span></span>((<span style=\"color: rgb(0, 187, 0)\"><span class=\"ansi-green-fg\">&quot;1&quot;</span></span>, <span style=\"color: rgb(0, 187, 0)\"><span class=\"ansi-green-fg\">0</span></span>), (<span style=\"color: rgb(0, 187, 0)\"><span class=\"ansi-green-fg\">&quot;2&quot;</span></span>, <span style=\"color: rgb(0, 187, 0)\"><span class=\"ansi-green-fg\">446</span></span>)),\n",
       "  <span style=\"color: yellow\"><span class=\"ansi-yellow-fg\">Vector</span></span>((<span style=\"color: rgb(0, 187, 0)\"><span class=\"ansi-green-fg\">&quot;2&quot;</span></span>, <span style=\"color: rgb(0, 187, 0)\"><span class=\"ansi-green-fg\">446</span></span>), (<span style=\"color: rgb(0, 187, 0)\"><span class=\"ansi-green-fg\">&quot;3&quot;</span></span>, <span style=\"color: rgb(0, 187, 0)\"><span class=\"ansi-green-fg\">881</span></span>)),\n",
       "  <span style=\"color: yellow\"><span class=\"ansi-yellow-fg\">Vector</span></span>((<span style=\"color: rgb(0, 187, 0)\"><span class=\"ansi-green-fg\">&quot;3&quot;</span></span>, <span style=\"color: rgb(0, 187, 0)\"><span class=\"ansi-green-fg\">881</span></span>), (<span style=\"color: rgb(0, 187, 0)\"><span class=\"ansi-green-fg\">&quot;4&quot;</span></span>, <span style=\"color: rgb(0, 187, 0)\"><span class=\"ansi-green-fg\">1379</span></span>)),\n",
       "  <span style=\"color: yellow\"><span class=\"ansi-yellow-fg\">Vector</span></span>((<span style=\"color: rgb(0, 187, 0)\"><span class=\"ansi-green-fg\">&quot;4&quot;</span></span>, <span style=\"color: rgb(0, 187, 0)\"><span class=\"ansi-green-fg\">1379</span></span>), (<span style=\"color: rgb(0, 187, 0)\"><span class=\"ansi-green-fg\">&quot;5&quot;</span></span>, <span style=\"color: rgb(0, 187, 0)\"><span class=\"ansi-green-fg\">2227</span></span>)),\n",
       "  <span style=\"color: yellow\"><span class=\"ansi-yellow-fg\">Vector</span></span>((<span style=\"color: rgb(0, 187, 0)\"><span class=\"ansi-green-fg\">&quot;5&quot;</span></span>, <span style=\"color: rgb(0, 187, 0)\"><span class=\"ansi-green-fg\">2227</span></span>), (<span style=\"color: rgb(0, 187, 0)\"><span class=\"ansi-green-fg\">&quot;6&quot;</span></span>, <span style=\"color: rgb(0, 187, 0)\"><span class=\"ansi-green-fg\">2721</span></span>)),\n",
       "  <span style=\"color: yellow\"><span class=\"ansi-yellow-fg\">Vector</span></span>((<span style=\"color: rgb(0, 187, 0)\"><span class=\"ansi-green-fg\">&quot;6&quot;</span></span>, <span style=\"color: rgb(0, 187, 0)\"><span class=\"ansi-green-fg\">2721</span></span>), (<span style=\"color: rgb(0, 187, 0)\"><span class=\"ansi-green-fg\">&quot;7&quot;</span></span>, <span style=\"color: rgb(0, 187, 0)\"><span class=\"ansi-green-fg\">3053</span></span>)),\n",
       "  <span style=\"color: yellow\"><span class=\"ansi-yellow-fg\">Vector</span></span>((<span style=\"color: rgb(0, 187, 0)\"><span class=\"ansi-green-fg\">&quot;7&quot;</span></span>, <span style=\"color: rgb(0, 187, 0)\"><span class=\"ansi-green-fg\">3053</span></span>), (<span style=\"color: rgb(0, 187, 0)\"><span class=\"ansi-green-fg\">&quot;8&quot;</span></span>, <span style=\"color: rgb(0, 187, 0)\"><span class=\"ansi-green-fg\">3401</span></span>)),\n",
       "  <span style=\"color: yellow\"><span class=\"ansi-yellow-fg\">Vector</span></span>((<span style=\"color: rgb(0, 187, 0)\"><span class=\"ansi-green-fg\">&quot;8&quot;</span></span>, <span style=\"color: rgb(0, 187, 0)\"><span class=\"ansi-green-fg\">3401</span></span>), (<span style=\"color: rgb(0, 187, 0)\"><span class=\"ansi-green-fg\">&quot;9&quot;</span></span>, <span style=\"color: rgb(0, 187, 0)\"><span class=\"ansi-green-fg\">3986</span></span>)),\n",
       "  <span style=\"color: yellow\"><span class=\"ansi-yellow-fg\">Vector</span></span>((<span style=\"color: rgb(0, 187, 0)\"><span class=\"ansi-green-fg\">&quot;9&quot;</span></span>, <span style=\"color: rgb(0, 187, 0)\"><span class=\"ansi-green-fg\">3986</span></span>), (<span style=\"color: rgb(0, 187, 0)\"><span class=\"ansi-green-fg\">&quot;10&quot;</span></span>, <span style=\"color: rgb(0, 187, 0)\"><span class=\"ansi-green-fg\">4553</span></span>)),\n",
       "  <span style=\"color: yellow\"><span class=\"ansi-yellow-fg\">Vector</span></span>((<span style=\"color: rgb(0, 187, 0)\"><span class=\"ansi-green-fg\">&quot;10&quot;</span></span>, <span style=\"color: rgb(0, 187, 0)\"><span class=\"ansi-green-fg\">4553</span></span>), (<span style=\"color: rgb(0, 187, 0)\"><span class=\"ansi-green-fg\">&quot;11&quot;</span></span>, <span style=\"color: rgb(0, 187, 0)\"><span class=\"ansi-green-fg\">5129</span></span>)),\n",
       "  <span style=\"color: yellow\"><span class=\"ansi-yellow-fg\">Vector</span></span>((<span style=\"color: rgb(0, 187, 0)\"><span class=\"ansi-green-fg\">&quot;11&quot;</span></span>, <span style=\"color: rgb(0, 187, 0)\"><span class=\"ansi-green-fg\">5129</span></span>), (<span style=\"color: rgb(0, 187, 0)\"><span class=\"ansi-green-fg\">&quot;12&quot;</span></span>, <span style=\"color: rgb(0, 187, 0)\"><span class=\"ansi-green-fg\">5772</span></span>)),\n",
       "  <span style=\"color: yellow\"><span class=\"ansi-yellow-fg\">Vector</span></span>((<span style=\"color: rgb(0, 187, 0)\"><span class=\"ansi-green-fg\">&quot;12&quot;</span></span>, <span style=\"color: rgb(0, 187, 0)\"><span class=\"ansi-green-fg\">5772</span></span>), (<span style=\"color: rgb(0, 187, 0)\"><span class=\"ansi-green-fg\">&quot;13&quot;</span></span>, <span style=\"color: rgb(0, 187, 0)\"><span class=\"ansi-green-fg\">6227</span></span>)),\n",
       "  <span style=\"color: yellow\"><span class=\"ansi-yellow-fg\">Vector</span></span>((<span style=\"color: rgb(0, 187, 0)\"><span class=\"ansi-green-fg\">&quot;13&quot;</span></span>, <span style=\"color: rgb(0, 187, 0)\"><span class=\"ansi-green-fg\">6227</span></span>), (<span style=\"color: rgb(0, 187, 0)\"><span class=\"ansi-green-fg\">&quot;14&quot;</span></span>, <span style=\"color: rgb(0, 187, 0)\"><span class=\"ansi-green-fg\">6668</span></span>)),\n",
       "  <span style=\"color: yellow\"><span class=\"ansi-yellow-fg\">Vector</span></span>((<span style=\"color: rgb(0, 187, 0)\"><span class=\"ansi-green-fg\">&quot;14&quot;</span></span>, <span style=\"color: rgb(0, 187, 0)\"><span class=\"ansi-green-fg\">6668</span></span>), (<span style=\"color: rgb(0, 187, 0)\"><span class=\"ansi-green-fg\">&quot;15&quot;</span></span>, <span style=\"color: rgb(0, 187, 0)\"><span class=\"ansi-green-fg\">7202</span></span>)),\n",
       "  <span style=\"color: yellow\"><span class=\"ansi-yellow-fg\">Vector</span></span>((<span style=\"color: rgb(0, 187, 0)\"><span class=\"ansi-green-fg\">&quot;15&quot;</span></span>, <span style=\"color: rgb(0, 187, 0)\"><span class=\"ansi-green-fg\">7202</span></span>), (<span style=\"color: rgb(0, 187, 0)\"><span class=\"ansi-green-fg\">&quot;16&quot;</span></span>, <span style=\"color: rgb(0, 187, 0)\"><span class=\"ansi-green-fg\">7760</span></span>)),\n",
       "  <span style=\"color: yellow\"><span class=\"ansi-yellow-fg\">Vector</span></span>((<span style=\"color: rgb(0, 187, 0)\"><span class=\"ansi-green-fg\">&quot;16&quot;</span></span>, <span style=\"color: rgb(0, 187, 0)\"><span class=\"ansi-green-fg\">7760</span></span>), (<span style=\"color: rgb(0, 187, 0)\"><span class=\"ansi-green-fg\">&quot;17&quot;</span></span>, <span style=\"color: rgb(0, 187, 0)\"><span class=\"ansi-green-fg\">8242</span></span>)),\n",
       "  <span style=\"color: yellow\"><span class=\"ansi-yellow-fg\">Vector</span></span>((<span style=\"color: rgb(0, 187, 0)\"><span class=\"ansi-green-fg\">&quot;17&quot;</span></span>, <span style=\"color: rgb(0, 187, 0)\"><span class=\"ansi-green-fg\">8242</span></span>), (<span style=\"color: rgb(0, 187, 0)\"><span class=\"ansi-green-fg\">&quot;18&quot;</span></span>, <span style=\"color: rgb(0, 187, 0)\"><span class=\"ansi-green-fg\">8849</span></span>)),\n",
       "  <span style=\"color: yellow\"><span class=\"ansi-yellow-fg\">Vector</span></span>((<span style=\"color: rgb(0, 187, 0)\"><span class=\"ansi-green-fg\">&quot;18&quot;</span></span>, <span style=\"color: rgb(0, 187, 0)\"><span class=\"ansi-green-fg\">8849</span></span>), (<span style=\"color: rgb(0, 187, 0)\"><span class=\"ansi-green-fg\">&quot;19&quot;</span></span>, <span style=\"color: rgb(0, 187, 0)\"><span class=\"ansi-green-fg\">9279</span></span>)),\n",
       "  <span style=\"color: yellow\"><span class=\"ansi-yellow-fg\">Vector</span></span>((<span style=\"color: rgb(0, 187, 0)\"><span class=\"ansi-green-fg\">&quot;19&quot;</span></span>, <span style=\"color: rgb(0, 187, 0)\"><span class=\"ansi-green-fg\">9279</span></span>), (<span style=\"color: rgb(0, 187, 0)\"><span class=\"ansi-green-fg\">&quot;20&quot;</span></span>, <span style=\"color: rgb(0, 187, 0)\"><span class=\"ansi-green-fg\">9884</span></span>)),\n",
       "  <span style=\"color: yellow\"><span class=\"ansi-yellow-fg\">Vector</span></span>((<span style=\"color: rgb(0, 187, 0)\"><span class=\"ansi-green-fg\">&quot;20&quot;</span></span>, <span style=\"color: rgb(0, 187, 0)\"><span class=\"ansi-green-fg\">9884</span></span>), (<span style=\"color: rgb(0, 187, 0)\"><span class=\"ansi-green-fg\">&quot;21&quot;</span></span>, <span style=\"color: rgb(0, 187, 0)\"><span class=\"ansi-green-fg\">10279</span></span>)),\n",
       "  <span style=\"color: yellow\"><span class=\"ansi-yellow-fg\">Vector</span></span>((<span style=\"color: rgb(0, 187, 0)\"><span class=\"ansi-green-fg\">&quot;21&quot;</span></span>, <span style=\"color: rgb(0, 187, 0)\"><span class=\"ansi-green-fg\">10279</span></span>), (<span style=\"color: rgb(0, 187, 0)\"><span class=\"ansi-green-fg\">&quot;22&quot;</span></span>, <span style=\"color: rgb(0, 187, 0)\"><span class=\"ansi-green-fg\">10714</span></span>)),\n",
       "  <span style=\"color: yellow\"><span class=\"ansi-yellow-fg\">Vector</span></span>((<span style=\"color: rgb(0, 187, 0)\"><span class=\"ansi-green-fg\">&quot;22&quot;</span></span>, <span style=\"color: rgb(0, 187, 0)\"><span class=\"ansi-green-fg\">10714</span></span>), (<span style=\"color: rgb(0, 187, 0)\"><span class=\"ansi-green-fg\">&quot;23&quot;</span></span>, <span style=\"color: rgb(0, 187, 0)\"><span class=\"ansi-green-fg\">11217</span></span>)),\n",
       "  <span style=\"color: yellow\"><span class=\"ansi-yellow-fg\">Vector</span></span>((<span style=\"color: rgb(0, 187, 0)\"><span class=\"ansi-green-fg\">&quot;23&quot;</span></span>, <span style=\"color: rgb(0, 187, 0)\"><span class=\"ansi-green-fg\">11217</span></span>), (<span style=\"color: rgb(0, 187, 0)\"><span class=\"ansi-green-fg\">&quot;24&quot;</span></span>, <span style=\"color: rgb(0, 187, 0)\"><span class=\"ansi-green-fg\">11590</span></span>))\n",
       ")\n",
       "<span style=\"color: rgb(0, 187, 187)\"><span class=\"ansi-cyan-fg\">books</span></span>: <span style=\"color: rgb(0, 187, 0)\"><span class=\"ansi-green-fg\">Vector</span></span>[<span style=\"color: rgb(0, 187, 0)\"><span class=\"ansi-green-fg\">Vector</span></span>[(<span style=\"color: rgb(0, 187, 0)\"><span class=\"ansi-green-fg\">String</span></span>, <span style=\"color: rgb(0, 187, 0)\"><span class=\"ansi-green-fg\">Int</span></span>)]] = <span style=\"color: yellow\"><span class=\"ansi-yellow-fg\">Vector</span></span>(\n",
       "  <span style=\"color: yellow\"><span class=\"ansi-yellow-fg\">Vector</span></span>(\n",
       "    (<span style=\"color: rgb(0, 187, 0)\"><span class=\"ansi-green-fg\">&quot;Do var\\u00e3o me narra, Musa, do muitas-vias, que muito&quot;</span></span>, <span style=\"color: rgb(0, 187, 0)\"><span class=\"ansi-green-fg\">1</span></span>),\n",
       "    (<span style=\"color: rgb(0, 187, 0)\"><span class=\"ansi-green-fg\">&quot;vagou ap\\u00f3s devastar a sacra cidade de Troia.&quot;</span></span>, <span style=\"color: rgb(0, 187, 0)\"><span class=\"ansi-green-fg\">2</span></span>),\n",
       "    (<span style=\"color: rgb(0, 187, 0)\"><span class=\"ansi-green-fg\">&quot;De muitos homens viu urbes e a mente conheceu,&quot;</span></span>, <span style=\"color: rgb(0, 187, 0)\"><span class=\"ansi-green-fg\">3</span></span>),\n",
       "    (<span style=\"color: rgb(0, 187, 0)\"><span class=\"ansi-green-fg\">&quot;e muitas afli\\u00e7\\u00f5es sofreu ele no mar, em seu \\u00e2nimo,&quot;</span></span>, <span style=\"color: rgb(0, 187, 0)\"><span class=\"ansi-green-fg\">4</span></span>),\n",
       "    (<span style=\"color: rgb(0, 187, 0)\"><span class=\"ansi-green-fg\">&quot;5 tentando garantir sua vida e o retorno dos companheiros.&quot;</span></span>, <span style=\"color: rgb(0, 187, 0)\"><span class=\"ansi-green-fg\">5</span></span>),\n",
       "    (<span style=\"color: rgb(0, 187, 0)\"><span class=\"ansi-green-fg\">&quot;Nem assim os companheiros socorreu, embora ansiasse:&quot;</span></span>, <span style=\"color: rgb(0, 187, 0)\"><span class=\"ansi-green-fg\">6</span></span>),\n",
       "    (<span style=\"color: rgb(0, 187, 0)\"><span class=\"ansi-green-fg\">&quot;por iniquidade pr\\u00f3pria, a deles, pereceram,&quot;</span></span>, <span style=\"color: rgb(0, 187, 0)\"><span class=\"ansi-green-fg\">7</span></span>),\n",
       "    (<span style=\"color: rgb(0, 187, 0)\"><span class=\"ansi-green-fg\">&quot;tolos, que as vacas de Sol Hip\\u00e9rion&quot;</span></span>, <span style=\"color: rgb(0, 187, 0)\"><span class=\"ansi-green-fg\">8</span></span>),\n",
       "    (<span style=\"color: rgb(0, 187, 0)\"><span class=\"ansi-green-fg\">&quot;devoraram. Esse, por\\u00e9m, tirou-lhes o dia do retorno.&quot;</span></span>, <span style=\"color: rgb(0, 187, 0)\"><span class=\"ansi-green-fg\">9</span></span>),\n",
       "    (\n",
       "      <span style=\"color: rgb(0, 187, 0)\"><span class=\"ansi-green-fg\">&quot;10 De um ponto da\\u00ed, deusa, filha de Zeus, fala tamb\\u00e9m a n\\u00f3s.&quot;</span></span>,\n",
       "      <span style=\"color: rgb(0, 187, 0)\"><span class=\"ansi-green-fg\">10</span></span>\n",
       "    ),\n",
       "    (<span style=\"color: rgb(0, 187, 0)\"><span class=\"ansi-green-fg\">&quot;Os outros todos que escaparam do abrupto fim&quot;</span></span>, <span style=\"color: rgb(0, 187, 0)\"><span class=\"ansi-green-fg\">11</span></span>),\n",
       "    (<span style=\"color: rgb(0, 187, 0)\"><span class=\"ansi-green-fg\">&quot;estavam em casa, ap\\u00f3s escapar da guerra e do mar.&quot;</span></span>, <span style=\"color: rgb(0, 187, 0)\"><span class=\"ansi-green-fg\">12</span></span>),\n",
       "    (<span style=\"color: rgb(0, 187, 0)\"><span class=\"ansi-green-fg\">&quot;Somente a ele, do retorno privado e da mulher,&quot;</span></span>, <span style=\"color: rgb(0, 187, 0)\"><span class=\"ansi-green-fg\">13</span></span>),\n",
       "    (<span style=\"color: rgb(0, 187, 0)\"><span class=\"ansi-green-fg\">&quot;detinha augusta ninfa, Calipso, deusa divina,&quot;</span></span>, <span style=\"color: rgb(0, 187, 0)\"><span class=\"ansi-green-fg\">14</span></span>),\n",
       "    (<span style=\"color: rgb(0, 187, 0)\"><span class=\"ansi-green-fg\">&quot;15 em cava gruta, almejando que fosse seu esposo.&quot;</span></span>, <span style=\"color: rgb(0, 187, 0)\"><span class=\"ansi-green-fg\">15</span></span>),\n",
       "    (<span style=\"color: rgb(0, 187, 0)\"><span class=\"ansi-green-fg\">&quot;Mas quando o ano chegou e os ciclos volveram-se,&quot;</span></span>, <span style=\"color: rgb(0, 187, 0)\"><span class=\"ansi-green-fg\">16</span></span>),\n",
       "    (<span style=\"color: rgb(0, 187, 0)\"><span class=\"ansi-green-fg\">&quot;os deuses destinaram-lhe \\u00e0 casa retornar,&quot;</span></span>, <span style=\"color: rgb(0, 187, 0)\"><span class=\"ansi-green-fg\">17</span></span>),\n",
       "    (<span style=\"color: rgb(0, 187, 0)\"><span class=\"ansi-green-fg\">&quot;rumo a \\u00cdtaca, e nem l\\u00e1 escapou de provas,&quot;</span></span>, <span style=\"color: rgb(0, 187, 0)\"><span class=\"ansi-green-fg\">18</span></span>),\n",
       "    (<span style=\"color: rgb(0, 187, 0)\"><span class=\"ansi-green-fg\">&quot;e estava entre os seus. Os deuses se apiedavam, todos,&quot;</span></span>, <span style=\"color: rgb(0, 187, 0)\"><span class=\"ansi-green-fg\">19</span></span>),\n",
       "    (<span style=\"color: rgb(0, 187, 0)\"><span class=\"ansi-green-fg\">&quot;20 salvo Pos\\u00eaidon. Incans\\u00e1vel, manteve a ira&quot;</span></span>, <span style=\"color: rgb(0, 187, 0)\"><span class=\"ansi-green-fg\">20</span></span>),\n",
       "    (<span style=\"color: rgb(0, 187, 0)\"><span class=\"ansi-green-fg\">&quot;contra o excelso Odisseu at\\u00e9 esse em sua terra chegar.&quot;</span></span>, <span style=\"color: rgb(0, 187, 0)\"><span class=\"ansi-green-fg\">21</span></span>),\n",
       "    (\n",
       "      <span style=\"color: rgb(0, 187, 0)\"><span class=\"ansi-green-fg\">&quot;Por\\u00e9m aquele foi ter com et\\u00edopes, distantes moradores \\u2013&quot;</span></span>,\n",
       "      <span style=\"color: rgb(0, 187, 0)\"><span class=\"ansi-green-fg\">22</span></span>\n",
       "    ),\n",
       "    (<span style=\"color: rgb(0, 187, 0)\"><span class=\"ansi-green-fg\">&quot;et\\u00edopes, divididos em dois grupos, var\\u00f5es dos extremos:&quot;</span></span>, <span style=\"color: rgb(0, 187, 0)\"><span class=\"ansi-green-fg\">23</span></span>),\n",
       "    (<span style=\"color: rgb(0, 187, 0)\"><span class=\"ansi-green-fg\">&quot;uns, onde Hip\\u00e9rion mergulha, outros, onde levanta \\u2013,&quot;</span></span>, <span style=\"color: rgb(0, 187, 0)\"><span class=\"ansi-green-fg\">24</span></span>),\n",
       "    (<span style=\"color: rgb(0, 187, 0)\"><span class=\"ansi-green-fg\">&quot;25 para aceitar hecatombe de touros e carneiros.&quot;</span></span>, <span style=\"color: rgb(0, 187, 0)\"><span class=\"ansi-green-fg\">25</span></span>),\n",
       "    (<span style=\"color: rgb(0, 187, 0)\"><span class=\"ansi-green-fg\">&quot;Nisso deleitava-se, sentado no banquete; e os outros,&quot;</span></span>, <span style=\"color: rgb(0, 187, 0)\"><span class=\"ansi-green-fg\">26</span></span>),\n",
       "    (<span style=\"color: rgb(0, 187, 0)\"><span class=\"ansi-green-fg\">&quot;no pal\\u00e1cio de Zeus Ol\\u00edmpio, estavam reunidos.&quot;</span></span>, <span style=\"color: rgb(0, 187, 0)\"><span class=\"ansi-green-fg\">27</span></span>),\n",
       "    (<span style=\"color: rgb(0, 187, 0)\"><span class=\"ansi-green-fg\">&quot;Entre eles tomou a palavra o pai de var\\u00f5es e deuses;&quot;</span></span>, <span style=\"color: rgb(0, 187, 0)\"><span class=\"ansi-green-fg\">28</span></span>),\n",
       "    (<span style=\"color: rgb(0, 187, 0)\"><span class=\"ansi-green-fg\">&quot;lembrara-se, no \\u00e2nimo, do impec\\u00e1vel Egisto,&quot;</span></span>, <span style=\"color: rgb(0, 187, 0)\"><span class=\"ansi-green-fg\">29</span></span>),\n",
       "    (<span style=\"color: rgb(0, 187, 0)\"><span class=\"ansi-green-fg\">&quot;30 a quem matou o filho de Agam\\u00eamnon, o afamado Orestes.&quot;</span></span>, <span style=\"color: rgb(0, 187, 0)\"><span class=\"ansi-green-fg\">30</span></span>),\n",
       "...</code></pre>\n",
       "</div>"
      ],
      "text/plain": [
       "\u001b[36mpairs\u001b[39m: \u001b[32mVector\u001b[39m[\u001b[32mVector\u001b[39m[(\u001b[32mString\u001b[39m, \u001b[32mInt\u001b[39m)]] = \u001b[33mVector\u001b[39m(\n",
       "  \u001b[33mVector\u001b[39m((\u001b[32m\"1\"\u001b[39m, \u001b[32m0\u001b[39m), (\u001b[32m\"2\"\u001b[39m, \u001b[32m446\u001b[39m)),\n",
       "  \u001b[33mVector\u001b[39m((\u001b[32m\"2\"\u001b[39m, \u001b[32m446\u001b[39m), (\u001b[32m\"3\"\u001b[39m, \u001b[32m881\u001b[39m)),\n",
       "  \u001b[33mVector\u001b[39m((\u001b[32m\"3\"\u001b[39m, \u001b[32m881\u001b[39m), (\u001b[32m\"4\"\u001b[39m, \u001b[32m1379\u001b[39m)),\n",
       "  \u001b[33mVector\u001b[39m((\u001b[32m\"4\"\u001b[39m, \u001b[32m1379\u001b[39m), (\u001b[32m\"5\"\u001b[39m, \u001b[32m2227\u001b[39m)),\n",
       "  \u001b[33mVector\u001b[39m((\u001b[32m\"5\"\u001b[39m, \u001b[32m2227\u001b[39m), (\u001b[32m\"6\"\u001b[39m, \u001b[32m2721\u001b[39m)),\n",
       "  \u001b[33mVector\u001b[39m((\u001b[32m\"6\"\u001b[39m, \u001b[32m2721\u001b[39m), (\u001b[32m\"7\"\u001b[39m, \u001b[32m3053\u001b[39m)),\n",
       "  \u001b[33mVector\u001b[39m((\u001b[32m\"7\"\u001b[39m, \u001b[32m3053\u001b[39m), (\u001b[32m\"8\"\u001b[39m, \u001b[32m3401\u001b[39m)),\n",
       "  \u001b[33mVector\u001b[39m((\u001b[32m\"8\"\u001b[39m, \u001b[32m3401\u001b[39m), (\u001b[32m\"9\"\u001b[39m, \u001b[32m3986\u001b[39m)),\n",
       "  \u001b[33mVector\u001b[39m((\u001b[32m\"9\"\u001b[39m, \u001b[32m3986\u001b[39m), (\u001b[32m\"10\"\u001b[39m, \u001b[32m4553\u001b[39m)),\n",
       "  \u001b[33mVector\u001b[39m((\u001b[32m\"10\"\u001b[39m, \u001b[32m4553\u001b[39m), (\u001b[32m\"11\"\u001b[39m, \u001b[32m5129\u001b[39m)),\n",
       "  \u001b[33mVector\u001b[39m((\u001b[32m\"11\"\u001b[39m, \u001b[32m5129\u001b[39m), (\u001b[32m\"12\"\u001b[39m, \u001b[32m5772\u001b[39m)),\n",
       "  \u001b[33mVector\u001b[39m((\u001b[32m\"12\"\u001b[39m, \u001b[32m5772\u001b[39m), (\u001b[32m\"13\"\u001b[39m, \u001b[32m6227\u001b[39m)),\n",
       "  \u001b[33mVector\u001b[39m((\u001b[32m\"13\"\u001b[39m, \u001b[32m6227\u001b[39m), (\u001b[32m\"14\"\u001b[39m, \u001b[32m6668\u001b[39m)),\n",
       "  \u001b[33mVector\u001b[39m((\u001b[32m\"14\"\u001b[39m, \u001b[32m6668\u001b[39m), (\u001b[32m\"15\"\u001b[39m, \u001b[32m7202\u001b[39m)),\n",
       "  \u001b[33mVector\u001b[39m((\u001b[32m\"15\"\u001b[39m, \u001b[32m7202\u001b[39m), (\u001b[32m\"16\"\u001b[39m, \u001b[32m7760\u001b[39m)),\n",
       "  \u001b[33mVector\u001b[39m((\u001b[32m\"16\"\u001b[39m, \u001b[32m7760\u001b[39m), (\u001b[32m\"17\"\u001b[39m, \u001b[32m8242\u001b[39m)),\n",
       "  \u001b[33mVector\u001b[39m((\u001b[32m\"17\"\u001b[39m, \u001b[32m8242\u001b[39m), (\u001b[32m\"18\"\u001b[39m, \u001b[32m8849\u001b[39m)),\n",
       "  \u001b[33mVector\u001b[39m((\u001b[32m\"18\"\u001b[39m, \u001b[32m8849\u001b[39m), (\u001b[32m\"19\"\u001b[39m, \u001b[32m9279\u001b[39m)),\n",
       "  \u001b[33mVector\u001b[39m((\u001b[32m\"19\"\u001b[39m, \u001b[32m9279\u001b[39m), (\u001b[32m\"20\"\u001b[39m, \u001b[32m9884\u001b[39m)),\n",
       "  \u001b[33mVector\u001b[39m((\u001b[32m\"20\"\u001b[39m, \u001b[32m9884\u001b[39m), (\u001b[32m\"21\"\u001b[39m, \u001b[32m10279\u001b[39m)),\n",
       "  \u001b[33mVector\u001b[39m((\u001b[32m\"21\"\u001b[39m, \u001b[32m10279\u001b[39m), (\u001b[32m\"22\"\u001b[39m, \u001b[32m10714\u001b[39m)),\n",
       "  \u001b[33mVector\u001b[39m((\u001b[32m\"22\"\u001b[39m, \u001b[32m10714\u001b[39m), (\u001b[32m\"23\"\u001b[39m, \u001b[32m11217\u001b[39m)),\n",
       "  \u001b[33mVector\u001b[39m((\u001b[32m\"23\"\u001b[39m, \u001b[32m11217\u001b[39m), (\u001b[32m\"24\"\u001b[39m, \u001b[32m11590\u001b[39m))\n",
       ")\n",
       "\u001b[36mbooks\u001b[39m: \u001b[32mVector\u001b[39m[\u001b[32mVector\u001b[39m[(\u001b[32mString\u001b[39m, \u001b[32mInt\u001b[39m)]] = \u001b[33mVector\u001b[39m(\n",
       "  \u001b[33mVector\u001b[39m(\n",
       "    (\u001b[32m\"Do var\\u00e3o me narra, Musa, do muitas-vias, que muito\"\u001b[39m, \u001b[32m1\u001b[39m),\n",
       "    (\u001b[32m\"vagou ap\\u00f3s devastar a sacra cidade de Troia.\"\u001b[39m, \u001b[32m2\u001b[39m),\n",
       "    (\u001b[32m\"De muitos homens viu urbes e a mente conheceu,\"\u001b[39m, \u001b[32m3\u001b[39m),\n",
       "    (\u001b[32m\"e muitas afli\\u00e7\\u00f5es sofreu ele no mar, em seu \\u00e2nimo,\"\u001b[39m, \u001b[32m4\u001b[39m),\n",
       "    (\u001b[32m\"5 tentando garantir sua vida e o retorno dos companheiros.\"\u001b[39m, \u001b[32m5\u001b[39m),\n",
       "    (\u001b[32m\"Nem assim os companheiros socorreu, embora ansiasse:\"\u001b[39m, \u001b[32m6\u001b[39m),\n",
       "    (\u001b[32m\"por iniquidade pr\\u00f3pria, a deles, pereceram,\"\u001b[39m, \u001b[32m7\u001b[39m),\n",
       "    (\u001b[32m\"tolos, que as vacas de Sol Hip\\u00e9rion\"\u001b[39m, \u001b[32m8\u001b[39m),\n",
       "    (\u001b[32m\"devoraram. Esse, por\\u00e9m, tirou-lhes o dia do retorno.\"\u001b[39m, \u001b[32m9\u001b[39m),\n",
       "    (\n",
       "      \u001b[32m\"10 De um ponto da\\u00ed, deusa, filha de Zeus, fala tamb\\u00e9m a n\\u00f3s.\"\u001b[39m,\n",
       "      \u001b[32m10\u001b[39m\n",
       "    ),\n",
       "    (\u001b[32m\"Os outros todos que escaparam do abrupto fim\"\u001b[39m, \u001b[32m11\u001b[39m),\n",
       "    (\u001b[32m\"estavam em casa, ap\\u00f3s escapar da guerra e do mar.\"\u001b[39m, \u001b[32m12\u001b[39m),\n",
       "    (\u001b[32m\"Somente a ele, do retorno privado e da mulher,\"\u001b[39m, \u001b[32m13\u001b[39m),\n",
       "    (\u001b[32m\"detinha augusta ninfa, Calipso, deusa divina,\"\u001b[39m, \u001b[32m14\u001b[39m),\n",
       "    (\u001b[32m\"15 em cava gruta, almejando que fosse seu esposo.\"\u001b[39m, \u001b[32m15\u001b[39m),\n",
       "    (\u001b[32m\"Mas quando o ano chegou e os ciclos volveram-se,\"\u001b[39m, \u001b[32m16\u001b[39m),\n",
       "    (\u001b[32m\"os deuses destinaram-lhe \\u00e0 casa retornar,\"\u001b[39m, \u001b[32m17\u001b[39m),\n",
       "    (\u001b[32m\"rumo a \\u00cdtaca, e nem l\\u00e1 escapou de provas,\"\u001b[39m, \u001b[32m18\u001b[39m),\n",
       "    (\u001b[32m\"e estava entre os seus. Os deuses se apiedavam, todos,\"\u001b[39m, \u001b[32m19\u001b[39m),\n",
       "    (\u001b[32m\"20 salvo Pos\\u00eaidon. Incans\\u00e1vel, manteve a ira\"\u001b[39m, \u001b[32m20\u001b[39m),\n",
       "    (\u001b[32m\"contra o excelso Odisseu at\\u00e9 esse em sua terra chegar.\"\u001b[39m, \u001b[32m21\u001b[39m),\n",
       "    (\n",
       "      \u001b[32m\"Por\\u00e9m aquele foi ter com et\\u00edopes, distantes moradores \\u2013\"\u001b[39m,\n",
       "      \u001b[32m22\u001b[39m\n",
       "    ),\n",
       "    (\u001b[32m\"et\\u00edopes, divididos em dois grupos, var\\u00f5es dos extremos:\"\u001b[39m, \u001b[32m23\u001b[39m),\n",
       "    (\u001b[32m\"uns, onde Hip\\u00e9rion mergulha, outros, onde levanta \\u2013,\"\u001b[39m, \u001b[32m24\u001b[39m),\n",
       "    (\u001b[32m\"25 para aceitar hecatombe de touros e carneiros.\"\u001b[39m, \u001b[32m25\u001b[39m),\n",
       "    (\u001b[32m\"Nisso deleitava-se, sentado no banquete; e os outros,\"\u001b[39m, \u001b[32m26\u001b[39m),\n",
       "    (\u001b[32m\"no pal\\u00e1cio de Zeus Ol\\u00edmpio, estavam reunidos.\"\u001b[39m, \u001b[32m27\u001b[39m),\n",
       "    (\u001b[32m\"Entre eles tomou a palavra o pai de var\\u00f5es e deuses;\"\u001b[39m, \u001b[32m28\u001b[39m),\n",
       "    (\u001b[32m\"lembrara-se, no \\u00e2nimo, do impec\\u00e1vel Egisto,\"\u001b[39m, \u001b[32m29\u001b[39m),\n",
       "    (\u001b[32m\"30 a quem matou o filho de Agam\\u00eamnon, o afamado Orestes.\"\u001b[39m, \u001b[32m30\u001b[39m),\n",
       "..."
      ]
     },
     "metadata": {},
     "output_type": "display_data"
    }
   ],
   "source": [
    "val pairs = bookHeads.sliding(2,1).toVector\n",
    "\n",
    "\n",
    "var books: Vector[ Vector[(String, Int)]] = {\n",
    " \n",
    "    val not24: Vector[ Vector[(String, Int)]] = pairs.map( p => {\n",
    "        val fromLine = p.head._2\n",
    "        val toLine = p.last._2\n",
    "        \n",
    "        dropTitle.filter( dt => {\n",
    "            val thisLineNo = dt._2\n",
    "            (thisLineNo > fromLine) && (thisLineNo < toLine)\n",
    "           \n",
    "        })\n",
    "    \n",
    "    })\n",
    "    val book24start = pairs.last.last._2\n",
    "    val book24: Vector[(String, Int)] = dropTitle.filter( dt => {\n",
    "        dt._2 > book24start\n",
    "    })\n",
    "    \n",
    "    not24 :+ book24\n",
    "    \n",
    "}\n"
   ]
  },
  {
   "cell_type": "code",
   "execution_count": 59,
   "metadata": {},
   "outputs": [
    {
     "data": {
      "text/plain": [
       "\u001b[36mres58\u001b[39m: \u001b[32mInt\u001b[39m = \u001b[32m24\u001b[39m"
      ]
     },
     "execution_count": 59,
     "metadata": {},
     "output_type": "execute_result"
    }
   ],
   "source": [
    "books.size"
   ]
  },
  {
   "cell_type": "markdown",
   "metadata": {},
   "source": [
    "The URN for this will be: `urn:cts:greekLit:tlg0012.tlg002.werner:`."
   ]
  },
  {
   "cell_type": "code",
   "execution_count": 60,
   "metadata": {},
   "outputs": [
    {
     "data": {
      "text/plain": [
       "\u001b[36murnBase\u001b[39m: \u001b[32mCtsUrn\u001b[39m = \u001b[33mCtsUrn\u001b[39m(\u001b[32m\"urn:cts:greekLit:tlg0012.tlg002.werner:\"\u001b[39m)"
      ]
     },
     "execution_count": 60,
     "metadata": {},
     "output_type": "execute_result"
    }
   ],
   "source": [
    "val urnBase = CtsUrn(\"urn:cts:greekLit:tlg0012.tlg002.werner:\")"
   ]
  },
  {
   "cell_type": "markdown",
   "metadata": {},
   "source": [
    "Make the CEX contents!"
   ]
  },
  {
   "cell_type": "code",
   "execution_count": 70,
   "metadata": {},
   "outputs": [
    {
     "data": {
      "text/plain": [
       "defined \u001b[32mfunction\u001b[39m \u001b[36mrenumberBook\u001b[39m\n",
       "\u001b[36mcex\u001b[39m: \u001b[32mVector\u001b[39m[\u001b[32mString\u001b[39m] = \u001b[33mVector\u001b[39m(\n",
       "  \u001b[32m\"urn:cts:greekLit:tlg0012.tlg002.werner:1.1#Do var\\u00e3o me narra, Musa, do muitas-vias, que muito\"\u001b[39m,\n",
       "  \u001b[32m\"urn:cts:greekLit:tlg0012.tlg002.werner:1.2#vagou ap\\u00f3s devastar a sacra cidade de Troia.\"\u001b[39m,\n",
       "  \u001b[32m\"urn:cts:greekLit:tlg0012.tlg002.werner:1.3#De muitos homens viu urbes e a mente conheceu,\"\u001b[39m,\n",
       "  \u001b[32m\"urn:cts:greekLit:tlg0012.tlg002.werner:1.4#e muitas afli\\u00e7\\u00f5es sofreu ele no mar, em seu \\u00e2nimo,\"\u001b[39m,\n",
       "  \u001b[32m\"urn:cts:greekLit:tlg0012.tlg002.werner:1.5#tentando garantir sua vida e o retorno dos companheiros.\"\u001b[39m,\n",
       "  \u001b[32m\"urn:cts:greekLit:tlg0012.tlg002.werner:1.6#Nem assim os companheiros socorreu, embora ansiasse:\"\u001b[39m,\n",
       "  \u001b[32m\"urn:cts:greekLit:tlg0012.tlg002.werner:1.7#por iniquidade pr\\u00f3pria, a deles, pereceram,\"\u001b[39m,\n",
       "  \u001b[32m\"urn:cts:greekLit:tlg0012.tlg002.werner:1.8#tolos, que as vacas de Sol Hip\\u00e9rion\"\u001b[39m,\n",
       "  \u001b[32m\"urn:cts:greekLit:tlg0012.tlg002.werner:1.9#devoraram. Esse, por\\u00e9m, tirou-lhes o dia do retorno.\"\u001b[39m,\n",
       "  \u001b[32m\"urn:cts:greekLit:tlg0012.tlg002.werner:1.10#De um ponto da\\u00ed, deusa, filha de Zeus, fala tamb\\u00e9m a n\\u00f3s.\"\u001b[39m,\n",
       "  \u001b[32m\"urn:cts:greekLit:tlg0012.tlg002.werner:1.11#Os outros todos que escaparam do abrupto fim\"\u001b[39m,\n",
       "  \u001b[32m\"urn:cts:greekLit:tlg0012.tlg002.werner:1.12#estavam em casa, ap\\u00f3s escapar da guerra e do mar.\"\u001b[39m,\n",
       "  \u001b[32m\"urn:cts:greekLit:tlg0012.tlg002.werner:1.13#Somente a ele, do retorno privado e da mulher,\"\u001b[39m,\n",
       "  \u001b[32m\"urn:cts:greekLit:tlg0012.tlg002.werner:1.14#detinha augusta ninfa, Calipso, deusa divina,\"\u001b[39m,\n",
       "  \u001b[32m\"urn:cts:greekLit:tlg0012.tlg002.werner:1.15#em cava gruta, almejando que fosse seu esposo.\"\u001b[39m,\n",
       "  \u001b[32m\"urn:cts:greekLit:tlg0012.tlg002.werner:1.16#Mas quando o ano chegou e os ciclos volveram-se,\"\u001b[39m,\n",
       "  \u001b[32m\"urn:cts:greekLit:tlg0012.tlg002.werner:1.17#os deuses destinaram-lhe \\u00e0 casa retornar,\"\u001b[39m,\n",
       "  \u001b[32m\"urn:cts:greekLit:tlg0012.tlg002.werner:1.18#rumo a \\u00cdtaca, e nem l\\u00e1 escapou de provas,\"\u001b[39m,\n",
       "  \u001b[32m\"urn:cts:greekLit:tlg0012.tlg002.werner:1.19#e estava entre os seus. Os deuses se apiedavam, todos,\"\u001b[39m,\n",
       "..."
      ]
     },
     "execution_count": 70,
     "metadata": {},
     "output_type": "execute_result"
    }
   ],
   "source": [
    "def renumberBook( bk: Vector[(String, Int)]): Vector[(String, Int)] = {\n",
    "    val noNumbers: Vector[String] = bk.map(_._1)\n",
    "    noNumbers.zipWithIndex\n",
    "}\n",
    "\n",
    "\n",
    "val cex: Vector[String] = books.map( b => {\n",
    "    val renumbered: Vector[(String, Int)] = renumberBook(b)\n",
    "    renumbered.map( l => {\n",
    "        val bookNo: Int = books.indexOf(b) + 1\n",
    "        val lineNo: Int = l._2 + 1\n",
    "        val text: String = l._1.replaceAll(\"^[0-9]+ +\",\"\")\n",
    "        val urn: CtsUrn = urnBase.addPassage(bookNo + \".\" + lineNo)\n",
    "        urn.toString + \"#\" + text\n",
    "    })\n",
    "}).flatten"
   ]
  },
  {
   "cell_type": "markdown",
   "metadata": {},
   "source": [
    "Make the CEX Header"
   ]
  },
  {
   "cell_type": "code",
   "execution_count": 71,
   "metadata": {},
   "outputs": [
    {
     "data": {
      "text/plain": [
       "\u001b[36mcexTop\u001b[39m: \u001b[32mString\u001b[39m = \u001b[32m\"\"\"\n",
       "#!cexversion\n",
       "3.0\n",
       "\n",
       "#!citelibrary\n",
       "name#CEX library\n",
       "urn#urn:cite2:cex:TEMPCOLL.TEMPVERSION:TEMP_ID\n",
       "license#CC 3.0 NC-BY\n",
       "\n",
       "#!ctscatalog\n",
       "urn#citationScheme#groupName#workTitle#versionLabel#exemplarLabel#online#lang\"\"\"\u001b[39m\n",
       "\u001b[36murnStr\u001b[39m: \u001b[32mString\u001b[39m = \u001b[32m\"urn:cts:greekLit:tlg0012.tlg002.werner:\"\u001b[39m\n",
       "\u001b[36mcitationSch\u001b[39m: \u001b[32mString\u001b[39m = \u001b[32m\"book/line\"\u001b[39m\n",
       "\u001b[36mgroupName\u001b[39m: \u001b[32mString\u001b[39m = \u001b[32m\"Homeric Epic\"\u001b[39m\n",
       "\u001b[36mworkTitle\u001b[39m: \u001b[32mString\u001b[39m = \u001b[32m\"Odisseia\"\u001b[39m\n",
       "\u001b[36mversionLabel\u001b[39m: \u001b[32mString\u001b[39m = \u001b[32m\"Christian Werner, trans.\"\u001b[39m\n",
       "\u001b[36mexemplarLabel\u001b[39m: \u001b[32mString\u001b[39m = \u001b[32m\"\"\u001b[39m\n",
       "\u001b[36monline\u001b[39m: \u001b[32mString\u001b[39m = \u001b[32m\"true\"\u001b[39m\n",
       "\u001b[36mlang\u001b[39m: \u001b[32mString\u001b[39m = \u001b[32m\"por\"\u001b[39m\n",
       "\u001b[36mheaderLine\u001b[39m: \u001b[32mString\u001b[39m = \u001b[32m\"urn:cts:greekLit:tlg0012.tlg002.werner:#book/line#Homeric Epic#Odisseia#Christian Werner, trans.##true#por\"\u001b[39m\n",
       "\u001b[36mcexHeader\u001b[39m: \u001b[32mString\u001b[39m = \u001b[32m\"\"\"\n",
       "#!cexversion\n",
       "3.0\n",
       "\n",
       "#!citelibrary\n",
       "name#CEX library\n",
       "urn#urn:cite2:cex:TEMPCOLL.TEMPVERSION:TEMP_ID\n",
       "license#CC 3.0 NC-BY\n",
       "\n",
       "#!ctscatalog\n",
       "urn#citationScheme#groupName#workTitle#versionLabel#exemplarLabel#online#lang\n",
       "urn:cts:greekLit:tlg0012.tlg002.werner:#book/line#Homeric Epic#Odisseia#Christian Werner, trans.##true#por\n",
       "\n",
       "#!ctsdata\n",
       "\"\"\"\u001b[39m"
      ]
     },
     "execution_count": 71,
     "metadata": {},
     "output_type": "execute_result"
    }
   ],
   "source": [
    "val cexTop: String = \"\"\"\n",
    "#!cexversion\n",
    "3.0\n",
    "\n",
    "#!citelibrary\n",
    "name#CEX library\n",
    "urn#urn:cite2:cex:TEMPCOLL.TEMPVERSION:TEMP_ID\n",
    "license#CC 3.0 NC-BY\n",
    "\n",
    "#!ctscatalog\n",
    "urn#citationScheme#groupName#workTitle#versionLabel#exemplarLabel#online#lang\"\"\"\n",
    "\n",
    "val urnStr = \"urn:cts:greekLit:tlg0012.tlg002.werner:\"\n",
    "val citationSch = \"book/line\"\n",
    "val groupName = \"Homeric Epic\"\n",
    "val workTitle = \"Odisseia\"\n",
    "val versionLabel = \"Christian Werner, trans.\"\n",
    "val exemplarLabel = \"\"\n",
    "val online = \"true\"\n",
    "val lang = \"por\"\n",
    "\n",
    "val headerLine = Vector(\n",
    "    urnStr,\n",
    "    citationSch,\n",
    "    groupName,\n",
    "    workTitle,\n",
    "    versionLabel,\n",
    "    exemplarLabel,\n",
    "    online,\n",
    "    lang\n",
    ").mkString(\"#\")\n",
    "\n",
    "val cexHeader = cexTop + \"\\n\" + headerLine + \"\\n\\n#!ctsdata\\n\""
   ]
  },
  {
   "cell_type": "markdown",
   "metadata": {},
   "source": [
    "Save it!"
   ]
  },
  {
   "cell_type": "code",
   "execution_count": 72,
   "metadata": {},
   "outputs": [
    {
     "data": {
      "text/plain": [
       "\u001b[36mcexString\u001b[39m: \u001b[32mString\u001b[39m = \u001b[32m\"\"\"\n",
       "#!cexversion\n",
       "3.0\n",
       "\n",
       "#!citelibrary\n",
       "name#CEX library\n",
       "urn#urn:cite2:cex:TEMPCOLL.TEMPVERSION:TEMP_ID\n",
       "license#CC 3.0 NC-BY\n",
       "\n",
       "#!ctscatalog\n",
       "urn#citationScheme#groupName#workTitle#versionLabel#exemplarLabel#online#lang\n",
       "urn:cts:greekLit:tlg0012.tlg002.werner:#book/line#Homeric Epic#Odisseia#Christian Werner, trans.##true#por\n",
       "\n",
       "#!ctsdata\n",
       "urn:cts:greekLit:tlg0012.tlg002.werner:1.1#Do varão me narra, Musa, do muitas-vias, que muito\n",
       "urn:cts:greekLit:tlg0012.tlg002.werner:1.2#vagou após devastar a sacra cidade de Troia.\n",
       "urn:cts:greekLit:tlg0012.tlg002.werner:1.3#De muitos homens viu urbes e a mente conheceu,\n",
       "urn:cts:greekLit:tlg0012.tlg002.werner:1.4#e muitas aflições sofreu ele no mar, em seu ânimo,\n",
       "urn:cts:greekLit:tlg0012.tlg002.werner:1.5#tentando garantir sua vida e o retorno dos companheiros.\n",
       "urn:cts:greekLit:tlg0012.tlg002.werner:1.6#Nem assim os companheiros socorreu, embora ansiasse:\n",
       "urn:cts:greekLit:tlg0012.tlg002.werner:1.7#por iniquidade própria, a deles, pereceram,\n",
       "urn:cts:greekLit:tlg0012.tlg002.werner:1.8#tolos, que as vacas de Sol Hipérion\n",
       "urn:cts:greekLit:tlg0012.tlg002.werner:1.9#devoraram. Esse, porém, tirou-lhes o dia do retorno.\n",
       "urn:cts:greekLit:tlg0012.tlg002.werner:1.10#De um ponto daí, deusa, filha de Zeus, fala também a nós.\n",
       "urn:cts:greekLit:tlg0012.tlg002.werner:1.11#Os outros todos que escaparam do abrupto fim\n",
       "urn:cts:greekLit:tlg0012.tlg002.werner:1.12#estavam em casa, após escapar da guerra e do mar.\n",
       "urn:cts:greekLit:tlg0012.tlg002.werner:1.13#Somente a ele, do retorno privado e \u001b[39m..."
      ]
     },
     "execution_count": 72,
     "metadata": {},
     "output_type": "execute_result"
    }
   ],
   "source": [
    "val cexString: String = cexHeader + cex.mkString(\"\\n\")\n",
    "saveString(cexString,\"\",\"text.cex\")"
   ]
  },
  {
   "cell_type": "code",
   "execution_count": null,
   "metadata": {},
   "outputs": [],
   "source": []
  }
 ],
 "metadata": {
  "kernel_info": {
   "name": "scala"
  },
  "kernelspec": {
   "display_name": "Scala",
   "language": "scala",
   "name": "scala"
  },
  "language_info": {
   "codemirror_mode": "text/x-scala",
   "file_extension": ".scala",
   "mimetype": "text/x-scala",
   "name": "scala",
   "nbconvert_exporter": "script",
   "version": "2.12.10"
  },
  "nteract": {
   "version": "0.15.0"
  }
 },
 "nbformat": 4,
 "nbformat_minor": 2
}
