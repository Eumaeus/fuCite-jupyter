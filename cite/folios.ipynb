{
 "cells": [
  {
   "cell_type": "markdown",
   "metadata": {},
   "source": [
    "# Finding Text Bearing Surfaces"
   ]
  },
  {
   "cell_type": "markdown",
   "metadata": {},
   "source": [
    "## Configuring CITE libraries for almond kernel\n",
    "\n",
    "First, we'll make a bintray repository with CITE libraries available to your almond kernel."
   ]
  },
  {
   "cell_type": "code",
   "execution_count": 1,
   "metadata": {},
   "outputs": [
    {
     "data": {
      "text/plain": [
       "\u001b[36mmyBT\u001b[39m: \u001b[32mcoursierapi\u001b[39m.\u001b[32mMavenRepository\u001b[39m = MavenRepository(https://dl.bintray.com/neelsmith/maven)"
      ]
     },
     "execution_count": 1,
     "metadata": {},
     "output_type": "execute_result"
    }
   ],
   "source": [
    "val myBT = coursierapi.MavenRepository.of(\"https://dl.bintray.com/neelsmith/maven\")\n",
    "interp.repositories() ++= Seq(myBT)"
   ]
  },
  {
   "cell_type": "markdown",
   "metadata": {},
   "source": [
    "Next, we bring in specific libraries from the new repository using almond's `$ivy` magic:"
   ]
  },
  {
   "cell_type": "code",
   "execution_count": 3,
   "metadata": {},
   "outputs": [
    {
     "data": {
      "text/plain": [
       "\u001b[32mimport \u001b[39m\u001b[36m$ivy.$                                  \n",
       "\u001b[39m\n",
       "\u001b[32mimport \u001b[39m\u001b[36m$ivy.$                                     \n",
       "\u001b[39m\n",
       "\u001b[32mimport \u001b[39m\u001b[36m$ivy.$                              \n",
       "\u001b[39m\n",
       "\u001b[32mimport \u001b[39m\u001b[36m$ivy.$                              \n",
       "\u001b[39m\n",
       "\u001b[32mimport \u001b[39m\u001b[36m$ivy.$                                          \n",
       "\u001b[39m\n",
       "\u001b[32mimport \u001b[39m\u001b[36m$ivy.$                                  \n",
       "\u001b[39m\n",
       "\u001b[32mimport \u001b[39m\u001b[36m$ivy.$                                        \n",
       "\u001b[39m\n",
       "\u001b[32mimport \u001b[39m\u001b[36m$ivy.$                              \n",
       "\u001b[39m"
      ]
     },
     "execution_count": 3,
     "metadata": {},
     "output_type": "execute_result"
    }
   ],
   "source": [
    "import $ivy.`edu.holycross.shot::ohco2:10.18.2`\n",
    "import $ivy.`edu.holycross.shot.cite::xcite:4.1.1`\n",
    "import $ivy.`edu.holycross.shot::scm:7.2.0`\n",
    "import $ivy.`edu.holycross.shot::dse:6.0.4`\n",
    "import $ivy.`edu.holycross.shot::citebinaryimage:3.1.1`\n",
    "import $ivy.`edu.holycross.shot::citeobj:7.3.4`\n",
    "import $ivy.`edu.holycross.shot::citerelations:2.5.2`\n",
    "import $ivy.`edu.holycross.shot::cex:6.3.3`\n"
   ]
  },
  {
   "cell_type": "markdown",
   "metadata": {},
   "source": [
    "## Imports\n",
    "\n",
    "From this point on, your notebook consists of completely generic Scala, with the CITE Libraries available to use."
   ]
  },
  {
   "cell_type": "code",
   "execution_count": 10,
   "metadata": {},
   "outputs": [
    {
     "data": {
      "text/plain": [
       "\u001b[32mimport \u001b[39m\u001b[36medu.holycross.shot.cite._\n",
       "\u001b[39m\n",
       "\u001b[32mimport \u001b[39m\u001b[36medu.holycross.shot.ohco2._\n",
       "\u001b[39m\n",
       "\u001b[32mimport \u001b[39m\u001b[36medu.holycross.shot.scm._\n",
       "\u001b[39m\n",
       "\u001b[32mimport \u001b[39m\u001b[36medu.holycross.shot.citeobj._\n",
       "\u001b[39m\n",
       "\u001b[32mimport \u001b[39m\u001b[36medu.holycross.shot.citerelation._\n",
       "\u001b[39m\n",
       "\u001b[32mimport \u001b[39m\u001b[36medu.holycross.shot.dse._\n",
       "\u001b[39m\n",
       "\u001b[32mimport \u001b[39m\u001b[36medu.holycross.shot.citebinaryimage._\n",
       "\u001b[39m\n",
       "\u001b[32mimport \u001b[39m\u001b[36medu.holycross.shot.ohco2._\n",
       "\n",
       "\u001b[39m\n",
       "\u001b[32mimport \u001b[39m\u001b[36malmond.display.UpdatableDisplay\n",
       "\u001b[39m\n",
       "\u001b[32mimport \u001b[39m\u001b[36malmond.interpreter.api.DisplayData.ContentType\n",
       "\u001b[39m\n",
       "\u001b[32mimport \u001b[39m\u001b[36malmond.interpreter.api.{DisplayData, OutputHandler}\u001b[39m"
      ]
     },
     "execution_count": 10,
     "metadata": {},
     "output_type": "execute_result"
    }
   ],
   "source": [
    "// Import some CITE libraries\n",
    "import edu.holycross.shot.cite._\n",
    "import edu.holycross.shot.ohco2._\n",
    "import edu.holycross.shot.scm._\n",
    "import edu.holycross.shot.citeobj._\n",
    "import edu.holycross.shot.citerelation._\n",
    "import edu.holycross.shot.dse._\n",
    "import edu.holycross.shot.citebinaryimage._\n",
    "import edu.holycross.shot.ohco2._\n",
    "\n",
    "import almond.display.UpdatableDisplay\n",
    "import almond.interpreter.api.DisplayData.ContentType\n",
    "import almond.interpreter.api.{DisplayData, OutputHandler}"
   ]
  },
  {
   "cell_type": "markdown",
   "metadata": {},
   "source": [
    "## Load a CITE Library"
   ]
  },
  {
   "cell_type": "code",
   "execution_count": 11,
   "metadata": {
    "scrolled": true
   },
   "outputs": [
    {
     "name": "stderr",
     "output_type": "stream",
     "text": [
      "\u001b[34m2020-01-11 16:21:34.241-0500\u001b[0m  \u001b[36minfo\u001b[0m [\u001b[37mCiteLibrary\u001b[0m] \u001b[36mBuilding text repo from cex ...\u001b[0m  \u001b[34m- (CiteLibrary.scala:160)\u001b[0m\n",
      "\u001b[34m2020-01-11 16:21:35.259-0500\u001b[0m  \u001b[36minfo\u001b[0m [\u001b[37mCiteLibrary\u001b[0m] \u001b[36mBuilding collection repo from cex ...\u001b[0m  \u001b[34m- (CiteLibrary.scala:163)\u001b[0m\n",
      "\u001b[34m2020-01-11 16:21:47.968-0500\u001b[0m  \u001b[36minfo\u001b[0m [\u001b[37mCiteLibrary\u001b[0m] \u001b[36mBuilding relations from cex ...\u001b[0m  \u001b[34m- (CiteLibrary.scala:166)\u001b[0m\n",
      "\u001b[34m2020-01-11 16:21:48.996-0500\u001b[0m  \u001b[36minfo\u001b[0m [\u001b[37mCiteLibrary\u001b[0m] \u001b[36mAll library components built.\u001b[0m  \u001b[34m- (CiteLibrary.scala:168)\u001b[0m\n"
     ]
    },
    {
     "data": {
      "text/plain": [
       "\u001b[36mfilePath\u001b[39m: \u001b[32mString\u001b[39m = \u001b[32m\"https://raw.githubusercontent.com/Eumaeus/fuCiteDX/master/hmt/hmt_january_2020.cex\"\u001b[39m\n",
       "\u001b[36mlib\u001b[39m: \u001b[32mCiteLibrary\u001b[39m = \u001b[33mCiteLibrary\u001b[39m(\n",
       "  \u001b[32m\"Homer Multitext project, release cwb_test\"\u001b[39m,\n",
       "  \u001b[33mCite2Urn\u001b[39m(\u001b[32m\"urn:cite2:hmt:publications.cex.cwb_test:all\"\u001b[39m),\n",
       "  \u001b[32m\"Creative Commons Attribution, Non-Commercial 4.0 License <https://creativecommons.org/licenses/by-nc/4.0/>.\"\u001b[39m,\n",
       "  \u001b[33mVector\u001b[39m(\n",
       "    \u001b[33mCiteNamespace\u001b[39m(\u001b[32m\"hmt\"\u001b[39m, http://www.homermultitext.org/citens/hmt),\n",
       "    \u001b[33mCiteNamespace\u001b[39m(\u001b[32m\"greekLit\"\u001b[39m, http://chs.harvard.edu/ctsns/greekLit)\n",
       "  ),\n",
       "  \u001b[33mSome\u001b[39m(\n",
       "    \u001b[33mTextRepository\u001b[39m(\n",
       "      \u001b[33mCorpus\u001b[39m(\n",
       "        \u001b[33mVector\u001b[39m(\n",
       "          \u001b[33mCitableNode\u001b[39m(\n",
       "            \u001b[33mCtsUrn\u001b[39m(\u001b[32m\"urn:cts:greekLit:tlg5026.msA.hmt:1.1.lemma\"\u001b[39m),\n",
       "            \u001b[32m\"\\u03bc\\u1fc6\\u03bd\\u03b9\\u03bd \\u1f04\\u03b5\\u03b9\\u03b4\\u03b5\"\u001b[39m\n",
       "          ),\n",
       "          \u001b[33mCitableNode\u001b[39m(\n",
       "            \u001b[33mCtsUrn\u001b[39m(\u001b[32m\"urn:cts:greekLit:tlg5026.msA.hmt:1.1.comment\"\u001b[39m),\n",
       "            \u001b[32m\"\\u03b6\\u03b7\\u03c4\\u03bf\\u1fe6\\u03c3\\u03b9 \\u03b4\\u03b9\\u03b1 \\u03c4\\u03af \\u1f00\\u03c0\\u1f78 \\u03c4\\u1fc6\\u03c2 \\u03bc\\u03ae\\u03bd\\u03b9\\u03b4\\u03bf\\u03c2 \\u1f24\\u03c1\\u03be\\u03b1\\u03c4\\u03bf \\u03bf\\u1f55\\u03c4\\u03c9\\u03c2 \\u03b4\\u03c5\\u03c3\\u03c6\\u03ae\\u03bc\\u03bf\\u03c5 \\u1f40\\u03bd\\u1f79\\u03bc\\u03b1\\u03c4\\u03bf\\u03c2\\u00b7 \\u03b4\\u03b9\\u03b1 \\u03b4\\u1f7b\\u03bf \\u03c4\\u03b1\\u1fe6\\u03c4\\u03b1\\u00b7 \\u03c0\\u03c1\\u1ff6\\u03c4\\u03bf\\u03bd \\u03bc\\u1f72\\u03bd \\u1f35\\u03bd' \\u1f10\\u03ba \\u03c4\\u03bf\\u1fe6 \\u03c0\\u1f71\\u03b8\\u03bf\\u03c5\\u03c2 \\u1f00\\u03c0\\u03ba\\u03b1\\u03c4\\u03b1\\u1fe5\\u03c1\\u03b5\\u1f7b\\u03c3\\u1fc3 \\u03c4\\u1f78 \\u03c4\\u03bf\\u03b9\\u03bf\\u1fe6\\u03c4\\u03bf \\u03bc\\u1f79\\u03c1\\u03b9\\u03bf\\u03bd \\u03c4\\u1fc6\\u03c2 \\u03c8\\u03c5\\u03c7\\u1fc6\\u03c2 \\u03ba\\u03b1\\u1f76 \\u03c0\\u03c1\\u03bf\\u03c3\\u03b5\\u03ba\\u03c4\\u03b9\\u03ba\\u03c9\\u03c4\\u1f73\\u03c1\\u03bf\\u03c5\\u03c2 \\u03c4\\u03bf\\u1f7a\\u03c2 \\u1f00\\u03ba\\u03c1\\u03bf\\u03b1\\u03c4\\u1f70\\u03c2 \\u1f10\\u03c0\\u03b9 \\u03c4\\u03bf\\u1fe6 \\u03bc\\u03b5\\u03b3\\u1f73\\u03b8\\u03bf\\u03c5\\u03c2 \\u03c0\\u03bf\\u03b9\\u03ae\\u03c3\\u1fc3 \\u03ba\\u03b1\\u1f76 \\u03c0\\u03c1\\u03bf\\u03c3\\u03b5\\u03b8\\u03af\\u03b6\\u1fc3 \\u03c6\\u1f73\\u03c1\\u03b5\\u03b9\\u03bd \\u03b3\\u03b5\\u03bd\\u03bd\\u03b1\\u03af\\u03c9\\u03c2 \\u1f21\\u03bc\\u1fb6\\u03c2 \\u03c4\\u1f70 \\u03c0\\u1f71\\u03b8\\u03b7 . \\u03bc\\u1f73\\u03bb\\u03bb\\u03c9\\u03bd \\u03c0\\u03bf\\u03bb\\u03bb\\u1f73\\u03bc\\u03bf\\u03c5\\u03c2 \\u1f00\\u03c0\\u03b1\\u03b3\\u03b3\\u1f73\\u03bb\\u03bb\\u03b5\\u03b9\\u03bd\\u00b7 \\u03b4\\u03b5\\u1f7b\\u03c4\\u03b5\\u03c1\\u03bf\\u03bd . \\u1f35\\u03bd\\u03b1 \\u03c4\\u1f70 \\u1f10\\u03b3\\u03ba\\u1f7d\\u03bc\\u03b9\\u03b1\u001b[39m..."
      ]
     },
     "execution_count": 11,
     "metadata": {},
     "output_type": "execute_result"
    }
   ],
   "source": [
    "val filePath = s\"https://raw.githubusercontent.com/Eumaeus/fuCiteDX/master/hmt/hmt_january_2020.cex\"\n",
    "val lib: CiteLibrary = CiteLibrarySource.fromUrl(filePath)"
   ]
  },
  {
   "cell_type": "markdown",
   "metadata": {},
   "source": [
    "Get parts of the CITE Library in convenient form:"
   ]
  },
  {
   "cell_type": "code",
   "execution_count": 6,
   "metadata": {},
   "outputs": [
    {
     "data": {
      "text/html": [
       "<div class=\"jp-RenderedText\">\n",
       "<pre><code><span style=\"color: rgb(0, 187, 187)\"><span class=\"ansi-cyan-fg\">tr</span></span>: <span style=\"color: rgb(0, 187, 0)\"><span class=\"ansi-green-fg\">TextRepository</span></span> = <span style=\"color: white\"><span class=\"ansi-white-fg\">[lazy]</span></span>\n",
       "<span style=\"color: rgb(0, 187, 187)\"><span class=\"ansi-cyan-fg\">corp</span></span>: <span style=\"color: rgb(0, 187, 0)\"><span class=\"ansi-green-fg\">Corpus</span></span> = <span style=\"color: white\"><span class=\"ansi-white-fg\">[lazy]</span></span>\n",
       "<span style=\"color: rgb(0, 187, 187)\"><span class=\"ansi-cyan-fg\">cat</span></span>: <span style=\"color: rgb(0, 187, 0)\"><span class=\"ansi-green-fg\">Catalog</span></span> = <span style=\"color: white\"><span class=\"ansi-white-fg\">[lazy]</span></span>\n",
       "<span style=\"color: rgb(0, 187, 187)\"><span class=\"ansi-cyan-fg\">colls</span></span>: <span style=\"color: rgb(0, 187, 0)\"><span class=\"ansi-green-fg\">CiteCollectionRepository</span></span> = <span style=\"color: white\"><span class=\"ansi-white-fg\">[lazy]</span></span>\n",
       "<span style=\"color: rgb(0, 187, 187)\"><span class=\"ansi-cyan-fg\">rels</span></span>: <span style=\"color: rgb(0, 187, 0)\"><span class=\"ansi-green-fg\">CiteRelationSet</span></span> = <span style=\"color: white\"><span class=\"ansi-white-fg\">[lazy]</span></span>\n",
       "<span style=\"color: rgb(0, 187, 187)\"><span class=\"ansi-cyan-fg\">myDseVec</span></span>: <span style=\"color: rgb(0, 187, 0)\"><span class=\"ansi-green-fg\">DseVector</span></span> = <style>@keyframes fadein { from { opacity: 0; } to { opacity: 1; } }</style><span style=\"animation: fadein 2s;\"><span style=\"color: yellow\"><span class=\"ansi-yellow-fg\">DseVector</span></span>(<span style=\"color: yellow\"><span class=\"ansi-yellow-fg\">Vector</span></span>())</span></code></pre>\n",
       "</div>"
      ],
      "text/plain": [
       "\u001b[36mtr\u001b[39m: \u001b[32mTextRepository\u001b[39m = \u001b[37m[lazy]\u001b[39m\n",
       "\u001b[36mcorp\u001b[39m: \u001b[32mCorpus\u001b[39m = \u001b[37m[lazy]\u001b[39m\n",
       "\u001b[36mcat\u001b[39m: \u001b[32mCatalog\u001b[39m = \u001b[37m[lazy]\u001b[39m\n",
       "\u001b[36mcolls\u001b[39m: \u001b[32mCiteCollectionRepository\u001b[39m = \u001b[37m[lazy]\u001b[39m\n",
       "\u001b[36mrels\u001b[39m: \u001b[32mCiteRelationSet\u001b[39m = \u001b[37m[lazy]\u001b[39m\n",
       "\u001b[36mmyDseVec\u001b[39m: \u001b[32mDseVector\u001b[39m = \u001b[33mDseVector\u001b[39m(\u001b[33mVector\u001b[39m())"
      ]
     },
     "metadata": {},
     "output_type": "display_data"
    }
   ],
   "source": [
    "lazy val tr: TextRepository = lib.textRepository.get\n",
    "lazy val corp: Corpus = tr.corpus\n",
    "lazy val cat: Catalog = tr.catalog\n",
    "lazy val colls: CiteCollectionRepository = lib.collectionRepository.get\n",
    "lazy val rels: CiteRelationSet = lib.relationSet.get\n",
    "lazy val myDseVec: DseVector = DseVector.fromCiteLibrary(lib)"
   ]
  },
  {
   "cell_type": "code",
   "execution_count": 7,
   "metadata": {},
   "outputs": [
    {
     "data": {
      "text/plain": [
       "\u001b[36mres6\u001b[39m: \u001b[32mDseVector\u001b[39m = \u001b[33mDseVector\u001b[39m(\u001b[33mVector\u001b[39m())"
      ]
     },
     "execution_count": 7,
     "metadata": {},
     "output_type": "execute_result"
    }
   ],
   "source": [
    "myDseVec"
   ]
  },
  {
   "cell_type": "markdown",
   "metadata": {},
   "source": [
    "## Get a Map of Text-Bearing Surfaces"
   ]
  },
  {
   "cell_type": "markdown",
   "metadata": {},
   "source": [
    "If a CITE Library implements the \"text bearing surface\" model (`urn:cite2:cite:datamodels.v1:tbsmodel`), it knows this and can tell us about it."
   ]
  },
  {
   "cell_type": "code",
   "execution_count": 6,
   "metadata": {},
   "outputs": [
    {
     "data": {
      "text/plain": [
       "\u001b[36mtbsUrn\u001b[39m: \u001b[32mCite2Urn\u001b[39m = \u001b[33mCite2Urn\u001b[39m(\u001b[32m\"urn:cite2:cite:datamodels.v1:tbsmodel\"\u001b[39m)\n",
       "\u001b[36mtbsCollections\u001b[39m: \u001b[32mVector\u001b[39m[\u001b[32mCite2Urn\u001b[39m] = \u001b[33mVector\u001b[39m(\n",
       "  \u001b[33mCite2Urn\u001b[39m(\u001b[32m\"urn:cite2:hmt:msA.v1:\"\u001b[39m),\n",
       "  \u001b[33mCite2Urn\u001b[39m(\u001b[32m\"urn:cite2:hmt:msB.v1:\"\u001b[39m)\n",
       ")"
      ]
     },
     "execution_count": 6,
     "metadata": {},
     "output_type": "execute_result"
    }
   ],
   "source": [
    "val tbsUrn = Cite2Urn(\"urn:cite2:cite:datamodels.v1:tbsmodel\")\n",
    "val tbsCollections: Vector[Cite2Urn] = lib.collectionsForModel(tbsUrn)"
   ]
  },
  {
   "cell_type": "markdown",
   "metadata": {},
   "source": [
    "With this, we can get a map of Text Bearing Surfaces, keyed by collection."
   ]
  },
  {
   "cell_type": "code",
   "execution_count": 7,
   "metadata": {},
   "outputs": [
    {
     "data": {
      "text/plain": [
       "\u001b[36mtbsMap\u001b[39m: \u001b[32mMap\u001b[39m[\u001b[32mCite2Urn\u001b[39m, \u001b[32mVector\u001b[39m[\u001b[32mCite2Urn\u001b[39m]] = \u001b[33mMap\u001b[39m(\n",
       "  \u001b[33mCite2Urn\u001b[39m(\u001b[32m\"urn:cite2:hmt:msA.v1:\"\u001b[39m) -> \u001b[33mVector\u001b[39m(\n",
       "    \u001b[33mCite2Urn\u001b[39m(\u001b[32m\"urn:cite2:hmt:msA.v1:insidefrontcover\"\u001b[39m),\n",
       "    \u001b[33mCite2Urn\u001b[39m(\u001b[32m\"urn:cite2:hmt:msA.v1:ir\"\u001b[39m),\n",
       "    \u001b[33mCite2Urn\u001b[39m(\u001b[32m\"urn:cite2:hmt:msA.v1:iv\"\u001b[39m),\n",
       "    \u001b[33mCite2Urn\u001b[39m(\u001b[32m\"urn:cite2:hmt:msA.v1:1r\"\u001b[39m),\n",
       "    \u001b[33mCite2Urn\u001b[39m(\u001b[32m\"urn:cite2:hmt:msA.v1:1v\"\u001b[39m),\n",
       "    \u001b[33mCite2Urn\u001b[39m(\u001b[32m\"urn:cite2:hmt:msA.v1:2r\"\u001b[39m),\n",
       "    \u001b[33mCite2Urn\u001b[39m(\u001b[32m\"urn:cite2:hmt:msA.v1:2v\"\u001b[39m),\n",
       "    \u001b[33mCite2Urn\u001b[39m(\u001b[32m\"urn:cite2:hmt:msA.v1:3r\"\u001b[39m),\n",
       "    \u001b[33mCite2Urn\u001b[39m(\u001b[32m\"urn:cite2:hmt:msA.v1:3v\"\u001b[39m),\n",
       "    \u001b[33mCite2Urn\u001b[39m(\u001b[32m\"urn:cite2:hmt:msA.v1:4r\"\u001b[39m),\n",
       "    \u001b[33mCite2Urn\u001b[39m(\u001b[32m\"urn:cite2:hmt:msA.v1:4v\"\u001b[39m),\n",
       "    \u001b[33mCite2Urn\u001b[39m(\u001b[32m\"urn:cite2:hmt:msA.v1:5r\"\u001b[39m),\n",
       "    \u001b[33mCite2Urn\u001b[39m(\u001b[32m\"urn:cite2:hmt:msA.v1:5v\"\u001b[39m),\n",
       "    \u001b[33mCite2Urn\u001b[39m(\u001b[32m\"urn:cite2:hmt:msA.v1:6r\"\u001b[39m),\n",
       "    \u001b[33mCite2Urn\u001b[39m(\u001b[32m\"urn:cite2:hmt:msA.v1:6v\"\u001b[39m),\n",
       "    \u001b[33mCite2Urn\u001b[39m(\u001b[32m\"urn:cite2:hmt:msA.v1:7r\"\u001b[39m),\n",
       "    \u001b[33mCite2Urn\u001b[39m(\u001b[32m\"urn:cite2:hmt:msA.v1:7v\"\u001b[39m),\n",
       "    \u001b[33mCite2Urn\u001b[39m(\u001b[32m\"urn:cite2:hmt:msA.v1:8r\"\u001b[39m),\n",
       "    \u001b[33mCite2Urn\u001b[39m(\u001b[32m\"urn:cite2:hmt:msA.v1:8v\"\u001b[39m),\n",
       "    \u001b[33mCite2Urn\u001b[39m(\u001b[32m\"urn:cite2:hmt:msA.v1:9r\"\u001b[39m),\n",
       "    \u001b[33mCite2Urn\u001b[39m(\u001b[32m\"urn:cite2:hmt:msA.v1:9v\"\u001b[39m),\n",
       "    \u001b[33mCite2Urn\u001b[39m(\u001b[32m\"urn:cite2:hmt:msA.v1:10r\"\u001b[39m),\n",
       "    \u001b[33mCite2Urn\u001b[39m(\u001b[32m\"urn:cite2:hmt:msA.v1:10v\"\u001b[39m),\n",
       "    \u001b[33mCite2Urn\u001b[39m(\u001b[32m\"urn:cite2:hmt:msA.v1:11r\"\u001b[39m),\n",
       "    \u001b[33mCite2Urn\u001b[39m(\u001b[32m\"urn:cite2:hmt:msA.v1:11v\"\u001b[39m),\n",
       "    \u001b[33mCite2Urn\u001b[39m(\u001b[32m\"urn:cite2:hmt:msA.v1:12r\"\u001b[39m),\n",
       "    \u001b[33mCite2Urn\u001b[39m(\u001b[32m\"urn:cite2:hmt:msA.v1:12v\"\u001b[39m),\n",
       "    \u001b[33mCite2Urn\u001b[39m(\u001b[32m\"urn:cite2:hmt:msA.v1:13r\"\u001b[39m),\n",
       "    \u001b[33mCite2Urn\u001b[39m(\u001b[32m\"urn:cite2:hmt:msA.v1:13v\"\u001b[39m),\n",
       "    \u001b[33mCite2Urn\u001b[39m(\u001b[32m\"urn:cite2:hmt:msA.v1:14r\"\u001b[39m),\n",
       "    \u001b[33mCite2Urn\u001b[39m(\u001b[32m\"urn:cite2:hmt:msA.v1:14v\"\u001b[39m),\n",
       "    \u001b[33mCite2Urn\u001b[39m(\u001b[32m\"urn:cite2:hmt:msA.v1:15r\"\u001b[39m),\n",
       "    \u001b[33mCite2Urn\u001b[39m(\u001b[32m\"urn:cite2:hmt:msA.v1:15v\"\u001b[39m),\n",
       "    \u001b[33mCite2Urn\u001b[39m(\u001b[32m\"urn:cite2:hmt:msA.v1:16r\"\u001b[39m),\n",
       "    \u001b[33mCite2Urn\u001b[39m(\u001b[32m\"urn:cite2:hmt:msA.v1:16v\"\u001b[39m),\n",
       "    \u001b[33mCite2Urn\u001b[39m(\u001b[32m\"urn:cite2:hmt:msA.v1:17r\"\u001b[39m),\n",
       "    \u001b[33mCite2Urn\u001b[39m(\u001b[32m\"urn:cite2:hmt:msA.v1:17v\"\u001b[39m),\n",
       "..."
      ]
     },
     "execution_count": 7,
     "metadata": {},
     "output_type": "execute_result"
    }
   ],
   "source": [
    "val tbsMap: Map[Cite2Urn, Vector[Cite2Urn]] = {\n",
    "    tbsCollections.map( tc => {\n",
    "        val key = tc\n",
    "        val vec = (colls ~~ tc).map(_.urn)\n",
    "        (key -> vec)\n",
    "    }).toMap\n",
    "}"
   ]
  },
  {
   "cell_type": "markdown",
   "metadata": {},
   "source": [
    "   ## DSE Work"
   ]
  },
  {
   "cell_type": "code",
   "execution_count": 8,
   "metadata": {},
   "outputs": [
    {
     "name": "stderr",
     "output_type": "stream",
     "text": [
      "cmd8.sc:1: value dseVector is not a member of edu.holycross.shot.scm.CiteLibrary\n",
      "val res8 = lib.dseVector\n",
      "               ^Compilation Failed"
     ]
    },
    {
     "ename": "",
     "evalue": "",
     "output_type": "error",
     "traceback": [
      "Compilation Failed"
     ]
    }
   ],
   "source": [
    "lib.dseVector"
   ]
  },
  {
   "cell_type": "code",
   "execution_count": 9,
   "metadata": {},
   "outputs": [
    {
     "data": {
      "text/plain": [
       "\u001b[36mres8\u001b[39m: \u001b[32mDseVector\u001b[39m = \u001b[33mDseVector\u001b[39m(\n",
       "  \u001b[33mVector\u001b[39m(\n",
       "    \u001b[33mDsePassage\u001b[39m(\n",
       "      \u001b[33mCite2Urn\u001b[39m(\u001b[32m\"urn:cite2:hmt:va_dse.v1:il2168\"\u001b[39m),\n",
       "      \u001b[32m\"DSE record for Iliad 4.217\"\u001b[39m,\n",
       "      \u001b[33mCtsUrn\u001b[39m(\u001b[32m\"urn:cts:greekLit:tlg0012.tlg001.msA:4.217\"\u001b[39m),\n",
       "      \u001b[33mCite2Urn\u001b[39m(\n",
       "        \u001b[32m\"urn:cite2:hmt:vaimg.2017a:VA055VN_0557@0.4865,0.3644,0.3954,0.0391\"\u001b[39m\n",
       "      ),\n",
       "      \u001b[33mCite2Urn\u001b[39m(\u001b[32m\"urn:cite2:hmt:msA.v1:55v\"\u001b[39m)\n",
       "    ),\n",
       "    \u001b[33mDsePassage\u001b[39m(\n",
       "      \u001b[33mCite2Urn\u001b[39m(\u001b[32m\"urn:cite2:hmt:va_dse.v1:il11826\"\u001b[39m),\n",
       "      \u001b[32m\"DSE record for Iliad 18.529\"\u001b[39m,\n",
       "      \u001b[33mCtsUrn\u001b[39m(\u001b[32m\"urn:cts:greekLit:tlg0012.tlg001.msA:18.529\"\u001b[39m),\n",
       "      \u001b[33mCite2Urn\u001b[39m(\n",
       "        \u001b[32m\"urn:cite2:hmt:vaimg.2017a:VA249RN_0420@0.19,0.6589,0.427,0.0331\"\u001b[39m\n",
       "      ),\n",
       "      \u001b[33mCite2Urn\u001b[39m(\u001b[32m\"urn:cite2:hmt:msA.v1:249r\"\u001b[39m)\n",
       "    ),\n",
       "    \u001b[33mDsePassage\u001b[39m(\n",
       "      \u001b[33mCite2Urn\u001b[39m(\u001b[32m\"urn:cite2:hmt:va_dse.v1:il6005\"\u001b[39m),\n",
       "      \u001b[32m\"DSE record for Iliad 10.337\"\u001b[39m,\n",
       "      \u001b[33mCtsUrn\u001b[39m(\u001b[32m\"urn:cts:greekLit:tlg0012.tlg001.msA:10.337\"\u001b[39m),\n",
       "      \u001b[33mCite2Urn\u001b[39m(\n",
       "        \u001b[32m\"urn:cite2:hmt:vaimg.2017a:VA132VN_0635@0.485,0.4313,0.388,0.0278\"\u001b[39m\n",
       "      ),\n",
       "      \u001b[33mCite2Urn\u001b[39m(\u001b[32m\"urn:cite2:hmt:msA.v1:132v\"\u001b[39m)\n",
       "    ),\n",
       "    \u001b[33mDsePassage\u001b[39m(\n",
       "      \u001b[33mCite2Urn\u001b[39m(\u001b[32m\"urn:cite2:hmt:va_dse.v1:il16223\"\u001b[39m),\n",
       "      \u001b[32m\"DSE record for Iliad 16.32\"\u001b[39m,\n",
       "      \u001b[33mCtsUrn\u001b[39m(\u001b[32m\"urn:cts:greekLit:tlg0012.tlg001.msA:16.32\"\u001b[39m),\n",
       "      \u001b[33mCite2Urn\u001b[39m(\n",
       "        \u001b[32m\"urn:cite2:hmt:vaimg.2017a:VA206VN_0708@0.507,0.3441,0.406,0.0263\"\u001b[39m\n",
       "      ),\n",
       "      \u001b[33mCite2Urn\u001b[39m(\u001b[32m\"urn:cite2:hmt:msA.v1:206v\"\u001b[39m)\n",
       "    ),\n",
       "    \u001b[33mDsePassage\u001b[39m(\n",
       "..."
      ]
     },
     "execution_count": 9,
     "metadata": {},
     "output_type": "execute_result"
    }
   ],
   "source": [
    "DseVector.fromCiteLibrary(lib)"
   ]
  },
  {
   "cell_type": "code",
   "execution_count": 12,
   "metadata": {},
   "outputs": [
    {
     "data": {
      "text/plain": [
       "\u001b[36mctsu1\u001b[39m: \u001b[32mCtsUrn\u001b[39m = \u001b[33mCtsUrn\u001b[39m(\u001b[32m\"urn:cts:greekLit:tlg0012.tlg001:1\"\u001b[39m)\n",
       "\u001b[36mctsu2\u001b[39m: \u001b[32mCtsUrn\u001b[39m = \u001b[33mCtsUrn\u001b[39m(\u001b[32m\"urn:cts:greekLit:tlg0012.tlg001:1\"\u001b[39m)\n",
       "\u001b[36mciteu1\u001b[39m: \u001b[32mCite2Urn\u001b[39m = \u001b[33mCite2Urn\u001b[39m(\u001b[32m\"urn:cite2:hmt:va_dse.v1:il16223\"\u001b[39m)\n",
       "\u001b[36mciteu2\u001b[39m: \u001b[32mCite2Urn\u001b[39m = \u001b[33mCite2Urn\u001b[39m(\u001b[32m\"urn:cite2:hmt:va_dse.v1:il16223\"\u001b[39m)"
      ]
     },
     "execution_count": 12,
     "metadata": {},
     "output_type": "execute_result"
    }
   ],
   "source": [
    "val ctsu1 = CtsUrn(\"urn:cts:greekLit:tlg0012.tlg001:1\")\n",
    "val ctsu2 = CtsUrn(\"urn:cts:greekLit:tlg0012.tlg001:1\")\n",
    "val citeu1 =  Cite2Urn(\"urn:cite2:hmt:va_dse.v1:il16223\")\n",
    "val citeu2 =  Cite2Urn(\"urn:cite2:hmt:va_dse.v1:il16223\")"
   ]
  },
  {
   "cell_type": "code",
   "execution_count": 14,
   "metadata": {},
   "outputs": [
    {
     "data": {
      "text/plain": [
       "\u001b[36mres13_0\u001b[39m: \u001b[32mUrn\u001b[39m = \u001b[33mCtsUrn\u001b[39m(\u001b[32m\"urn:cts:greekLit:tlg0012.tlg001:1\"\u001b[39m)\n",
       "\u001b[36mres13_1\u001b[39m: \u001b[32mUrn\u001b[39m = \u001b[33mCtsUrn\u001b[39m(\u001b[32m\"urn:cts:greekLit:tlg0012.tlg001:1\"\u001b[39m)"
      ]
     },
     "execution_count": 14,
     "metadata": {},
     "output_type": "execute_result"
    }
   ],
   "source": [
    "ctsu1.asInstanceOf[Urn] \n",
    "ctsu2.asInstanceOf[Urn] "
   ]
  },
  {
   "cell_type": "code",
   "execution_count": 15,
   "metadata": {},
   "outputs": [
    {
     "data": {
      "text/plain": [
       "\u001b[36mres14\u001b[39m: \u001b[32mBoolean\u001b[39m = true"
      ]
     },
     "execution_count": 15,
     "metadata": {},
     "output_type": "execute_result"
    }
   ],
   "source": [
    "res13_0 == res13_1\n"
   ]
  },
  {
   "cell_type": "code",
   "execution_count": null,
   "metadata": {},
   "outputs": [],
   "source": []
  }
 ],
 "metadata": {
  "kernel_info": {
   "name": "scala"
  },
  "kernelspec": {
   "display_name": "Scala",
   "language": "scala",
   "name": "scala"
  },
  "language_info": {
   "codemirror_mode": "text/x-scala",
   "file_extension": ".scala",
   "mimetype": "text/x-scala",
   "name": "scala",
   "nbconvert_exporter": "script",
   "version": "2.12.10"
  },
  "nteract": {
   "version": "0.15.0"
  }
 },
 "nbformat": 4,
 "nbformat_minor": 2
}
