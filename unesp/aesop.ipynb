{
 "cells": [
  {
   "cell_type": "markdown",
   "metadata": {},
   "source": [
    "# Aesop: Greek and Portuguese\n",
    "\n",
    "\n"
   ]
  },
  {
   "cell_type": "markdown",
   "metadata": {},
   "source": [
    "This notebook takes a plain-text file containing the text of Aesop, *Fabulae*, 1–17, in the Greek edition of Helm (1872), and a new Portuguese translation by M.C. Dezotti (2020), and transforms it into a canonically-citable, CITE-compliant digital library serialized into [CEX format](http://cite-architecture.org/citedx/CEX-spec-3.0.1).\n",
    "\n",
    "**This is not a generic script!** The input file is clean and well-structured plain-text, but in an idiosyncratic format. Because it is well-structured, we can work with it. Because it is idiosyncratic, this is an exercise in *some techniques* for moving legacy data into CEX."
   ]
  },
  {
   "cell_type": "markdown",
   "metadata": {},
   "source": [
    "## Configuring CITE libraries for almond kernel\n",
    "\n",
    "First, we'll make a bintray repository with CITE libraries available to your almond kernel."
   ]
  },
  {
   "cell_type": "code",
   "execution_count": 47,
   "metadata": {},
   "outputs": [
    {
     "data": {
      "text/plain": [
       "\u001b[36mmyBT\u001b[39m: \u001b[32mcoursierapi\u001b[39m.\u001b[32mMavenRepository\u001b[39m = MavenRepository(https://dl.bintray.com/neelsmith/maven)"
      ]
     },
     "execution_count": 47,
     "metadata": {},
     "output_type": "execute_result"
    }
   ],
   "source": [
    "val myBT = coursierapi.MavenRepository.of(\"https://dl.bintray.com/neelsmith/maven\")\n",
    "interp.repositories() ++= Seq(myBT)"
   ]
  },
  {
   "cell_type": "markdown",
   "metadata": {},
   "source": [
    "Next, we bring in specific libraries from the new repository using almond's `$ivy` magic:"
   ]
  },
  {
   "cell_type": "code",
   "execution_count": 48,
   "metadata": {},
   "outputs": [
    {
     "data": {
      "text/plain": [
       "\u001b[32mimport \u001b[39m\u001b[36m$ivy.$                                  \n",
       "\u001b[39m\n",
       "\u001b[32mimport \u001b[39m\u001b[36m$ivy.$                                     \n",
       "\u001b[39m\n",
       "\u001b[32mimport \u001b[39m\u001b[36m$ivy.$                              \n",
       "\u001b[39m\n",
       "\u001b[32mimport \u001b[39m\u001b[36m$ivy.$                              \n",
       "\u001b[39m\n",
       "\u001b[32mimport \u001b[39m\u001b[36m$ivy.$                                          \n",
       "\u001b[39m\n",
       "\u001b[32mimport \u001b[39m\u001b[36m$ivy.$                                  \n",
       "\u001b[39m\n",
       "\u001b[32mimport \u001b[39m\u001b[36m$ivy.$                                        \n",
       "\u001b[39m\n",
       "\u001b[32mimport \u001b[39m\u001b[36m$ivy.$                              \n",
       "\u001b[39m"
      ]
     },
     "execution_count": 48,
     "metadata": {},
     "output_type": "execute_result"
    }
   ],
   "source": [
    "import $ivy.`edu.holycross.shot::ohco2:10.16.0`\n",
    "import $ivy.`edu.holycross.shot.cite::xcite:4.1.1`\n",
    "import $ivy.`edu.holycross.shot::scm:7.2.0`\n",
    "import $ivy.`edu.holycross.shot::dse:5.2.2`\n",
    "import $ivy.`edu.holycross.shot::citebinaryimage:3.1.1`\n",
    "import $ivy.`edu.holycross.shot::citeobj:7.3.4`\n",
    "import $ivy.`edu.holycross.shot::citerelations:2.5.2`\n",
    "import $ivy.`edu.holycross.shot::cex:6.3.3`\n"
   ]
  },
  {
   "cell_type": "markdown",
   "metadata": {},
   "source": [
    "## Imports\n",
    "\n",
    "From this point on, your notebook consists of completely generic Scala, with the CITE Libraries available to use."
   ]
  },
  {
   "cell_type": "code",
   "execution_count": 49,
   "metadata": {},
   "outputs": [
    {
     "data": {
      "text/plain": [
       "\u001b[32mimport \u001b[39m\u001b[36medu.holycross.shot.cite._\n",
       "\u001b[39m\n",
       "\u001b[32mimport \u001b[39m\u001b[36medu.holycross.shot.ohco2._\n",
       "\u001b[39m\n",
       "\u001b[32mimport \u001b[39m\u001b[36medu.holycross.shot.scm._\n",
       "\u001b[39m\n",
       "\u001b[32mimport \u001b[39m\u001b[36medu.holycross.shot.citeobj._\n",
       "\u001b[39m\n",
       "\u001b[32mimport \u001b[39m\u001b[36medu.holycross.shot.citerelation._\n",
       "\u001b[39m\n",
       "\u001b[32mimport \u001b[39m\u001b[36medu.holycross.shot.dse._\n",
       "\u001b[39m\n",
       "\u001b[32mimport \u001b[39m\u001b[36medu.holycross.shot.citebinaryimage._\n",
       "\u001b[39m\n",
       "\u001b[32mimport \u001b[39m\u001b[36medu.holycross.shot.ohco2._\n",
       "\n",
       "\u001b[39m\n",
       "\u001b[32mimport \u001b[39m\u001b[36malmond.display.UpdatableDisplay\n",
       "\u001b[39m\n",
       "\u001b[32mimport \u001b[39m\u001b[36malmond.interpreter.api.DisplayData.ContentType\n",
       "\u001b[39m\n",
       "\u001b[32mimport \u001b[39m\u001b[36malmond.interpreter.api.{DisplayData, OutputHandler}\n",
       "\n",
       "\u001b[39m\n",
       "\u001b[32mimport \u001b[39m\u001b[36mjava.io.File\n",
       "\u001b[39m\n",
       "\u001b[32mimport \u001b[39m\u001b[36mjava.io.PrintWriter\n",
       "\n",
       "\u001b[39m\n",
       "\u001b[32mimport \u001b[39m\u001b[36mscala.io.Source\n",
       "\u001b[39m"
      ]
     },
     "execution_count": 49,
     "metadata": {},
     "output_type": "execute_result"
    }
   ],
   "source": [
    "// Import some CITE libraries\n",
    "import edu.holycross.shot.cite._\n",
    "import edu.holycross.shot.ohco2._\n",
    "import edu.holycross.shot.scm._\n",
    "import edu.holycross.shot.citeobj._\n",
    "import edu.holycross.shot.citerelation._\n",
    "import edu.holycross.shot.dse._\n",
    "import edu.holycross.shot.citebinaryimage._\n",
    "import edu.holycross.shot.ohco2._\n",
    "\n",
    "import almond.display.UpdatableDisplay\n",
    "import almond.interpreter.api.DisplayData.ContentType\n",
    "import almond.interpreter.api.{DisplayData, OutputHandler}\n",
    "\n",
    "import java.io.File\n",
    "import java.io.PrintWriter\n",
    "\n",
    "import scala.io.Source\n"
   ]
  },
  {
   "cell_type": "markdown",
   "metadata": {},
   "source": [
    "## Useful Functions"
   ]
  },
  {
   "cell_type": "markdown",
   "metadata": {},
   "source": [
    "A function for saving a String to a file."
   ]
  },
  {
   "cell_type": "code",
   "execution_count": 50,
   "metadata": {},
   "outputs": [
    {
     "data": {
      "text/plain": [
       "defined \u001b[32mfunction\u001b[39m \u001b[36msaveString\u001b[39m"
      ]
     },
     "execution_count": 50,
     "metadata": {},
     "output_type": "execute_result"
    }
   ],
   "source": [
    "def saveString(s:String, filePath:String = \"\", fileName:String = \"temp.txt\"):Unit = {\n",
    "\t\t val writer = new PrintWriter(new File(s\"${filePath}${fileName}\"))\n",
    "         writer.write(s)\n",
    "         writer.close()\n",
    "\t}"
   ]
  },
  {
   "cell_type": "markdown",
   "metadata": {},
   "source": [
    "A function to pretty-print lists and OHCO2 corpora."
   ]
  },
  {
   "cell_type": "code",
   "execution_count": 51,
   "metadata": {},
   "outputs": [
    {
     "data": {
      "text/plain": [
       "defined \u001b[32mfunction\u001b[39m \u001b[36mshowMe\u001b[39m"
      ]
     },
     "execution_count": 51,
     "metadata": {},
     "output_type": "execute_result"
    }
   ],
   "source": [
    "def showMe(v:Any):Unit = {\n",
    "  v match {\n",
    "    case _:StringHistogram => {\n",
    "        for ( h <- v.asInstanceOf[StringHistogram].histogram ) {\n",
    "            println(s\"${h.count}\\t${h.s}\")\n",
    "        }\n",
    "    }\n",
    "  \tcase _:Corpus => {\n",
    "  \t\tfor ( n <- v.asInstanceOf[Corpus].nodes) {\n",
    "  \t\t\tprintln(s\"${n.urn.passageComponent}\\t\\t${n.text}\")\n",
    "  \t\t}\t\n",
    "  \t}\n",
    "    case _:Vector[Any] => println(s\"\"\"\\n----\\n${v.asInstanceOf[Vector[Any]].mkString(\"\\n\")}\\n----\\n\"\"\")\n",
    "    case _:Iterable[Any] => println(s\"\"\"\\n----\\n${v.asInstanceOf[Iterable[Any]].mkString(\"\\n\")}\\n----\\n\"\"\")\n",
    "    case _ => println(s\"\\n-----\\n${v}\\n----\\n\")\n",
    "  }\n",
    "}"
   ]
  },
  {
   "cell_type": "markdown",
   "metadata": {},
   "source": [
    "## Load a Template File"
   ]
  },
  {
   "cell_type": "markdown",
   "metadata": {},
   "source": [
    "Load it:"
   ]
  },
  {
   "cell_type": "code",
   "execution_count": 52,
   "metadata": {},
   "outputs": [
    {
     "data": {
      "text/plain": [
       "\u001b[36mfilePath\u001b[39m: \u001b[32mString\u001b[39m = \u001b[32m\"txt/aesop.txt\"\u001b[39m\n",
       "\u001b[36mallLines\u001b[39m: \u001b[32mVector\u001b[39m[\u001b[32mString\u001b[39m] = \u001b[33mVector\u001b[39m(\n",
       "  \u001b[32m\"1. \\u1f08\\u03b3\\u03b1\\u03b8\\u1f70 \\u03ba\\u03b1\\u1f76 \\u039a\\u03b1\\u03ba\\u03ac Os bens e os males \"\u001b[39m,\n",
       "  \u001b[32m\"\\u1f08\\u03b3\\u03b1\\u03b8\\u1f70 \\u03c0\\u03ac\\u03bd\\u03c4\\u03b1 \\u1f51\\u03c0\\u1f78 \\u03c4\\u1ff6\\u03bd \\u03ba\\u03b1\\u03ba\\u1ff6\\u03bd \\u1f10\\u03b4\\u03b9\\u03ce\\u03c7\\u03b8\\u03b7, \\u1f61\\u03c2 \\u1f00\\u03c3\\u03b8\\u03b5\\u03bd\\u1fc6 \\u1f44\\u03bd\\u03c4\\u03b1\\u00b7 \\u03b5\\u1f30\\u03c2 \\u03bf\\u1f50\\u03c1\\u03b1\\u03bd\\u1f78\\u03bd \\u03b4\\u1f72 \\u1f00\\u03bd\\u1fc6\\u03bb\\u03b8\\u03bf\\u03bd. \\u039a\\u03b1\\u1f76 \\u03c4\\u1f00\\u03b3\\u03b1\\u03b8\\u1f70 \\u1f20\\u03c1\\u03ce\\u03c4\\u03b7\\u03c3\\u03b1\\u03bd \\u03c4\\u1f78\\u03bd \\u0394\\u03af\\u03b1, \\u03c0\\u1ff6\\u03c2 \\u03b5\\u1f36\\u03bd\\u03b1\\u03b9 \\u03b4\\u03b5\\u1fd6 \\u03bc\\u03b5\\u03c4\\u1f70 \\u1f00\\u03bd\\u03b8\\u03c1\\u03ce\\u03c0\\u03c9\\u03bd. \\u1f49 \\u03b4\\u1f72 \\u03b5\\u1f36\\u03c0\\u03b5, \\u03bc\\u1f74 \\u03bc\\u03b5\\u03c4\\u02bc \\u1f00\\u03bb\\u03bb\\u03ae\\u03bb\\u03c9\\u03bd \\u03c0\\u03ac\\u03bd\\u03c4\\u03b1, \\u1f13\\u03bd \\u03b4\\u1f72 \\u03ba\\u03b1\\u03b8\\u02bc \\u1f13\\u03bd \\u03c4\\u03bf\\u1fd6\\u03c2 \\u1f00\\u03bd\\u03b8\\u03c1\\u03ce\\u03c0\\u03bf\\u03b9\\u03c2 \\u1f10\\u03c0\\u03ad\\u03c1\\u03c7\\u03b5\\u03c3\\u03b8\\u03b1\\u03b9. \\u0394\\u03b9\\u1f70 \\u03c4\\u03bf\\u1fe6\\u03c4\\u03bf \\u03c4\\u1f70 \\u03bc\\u1f72\\u03bd \\u03ba\\u03b1\\u03ba\\u1f70 \\u03c3\\u03c5\\u03bd\\u03b5\\u03c7\\u1fc6 \\u03c4\\u03bf\\u1fd6\\u03c2 \\u1f00\\u03bd\\u03b8\\u03c1\\u03ce\\u03c0\\u03bf\\u03b9\\u03c2, \\u1f61\\u03c2 \\u03c0\\u03bb\\u03b7\\u03c3\\u03af\\u03bf\\u03bd \\u1f44\\u03bd\\u03c4\\u03b1, \\u1f10\\u03c0\\u03ad\\u03c1\\u03c7\\u03b5\\u03c4\\u03b1\\u03b9, \\u03c4\\u1f70 \\u03b4\\u1f72 \\u1f00\\u03b3\\u03b1\\u03b8\\u1f70 \\u03b2\\u03c1\\u03ac\\u03b4\\u03b9\\u03bf\\u03bd \\u1f10\\u03be \\u03bf\\u1f50\\u03c1\\u03b1\\u03bd\\u03bf\\u1fe6 \\u03ba\\u03ac\\u03c4\\u03b5\\u03b9\\u03c3\\u03b9. \\u1f49 \\u03bb\\u03cc\\u03b3\\u03bf\\u03c2 \\u03b4\\u03b7\\u03bb\\u03bf\\u1fd6, \\u1f45\\u03c4\\u03b9 \\u1f00\\u03b3\\u03b1\\u03b8\\u1ff7 \\u03bc\\u1f72\\u03bd \\u03bf\\u1f50\\u03b4\\u03b5\\u1f76\\u03c2 \\u03c4\\u03b1\\u03c7\\u03ad\\u03c9\\u03c2 \\u1f10\\u03c0\\u03b9\\u03c4\\u03c5\\u03b3\\u03c7\\u03ac\\u03bd\\u03b5\\u03b9, \\u1f51\\u03c0\\u1f78 \\u03b4\\u1f72 \\u03c4\\u1ff6\\u03bd \\u03ba\\u03b1\\u03ba\\u1ff6\\u03bd \\u1f15\\u03ba\\u03b1\\u03c3\\u03c4\\u03bf\\u03c2 \\u03ba\\u03b1\\u03b8\\u02bc \\u1f11\\u03ba\\u03ac\\u03c3\\u03c4\\u03b7\\u03bd \\u03c0\\u03bb\\u03ae\\u03c4\\u03c4\\u03b5\\u03c4\\u03b1\\u03b9.\"\u001b[39m,\n",
       "  \u001b[32m\"Os bens todos, por serem fr\\u00e1geis, foram perseguidos pelos males. Ent\\u00e3o, subiram ao c\\u00e9u. E os bens perguntaram a Zeus como deviam comportar-se entre os homens. Ele ent\\u00e3o falou para se acercarem dos homens, n\\u00e3o todos em conjunto, mas um de cada vez. Por isso os males constantemente se acercam dos homens porque est\\u00e3o por perto, enquanto os bens descem do c\\u00e9u mais devagar. A f\\u00e1bula mostra que ningu\\u00e9m depara rapidamente com um bem, mas pelos males cada pessoa \\u00e9 a cada momento atingida.\"\u001b[39m,\n",
       "  \u001b[32m\"2. \\u1f08\\u03b3\\u03b1\\u03bb\\u03bc\\u03b1\\u03c4\\u03bf\\u03c0\\u03ce\\u03bb\\u03b7\\u03c2 O vendedor de est\\u00e1tuas \"\u001b[39m,\n",
       "..."
      ]
     },
     "execution_count": 52,
     "metadata": {},
     "output_type": "execute_result"
    }
   ],
   "source": [
    "val filePath = s\"txt/aesop.txt\"\n",
    "val allLines: Vector[String] = {\n",
    "    scala.io.Source.fromFile(filePath).mkString.split(\"\\n\").toVector.filter( _.size > 0 )\n",
    "}"
   ]
  },
  {
   "cell_type": "markdown",
   "metadata": {},
   "source": [
    "## Parse Data"
   ]
  },
  {
   "cell_type": "markdown",
   "metadata": {},
   "source": [
    "We define a custom Class that is String + Index:"
   ]
  },
  {
   "cell_type": "code",
   "execution_count": 53,
   "metadata": {},
   "outputs": [
    {
     "data": {
      "text/plain": [
       "defined \u001b[32mclass\u001b[39m \u001b[36mIndexedLine\u001b[39m"
      ]
     },
     "execution_count": 53,
     "metadata": {},
     "output_type": "execute_result"
    }
   ],
   "source": [
    "case class IndexedLine( text: String, index: Int)"
   ]
  },
  {
   "cell_type": "markdown",
   "metadata": {},
   "source": [
    "We want to separate heading-lines from the content-lines.\n",
    "\n",
    "Attach to each line of the text, an index-number (this will stay with the lines, and be useful later)."
   ]
  },
  {
   "cell_type": "code",
   "execution_count": 54,
   "metadata": {},
   "outputs": [
    {
     "data": {
      "text/plain": [
       "\u001b[36mindexedLines\u001b[39m: \u001b[32mVector\u001b[39m[\u001b[32mIndexedLine\u001b[39m] = \u001b[33mVector\u001b[39m(\n",
       "  \u001b[33mIndexedLine\u001b[39m(\n",
       "    \u001b[32m\"1. \\u1f08\\u03b3\\u03b1\\u03b8\\u1f70 \\u03ba\\u03b1\\u1f76 \\u039a\\u03b1\\u03ba\\u03ac Os bens e os males \"\u001b[39m,\n",
       "    \u001b[32m0\u001b[39m\n",
       "  ),\n",
       "  \u001b[33mIndexedLine\u001b[39m(\n",
       "    \u001b[32m\"\\u1f08\\u03b3\\u03b1\\u03b8\\u1f70 \\u03c0\\u03ac\\u03bd\\u03c4\\u03b1 \\u1f51\\u03c0\\u1f78 \\u03c4\\u1ff6\\u03bd \\u03ba\\u03b1\\u03ba\\u1ff6\\u03bd \\u1f10\\u03b4\\u03b9\\u03ce\\u03c7\\u03b8\\u03b7, \\u1f61\\u03c2 \\u1f00\\u03c3\\u03b8\\u03b5\\u03bd\\u1fc6 \\u1f44\\u03bd\\u03c4\\u03b1\\u00b7 \\u03b5\\u1f30\\u03c2 \\u03bf\\u1f50\\u03c1\\u03b1\\u03bd\\u1f78\\u03bd \\u03b4\\u1f72 \\u1f00\\u03bd\\u1fc6\\u03bb\\u03b8\\u03bf\\u03bd. \\u039a\\u03b1\\u1f76 \\u03c4\\u1f00\\u03b3\\u03b1\\u03b8\\u1f70 \\u1f20\\u03c1\\u03ce\\u03c4\\u03b7\\u03c3\\u03b1\\u03bd \\u03c4\\u1f78\\u03bd \\u0394\\u03af\\u03b1, \\u03c0\\u1ff6\\u03c2 \\u03b5\\u1f36\\u03bd\\u03b1\\u03b9 \\u03b4\\u03b5\\u1fd6 \\u03bc\\u03b5\\u03c4\\u1f70 \\u1f00\\u03bd\\u03b8\\u03c1\\u03ce\\u03c0\\u03c9\\u03bd. \\u1f49 \\u03b4\\u1f72 \\u03b5\\u1f36\\u03c0\\u03b5, \\u03bc\\u1f74 \\u03bc\\u03b5\\u03c4\\u02bc \\u1f00\\u03bb\\u03bb\\u03ae\\u03bb\\u03c9\\u03bd \\u03c0\\u03ac\\u03bd\\u03c4\\u03b1, \\u1f13\\u03bd \\u03b4\\u1f72 \\u03ba\\u03b1\\u03b8\\u02bc \\u1f13\\u03bd \\u03c4\\u03bf\\u1fd6\\u03c2 \\u1f00\\u03bd\\u03b8\\u03c1\\u03ce\\u03c0\\u03bf\\u03b9\\u03c2 \\u1f10\\u03c0\\u03ad\\u03c1\\u03c7\\u03b5\\u03c3\\u03b8\\u03b1\\u03b9. \\u0394\\u03b9\\u1f70 \\u03c4\\u03bf\\u1fe6\\u03c4\\u03bf \\u03c4\\u1f70 \\u03bc\\u1f72\\u03bd \\u03ba\\u03b1\\u03ba\\u1f70 \\u03c3\\u03c5\\u03bd\\u03b5\\u03c7\\u1fc6 \\u03c4\\u03bf\\u1fd6\\u03c2 \\u1f00\\u03bd\\u03b8\\u03c1\\u03ce\\u03c0\\u03bf\\u03b9\\u03c2, \\u1f61\\u03c2 \\u03c0\\u03bb\\u03b7\\u03c3\\u03af\\u03bf\\u03bd \\u1f44\\u03bd\\u03c4\\u03b1, \\u1f10\\u03c0\\u03ad\\u03c1\\u03c7\\u03b5\\u03c4\\u03b1\\u03b9, \\u03c4\\u1f70 \\u03b4\\u1f72 \\u1f00\\u03b3\\u03b1\\u03b8\\u1f70 \\u03b2\\u03c1\\u03ac\\u03b4\\u03b9\\u03bf\\u03bd \\u1f10\\u03be \\u03bf\\u1f50\\u03c1\\u03b1\\u03bd\\u03bf\\u1fe6 \\u03ba\\u03ac\\u03c4\\u03b5\\u03b9\\u03c3\\u03b9. \\u1f49 \\u03bb\\u03cc\\u03b3\\u03bf\\u03c2 \\u03b4\\u03b7\\u03bb\\u03bf\\u1fd6, \\u1f45\\u03c4\\u03b9 \\u1f00\\u03b3\\u03b1\\u03b8\\u1ff7 \\u03bc\\u1f72\\u03bd \\u03bf\\u1f50\\u03b4\\u03b5\\u1f76\\u03c2 \\u03c4\\u03b1\\u03c7\\u03ad\\u03c9\\u03c2 \\u1f10\\u03c0\\u03b9\\u03c4\\u03c5\\u03b3\\u03c7\\u03ac\\u03bd\\u03b5\\u03b9, \\u1f51\\u03c0\\u1f78 \\u03b4\\u1f72 \\u03c4\\u1ff6\\u03bd \\u03ba\\u03b1\\u03ba\\u1ff6\\u03bd \\u1f15\\u03ba\\u03b1\\u03c3\\u03c4\\u03bf\\u03c2 \\u03ba\\u03b1\\u03b8\\u02bc \\u1f11\\u03ba\\u03ac\\u03c3\\u03c4\\u03b7\\u03bd \\u03c0\\u03bb\\u03ae\\u03c4\\u03c4\\u03b5\\u03c4\\u03b1\\u03b9.\"\u001b[39m,\n",
       "    \u001b[32m1\u001b[39m\n",
       "  ),\n",
       "  \u001b[33mIndexedLine\u001b[39m(\n",
       "    \u001b[32m\"Os bens todos, por serem fr\\u00e1geis, foram perseguidos pelos males. Ent\\u00e3o, subiram ao c\\u00e9u. E os bens perguntaram a Zeus como deviam comportar-s\u001b[39m..."
      ]
     },
     "execution_count": 54,
     "metadata": {},
     "output_type": "execute_result"
    }
   ],
   "source": [
    "val indexedLines: Vector[IndexedLine] = allLines.zipWithIndex.map ( l => {\n",
    "    IndexedLine( l._1, l._2 )\n",
    "})"
   ]
  },
  {
   "cell_type": "markdown",
   "metadata": {},
   "source": [
    "We want to pull out just the lines that are headings. We start with a Regular Expression pattern that (we happen to know) will match all of these lines: lines beginning with Arabic numerals are our headings."
   ]
  },
  {
   "cell_type": "code",
   "execution_count": 55,
   "metadata": {},
   "outputs": [
    {
     "data": {
      "text/plain": [
       "\u001b[36mpattern\u001b[39m: \u001b[32mscala\u001b[39m.\u001b[32mutil\u001b[39m.\u001b[32mmatching\u001b[39m.\u001b[32mRegex\u001b[39m = ^[0-9]"
      ]
     },
     "execution_count": 55,
     "metadata": {},
     "output_type": "execute_result"
    }
   ],
   "source": [
    "val pattern = \"^[0-9]\".r // note that .r after a String makes it into a RegEx"
   ]
  },
  {
   "cell_type": "markdown",
   "metadata": {},
   "source": [
    "Now we use that regular expression, `pattern` as a filter to get a Vector of just our heading-lines."
   ]
  },
  {
   "cell_type": "code",
   "execution_count": 56,
   "metadata": {},
   "outputs": [
    {
     "data": {
      "text/plain": [
       "\u001b[36mheadingLines\u001b[39m: \u001b[32mVector\u001b[39m[\u001b[32mIndexedLine\u001b[39m] = \u001b[33mVector\u001b[39m(\n",
       "  \u001b[33mIndexedLine\u001b[39m(\n",
       "    \u001b[32m\"1. \\u1f08\\u03b3\\u03b1\\u03b8\\u1f70 \\u03ba\\u03b1\\u1f76 \\u039a\\u03b1\\u03ba\\u03ac Os bens e os males \"\u001b[39m,\n",
       "    \u001b[32m0\u001b[39m\n",
       "  ),\n",
       "  \u001b[33mIndexedLine\u001b[39m(\n",
       "    \u001b[32m\"2. \\u1f08\\u03b3\\u03b1\\u03bb\\u03bc\\u03b1\\u03c4\\u03bf\\u03c0\\u03ce\\u03bb\\u03b7\\u03c2 O vendedor de est\\u00e1tuas \"\u001b[39m,\n",
       "    \u001b[32m3\u001b[39m\n",
       "  ),\n",
       "  \u001b[33mIndexedLine\u001b[39m(\n",
       "    \u001b[32m\"3. \\u1f0c\\u03b3\\u03c1\\u03bf\\u03b9\\u03ba\\u03bf\\u03c2 \\u03ba\\u03b1\\u1f76 \\u1f48\\u03bd\\u03ac\\u03c1\\u03b9\\u03b1 O campon\\u00eas e os burrinhos \"\u001b[39m,\n",
       "    \u001b[32m6\u001b[39m\n",
       "  ),\n",
       "  \u001b[33mIndexedLine\u001b[39m(\u001b[32m\"4. \\u1f08\\u03b5\\u03c4\\u03cc\\u03c2 A \\u00e1guia \"\u001b[39m, \u001b[32m9\u001b[39m),\n",
       "  \u001b[33mIndexedLine\u001b[39m(\n",
       "    \u001b[32m\"5. \\u1f08\\u03b5\\u03c4\\u1f78\\u03c2 \\u03ba\\u03b1\\u1f76 \\u1f08\\u03bb\\u03ce\\u03c0\\u03b7\\u03be A \\u00e1guia e a raposa \"\u001b[39m,\n",
       "    \u001b[32m12\u001b[39m\n",
       "  ),\n",
       "  \u001b[33mIndexedLine\u001b[39m(\n",
       "    \u001b[32m\"6. \\u1f08\\u03b5\\u03c4\\u1f78\\u03c2 \\u03ba\\u03b1\\u1f76 \\u1f0c\\u03bd\\u03b8\\u03c1\\u03c9\\u03c0\\u03bf\\u03c2 A \\u00e1guia e o homem \"\u001b[39m,\n",
       "    \u001b[32m15\u001b[39m\n",
       "  ),\n",
       "  \u001b[33mIndexedLine\u001b[39m(\n",
       "    \u001b[32m\"7 . \\u1f08\\u03b5\\u03c4\\u1f78\\u03c2 \\u03ba\\u03b1\\u1f76 K\\u03ac\\u03bd\\u03b8\\u03b1\\u03c1\\u03bf\\u03c2  A \\u00e1guia e o escaravelho \"\u001b[39m,\n",
       "    \u001b[32m18\u001b[39m\n",
       "  ),\n",
       "  \u001b[33mIndexedLine\u001b[39m(\n",
       "    \u001b[32m\"8. \\u1f08\\u03b5\\u03c4\\u1f78\\u03c2 \\u03ba\\u03b1\\u1f76 \\u039a\\u03bf\\u03bb\\u03bf\\u03b9\\u1f78\\u03c2 \\u03ba\\u03b1\\u1f76 \\u03a0\\u03bf\\u03b9\\u03bc\\u03ae\\u03bd A \\u00e1guia, a gralha e o pastor \"\u001b[39m,\n",
       "    \u001b[32m21\u001b[39m\n",
       "  ),\n",
       "  \u001b[33mIndexedLine\u001b[39m(\n",
       "..."
      ]
     },
     "execution_count": 56,
     "metadata": {},
     "output_type": "execute_result"
    }
   ],
   "source": [
    "val headingLines: Vector[IndexedLine] = indexedLines.filter( l => {\n",
    "    pattern.findAllIn(l.text).size > 0\n",
    "})"
   ]
  },
  {
   "cell_type": "markdown",
   "metadata": {},
   "source": [
    "#### Group Text"
   ]
  },
  {
   "cell_type": "markdown",
   "metadata": {},
   "source": [
    "We want to group our text by section. The procedure will be:\n",
    "\n",
    "- Identify the index number of one heading.\n",
    "- Identify the index number of the *next* heading.\n",
    "- Get all lines that fall between the two.\n",
    "- Attach them to the first heading.\n",
    "\n",
    "Scala's [`.sliding`](http://daily-scala.blogspot.com/2009/11/iteratorsliding.html) method is ideal for this. It will group all the headings into pairs.\n",
    "\n",
    "Below, `headingPairs` is a Vector of Vectors of IndexedLine objects. The inner Vector will have two IndexedLines, each one a heading. In the first pair will consist of the first heading and the second; the second pair will consist of the *second* heading (again) and the third."
   ]
  },
  {
   "cell_type": "code",
   "execution_count": 57,
   "metadata": {},
   "outputs": [
    {
     "data": {
      "text/plain": [
       "\u001b[36mheadingPairs\u001b[39m: \u001b[32mVector\u001b[39m[\u001b[32mVector\u001b[39m[\u001b[32mIndexedLine\u001b[39m]] = \u001b[33mVector\u001b[39m(\n",
       "  \u001b[33mVector\u001b[39m(\n",
       "    \u001b[33mIndexedLine\u001b[39m(\n",
       "      \u001b[32m\"1. \\u1f08\\u03b3\\u03b1\\u03b8\\u1f70 \\u03ba\\u03b1\\u1f76 \\u039a\\u03b1\\u03ba\\u03ac Os bens e os males \"\u001b[39m,\n",
       "      \u001b[32m0\u001b[39m\n",
       "    ),\n",
       "    \u001b[33mIndexedLine\u001b[39m(\n",
       "      \u001b[32m\"2. \\u1f08\\u03b3\\u03b1\\u03bb\\u03bc\\u03b1\\u03c4\\u03bf\\u03c0\\u03ce\\u03bb\\u03b7\\u03c2 O vendedor de est\\u00e1tuas \"\u001b[39m,\n",
       "      \u001b[32m3\u001b[39m\n",
       "    )\n",
       "  ),\n",
       "  \u001b[33mVector\u001b[39m(\n",
       "    \u001b[33mIndexedLine\u001b[39m(\n",
       "      \u001b[32m\"2. \\u1f08\\u03b3\\u03b1\\u03bb\\u03bc\\u03b1\\u03c4\\u03bf\\u03c0\\u03ce\\u03bb\\u03b7\\u03c2 O vendedor de est\\u00e1tuas \"\u001b[39m,\n",
       "      \u001b[32m3\u001b[39m\n",
       "    ),\n",
       "    \u001b[33mIndexedLine\u001b[39m(\n",
       "      \u001b[32m\"3. \\u1f0c\\u03b3\\u03c1\\u03bf\\u03b9\\u03ba\\u03bf\\u03c2 \\u03ba\\u03b1\\u1f76 \\u1f48\\u03bd\\u03ac\\u03c1\\u03b9\\u03b1 O campon\\u00eas e os burrinhos \"\u001b[39m,\n",
       "      \u001b[32m6\u001b[39m\n",
       "    )\n",
       "  ),\n",
       "  \u001b[33mVector\u001b[39m(\n",
       "    \u001b[33mIndexedLine\u001b[39m(\n",
       "      \u001b[32m\"3. \\u1f0c\\u03b3\\u03c1\\u03bf\\u03b9\\u03ba\\u03bf\\u03c2 \\u03ba\\u03b1\\u1f76 \\u1f48\\u03bd\\u03ac\\u03c1\\u03b9\\u03b1 O campon\\u00eas e os burrinhos \"\u001b[39m,\n",
       "      \u001b[32m6\u001b[39m\n",
       "    ),\n",
       "    \u001b[33mIndexedLine\u001b[39m(\u001b[32m\"4. \\u1f08\\u03b5\\u03c4\\u03cc\\u03c2 A \\u00e1guia \"\u001b[39m, \u001b[32m9\u001b[39m)\n",
       "  ),\n",
       "  \u001b[33mVector\u001b[39m(\n",
       "    \u001b[33mIndexedLine\u001b[39m(\u001b[32m\"4. \\u1f08\\u03b5\\u03c4\\u03cc\\u03c2 A \\u00e1guia \"\u001b[39m, \u001b[32m9\u001b[39m),\n",
       "    \u001b[33mIndexedLine\u001b[39m(\n",
       "      \u001b[32m\"5. \\u1f08\\u03b5\\u03c4\\u1f78\\u03c2 \\u03ba\\u03b1\\u1f76 \\u1f08\\u03bb\\u03ce\\u03c0\\u03b7\\u03be A \\u00e1guia e a raposa \"\u001b[39m,\n",
       "      \u001b[32m12\u001b[39m\n",
       "..."
      ]
     },
     "execution_count": 57,
     "metadata": {},
     "output_type": "execute_result"
    }
   ],
   "source": [
    "val headingPairs: Vector[Vector[IndexedLine]] = headingLines.sliding(2,1).toVector"
   ]
  },
  {
   "cell_type": "markdown",
   "metadata": {},
   "source": [
    "We can map this Vector of pairs and get all the chapters except the last one. For the last one, we need a variant. \n",
    "\n",
    "> In other programming idioms, we would iterate through the pairs, with a check, each time, to see if we were on the last one, or beyond the last one. In Scala's Functional Programming Idiom, we \"do something to everything\", and know in advance that this will not include the last section, and treat that differently. This helps avoid \"off by one\" errors, among other things."
   ]
  },
  {
   "cell_type": "code",
   "execution_count": 58,
   "metadata": {},
   "outputs": [
    {
     "data": {
      "text/plain": [
       "\u001b[36mmappedHeadings\u001b[39m: \u001b[32mVector\u001b[39m[(\u001b[32mIndexedLine\u001b[39m, \u001b[32mVector\u001b[39m[\u001b[32mIndexedLine\u001b[39m])] = \u001b[33mVector\u001b[39m(\n",
       "  (\n",
       "    \u001b[33mIndexedLine\u001b[39m(\n",
       "      \u001b[32m\"1. \\u1f08\\u03b3\\u03b1\\u03b8\\u1f70 \\u03ba\\u03b1\\u1f76 \\u039a\\u03b1\\u03ba\\u03ac Os bens e os males \"\u001b[39m,\n",
       "      \u001b[32m0\u001b[39m\n",
       "    ),\n",
       "    \u001b[33mVector\u001b[39m(\n",
       "      \u001b[33mIndexedLine\u001b[39m(\n",
       "        \u001b[32m\"\\u1f08\\u03b3\\u03b1\\u03b8\\u1f70 \\u03c0\\u03ac\\u03bd\\u03c4\\u03b1 \\u1f51\\u03c0\\u1f78 \\u03c4\\u1ff6\\u03bd \\u03ba\\u03b1\\u03ba\\u1ff6\\u03bd \\u1f10\\u03b4\\u03b9\\u03ce\\u03c7\\u03b8\\u03b7, \\u1f61\\u03c2 \\u1f00\\u03c3\\u03b8\\u03b5\\u03bd\\u1fc6 \\u1f44\\u03bd\\u03c4\\u03b1\\u00b7 \\u03b5\\u1f30\\u03c2 \\u03bf\\u1f50\\u03c1\\u03b1\\u03bd\\u1f78\\u03bd \\u03b4\\u1f72 \\u1f00\\u03bd\\u1fc6\\u03bb\\u03b8\\u03bf\\u03bd. \\u039a\\u03b1\\u1f76 \\u03c4\\u1f00\\u03b3\\u03b1\\u03b8\\u1f70 \\u1f20\\u03c1\\u03ce\\u03c4\\u03b7\\u03c3\\u03b1\\u03bd \\u03c4\\u1f78\\u03bd \\u0394\\u03af\\u03b1, \\u03c0\\u1ff6\\u03c2 \\u03b5\\u1f36\\u03bd\\u03b1\\u03b9 \\u03b4\\u03b5\\u1fd6 \\u03bc\\u03b5\\u03c4\\u1f70 \\u1f00\\u03bd\\u03b8\\u03c1\\u03ce\\u03c0\\u03c9\\u03bd. \\u1f49 \\u03b4\\u1f72 \\u03b5\\u1f36\\u03c0\\u03b5, \\u03bc\\u1f74 \\u03bc\\u03b5\\u03c4\\u02bc \\u1f00\\u03bb\\u03bb\\u03ae\\u03bb\\u03c9\\u03bd \\u03c0\\u03ac\\u03bd\\u03c4\\u03b1, \\u1f13\\u03bd \\u03b4\\u1f72 \\u03ba\\u03b1\\u03b8\\u02bc \\u1f13\\u03bd \\u03c4\\u03bf\\u1fd6\\u03c2 \\u1f00\\u03bd\\u03b8\\u03c1\\u03ce\\u03c0\\u03bf\\u03b9\\u03c2 \\u1f10\\u03c0\\u03ad\\u03c1\\u03c7\\u03b5\\u03c3\\u03b8\\u03b1\\u03b9. \\u0394\\u03b9\\u1f70 \\u03c4\\u03bf\\u1fe6\\u03c4\\u03bf \\u03c4\\u1f70 \\u03bc\\u1f72\\u03bd \\u03ba\\u03b1\\u03ba\\u1f70 \\u03c3\\u03c5\\u03bd\\u03b5\\u03c7\\u1fc6 \\u03c4\\u03bf\\u1fd6\\u03c2 \\u1f00\\u03bd\\u03b8\\u03c1\\u03ce\\u03c0\\u03bf\\u03b9\\u03c2, \\u1f61\\u03c2 \\u03c0\\u03bb\\u03b7\\u03c3\\u03af\\u03bf\\u03bd \\u1f44\\u03bd\\u03c4\\u03b1, \\u1f10\\u03c0\\u03ad\\u03c1\\u03c7\\u03b5\\u03c4\\u03b1\\u03b9, \\u03c4\\u1f70 \\u03b4\\u1f72 \\u1f00\\u03b3\\u03b1\\u03b8\\u1f70 \\u03b2\\u03c1\\u03ac\\u03b4\\u03b9\\u03bf\\u03bd \\u1f10\\u03be \\u03bf\\u1f50\\u03c1\\u03b1\\u03bd\\u03bf\\u1fe6 \\u03ba\\u03ac\\u03c4\\u03b5\\u03b9\\u03c3\\u03b9. \\u1f49 \\u03bb\\u03cc\\u03b3\\u03bf\\u03c2 \\u03b4\\u03b7\\u03bb\\u03bf\\u1fd6, \\u1f45\\u03c4\\u03b9 \\u1f00\\u03b3\\u03b1\\u03b8\\u1ff7 \\u03bc\\u1f72\\u03bd \\u03bf\\u1f50\\u03b4\\u03b5\\u1f76\\u03c2 \\u03c4\\u03b1\\u03c7\\u03ad\\u03c9\\u03c2 \\u1f10\\u03c0\\u03b9\\u03c4\\u03c5\\u03b3\\u03c7\\u03ac\\u03bd\\u03b5\\u03b9, \\u1f51\\u03c0\\u1f78 \\u03b4\\u1f72 \\u03c4\\u1ff6\\u03bd \\u03ba\\u03b1\\u03ba\\u1ff6\\u03bd \\u1f15\\u03ba\\u03b1\\u03c3\\u03c4\\u03bf\\u03c2 \\u03ba\\u03b1\\u03b8\\u02bc \\u1f11\\u03ba\\u03ac\\u03c3\\u03c4\\u03b7\\u03bd \\u03c0\\u03bb\\u03ae\\u03c4\\u03c4\\u03b5\\u03c4\\u03b1\\u03b9.\"\u001b[39m,\n",
       "        \u001b[32m1\u001b[39m\n",
       "      ),\n",
       "      \u001b[33mIndexedLine\u001b[39m(\n",
       "..."
      ]
     },
     "execution_count": 58,
     "metadata": {},
     "output_type": "execute_result"
    }
   ],
   "source": [
    "val mappedHeadings: Vector[( IndexedLine, Vector[IndexedLine])] = {\n",
    "    \n",
    "    // We use up all the pairs…\n",
    "    val allButLast: Vector[( IndexedLine, Vector[IndexedLine])] = headingPairs.map( p => {\n",
    "        val firstIndex: Int = p.head.index\n",
    "        val lastIndex: Int = p.last.index\n",
    "        val firstLine: IndexedLine = indexedLines(firstIndex)\n",
    "        val allLines: Vector[IndexedLine] = indexedLines.filter( il => {\n",
    "            ( il.index > firstIndex) & ( il.index < lastIndex )\n",
    "        })\n",
    "        ( firstLine, allLines )\n",
    "    })\n",
    "    \n",
    "    // We go get the last section, which we know was not included…\n",
    "    val lastSection: Vector[( IndexedLine, Vector[IndexedLine])] = {\n",
    "        val firstIndex: Int = headingPairs.last.last.index\n",
    "        val firstLine: IndexedLine = indexedLines(firstIndex)\n",
    "        val allLines: Vector[IndexedLine] = indexedLines.filter( il => {\n",
    "            ( il.index > firstIndex) \n",
    "        })\n",
    "        val tup = ( firstLine, allLines )\n",
    "        Vector[( IndexedLine, Vector[IndexedLine])](tup)\n",
    "    }\n",
    "    \n",
    "    // We concatenate the two Vectors…\n",
    "    allButLast ++ lastSection\n",
    "}"
   ]
  },
  {
   "cell_type": "markdown",
   "metadata": {},
   "source": [
    "### A Useful Function for Title Lines"
   ]
  },
  {
   "cell_type": "markdown",
   "metadata": {},
   "source": [
    "The title-line of this text consists of:\n",
    "\n",
    "- An Arabic number (1–17), followed by a period.\n",
    "- A Greek title\n",
    "- The Portuguese title\n",
    "\n",
    "In XML, *vel sim.*, all of these would be wrapped in some kind of markup. They are not, here, but we can still work with these three discrete sets of data, because the plain-text is clean and predictable.\n",
    "\n",
    "We *could* do this in-line, but it is easier to see, and test, if we pull it out into a defined Function.\n",
    "\n",
    "We grab the Heading-number (which we turn into a String, because it is merely a *label*), using a Regular Expression.\n",
    "\n",
    "To split the Greek title from the Portuguese title, we do the following:\n",
    "\n",
    "- Grab the chapter-label (some Arabic numerals) with a Regex\n",
    "- Remove the chapter-label (and following period '.') before further processing: this is the String `val` called `twoTitles`\n",
    "- Turn that into a Vector of `Char`.\n",
    "- Filter out everything except `[A-Z]` (we know that the Greek title is first, and the Portuguese title begins with an upper-case Latin letter).\n",
    "- The first element in the resulting list will be the start of the Portuguese title.\n",
    "- Using Scala's [`.indexOf`](https://www.geeksforgeeks.org/scala-string-indexof-method-with-example/) method, we get the index of the first occurrance of the first `Char` of the Portuguese title in the `twoTitles` String.\n",
    "- Using `.take` we grab the Greek title.\n",
    "- Using `.takeRight` and some arithmetic we grab the Portuguese title.\n",
    "\n",
    "The result will be a \"3ple\" of Strings: chapter-label, Greek title, Portugues title."
   ]
  },
  {
   "cell_type": "code",
   "execution_count": 59,
   "metadata": {},
   "outputs": [
    {
     "data": {
      "text/plain": [
       "defined \u001b[32mfunction\u001b[39m \u001b[36msplitTitle\u001b[39m\n",
       "\u001b[36mres58_1\u001b[39m: (\u001b[32mString\u001b[39m, \u001b[32mString\u001b[39m, \u001b[32mString\u001b[39m) = (\u001b[32m\"12\"\u001b[39m, \u001b[32m\"\\u03b1\\u03b2\\u03b3\\u03b4\"\u001b[39m, \u001b[32m\"ABCD\"\u001b[39m)"
      ]
     },
     "execution_count": 59,
     "metadata": {},
     "output_type": "execute_result"
    }
   ],
   "source": [
    "def splitTitle( testString: String ): (String, String, String) = {\n",
    "    \n",
    "    val chapterId: String = {\n",
    "        val rx = \"^[0-9]+\".r\n",
    "        val foundOption: Option[String] = rx.findFirstIn(testString)\n",
    "        foundOption.getOrElse(\"NO_ID\")\n",
    "        \n",
    "    }\n",
    "    \n",
    "    val twoTitles: String = testString.replaceAll(\"\"\"^[0-9]+\\.\"\"\", \"\").trim\n",
    "    \n",
    "    val charVec = twoTitles.toVector\n",
    "    val filteredVec = charVec.filter( c => {\n",
    "        val s = c.toString\n",
    "        val rpl = s.replaceAll(\"[A-Z]\", \"\")\n",
    "        rpl == \"\"\n",
    "    })\n",
    "    val firstChar: Char = filteredVec.head.toChar\n",
    "    val firstPorIndex: Int = charVec.indexOf(firstChar)\n",
    "    val greekTitle: String = twoTitles.take(firstPorIndex - 1)\n",
    "    val porTitle: String = twoTitles.takeRight( twoTitles.size - firstPorIndex )\n",
    "    \n",
    "    (chapterId, greekTitle, porTitle)\n",
    "}\n",
    "\n",
    "splitTitle(\"12. αβγδ ABCD\")"
   ]
  },
  {
   "cell_type": "markdown",
   "metadata": {},
   "source": [
    "### Make a CEX File!"
   ]
  },
  {
   "cell_type": "markdown",
   "metadata": {},
   "source": [
    "We can make two CEX blocks, one for Greek and one for Portuguese. We happen to know that, for each section, there is a header-line, a Greek section (one line), and a Portuguese section (one line). \n",
    "\n",
    "**So this is not a generic script!** It only works with this file!\n",
    "\n",
    "First we define our URN-base:"
   ]
  },
  {
   "cell_type": "code",
   "execution_count": 60,
   "metadata": {},
   "outputs": [
    {
     "data": {
      "text/plain": [
       "\u001b[36murnBase\u001b[39m: \u001b[32mCtsUrn\u001b[39m = \u001b[33mCtsUrn\u001b[39m(\u001b[32m\"urn:cts:greekLit:tlg0096.tlg002:\"\u001b[39m)"
      ]
     },
     "execution_count": 60,
     "metadata": {},
     "output_type": "execute_result"
    }
   ],
   "source": [
    "val urnBase = CtsUrn(\"urn:cts:greekLit:tlg0096.tlg002:\")"
   ]
  },
  {
   "cell_type": "markdown",
   "metadata": {},
   "source": [
    "We make a CEX block for Greek first…"
   ]
  },
  {
   "cell_type": "code",
   "execution_count": 61,
   "metadata": {},
   "outputs": [
    {
     "data": {
      "text/plain": [
       "\u001b[36mgreekBlock\u001b[39m: \u001b[32mVector\u001b[39m[\u001b[32mString\u001b[39m] = \u001b[33mVector\u001b[39m(\n",
       "  \u001b[32m\"urn:cts:greekLit:tlg0096.tlg002.First1K-grc1:1.head#\\u1f08\\u03b3\\u03b1\\u03b8\\u1f70 \\u03ba\\u03b1\\u1f76 \\u039a\\u03b1\\u03ba\\u03ac\"\u001b[39m,\n",
       "  \u001b[32m\"urn:cts:greekLit:tlg0096.tlg002.First1K-grc1:1.text#\\u1f08\\u03b3\\u03b1\\u03b8\\u1f70 \\u03c0\\u03ac\\u03bd\\u03c4\\u03b1 \\u1f51\\u03c0\\u1f78 \\u03c4\\u1ff6\\u03bd \\u03ba\\u03b1\\u03ba\\u1ff6\\u03bd \\u1f10\\u03b4\\u03b9\\u03ce\\u03c7\\u03b8\\u03b7, \\u1f61\\u03c2 \\u1f00\\u03c3\\u03b8\\u03b5\\u03bd\\u1fc6 \\u1f44\\u03bd\\u03c4\\u03b1\\u00b7 \\u03b5\\u1f30\\u03c2 \\u03bf\\u1f50\\u03c1\\u03b1\\u03bd\\u1f78\\u03bd \\u03b4\\u1f72 \\u1f00\\u03bd\\u1fc6\\u03bb\\u03b8\\u03bf\\u03bd. \\u039a\\u03b1\\u1f76 \\u03c4\\u1f00\\u03b3\\u03b1\\u03b8\\u1f70 \\u1f20\\u03c1\\u03ce\\u03c4\\u03b7\\u03c3\\u03b1\\u03bd \\u03c4\\u1f78\\u03bd \\u0394\\u03af\\u03b1, \\u03c0\\u1ff6\\u03c2 \\u03b5\\u1f36\\u03bd\\u03b1\\u03b9 \\u03b4\\u03b5\\u1fd6 \\u03bc\\u03b5\\u03c4\\u1f70 \\u1f00\\u03bd\\u03b8\\u03c1\\u03ce\\u03c0\\u03c9\\u03bd. \\u1f49 \\u03b4\\u1f72 \\u03b5\\u1f36\\u03c0\\u03b5, \\u03bc\\u1f74 \\u03bc\\u03b5\\u03c4\\u02bc \\u1f00\\u03bb\\u03bb\\u03ae\\u03bb\\u03c9\\u03bd \\u03c0\\u03ac\\u03bd\\u03c4\\u03b1, \\u1f13\\u03bd \\u03b4\\u1f72 \\u03ba\\u03b1\\u03b8\\u02bc \\u1f13\\u03bd \\u03c4\\u03bf\\u1fd6\\u03c2 \\u1f00\\u03bd\\u03b8\\u03c1\\u03ce\\u03c0\\u03bf\\u03b9\\u03c2 \\u1f10\\u03c0\\u03ad\\u03c1\\u03c7\\u03b5\\u03c3\\u03b8\\u03b1\\u03b9. \\u0394\\u03b9\\u1f70 \\u03c4\\u03bf\\u1fe6\\u03c4\\u03bf \\u03c4\\u1f70 \\u03bc\\u1f72\\u03bd \\u03ba\\u03b1\\u03ba\\u1f70 \\u03c3\\u03c5\\u03bd\\u03b5\\u03c7\\u1fc6 \\u03c4\\u03bf\\u1fd6\\u03c2 \\u1f00\\u03bd\\u03b8\\u03c1\\u03ce\\u03c0\\u03bf\\u03b9\\u03c2, \\u1f61\\u03c2 \\u03c0\\u03bb\\u03b7\\u03c3\\u03af\\u03bf\\u03bd \\u1f44\\u03bd\\u03c4\\u03b1, \\u1f10\\u03c0\\u03ad\\u03c1\\u03c7\\u03b5\\u03c4\\u03b1\\u03b9, \\u03c4\\u1f70 \\u03b4\\u1f72 \\u1f00\\u03b3\\u03b1\\u03b8\\u1f70 \\u03b2\\u03c1\\u03ac\\u03b4\\u03b9\\u03bf\\u03bd \\u1f10\\u03be \\u03bf\\u1f50\\u03c1\\u03b1\\u03bd\\u03bf\\u1fe6 \\u03ba\\u03ac\\u03c4\\u03b5\\u03b9\\u03c3\\u03b9. \\u1f49 \\u03bb\\u03cc\\u03b3\\u03bf\\u03c2 \\u03b4\\u03b7\\u03bb\\u03bf\\u1fd6, \\u1f45\\u03c4\\u03b9 \\u1f00\\u03b3\\u03b1\\u03b8\\u1ff7 \\u03bc\\u1f72\\u03bd \\u03bf\\u1f50\\u03b4\\u03b5\\u1f76\\u03c2 \\u03c4\\u03b1\\u03c7\\u03ad\\u03c9\\u03c2 \\u1f10\\u03c0\\u03b9\\u03c4\\u03c5\\u03b3\\u03c7\\u03ac\\u03bd\\u03b5\\u03b9, \\u1f51\\u03c0\\u1f78 \\u03b4\\u1f72 \\u03c4\\u1ff6\\u03bd \\u03ba\\u03b1\\u03ba\\u1ff6\\u03bd \\u1f15\\u03ba\\u03b1\\u03c3\\u03c4\\u03bf\\u03c2 \\u03ba\\u03b1\\u03b8\\u02bc \\u1f11\\u03ba\\u03ac\\u03c3\\u03c4\\u03b7\\u03bd \\u03c0\\u03bb\\u03ae\\u03c4\\u03c4\\u03b5\\u03c4\\u03b1\\u03b9.\"\u001b[39m,\n",
       "  \u001b[32m\"urn:cts:greekLit:tlg0096.tlg002.First1K-grc1:2.head#\\u1f08\\u03b3\\u03b1\\u03bb\\u03bc\\u03b1\\u03c4\\u03bf\\u03c0\\u03ce\\u03bb\\u03b7\\u03c2\"\u001b[39m,\n",
       "  \u001b[32m\"urn:cts:greekLit:tlg0096.tlg002.First1K-grc1:2.text#\\u039e\\u03cd\\u03bb\\u03b9\\u03bd\\u03cc\\u03bd \\u03c4\\u03b9\\u03c2 \\u1f19\\u03c1\\u03bc\\u1fc6\\u03bd \\u03ba\\u03b1\\u03c4\\u03b1\\u03c3\\u03ba\\u03b5\\u03c5\\u03ac\\u03c3\\u03b1\\u03c2, \\u03c0\\u03c1\\u03bf\\u03c3\\u03b5\\u03bd\\u03b5\\u03b3\\u03ba\\u1f7c\\u03bd \\u1f10\\u03c0\\u03ce\\u03bb\\u03b5\\u03b9. \\u039c\\u03b7\\u03b4\\u03b5\\u03bd\\u1f78\\u03c2 \\u03b4\\u1f72 \\u1f60\\u03bd\\u03b7\\u03c4\\u03bf\\u1fe6 \\u03c0\\u03c1\\u03bf\\u03c3\\u03b9\\u03cc\\u03bd\\u03c4\\u03bf\\u03c2\u001b[39m..."
      ]
     },
     "execution_count": 61,
     "metadata": {},
     "output_type": "execute_result"
    }
   ],
   "source": [
    "val greekBlock: Vector[String] = mappedHeadings.map( h => {\n",
    "    val heading: IndexedLine = h._1\n",
    "    val section: IndexedLine = h._2.head\n",
    "    val splitHeading = splitTitle(heading.text)\n",
    "    val sectionId = splitHeading._1\n",
    "    val sectionHeading = splitHeading._2\n",
    "    val versionUrn = urnBase.addVersion(\"First1K-grc1\")\n",
    "    Vector(\n",
    "        s\"${versionUrn}${sectionId}.head#${sectionHeading}\",\n",
    "        s\"${versionUrn}${sectionId}.text#${section.text}\"\n",
    "    )\n",
    "}).flatten"
   ]
  },
  {
   "cell_type": "markdown",
   "metadata": {},
   "source": [
    "Now a CEX block for Portuguese…"
   ]
  },
  {
   "cell_type": "code",
   "execution_count": 62,
   "metadata": {},
   "outputs": [
    {
     "data": {
      "text/plain": [
       "\u001b[36mportBlock\u001b[39m: \u001b[32mVector\u001b[39m[\u001b[32mString\u001b[39m] = \u001b[33mVector\u001b[39m(\n",
       "  \u001b[32m\"urn:cts:greekLit:tlg0096.tlg002.mcdezotti:1.head#Os bens e os males\"\u001b[39m,\n",
       "  \u001b[32m\"urn:cts:greekLit:tlg0096.tlg002.mcdezotti:1.text#Os bens todos, por serem fr\\u00e1geis, foram perseguidos pelos males. Ent\\u00e3o, subiram ao c\\u00e9u. E os bens perguntaram a Zeus como deviam comportar-se entre os homens. Ele ent\\u00e3o falou para se acercarem dos homens, n\\u00e3o todos em conjunto, mas um de cada vez. Por isso os males constantemente se acercam dos homens porque est\\u00e3o por perto, enquanto os bens descem do c\\u00e9u mais devagar. A f\\u00e1bula mostra que ningu\\u00e9m depara rapidamente com um bem, mas pelos males cada pessoa \\u00e9 a cada momento atingida.\"\u001b[39m,\n",
       "  \u001b[32m\"urn:cts:greekLit:tlg0096.tlg002.mcdezotti:2.head#O vendedor de est\\u00e1tuas\"\u001b[39m,\n",
       "  \u001b[32m\"urn:cts:greekLit:tlg0096.tlg002.mcdezotti:2.text#Um homem fabricou um Hermes de madeira e o exp\\u00f4s, tentando vender.  Como nenhum comprador se aproximava, ele, querendo atrair alguns, p\\u00f4s-se a gritar que estava vendendo um deus benfeitor e guardi\\u00e3o do lucro. Ent\\u00e3o uma das pessoas que por ali se achavam lhe disse: \\u201cEi voc\\u00ea, e por que o vende, sendo ele esse tal, se conv\\u00e9m aproveitar os benef\\u00edcios advindos dele?\\u201d Ele respondeu: \\u201c\\u00c9 que eu estou precisando de um certo benef\\u00edcio imediato, e ele costuma conceder os lucros lentamente.\\\"  Para homem vergonhosamente c\\u00fapido e que menospreza o divino.\"\u001b[39m,\n",
       "  \u001b[32m\"urn:cts:greekLit:tlg0096.tlg002.mcdezotti:3.head#O campon\\u00eas e os burrinhos\"\u001b[39m,\n",
       "  \u001b[32m\"urn:cts:greekLit:tlg0096.tlg002.mcdezotti:3.text#Um campon\\u00eas que chegou \\u00e0 velhice no campo, visto que nunca tinha ido \\u00e0 cidade, pedia com insist\\u00eancia aos familiares para v\\u00ea-la. Ent\\u00e3o eles, ap\\u00f3s atrelarem burrinhos,  fizeram-no subir na carro\\u00e7a  e ordenaram que apenas tocasse adiante. Mas enquanto ele estava a caminho, uma tempestade e um vendaval apanharam de surpresa o tempo e ficou um breu. Os burrinhos perderam o rumo do caminho e desviaram o velho para um precip\\u00edcio. E ele, j\\u00e1 prestes a despencar no precip\\u00edcio, disse: \\u201c\\u00d3 Zeus, o que alguma vez te fiz de errado para morrer assim de modo absurdo, e isso nem por obra de cavalos de ra\\u00e7a, nem de boas mulas, mas de burrinhos da pior esp\\u00e9cie!\\\" \"\u001b[39m,\n",
       "  \u001b[32m\"urn:cts:greekLit:tlg0096.tlg002.mcdezotti:4.head#A \\u00e1guia\"\u001b[39m,\n",
       "  \u001b[32m\"urn:cts:greekLit:tlg0096.tlg002.mcdezotti:4.text#Uma \\u00e1guia pousou bem no alto de um rochedo, buscando ca\\u00e7ar uma lebre. Ent\\u00e3o algu\\u00e9m desferiu o arco e atingiu-a. E a flecha penetrou nela, mas o chanfro com as penas estancou diante de seus olhos. Ao v\\u00ea-lo, ela disse: \\u201cE isso para mim \\u00e9 outro desgosto: morrer em meio \\u00e0s pr\\u00f3prias penas.\\u201d A f\\u00e1bu\u001b[39m..."
      ]
     },
     "execution_count": 62,
     "metadata": {},
     "output_type": "execute_result"
    }
   ],
   "source": [
    "val portBlock: Vector[String] = mappedHeadings.map( h => {\n",
    "    val heading: IndexedLine = h._1\n",
    "    val section: IndexedLine = h._2.last\n",
    "    val splitHeading = splitTitle(heading.text)\n",
    "    val sectionId = splitHeading._1\n",
    "    val sectionHeading = splitHeading._3\n",
    "    val versionUrn = urnBase.addVersion(\"mcdezotti\")\n",
    "    Vector(\n",
    "        s\"${versionUrn}${sectionId}.head#${sectionHeading}\",\n",
    "        s\"${versionUrn}${sectionId}.text#${section.text}\"\n",
    "    )\n",
    "}).flatten"
   ]
  },
  {
   "cell_type": "markdown",
   "metadata": {},
   "source": [
    "**Final Assembly**\n",
    "\n",
    "We need to add the `#!ctsdata` header before each block, and of course the overall CEX header and CTS Catalog, which are convenientl saved in a separate template file.\n",
    "\n",
    "> Concatenating, appending, and prepending things to Vectors in Scala is flexible, but the syntax is hard to remember. [This site](https://alvinalexander.com/scala/how-to-append-prepend-items-vector-seq-in-scala) is the definitive reference.\n",
    "\n",
    "First, we load the CEX Header:"
   ]
  },
  {
   "cell_type": "code",
   "execution_count": 63,
   "metadata": {},
   "outputs": [
    {
     "data": {
      "text/plain": [
       "\u001b[36mfilePath\u001b[39m: \u001b[32mString\u001b[39m = \u001b[32m\"template/aesop_cex_header.txt\"\u001b[39m\n",
       "\u001b[36mcexHeader\u001b[39m: \u001b[32mString\u001b[39m = \u001b[32m\"\"\"#!cexversion\n",
       "3.0\n",
       "#!citelibrary\n",
       "name#CEX library\n",
       "urn#urn:cite2:cex:unesp_fu.v1:temp2\n",
       "license#CC 3.0 NC-BY\n",
       "#!ctscatalog\n",
       "urn#citationScheme#groupName#workTitle#versionLabel#exemplarLabel#online#lang\n",
       "urn:cts:greekLit:tlg0096.tlg002.First1K-grc1:#fable#Aesop#Fabulae#Helm, Teubner, 1872##true#grc\n",
       "urn:cts:greekLit:tlg0096.tlg002.mcdezotti:#fable#Aesop#Fabulae#M.C. Dezotti, trans., 2020##true#por\"\"\"\u001b[39m"
      ]
     },
     "execution_count": 63,
     "metadata": {},
     "output_type": "execute_result"
    }
   ],
   "source": [
    "val filePath = s\"template/aesop_cex_header.txt\"\n",
    "val cexHeader: String = {\n",
    "    scala.io.Source.fromFile(filePath).mkString.split(\"\\n\").toVector.filter( _.size > 0 ).mkString(\"\\n\")\n",
    "}"
   ]
  },
  {
   "cell_type": "markdown",
   "metadata": {},
   "source": [
    "Now give our blocks their proper headers:"
   ]
  },
  {
   "cell_type": "code",
   "execution_count": 64,
   "metadata": {},
   "outputs": [
    {
     "data": {
      "text/plain": [
       "\u001b[36mgreekCex\u001b[39m: \u001b[32mString\u001b[39m = \u001b[32m\"\"\"#!ctsdata\n",
       "urn:cts:greekLit:tlg0096.tlg002.First1K-grc1:1.head#Ἀγαθὰ καὶ Κακά\n",
       "urn:cts:greekLit:tlg0096.tlg002.First1K-grc1:1.text#Ἀγαθὰ πάντα ὑπὸ τῶν κακῶν ἐδιώχθη, ὡς ἀσθενῆ ὄντα· εἰς οὐρανὸν δὲ ἀνῆλθον. Καὶ τἀγαθὰ ἠρώτησαν τὸν Δία, πῶς εἶναι δεῖ μετὰ ἀνθρώπων. Ὁ δὲ εἶπε, μὴ μετʼ ἀλλήλων πάντα, ἓν δὲ καθʼ ἓν τοῖς ἀνθρώποις ἐπέρχεσθαι. Διὰ τοῦτο τὰ μὲν κακὰ συνεχῆ τοῖς ἀνθρώποις, ὡς πλησίον ὄντα, ἐπέρχεται, τὰ δὲ ἀγαθὰ βράδιον ἐξ οὐρανοῦ κάτεισι. Ὁ λόγος δηλοῖ, ὅτι ἀγαθῷ μὲν οὐδεὶς ταχέως ἐπιτυγχάνει, ὑπὸ δὲ τῶν κακῶν ἕκαστος καθʼ ἑκάστην πλήττεται.\n",
       "urn:cts:greekLit:tlg0096.tlg002.First1K-grc1:2.head#Ἀγαλματοπώλης\n",
       "urn:cts:greekLit:tlg0096.tlg002.First1K-grc1:2.text#Ξύλινόν τις Ἑρμῆν κατασκευάσας, προσενεγκὼν ἐπώλει. Μηδενὸς δὲ ὠνητοῦ προσιόντος, ἐκκαλέσασθαί τινας βουλόμενος ἐβόα, ὡς ἀγαθοποιὸν δαίμονα καὶ κέρδους τηρητικὸν πιπράσκει. Τῶν δὲ παρατυχόντων τινὸς εἰπόντος πρὸς αὐτόν· ,,ὦ οὗτος, καὶ τί τοῦτον ὄντα τοιοῦτον πωλεῖς, δέον τῶν παρʼ αὐτοῦ ὠφελειῶν ἀπολαύειν ; “ ἀπεκρίνατο· ,, ὅτι ἐγὼ μὲν ταχείας ὠφελείας τινὸς ἐπιδέομαι, αὐτὸς δὲ βραδέως εἴωθε τὰ κέρδη περιποιεῖν.\" Πρὸς ἄνδρα αἰσχροκερδῆ καὶ τὸ θεῖον περιφρονοῦντα.   \n",
       "urn:cts:greekLit:tlg0096.tlg002.First1K-grc1:3.head#Ἄγροικος καὶ Ὀνάρια\n",
       "urn:cts:greekLit:tlg0096.tlg002.First1K-grc1:3.text#Γεωργός τις ἐπʼ ἀγροῦ γεγηρακὼς, ἐπεὶ μηδέποτε εἰσῆλθεν εἰς ἄστυ, παρεκάλει τοὺς οἰκείους τοῦτο θεάσασθαι. Οἱ δὲ ζεύξαντες ὀνάρια καὶ ἐπὶ τῆς ἀπήνης αὐτὸν ἀναβιβασάμενοι, μόνον ἐκέλευσαν ἐλαύνειν. Ὁδεύοντι δὲ χειμῶνος καὶ θυέλλης τὸν ἀέρα καταλαβόντων καὶ ζόφου γενομένου, τὰ ὀνάρια τῆς ὁδοῦ πλανηθέντα εἴς τινα κρημνὸν ἐξετόπισαν τὸν πρεσβύτην. Ὁ δὲ μέλλων ἤδη κατακρημνίζεσθαι ,,ὦ Ζεῦ,“ εἶπε ,,τί ποτέ σε ἠδίκησα, ὅτι οὕτω παρὰ λόγον ἀπόλλυμαι, καὶ ταῦτα οὔθʼ ὑφʼ ἵππων γενναίων οὔθ’ ἡμιόνων ἀγαθῶν, ἀλλ’ ὀναρίων εὐτελεστάτων;“\n",
       "urn:cts:greekLit:tlg0096.tlg002.First1K-grc1:4.head#Ἀετός\n",
       "urn:cts:greekLit:tlg0096.tlg002.First1K-grc1:4.text#Ὑπεράνωθεν πέτρας ἀετὸς ἐκαθέζετο, λαγωὸν θηρεῦσαι ζητῶν. Τοῦτον δέ τις ἔβαλε τοξεύσας· καὶ τὸ μὲν βέλος ἐντὸς αὐτοῦ εἰσῆλθεν, ἡ δὲ γλυφὶς σὺν τοῖς πτεροῖς πρὸ τῶν ὀφθαλμῶν εἱστήκει. Ὁ δὲ ἰδὼν ἔφη· „καὶ τοῦτό μοι ἑτέρα λύπη, τὸ τοῖς ἰδίοις πτεροῖς ἐναποθνήσκειν.“  Ὁ μῦθος δηλοῖ, ὅτι δεινόν ἐστιν, ὅταν τις ἐκ τῶν ἰδίων κινδυνεύσῃ.\n",
       "urn:cts:greekLit:tlg0096.tlg002.First1K-grc1:5.head#Ἀετὸς καὶ Ἀλώπηξ\n",
       "urn:cts:greekLit:tlg0096.tlg002.First1K-grc1:5.text#Ἀετὸς καὶ ἀλώπηξ φιλεῖν ἀλλήλους συνθέμενοι, πλησίον ἑαυτῶν οἰκεῖν διέγνωσαν, βεβαίωσιν φιλίας τὴν συνήθειαν ποιούμενοι. Καὶ δὴ ὁ μὲν ἀναβὰς ἐπί τι περίμηκες δένδρον ἐνεοττοποιήσατο· ἡ δὲ εἰσελθοῦσα εἰς τὸν ὑποκείμενον θάμνον ἔτεκεν. Ἐξελθούσης δέ ποτε αὐτῆς ἐπὶ νομὴν, ὁ ἀετὸς ἀπορῶν τροφῆς, καταπτὰς εἰς τὸν θάμνον καὶ τὰ γεννήματα ἀναρπάσας, μετὰ τῶν αὑτοῦ νεοττῶν κατεθοινήσατο. Ἡ δʼἀλώπηξ ἐπανελθοῦσα ὡς ἔγνω τὸ πραχθὲν, οὐ μᾶλλον ἐπὶ τῷ τῶν νεοττῶν θανάτῳ ἐλυπήθη, ὅσον ἐπὶ τῷ τῆς ἀμύνης ἀπόρῳ· χερσαία\u001b[39m..."
      ]
     },
     "execution_count": 64,
     "metadata": {},
     "output_type": "execute_result"
    }
   ],
   "source": [
    "val greekCex: String = {\n",
    "    ( \"#!ctsdata\" +: greekBlock ).mkString(\"\\n\")\n",
    "}"
   ]
  },
  {
   "cell_type": "code",
   "execution_count": 65,
   "metadata": {},
   "outputs": [
    {
     "data": {
      "text/plain": [
       "\u001b[36mportCex\u001b[39m: \u001b[32mString\u001b[39m = \u001b[32m\"\"\"#!ctsdata\n",
       "urn:cts:greekLit:tlg0096.tlg002.mcdezotti:1.head#Os bens e os males\n",
       "urn:cts:greekLit:tlg0096.tlg002.mcdezotti:1.text#Os bens todos, por serem frágeis, foram perseguidos pelos males. Então, subiram ao céu. E os bens perguntaram a Zeus como deviam comportar-se entre os homens. Ele então falou para se acercarem dos homens, não todos em conjunto, mas um de cada vez. Por isso os males constantemente se acercam dos homens porque estão por perto, enquanto os bens descem do céu mais devagar. A fábula mostra que ninguém depara rapidamente com um bem, mas pelos males cada pessoa é a cada momento atingida.\n",
       "urn:cts:greekLit:tlg0096.tlg002.mcdezotti:2.head#O vendedor de estátuas\n",
       "urn:cts:greekLit:tlg0096.tlg002.mcdezotti:2.text#Um homem fabricou um Hermes de madeira e o expôs, tentando vender.  Como nenhum comprador se aproximava, ele, querendo atrair alguns, pôs-se a gritar que estava vendendo um deus benfeitor e guardião do lucro. Então uma das pessoas que por ali se achavam lhe disse: “Ei você, e por que o vende, sendo ele esse tal, se convém aproveitar os benefícios advindos dele?” Ele respondeu: “É que eu estou precisando de um certo benefício imediato, e ele costuma conceder os lucros lentamente.\"  Para homem vergonhosamente cúpido e que menospreza o divino.\n",
       "urn:cts:greekLit:tlg0096.tlg002.mcdezotti:3.head#O camponês e os burrinhos\n",
       "urn:cts:greekLit:tlg0096.tlg002.mcdezotti:3.text#Um camponês que chegou à velhice no campo, visto que nunca tinha ido à cidade, pedia com insistência aos familiares para vê-la. Então eles, após atrelarem burrinhos,  fizeram-no subir na carroça  e ordenaram que apenas tocasse adiante. Mas enquanto ele estava a caminho, uma tempestade e um vendaval apanharam de surpresa o tempo e ficou um breu. Os burrinhos perderam o rumo do caminho e desviaram o velho para um precipício. E ele, já prestes a despencar no precipício, disse: “Ó Zeus, o que alguma vez te fiz de errado para morrer assim de modo absurdo, e isso nem por obra de cavalos de raça, nem de boas mulas, mas de burrinhos da pior espécie!\" \n",
       "urn:cts:greekLit:tlg0096.tlg002.mcdezotti:4.head#A águia\n",
       "urn:cts:greekLit:tlg0096.tlg002.mcdezotti:4.text#Uma águia pousou bem no alto de um rochedo, buscando caçar uma lebre. Então alguém desferiu o arco e atingiu-a. E a flecha penetrou nela, mas o chanfro com as penas estancou diante de seus olhos. Ao vê-lo, ela disse: “E isso para mim é outro desgosto: morrer em meio às próprias penas.” A fábula mostra que é terrível quando alguém corre perigo advindo de seus próprios recursos.\n",
       "urn:cts:greekLit:tlg0096.tlg002.mcdezotti:5.head#A águia e a raposa\n",
       "urn:cts:greekLit:tlg0096.tlg002.mcdezotti:5.text#Uma  águia e uma raposa, após pactuarem amizade mútua,  decidiram morar perto uma da outra, fazendo do convívio garantia de amizade. E então uma subiu numa árvore bem alta e fez o ninho, enqu\u001b[39m..."
      ]
     },
     "execution_count": 65,
     "metadata": {},
     "output_type": "execute_result"
    }
   ],
   "source": [
    "val portCex: String = {\n",
    "    ( \"#!ctsdata\" +: portBlock ).mkString(\"\\n\")\n",
    "}"
   ]
  },
  {
   "cell_type": "markdown",
   "metadata": {},
   "source": [
    "Put the whole things together:"
   ]
  },
  {
   "cell_type": "code",
   "execution_count": 66,
   "metadata": {},
   "outputs": [
    {
     "data": {
      "text/plain": [
       "\u001b[36maesopCex\u001b[39m: \u001b[32mString\u001b[39m = \u001b[32m\"\"\"#!cexversion\n",
       "3.0\n",
       "#!citelibrary\n",
       "name#CEX library\n",
       "urn#urn:cite2:cex:unesp_fu.v1:temp2\n",
       "license#CC 3.0 NC-BY\n",
       "#!ctscatalog\n",
       "urn#citationScheme#groupName#workTitle#versionLabel#exemplarLabel#online#lang\n",
       "urn:cts:greekLit:tlg0096.tlg002.First1K-grc1:#fable#Aesop#Fabulae#Helm, Teubner, 1872##true#grc\n",
       "urn:cts:greekLit:tlg0096.tlg002.mcdezotti:#fable#Aesop#Fabulae#M.C. Dezotti, trans., 2020##true#por\n",
       "\n",
       "#!ctsdata\n",
       "urn:cts:greekLit:tlg0096.tlg002.First1K-grc1:1.head#Ἀγαθὰ καὶ Κακά\n",
       "urn:cts:greekLit:tlg0096.tlg002.First1K-grc1:1.text#Ἀγαθὰ πάντα ὑπὸ τῶν κακῶν ἐδιώχθη, ὡς ἀσθενῆ ὄντα· εἰς οὐρανὸν δὲ ἀνῆλθον. Καὶ τἀγαθὰ ἠρώτησαν τὸν Δία, πῶς εἶναι δεῖ μετὰ ἀνθρώπων. Ὁ δὲ εἶπε, μὴ μετʼ ἀλλήλων πάντα, ἓν δὲ καθʼ ἓν τοῖς ἀνθρώποις ἐπέρχεσθαι. Διὰ τοῦτο τὰ μὲν κακὰ συνεχῆ τοῖς ἀνθρώποις, ὡς πλησίον ὄντα, ἐπέρχεται, τὰ δὲ ἀγαθὰ βράδιον ἐξ οὐρανοῦ κάτεισι. Ὁ λόγος δηλοῖ, ὅτι ἀγαθῷ μὲν οὐδεὶς ταχέως ἐπιτυγχάνει, ὑπὸ δὲ τῶν κακῶν ἕκαστος καθʼ ἑκάστην πλήττεται.\n",
       "urn:cts:greekLit:tlg0096.tlg002.First1K-grc1:2.head#Ἀγαλματοπώλης\n",
       "urn:cts:greekLit:tlg0096.tlg002.First1K-grc1:2.text#Ξύλινόν τις Ἑρμῆν κατασκευάσας, προσενεγκὼν ἐπώλει. Μηδενὸς δὲ ὠνητοῦ προσιόντος, ἐκκαλέσασθαί τινας βουλόμενος ἐβόα, ὡς ἀγαθοποιὸν δαίμονα καὶ κέρδους τηρητικὸν πιπράσκει. Τῶν δὲ παρατυχόντων τινὸς εἰπόντος πρὸς αὐτόν· ,,ὦ οὗτος, καὶ τί τοῦτον ὄντα τοιοῦτον πωλεῖς, δέον τῶν παρʼ αὐτοῦ ὠφελειῶν ἀπολαύειν ; “ ἀπεκρίνατο· ,, ὅτι ἐγὼ μὲν ταχείας ὠφελείας τινὸς ἐπιδέομαι, αὐτὸς δὲ βραδέως εἴωθε τὰ κέρδη περιποιεῖν.\" Πρὸς ἄνδρα αἰσχροκερδῆ καὶ τὸ θεῖον περιφρονοῦντα.   \n",
       "urn:cts:greekLit:tlg0096.tlg002.First1K-grc1:3.head#Ἄγροικος καὶ Ὀνάρια\n",
       "urn:cts:greekLit:tlg0096.tlg002.First1K-grc1:3.text#Γεωργός τις ἐπʼ ἀγροῦ γεγηρακὼς, ἐπεὶ μηδέποτε εἰσῆλθεν εἰς ἄστυ, παρεκάλει τοὺς οἰκείους τοῦτο θεάσασθαι. Οἱ δὲ ζεύξαντες ὀνάρια καὶ ἐπὶ τῆς ἀπήνης αὐτὸν ἀναβιβασάμενοι, μόνον ἐκέλευσαν ἐλαύνειν. Ὁδεύοντι δὲ χειμῶνος καὶ θυέλλης τὸν ἀέρα καταλαβόντων καὶ ζόφου γενομένου, τὰ ὀνάρια τῆς ὁδοῦ πλανηθέντα εἴς τινα κρημνὸν ἐξετόπισαν τὸν πρεσβύτην. Ὁ δὲ μέλλων ἤδη κατακρημνίζεσθαι ,,ὦ Ζεῦ,“ εἶπε ,,τί ποτέ σε ἠδίκησα, ὅτι οὕτω παρὰ λόγον ἀπόλλυμαι, καὶ ταῦτα οὔθʼ ὑφʼ ἵππων γενναίων οὔθ’ ἡμιόνων ἀγαθῶν, ἀλλ’ ὀναρίων εὐτελεστάτων;“\n",
       "urn:cts:greekLit:tlg0096.tlg002.First1K-grc1:4.head#Ἀετός\n",
       "\u001b[39m..."
      ]
     },
     "execution_count": 66,
     "metadata": {},
     "output_type": "execute_result"
    }
   ],
   "source": [
    "val aesopCex: String = {\n",
    "    cexHeader + \"\\n\\n\" + greekCex + \"\\n\\n\" + portCex + \"\\n\"\n",
    "}"
   ]
  },
  {
   "cell_type": "markdown",
   "metadata": {},
   "source": [
    "Save it…"
   ]
  },
  {
   "cell_type": "code",
   "execution_count": 67,
   "metadata": {},
   "outputs": [],
   "source": [
    "saveString( aesopCex, \"cex/\", \"aesop.cex\")"
   ]
  },
  {
   "cell_type": "markdown",
   "metadata": {},
   "source": [
    "## Test It!"
   ]
  },
  {
   "cell_type": "markdown",
   "metadata": {},
   "source": [
    "### Load the Library"
   ]
  },
  {
   "cell_type": "markdown",
   "metadata": {},
   "source": [
    "We can test the validity of our work by trying to load it into a [CiteLibrary](https://cite-architecture.github.io/cite-api-docs/)."
   ]
  },
  {
   "cell_type": "code",
   "execution_count": 68,
   "metadata": {},
   "outputs": [
    {
     "name": "stderr",
     "output_type": "stream",
     "text": [
      "Jan 29, 2020 11:18:51 AM wvlet.log.Logger log\n",
      "INFO: Building text repo from cex ...\n",
      "Jan 29, 2020 11:18:51 AM wvlet.log.Logger log\n",
      "INFO: Building collection repo from cex ...\n",
      "Jan 29, 2020 11:18:51 AM wvlet.log.Logger log\n",
      "INFO: Building relations from cex ...\n",
      "Jan 29, 2020 11:18:51 AM wvlet.log.Logger log\n",
      "INFO: All library components built.\n"
     ]
    },
    {
     "data": {
      "text/plain": [
       "\u001b[36mcexPath\u001b[39m: \u001b[32mString\u001b[39m = \u001b[32m\"cex/aesop.cex\"\u001b[39m\n",
       "\u001b[36mlib\u001b[39m: \u001b[32mCiteLibrary\u001b[39m = \u001b[33mCiteLibrary\u001b[39m(\n",
       "  \u001b[32m\"CEX library\"\u001b[39m,\n",
       "  \u001b[33mCite2Urn\u001b[39m(\u001b[32m\"urn:cite2:cex:unesp_fu.v1:temp2\"\u001b[39m),\n",
       "  \u001b[32m\"CC 3.0 NC-BY\"\u001b[39m,\n",
       "  \u001b[33mVector\u001b[39m(),\n",
       "  \u001b[33mSome\u001b[39m(\n",
       "    \u001b[33mTextRepository\u001b[39m(\n",
       "      \u001b[33mCorpus\u001b[39m(\n",
       "        \u001b[33mVector\u001b[39m(\n",
       "          \u001b[33mCitableNode\u001b[39m(\n",
       "            \u001b[33mCtsUrn\u001b[39m(\u001b[32m\"urn:cts:greekLit:tlg0096.tlg002.First1K-grc1:1.head\"\u001b[39m),\n",
       "            \u001b[32m\"\\u1f08\\u03b3\\u03b1\\u03b8\\u1f70 \\u03ba\\u03b1\\u1f76 \\u039a\\u03b1\\u03ba\\u03ac\"\u001b[39m\n",
       "          ),\n",
       "          \u001b[33mCitableNode\u001b[39m(\n",
       "            \u001b[33mCtsUrn\u001b[39m(\u001b[32m\"urn:cts:greekLit:tlg0096.tlg002.First1K-grc1:1.text\"\u001b[39m),\n",
       "            \u001b[32m\"\\u1f08\\u03b3\\u03b1\\u03b8\\u1f70 \\u03c0\\u03ac\\u03bd\\u03c4\\u03b1 \\u1f51\\u03c0\\u1f78 \\u03c4\\u1ff6\\u03bd \\u03ba\\u03b1\\u03ba\\u1ff6\\u03bd \\u1f10\\u03b4\\u03b9\\u03ce\\u03c7\\u03b8\\u03b7, \\u1f61\\u03c2 \\u1f00\\u03c3\\u03b8\\u03b5\\u03bd\\u1fc6 \\u1f44\\u03bd\\u03c4\\u03b1\\u00b7 \\u03b5\\u1f30\\u03c2 \\u03bf\\u1f50\\u03c1\\u03b1\\u03bd\\u1f78\\u03bd \\u03b4\\u1f72 \\u1f00\\u03bd\\u1fc6\\u03bb\\u03b8\\u03bf\\u03bd. \\u039a\\u03b1\\u1f76 \\u03c4\\u1f00\\u03b3\\u03b1\\u03b8\\u1f70 \\u1f20\\u03c1\\u03ce\\u03c4\\u03b7\\u03c3\\u03b1\\u03bd \\u03c4\\u1f78\\u03bd \\u0394\\u03af\\u03b1, \\u03c0\\u1ff6\\u03c2 \\u03b5\\u1f36\\u03bd\\u03b1\\u03b9 \\u03b4\\u03b5\\u1fd6 \\u03bc\\u03b5\\u03c4\\u1f70 \\u1f00\\u03bd\\u03b8\\u03c1\\u03ce\\u03c0\\u03c9\\u03bd. \\u1f49 \\u03b4\\u1f72 \\u03b5\\u1f36\\u03c0\\u03b5, \\u03bc\\u1f74 \\u03bc\\u03b5\\u03c4\\u02bc \\u1f00\\u03bb\\u03bb\\u03ae\\u03bb\\u03c9\\u03bd \\u03c0\\u03ac\\u03bd\\u03c4\\u03b1, \\u1f13\\u03bd \\u03b4\\u1f72 \\u03ba\\u03b1\\u03b8\\u02bc \\u1f13\\u03bd \\u03c4\\u03bf\\u1fd6\\u03c2 \\u1f00\\u03bd\\u03b8\\u03c1\\u03ce\\u03c0\\u03bf\\u03b9\\u03c2 \\u1f10\\u03c0\\u03ad\\u03c1\\u03c7\\u03b5\\u03c3\\u03b8\\u03b1\\u03b9. \\u0394\\u03b9\\u1f70 \\u03c4\\u03bf\\u1fe6\\u03c4\\u03bf \\u03c4\\u1f70 \\u03bc\\u1f72\\u03bd \\u03ba\\u03b1\\u03ba\\u1f70 \\u03c3\\u03c5\\u03bd\\u03b5\\u03c7\\u1fc6 \\u03c4\\u03bf\\u1fd6\\u03c2 \\u1f00\\u03bd\\u03b8\\u03c1\\u03ce\\u03c0\\u03bf\\u03b9\\u03c2, \\u1f61\\u03c2 \\u03c0\\u03bb\\u03b7\\u03c3\\u03af\\u03bf\\u03bd \\u1f44\\u03bd\\u03c4\\u03b1, \\u1f10\\u03c0\\u03ad\\u03c1\\u03c7\\u03b5\\u03c4\\u03b1\\u03b9, \\u03c4\\u1f70 \\u03b4\\u1f72 \\u1f00\\u03b3\\u03b1\\u03b8\\u1f70 \\u03b2\\u03c1\\u03ac\\u03b4\\u03b9\\u03bf\\u03bd \\u1f10\\u03be \\u03bf\\u1f50\\u03c1\\u03b1\\u03bd\\u03bf\\u1fe6 \\u03ba\\u03ac\\u03c4\\u03b5\\u03b9\\u03c3\\u03b9. \\u1f49 \\u03bb\\u03cc\\u03b3\\u03bf\\u03c2 \\u03b4\\u03b7\\u03bb\\u03bf\\u1fd6, \\u1f45\\u03c4\\u03b9 \\u1f00\\u03b3\\u03b1\\u03b8\\u1ff7 \\u03bc\\u1f72\\u03bd \\u03bf\\u1f50\\u03b4\\u03b5\\u1f76\\u03c2 \\u03c4\\u03b1\\u03c7\\u03ad\\u03c9\\u03c2 \\u1f10\\u03c0\\u03b9\\u03c\u001b[39m..."
      ]
     },
     "execution_count": 68,
     "metadata": {},
     "output_type": "execute_result"
    }
   ],
   "source": [
    "val cexPath = \"cex/aesop.cex\"\n",
    "val lib = CiteLibrary(scala.io.Source.fromFile(cexPath).mkString)"
   ]
  },
  {
   "cell_type": "markdown",
   "metadata": {},
   "source": [
    "If that worked (!??!), we can now try a little retrieval and analysis. \n",
    "\n",
    "A CITE Library has many possible components. The one we have just loaded is text-only, so let's get some parts of it convenient to hand.\n",
    "\n",
    "> A CiteLibrary possesses an `Option[TextRepository]`. So there may or may not be a TextRepository in any given CiteLibrary, the value of `lib.textRepository` may be either `Some[TextRepository]` or `None`. We can \"get\" the TR with `lib.textRepository.get`. If the value is actually `None`, this will throw an exception. But in that case, something failed, above, so there is no point doing elaborate checking."
   ]
  },
  {
   "cell_type": "code",
   "execution_count": 69,
   "metadata": {},
   "outputs": [
    {
     "data": {
      "text/plain": [
       "\u001b[36mtr\u001b[39m: \u001b[32mTextRepository\u001b[39m = \u001b[33mTextRepository\u001b[39m(\n",
       "  \u001b[33mCorpus\u001b[39m(\n",
       "    \u001b[33mVector\u001b[39m(\n",
       "      \u001b[33mCitableNode\u001b[39m(\n",
       "        \u001b[33mCtsUrn\u001b[39m(\u001b[32m\"urn:cts:greekLit:tlg0096.tlg002.First1K-grc1:1.head\"\u001b[39m),\n",
       "        \u001b[32m\"\\u1f08\\u03b3\\u03b1\\u03b8\\u1f70 \\u03ba\\u03b1\\u1f76 \\u039a\\u03b1\\u03ba\\u03ac\"\u001b[39m\n",
       "      ),\n",
       "      \u001b[33mCitableNode\u001b[39m(\n",
       "        \u001b[33mCtsUrn\u001b[39m(\u001b[32m\"urn:cts:greekLit:tlg0096.tlg002.First1K-grc1:1.text\"\u001b[39m),\n",
       "        \u001b[32m\"\\u1f08\\u03b3\\u03b1\\u03b8\\u1f70 \\u03c0\\u03ac\\u03bd\\u03c4\\u03b1 \\u1f51\\u03c0\\u1f78 \\u03c4\\u1ff6\\u03bd \\u03ba\\u03b1\\u03ba\\u1ff6\\u03bd \\u1f10\\u03b4\\u03b9\\u03ce\\u03c7\\u03b8\\u03b7, \\u1f61\\u03c2 \\u1f00\\u03c3\\u03b8\\u03b5\\u03bd\\u1fc6 \\u1f44\\u03bd\\u03c4\\u03b1\\u00b7 \\u03b5\\u1f30\\u03c2 \\u03bf\\u1f50\\u03c1\\u03b1\\u03bd\\u1f78\\u03bd \\u03b4\\u1f72 \\u1f00\\u03bd\\u1fc6\\u03bb\\u03b8\\u03bf\\u03bd. \\u039a\\u03b1\\u1f76 \\u03c4\\u1f00\\u03b3\\u03b1\\u03b8\\u1f70 \\u1f20\\u03c1\\u03ce\\u03c4\\u03b7\\u03c3\\u03b1\\u03bd \\u03c4\\u1f78\\u03bd \\u0394\\u03af\\u03b1, \\u03c0\\u1ff6\\u03c2 \\u03b5\\u1f36\\u03bd\\u03b1\\u03b9 \\u03b4\\u03b5\\u1fd6 \\u03bc\\u03b5\\u03c4\\u1f70 \\u1f00\\u03bd\\u03b8\\u03c1\\u03ce\\u03c0\\u03c9\\u03bd. \\u1f49 \\u03b4\\u1f72 \\u03b5\\u1f36\\u03c0\\u03b5, \\u03bc\\u1f74 \\u03bc\\u03b5\\u03c4\\u02bc \\u1f00\\u03bb\\u03bb\\u03ae\\u03bb\\u03c9\\u03bd \\u03c0\\u03ac\\u03bd\\u03c4\\u03b1, \\u1f13\\u03bd \\u03b4\\u1f72 \\u03ba\\u03b1\\u03b8\\u02bc \\u1f13\\u03bd \\u03c4\\u03bf\\u1fd6\\u03c2 \\u1f00\\u03bd\\u03b8\\u03c1\\u03ce\\u03c0\\u03bf\\u03b9\\u03c2 \\u1f10\\u03c0\\u03ad\\u03c1\\u03c7\\u03b5\\u03c3\\u03b8\\u03b1\\u03b9. \\u0394\\u03b9\\u1f70 \\u03c4\\u03bf\\u1fe6\\u03c4\\u03bf \\u03c4\\u1f70 \\u03bc\\u1f72\\u03bd \\u03ba\\u03b1\\u03ba\\u1f70 \\u03c3\\u03c5\\u03bd\\u03b5\\u03c7\\u1fc6 \\u03c4\\u03bf\\u1fd6\\u03c2 \\u1f00\\u03bd\\u03b8\\u03c1\\u03ce\\u03c0\\u03bf\\u03b9\\u03c2, \\u1f61\\u03c2 \\u03c0\\u03bb\\u03b7\\u03c3\\u03af\\u03bf\\u03bd \\u1f44\\u03bd\\u03c4\\u03b1, \\u1f10\\u03c0\\u03ad\\u03c1\\u03c7\\u03b5\\u03c4\\u03b1\\u03b9, \\u03c4\\u1f70 \\u03b4\\u1f72 \\u1f00\\u03b3\\u03b1\\u03b8\\u1f70 \\u03b2\\u03c1\\u03ac\\u03b4\\u03b9\\u03bf\\u03bd \\u1f10\\u03be \\u03bf\\u1f50\\u03c1\\u03b1\\u03bd\\u03bf\\u1fe6 \\u03ba\\u03ac\\u03c4\\u03b5\\u03b9\\u03c3\\u03b9. \\u1f49 \\u03bb\\u03cc\\u03b3\\u03bf\\u03c2 \\u03b4\\u03b7\\u03bb\\u03bf\\u1fd6, \\u1f45\\u03c4\\u03b9 \\u1f00\\u03b3\\u03b1\\u03b8\\u1ff7 \\u03bc\\u1f72\\u03bd \\u03bf\\u1f50\\u03b4\\u03b5\\u1f76\\u03c2 \\u03c4\\u03b1\\u03c7\\u03ad\\u03c9\\u03c2 \\u1f10\\u03c0\\u03b9\\u03c4\\u03c5\\u03b3\\u03c7\\u03ac\\u03bd\\u03b5\\u03b9, \\u1f51\\u03c0\\u1f78 \\u03b4\\u1f72 \\u03c4\\u1ff6\\u03bd \\u03ba\\u03b1\\u03ba\\u1ff6\\u03bd \\u1f15\\u03ba\\u03b1\\u03c3\\u03c4\\u03bf\\u03c2 \\u03ba\\u03b1\\u03b8\\u02bc \\u1f11\\u03ba\\u03ac\\u03c3\\u03c4\\u03b7\\u03bd \\u03c0\\u03bb\\u03ae\\u03c4\\u03c4\\u03b5\\u03c4\\u03b1\\u03b9.\"\u001b[39m\n",
       "      ),\n",
       "      \u001b[33mCitableNode\u001b[39m(\n",
       "..."
      ]
     },
     "execution_count": 69,
     "metadata": {},
     "output_type": "execute_result"
    }
   ],
   "source": [
    "val tr: TextRepository = lib.textRepository.get // Go for it!"
   ]
  },
  {
   "cell_type": "markdown",
   "metadata": {},
   "source": [
    "A TextRepository **must** have both a `Catalog` and a `Corpus`. See [the API docs for the `OHCO2` library](https://cite-architecture.github.io/cite-api-docs/ohco2/api/edu/holycross/shot/ohco2/index.html)."
   ]
  },
  {
   "cell_type": "code",
   "execution_count": 70,
   "metadata": {},
   "outputs": [
    {
     "data": {
      "text/plain": [
       "\u001b[36mcat\u001b[39m: \u001b[32mCatalog\u001b[39m = \u001b[33mCatalog\u001b[39m(\n",
       "  \u001b[33mVector\u001b[39m(\n",
       "    \u001b[33mCatalogEntry\u001b[39m(\n",
       "      \u001b[33mCtsUrn\u001b[39m(\u001b[32m\"urn:cts:greekLit:tlg0096.tlg002.First1K-grc1:\"\u001b[39m),\n",
       "      \u001b[32m\"fable\"\u001b[39m,\n",
       "      \u001b[32m\"grc\"\u001b[39m,\n",
       "      \u001b[32m\"Aesop\"\u001b[39m,\n",
       "      \u001b[32m\"Fabulae\"\u001b[39m,\n",
       "      \u001b[33mSome\u001b[39m(\u001b[32m\"Helm, Teubner, 1872\"\u001b[39m),\n",
       "      \u001b[32mNone\u001b[39m,\n",
       "      true\n",
       "    ),\n",
       "    \u001b[33mCatalogEntry\u001b[39m(\n",
       "      \u001b[33mCtsUrn\u001b[39m(\u001b[32m\"urn:cts:greekLit:tlg0096.tlg002.mcdezotti:\"\u001b[39m),\n",
       "      \u001b[32m\"fable\"\u001b[39m,\n",
       "      \u001b[32m\"por\"\u001b[39m,\n",
       "      \u001b[32m\"Aesop\"\u001b[39m,\n",
       "      \u001b[32m\"Fabulae\"\u001b[39m,\n",
       "      \u001b[33mSome\u001b[39m(\u001b[32m\"M.C. Dezotti, trans., 2020\"\u001b[39m),\n",
       "      \u001b[32mNone\u001b[39m,\n",
       "      true\n",
       "    )\n",
       "  )\n",
       ")\n",
       "\u001b[36mcorp\u001b[39m: \u001b[32mCorpus\u001b[39m = \u001b[33mCorpus\u001b[39m(\n",
       "  \u001b[33mVector\u001b[39m(\n",
       "    \u001b[33mCitableNode\u001b[39m(\n",
       "      \u001b[33mCtsUrn\u001b[39m(\u001b[32m\"urn:cts:greekLit:tlg0096.tlg002.First1K-grc1:1.head\"\u001b[39m),\n",
       "      \u001b[32m\"\\u1f08\\u03b3\\u03b1\\u03b8\\u1f70 \\u03ba\\u03b1\\u1f76 \\u039a\\u03b1\\u03ba\\u03ac\"\u001b[39m\n",
       "    ),\n",
       "    \u001b[33mCitableNode\u001b[39m(\n",
       "      \u001b[33mCtsUrn\u001b[39m(\u001b[32m\"urn:cts:greekLit:tlg0096.tlg002.First1K-grc1:1.text\"\u001b[39m),\n",
       "      \u001b[32m\"\\u1f08\\u03b3\\u03b1\\u03b8\\u1f70 \\u03c0\\u03ac\\u03bd\\u03c4\\u03b1 \\u1f51\\u03c0\\u1f78 \\u03c4\\u1ff6\\u03bd \\u03ba\\u03b1\\u03ba\\u1ff6\\u03bd \\u1f10\\u03b4\\u03b9\\u03ce\\u03c7\\u03b8\\u03b7, \\u1f61\\u03c2 \\u1f00\\u03c3\\u03b8\\u03b5\\u03bd\\u1fc6 \\u1f44\\u03bd\\u03c4\\u03b1\\u00b7 \\u03b5\\u1f30\\u03c2 \\u03bf\\u1f50\\u03c1\\u03b1\\u03bd\\u1f78\\u03bd \\u03b4\\u1f72 \\u1f00\\u03bd\\u1fc6\\u03bb\\u03b8\\u03bf\\u03bd. \\u039a\\u03b1\\u1f76 \\u03c4\\u1f00\\u03b3\\u03b1\\u03b8\\u1f70 \\u1f20\\u03c1\\u03ce\\u03c4\\u03b7\\u03c3\\u03b1\\u03bd \\u03c4\\u1f78\\u03bd \\u0394\\u03af\\u03b1, \\u03c0\\u1ff6\\u03c2 \\u03b5\\u1f36\\u03bd\\u03b1\\u03b9 \\u03b4\\u03b5\\u1fd6 \\u03bc\\u03b5\\u03c4\\u1f70 \\u1f00\\u03bd\\u03b8\\u03c1\\u03ce\\u03c0\\u03c9\\u03bd. \\u1f49 \\u03b4\\u1f72 \\u03b5\\u1f36\\u03c0\\u03b5, \\u03bc\\u1f74 \\u03bc\\u03b5\\u03c4\\u02bc \\u1f00\\u03bb\\u03bb\\u03ae\\u03bb\\u03c9\\u03bd \\u03c0\\u03ac\\u03bd\\u03c4\\u03b1, \\u1f13\\u03bd \\u03b4\\u1f72 \\u03ba\\u03b1\\u03b8\\u02bc \\u1f13\\u03bd \\u03c4\\u03bf\\u1fd6\\u03c2 \\u1f00\\u03bd\\u03b8\\u03c1\\u03ce\\u03c0\\u03bf\\u03b9\\u03c2 \\u1f10\\u03c0\\u03ad\\u03c1\\u03c7\\u03b5\\u03c3\\u03b8\\u03b1\\u03b9. \\u0394\\u03b9\\u1f70 \\u03c4\\u03bf\\u1fe6\\u03c4\\u03bf \\u03c4\\u1f70 \\u03bc\\u1f72\\u03bd \\u03ba\\u03b1\\u03ba\\u1f70 \\u03c3\\u03c5\\u03bd\\u03b5\\u03c7\\u1fc6 \\u03c4\\u03bf\\u1fd6\\u03c2 \\u1f00\\u03bd\\u03b8\\u03c1\\u03ce\\u03c0\\u03bf\\u03b9\\u03c2, \\u1f61\\u03c2 \\u03c0\\u03bb\\u03b7\\u03c3\\u03af\\u03bf\\u03bd \\u1f44\\u03bd\\u03c4\\u03b1, \\u1f10\\u03c0\\u03ad\\u03c1\\u03c7\\u03b5\\u03c4\\u03b1\\u03b9, \\u03c4\\u1f70 \\u03b4\\u1f72 \\u1f00\\u03b3\\u03b1\\u03b8\\u1f70 \\u03b2\\u03c1\\u03ac\\u03b4\\u03b9\\u03bf\\u03bd \\u1f10\\u03be \\u03bf\\u1f50\\u03c1\\u03b1\\u03bd\\u03bf\\u1fe6 \\u03ba\\u03ac\\u03c4\\u03b5\\u03b9\\u03c3\\u03b9. \\u1f49 \\u03bb\\u03cc\\u03b3\\u03bf\\u03c2 \\u03b4\\u03b7\\u03bb\\u03bf\\u1fd6, \\u1f45\\u03c4\\u03b9 \\u1f00\\u03b3\\u03b1\\u03b8\\u1ff7 \\u03bc\\u1f72\\u03bd \\u03bf\\u1f50\\u03b4\\u03b5\\u1f76\\u03c2 \\u03c4\\u03b1\\u03c7\\u03ad\\u03c9\\u03c2 \\u1f10\\u03c0\\u03b9\\u03c4\\u03c5\\u03b3\\u03c7\\u03ac\\u03bd\\u03b5\\u03b9, \\u1f51\\u03c0\\u1f78 \\u03b4\\u1f72 \\u03c4\\u1ff6\\u03bd \\u03ba\\u03b1\\u03ba\\u1ff6\\u03bd \\u1f15\\u03ba\\u03b1\\u03c3\\u03c4\\u03bf\\u03c2 \\u03ba\\u03b1\\u03b8\\u02bc \\u1f11\\u03ba\\u03ac\\u03c3\\u03c4\\u03b7\\u03bd \\u03c0\\u03bb\\u03ae\\u03c4\\u03c4\\u03b5\\u03c4\\u03b1\\u03b9.\"\u001b[39m\n",
       "    ),\n",
       "    \u001b[33mCitableNode\u001b[39m(\n",
       "      \u001b[33mCtsUrn\u001b[39m(\u001b[32m\"urn:cts:greekLit:tlg0096.tlg002.First1K-grc1:2.head\"\u001b[39m),\n",
       "..."
      ]
     },
     "execution_count": 70,
     "metadata": {},
     "output_type": "execute_result"
    }
   ],
   "source": [
    "val cat: Catalog = tr.catalog\n",
    "\n",
    "val corp: Corpus = tr.corpus"
   ]
  },
  {
   "cell_type": "markdown",
   "metadata": {},
   "source": [
    "### Retrieval"
   ]
  },
  {
   "cell_type": "markdown",
   "metadata": {},
   "source": [
    "For this exercise, we will define some URNs, and use them to retrieve passage of text. This will take advantage of \n",
    "the `showMe()` Function defined above."
   ]
  },
  {
   "cell_type": "code",
   "execution_count": 71,
   "metadata": {},
   "outputs": [
    {
     "data": {
      "text/plain": [
       "\u001b[36maesopUrn\u001b[39m: \u001b[32mCtsUrn\u001b[39m = \u001b[33mCtsUrn\u001b[39m(\u001b[32m\"urn:cts:greekLit:tlg0096.tlg002:\"\u001b[39m)\n",
       "\u001b[36mgreekVers\u001b[39m: \u001b[32mString\u001b[39m = \u001b[32m\"First1K-grc1\"\u001b[39m\n",
       "\u001b[36mportVers\u001b[39m: \u001b[32mString\u001b[39m = \u001b[32m\"mcdezotti\"\u001b[39m"
      ]
     },
     "execution_count": 71,
     "metadata": {},
     "output_type": "execute_result"
    }
   ],
   "source": [
    "// Urn to Aesop's Fabulae\n",
    "val aesopUrn = CtsUrn(\"urn:cts:greekLit:tlg0096.tlg002:\")\n",
    "\n",
    "// Version ID for Greek\n",
    "val greekVers = \"First1K-grc1\"\n",
    "\n",
    "// Version ID for Portuguese\n",
    "val portVers = \"mcdezotti\""
   ]
  },
  {
   "cell_type": "markdown",
   "metadata": {},
   "source": [
    "#### Retrieve Fables"
   ]
  },
  {
   "cell_type": "markdown",
   "metadata": {},
   "source": [
    "One fable, in Greek:"
   ]
  },
  {
   "cell_type": "code",
   "execution_count": 72,
   "metadata": {},
   "outputs": [
    {
     "data": {
      "text/plain": [
       "\u001b[36moneGreekCitation\u001b[39m: \u001b[32mCtsUrn\u001b[39m = \u001b[33mCtsUrn\u001b[39m(\n",
       "  \u001b[32m\"urn:cts:greekLit:tlg0096.tlg002.First1K-grc1:3\"\u001b[39m\n",
       ")"
      ]
     },
     "execution_count": 72,
     "metadata": {},
     "output_type": "execute_result"
    }
   ],
   "source": [
    "val oneGreekCitation = aesopUrn.addVersion(greekVers).addPassage(\"3\")"
   ]
  },
  {
   "cell_type": "markdown",
   "metadata": {},
   "source": [
    "We use the `~~` method to retrieve a passage, based on a URN, from a Corpus."
   ]
  },
  {
   "cell_type": "code",
   "execution_count": 73,
   "metadata": {},
   "outputs": [
    {
     "name": "stdout",
     "output_type": "stream",
     "text": [
      "Retrieving CTS-URN: urn:cts:greekLit:tlg0096.tlg002.First1K-grc1:3\n",
      "\n",
      "3.head\t\tἌγροικος καὶ Ὀνάρια\n",
      "3.text\t\tΓεωργός τις ἐπʼ ἀγροῦ γεγηρακὼς, ἐπεὶ μηδέποτε εἰσῆλθεν εἰς ἄστυ, παρεκάλει τοὺς οἰκείους τοῦτο θεάσασθαι. Οἱ δὲ ζεύξαντες ὀνάρια καὶ ἐπὶ τῆς ἀπήνης αὐτὸν ἀναβιβασάμενοι, μόνον ἐκέλευσαν ἐλαύνειν. Ὁδεύοντι δὲ χειμῶνος καὶ θυέλλης τὸν ἀέρα καταλαβόντων καὶ ζόφου γενομένου, τὰ ὀνάρια τῆς ὁδοῦ πλανηθέντα εἴς τινα κρημνὸν ἐξετόπισαν τὸν πρεσβύτην. Ὁ δὲ μέλλων ἤδη κατακρημνίζεσθαι ,,ὦ Ζεῦ,“ εἶπε ,,τί ποτέ σε ἠδίκησα, ὅτι οὕτω παρὰ λόγον ἀπόλλυμαι, καὶ ταῦτα οὔθʼ ὑφʼ ἵππων γενναίων οὔθ’ ἡμιόνων ἀγαθῶν, ἀλλ’ ὀναρίων εὐτελεστάτων;“\n"
     ]
    },
    {
     "data": {
      "text/plain": [
       "\u001b[36moneGreekFable\u001b[39m: \u001b[32mCorpus\u001b[39m = \u001b[33mCorpus\u001b[39m(\n",
       "  \u001b[33mVector\u001b[39m(\n",
       "    \u001b[33mCitableNode\u001b[39m(\n",
       "      \u001b[33mCtsUrn\u001b[39m(\u001b[32m\"urn:cts:greekLit:tlg0096.tlg002.First1K-grc1:3.head\"\u001b[39m),\n",
       "      \u001b[32m\"\\u1f0c\\u03b3\\u03c1\\u03bf\\u03b9\\u03ba\\u03bf\\u03c2 \\u03ba\\u03b1\\u1f76 \\u1f48\\u03bd\\u03ac\\u03c1\\u03b9\\u03b1\"\u001b[39m\n",
       "    ),\n",
       "    \u001b[33mCitableNode\u001b[39m(\n",
       "      \u001b[33mCtsUrn\u001b[39m(\u001b[32m\"urn:cts:greekLit:tlg0096.tlg002.First1K-grc1:3.text\"\u001b[39m),\n",
       "      \u001b[32m\"\\u0393\\u03b5\\u03c9\\u03c1\\u03b3\\u03cc\\u03c2 \\u03c4\\u03b9\\u03c2 \\u1f10\\u03c0\\u02bc \\u1f00\\u03b3\\u03c1\\u03bf\\u1fe6 \\u03b3\\u03b5\\u03b3\\u03b7\\u03c1\\u03b1\\u03ba\\u1f7c\\u03c2, \\u1f10\\u03c0\\u03b5\\u1f76 \\u03bc\\u03b7\\u03b4\\u03ad\\u03c0\\u03bf\\u03c4\\u03b5 \\u03b5\\u1f30\\u03c3\\u1fc6\\u03bb\\u03b8\\u03b5\\u03bd \\u03b5\\u1f30\\u03c2 \\u1f04\\u03c3\\u03c4\\u03c5, \\u03c0\\u03b1\\u03c1\\u03b5\\u03ba\\u03ac\\u03bb\\u03b5\\u03b9 \\u03c4\\u03bf\\u1f7a\\u03c2 \\u03bf\\u1f30\\u03ba\\u03b5\\u03af\\u03bf\\u03c5\\u03c2 \\u03c4\\u03bf\\u1fe6\\u03c4\\u03bf \\u03b8\\u03b5\\u03ac\\u03c3\\u03b1\\u03c3\\u03b8\\u03b1\\u03b9. \\u039f\\u1f31 \\u03b4\\u1f72 \\u03b6\\u03b5\\u03cd\\u03be\\u03b1\\u03bd\\u03c4\\u03b5\\u03c2 \\u1f40\\u03bd\\u03ac\\u03c1\\u03b9\\u03b1 \\u03ba\\u03b1\\u1f76 \\u1f10\\u03c0\\u1f76 \\u03c4\\u1fc6\\u03c2 \\u1f00\\u03c0\\u03ae\\u03bd\\u03b7\\u03c2 \\u03b1\\u1f50\\u03c4\\u1f78\\u03bd \\u1f00\\u03bd\\u03b1\\u03b2\\u03b9\\u03b2\\u03b1\\u03c3\\u03ac\\u03bc\\u03b5\\u03bd\\u03bf\\u03b9, \\u03bc\\u03cc\\u03bd\\u03bf\\u03bd \\u1f10\\u03ba\\u03ad\\u03bb\\u03b5\\u03c5\\u03c3\\u03b1\\u03bd \\u1f10\\u03bb\\u03b1\\u03cd\\u03bd\\u03b5\\u03b9\\u03bd. \\u1f49\\u03b4\\u03b5\\u03cd\\u03bf\\u03bd\\u03c4\\u03b9 \\u03b4\\u1f72 \\u03c7\\u03b5\\u03b9\\u03bc\\u1ff6\\u03bd\\u03bf\\u03c2 \\u03ba\\u03b1\\u1f76 \\u03b8\\u03c5\\u03ad\\u03bb\\u03bb\\u03b7\\u03c2 \\u03c4\\u1f78\\u03bd \\u1f00\\u03ad\\u03c1\\u03b1 \\u03ba\\u03b1\\u03c4\\u03b1\\u03bb\\u03b1\\u03b2\\u03cc\\u03bd\\u03c4\\u03c9\\u03bd \\u03ba\\u03b1\\u1f76 \\u03b6\\u03cc\\u03c6\\u03bf\\u03c5 \\u03b3\\u03b5\\u03bd\\u03bf\\u03bc\\u03ad\\u03bd\\u03bf\\u03c5, \\u03c4\\u1f70 \\u1f40\\u03bd\\u03ac\\u03c1\\u03b9\\u03b1 \\u03c4\\u1fc6\\u03c2 \\u1f41\\u03b4\\u03bf\\u1fe6 \\u03c0\\u03bb\\u03b1\\u03bd\\u03b7\\u03b8\\u03ad\\u03bd\\u03c4\\u03b1 \\u03b5\\u1f34\\u03c2 \\u03c4\\u03b9\\u03bd\\u03b1 \\u03ba\\u03c1\\u03b7\\u03bc\\u03bd\\u1f78\\u03bd \\u1f10\\u03be\\u03b5\\u03c4\\u03cc\\u03c0\\u03b9\\u03c3\\u03b1\\u03bd \\u03c4\\u1f78\\u03bd \\u03c0\\u03c1\\u03b5\\u03c3\\u03b2\\u03cd\\u03c4\\u03b7\\u03bd. \\u1f49 \\u03b4\\u1f72 \\u03bc\\u03ad\\u03bb\\u03bb\\u03c9\\u03bd \\u1f24\\u03b4\\u03b7 \\u03ba\\u03b1\\u03c4\\u03b1\\u03ba\\u03c1\\u03b7\\u03bc\\u03bd\\u03af\\u03b6\\u03b5\\u03c3\\u03b8\\u03b1\\u03b9 ,,\\u1f66 \\u0396\\u03b5\\u1fe6,\\u201c \\u03b5\\u1f36\\u03c0\\u03b5 ,,\\u03c4\\u03af \\u03c0\\u03bf\\u03c4\\u03ad \\u03c3\\u03b5 \\u1f20\\u03b4\\u03af\\u03ba\\u03b7\\u03c3\\u03b1, \\u1f45\\u03c4\\u03b9 \\u03bf\\u1f55\\u03c4\\u03c9 \\u03c0\\u03b1\\u03c1\\u1f70 \\u03bb\\u03cc\\u03b3\\u03bf\\u03bd \\u1f00\\u03c0\\u03cc\\u03bb\\u03bb\\u03c5\\u03bc\\u03b1\\u03b9, \\u03ba\\u03b1\\u1f76 \\u03c4\\u03b1\\u1fe6\\u03c4\\u03b1 \\u03bf\\u1f54\\u03b8\\u02bc \\u1f51\\u03c6\\u02bc \\u1f35\\u03c0\\u03c0\\u03\u001b[39m..."
      ]
     },
     "execution_count": 73,
     "metadata": {},
     "output_type": "execute_result"
    }
   ],
   "source": [
    "val oneGreekFable: Corpus = corp ~~ oneGreekCitation\n",
    "\n",
    "println( s\"Retrieving CTS-URN: ${oneGreekCitation}\\n\")\n",
    "\n",
    "showMe(oneGreekFable)"
   ]
  },
  {
   "cell_type": "markdown",
   "metadata": {},
   "source": [
    "One fable, in Portuguese:"
   ]
  },
  {
   "cell_type": "code",
   "execution_count": 74,
   "metadata": {},
   "outputs": [
    {
     "data": {
      "text/plain": [
       "\u001b[36monePortCitation\u001b[39m: \u001b[32mCtsUrn\u001b[39m = \u001b[33mCtsUrn\u001b[39m(\u001b[32m\"urn:cts:greekLit:tlg0096.tlg002.mcdezotti:3\"\u001b[39m)"
      ]
     },
     "execution_count": 74,
     "metadata": {},
     "output_type": "execute_result"
    }
   ],
   "source": [
    "val onePortCitation = aesopUrn.addVersion(portVers).addPassage(\"3\")"
   ]
  },
  {
   "cell_type": "markdown",
   "metadata": {},
   "source": [
    "We use the ~~ method to retrieve a passage, based on a URN, from a Corpus."
   ]
  },
  {
   "cell_type": "code",
   "execution_count": 75,
   "metadata": {},
   "outputs": [
    {
     "name": "stdout",
     "output_type": "stream",
     "text": [
      "Retrieving CTS-URN: urn:cts:greekLit:tlg0096.tlg002.mcdezotti:3\n",
      "\n",
      "3.head\t\tO camponês e os burrinhos\n",
      "3.text\t\tUm camponês que chegou à velhice no campo, visto que nunca tinha ido à cidade, pedia com insistência aos familiares para vê-la. Então eles, após atrelarem burrinhos,  fizeram-no subir na carroça  e ordenaram que apenas tocasse adiante. Mas enquanto ele estava a caminho, uma tempestade e um vendaval apanharam de surpresa o tempo e ficou um breu. Os burrinhos perderam o rumo do caminho e desviaram o velho para um precipício. E ele, já prestes a despencar no precipício, disse: “Ó Zeus, o que alguma vez te fiz de errado para morrer assim de modo absurdo, e isso nem por obra de cavalos de raça, nem de boas mulas, mas de burrinhos da pior espécie!\" \n"
     ]
    },
    {
     "data": {
      "text/plain": [
       "\u001b[36monePortFable\u001b[39m: \u001b[32mCorpus\u001b[39m = \u001b[33mCorpus\u001b[39m(\n",
       "  \u001b[33mVector\u001b[39m(\n",
       "    \u001b[33mCitableNode\u001b[39m(\n",
       "      \u001b[33mCtsUrn\u001b[39m(\u001b[32m\"urn:cts:greekLit:tlg0096.tlg002.mcdezotti:3.head\"\u001b[39m),\n",
       "      \u001b[32m\"O campon\\u00eas e os burrinhos\"\u001b[39m\n",
       "    ),\n",
       "    \u001b[33mCitableNode\u001b[39m(\n",
       "      \u001b[33mCtsUrn\u001b[39m(\u001b[32m\"urn:cts:greekLit:tlg0096.tlg002.mcdezotti:3.text\"\u001b[39m),\n",
       "      \u001b[32m\"Um campon\\u00eas que chegou \\u00e0 velhice no campo, visto que nunca tinha ido \\u00e0 cidade, pedia com insist\\u00eancia aos familiares para v\\u00ea-la. Ent\\u00e3o eles, ap\\u00f3s atrelarem burrinhos,  fizeram-no subir na carro\\u00e7a  e ordenaram que apenas tocasse adiante. Mas enquanto ele estava a caminho, uma tempestade e um vendaval apanharam de surpresa o tempo e ficou um breu. Os burrinhos perderam o rumo do caminho e desviaram o velho para um precip\\u00edcio. E ele, j\\u00e1 prestes a despencar no precip\\u00edcio, disse: \\u201c\\u00d3 Zeus, o que alguma vez te fiz de errado para morrer assim de modo absurdo, e isso nem por obra de cavalos de ra\\u00e7a, nem de boas mulas, mas de burrinhos da pior esp\\u00e9cie!\\\" \"\u001b[39m\n",
       "    )\n",
       "  )\n",
       ")"
      ]
     },
     "execution_count": 75,
     "metadata": {},
     "output_type": "execute_result"
    }
   ],
   "source": [
    "val onePortFable: Corpus = corp ~~ onePortCitation\n",
    "\n",
    "println( s\"Retrieving CTS-URN: ${onePortCitation}\\n\")\n",
    "\n",
    "showMe(onePortFable)"
   ]
  },
  {
   "cell_type": "markdown",
   "metadata": {},
   "source": [
    "Two fables, in Greek:"
   ]
  },
  {
   "cell_type": "code",
   "execution_count": 76,
   "metadata": {},
   "outputs": [
    {
     "data": {
      "text/plain": [
       "\u001b[36mtwoGreekCitations\u001b[39m: \u001b[32mCtsUrn\u001b[39m = \u001b[33mCtsUrn\u001b[39m(\n",
       "  \u001b[32m\"urn:cts:greekLit:tlg0096.tlg002.First1K-grc1:4-5\"\u001b[39m\n",
       ")"
      ]
     },
     "execution_count": 76,
     "metadata": {},
     "output_type": "execute_result"
    }
   ],
   "source": [
    "val twoGreekCitations = aesopUrn.addVersion(greekVers).addPassage(\"4-5\")"
   ]
  },
  {
   "cell_type": "markdown",
   "metadata": {},
   "source": [
    "We use the `~~` method to retrieve a passage, based on a URN, from a Corpus."
   ]
  },
  {
   "cell_type": "code",
   "execution_count": 77,
   "metadata": {},
   "outputs": [
    {
     "name": "stdout",
     "output_type": "stream",
     "text": [
      "Retrieving CTS-URN: urn:cts:greekLit:tlg0096.tlg002.First1K-grc1:4-5\n",
      "\n",
      "4.head\t\tἈετός\n",
      "4.text\t\tὙπεράνωθεν πέτρας ἀετὸς ἐκαθέζετο, λαγωὸν θηρεῦσαι ζητῶν. Τοῦτον δέ τις ἔβαλε τοξεύσας· καὶ τὸ μὲν βέλος ἐντὸς αὐτοῦ εἰσῆλθεν, ἡ δὲ γλυφὶς σὺν τοῖς πτεροῖς πρὸ τῶν ὀφθαλμῶν εἱστήκει. Ὁ δὲ ἰδὼν ἔφη· „καὶ τοῦτό μοι ἑτέρα λύπη, τὸ τοῖς ἰδίοις πτεροῖς ἐναποθνήσκειν.“  Ὁ μῦθος δηλοῖ, ὅτι δεινόν ἐστιν, ὅταν τις ἐκ τῶν ἰδίων κινδυνεύσῃ.\n",
      "5.head\t\tἈετὸς καὶ Ἀλώπηξ\n",
      "5.text\t\tἈετὸς καὶ ἀλώπηξ φιλεῖν ἀλλήλους συνθέμενοι, πλησίον ἑαυτῶν οἰκεῖν διέγνωσαν, βεβαίωσιν φιλίας τὴν συνήθειαν ποιούμενοι. Καὶ δὴ ὁ μὲν ἀναβὰς ἐπί τι περίμηκες δένδρον ἐνεοττοποιήσατο· ἡ δὲ εἰσελθοῦσα εἰς τὸν ὑποκείμενον θάμνον ἔτεκεν. Ἐξελθούσης δέ ποτε αὐτῆς ἐπὶ νομὴν, ὁ ἀετὸς ἀπορῶν τροφῆς, καταπτὰς εἰς τὸν θάμνον καὶ τὰ γεννήματα ἀναρπάσας, μετὰ τῶν αὑτοῦ νεοττῶν κατεθοινήσατο. Ἡ δʼἀλώπηξ ἐπανελθοῦσα ὡς ἔγνω τὸ πραχθὲν, οὐ μᾶλλον ἐπὶ τῷ τῶν νεοττῶν θανάτῳ ἐλυπήθη, ὅσον ἐπὶ τῷ τῆς ἀμύνης ἀπόρῳ· χερσαία γὰρ οὖσα πτηνὸν διώκειν ἠδυνάτει. Διὸ πόῤῥωθεν στᾶσα, ὃ μόνον τοῖς ἀσθενέσι καὶ ἀδυνάτοις ὑπολείπεται, τῷ ἐχθρῷ κατηρᾶτο. Συνέβη δʼ αὐτῷ τῆς εἰς τὴν φιλίαν ἀσεβείας οὐκ εἰς μακρὰν δίκην ὑπελθεῖν· θυόντων γάρ τινων αἶγα ἐπʼ ἀγροῦ, καταπτὰς ἀπὸ τοῦ βωμοῦ σπλάγχνον ἔμπυρον ἀνήνεγκεν· οὗ κομισθέντος εἰς τὴν καλιὰν, σφοδρὸς ἐμπεσὼν ἄνεμος ἐκ λεπτοῦ καὶ παλαιοῦ κάρφους λαμπρὰν φλόγα ἀνῆψε· καὶ διὰ τοῦτο καταφλεχθέντες οἱ νεοττοὶ (καὶ γὰρ ἦσαν ἔτι ἀπτῆνες οἱ ἀετιδεῖς) ἐπὶ τὴν γῆν κατέπεσον. Καὶ ἡ ἀλώπηξ προσδραμοῦσα ἐν ὄψει τοῦ ἀετοῦ πάντας αὐτοὺς κατέφαγεν. Ὁ λόγος δηλοῖ, ὅτι οἱ φιλίαν παρασπονδοῦντες, κἄν τὴν τῶν ἠδικημένων ἐκφύγωσι κόλασιν διʼ ἀσθένειαν, ἀλλ’ οὖν γε τὴν ἐκ θεοῦ τιμωρίαν διακρούονται οὐδʼ ὅλως.\n"
     ]
    },
    {
     "data": {
      "text/plain": [
       "\u001b[36mtwoGreekFables\u001b[39m: \u001b[32mCorpus\u001b[39m = \u001b[33mCorpus\u001b[39m(\n",
       "  \u001b[33mVector\u001b[39m(\n",
       "    \u001b[33mCitableNode\u001b[39m(\n",
       "      \u001b[33mCtsUrn\u001b[39m(\u001b[32m\"urn:cts:greekLit:tlg0096.tlg002.First1K-grc1:4.head\"\u001b[39m),\n",
       "      \u001b[32m\"\\u1f08\\u03b5\\u03c4\\u03cc\\u03c2\"\u001b[39m\n",
       "    ),\n",
       "    \u001b[33mCitableNode\u001b[39m(\n",
       "      \u001b[33mCtsUrn\u001b[39m(\u001b[32m\"urn:cts:greekLit:tlg0096.tlg002.First1K-grc1:4.text\"\u001b[39m),\n",
       "      \u001b[32m\"\\u1f59\\u03c0\\u03b5\\u03c1\\u03ac\\u03bd\\u03c9\\u03b8\\u03b5\\u03bd \\u03c0\\u03ad\\u03c4\\u03c1\\u03b1\\u03c2 \\u1f00\\u03b5\\u03c4\\u1f78\\u03c2 \\u1f10\\u03ba\\u03b1\\u03b8\\u03ad\\u03b6\\u03b5\\u03c4\\u03bf, \\u03bb\\u03b1\\u03b3\\u03c9\\u1f78\\u03bd \\u03b8\\u03b7\\u03c1\\u03b5\\u1fe6\\u03c3\\u03b1\\u03b9 \\u03b6\\u03b7\\u03c4\\u1ff6\\u03bd. \\u03a4\\u03bf\\u1fe6\\u03c4\\u03bf\\u03bd \\u03b4\\u03ad \\u03c4\\u03b9\\u03c2 \\u1f14\\u03b2\\u03b1\\u03bb\\u03b5 \\u03c4\\u03bf\\u03be\\u03b5\\u03cd\\u03c3\\u03b1\\u03c2\\u00b7 \\u03ba\\u03b1\\u1f76 \\u03c4\\u1f78 \\u03bc\\u1f72\\u03bd \\u03b2\\u03ad\\u03bb\\u03bf\\u03c2 \\u1f10\\u03bd\\u03c4\\u1f78\\u03c2 \\u03b1\\u1f50\\u03c4\\u03bf\\u1fe6 \\u03b5\\u1f30\\u03c3\\u1fc6\\u03bb\\u03b8\\u03b5\\u03bd, \\u1f21 \\u03b4\\u1f72 \\u03b3\\u03bb\\u03c5\\u03c6\\u1f76\\u03c2 \\u03c3\\u1f7a\\u03bd \\u03c4\\u03bf\\u1fd6\\u03c2 \\u03c0\\u03c4\\u03b5\\u03c1\\u03bf\\u1fd6\\u03c2 \\u03c0\\u03c1\\u1f78 \\u03c4\\u1ff6\\u03bd \\u1f40\\u03c6\\u03b8\\u03b1\\u03bb\\u03bc\\u1ff6\\u03bd \\u03b5\\u1f31\\u03c3\\u03c4\\u03ae\\u03ba\\u03b5\\u03b9. \\u1f49 \\u03b4\\u1f72 \\u1f30\\u03b4\\u1f7c\\u03bd \\u1f14\\u03c6\\u03b7\\u00b7 \\u201e\\u03ba\\u03b1\\u1f76 \\u03c4\\u03bf\\u1fe6\\u03c4\\u03cc \\u03bc\\u03bf\\u03b9 \\u1f11\\u03c4\\u03ad\\u03c1\\u03b1 \\u03bb\\u03cd\\u03c0\\u03b7, \\u03c4\\u1f78 \\u03c4\\u03bf\\u1fd6\\u03c2 \\u1f30\\u03b4\\u03af\\u03bf\\u03b9\\u03c2 \\u03c0\\u03c4\\u03b5\\u03c1\\u03bf\\u1fd6\\u03c2 \\u1f10\\u03bd\\u03b1\\u03c0\\u03bf\\u03b8\\u03bd\\u03ae\\u03c3\\u03ba\\u03b5\\u03b9\\u03bd.\\u201c  \\u1f49 \\u03bc\\u1fe6\\u03b8\\u03bf\\u03c2 \\u03b4\\u03b7\\u03bb\\u03bf\\u1fd6, \\u1f45\\u03c4\\u03b9 \\u03b4\\u03b5\\u03b9\\u03bd\\u03cc\\u03bd \\u1f10\\u03c3\\u03c4\\u03b9\\u03bd, \\u1f45\\u03c4\\u03b1\\u03bd \\u03c4\\u03b9\\u03c2 \\u1f10\\u03ba \\u03c4\\u1ff6\\u03bd \\u1f30\\u03b4\\u03af\\u03c9\\u03bd \\u03ba\\u03b9\\u03bd\\u03b4\\u03c5\\u03bd\\u03b5\\u03cd\\u03c3\\u1fc3.\"\u001b[39m\n",
       "    ),\n",
       "    \u001b[33mCitableNode\u001b[39m(\n",
       "      \u001b[33mCtsUrn\u001b[39m(\u001b[32m\"urn:cts:greekLit:tlg0096.tlg002.First1K-grc1:5.head\"\u001b[39m),\n",
       "      \u001b[32m\"\\u1f08\\u03b5\\u03c4\\u1f78\\u03c2 \\u03ba\\u03b1\\u1f76 \\u1f08\\u03bb\\u03ce\\u03c0\\u03b7\\u03be\"\u001b[39m\n",
       "    ),\n",
       "    \u001b[33mCitableNode\u001b[39m(\n",
       "      \u001b[33mCtsUrn\u001b[39m(\u001b[32m\"urn:cts:greekLit:tlg0096.tlg002.First1K-grc1:5.text\"\u001b[39m),\n",
       "      \u001b[32m\"\\u1f08\\u03b5\\u03c4\\u1f78\\u03c2 \\u03ba\\u03b1\\u1f76 \\u1f00\\u03bb\\u03ce\\u03c0\\u03b7\\u03be \\u03c6\\u03b9\\u03bb\\u03b5\\u1fd6\\u03bd \\u1f00\\u03bb\\u03bb\\u03ae\\u03b\u001b[39m..."
      ]
     },
     "execution_count": 77,
     "metadata": {},
     "output_type": "execute_result"
    }
   ],
   "source": [
    "val twoGreekFables: Corpus = corp ~~ twoGreekCitations\n",
    "\n",
    "println( s\"Retrieving CTS-URN: ${twoGreekCitations}\\n\")\n",
    "\n",
    "showMe(twoGreekFables)"
   ]
  },
  {
   "cell_type": "markdown",
   "metadata": {},
   "source": [
    "One fable, in Portuguese:"
   ]
  },
  {
   "cell_type": "code",
   "execution_count": 78,
   "metadata": {},
   "outputs": [
    {
     "data": {
      "text/plain": [
       "\u001b[36mtwoPortCitations\u001b[39m: \u001b[32mCtsUrn\u001b[39m = \u001b[33mCtsUrn\u001b[39m(\n",
       "  \u001b[32m\"urn:cts:greekLit:tlg0096.tlg002.mcdezotti:4-5\"\u001b[39m\n",
       ")"
      ]
     },
     "execution_count": 78,
     "metadata": {},
     "output_type": "execute_result"
    }
   ],
   "source": [
    "val twoPortCitations = aesopUrn.addVersion(portVers).addPassage(\"4-5\")"
   ]
  },
  {
   "cell_type": "markdown",
   "metadata": {},
   "source": [
    "We use the ~~ method to retrieve a passage, based on a URN, from a Corpus."
   ]
  },
  {
   "cell_type": "code",
   "execution_count": 79,
   "metadata": {},
   "outputs": [
    {
     "name": "stdout",
     "output_type": "stream",
     "text": [
      "Retrieving CTS-URN: urn:cts:greekLit:tlg0096.tlg002.mcdezotti:4-5\n",
      "\n",
      "4.head\t\tA águia\n",
      "4.text\t\tUma águia pousou bem no alto de um rochedo, buscando caçar uma lebre. Então alguém desferiu o arco e atingiu-a. E a flecha penetrou nela, mas o chanfro com as penas estancou diante de seus olhos. Ao vê-lo, ela disse: “E isso para mim é outro desgosto: morrer em meio às próprias penas.” A fábula mostra que é terrível quando alguém corre perigo advindo de seus próprios recursos.\n",
      "5.head\t\tA águia e a raposa\n",
      "5.text\t\tUma  águia e uma raposa, após pactuarem amizade mútua,  decidiram morar perto uma da outra, fazendo do convívio garantia de amizade. E então uma subiu numa árvore bem alta e fez o ninho, enquanto a outra penetrou na moita ao pé da árvore e deu cria. Tendo a raposa certa vez saído para caçar, a águia,  carecendo de alimento, desceu voando à moita, apanhou as crias da raposa e as devorou em companhia dos seus filhotes. E a raposa, ao retornar, quando se deu conta do fato, afligiu-se não tanto pela  morte dos filhotes quanto pela dificuldade da desforra; pois, sendo ela quadrúpede, era incapaz de perseguir um alado. Por isso, postada ao longe, pôs-se a amaldiçoar o inimigo, a única coisa que resta aos fracos e impotentes. Aconteceu, porém, que a águia, devido ao ato ímpio contra a amizade, não se furtou a uma grande condenação. Estando algumas pessoas no campo imolando uma cabra, ela desceu voando e carregou do altar uma víscera em brasa, que foi transportada para o ninho. Um vento forte bateu e, de uma palhinha fina e seca, acendeu uma chama faiscante. E por causa disso os filhotes se queimaram e caíram ao chão (é que as aguiazinhas ainda estavam sem penas). E a raposa avançou correndo e, na cara da águia, comeu todos eles. A fábula mostra que os que violam um pacto de amizade, ainda que escapem do castigo dos injustiçados devido à fraqueza deles, com certeza da punição divina de modo algum se livram.\n"
     ]
    },
    {
     "data": {
      "text/plain": [
       "\u001b[36mtwoPortFables\u001b[39m: \u001b[32mCorpus\u001b[39m = \u001b[33mCorpus\u001b[39m(\n",
       "  \u001b[33mVector\u001b[39m(\n",
       "    \u001b[33mCitableNode\u001b[39m(\n",
       "      \u001b[33mCtsUrn\u001b[39m(\u001b[32m\"urn:cts:greekLit:tlg0096.tlg002.mcdezotti:4.head\"\u001b[39m),\n",
       "      \u001b[32m\"A \\u00e1guia\"\u001b[39m\n",
       "    ),\n",
       "    \u001b[33mCitableNode\u001b[39m(\n",
       "      \u001b[33mCtsUrn\u001b[39m(\u001b[32m\"urn:cts:greekLit:tlg0096.tlg002.mcdezotti:4.text\"\u001b[39m),\n",
       "      \u001b[32m\"Uma \\u00e1guia pousou bem no alto de um rochedo, buscando ca\\u00e7ar uma lebre. Ent\\u00e3o algu\\u00e9m desferiu o arco e atingiu-a. E a flecha penetrou nela, mas o chanfro com as penas estancou diante de seus olhos. Ao v\\u00ea-lo, ela disse: \\u201cE isso para mim \\u00e9 outro desgosto: morrer em meio \\u00e0s pr\\u00f3prias penas.\\u201d A f\\u00e1bula mostra que \\u00e9 terr\\u00edvel quando algu\\u00e9m corre perigo advindo de seus pr\\u00f3prios recursos.\"\u001b[39m\n",
       "    ),\n",
       "    \u001b[33mCitableNode\u001b[39m(\n",
       "      \u001b[33mCtsUrn\u001b[39m(\u001b[32m\"urn:cts:greekLit:tlg0096.tlg002.mcdezotti:5.head\"\u001b[39m),\n",
       "      \u001b[32m\"A \\u00e1guia e a raposa\"\u001b[39m\n",
       "    ),\n",
       "    \u001b[33mCitableNode\u001b[39m(\n",
       "      \u001b[33mCtsUrn\u001b[39m(\u001b[32m\"urn:cts:greekLit:tlg0096.tlg002.mcdezotti:5.text\"\u001b[39m),\n",
       "      \u001b[32m\"Uma  \\u00e1guia e uma raposa, ap\\u00f3s pactuarem amizade m\\u00fatua,  decidiram morar perto uma da outra, fazendo do conv\\u00edvio garantia de amizade. E ent\\u00e3o uma subiu numa \\u00e1rvore bem alta e fez o ninho, enquanto a outra penetrou na moita ao p\\u00e9 da \\u00e1rvore e deu cria. Tendo a raposa certa vez sa\\u00eddo para ca\\u00e7ar, a \\u00e1guia,  carecendo de alimento, desceu voando \\u00e0 moita, apanhou as crias da raposa e as devorou em companhia dos seus filhotes. E a raposa, ao retornar, quando se deu conta do fato, afligiu-se n\\u00e3o tanto pela  morte dos filhotes quanto pela dificuldade da desforra; pois, sendo ela quadr\\u00fapede, era incapaz de perseguir um alado. Por isso, postada ao longe, p\\u00f4s-se a amaldi\\u00e7oar o inimigo, a \\u00fanica coisa que resta aos fracos e impotentes. Aconteceu, por\\u00e9m, que a \\u00e1guia, devido ao ato \\u00edmpio contra a amizade, n\\u00e3o se furtou a uma grande condena\\u00e7\\u00e3o. Estando algumas pessoas no campo imolando uma cabra, ela desceu voando e carregou do altar uma v\\u00edscera em brasa, que foi transportada para o ninho. Um vento forte bateu e, de uma palhinha fina e seca, acendeu uma chama faiscante. E por causa disso os filhotes se queimaram e ca\\u00edram ao ch\\u00e3o (\\u00e9 que as aguiazinhas ainda estavam sem penas). E a raposa avan\\u00e7ou correndo e, na cara da \\u00e1guia, comeu todos eles. A f\\u00e1bula mostra que os que violam um pact\u001b[39m..."
      ]
     },
     "execution_count": 79,
     "metadata": {},
     "output_type": "execute_result"
    }
   ],
   "source": [
    "val twoPortFables: Corpus = corp ~~ twoPortCitations\n",
    "\n",
    "println( s\"Retrieving CTS-URN: ${twoPortCitations}\\n\")\n",
    "\n",
    "showMe(twoPortFables)"
   ]
  },
  {
   "cell_type": "markdown",
   "metadata": {},
   "source": [
    "#### Retrieve Parts of Fables"
   ]
  },
  {
   "cell_type": "markdown",
   "metadata": {},
   "source": [
    "The above retrieve by canonical citation, that is, by Fable. The library we define separates the heading from the text of a fable, for more precise identification and retrieval, *if so desired*."
   ]
  },
  {
   "cell_type": "code",
   "execution_count": 80,
   "metadata": {},
   "outputs": [
    {
     "name": "stdout",
     "output_type": "stream",
     "text": [
      "Retrieving CTS-URN: urn:cts:greekLit:tlg0096.tlg002.First1K-grc1:5.head\n",
      "\n",
      "5.head\t\tἈετὸς καὶ Ἀλώπηξ\n"
     ]
    },
    {
     "data": {
      "text/plain": [
       "\u001b[36mnewUrn\u001b[39m: \u001b[32mCtsUrn\u001b[39m = \u001b[33mCtsUrn\u001b[39m(\u001b[32m\"urn:cts:greekLit:tlg0096.tlg002.First1K-grc1:5.head\"\u001b[39m)\n",
       "\u001b[36mfableFiveGreekHead\u001b[39m: \u001b[32mCorpus\u001b[39m = \u001b[33mCorpus\u001b[39m(\n",
       "  \u001b[33mVector\u001b[39m(\n",
       "    \u001b[33mCitableNode\u001b[39m(\n",
       "      \u001b[33mCtsUrn\u001b[39m(\u001b[32m\"urn:cts:greekLit:tlg0096.tlg002.First1K-grc1:5.head\"\u001b[39m),\n",
       "      \u001b[32m\"\\u1f08\\u03b5\\u03c4\\u1f78\\u03c2 \\u03ba\\u03b1\\u1f76 \\u1f08\\u03bb\\u03ce\\u03c0\\u03b7\\u03be\"\u001b[39m\n",
       "    )\n",
       "  )\n",
       ")"
      ]
     },
     "execution_count": 80,
     "metadata": {},
     "output_type": "execute_result"
    }
   ],
   "source": [
    "val newUrn = aesopUrn.addVersion(greekVers).addPassage(\"5.head\")\n",
    "\n",
    "val fableFiveGreekHead: Corpus = {\n",
    "    corp ~~ newUrn\n",
    "}\n",
    "\n",
    "println( s\"Retrieving CTS-URN: ${newUrn}\\n\")\n",
    "\n",
    "showMe( fableFiveGreekHead )"
   ]
  },
  {
   "cell_type": "code",
   "execution_count": 81,
   "metadata": {},
   "outputs": [
    {
     "name": "stdout",
     "output_type": "stream",
     "text": [
      "Retrieving CTS-URN: urn:cts:greekLit:tlg0096.tlg002.First1K-grc1:5.head\n",
      "\n",
      "\n",
      "-----\n",
      "urn:cts:greekLit:tlg0096.tlg002.First1K-grc1:5.head\n",
      "----\n",
      "\n"
     ]
    },
    {
     "data": {
      "text/plain": [
       "\u001b[36mnewUrn\u001b[39m: \u001b[32mCtsUrn\u001b[39m = \u001b[33mCtsUrn\u001b[39m(\u001b[32m\"urn:cts:greekLit:tlg0096.tlg002.First1K-grc1:5.head\"\u001b[39m)\n",
       "\u001b[36mfableFiveGreekText\u001b[39m: \u001b[32mCorpus\u001b[39m = \u001b[33mCorpus\u001b[39m(\n",
       "  \u001b[33mVector\u001b[39m(\n",
       "    \u001b[33mCitableNode\u001b[39m(\n",
       "      \u001b[33mCtsUrn\u001b[39m(\u001b[32m\"urn:cts:greekLit:tlg0096.tlg002.First1K-grc1:5.head\"\u001b[39m),\n",
       "      \u001b[32m\"\\u1f08\\u03b5\\u03c4\\u1f78\\u03c2 \\u03ba\\u03b1\\u1f76 \\u1f08\\u03bb\\u03ce\\u03c0\\u03b7\\u03be\"\u001b[39m\n",
       "    )\n",
       "  )\n",
       ")"
      ]
     },
     "execution_count": 81,
     "metadata": {},
     "output_type": "execute_result"
    }
   ],
   "source": [
    "val newUrn = aesopUrn.addVersion(greekVers).addPassage(\"5.head\")\n",
    "\n",
    "val fableFiveGreekText: Corpus = corp ~~ newUrn\n",
    "\n",
    "println( s\"Retrieving CTS-URN: ${newUrn}\\n\")\n",
    "\n",
    "showMe( newUrn )"
   ]
  },
  {
   "cell_type": "markdown",
   "metadata": {},
   "source": [
    "#### Retrieve Multitext Fables"
   ]
  },
  {
   "cell_type": "markdown",
   "metadata": {},
   "source": [
    "Because the [CITE Architecture](http://cite-architecture.org) has always been developed in the context of the [Homer Multitext](http://www.homermultitext.org), its *raison d’être* has been **identification and retrieval** of passages of texts, by **canonical citation**, across versions. We can capitalize on this here:"
   ]
  },
  {
   "cell_type": "code",
   "execution_count": 82,
   "metadata": {},
   "outputs": [
    {
     "name": "stdout",
     "output_type": "stream",
     "text": [
      "Retrieving CTS-URN: urn:cts:greekLit:tlg0096.tlg002:5.head\n",
      "\n",
      "5.head\t\tἈετὸς καὶ Ἀλώπηξ\n",
      "5.head\t\tA águia e a raposa\n"
     ]
    },
    {
     "data": {
      "text/plain": [
       "\u001b[36mnewUrn\u001b[39m: \u001b[32mCtsUrn\u001b[39m = \u001b[33mCtsUrn\u001b[39m(\u001b[32m\"urn:cts:greekLit:tlg0096.tlg002:5.head\"\u001b[39m)\n",
       "\u001b[36mfableFiveHeadAll\u001b[39m: \u001b[32mCorpus\u001b[39m = \u001b[33mCorpus\u001b[39m(\n",
       "  \u001b[33mVector\u001b[39m(\n",
       "    \u001b[33mCitableNode\u001b[39m(\n",
       "      \u001b[33mCtsUrn\u001b[39m(\u001b[32m\"urn:cts:greekLit:tlg0096.tlg002.First1K-grc1:5.head\"\u001b[39m),\n",
       "      \u001b[32m\"\\u1f08\\u03b5\\u03c4\\u1f78\\u03c2 \\u03ba\\u03b1\\u1f76 \\u1f08\\u03bb\\u03ce\\u03c0\\u03b7\\u03be\"\u001b[39m\n",
       "    ),\n",
       "    \u001b[33mCitableNode\u001b[39m(\n",
       "      \u001b[33mCtsUrn\u001b[39m(\u001b[32m\"urn:cts:greekLit:tlg0096.tlg002.mcdezotti:5.head\"\u001b[39m),\n",
       "      \u001b[32m\"A \\u00e1guia e a raposa\"\u001b[39m\n",
       "    )\n",
       "  )\n",
       ")"
      ]
     },
     "execution_count": 82,
     "metadata": {},
     "output_type": "execute_result"
    }
   ],
   "source": [
    "val newUrn = aesopUrn.addPassage(\"5.head\")\n",
    "\n",
    "val fableFiveHeadAll: Corpus = corp ~~ newUrn\n",
    "\n",
    "println( s\"Retrieving CTS-URN: ${newUrn}\\n\")\n",
    "\n",
    "showMe(fableFiveHeadAll)"
   ]
  },
  {
   "cell_type": "code",
   "execution_count": 83,
   "metadata": {},
   "outputs": [
    {
     "name": "stdout",
     "output_type": "stream",
     "text": [
      "Retrieving CTS-URN: urn:cts:greekLit:tlg0096.tlg002:5\n",
      "\n",
      "5.head\t\tἈετὸς καὶ Ἀλώπηξ\n",
      "5.text\t\tἈετὸς καὶ ἀλώπηξ φιλεῖν ἀλλήλους συνθέμενοι, πλησίον ἑαυτῶν οἰκεῖν διέγνωσαν, βεβαίωσιν φιλίας τὴν συνήθειαν ποιούμενοι. Καὶ δὴ ὁ μὲν ἀναβὰς ἐπί τι περίμηκες δένδρον ἐνεοττοποιήσατο· ἡ δὲ εἰσελθοῦσα εἰς τὸν ὑποκείμενον θάμνον ἔτεκεν. Ἐξελθούσης δέ ποτε αὐτῆς ἐπὶ νομὴν, ὁ ἀετὸς ἀπορῶν τροφῆς, καταπτὰς εἰς τὸν θάμνον καὶ τὰ γεννήματα ἀναρπάσας, μετὰ τῶν αὑτοῦ νεοττῶν κατεθοινήσατο. Ἡ δʼἀλώπηξ ἐπανελθοῦσα ὡς ἔγνω τὸ πραχθὲν, οὐ μᾶλλον ἐπὶ τῷ τῶν νεοττῶν θανάτῳ ἐλυπήθη, ὅσον ἐπὶ τῷ τῆς ἀμύνης ἀπόρῳ· χερσαία γὰρ οὖσα πτηνὸν διώκειν ἠδυνάτει. Διὸ πόῤῥωθεν στᾶσα, ὃ μόνον τοῖς ἀσθενέσι καὶ ἀδυνάτοις ὑπολείπεται, τῷ ἐχθρῷ κατηρᾶτο. Συνέβη δʼ αὐτῷ τῆς εἰς τὴν φιλίαν ἀσεβείας οὐκ εἰς μακρὰν δίκην ὑπελθεῖν· θυόντων γάρ τινων αἶγα ἐπʼ ἀγροῦ, καταπτὰς ἀπὸ τοῦ βωμοῦ σπλάγχνον ἔμπυρον ἀνήνεγκεν· οὗ κομισθέντος εἰς τὴν καλιὰν, σφοδρὸς ἐμπεσὼν ἄνεμος ἐκ λεπτοῦ καὶ παλαιοῦ κάρφους λαμπρὰν φλόγα ἀνῆψε· καὶ διὰ τοῦτο καταφλεχθέντες οἱ νεοττοὶ (καὶ γὰρ ἦσαν ἔτι ἀπτῆνες οἱ ἀετιδεῖς) ἐπὶ τὴν γῆν κατέπεσον. Καὶ ἡ ἀλώπηξ προσδραμοῦσα ἐν ὄψει τοῦ ἀετοῦ πάντας αὐτοὺς κατέφαγεν. Ὁ λόγος δηλοῖ, ὅτι οἱ φιλίαν παρασπονδοῦντες, κἄν τὴν τῶν ἠδικημένων ἐκφύγωσι κόλασιν διʼ ἀσθένειαν, ἀλλ’ οὖν γε τὴν ἐκ θεοῦ τιμωρίαν διακρούονται οὐδʼ ὅλως.\n",
      "5.head\t\tA águia e a raposa\n",
      "5.text\t\tUma  águia e uma raposa, após pactuarem amizade mútua,  decidiram morar perto uma da outra, fazendo do convívio garantia de amizade. E então uma subiu numa árvore bem alta e fez o ninho, enquanto a outra penetrou na moita ao pé da árvore e deu cria. Tendo a raposa certa vez saído para caçar, a águia,  carecendo de alimento, desceu voando à moita, apanhou as crias da raposa e as devorou em companhia dos seus filhotes. E a raposa, ao retornar, quando se deu conta do fato, afligiu-se não tanto pela  morte dos filhotes quanto pela dificuldade da desforra; pois, sendo ela quadrúpede, era incapaz de perseguir um alado. Por isso, postada ao longe, pôs-se a amaldiçoar o inimigo, a única coisa que resta aos fracos e impotentes. Aconteceu, porém, que a águia, devido ao ato ímpio contra a amizade, não se furtou a uma grande condenação. Estando algumas pessoas no campo imolando uma cabra, ela desceu voando e carregou do altar uma víscera em brasa, que foi transportada para o ninho. Um vento forte bateu e, de uma palhinha fina e seca, acendeu uma chama faiscante. E por causa disso os filhotes se queimaram e caíram ao chão (é que as aguiazinhas ainda estavam sem penas). E a raposa avançou correndo e, na cara da águia, comeu todos eles. A fábula mostra que os que violam um pacto de amizade, ainda que escapem do castigo dos injustiçados devido à fraqueza deles, com certeza da punição divina de modo algum se livram.\n"
     ]
    },
    {
     "data": {
      "text/plain": [
       "\u001b[36mnewUrn\u001b[39m: \u001b[32mCtsUrn\u001b[39m = \u001b[33mCtsUrn\u001b[39m(\u001b[32m\"urn:cts:greekLit:tlg0096.tlg002:5\"\u001b[39m)\n",
       "\u001b[36mfableFiveAll\u001b[39m: \u001b[32mCorpus\u001b[39m = \u001b[33mCorpus\u001b[39m(\n",
       "  \u001b[33mVector\u001b[39m(\n",
       "    \u001b[33mCitableNode\u001b[39m(\n",
       "      \u001b[33mCtsUrn\u001b[39m(\u001b[32m\"urn:cts:greekLit:tlg0096.tlg002.First1K-grc1:5.head\"\u001b[39m),\n",
       "      \u001b[32m\"\\u1f08\\u03b5\\u03c4\\u1f78\\u03c2 \\u03ba\\u03b1\\u1f76 \\u1f08\\u03bb\\u03ce\\u03c0\\u03b7\\u03be\"\u001b[39m\n",
       "    ),\n",
       "    \u001b[33mCitableNode\u001b[39m(\n",
       "      \u001b[33mCtsUrn\u001b[39m(\u001b[32m\"urn:cts:greekLit:tlg0096.tlg002.First1K-grc1:5.text\"\u001b[39m),\n",
       "      \u001b[32m\"\\u1f08\\u03b5\\u03c4\\u1f78\\u03c2 \\u03ba\\u03b1\\u1f76 \\u1f00\\u03bb\\u03ce\\u03c0\\u03b7\\u03be \\u03c6\\u03b9\\u03bb\\u03b5\\u1fd6\\u03bd \\u1f00\\u03bb\\u03bb\\u03ae\\u03bb\\u03bf\\u03c5\\u03c2 \\u03c3\\u03c5\\u03bd\\u03b8\\u03ad\\u03bc\\u03b5\\u03bd\\u03bf\\u03b9, \\u03c0\\u03bb\\u03b7\\u03c3\\u03af\\u03bf\\u03bd \\u1f11\\u03b1\\u03c5\\u03c4\\u1ff6\\u03bd \\u03bf\\u1f30\\u03ba\\u03b5\\u1fd6\\u03bd \\u03b4\\u03b9\\u03ad\\u03b3\\u03bd\\u03c9\\u03c3\\u03b1\\u03bd, \\u03b2\\u03b5\\u03b2\\u03b1\\u03af\\u03c9\\u03c3\\u03b9\\u03bd \\u03c6\\u03b9\\u03bb\\u03af\\u03b1\\u03c2 \\u03c4\\u1f74\\u03bd \\u03c3\\u03c5\\u03bd\\u03ae\\u03b8\\u03b5\\u03b9\\u03b1\\u03bd \\u03c0\\u03bf\\u03b9\\u03bf\\u03cd\\u03bc\\u03b5\\u03bd\\u03bf\\u03b9. \\u039a\\u03b1\\u1f76 \\u03b4\\u1f74 \\u1f41 \\u03bc\\u1f72\\u03bd \\u1f00\\u03bd\\u03b1\\u03b2\\u1f70\\u03c2 \\u1f10\\u03c0\\u03af \\u03c4\\u03b9 \\u03c0\\u03b5\\u03c1\\u03af\\u03bc\\u03b7\\u03ba\\u03b5\\u03c2 \\u03b4\\u03ad\\u03bd\\u03b4\\u03c1\\u03bf\\u03bd \\u1f10\\u03bd\\u03b5\\u03bf\\u03c4\\u03c4\\u03bf\\u03c0\\u03bf\\u03b9\\u03ae\\u03c3\\u03b1\\u03c4\\u03bf\\u00b7 \\u1f21 \\u03b4\\u1f72 \\u03b5\\u1f30\\u03c3\\u03b5\\u03bb\\u03b8\\u03bf\\u1fe6\\u03c3\\u03b1 \\u03b5\\u1f30\\u03c2 \\u03c4\\u1f78\\u03bd \\u1f51\\u03c0\\u03bf\\u03ba\\u03b5\\u03af\\u03bc\\u03b5\\u03bd\\u03bf\\u03bd \\u03b8\\u03ac\\u03bc\\u03bd\\u03bf\\u03bd \\u1f14\\u03c4\\u03b5\\u03ba\\u03b5\\u03bd. \\u1f18\\u03be\\u03b5\\u03bb\\u03b8\\u03bf\\u03cd\\u03c3\\u03b7\\u03c2 \\u03b4\\u03ad \\u03c0\\u03bf\\u03c4\\u03b5 \\u03b1\\u1f50\\u03c4\\u1fc6\\u03c2 \\u1f10\\u03c0\\u1f76 \\u03bd\\u03bf\\u03bc\\u1f74\\u03bd, \\u1f41 \\u1f00\\u03b5\\u03c4\\u1f78\\u03c2 \\u1f00\\u03c0\\u03bf\\u03c1\\u1ff6\\u03bd \\u03c4\\u03c1\\u03bf\\u03c6\\u1fc6\\u03c2, \\u03ba\\u03b1\\u03c4\\u03b1\\u03c0\\u03c4\\u1f70\\u03c2 \\u03b5\\u1f30\\u03c2 \\u03c4\\u1f78\\u03bd \\u03b8\\u03ac\\u03bc\\u03bd\\u03bf\\u03bd \\u03ba\\u03b1\\u1f76 \\u03c4\\u1f70 \\u03b3\\u03b5\\u03bd\\u03bd\\u03ae\\u03bc\\u03b1\\u03c4\\u03b1 \\u1f00\\u03bd\\u03b1\\u03c1\\u03c0\\u03ac\\u03c3\\u03b1\\u03c2, \\u03bc\\u03b5\\u03c4\\u1f70 \\u03c4\\u1ff6\\u03bd \\u03b1\\u1f51\\u03c4\\u03bf\\u1fe6 \\u03bd\\u03b5\\u03bf\\u03c4\\u03c4\\u1ff6\\u03bd \\u03ba\\u03b1\\u03c4\\u03b5\\u03b8\\u03bf\\u03b9\\u03bd\\u03ae\\u03c3\\u03b1\\u03c4\\u03bf. \\u1f29 \\u03b4\\u02bc\\u1f00\\u03bb\\u03ce\\u03c0\\u03b7\\u03be \\u1f10\\u03c0\\u03b1\\u03bd\\u03b5\\u03bb\\u03b8\\u03bf\\u1fe6\\u03c3\\u03b1 \\u1f61\\u03c2 \\u1f14\\u03b3\\u03bd\\u03c9 \\u03c4\\u1f78 \\u03c0\\u03c1\\u03b1\\u03c7\\u03b8\\u1f72\\u03bd, \\u03bf\\u1f50 \\u03bc\\u1fb6\\u03bb\\u03bb\\u03bf\\u03bd \\u1f10\\u03c0\\u1f76 \\u03c4\\u1ff7 \\u03c4\\u1ff6\\u03bd \\u03bd\\u03b5\\u03bf\\u03c4\\u03c4\\u1ff6\\u03bd \\u03b8\\u03b1\\u03bd\\u03ac\\u03c4\\u1ff3 \\u1f10\\u03bb\\u03\u001b[39m..."
      ]
     },
     "execution_count": 83,
     "metadata": {},
     "output_type": "execute_result"
    }
   ],
   "source": [
    "val newUrn = aesopUrn.addPassage(\"5\")\n",
    "\n",
    "val fableFiveAll: Corpus = corp ~~ newUrn\n",
    "\n",
    "println( s\"Retrieving CTS-URN: ${newUrn}\\n\")\n",
    "\n",
    "showMe(fableFiveAll)"
   ]
  },
  {
   "cell_type": "markdown",
   "metadata": {},
   "source": [
    "### Analysis"
   ]
  },
  {
   "cell_type": "markdown",
   "metadata": {},
   "source": [
    "For information about using the [OCHO2 library’s built-in analytical tools](https://cite-architecture.github.io/cite-api-docs/ohco2/api/edu/holycross/shot/ohco2/index.html) see the [API documentation](https://cite-architecture.github.io/cite-api-docs/ohco2/api/edu/holycross/shot/ohco2/index.html). We can test our new library, though, with a quick linguistic analysis or two."
   ]
  },
  {
   "cell_type": "markdown",
   "metadata": {},
   "source": [
    "We can do a quick search for an NGram, in Greek or Portuguese, or for the whole Corpus.\n",
    "\n",
    "We start by defining Corpora for analysis.\n",
    "\n",
    "**N.b.** The `val` named `corp`, the Corpus in our TextRepository, contains both Greek and Portuguese."
   ]
  },
  {
   "cell_type": "code",
   "execution_count": 84,
   "metadata": {
    "scrolled": true
   },
   "outputs": [
    {
     "data": {
      "text/plain": [
       "\u001b[36mgreekCorpus\u001b[39m: \u001b[32mCorpus\u001b[39m = \u001b[33mCorpus\u001b[39m(\n",
       "  \u001b[33mVector\u001b[39m(\n",
       "    \u001b[33mCitableNode\u001b[39m(\n",
       "      \u001b[33mCtsUrn\u001b[39m(\u001b[32m\"urn:cts:greekLit:tlg0096.tlg002.First1K-grc1:1.head\"\u001b[39m),\n",
       "      \u001b[32m\"\\u1f08\\u03b3\\u03b1\\u03b8\\u1f70 \\u03ba\\u03b1\\u1f76 \\u039a\\u03b1\\u03ba\\u03ac\"\u001b[39m\n",
       "    ),\n",
       "    \u001b[33mCitableNode\u001b[39m(\n",
       "      \u001b[33mCtsUrn\u001b[39m(\u001b[32m\"urn:cts:greekLit:tlg0096.tlg002.First1K-grc1:1.text\"\u001b[39m),\n",
       "      \u001b[32m\"\\u1f08\\u03b3\\u03b1\\u03b8\\u1f70 \\u03c0\\u03ac\\u03bd\\u03c4\\u03b1 \\u1f51\\u03c0\\u1f78 \\u03c4\\u1ff6\\u03bd \\u03ba\\u03b1\\u03ba\\u1ff6\\u03bd \\u1f10\\u03b4\\u03b9\\u03ce\\u03c7\\u03b8\\u03b7, \\u1f61\\u03c2 \\u1f00\\u03c3\\u03b8\\u03b5\\u03bd\\u1fc6 \\u1f44\\u03bd\\u03c4\\u03b1\\u00b7 \\u03b5\\u1f30\\u03c2 \\u03bf\\u1f50\\u03c1\\u03b1\\u03bd\\u1f78\\u03bd \\u03b4\\u1f72 \\u1f00\\u03bd\\u1fc6\\u03bb\\u03b8\\u03bf\\u03bd. \\u039a\\u03b1\\u1f76 \\u03c4\\u1f00\\u03b3\\u03b1\\u03b8\\u1f70 \\u1f20\\u03c1\\u03ce\\u03c4\\u03b7\\u03c3\\u03b1\\u03bd \\u03c4\\u1f78\\u03bd \\u0394\\u03af\\u03b1, \\u03c0\\u1ff6\\u03c2 \\u03b5\\u1f36\\u03bd\\u03b1\\u03b9 \\u03b4\\u03b5\\u1fd6 \\u03bc\\u03b5\\u03c4\\u1f70 \\u1f00\\u03bd\\u03b8\\u03c1\\u03ce\\u03c0\\u03c9\\u03bd. \\u1f49 \\u03b4\\u1f72 \\u03b5\\u1f36\\u03c0\\u03b5, \\u03bc\\u1f74 \\u03bc\\u03b5\\u03c4\\u02bc \\u1f00\\u03bb\\u03bb\\u03ae\\u03bb\\u03c9\\u03bd \\u03c0\\u03ac\\u03bd\\u03c4\\u03b1, \\u1f13\\u03bd \\u03b4\\u1f72 \\u03ba\\u03b1\\u03b8\\u02bc \\u1f13\\u03bd \\u03c4\\u03bf\\u1fd6\\u03c2 \\u1f00\\u03bd\\u03b8\\u03c1\\u03ce\\u03c0\\u03bf\\u03b9\\u03c2 \\u1f10\\u03c0\\u03ad\\u03c1\\u03c7\\u03b5\\u03c3\\u03b8\\u03b1\\u03b9. \\u0394\\u03b9\\u1f70 \\u03c4\\u03bf\\u1fe6\\u03c4\\u03bf \\u03c4\\u1f70 \\u03bc\\u1f72\\u03bd \\u03ba\\u03b1\\u03ba\\u1f70 \\u03c3\\u03c5\\u03bd\\u03b5\\u03c7\\u1fc6 \\u03c4\\u03bf\\u1fd6\\u03c2 \\u1f00\\u03bd\\u03b8\\u03c1\\u03ce\\u03c0\\u03bf\\u03b9\\u03c2, \\u1f61\\u03c2 \\u03c0\\u03bb\\u03b7\\u03c3\\u03af\\u03bf\\u03bd \\u1f44\\u03bd\\u03c4\\u03b1, \\u1f10\\u03c0\\u03ad\\u03c1\\u03c7\\u03b5\\u03c4\\u03b1\\u03b9, \\u03c4\\u1f70 \\u03b4\\u1f72 \\u1f00\\u03b3\\u03b1\\u03b8\\u1f70 \\u03b2\\u03c1\\u03ac\\u03b4\\u03b9\\u03bf\\u03bd \\u1f10\\u03be \\u03bf\\u1f50\\u03c1\\u03b1\\u03bd\\u03bf\\u1fe6 \\u03ba\\u03ac\\u03c4\\u03b5\\u03b9\\u03c3\\u03b9. \\u1f49 \\u03bb\\u03cc\\u03b3\\u03bf\\u03c2 \\u03b4\\u03b7\\u03bb\\u03bf\\u1fd6, \\u1f45\\u03c4\\u03b9 \\u1f00\\u03b3\\u03b1\\u03b8\\u1ff7 \\u03bc\\u1f72\\u03bd \\u03bf\\u1f50\\u03b4\\u03b5\\u1f76\\u03c2 \\u03c4\\u03b1\\u03c7\\u03ad\\u03c9\\u03c2 \\u1f10\\u03c0\\u03b9\\u03c4\\u03c5\\u03b3\\u03c7\\u03ac\\u03bd\\u03b5\\u03b9, \\u1f51\\u03c0\\u1f78 \\u03b4\\u1f72 \\u03c4\\u1ff6\\u03bd \\u03ba\\u03b1\\u03ba\\u1ff6\\u03bd \\u1f15\\u03ba\\u03b1\\u03c3\\u03c4\\u03bf\\u03c2 \\u03ba\\u03b1\\u03b8\\u02bc \\u1f11\\u03ba\\u03ac\\u03c3\\u03c4\\u03b7\\u03bd \\u03c0\\u03bb\\u03ae\\u03c4\\u03c4\\u03b5\\u03c4\\u03b1\\u03b9.\"\u001b[39m\n",
       "    ),\n",
       "    \u001b[33mCitableNode\u001b[39m(\n",
       "      \u001b[33mCtsUrn\u001b[39m(\u001b[32m\"urn:cts:greekLit:tlg0096.tlg002.First1K-grc1:2.head\"\u001b[39m),\n",
       "...\n",
       "\u001b[36mportCorpus\u001b[39m: \u001b[32mCorpus\u001b[39m = \u001b[33mCorpus\u001b[39m(\n",
       "  \u001b[33mVector\u001b[39m(\n",
       "    \u001b[33mCitableNode\u001b[39m(\n",
       "      \u001b[33mCtsUrn\u001b[39m(\u001b[32m\"urn:cts:greekLit:tlg0096.tlg002.mcdezotti:1.head\"\u001b[39m),\n",
       "      \u001b[32m\"Os bens e os males\"\u001b[39m\n",
       "    ),\n",
       "    \u001b[33mCitableNode\u001b[39m(\n",
       "      \u001b[33mCtsUrn\u001b[39m(\u001b[32m\"urn:cts:greekLit:tlg0096.tlg002.mcdezotti:1.text\"\u001b[39m),\n",
       "      \u001b[32m\"Os bens todos, por serem fr\\u00e1geis, foram perseguidos pelos males. Ent\\u00e3o, subiram ao c\\u00e9u. E os bens perguntaram a Zeus como deviam comportar-se entre os homens. Ele ent\\u00e3o falou para se acercarem dos homens, n\\u00e3o todos em conjunto, mas um de cada vez. Por isso os males constantemente se acercam dos homens porque est\\u00e3o por perto, enquanto os bens descem do c\\u00e9u mais devagar. A f\\u00e1bula mostra que ningu\\u00e9m depara rapidamente com um bem, mas pelos males cada pessoa \\u00e9 a cada momento atingida.\"\u001b[39m\n",
       "    ),\n",
       "    \u001b[33mCitableNode\u001b[39m(\n",
       "      \u001b[33mCtsUrn\u001b[39m(\u001b[32m\"urn:cts:greekLit:tlg0096.tlg002.mcdezotti:2.head\"\u001b[39m),\n",
       "      \u001b[32m\"O vendedor de est\\u00e1tuas\"\u001b[39m\n",
       "    ),\n",
       "    \u001b[33mCitableNode\u001b[39m(\n",
       "      \u001b[33mCtsUrn\u001b[39m(\u001b[32m\"urn:cts:greekLit:tlg0096.tlg002.mcdezotti:2.text\"\u001b[39m),\n",
       "      \u001b[32m\"Um homem fabricou um Hermes de madeira e o exp\\u00f4s, tentando vender.  Como nenhum comprador se aproximava, ele, querendo atrair alguns, p\\u00f4s-se a gritar que estava vendendo um deus benfeitor e guardi\\u00e3o do lucro. Ent\\u00e3o uma das pessoas que por ali se achavam lhe disse: \\u201cEi voc\\u00ea, e por que o vende, sendo ele esse tal, se conv\\u00e9m aproveitar os benef\\u00edcios advindos dele?\\u201d Ele respondeu: \\u201c\\u00c9 que eu estou precisando de um certo benef\\u00edcio imediato, e ele costuma conceder os lucros lentamente.\\\"  Para homem vergonhosamente c\\u00fapido e que menospreza o divino.\"\u001b[39m\n",
       "    ),\n",
       "    \u001b[33mCitableNode\u001b[39m(\n",
       "      \u001b[33mCtsUrn\u001b[39m(\u001b[32m\"urn:cts:greekLit:tlg0096.tlg002.mcdezotti:3.head\"\u001b[39m),\n",
       "      \u001b[32m\"O campon\\u00eas e os burrinhos\"\u001b[39m\n",
       "    ),\n",
       "    \u001b[33mCitableNode\u001b[39m(\n",
       "      \u001b[33mCtsUrn\u001b[39m(\u001b[32m\"urn:cts:greekLit:tlg0096.tlg002.mcdezotti:3.text\"\u001b[39m),\n",
       "      \u001b[32m\"Um campon\\u00eas que chegou \\u00e0 velhice no campo, visto que nunca tinha ido \\u00e0 cidade, pedia com insist\\u00eancia aos familiares para v\\u00ea-la. \u001b[39m..."
      ]
     },
     "execution_count": 84,
     "metadata": {},
     "output_type": "execute_result"
    }
   ],
   "source": [
    "val greekCorpus: Corpus = corp ~~ aesopUrn.addVersion(greekVers)\n",
    "\n",
    "val portCorpus: Corpus = corp ~~ aesopUrn.addVersion(portVers)"
   ]
  },
  {
   "cell_type": "markdown",
   "metadata": {},
   "source": [
    "We ask for repeating patterns of 3 words that occur more than 2 times:"
   ]
  },
  {
   "cell_type": "code",
   "execution_count": null,
   "metadata": {},
   "outputs": [],
   "source": [
    "val threeGramsGreek = greekCorpus.ngramHisto(3, 2)\n",
    "\n",
    "showMe( threeGramsGreek )"
   ]
  },
  {
   "cell_type": "markdown",
   "metadata": {},
   "source": [
    "Let's do the same for Portuguese:"
   ]
  },
  {
   "cell_type": "code",
   "execution_count": null,
   "metadata": {
    "scrolled": true
   },
   "outputs": [],
   "source": [
    "val threeGramsPort = portCorpus.ngramHisto(3, 2)\n",
    "\n",
    "showMe( threeGramsPort )"
   ]
  },
  {
   "cell_type": "markdown",
   "metadata": {},
   "source": [
    "Let's do the same for both languages!:"
   ]
  },
  {
   "cell_type": "code",
   "execution_count": null,
   "metadata": {},
   "outputs": [],
   "source": [
    "val threeGramsAll = corp.ngramHisto(3, 2)\n",
    "\n",
    "showMe( threeGramsAll )"
   ]
  },
  {
   "cell_type": "markdown",
   "metadata": {},
   "source": [
    "# More…"
   ]
  },
  {
   "cell_type": "markdown",
   "metadata": {},
   "source": [
    "Work like this is a collaboration among scholars and students, each of whom bring different experiences and skills. This work **cannot** advance without **dialog**.\n",
    "\n",
    "Please send questions, suggestions, or reports of problems to: `christopher.blackwell@furman.edu`."
   ]
  },
  {
   "cell_type": "code",
   "execution_count": null,
   "metadata": {},
   "outputs": [],
   "source": []
  }
 ],
 "metadata": {
  "kernel_info": {
   "name": "scala"
  },
  "kernelspec": {
   "display_name": "Scala",
   "language": "scala",
   "name": "scala"
  },
  "language_info": {
   "codemirror_mode": "text/x-scala",
   "file_extension": ".scala",
   "mimetype": "text/x-scala",
   "name": "scala",
   "nbconvert_exporter": "script",
   "version": "2.12.10"
  },
  "nteract": {
   "version": "0.15.0"
  }
 },
 "nbformat": 4,
 "nbformat_minor": 2
}
