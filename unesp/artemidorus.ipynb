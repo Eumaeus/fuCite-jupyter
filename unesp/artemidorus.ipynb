{
 "cells": [
  {
   "cell_type": "markdown",
   "metadata": {},
   "source": [
    "# Loading a DSE Vector\n",
    "\n",
    "\n"
   ]
  },
  {
   "cell_type": "markdown",
   "metadata": {},
   "source": [
    "## Configuring CITE libraries for almond kernel\n",
    "\n",
    "First, we'll make a bintray repository with CITE libraries available to your almond kernel."
   ]
  },
  {
   "cell_type": "code",
   "execution_count": 1,
   "metadata": {},
   "outputs": [
    {
     "data": {
      "text/plain": [
       "\u001b[36mmyBT\u001b[39m: \u001b[32mcoursierapi\u001b[39m.\u001b[32mMavenRepository\u001b[39m = MavenRepository(https://dl.bintray.com/neelsmith/maven)"
      ]
     },
     "execution_count": 1,
     "metadata": {},
     "output_type": "execute_result"
    }
   ],
   "source": [
    "val myBT = coursierapi.MavenRepository.of(\"https://dl.bintray.com/neelsmith/maven\")\n",
    "interp.repositories() ++= Seq(myBT)"
   ]
  },
  {
   "cell_type": "markdown",
   "metadata": {},
   "source": [
    "Next, we bring in specific libraries from the new repository using almond's `$ivy` magic:"
   ]
  },
  {
   "cell_type": "code",
   "execution_count": 2,
   "metadata": {},
   "outputs": [
    {
     "data": {
      "text/plain": [
       "\u001b[32mimport \u001b[39m\u001b[36m$ivy.$                                  \n",
       "\u001b[39m\n",
       "\u001b[32mimport \u001b[39m\u001b[36m$ivy.$                                     \n",
       "\u001b[39m\n",
       "\u001b[32mimport \u001b[39m\u001b[36m$ivy.$                              \n",
       "\u001b[39m\n",
       "\u001b[32mimport \u001b[39m\u001b[36m$ivy.$                              \n",
       "\u001b[39m\n",
       "\u001b[32mimport \u001b[39m\u001b[36m$ivy.$                                          \n",
       "\u001b[39m\n",
       "\u001b[32mimport \u001b[39m\u001b[36m$ivy.$                                  \n",
       "\u001b[39m\n",
       "\u001b[32mimport \u001b[39m\u001b[36m$ivy.$                                        \n",
       "\u001b[39m\n",
       "\u001b[32mimport \u001b[39m\u001b[36m$ivy.$                              \n",
       "\u001b[39m"
      ]
     },
     "execution_count": 2,
     "metadata": {},
     "output_type": "execute_result"
    }
   ],
   "source": [
    "import $ivy.`edu.holycross.shot::ohco2:10.16.0`\n",
    "import $ivy.`edu.holycross.shot.cite::xcite:4.1.1`\n",
    "import $ivy.`edu.holycross.shot::scm:7.2.0`\n",
    "import $ivy.`edu.holycross.shot::dse:5.2.2`\n",
    "import $ivy.`edu.holycross.shot::citebinaryimage:3.1.1`\n",
    "import $ivy.`edu.holycross.shot::citeobj:7.3.4`\n",
    "import $ivy.`edu.holycross.shot::citerelations:2.5.2`\n",
    "import $ivy.`edu.holycross.shot::cex:6.3.3`\n"
   ]
  },
  {
   "cell_type": "markdown",
   "metadata": {},
   "source": [
    "## Imports\n",
    "\n",
    "From this point on, your notebook consists of completely generic Scala, with the CITE Libraries available to use."
   ]
  },
  {
   "cell_type": "code",
   "execution_count": 3,
   "metadata": {},
   "outputs": [
    {
     "data": {
      "text/plain": [
       "\u001b[32mimport \u001b[39m\u001b[36medu.holycross.shot.cite._\n",
       "\u001b[39m\n",
       "\u001b[32mimport \u001b[39m\u001b[36medu.holycross.shot.ohco2._\n",
       "\u001b[39m\n",
       "\u001b[32mimport \u001b[39m\u001b[36medu.holycross.shot.scm._\n",
       "\u001b[39m\n",
       "\u001b[32mimport \u001b[39m\u001b[36medu.holycross.shot.citeobj._\n",
       "\u001b[39m\n",
       "\u001b[32mimport \u001b[39m\u001b[36medu.holycross.shot.citerelation._\n",
       "\u001b[39m\n",
       "\u001b[32mimport \u001b[39m\u001b[36medu.holycross.shot.dse._\n",
       "\u001b[39m\n",
       "\u001b[32mimport \u001b[39m\u001b[36medu.holycross.shot.citebinaryimage._\n",
       "\u001b[39m\n",
       "\u001b[32mimport \u001b[39m\u001b[36medu.holycross.shot.ohco2._\n",
       "\n",
       "\u001b[39m\n",
       "\u001b[32mimport \u001b[39m\u001b[36malmond.display.UpdatableDisplay\n",
       "\u001b[39m\n",
       "\u001b[32mimport \u001b[39m\u001b[36malmond.interpreter.api.DisplayData.ContentType\n",
       "\u001b[39m\n",
       "\u001b[32mimport \u001b[39m\u001b[36malmond.interpreter.api.{DisplayData, OutputHandler}\n",
       "\n",
       "\u001b[39m\n",
       "\u001b[32mimport \u001b[39m\u001b[36mjava.io.File\n",
       "\u001b[39m\n",
       "\u001b[32mimport \u001b[39m\u001b[36mjava.io.PrintWriter\n",
       "\n",
       "\u001b[39m\n",
       "\u001b[32mimport \u001b[39m\u001b[36mscala.io.Source\n",
       "\u001b[39m"
      ]
     },
     "execution_count": 3,
     "metadata": {},
     "output_type": "execute_result"
    }
   ],
   "source": [
    "// Import some CITE libraries\n",
    "import edu.holycross.shot.cite._\n",
    "import edu.holycross.shot.ohco2._\n",
    "import edu.holycross.shot.scm._\n",
    "import edu.holycross.shot.citeobj._\n",
    "import edu.holycross.shot.citerelation._\n",
    "import edu.holycross.shot.dse._\n",
    "import edu.holycross.shot.citebinaryimage._\n",
    "import edu.holycross.shot.ohco2._\n",
    "\n",
    "import almond.display.UpdatableDisplay\n",
    "import almond.interpreter.api.DisplayData.ContentType\n",
    "import almond.interpreter.api.{DisplayData, OutputHandler}\n",
    "\n",
    "import java.io.File\n",
    "import java.io.PrintWriter\n",
    "\n",
    "import scala.io.Source\n"
   ]
  },
  {
   "cell_type": "markdown",
   "metadata": {},
   "source": [
    "## Useful Functions"
   ]
  },
  {
   "cell_type": "code",
   "execution_count": 4,
   "metadata": {},
   "outputs": [
    {
     "data": {
      "text/plain": [
       "defined \u001b[32mfunction\u001b[39m \u001b[36msaveString\u001b[39m"
      ]
     },
     "execution_count": 4,
     "metadata": {},
     "output_type": "execute_result"
    }
   ],
   "source": [
    "def saveString(s:String, filePath:String = \"\", fileName:String = \"temp.txt\"):Unit = {\n",
    "\t\t val writer = new PrintWriter(new File(s\"${filePath}${fileName}\"))\n",
    "         writer.write(s)\n",
    "         writer.close()\n",
    "\t}"
   ]
  },
  {
   "cell_type": "markdown",
   "metadata": {},
   "source": [
    "## Load a Template File"
   ]
  },
  {
   "cell_type": "markdown",
   "metadata": {},
   "source": [
    "We load a file that is a transformation (via XSLT) of the output of `https://scaife-cts.perseus.org/api/cts?request=GetPassage&urn=urn:cts:greekLit:tlg0553.tlg001.1st1K-grc1:1-5`."
   ]
  },
  {
   "cell_type": "code",
   "execution_count": 5,
   "metadata": {},
   "outputs": [
    {
     "data": {
      "text/plain": [
       "\u001b[36mfilePath\u001b[39m: \u001b[32mString\u001b[39m = \u001b[32m\"artemidorus-pre-cex.txt\"\u001b[39m\n",
       "\u001b[36mlines\u001b[39m: \u001b[32mVector\u001b[39m[\u001b[32mString\u001b[39m] = \u001b[33mVector\u001b[39m(\n",
       "  \u001b[32m\"                                    <div citation=\\\"1.prooimion.head\\\">\\u0391\\u03a1\\u03a4\\u0395\\u039c\\u0399\\u0394\\u03a9\\u03a1\\u039f\\u03a3 \\u039a\\u0391\\u03a3\\u03a3\\u0399\\u03a9 \\u039c\\u0391\\u039e\\u0399\\u039c\\u03a9 \\u03a7\\u0391\\u0399\\u03a1\\u0395\\u0399\\u039d</div>\"\u001b[39m,\n",
       "  \u001b[32m\"                                    <div citation=\\\"1.prooimion.1\\\">\\u03a0\\u03bf\\u03bb\\u03bb\\u03ac\\u03ba\\u03b9\\u03c2 \\u03c0\\u03c1\\u03bf\\u03b5\\u03c4\\u03c1\\u03ac\\u03c0\\u03b7\\u03bd \\u1f10\\u03c0\\u1f76 \\u03c4\\u1f74\\u03bd \\u03c0\\u03c1\\u03b1\\u03b3\\u03bc\\u03b1\\u03c4\\u03b5\\u03af\\u03b1\\u03bd \\u03c4\\u1f74\\u03bd \\u03c0\\u03c1\\u03bf\\u03ba\\u03b5\\u03b9\\u03bc\\u03ad\\u03bd\\u03b7\\u03bd  \\u1f41\\u03c1\\u03bc\\u1fc6\\u03c3\\u03b1\\u03b9 \\u03ba\\u03b1\\u1f76 \\u1f10\\u03c0\\u03b5\\u03c3\\u03c7\\u03ad\\u03b8\\u03b7\\u03bd\"\u001b[39m,\n",
       "  \u001b[32m\"                                        \\u2018\\u03bf\\u1f54\\u03c4\\u02bc \\u1f44\\u03ba\\u03bd\\u1ff3 \\u03b5\\u1f34\\u03ba\\u03c9\\u03bd \\u03bf\\u1f54\\u03c4\\u2019 \\u1f00\\u03c6\\u03c1\\u03b1\\u03b4\\u03af\\u1fc3\\u03c3\\u03b9 \\u03bd\\u03cc\\u03bf\\u03b9\\u03bf\\u02bc, \\u1f65\\u03c2 \\u03c6\\u03b7\\u03c3\\u03b9\\u03bd \\u1f41 \\u03c0\\u03bf\\u03b9\\u03b7\\u03c4\\u03ae\\u03c2,\"\u001b[39m,\n",
       "  \u001b[32m\"                                        \\u1f00\\u03bb\\u03bb\\u1f70 \\u03c4\\u1f78 \\u03bc\\u03b5\\u03b3\\u03b1\\u03bb\\u03b5\\u1fd6\\u03bf\\u03bd \\u03c4\\u1ff6\\u03bd \\u1f10\\u03bd \\u03b1\\u1f50\\u03c4\\u1fc7 \\u03b8\\u03b5\\u03c9\\u03c1\\u03b7\\u03bc\\u03ac\\u03c4\\u03c9\\u03bd \\u03ba\\u03b1\\u1f76 \\u03c4\\u1f78 \\u03c0\\u03bb\\u1fc6\\u03b8\\u03bf\\u03c2\"\u001b[39m,\n",
       "  \u001b[32m\"                                        \\u03ba\\u03b1\\u03c4\\u03b1\\u03c0\\u03b5\\u03c0\\u03bb\\u03b7\\u03b3\\u1f7c\\u03c2  \\u03bc\\u03ac\\u03bb\\u03b9\\u03c3\\u03c4\\u03b1 \\u03ba\\u03b1\\u1f76 \\u03c4\\u1f70\\u03c2 \\u1f00\\u03bd\\u03c4\\u03b9\\u03bb\\u03bf\\u03b3\\u03af\\u03b1\\u03c2 \\u03b4\\u03b5\\u03b4\\u03b9\\u1f7c\\u03c2\"\u001b[39m,\n",
       "  \u001b[32m\"                                        \\u03c4\\u1ff6\\u03bd \\u1f00\\u03bd\\u03b8\\u03c1\\u03ce\\u03c0\\u03c9\\u03bd \\u03c4\\u1ff6\\u03bd \\u1f24\\u03c4\\u03bf\\u03b9 \\u03b4\\u03b9\\u1f70 \\u03c4\\u1f78 \\u03c0\\u03b5\\u03c0\\u03b5\\u1fd6\\u03c3\\u03b8\\u03b1\\u03b9 \\u03bf\\u1f50\\u03ba \\u03b5\\u1f36\\u03bd\\u03b1\\u03b9 \\u03bc\\u03b1\\u03bd\\u03c4\\u03b9\\u03ba\\u1f74\\u03bd\"\u001b[39m,\n",
       "  \u001b[32m\"                                        \\u03bf\\u1f50\\u03b4\\u1f72 \\u03b8\\u03b5\\u1ff6\\u03bd \\u03c0\\u03c1\\u03cc\\u03bd\\u03bf\\u03b9\\u03b1\\u03bd \\u03bb\\u03b5\\u03b3\\u03cc\\u03bd\\u03c4\\u03c9\\u03bd \\u1f45\\u03c3\\u03b1 \\u03bb\\u03ad\\u03b3\\u03bf\\u03c5\\u03c3\\u03b9\\u03bd \\u1f22 \\u1f04\\u03bb\\u03bb\\u03c9\\u03c2 \\u03b3\\u03c5\\u03bc\\u03bd\\u03ac\\u03c3\\u03bc\\u03b1\\u03c4\\u03b1\"\u001b[39m,\n",
       "  \u001b[32m\"                                        \\u03ba\\u03b1\\u1f76 \\u03b4\\u03b9\\u03b1\\u03c4\\u03c1\\u03b9\\u03b2\\u1f70\\u03c2 \\u1f11\\u03b1\\u03c5\\u03c4\\u03bf\\u1fd6\\u03c2 \\u03c0\\u03bf\\u03c1\\u03b9\\u03b6\\u03bf\\u03bc\\u03ad\\u03bd\\u03c9\\u03bd. \\u03bd\\u03c5\u001b[39m..."
      ]
     },
     "execution_count": 5,
     "metadata": {},
     "output_type": "execute_result"
    }
   ],
   "source": [
    "val filePath = s\"artemidorus-pre-cex.txt\"\n",
    "val lines: Vector[String] = {\n",
    "    scala.io.Source.fromFile(filePath).mkString.split(\"\\n\").toVector.filter( _.size > 0 )\n",
    "}"
   ]
  },
  {
   "cell_type": "markdown",
   "metadata": {},
   "source": [
    "We can make this Vector one big String and use a number of GREP operations that:\n",
    "\n",
    "1. remove white-space at the beginning of lines\n",
    "1. merge lines into one line per citable passage"
   ]
  },
  {
   "cell_type": "code",
   "execution_count": 14,
   "metadata": {},
   "outputs": [
    {
     "name": "stderr",
     "output_type": "stream",
     "text": [
      "(console):4:35 expected ([btnfr'\\\\\\\\\\\"]] | OctalEscape | UnicodeEscape)\n",
      "                .replaceAll(\"\\n(?\\<)\", \" \")\n",
      "                                  ^"
     ]
    },
    {
     "ename": "",
     "evalue": "",
     "output_type": "error",
     "traceback": [
      "(console):4:35 expected ([btnfr'\\\\\\\\\\\"]] | OctalEscape | UnicodeEscape)\n                .replaceAll(\"\\n(?\\<)\", \" \")\n                                  ^"
     ]
    }
   ],
   "source": [
    "val oneBigString: String = lines.mkString(\"\\n\")\n",
    "val manyGreps: String = {\n",
    "    oneBigString.replaceAll(\"^[ \\t]+\",\"\")\n",
    "                .replaceAll(\"\\n(?\\<)\", \" \")\n",
    "}"
   ]
  },
  {
   "cell_type": "code",
   "execution_count": null,
   "metadata": {},
   "outputs": [],
   "source": []
  }
 ],
 "metadata": {
  "kernel_info": {
   "name": "scala"
  },
  "kernelspec": {
   "display_name": "Scala",
   "language": "scala",
   "name": "scala"
  },
  "language_info": {
   "codemirror_mode": "text/x-scala",
   "file_extension": ".scala",
   "mimetype": "text/x-scala",
   "name": "scala",
   "nbconvert_exporter": "script",
   "version": "2.12.10"
  },
  "nteract": {
   "version": "0.15.0"
  }
 },
 "nbformat": 4,
 "nbformat_minor": 2
}
