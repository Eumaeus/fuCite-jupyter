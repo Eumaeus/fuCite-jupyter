{
 "cells": [
  {
   "cell_type": "markdown",
   "metadata": {},
   "source": [
    "# Loading a DSE Vector\n",
    "\n",
    "\n"
   ]
  },
  {
   "cell_type": "markdown",
   "metadata": {},
   "source": [
    "## Configuring CITE libraries for almond kernel\n",
    "\n",
    "First, we'll make a bintray repository with CITE libraries available to your almond kernel."
   ]
  },
  {
   "cell_type": "code",
   "execution_count": null,
   "metadata": {},
   "outputs": [],
   "source": [
    "val myBT = coursierapi.MavenRepository.of(\"https://dl.bintray.com/neelsmith/maven\")\n",
    "interp.repositories() ++= Seq(myBT)"
   ]
  },
  {
   "cell_type": "markdown",
   "metadata": {},
   "source": [
    "Next, we bring in specific libraries from the new repository using almond's `$ivy` magic:"
   ]
  },
  {
   "cell_type": "code",
   "execution_count": null,
   "metadata": {},
   "outputs": [],
   "source": [
    "import $ivy.`edu.holycross.shot::ohco2:10.16.0`\n",
    "import $ivy.`edu.holycross.shot.cite::xcite:4.1.1`\n",
    "import $ivy.`edu.holycross.shot::scm:7.2.0`\n",
    "import $ivy.`edu.holycross.shot::dse:5.2.2`\n",
    "import $ivy.`edu.holycross.shot::citebinaryimage:3.1.1`\n",
    "import $ivy.`edu.holycross.shot::citeobj:7.3.4`\n",
    "import $ivy.`edu.holycross.shot::citerelations:2.5.2`\n",
    "import $ivy.`edu.holycross.shot::cex:6.3.3`\n"
   ]
  },
  {
   "cell_type": "markdown",
   "metadata": {},
   "source": [
    "## Imports\n",
    "\n",
    "From this point on, your notebook consists of completely generic Scala, with the CITE Libraries available to use."
   ]
  },
  {
   "cell_type": "code",
   "execution_count": null,
   "metadata": {},
   "outputs": [],
   "source": [
    "// Import some CITE libraries\n",
    "import edu.holycross.shot.cite._\n",
    "import edu.holycross.shot.ohco2._\n",
    "import edu.holycross.shot.scm._\n",
    "import edu.holycross.shot.citeobj._\n",
    "import edu.holycross.shot.citerelation._\n",
    "import edu.holycross.shot.dse._\n",
    "import edu.holycross.shot.citebinaryimage._\n",
    "import edu.holycross.shot.ohco2._\n",
    "\n",
    "import almond.display.UpdatableDisplay\n",
    "import almond.interpreter.api.DisplayData.ContentType\n",
    "import almond.interpreter.api.{DisplayData, OutputHandler}\n",
    "\n",
    "import java.io.File\n",
    "import java.io.PrintWriter\n",
    "\n",
    "import scala.io.Source\n"
   ]
  },
  {
   "cell_type": "markdown",
   "metadata": {},
   "source": [
    "## Useful Functions"
   ]
  },
  {
   "cell_type": "code",
   "execution_count": null,
   "metadata": {},
   "outputs": [],
   "source": [
    "def saveString(s:String, filePath:String = \"\", fileName:String = \"temp.txt\"):Unit = {\n",
    "\t\t val writer = new PrintWriter(new File(s\"${filePath}${fileName}\"))\n",
    "         writer.write(s)\n",
    "         writer.close()\n",
    "\t}"
   ]
  },
  {
   "cell_type": "markdown",
   "metadata": {},
   "source": [
    "## Load a Template File"
   ]
  },
  {
   "cell_type": "markdown",
   "metadata": {},
   "source": [
    "Load it:"
   ]
  },
  {
   "cell_type": "code",
   "execution_count": null,
   "metadata": {},
   "outputs": [],
   "source": [
    "val filePath = s\"aesop.txt\"\n",
    "val allLines: Vector[String] = {\n",
    "    scala.io.Source.fromFile(filePath).mkString.split(\"\\n\").toVector.filter( _.size > 0 )\n",
    "}"
   ]
  },
  {
   "cell_type": "markdown",
   "metadata": {},
   "source": [
    "We define a custom Class that is String + Index:"
   ]
  },
  {
   "cell_type": "code",
   "execution_count": null,
   "metadata": {},
   "outputs": [],
   "source": [
    "case class IndexedLine( text: String, index: Int)"
   ]
  },
  {
   "cell_type": "markdown",
   "metadata": {},
   "source": [
    "We want to separate heading-lines from the content-lines."
   ]
  },
  {
   "cell_type": "code",
   "execution_count": null,
   "metadata": {},
   "outputs": [],
   "source": [
    "val pattern = \"^[0-9]\".r\n",
    "\n",
    "val indexedLines: Vector[IndexedLine] = allLines.zipWithIndex.map ( l => {\n",
    "    IndexedLine( l._1, l._2 )\n",
    "})\n",
    "\n",
    "val headingLines: Vector[IndexedLine] = indexedLines.filter( l => {\n",
    "    pattern.findAllIn(l.text).size > 0\n",
    "})"
   ]
  },
  {
   "cell_type": "code",
   "execution_count": null,
   "metadata": {
    "scrolled": true
   },
   "outputs": [],
   "source": [
    "val headingPairs: Vector[Vector[IndexedLine]] = headingLines.sliding(2,1).toVector\n",
    "val mappedHeadings: Vector[( IndexedLine, Vector[IndexedLine])] = {\n",
    "    val allButLast: Vector[( IndexedLine, Vector[IndexedLine])] = headingPairs.map( p => {\n",
    "        val firstIndex: Int = p.head.index\n",
    "        val lastIndex: Int = p.last.index\n",
    "        val firstLine: IndexedLine = indexedLines(firstIndex)\n",
    "        val allLines: Vector[IndexedLine] = indexedLines.filter( il => {\n",
    "            ( il.index > firstIndex) & ( il.index < lastIndex )\n",
    "        })\n",
    "        ( firstLine, allLines )\n",
    "    })\n",
    "    val lastSection: Vector[( IndexedLine, Vector[IndexedLine])] = {\n",
    "        val firstIndex: Int = headingPairs.last.last.index\n",
    "        val firstLine: IndexedLine = indexedLines(firstIndex)\n",
    "        val allLines: Vector[IndexedLine] = indexedLines.filter( il => {\n",
    "            ( il.index > firstIndex) \n",
    "        })\n",
    "        val tup = ( firstLine, allLines )\n",
    "        Vector[( IndexedLine, Vector[IndexedLine])](tup)\n",
    "    }\n",
    "    allButLast ++ lastSection\n",
    "}"
   ]
  },
  {
   "cell_type": "code",
   "execution_count": null,
   "metadata": {},
   "outputs": [],
   "source": [
    "def splitTitle( testString: String ): (String, String, String) = {\n",
    "    val charVec = testString.toVector\n",
    "    val filteredVec = charVec.filter( c => {\n",
    "        val s = c.toString\n",
    "        val rpl = s.replaceAll(\"[A-Z]\", \"\")\n",
    "        rpl == \"\"\n",
    "    })\n",
    "    val firstChar: Char = filteredVec.head.toChar\n",
    "    val firstPorIndex: Int = charVec.indexOf(firstChar)\n",
    "    val greekTitle: String = testString.take(firstPorIndex - 1)\n",
    "    val porTitle: String = testString.takeRight( testString.size - firstPorIndex )\n",
    "    val chapterId: String = {\n",
    "        val rx = \"^[0-9]+\".r\n",
    "        val foundOption: Option[String] = rx.findFirstIn(testString)\n",
    "        foundOption.getOrElse(\"NO_ID\")\n",
    "        \n",
    "    }\n",
    "    (chapterId, greekTitle, porTitle)\n",
    "}"
   ]
  },
  {
   "cell_type": "markdown",
   "metadata": {},
   "source": [
    "We can make two CEX blocks, one for Greek and one for Portuguese. First we define our URN-base:"
   ]
  },
  {
   "cell_type": "code",
   "execution_count": null,
   "metadata": {},
   "outputs": [],
   "source": [
    "val urnBase = CtsUrn(\"urn:cts:greekLit:tlg0096.tlg002:\")"
   ]
  },
  {
   "cell_type": "markdown",
   "metadata": {},
   "source": [
    "Greek first…"
   ]
  },
  {
   "cell_type": "code",
   "execution_count": null,
   "metadata": {},
   "outputs": [],
   "source": [
    "val greekBlock: Vector[String] = mappedHeadings.map( h => {\n",
    "    val heading: IndexedLine = h._1\n",
    "    val section: IndexedLine = h._2.head\n",
    "    val splitHeading = splitTitle(heading.text)\n",
    "    val sectionId = splitHeading._1\n",
    "    val sectionHeading = splitHeading._2\n",
    "    val versionUrn = urnBase.addVersion(\"First1K-grc1\")\n",
    "    Vector(\n",
    "        s\"${versionUrn}${sectionId}.head#${sectionHeading}\",\n",
    "        s\"${versionUrn}${sectionId}.text#${section.text}\"\n",
    "    )\n",
    "}).flatten"
   ]
  },
  {
   "cell_type": "markdown",
   "metadata": {},
   "source": [
    "Now Portugues…"
   ]
  },
  {
   "cell_type": "code",
   "execution_count": null,
   "metadata": {},
   "outputs": [],
   "source": [
    "val portBlock: Vector[String] = mappedHeadings.map( h => {\n",
    "    val heading: IndexedLine = h._1\n",
    "    val section: IndexedLine = h._2.last\n",
    "    val splitHeading = splitTitle(heading.text)\n",
    "    val sectionId = splitHeading._1\n",
    "    val sectionHeading = splitHeading._3\n",
    "    val versionUrn = urnBase.addVersion(\"mcdezotti\")\n",
    "    Vector(\n",
    "        s\"${versionUrn}${sectionId}.head#${sectionHeading}\",\n",
    "        s\"${versionUrn}${sectionId}.text#${section.text}\"\n",
    "    )\n",
    "}).flatten"
   ]
  },
  {
   "cell_type": "code",
   "execution_count": null,
   "metadata": {},
   "outputs": [],
   "source": [
    "portBlock.last"
   ]
  },
  {
   "cell_type": "code",
   "execution_count": null,
   "metadata": {},
   "outputs": [],
   "source": []
  }
 ],
 "metadata": {
  "kernel_info": {
   "name": "scala"
  },
  "kernelspec": {
   "display_name": "Scala",
   "language": "scala",
   "name": "scala"
  },
  "language_info": {
   "codemirror_mode": "text/x-scala",
   "file_extension": ".scala",
   "mimetype": "text/x-scala",
   "name": "scala",
   "nbconvert_exporter": "script",
   "version": "2.12.10"
  },
  "nteract": {
   "version": "0.15.0"
  }
 },
 "nbformat": 4,
 "nbformat_minor": 2
}
