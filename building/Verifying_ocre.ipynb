{
 "cells": [
  {
   "cell_type": "markdown",
   "metadata": {},
   "source": [
    "# Verifying data in OCRE\n",
    "\n",
    "This notebook shows you how to load OCRE data from a CEX file over the internet, and verify its contents.  It uses version `1.4.3` of the `nomisma` library."
   ]
  },
  {
   "cell_type": "markdown",
   "metadata": {},
   "source": [
    "\n",
    "## Configure Jupyter notebook\n",
    "\n",
    "First configure the Jupyter notebook to find the `nomisma` library.  (You could do the same thing in other environments with `sbt` or `maven`.)"
   ]
  },
  {
   "cell_type": "code",
   "execution_count": null,
   "metadata": {},
   "outputs": [],
   "source": [
    "// 1. Add maven repository where we can find our libraries\n",
    "val myBT = coursierapi.MavenRepository.of(\"https://dl.bintray.com/neelsmith/maven\")\n",
    "interp.repositories() ++= Seq(myBT)"
   ]
  },
  {
   "cell_type": "code",
   "execution_count": null,
   "metadata": {},
   "outputs": [],
   "source": [
    "// 2. Make libraries available with `$ivy` imports:\n",
    "import $ivy.`edu.holycross.shot::nomisma:1.4.3`\n",
    "import $ivy.`edu.holycross.shot::histoutils:2.2.0`\n",
    "import $ivy.`org.plotly-scala::plotly-almond:0.7.1`"
   ]
  },
  {
   "cell_type": "markdown",
   "metadata": {},
   "source": [
    "## Load the full OCRE data set"
   ]
  },
  {
   "cell_type": "code",
   "execution_count": null,
   "metadata": {},
   "outputs": [],
   "source": [
    "import edu.holycross.shot.nomisma._\n",
    "val ocreCex = \"https://raw.githubusercontent.com/neelsmith/nomisma/master/cex/ocre-cite-ids.cex\"\n",
    "val ocre = OcreSource.fromUrl(ocreCex)\n",
    "\n",
    "// Check results:\n",
    "require(ocre.size > 50000) "
   ]
  },
  {
   "cell_type": "markdown",
   "metadata": {},
   "source": [
    "## Contents of an `Ocre` object\n",
    "\n",
    "The object `ocre` created in the preceding cell belongs to the `Ocre` class.  `Ocre` objects have a Vector of `OcreIssue`s, each of which in turn has the following properties:\n",
    "\n",
    "\n",
    "    id: String,\n",
    "    labelText:  String,\n",
    "    denomination: String,\n",
    "    material: String,\n",
    "    authority: String,\n",
    "    mint: String,\n",
    "    region: String,\n",
    "    obvType: String,\n",
    "    obvLegend: String,\n",
    "    obvPortraitId: String,\n",
    "    revType: String,\n",
    "    revLegend: String,\n",
    "    revPortraitId,\n",
    "    dateRange: Option[YearRange]\n",
    "    \n",
    "    \n",
    "    \n",
    "The first seven properties should have values for each issue.  As a first step in validating the contents of `ocre`, we'll verify that each of those String properties is non-empty."
   ]
  },
  {
   "cell_type": "code",
   "execution_count": null,
   "metadata": {},
   "outputs": [],
   "source": [
    "println(\"Number of issues in OCRE: \" + ocre.size)\n",
    "require (ocre.issues.filter(_.id.nonEmpty).size == ocre.issues.size)\n",
    "require (ocre.issues.filter(_.labelText.nonEmpty).size == ocre.issues.size)\n",
    "require (ocre.issues.filter(_.denomination.nonEmpty).size == ocre.issues.size)\n",
    "require (ocre.issues.filter(_.material.nonEmpty).size == ocre.issues.size)\n",
    "require (ocre.issues.filter(_.authority.nonEmpty).size == ocre.issues.size)\n",
    "require (ocre.issues.filter(_.mint.nonEmpty).size == ocre.issues.size)\n",
    "require (ocre.issues.filter(_.region.nonEmpty).size == ocre.issues.size)\n",
    "\n",
    "val requiredProperties = List(\"id\", \"labelText\", \"denomination\", \"material\", \"authority\", \"mint\", \"region\")\n",
    "println(\"All issues have data value for:\\n\" + requiredProperties.mkString(\"\\n\"))"
   ]
  },
  {
   "cell_type": "code",
   "execution_count": null,
   "metadata": {},
   "outputs": [],
   "source": [
    "val obvTypes = ocre.issues.filter(_.obvType.nonEmpty)\n",
    "val obvLegends = ocre.issues.filter(_.obvLegend.nonEmpty)\n",
    "val obvPortraitIds = ocre.issues.filter(_.obvPortraitId.nonEmpty)\n",
    "\n",
    "println(\"Issues with obverse types: \" + obvTypes.size)\n",
    "println(\"Issues with obverse legends: \" + obvLegends.size)\n",
    "println(\"Issues with obverse portrait IDs: \" + obvPortraitIds.size)"
   ]
  },
  {
   "cell_type": "code",
   "execution_count": null,
   "metadata": {},
   "outputs": [],
   "source": [
    "val revTypes = ocre.issues.filter(_.revType.nonEmpty)\n",
    "val revLegends = ocre.issues.filter(_.revLegend.nonEmpty)\n",
    "val revPortraitIds = ocre.issues.filter(_.revPortraitId.nonEmpty)\n",
    "\n",
    "println(\"Issues with reverse types: \" + revTypes.size)\n",
    "println(\"Issues with reverse legends: \" + revLegends.size)\n",
    "println(\"Issues with reverse portrait IDs: \" + revPortraitIds.size)"
   ]
  },
  {
   "cell_type": "markdown",
   "metadata": {},
   "source": [
    "## Contents of required properties"
   ]
  },
  {
   "cell_type": "code",
   "execution_count": null,
   "metadata": {},
   "outputs": [],
   "source": [
    "val mintValues = mints.map(_.mint).distinct\n",
    "println(mintValues.mkString(\"\\n\"))"
   ]
  },
  {
   "cell_type": "code",
   "execution_count": null,
   "metadata": {},
   "outputs": [],
   "source": [
    "val mints = ocre.issues.filter(issue => (issue.mint.trim != \"none\") && ! issue.mint.trim.contains(\"uncertain\"))\n",
    "println(\"Issues with mints: \" + mints.size)"
   ]
  },
  {
   "cell_type": "code",
   "execution_count": null,
   "metadata": {},
   "outputs": [],
   "source": [
    "val regions = ocre.issues.filterNot(_.region.contains(\"uncertain\")).filterNot(_.region.contains(\"none\"))\n",
    "val regionValues = regions.map(_.region).distinct\n",
    "println(regionValues.size)\n",
    "println(regionValues.mkString(\"\\n\"))"
   ]
  },
  {
   "cell_type": "markdown",
   "metadata": {},
   "source": [
    "### Distinct values for core information"
   ]
  },
  {
   "cell_type": "code",
   "execution_count": null,
   "metadata": {},
   "outputs": [],
   "source": [
    "val authorityValues = ocre.issues.map(_.authority).distinct\n",
    "val materialValues =  ocre.issues.map(_.material).distinct\n",
    "val denominationValues =  ocre.issues.map(_.authority).distinct\n"
   ]
  },
  {
   "cell_type": "code",
   "execution_count": null,
   "metadata": {},
   "outputs": [],
   "source": [
    "println(authorityValues.size + \" issuing authorities\")\n",
    "println(authorityValues.mkString(\"\\n\"))"
   ]
  },
  {
   "cell_type": "code",
   "execution_count": null,
   "metadata": {},
   "outputs": [],
   "source": [
    "println(materialValues.size + \" metals\")\n",
    "println(materialValues.mkString(\"\\n\"))"
   ]
  },
  {
   "cell_type": "code",
   "execution_count": null,
   "metadata": {},
   "outputs": [],
   "source": [
    "println(denominationValues.size + \" denominations\")\n",
    "println(denominationValues.mkString(\"\\n\"))"
   ]
  }
 ],
 "metadata": {
  "kernelspec": {
   "display_name": "Scala 2.12",
   "language": "scala",
   "name": "scala212"
  },
  "language_info": {
   "codemirror_mode": "text/x-scala",
   "file_extension": ".scala",
   "mimetype": "text/x-scala",
   "name": "scala",
   "nbconvert_exporter": "script",
   "version": "2.12.10"
  }
 },
 "nbformat": 4,
 "nbformat_minor": 2
}
