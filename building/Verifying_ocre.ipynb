{
 "cells": [
  {
   "cell_type": "markdown",
   "metadata": {},
   "source": [
    "# Verifying data in OCRE\n",
    "\n",
    "This notebook shows you how to load OCRE data from a CEX file over the internet, and verify its contents.  It uses version `1.5.0` of the `nomisma` library."
   ]
  },
  {
   "cell_type": "markdown",
   "metadata": {},
   "source": [
    "\n",
    "## Configure Jupyter notebook\n",
    "\n",
    "First configure the Jupyter notebook to find the `nomisma` library.  (You could do the same thing in other environments with `sbt` or `maven`.)"
   ]
  },
  {
   "cell_type": "code",
   "execution_count": null,
   "metadata": {},
   "outputs": [],
   "source": [
    "// 1. Add maven repository where we can find our libraries\n",
    "val myBT = coursierapi.MavenRepository.of(\"https://dl.bintray.com/neelsmith/maven\")\n",
    "interp.repositories() ++= Seq(myBT)"
   ]
  },
  {
   "cell_type": "code",
   "execution_count": null,
   "metadata": {},
   "outputs": [],
   "source": [
    "// 2. Make libraries available with `$ivy` imports:\n",
    "import $ivy.`edu.holycross.shot::nomisma:1.5.0`"
   ]
  },
  {
   "cell_type": "markdown",
   "metadata": {},
   "source": [
    "## Load the full OCRE data set"
   ]
  },
  {
   "cell_type": "code",
   "execution_count": null,
   "metadata": {},
   "outputs": [],
   "source": [
    "import edu.holycross.shot.nomisma._\n",
    "val ocreCex = \"https://raw.githubusercontent.com/neelsmith/nomisma/master/cex/ocre-cite-ids.cex\"\n",
    "val ocre = OcreSource.fromUrl(ocreCex)\n",
    "\n",
    "// Sanity check:\n",
    "require(ocre.size > 50000) "
   ]
  },
  {
   "cell_type": "markdown",
   "metadata": {},
   "source": [
    "## Contents of an `Ocre` object\n",
    "\n",
    "The object `ocre` created in the preceding cell belongs to the `Ocre` class.  `Ocre` objects have a Vector of `OcreIssue`s, each of which in turn has the following properties:\n",
    "\n",
    "\n",
    "    id: String,\n",
    "    labelText:  String,\n",
    "    denomination: String,\n",
    "    material: String,\n",
    "    authority: String,\n",
    "    mint: String,\n",
    "    region: String,\n",
    "    obvType: String,\n",
    "    obvLegend: String,\n",
    "    obvPortraitId: String,\n",
    "    revType: String,\n",
    "    revLegend: String,\n",
    "    revPortraitId,\n",
    "    dateRange: Option[YearRange]\n",
    "    \n",
    "In this notebook, we'll check for each property that all the values in the 50,000+ records of imperial coin issues look reasonable.\n"
   ]
  },
  {
   "cell_type": "markdown",
   "metadata": {},
   "source": [
    "## Check for presence of required properties\n",
    "\n",
    "    \n",
    "The first seven properties should have values for each issue.  As a first step in validating the contents of `ocre`, we'll verify that each of those String properties is non-empty.\n"
   ]
  },
  {
   "cell_type": "code",
   "execution_count": null,
   "metadata": {},
   "outputs": [],
   "source": [
    "println(\"Number of issues in OCRE: \" + ocre.size)\n",
    "require (ocre.issues.filter(_.id.nonEmpty).size == ocre.issues.size)\n",
    "require (ocre.issues.filter(_.labelText.nonEmpty).size == ocre.issues.size)\n",
    "require (ocre.issues.filter(_.denomination.nonEmpty).size == ocre.issues.size)\n",
    "require (ocre.issues.filter(_.material.nonEmpty).size == ocre.issues.size)\n",
    "require (ocre.issues.filter(_.authority.nonEmpty).size == ocre.issues.size)\n",
    "require (ocre.issues.filter(_.mint.nonEmpty).size == ocre.issues.size)\n",
    "require (ocre.issues.filter(_.region.nonEmpty).size == ocre.issues.size)\n",
    "\n",
    "val requiredProperties = List(\"id\", \"labelText\", \"denomination\", \"material\", \"authority\", \"mint\", \"region\")\n",
    "println(\"All issues have a non-empty data value for:\\n\" + requiredProperties.mkString(\"\\n\"))"
   ]
  },
  {
   "cell_type": "markdown",
   "metadata": {},
   "source": [
    "## Check values of required properties\n",
    "\n",
    "Now we want to see if those non-empty values look reasonable.  The first constraint to check is that all values for the `id` and `labelText` properties must be unique."
   ]
  },
  {
   "cell_type": "code",
   "execution_count": null,
   "metadata": {},
   "outputs": [],
   "source": [
    "require(ocre.issues.map(_.id).distinct.size == ocre.size)\n",
    "require(ocre.issues.map(_.labelText).distinct.size == ocre.size)\n",
    "println(\"All id and labelText values are unique.\")"
   ]
  },
  {
   "cell_type": "markdown",
   "metadata": {},
   "source": [
    "The `Ocre` class includes functions to list all values for a given property.  The name of the functions has the form `[PROPERTYNAME]List`.  Let's look at the `material` property for an example."
   ]
  },
  {
   "cell_type": "code",
   "execution_count": null,
   "metadata": {},
   "outputs": [],
   "source": [
    "println(ocre.materialList.mkString(\"\\n\"))"
   ]
  },
  {
   "cell_type": "markdown",
   "metadata": {},
   "source": [
    "You can see that in addition to abbreviations for bronze (`ae`), silver (`ar`) and gold (`av`), there is a fourth category, `none`.  The `Ocre` class includes functions for each property that create a new `Ocre` containing meaningful values for that property.  The name of these functions has the form `has[PROPERTYNAME]`. The `hasMint` function, for example, creates a new `Ocre` containing only issues that have a value other than `none` for the mint property."
   ]
  },
  {
   "cell_type": "code",
   "execution_count": null,
   "metadata": {},
   "outputs": [],
   "source": [
    "println(\"All issues in Ocre: \" + ocre.size)\n",
    "println(\"Issues with mint not equal to 'none': \" + ocre.hasMint.size)"
   ]
  },
  {
   "cell_type": "markdown",
   "metadata": {},
   "source": [
    "## Optional properties\n",
    "\n",
    "OCRE's RDF records optionally include information for each side (obverse and reverse) about type description, legend and identifiers for portraits.  Unlike the required properties, these properties appear in the delimited-text records simply as empty strings that the `Ocre` object ignores, so you won't find entries like `none` or `uncertain_value` in the list of values for these properties.  \n",
    "\n",
    "\n",
    "### Portrait identifiers\n",
    "\n",
    "Let's start with the values for identifiers for obverse portraits.  You'll see that while the identifiers include a mix of plain strings, URLs in the `britishmuseum.org` domain, and URLs in the `nomisma.org` domain, there are no values like `none`."
   ]
  },
  {
   "cell_type": "code",
   "execution_count": null,
   "metadata": {},
   "outputs": [],
   "source": [
    "// Not all issues have an obverse portrait ID:\n",
    "println(\"Number of issues in OCRE: \" + ocre.size)\n",
    "println(\"Issues with obv. portrait ID: \" + ocre.hasObvPortraitId.size  + \"\\n\")\n",
    "\n",
    "// and there are no \"no data\" values in obvPortraitId:\n",
    "println(\"Distinct values for obvPortraitId:\")\n",
    "println(ocre.obvPortraitIdList.mkString(\"\\n\"))\n",
    "\n",
    "// reverse portrait identifiers work the same way."
   ]
  },
  {
   "cell_type": "markdown",
   "metadata": {},
   "source": [
    "### Type descriptions \n",
    "\n",
    "The optional description of obverse and reverse types is a free-text description, so unlike the properties we've looked at above, there is no `[obv|rev]TypeList` function to get a list of controlled vocabulary.  `Ocre` does `hasObvType` and `hasRevType` to create a new `Ocre` including only those issues with an obverse or reverse type description, respctively.\n",
    "\n",
    "As the following cell shows, we can of course string those functions together to create an `Ocre` containing only issues including *both* an obverse and reverse type description."
   ]
  },
  {
   "cell_type": "code",
   "execution_count": null,
   "metadata": {},
   "outputs": [],
   "source": [
    "val oTypes = ocre.hasObvType\n",
    "val rTypes = ocre.hasRevType\n",
    "println(\"Total number of issues in OCRE: \" + ocre.size)\n",
    "println(\"Issues with obv. type description: \" + oTypes.size)\n",
    "println(\"Issues with rev. type description: \" + rTypes.size)\n",
    "val bothTypes = oTypes.hasRevType // == rTypes.hasObvType\n",
    "println(\"Issues with both obv. and rev. type description: \" + bothTypes.size)"
   ]
  },
  {
   "cell_type": "markdown",
   "metadata": {},
   "source": [
    "### Legends\n",
    "\n",
    "Like type descriptions, obverse and reverse legends are free text, and therefore `Ocre` does not have functions `[obv|rev]LegendList` to get a list of controlled vocabulary.\n",
    "\n",
    "As you would expect by now, the `hasObvLegend` and `hasRevLegend` functions create a new `Ocre` including only those issues with an obverse or reverse legend, respctively."
   ]
  },
  {
   "cell_type": "code",
   "execution_count": null,
   "metadata": {},
   "outputs": [],
   "source": [
    "val oLegends = ocre.hasObvLegend\n",
    "val rLegends = ocre.hasRevLegend\n",
    "println(\"Total number of issues in OCRE: \" + ocre.size)\n",
    "println(\"Issues with obv. type description: \" + oLegends.size)\n",
    "println(\"Issues with rev. type description: \" + rLegends.size)\n",
    "val bothLegends = oLegends.hasRevLegend// == rLegends.hasObvLegend\n",
    "println(\"Issues with both obv. and rev. legends: \" + bothLegends.size)\n"
   ]
  },
  {
   "cell_type": "markdown",
   "metadata": {},
   "source": [
    "The `Ocre` class also includes a function to create a citable corpus of texts from the legends data.  Validating the contents of a text corpus is a more complex undertaking that will be described in a separate notebook."
   ]
  },
  {
   "cell_type": "code",
   "execution_count": null,
   "metadata": {},
   "outputs": [],
   "source": [
    "// bring in text libraries\n",
    "import $ivy.`edu.holycross.shot::ohco2:10.16.0`\n",
    "import $ivy.`edu.holycross.shot.cite::xcite:4.1.1`"
   ]
  },
  {
   "cell_type": "code",
   "execution_count": null,
   "metadata": {},
   "outputs": [],
   "source": [
    "val corpus = ocre.corpus\n",
    "println(\"Citable nodes of text in corpus: \" + corpus.size)"
   ]
  },
  {
   "cell_type": "markdown",
   "metadata": {},
   "source": [
    "## Dating information\n",
    "\n",
    "The `Ocre` class includes a final optional property with date information about each issue.  Instead of a simple string value, it's an object modeling a range of years.  \n",
    "\n",
    "The `datable` function creates a new `Ocre` containing only issues that have dating information.  The functions `dateRange`, `minDate` and `maxDate` identify the chronological limits of all the issues in a given `Ocre` instance.  Negative values represent years BCE; positive values represent years CE.\n"
   ]
  },
  {
   "cell_type": "code",
   "execution_count": null,
   "metadata": {},
   "outputs": [],
   "source": [
    "// THe date range object:\n",
    "println(\"Total number of issues in OCRE: \" + ocre.size)\n",
    "println(\"Number of datable issues: \" + ocre.datable.size)\n",
    "\n",
    "println(\"Chronological range of issues in OCRE: \" + ocre.dateRange)\n",
    "println(\"Earliest issue: \" + ocre.minDate)\n",
    "println(\"Latest issues: \" + ocre.maxDate)\n"
   ]
  }
 ],
 "metadata": {
  "kernelspec": {
   "display_name": "Scala (2.12)",
   "language": "scala",
   "name": "scala212"
  },
  "language_info": {
   "codemirror_mode": "text/x-scala",
   "file_extension": ".scala",
   "mimetype": "text/x-scala",
   "name": "scala",
   "nbconvert_exporter": "script",
   "version": "2.12.10"
  }
 },
 "nbformat": 4,
 "nbformat_minor": 2
}
